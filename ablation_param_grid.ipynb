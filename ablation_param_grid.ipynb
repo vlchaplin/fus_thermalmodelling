{
 "cells": [
  {
   "cell_type": "code",
   "execution_count": 1,
   "metadata": {
    "collapsed": false
   },
   "outputs": [],
   "source": [
    "import sys\n",
    "\n",
    "from math import *;\n",
    "\n",
    "sys.path.append('C:\\\\Users\\\\vchaplin\\\\Documents\\\\HiFU\\\\code\\\\myPy')  \n",
    "sys.path.append('C:\\\\Users\\\\vchaplin\\\\Documents\\\\HiFU\\\\code\\\\AblationSims')\n",
    "sys.path.append('C:\\\\Users\\\\Vandiver\\\\Documents\\\\HiFU\\\\code\\\\BioHeatCpp\\\\PBHEswig\\\\x64')\n",
    "\n",
    "import numpy as np\n",
    "import geom\n",
    "import sonalleve\n",
    "import transducers\n",
    "import PBHEswig \n",
    "import argparse\n",
    "import ablation_utils\n",
    "\n",
    "import matplotlib.image as image\n",
    "import matplotlib.pyplot as plt\n",
    "\n",
    "import HookJeeves\n",
    "\n",
    "os.chdir('C:\\\\Users\\\\vchaplin\\\\Documents\\\\HiFU\\\\code\\\\AblationSims\\\\path_optimization\\\\')\n",
    "\n",
    "%matplotlib inline\n",
    "\n"
   ]
  },
  {
   "cell_type": "code",
   "execution_count": 2,
   "metadata": {
    "collapsed": false
   },
   "outputs": [
    {
     "data": {
      "text/plain": [
       "<module 'HookJeeves' from 'C:\\\\Users\\\\vchaplin\\\\Documents\\\\HiFU\\\\code\\\\myPy\\\\HookJeeves.py'>"
      ]
     },
     "execution_count": 2,
     "metadata": {},
     "output_type": "execute_result"
    }
   ],
   "source": [
    "import importlib\n",
    "importlib.reload(HookJeeves)"
   ]
  },
  {
   "cell_type": "code",
   "execution_count": 75,
   "metadata": {
    "collapsed": true
   },
   "outputs": [],
   "source": [
    "del sys.modules['PBHE_CUDA']\n",
    "del PBHE_CUDA"
   ]
  },
  {
   "cell_type": "code",
   "execution_count": 13,
   "metadata": {
    "collapsed": false
   },
   "outputs": [
    {
     "name": "stdout",
     "output_type": "stream",
     "text": [
      "Proceeding with simulation...\n"
     ]
    }
   ],
   "source": [
    "run CirclePathOptimization2.py -gpu -XR 4.0 -YR 4.0 -Nx 60 -Ny 60 -Nz 60 -w 2.0 -speed 0.3 -a 5.0 -I 1000"
   ]
  },
  {
   "cell_type": "code",
   "execution_count": 7,
   "metadata": {
    "collapsed": false
   },
   "outputs": [
    {
     "data": {
      "text/plain": [
       "type"
      ]
     },
     "execution_count": 7,
     "metadata": {},
     "output_type": "execute_result"
    }
   ],
   "source": [
    "type(np.complex)"
   ]
  },
  {
   "cell_type": "code",
   "execution_count": 10,
   "metadata": {
    "collapsed": false
   },
   "outputs": [
    {
     "data": {
      "text/plain": [
       "complex"
      ]
     },
     "execution_count": 10,
     "metadata": {},
     "output_type": "execute_result"
    }
   ],
   "source": [
    "np.complex"
   ]
  },
  {
   "cell_type": "code",
   "execution_count": 19,
   "metadata": {
    "collapsed": false
   },
   "outputs": [
    {
     "data": {
      "text/plain": [
       "0.0"
      ]
     },
     "execution_count": 19,
     "metadata": {},
     "output_type": "execute_result"
    }
   ],
   "source": [
    "(np.float64(1)*1j).real"
   ]
  },
  {
   "cell_type": "code",
   "execution_count": 24,
   "metadata": {
    "collapsed": false
   },
   "outputs": [
    {
     "data": {
      "text/plain": [
       "numpy.complex128"
      ]
     },
     "execution_count": 24,
     "metadata": {},
     "output_type": "execute_result"
    }
   ],
   "source": [
    "qq=np.arange(0,4)*1j\n",
    "pp=np.zeros(2,dtype=type(qq[0]))\n",
    "type(pp[0])"
   ]
  },
  {
   "cell_type": "code",
   "execution_count": null,
   "metadata": {
    "collapsed": false,
    "scrolled": true
   },
   "outputs": [],
   "source": [
    "VolumeObjective_2(x0,verbose=True)"
   ]
  },
  {
   "cell_type": "code",
   "execution_count": 15,
   "metadata": {
    "collapsed": false
   },
   "outputs": [],
   "source": [
    "points,ntrn,nspt= getTraj(x0)"
   ]
  },
  {
   "cell_type": "code",
   "execution_count": null,
   "metadata": {
    "collapsed": false
   },
   "outputs": [],
   "source": [
    "speeds = np.arange(0.3,1.2, 0.1)"
   ]
  },
  {
   "cell_type": "code",
   "execution_count": null,
   "metadata": {
    "collapsed": false
   },
   "outputs": [],
   "source": [
    "roiExtra = np.logical_and( np.sqrt(gxp**2 + gyp**2) <= (1e-3*1.5*maxR_mm), np.abs(gzp-0.14) <= 0.015 )"
   ]
  },
  {
   "cell_type": "code",
   "execution_count": null,
   "metadata": {
    "collapsed": false
   },
   "outputs": [],
   "source": [
    "ObjectiveFunc(x0,show=True)"
   ]
  },
  {
   "cell_type": "code",
   "execution_count": 2,
   "metadata": {
    "collapsed": false
   },
   "outputs": [],
   "source": [
    "def getTraj(vec):\n",
    "    return contstruct_circ_sonication_points(maxR_mm,turnspace_mm,140.,vec[0],vec[1],wait)\n",
    "def plotTraj(vec):\n",
    "    points,nt,numSon = contstruct_circ_sonication_points(maxR_mm,turnspace_mm,140.,vec[0],vec[1],vec[2])\n",
    "    plt.plot(points[:,0], points[:,1], '*-')\n",
    "    return points"
   ]
  },
  {
   "cell_type": "code",
   "execution_count": null,
   "metadata": {
    "collapsed": false
   },
   "outputs": [],
   "source": [
    "numTargetVox = np.sum(roiOnTarget)\n",
    "def func2(param_vec, verbose=False, show=False ):\n",
    "    run_simulation( param_vec, verbose=verbose, show=show)\n",
    "    value = ( np.sum(CEM[roiExtra] >= 240.0) - numTargetVox )**2\n",
    "    print (param_vec, \" -> \", value)\n",
    "    return value"
   ]
  },
  {
   "cell_type": "code",
   "execution_count": null,
   "metadata": {
    "collapsed": false
   },
   "outputs": [],
   "source": [
    "v1 = [1,2,3,4]\n",
    "v2 = [1,2,3]\n",
    "v3 = [1,2]\n",
    "\n",
    "g1,g2,g3 = np.meshgrid(v1,v2,v3,indexing='ij')\n"
   ]
  },
  {
   "cell_type": "code",
   "execution_count": null,
   "metadata": {
    "collapsed": false
   },
   "outputs": [],
   "source": [
    "mm=list( map( lambda x,y,z: (\"{%d, %d, %d}\" % (x,y,z) ), g1.flatten(),g2.flatten(),g3.flatten())  )"
   ]
  },
  {
   "cell_type": "code",
   "execution_count": null,
   "metadata": {
    "collapsed": false
   },
   "outputs": [],
   "source": [
    "dat=np.reshape( mm, [len(v1), len(v2), len(v3)] )"
   ]
  },
  {
   "cell_type": "code",
   "execution_count": null,
   "metadata": {
    "collapsed": false
   },
   "outputs": [],
   "source": [
    "dat[:,:,0]"
   ]
  },
  {
   "cell_type": "code",
   "execution_count": 21,
   "metadata": {
    "collapsed": false
   },
   "outputs": [
    {
     "data": {
      "text/plain": [
       "array([  3.00000000e-01,   5.00000000e+00,   1.00000000e+07])"
      ]
     },
     "execution_count": 21,
     "metadata": {},
     "output_type": "execute_result"
    }
   ],
   "source": [
    "x0"
   ]
  },
  {
   "cell_type": "code",
   "execution_count": 3,
   "metadata": {
    "collapsed": true
   },
   "outputs": [],
   "source": [
    "speeds = np.arange(0.1, 1.0, 0.1)\n",
    "dwells = np.arange(3, 15, 1.0)\n",
    "waits = np.arange(1.0,10.0, 1.0)\n",
    "Is = np.arange(1000.0, 3000.0, 250)*1e4\n",
    "\n",
    "e0,e1,e2 = np.meshgrid(speeds,dwells,waits,indexing='ij')\n",
    "\n",
    "nsims_to_run = np.product(e0.shape)"
   ]
  },
  {
   "cell_type": "code",
   "execution_count": null,
   "metadata": {
    "collapsed": false
   },
   "outputs": [],
   "source": [
    "Fgrid = list( map( lambda sp,dw,wt: VolumeObjective_2(np.array([sp,dw,wt,2000.0]) ) , e0.flatten(), e1.flatten(), e2.flatten() )  )"
   ]
  },
  {
   "cell_type": "code",
   "execution_count": null,
   "metadata": {
    "collapsed": false
   },
   "outputs": [],
   "source": [
    "Fdat=np.reshape( Fgrid, [len(speeds), len(dwells), len(waits)] )"
   ]
  },
  {
   "cell_type": "code",
   "execution_count": null,
   "metadata": {
    "collapsed": false
   },
   "outputs": [],
   "source": [
    "np.min(Fdat)"
   ]
  },
  {
   "cell_type": "code",
   "execution_count": 4,
   "metadata": {
    "collapsed": false
   },
   "outputs": [
    {
     "name": "stdout",
     "output_type": "stream",
     "text": [
      "[  1.00000000e-01   4.75000000e+00   1.50000000e+07]  ->  27008809\n",
      "[  2.00000000e-01   4.75000000e+00   1.50000000e+07]  ->  4251844\n",
      "[  3.00000000e-01   4.75000000e+00   1.50000000e+07]  ->  9778129\n",
      "[  4.00000000e-01   4.75000000e+00   1.50000000e+07]  ->  9796900\n",
      "[  5.00000000e-01   4.75000000e+00   1.50000000e+07]  ->  9796900\n",
      "[  6.00000000e-01   4.75000000e+00   1.50000000e+07]  ->  9796900\n",
      "[  7.00000000e-01   4.75000000e+00   1.50000000e+07]  ->  9796900\n",
      "[  8.00000000e-01   4.75000000e+00   1.50000000e+07]  ->  9796900\n",
      "[  9.00000000e-01   4.75000000e+00   1.50000000e+07]  ->  9796900\n"
     ]
    }
   ],
   "source": [
    "FvsV = list( map( lambda sp: VolumeObjective_2(np.array([sp, 4.75, 1500.0e4]) ) , speeds )  )"
   ]
  },
  {
   "cell_type": "code",
   "execution_count": 5,
   "metadata": {
    "collapsed": false
   },
   "outputs": [
    {
     "name": "stdout",
     "output_type": "stream",
     "text": [
      "[0.3, 3.0, 15000000.0]  ->  9796900\n",
      "[0.3, 4.0, 15000000.0]  ->  9796900\n",
      "[0.3, 5.0, 15000000.0]  ->  9784384\n",
      "[0.3, 6.0, 15000000.0]  ->  9734400\n",
      "[0.3, 7.0, 15000000.0]  ->  9703225\n",
      "[0.3, 8.0, 15000000.0]  ->  9696996\n",
      "[0.3, 9.0, 15000000.0]  ->  9622404\n",
      "[0.3, 10.0, 15000000.0]  ->  9616201\n",
      "[0.3, 11.0, 15000000.0]  ->  9597604\n",
      "[0.3, 12.0, 15000000.0]  ->  9672100\n",
      "[0.3, 13.0, 15000000.0]  ->  9523396\n",
      "[0.3, 14.0, 15000000.0]  ->  9603801\n"
     ]
    }
   ],
   "source": [
    "FvsDw = list( map( lambda dw: VolumeObjective_2([0.3, dw, 1500.0e4] ) , dwells )  )"
   ]
  },
  {
   "cell_type": "code",
   "execution_count": null,
   "metadata": {
    "collapsed": false
   },
   "outputs": [],
   "source": [
    "VolumeObjective_2([0.3, 1.0, 1500e4] )"
   ]
  },
  {
   "cell_type": "code",
   "execution_count": 6,
   "metadata": {
    "collapsed": false
   },
   "outputs": [
    {
     "data": {
      "text/plain": [
       "[<matplotlib.lines.Line2D at 0x7655320>]"
      ]
     },
     "execution_count": 6,
     "metadata": {},
     "output_type": "execute_result"
    },
    {
     "data": {
      "image/png": "[encoded data removed]",
      "text/plain": [
       "<matplotlib.figure.Figure at 0x57d18d0>"
      ]
     },
     "metadata": {},
     "output_type": "display_data"
    }
   ],
   "source": [
    "plt.plot(FvsDw)"
   ]
  },
  {
   "cell_type": "code",
   "execution_count": 1,
   "metadata": {
    "collapsed": false
   },
   "outputs": [
    {
     "ename": "NameError",
     "evalue": "name 'plt' is not defined",
     "output_type": "error",
     "traceback": [
      "\u001b[1;31m---------------------------------------------------------------------------\u001b[0m",
      "\u001b[1;31mNameError\u001b[0m                                 Traceback (most recent call last)",
      "\u001b[1;32m<ipython-input-1-56d33f9a06f6>\u001b[0m in \u001b[0;36m<module>\u001b[1;34m()\u001b[0m\n\u001b[1;32m----> 1\u001b[1;33m \u001b[0mplt\u001b[0m\u001b[1;33m.\u001b[0m\u001b[0msubplot\u001b[0m\u001b[1;33m(\u001b[0m\u001b[1;36m121\u001b[0m\u001b[1;33m)\u001b[0m\u001b[1;33m\u001b[0m\u001b[0m\n\u001b[0m\u001b[0;32m      2\u001b[0m \u001b[0mplt\u001b[0m\u001b[1;33m.\u001b[0m\u001b[0mimshow\u001b[0m\u001b[1;33m(\u001b[0m\u001b[0mroiExtra\u001b[0m\u001b[1;33m[\u001b[0m\u001b[1;33m:\u001b[0m\u001b[1;33m,\u001b[0m\u001b[1;33m:\u001b[0m\u001b[1;33m,\u001b[0m\u001b[0mfocplaneZpix\u001b[0m\u001b[1;33m]\u001b[0m\u001b[1;33m)\u001b[0m\u001b[1;33m\u001b[0m\u001b[0m\n\u001b[0;32m      3\u001b[0m \u001b[0mplt\u001b[0m\u001b[1;33m.\u001b[0m\u001b[0msubplot\u001b[0m\u001b[1;33m(\u001b[0m\u001b[1;36m122\u001b[0m\u001b[1;33m)\u001b[0m\u001b[1;33m\u001b[0m\u001b[0m\n\u001b[0;32m      4\u001b[0m \u001b[0mplt\u001b[0m\u001b[1;33m.\u001b[0m\u001b[0mimshow\u001b[0m\u001b[1;33m(\u001b[0m\u001b[0mroiExtra\u001b[0m\u001b[1;33m[\u001b[0m\u001b[1;33m:\u001b[0m\u001b[1;33m,\u001b[0m\u001b[0mNy\u001b[0m\u001b[1;33m/\u001b[0m\u001b[1;36m2\u001b[0m\u001b[1;33m,\u001b[0m\u001b[1;33m:\u001b[0m\u001b[1;33m]\u001b[0m\u001b[1;33m)\u001b[0m\u001b[1;33m\u001b[0m\u001b[0m\n",
      "\u001b[1;31mNameError\u001b[0m: name 'plt' is not defined"
     ]
    }
   ],
   "source": [
    "plt.subplot(121)\n",
    "plt.imshow(roiExtra[:,:,focplaneZpix])\n",
    "plt.subplot(122)\n",
    "plt.imshow(roiExtra[:,Ny/2,:])"
   ]
  },
  {
   "cell_type": "code",
   "execution_count": null,
   "metadata": {
    "collapsed": false
   },
   "outputs": [],
   "source": [
    "plotTraj([1.1,7.0])\n",
    "plotTraj([1.0,7.0])\n",
    "plotTraj([0.5,7.0])\n",
    "plotTraj([0.4,7.0])\n",
    "plotTraj([0.3,7.0])"
   ]
  },
  {
   "cell_type": "code",
   "execution_count": null,
   "metadata": {
    "collapsed": false
   },
   "outputs": [],
   "source": [
    "plotTraj([0.5,10.0]);\n",
    "plotTraj([10.0,0.5]);"
   ]
  },
  {
   "cell_type": "code",
   "execution_count": 36,
   "metadata": {
    "collapsed": false
   },
   "outputs": [],
   "source": [
    "PBHE_CUDA.ResetGPU()"
   ]
  },
  {
   "cell_type": "code",
   "execution_count": 9,
   "metadata": {
    "collapsed": false
   },
   "outputs": [],
   "source": [
    "x0=[3.0,1.0,2.0,2.5e7]"
   ]
  },
  {
   "cell_type": "code",
   "execution_count": 43,
   "metadata": {
    "collapsed": false
   },
   "outputs": [
    {
     "data": {
      "text/plain": [
       "array([[ -1.41421356e+00,   1.41421356e+00,   1.40000000e+02],\n",
       "       [ -1.41421356e+00,  -1.41421356e+00,   1.40000000e+02],\n",
       "       [  1.41421356e+00,  -1.41421356e+00,   1.40000000e+02],\n",
       "       [  1.41421356e+00,   1.41421356e+00,   1.40000000e+02],\n",
       "       [  4.49106449e+00,   3.97873595e+00,   1.40000000e+02],\n",
       "       [  2.12762932e+00,   5.61009746e+00,   1.40000000e+02],\n",
       "       [ -7.23220082e-01,   5.95625324e+00,   1.40000000e+02],\n",
       "       [ -3.40838848e+00,   4.93790320e+00,   1.40000000e+02],\n",
       "       [ -5.31273615e+00,   2.78833903e+00,   1.40000000e+02],\n",
       "       [ -6.00000000e+00,   3.39932334e-15,   1.40000000e+02],\n",
       "       [ -5.31273615e+00,  -2.78833903e+00,   1.40000000e+02],\n",
       "       [ -3.40838848e+00,  -4.93790320e+00,   1.40000000e+02],\n",
       "       [ -7.23220082e-01,  -5.95625324e+00,   1.40000000e+02],\n",
       "       [  2.12762932e+00,  -5.61009746e+00,   1.40000000e+02],\n",
       "       [  4.49106449e+00,  -3.97873595e+00,   1.40000000e+02],\n",
       "       [  5.82565090e+00,  -1.43589399e+00,   1.40000000e+02],\n",
       "       [  5.82565090e+00,   1.43589399e+00,   1.40000000e+02]])"
      ]
     },
     "execution_count": 43,
     "metadata": {},
     "output_type": "execute_result"
    },
    {
     "data": {
      "image/png": "[encoded data removed]",
      "text/plain": [
       "<matplotlib.figure.Figure at 0x11c4a7b8>"
      ]
     },
     "metadata": {},
     "output_type": "display_data"
    }
   ],
   "source": [
    "plotTraj([3.0, 1., 2.])"
   ]
  },
  {
   "cell_type": "code",
   "execution_count": null,
   "metadata": {
    "collapsed": true
   },
   "outputs": [],
   "source": [
    "PBHE_CUDA.Create_Global_GPU_Session32(*T.shape)"
   ]
  },
  {
   "cell_type": "code",
   "execution_count": null,
   "metadata": {
    "collapsed": true
   },
   "outputs": [],
   "source": [
    "PBHE_CUDA.ResetGPU()"
   ]
  },
  {
   "cell_type": "code",
   "execution_count": 16,
   "metadata": {
    "collapsed": false
   },
   "outputs": [
    {
     "name": "stdout",
     "output_type": "stream",
     "text": [
      "sonication 1\n",
      "0%\n",
      "sonication 2\n",
      "0%\n",
      "sonication 3\n",
      "0%\n",
      "sonication 4\n",
      "0%\n",
      "sonication 5\n",
      "0%\n",
      "sonication 6\n",
      "0%\n",
      "sonication 7\n",
      "0%\n",
      "sonication 8\n",
      "0%\n",
      "sonication 9\n",
      "0%\n",
      "sonication 10\n",
      "0%\n",
      "sonication 11\n",
      "0%\n",
      "sonication 12\n",
      "0%\n",
      "sonication 13\n",
      "0%\n",
      "sonication 14\n",
      "0%\n",
      "sonication 15\n",
      "0%\n",
      "sonication 16\n",
      "0%\n",
      "sonication 17\n",
      "0%\n",
      "[3.0, 1.0, 2.0, 25000000.0]  ->  19448100\n"
     ]
    },
    {
     "data": {
      "text/plain": [
       "19448100"
      ]
     },
     "execution_count": 16,
     "metadata": {},
     "output_type": "execute_result"
    }
   ],
   "source": [
    "#PBHE_CUDA.Create_Global_GPU_Session32(*T.shape)\n",
    "VolumeObjective_4(x0,verbose=True,Npass=1)\n",
    "#PBHE_CUDA.ResetGPU()"
   ]
  },
  {
   "cell_type": "code",
   "execution_count": 11,
   "metadata": {
    "collapsed": false
   },
   "outputs": [
    {
     "data": {
      "text/plain": [
       "<matplotlib.image.AxesImage at 0x74fc940>"
      ]
     },
     "execution_count": 11,
     "metadata": {},
     "output_type": "execute_result"
    },
    {
     "data": {
      "image/png": "[encoded data removed]",
      "text/plain": [
       "<matplotlib.figure.Figure at 0x749d7f0>"
      ]
     },
     "metadata": {},
     "output_type": "display_data"
    }
   ],
   "source": [
    "plt.figure(figsize=(12,9))\n",
    "plt.subplot(121)\n",
    "plt.imshow(CEM[:,:,focplaneZpix],vmin=0,vmax=240,cmap=plt.cm.hot, extent=[1e3*xrp[0], 1e3*xrp[-1], 1e3*yrp[-1], 1e3*yrp[0]])\n",
    "#plotTraj(x0[0:3])\n",
    "plt.subplot(122)\n",
    "plt.imshow(CEM[:,floor(Ny/2),:],vmin=0,vmax=240,cmap=plt.cm.hot, extent=[1e3*zrp[0], 1e3*zrp[-1], 1e3*yrp[-1], 1e3*yrp[0]])"
   ]
  },
  {
   "cell_type": "code",
   "execution_count": 39,
   "metadata": {
    "collapsed": false
   },
   "outputs": [
    {
     "data": {
      "text/plain": [
       "<matplotlib.image.AxesImage at 0xb4783c8>"
      ]
     },
     "execution_count": 39,
     "metadata": {},
     "output_type": "execute_result"
    },
    {
     "data": {
      "image/png": "[encoded data removed]",
      "text/plain": [
       "<matplotlib.figure.Figure at 0xb402b38>"
      ]
     },
     "metadata": {},
     "output_type": "display_data"
    }
   ],
   "source": [
    "plt.figure(figsize=(12,9))\n",
    "plt.subplot(121)\n",
    "plt.imshow(CEM[:,:,focplaneZpix],vmin=0,vmax=240,cmap=plt.cm.hot, extent=[1e3*xrp[0], 1e3*xrp[-1], 1e3*yrp[-1], 1e3*yrp[0]])\n",
    "#plt.plot(points[:,0], points[:,1], '-*b')\n",
    "plotTraj(x0)\n",
    "plt.subplot(122)\n",
    "plt.imshow(CEM[:,floor(Ny/2),:],vmin=0,vmax=240,cmap=plt.cm.hot, extent=[1e3*zrp[0], 1e3*zrp[-1], 1e3*yrp[-1], 1e3*yrp[0]])"
   ]
  },
  {
   "cell_type": "code",
   "execution_count": 12,
   "metadata": {
    "collapsed": false
   },
   "outputs": [
    {
     "data": {
      "text/plain": [
       "<matplotlib.image.AxesImage at 0x8ee5da0>"
      ]
     },
     "execution_count": 12,
     "metadata": {},
     "output_type": "execute_result"
    },
    {
     "data": {
      "image/png": "[encoded data removed]",
      "text/plain": [
       "<matplotlib.figure.Figure at 0x7480f60>"
      ]
     },
     "metadata": {},
     "output_type": "display_data"
    }
   ],
   "source": [
    "plt.figure(figsize=(12,9))\n",
    "plt.subplot(121)\n",
    "extXY=[1000*yrp[0],1000*yrp[-1],1000*xrp[-1],1000*xrp[0]]\n",
    "plt.imshow((T[0][:,:,focplaneZpix]), extent=extXY, alpha=1.0,vmin=37,vmax=60, cmap=plt.cm.hot  )\n",
    "plt.imshow((roiOnTarget[:,:,focplaneZpix]), extent=extXY, alpha=0.35,vmin=0,vmax=1, cmap=plt.cm.gray  )\n",
    "plt.imshow((roiExtra[:,:,focplaneZpix]), extent=extXY, alpha=0.15,vmin=0,vmax=1, cmap=plt.cm.gray  )\n",
    "\n",
    "#plt.plot(points[:,0], points[:,1], '-*b')\n",
    "#plotTraj(x0)\n",
    "plt.subplot(122)\n",
    "extXZ=[1000*zrp[0],1000*zrp[-1],1000*xrp[-1],1000*xrp[0]]\n",
    "plt.imshow((T[0][:,floor(Ny/2),:]),extent=extXZ, alpha=1.0,vmin=37,vmax=60, cmap=plt.cm.hot  )\n",
    "plt.imshow((roiOnTarget[:,floor(Ny/2),:]),extent=extXZ, alpha=0.35,vmin=0,vmax=1, cmap=plt.cm.gray  )\n",
    "plt.imshow((roiExtra[:,floor(Ny/2),:]),extent=extXZ, alpha=0.15,vmin=0,vmax=1, cmap=plt.cm.gray  )"
   ]
  },
  {
   "cell_type": "code",
   "execution_count": 11,
   "metadata": {
    "collapsed": false
   },
   "outputs": [
    {
     "data": {
      "text/plain": [
       "<matplotlib.image.AxesImage at 0xe10a3c8>"
      ]
     },
     "execution_count": 11,
     "metadata": {},
     "output_type": "execute_result"
    },
    {
     "data": {
      "image/png": "[encoded data removed]",
      "text/plain": [
       "<matplotlib.figure.Figure at 0xe02b780>"
      ]
     },
     "metadata": {},
     "output_type": "display_data"
    }
   ],
   "source": [
    "plt.figure(figsize=(12,9))\n",
    "plt.subplot(121)\n",
    "plt.imshow(np.transpose(T[0][:,:,focplaneZpix]),vmin=37,vmax=60,cmap=plt.cm.hot, extent=[1e3*yrp[0], 1e3*yrp[-1], 1e3*xrp[-1], 1e3*xrp[0]])\n",
    "#plt.plot(points[:,0], points[:,1], '-*b')\n",
    "plotTraj([0.3,10,2.0])\n",
    "plt.subplot(122)\n",
    "plt.imshow((T[0][:,floor(Ny/2),:]),vmin=37,vmax=60,cmap=plt.cm.hot, extent=[1e3*zrp[0], 1e3*zrp[-1], 1e3*xrp[-1], 1e3*xrp[0]])"
   ]
  },
  {
   "cell_type": "code",
   "execution_count": 2,
   "metadata": {
    "collapsed": false
   },
   "outputs": [
    {
     "name": "stdout",
     "output_type": "stream",
     "text": [
      "Proceeding with simulation...\n"
     ]
    }
   ],
   "source": [
    "run CirclePathOptimization4.py -gpu -XR 4.0 -YR 4.0 -Nt 100 -Nx 60 -Ny 60 -Nz 60 -w 2.0 -d 4.0 -speed 2.0 -a 2.0 -I 2000 "
   ]
  },
  {
   "cell_type": "code",
   "execution_count": 3,
   "metadata": {
    "collapsed": true
   },
   "outputs": [],
   "source": [
    "PBHE_CUDA.Create_Global_GPU_Session32(*T.shape)"
   ]
  },
  {
   "cell_type": "code",
   "execution_count": 14,
   "metadata": {
    "collapsed": true
   },
   "outputs": [],
   "source": [
    "PBHE_CUDA.ResetGPU()"
   ]
  },
  {
   "cell_type": "code",
   "execution_count": 4,
   "metadata": {
    "collapsed": false
   },
   "outputs": [
    {
     "data": {
      "text/plain": [
       "168"
      ]
     },
     "execution_count": 4,
     "metadata": {},
     "output_type": "execute_result"
    }
   ],
   "source": [
    "speeds = np.arange(0.6, 2.0, 0.1)\n",
    "dwells = np.arange(2, 5.0, 0.5)\n",
    "waits = np.arange(2.0,6.0, 2.0)\n",
    "Is = np.arange(1000.0, 3000.0, 250)*1e4\n",
    "Is = [2.0e7]\n",
    "Npass=2\n",
    "\n",
    "e0,e1,e2,e3 = np.meshgrid(speeds,dwells,waits,Is,indexing='ij')\n",
    "\n",
    "nsims_to_run = np.product(e0.shape)\n",
    "nsims_to_run"
   ]
  },
  {
   "cell_type": "code",
   "execution_count": 5,
   "metadata": {
    "collapsed": false
   },
   "outputs": [],
   "source": [
    "paramsFgrid = list( map( lambda sp,dw,wt,I: (np.array([sp,dw,wt,I]) ) , e0.flatten(), e1.flatten(), e2.flatten(), e3.flatten() ))"
   ]
  },
  {
   "cell_type": "code",
   "execution_count": 9,
   "metadata": {
    "collapsed": false
   },
   "outputs": [
    {
     "name": "stdout",
     "output_type": "stream",
     "text": [
      "[  6.00000000e-01   2.00000000e+00   4.00000000e+00   2.50000000e+07]  ->  19448100\n"
     ]
    },
    {
     "data": {
      "text/plain": [
       "19448100"
      ]
     },
     "execution_count": 9,
     "metadata": {},
     "output_type": "execute_result"
    }
   ],
   "source": [
    "VolumeObjective_4(paramsFgrid[1], Npass=Npass)"
   ]
  },
  {
   "cell_type": "code",
   "execution_count": 8,
   "metadata": {
    "collapsed": false
   },
   "outputs": [
    {
     "data": {
      "text/plain": [
       "20"
      ]
     },
     "execution_count": 8,
     "metadata": {},
     "output_type": "execute_result"
    }
   ],
   "source": [
    "Nt"
   ]
  },
  {
   "cell_type": "code",
   "execution_count": 6,
   "metadata": {
    "collapsed": false
   },
   "outputs": [
    {
     "name": "stdout",
     "output_type": "stream",
     "text": [
      "[  6.00000000e-01   2.00000000e+00   2.00000000e+00   2.00000000e+07]  ->  13126129\n",
      "[  6.00000000e-01   2.00000000e+00   4.00000000e+00   2.00000000e+07]  ->  19360000\n",
      "[  6.00000000e-01   2.50000000e+00   2.00000000e+00   2.00000000e+07]  ->  8625969\n",
      "[  6.00000000e-01   2.50000000e+00   4.00000000e+00   2.00000000e+07]  ->  18020025\n",
      "[  6.00000000e-01   3.00000000e+00   2.00000000e+00   2.00000000e+07]  ->  4691556\n",
      "[  6.00000000e-01   3.00000000e+00   4.00000000e+00   2.00000000e+07]  ->  14386849\n",
      "[  6.00000000e-01   3.50000000e+00   2.00000000e+00   2.00000000e+07]  ->  3193369\n",
      "[  6.00000000e-01   3.50000000e+00   4.00000000e+00   2.00000000e+07]  ->  11771761\n",
      "[  6.00000000e-01   4.00000000e+00   2.00000000e+00   2.00000000e+07]  ->  2371600\n",
      "[  6.00000000e-01   4.00000000e+00   4.00000000e+00   2.00000000e+07]  ->  9535744\n",
      "[  6.00000000e-01   4.50000000e+00   2.00000000e+00   2.00000000e+07]  ->  683929\n",
      "[  6.00000000e-01   4.50000000e+00   4.00000000e+00   2.00000000e+07]  ->  5244100\n",
      "[  7.00000000e-01   2.00000000e+00   2.00000000e+00   2.00000000e+07]  ->  18679684\n",
      "[  7.00000000e-01   2.00000000e+00   4.00000000e+00   2.00000000e+07]  ->  19448100\n",
      "[  7.00000000e-01   2.50000000e+00   2.00000000e+00   2.00000000e+07]  ->  16801801\n",
      "[  7.00000000e-01   2.50000000e+00   4.00000000e+00   2.00000000e+07]  ->  19448100\n",
      "[  7.00000000e-01   3.00000000e+00   2.00000000e+00   2.00000000e+07]  ->  14969161\n",
      "[  7.00000000e-01   3.00000000e+00   4.00000000e+00   2.00000000e+07]  ->  19158129\n",
      "[  7.00000000e-01   3.50000000e+00   2.00000000e+00   2.00000000e+07]  ->  14915044\n",
      "[  7.00000000e-01   3.50000000e+00   4.00000000e+00   2.00000000e+07]  ->  18783556\n",
      "[  7.00000000e-01   4.00000000e+00   2.00000000e+00   2.00000000e+07]  ->  15594601\n",
      "[  7.00000000e-01   4.00000000e+00   4.00000000e+00   2.00000000e+07]  ->  18301284\n",
      "[  7.00000000e-01   4.50000000e+00   2.00000000e+00   2.00000000e+07]  ->  10679824\n",
      "[  7.00000000e-01   4.50000000e+00   4.00000000e+00   2.00000000e+07]  ->  15824484\n",
      "[  8.00000000e-01   2.00000000e+00   2.00000000e+00   2.00000000e+07]  ->  19448100\n",
      "[  8.00000000e-01   2.00000000e+00   4.00000000e+00   2.00000000e+07]  ->  19448100\n",
      "[  8.00000000e-01   2.50000000e+00   2.00000000e+00   2.00000000e+07]  ->  19386409\n",
      "[  8.00000000e-01   2.50000000e+00   4.00000000e+00   2.00000000e+07]  ->  19448100\n",
      "[  8.00000000e-01   3.00000000e+00   2.00000000e+00   2.00000000e+07]  ->  19175641\n",
      "[  8.00000000e-01   3.00000000e+00   4.00000000e+00   2.00000000e+07]  ->  19448100\n",
      "[  8.00000000e-01   3.50000000e+00   2.00000000e+00   2.00000000e+07]  ->  19096900\n",
      "[  8.00000000e-01   3.50000000e+00   4.00000000e+00   2.00000000e+07]  ->  19351201\n",
      "[  8.00000000e-01   4.00000000e+00   2.00000000e+00   2.00000000e+07]  ->  17556100\n",
      "[  8.00000000e-01   4.00000000e+00   4.00000000e+00   2.00000000e+07]  ->  18905104\n",
      "[  8.00000000e-01   4.50000000e+00   2.00000000e+00   2.00000000e+07]  ->  18498601\n",
      "[  8.00000000e-01   4.50000000e+00   4.00000000e+00   2.00000000e+07]  ->  18662400\n",
      "[  9.00000000e-01   2.00000000e+00   2.00000000e+00   2.00000000e+07]  ->  19448100\n",
      "[  9.00000000e-01   2.00000000e+00   4.00000000e+00   2.00000000e+07]  ->  19448100\n",
      "[  9.00000000e-01   2.50000000e+00   2.00000000e+00   2.00000000e+07]  ->  19448100\n",
      "[  9.00000000e-01   2.50000000e+00   4.00000000e+00   2.00000000e+07]  ->  19448100\n",
      "[  9.00000000e-01   3.00000000e+00   2.00000000e+00   2.00000000e+07]  ->  19430464\n",
      "[  9.00000000e-01   3.00000000e+00   4.00000000e+00   2.00000000e+07]  ->  19448100\n",
      "[  9.00000000e-01   3.50000000e+00   2.00000000e+00   2.00000000e+07]  ->  19254544\n",
      "[  9.00000000e-01   3.50000000e+00   4.00000000e+00   2.00000000e+07]  ->  19272100\n",
      "[  9.00000000e-01   4.00000000e+00   2.00000000e+00   2.00000000e+07]  ->  19123129\n",
      "[  9.00000000e-01   4.00000000e+00   4.00000000e+00   2.00000000e+07]  ->  19053225\n",
      "[  9.00000000e-01   4.50000000e+00   2.00000000e+00   2.00000000e+07]  ->  18757561\n",
      "[  9.00000000e-01   4.50000000e+00   4.00000000e+00   2.00000000e+07]  ->  18740241\n",
      "[  1.00000000e+00   2.00000000e+00   2.00000000e+00   2.00000000e+07]  ->  19448100\n",
      "[  1.00000000e+00   2.00000000e+00   4.00000000e+00   2.00000000e+07]  ->  19448100\n",
      "[  1.00000000e+00   2.50000000e+00   2.00000000e+00   2.00000000e+07]  ->  19448100\n",
      "[  1.00000000e+00   2.50000000e+00   4.00000000e+00   2.00000000e+07]  ->  19448100\n",
      "[  1.00000000e+00   3.00000000e+00   2.00000000e+00   2.00000000e+07]  ->  19430464\n",
      "[  1.00000000e+00   3.00000000e+00   4.00000000e+00   2.00000000e+07]  ->  19430464\n",
      "[  1.00000000e+00   3.50000000e+00   2.00000000e+00   2.00000000e+07]  ->  19316025\n",
      "[  1.00000000e+00   3.50000000e+00   4.00000000e+00   2.00000000e+07]  ->  19333609\n",
      "[  1.00000000e+00   4.00000000e+00   2.00000000e+00   2.00000000e+07]  ->  19193161\n",
      "[  1.00000000e+00   4.00000000e+00   4.00000000e+00   2.00000000e+07]  ->  19114384\n",
      "[  1.00000000e+00   4.50000000e+00   2.00000000e+00   2.00000000e+07]  ->  18966025\n",
      "[  1.00000000e+00   4.50000000e+00   4.00000000e+00   2.00000000e+07]  ->  18800896\n",
      "[  1.10000000e+00   2.00000000e+00   2.00000000e+00   2.00000000e+07]  ->  19448100\n",
      "[  1.10000000e+00   2.00000000e+00   4.00000000e+00   2.00000000e+07]  ->  19448100\n",
      "[  1.10000000e+00   2.50000000e+00   2.00000000e+00   2.00000000e+07]  ->  19448100\n",
      "[  1.10000000e+00   2.50000000e+00   4.00000000e+00   2.00000000e+07]  ->  19448100\n",
      "[  1.10000000e+00   3.00000000e+00   2.00000000e+00   2.00000000e+07]  ->  19430464\n",
      "[  1.10000000e+00   3.00000000e+00   4.00000000e+00   2.00000000e+07]  ->  19448100\n",
      "[  1.10000000e+00   3.50000000e+00   2.00000000e+00   2.00000000e+07]  ->  19342404\n",
      "[  1.10000000e+00   3.50000000e+00   4.00000000e+00   2.00000000e+07]  ->  19404025\n",
      "[  1.10000000e+00   4.00000000e+00   2.00000000e+00   2.00000000e+07]  ->  19193161\n",
      "[  1.10000000e+00   4.00000000e+00   4.00000000e+00   2.00000000e+07]  ->  19114384\n",
      "[  1.10000000e+00   4.50000000e+00   2.00000000e+00   2.00000000e+07]  ->  18966025\n",
      "[  1.10000000e+00   4.50000000e+00   4.00000000e+00   2.00000000e+07]  ->  18800896\n",
      "[  1.20000000e+00   2.00000000e+00   2.00000000e+00   2.00000000e+07]  ->  19448100\n",
      "[  1.20000000e+00   2.00000000e+00   4.00000000e+00   2.00000000e+07]  ->  19448100\n",
      "[  1.20000000e+00   2.50000000e+00   2.00000000e+00   2.00000000e+07]  ->  19448100\n",
      "[  1.20000000e+00   2.50000000e+00   4.00000000e+00   2.00000000e+07]  ->  19448100\n",
      "[  1.20000000e+00   3.00000000e+00   2.00000000e+00   2.00000000e+07]  ->  19448100\n",
      "[  1.20000000e+00   3.00000000e+00   4.00000000e+00   2.00000000e+07]  ->  19430464\n",
      "[  1.20000000e+00   3.50000000e+00   2.00000000e+00   2.00000000e+07]  ->  19395216\n",
      "[  1.20000000e+00   3.50000000e+00   4.00000000e+00   2.00000000e+07]  ->  19412836\n",
      "[  1.20000000e+00   4.00000000e+00   2.00000000e+00   2.00000000e+07]  ->  19158129\n",
      "[  1.20000000e+00   4.00000000e+00   4.00000000e+00   2.00000000e+07]  ->  19184400\n",
      "[  1.20000000e+00   4.50000000e+00   2.00000000e+00   2.00000000e+07]  ->  19035769\n",
      "[  1.20000000e+00   4.50000000e+00   4.00000000e+00   2.00000000e+07]  ->  19201924\n",
      "[  1.30000000e+00   2.00000000e+00   2.00000000e+00   2.00000000e+07]  ->  19448100\n",
      "[  1.30000000e+00   2.00000000e+00   4.00000000e+00   2.00000000e+07]  ->  19448100\n",
      "[  1.30000000e+00   2.50000000e+00   2.00000000e+00   2.00000000e+07]  ->  19448100\n",
      "[  1.30000000e+00   2.50000000e+00   4.00000000e+00   2.00000000e+07]  ->  19448100\n",
      "[  1.30000000e+00   3.00000000e+00   2.00000000e+00   2.00000000e+07]  ->  19448100\n",
      "[  1.30000000e+00   3.00000000e+00   4.00000000e+00   2.00000000e+07]  ->  19430464\n",
      "[  1.30000000e+00   3.50000000e+00   2.00000000e+00   2.00000000e+07]  ->  19386409\n",
      "[  1.30000000e+00   3.50000000e+00   4.00000000e+00   2.00000000e+07]  ->  19448100\n",
      "[  1.30000000e+00   4.00000000e+00   2.00000000e+00   2.00000000e+07]  ->  19342404\n",
      "[  1.30000000e+00   4.00000000e+00   4.00000000e+00   2.00000000e+07]  ->  19307236\n",
      "[  1.30000000e+00   4.50000000e+00   2.00000000e+00   2.00000000e+07]  ->  19210689\n",
      "[  1.30000000e+00   4.50000000e+00   4.00000000e+00   2.00000000e+07]  ->  19184400\n",
      "[  1.40000000e+00   2.00000000e+00   2.00000000e+00   2.00000000e+07]  ->  19448100\n",
      "[  1.40000000e+00   2.00000000e+00   4.00000000e+00   2.00000000e+07]  ->  19448100\n",
      "[  1.40000000e+00   2.50000000e+00   2.00000000e+00   2.00000000e+07]  ->  19448100\n",
      "[  1.40000000e+00   2.50000000e+00   4.00000000e+00   2.00000000e+07]  ->  19448100\n",
      "[  1.40000000e+00   3.00000000e+00   2.00000000e+00   2.00000000e+07]  ->  19448100\n",
      "[  1.40000000e+00   3.00000000e+00   4.00000000e+00   2.00000000e+07]  ->  19448100\n",
      "[  1.40000000e+00   3.50000000e+00   2.00000000e+00   2.00000000e+07]  ->  19386409\n",
      "[  1.40000000e+00   3.50000000e+00   4.00000000e+00   2.00000000e+07]  ->  19448100\n",
      "[  1.40000000e+00   4.00000000e+00   2.00000000e+00   2.00000000e+07]  ->  19342404\n",
      "[  1.40000000e+00   4.00000000e+00   4.00000000e+00   2.00000000e+07]  ->  19307236\n",
      "[  1.40000000e+00   4.50000000e+00   2.00000000e+00   2.00000000e+07]  ->  19210689\n",
      "[  1.40000000e+00   4.50000000e+00   4.00000000e+00   2.00000000e+07]  ->  19184400\n",
      "[  1.50000000e+00   2.00000000e+00   2.00000000e+00   2.00000000e+07]  ->  19448100\n",
      "[  1.50000000e+00   2.00000000e+00   4.00000000e+00   2.00000000e+07]  ->  19448100\n",
      "[  1.50000000e+00   2.50000000e+00   2.00000000e+00   2.00000000e+07]  ->  19448100\n",
      "[  1.50000000e+00   2.50000000e+00   4.00000000e+00   2.00000000e+07]  ->  19448100\n",
      "[  1.50000000e+00   3.00000000e+00   2.00000000e+00   2.00000000e+07]  ->  19448100\n",
      "[  1.50000000e+00   3.00000000e+00   4.00000000e+00   2.00000000e+07]  ->  19448100\n",
      "[  1.50000000e+00   3.50000000e+00   2.00000000e+00   2.00000000e+07]  ->  19412836\n",
      "[  1.50000000e+00   3.50000000e+00   4.00000000e+00   2.00000000e+07]  ->  19430464\n",
      "[  1.50000000e+00   4.00000000e+00   2.00000000e+00   2.00000000e+07]  ->  19298449\n",
      "[  1.50000000e+00   4.00000000e+00   4.00000000e+00   2.00000000e+07]  ->  19324816\n",
      "[  1.50000000e+00   4.50000000e+00   2.00000000e+00   2.00000000e+07]  ->  19210689\n",
      "[  1.50000000e+00   4.50000000e+00   4.00000000e+00   2.00000000e+07]  ->  19184400\n",
      "[  1.60000000e+00   2.00000000e+00   2.00000000e+00   2.00000000e+07]  ->  19448100\n",
      "[  1.60000000e+00   2.00000000e+00   4.00000000e+00   2.00000000e+07]  ->  19448100\n",
      "[  1.60000000e+00   2.50000000e+00   2.00000000e+00   2.00000000e+07]  ->  19448100\n",
      "[  1.60000000e+00   2.50000000e+00   4.00000000e+00   2.00000000e+07]  ->  19448100\n",
      "[  1.60000000e+00   3.00000000e+00   2.00000000e+00   2.00000000e+07]  ->  19448100\n",
      "[  1.60000000e+00   3.00000000e+00   4.00000000e+00   2.00000000e+07]  ->  19448100\n",
      "[  1.60000000e+00   3.50000000e+00   2.00000000e+00   2.00000000e+07]  ->  19412836\n",
      "[  1.60000000e+00   3.50000000e+00   4.00000000e+00   2.00000000e+07]  ->  19430464\n",
      "[  1.60000000e+00   4.00000000e+00   2.00000000e+00   2.00000000e+07]  ->  19298449\n",
      "[  1.60000000e+00   4.00000000e+00   4.00000000e+00   2.00000000e+07]  ->  19324816\n",
      "[  1.60000000e+00   4.50000000e+00   2.00000000e+00   2.00000000e+07]  ->  19316025\n",
      "[  1.60000000e+00   4.50000000e+00   4.00000000e+00   2.00000000e+07]  ->  19245769\n",
      "[  1.70000000e+00   2.00000000e+00   2.00000000e+00   2.00000000e+07]  ->  19448100\n",
      "[  1.70000000e+00   2.00000000e+00   4.00000000e+00   2.00000000e+07]  ->  19448100\n",
      "[  1.70000000e+00   2.50000000e+00   2.00000000e+00   2.00000000e+07]  ->  19448100\n",
      "[  1.70000000e+00   2.50000000e+00   4.00000000e+00   2.00000000e+07]  ->  19448100\n",
      "[  1.70000000e+00   3.00000000e+00   2.00000000e+00   2.00000000e+07]  ->  19448100\n",
      "[  1.70000000e+00   3.00000000e+00   4.00000000e+00   2.00000000e+07]  ->  19448100\n",
      "[  1.70000000e+00   3.50000000e+00   2.00000000e+00   2.00000000e+07]  ->  19412836\n",
      "[  1.70000000e+00   3.50000000e+00   4.00000000e+00   2.00000000e+07]  ->  19448100\n",
      "[  1.70000000e+00   4.00000000e+00   2.00000000e+00   2.00000000e+07]  ->  19298449\n",
      "[  1.70000000e+00   4.00000000e+00   4.00000000e+00   2.00000000e+07]  ->  19324816\n",
      "[  1.70000000e+00   4.50000000e+00   2.00000000e+00   2.00000000e+07]  ->  19316025\n",
      "[  1.70000000e+00   4.50000000e+00   4.00000000e+00   2.00000000e+07]  ->  19245769\n",
      "[  1.80000000e+00   2.00000000e+00   2.00000000e+00   2.00000000e+07]  ->  19448100\n",
      "[  1.80000000e+00   2.00000000e+00   4.00000000e+00   2.00000000e+07]  ->  19448100\n",
      "[  1.80000000e+00   2.50000000e+00   2.00000000e+00   2.00000000e+07]  ->  19448100\n",
      "[  1.80000000e+00   2.50000000e+00   4.00000000e+00   2.00000000e+07]  ->  19448100\n",
      "[  1.80000000e+00   3.00000000e+00   2.00000000e+00   2.00000000e+07]  ->  19448100\n",
      "[  1.80000000e+00   3.00000000e+00   4.00000000e+00   2.00000000e+07]  ->  19448100\n",
      "[  1.80000000e+00   3.50000000e+00   2.00000000e+00   2.00000000e+07]  ->  19412836\n",
      "[  1.80000000e+00   3.50000000e+00   4.00000000e+00   2.00000000e+07]  ->  19448100\n",
      "[  1.80000000e+00   4.00000000e+00   2.00000000e+00   2.00000000e+07]  ->  19360000\n",
      "[  1.80000000e+00   4.00000000e+00   4.00000000e+00   2.00000000e+07]  ->  19421649\n",
      "[  1.80000000e+00   4.50000000e+00   2.00000000e+00   2.00000000e+07]  ->  19316025\n",
      "[  1.80000000e+00   4.50000000e+00   4.00000000e+00   2.00000000e+07]  ->  19245769\n",
      "[  1.90000000e+00   2.00000000e+00   2.00000000e+00   2.00000000e+07]  ->  19448100\n",
      "[  1.90000000e+00   2.00000000e+00   4.00000000e+00   2.00000000e+07]  ->  19448100\n",
      "[  1.90000000e+00   2.50000000e+00   2.00000000e+00   2.00000000e+07]  ->  19448100\n",
      "[  1.90000000e+00   2.50000000e+00   4.00000000e+00   2.00000000e+07]  ->  19448100\n",
      "[  1.90000000e+00   3.00000000e+00   2.00000000e+00   2.00000000e+07]  ->  19448100\n",
      "[  1.90000000e+00   3.00000000e+00   4.00000000e+00   2.00000000e+07]  ->  19448100\n",
      "[  1.90000000e+00   3.50000000e+00   2.00000000e+00   2.00000000e+07]  ->  19412836\n",
      "[  1.90000000e+00   3.50000000e+00   4.00000000e+00   2.00000000e+07]  ->  19448100\n",
      "[  1.90000000e+00   4.00000000e+00   2.00000000e+00   2.00000000e+07]  ->  19360000\n",
      "[  1.90000000e+00   4.00000000e+00   4.00000000e+00   2.00000000e+07]  ->  19421649\n",
      "[  1.90000000e+00   4.50000000e+00   2.00000000e+00   2.00000000e+07]  ->  19430464\n",
      "[  1.90000000e+00   4.50000000e+00   4.00000000e+00   2.00000000e+07]  ->  19448100\n"
     ]
    }
   ],
   "source": [
    "Fgrid = list( map( lambda sp,dw,wt,I: VolumeObjective_4(np.array([sp,dw,wt,I]), Npass=Npass  ) , e0.flatten(), e1.flatten(), e2.flatten(), e3.flatten() )  )"
   ]
  },
  {
   "cell_type": "code",
   "execution_count": null,
   "metadata": {
    "collapsed": false
   },
   "outputs": [],
   "source": [
    "plt.imshow(roiExtra[:,:,focplaneZpix])"
   ]
  },
  {
   "cell_type": "code",
   "execution_count": 77,
   "metadata": {
    "collapsed": false
   },
   "outputs": [
    {
     "data": {
      "text/plain": [
       "(2, 12, 4, 4)"
      ]
     },
     "execution_count": 77,
     "metadata": {},
     "output_type": "execute_result"
    }
   ],
   "source": [
    "e2[]"
   ]
  },
  {
   "cell_type": "code",
   "execution_count": 26,
   "metadata": {
    "collapsed": false
   },
   "outputs": [],
   "source": [
    "params=np.reshape( paramsFgrid, [2,12,4,4 ,4] )"
   ]
  },
  {
   "cell_type": "code",
   "execution_count": 81,
   "metadata": {
    "collapsed": false
   },
   "outputs": [],
   "source": [
    "Fdat=np.reshape( Fgrid, e0.shape )"
   ]
  },
  {
   "cell_type": "code",
   "execution_count": 82,
   "metadata": {
    "collapsed": false
   },
   "outputs": [
    {
     "data": {
      "text/plain": [
       "(13, 12, 4, 8)"
      ]
     },
     "execution_count": 82,
     "metadata": {},
     "output_type": "execute_result"
    }
   ],
   "source": [
    "Fdat.shape"
   ]
  },
  {
   "cell_type": "markdown",
   "metadata": {},
   "source": [
    "#### Save the simulation"
   ]
  },
  {
   "cell_type": "code",
   "execution_count": 97,
   "metadata": {
    "collapsed": true
   },
   "outputs": [],
   "source": [
    "import importlib\n",
    "import h5py"
   ]
  },
  {
   "cell_type": "code",
   "execution_count": 107,
   "metadata": {
    "collapsed": false
   },
   "outputs": [
    {
     "data": {
      "text/plain": [
       "<module 'ablation_utils' from 'C:\\\\Users\\\\vchaplin\\\\Documents\\\\HiFU\\\\code\\\\AblationSims\\\\ablation_utils.py'>"
      ]
     },
     "execution_count": 107,
     "metadata": {},
     "output_type": "execute_result"
    }
   ],
   "source": [
    "importlib.reload(ablation_utils)"
   ]
  },
  {
   "cell_type": "code",
   "execution_count": 128,
   "metadata": {
    "collapsed": false
   },
   "outputs": [],
   "source": [
    "#define a new file\n",
    "#filename='C:\\\\Users\\\\Vandiver\\\\Data\\\\simulations\\\\param_grid\\\\LargeCuda_Obj4_old.h5'\n",
    "\n",
    "f =h5py.File(filename, \"w\")\n",
    "\n",
    "ablation_utils.write_xyz_simulation_coords(f, gxp=gxp, gyp=gyp,gzp=gzp,xrp=xrp,yrp=yrp,zrp=zrp,roiON=roiOnTarget,roiOFF=roiOffTarget,roiEXTRA=roiExtra)\n",
    "\n",
    "names=[\"speed\", \"dwell\", \"wait\", \"Ispta0\"]\n",
    "units=[\"mm/s\", \"sec\", \"sec\", \"W/m^2\"]\n",
    "ablation_utils.write_parameter_space(f,Fdat,paramsFgrid, names, units=units, scoringfunc='VolumeObjective_4')\n",
    "\n",
    "f.close()"
   ]
  },
  {
   "cell_type": "markdown",
   "metadata": {},
   "source": [
    "----"
   ]
  },
  {
   "cell_type": "code",
   "execution_count": 87,
   "metadata": {
    "collapsed": false
   },
   "outputs": [],
   "source": [
    "ii=np.argmin(Fdat)\n",
    "\n",
    "(e0mi,e1mi,e2mi,e3mi)=np.unravel_index(ii,Fdat.shape)\n",
    "minTuple=(e0mi,e1mi,e2mi,e3mi)\n",
    "minVec = [e0[minTuple], e1[minTuple], e2[minTuple], e3[minTuple]]\n",
    "\n",
    "Fmin=np.min(Fdat)\n",
    "Fmax=np.max(Fdat)\n"
   ]
  },
  {
   "cell_type": "code",
   "execution_count": 124,
   "metadata": {
    "collapsed": false
   },
   "outputs": [],
   "source": [
    "f.close()"
   ]
  },
  {
   "cell_type": "code",
   "execution_count": 89,
   "metadata": {
    "collapsed": false
   },
   "outputs": [
    {
     "data": {
      "text/plain": [
       "[0.20000000000000001, 3.0, 2.0, 17500000.0]"
      ]
     },
     "execution_count": 89,
     "metadata": {},
     "output_type": "execute_result"
    }
   ],
   "source": [
    "minVec"
   ]
  },
  {
   "cell_type": "code",
   "execution_count": 85,
   "metadata": {
    "collapsed": false
   },
   "outputs": [
    {
     "name": "stdout",
     "output_type": "stream",
     "text": [
      "[  2.00000000e-01   6.00000000e+00   8.00000000e+00   2.00000000e+07]  ->  1849\n"
     ]
    },
    {
     "data": {
      "text/plain": [
       "1849"
      ]
     },
     "execution_count": 85,
     "metadata": {},
     "output_type": "execute_result"
    }
   ],
   "source": [
    "VolumeObjective_4(np.array(minVec) )"
   ]
  },
  {
   "cell_type": "code",
   "execution_count": 110,
   "metadata": {
    "collapsed": true
   },
   "outputs": [],
   "source": [
    "f =h5py.File(filename, \"r\")\n"
   ]
  },
  {
   "cell_type": "code",
   "execution_count": 113,
   "metadata": {
    "collapsed": false
   },
   "outputs": [
    {
     "data": {
      "text/plain": [
       "4"
      ]
     },
     "execution_count": 113,
     "metadata": {},
     "output_type": "execute_result"
    }
   ],
   "source": [
    "f['param_grid'].attrs['Ndims']"
   ]
  },
  {
   "cell_type": "code",
   "execution_count": 136,
   "metadata": {
    "collapsed": false
   },
   "outputs": [
    {
     "name": "stdout",
     "output_type": "stream",
     "text": [
      "sonication 1\n",
      "0%\n",
      "10%\n",
      "20%\n",
      "30%\n",
      "40%\n",
      "50%\n",
      "60%\n",
      "70%\n",
      "80%\n",
      "90%\n",
      "sonication 2\n",
      "0%\n",
      "10%\n",
      "20%\n",
      "30%\n",
      "40%\n",
      "50%\n",
      "60%\n",
      "70%\n",
      "80%\n",
      "90%\n",
      "sonication 3\n",
      "0%\n",
      "10%\n",
      "20%\n",
      "30%\n",
      "40%\n",
      "50%\n",
      "60%\n",
      "70%\n",
      "80%\n",
      "90%\n",
      "sonication 4\n",
      "0%\n",
      "10%\n",
      "20%\n",
      "30%\n",
      "40%\n",
      "50%\n",
      "60%\n",
      "70%\n",
      "80%\n",
      "90%\n",
      "sonication 5\n",
      "0%\n",
      "10%\n",
      "20%\n",
      "30%\n",
      "40%\n",
      "50%\n",
      "60%\n",
      "70%\n",
      "80%\n",
      "90%\n",
      "sonication 6\n",
      "0%\n",
      "10%\n",
      "20%\n",
      "30%\n",
      "40%\n",
      "50%\n",
      "60%\n",
      "70%\n",
      "80%\n",
      "90%\n",
      "sonication 7\n",
      "0%\n",
      "10%\n",
      "20%\n",
      "30%\n",
      "40%\n",
      "50%\n",
      "60%\n",
      "70%\n",
      "80%\n",
      "90%\n",
      "sonication 8\n",
      "0%\n",
      "10%\n",
      "20%\n",
      "30%\n",
      "40%\n",
      "50%\n",
      "60%\n",
      "70%\n",
      "80%\n",
      "90%\n",
      "sonication 9\n",
      "0%\n",
      "10%\n",
      "20%\n",
      "30%\n",
      "40%\n",
      "50%\n",
      "60%\n",
      "70%\n",
      "80%\n",
      "90%\n",
      "sonication 10\n",
      "0%\n",
      "10%\n",
      "20%\n",
      "30%\n",
      "40%\n",
      "50%\n",
      "60%\n",
      "70%\n",
      "80%\n",
      "90%\n",
      "sonication 11\n",
      "0%\n",
      "10%\n",
      "20%\n",
      "30%\n",
      "40%\n",
      "50%\n",
      "60%\n",
      "70%\n",
      "80%\n",
      "90%\n",
      "sonication 12\n",
      "0%\n",
      "10%\n",
      "20%\n",
      "30%\n",
      "40%\n",
      "50%\n",
      "60%\n",
      "70%\n",
      "80%\n",
      "90%\n",
      "sonication 13\n",
      "0%\n",
      "10%\n",
      "20%\n",
      "30%\n",
      "40%\n",
      "50%\n",
      "60%\n",
      "70%\n",
      "80%\n",
      "90%\n",
      "sonication 14\n",
      "0%\n",
      "10%\n",
      "20%\n",
      "30%\n",
      "40%\n",
      "50%\n",
      "60%\n",
      "70%\n",
      "80%\n",
      "90%\n",
      "sonication 15\n",
      "0%\n",
      "10%\n",
      "20%\n",
      "30%\n",
      "40%\n",
      "50%\n",
      "60%\n",
      "70%\n",
      "80%\n",
      "90%\n",
      "sonication 16\n",
      "0%\n",
      "10%\n",
      "20%\n",
      "30%\n",
      "40%\n",
      "50%\n",
      "60%\n",
      "70%\n",
      "80%\n",
      "90%\n",
      "sonication 17\n",
      "0%\n",
      "10%\n",
      "20%\n",
      "30%\n",
      "40%\n",
      "50%\n",
      "60%\n",
      "70%\n",
      "80%\n",
      "90%\n",
      "[  3.00000000e-01   1.00000000e+01   2.00000000e+00   2.50000000e+07]  ->  132496\n"
     ]
    },
    {
     "data": {
      "text/plain": [
       "132496"
      ]
     },
     "execution_count": 136,
     "metadata": {},
     "output_type": "execute_result"
    }
   ],
   "source": [
    "getTraj([0.3, 10.0, 2.0])\n",
    "VolumeObjective_4(np.array([0.3, 10.0, 2.0, 2.5e7]),verbose=True )"
   ]
  },
  {
   "cell_type": "code",
   "execution_count": 46,
   "metadata": {
    "collapsed": false
   },
   "outputs": [
    {
     "data": {
      "text/plain": [
       "[<matplotlib.lines.Line2D at 0x14e53400>,\n",
       " <matplotlib.lines.Line2D at 0x14e53748>,\n",
       " <matplotlib.lines.Line2D at 0x14e538d0>,\n",
       " <matplotlib.lines.Line2D at 0x14e53b70>]"
      ]
     },
     "execution_count": 46,
     "metadata": {},
     "output_type": "execute_result"
    },
    {
     "data": {
      "image/png": "[encoded data removed]",
      "text/plain": [
       "<matplotlib.figure.Figure at 0x12525240>"
      ]
     },
     "metadata": {},
     "output_type": "display_data"
    }
   ],
   "source": [
    "plt.plot(dwells, Fdat[0,:,:,2], '-o' )"
   ]
  },
  {
   "cell_type": "code",
   "execution_count": 81,
   "metadata": {
    "collapsed": false
   },
   "outputs": [
    {
     "data": {
      "text/plain": [
       "14.0"
      ]
     },
     "execution_count": 81,
     "metadata": {},
     "output_type": "execute_result"
    }
   ],
   "source": [
    "dwells[0]+ Ddw*(len(dwells))"
   ]
  },
  {
   "cell_type": "code",
   "execution_count": 73,
   "metadata": {
    "collapsed": false
   },
   "outputs": [
    {
     "name": "stdout",
     "output_type": "stream",
     "text": [
      "sonication 1\n",
      "0%\n",
      "83%\n",
      "sonication 2\n",
      "0%\n",
      "83%\n",
      "sonication 3\n",
      "0%\n",
      "83%\n",
      "sonication 4\n",
      "0%\n",
      "83%\n",
      "sonication 5\n",
      "0%\n",
      "83%\n",
      "sonication 6\n",
      "0%\n",
      "83%\n",
      "sonication 7\n",
      "0%\n",
      "83%\n",
      "sonication 8\n",
      "0%\n",
      "83%\n",
      "sonication 9\n",
      "0%\n",
      "83%\n",
      "sonication 10\n",
      "0%\n",
      "83%\n",
      "sonication 11\n",
      "0%\n",
      "83%\n",
      "sonication 12\n",
      "0%\n",
      "83%\n",
      "sonication 13\n",
      "0%\n",
      "83%\n",
      "[0.6, 6.0, 6.0, 25000000.0]  ->  46457856\n"
     ]
    },
    {
     "data": {
      "text/plain": [
       "46457856"
      ]
     },
     "execution_count": 73,
     "metadata": {},
     "output_type": "execute_result"
    }
   ],
   "source": [
    "xc = [0.6, 6.0, 6.0, 2.5e7]\n",
    "VolumeObjective_4(xc,verbose=True)"
   ]
  },
  {
   "cell_type": "code",
   "execution_count": 43,
   "metadata": {
    "collapsed": false
   },
   "outputs": [
    {
     "data": {
      "image/png": "[encoded data removed]",
      "text/plain": [
       "<matplotlib.figure.Figure at 0xeed3c88>"
      ]
     },
     "metadata": {},
     "output_type": "display_data"
    }
   ],
   "source": [
    "plotTraj(xc);"
   ]
  },
  {
   "cell_type": "code",
   "execution_count": 126,
   "metadata": {
    "collapsed": false
   },
   "outputs": [
    {
     "data": {
      "text/plain": [
       "array([ 2.,  4.,  6.,  8.])"
      ]
     },
     "execution_count": 126,
     "metadata": {},
     "output_type": "execute_result"
    }
   ],
   "source": [
    "waits"
   ]
  },
  {
   "cell_type": "code",
   "execution_count": 131,
   "metadata": {
    "collapsed": false
   },
   "outputs": [
    {
     "data": {
      "text/plain": [
       "<matplotlib.colorbar.Colorbar at 0x29d701d0>"
      ]
     },
     "execution_count": 131,
     "metadata": {},
     "output_type": "execute_result"
    },
    {
     "data": {
      "image/png": "[encoded data removed]",
      "text/plain": [
       "<matplotlib.figure.Figure at 0x2a0124a8>"
      ]
     },
     "metadata": {},
     "output_type": "display_data"
    }
   ],
   "source": [
    "\n",
    "Dwait =waits[1]-waits[0]\n",
    "Ddw =dwells[1]-dwells[0]\n",
    "fig=plt.figure(figsize=(10,8))\n",
    "plt.imshow( (Fdat[1,:,:,3]), vmin=Fmin,vmax=Fmin + 0.25*(Fmax-Fmin), interpolation='none',extent=[  waits[0],  waits[-1] + Dwait, dwells[-1]+Ddw, dwells[0]])\n",
    "plt.xlabel('wait (s)')\n",
    "plt.ylabel('dwell (s)')\n",
    "plt.colorbar()"
   ]
  },
  {
   "cell_type": "code",
   "execution_count": 152,
   "metadata": {
    "collapsed": false
   },
   "outputs": [
    {
     "data": {
      "text/plain": [
       "<matplotlib.colorbar.Colorbar at 0x2d80a4a8>"
      ]
     },
     "execution_count": 152,
     "metadata": {},
     "output_type": "execute_result"
    },
    {
     "data": {
      "image/png": "[encoded data removed]",
      "text/plain": [
       "<matplotlib.figure.Figure at 0x2d698ba8>"
      ]
     },
     "metadata": {},
     "output_type": "display_data"
    }
   ],
   "source": [
    "Dwait =waits[1]-waits[0]\n",
    "Ddw =dwells[1]-dwells[0]\n",
    "fig=plt.figure(figsize=(10,8))\n",
    "plt.imshow(np.transpose(Fdat[0,:,:,2]), vmin=Fmin,vmax=Fmin + 0.25*(Fmax-Fmin), interpolation='none',extent=[dwells[0], dwells[-1]+Ddw,waits[-1] + Dwait, waits[0]])\n",
    "plt.xlabel('dwell (s)')\n",
    "plt.ylabel('wait (s)')\n",
    "plt.colorbar()"
   ]
  },
  {
   "cell_type": "code",
   "execution_count": 108,
   "metadata": {
    "collapsed": false
   },
   "outputs": [
    {
     "name": "stdout",
     "output_type": "stream",
     "text": [
      "[  3.00000000e-01   2.00000000e+00   5.00000000e-01   2.00000000e+07]  ->  16362025\n",
      "[  3.00000000e-01   2.00000000e+00   1.00000000e+00   2.00000000e+07]  ->  24010000\n",
      "[  3.00000000e-01   2.00000000e+00   1.50000000e+00   2.00000000e+07]  ->  29322225\n",
      "[  3.00000000e-01   2.00000000e+00   2.00000000e+00   2.00000000e+07]  ->  35652841\n",
      "[  3.00000000e-01   2.00000000e+00   2.50000000e+00   2.00000000e+07]  ->  39225169\n",
      "[  3.00000000e-01   2.00000000e+00   3.00000000e+00   2.00000000e+07]  ->  43007364\n",
      "[  3.00000000e-01   2.00000000e+00   3.50000000e+00   2.00000000e+07]  ->  45185284\n",
      "[  3.00000000e-01   2.00000000e+00   4.00000000e+00   2.00000000e+07]  ->  47375689\n",
      "[  3.00000000e-01   3.00000000e+00   5.00000000e-01   2.00000000e+07]  ->  14853316\n",
      "[  3.00000000e-01   3.00000000e+00   1.00000000e+00   2.00000000e+07]  ->  19633761\n",
      "[  3.00000000e-01   3.00000000e+00   1.50000000e+00   2.00000000e+07]  ->  23001616\n",
      "[  3.00000000e-01   3.00000000e+00   2.00000000e+00   2.00000000e+07]  ->  27952369\n",
      "[  3.00000000e-01   3.00000000e+00   2.50000000e+00   2.00000000e+07]  ->  31292836\n",
      "[  3.00000000e-01   3.00000000e+00   3.00000000e+00   2.00000000e+07]  ->  35319249\n",
      "[  3.00000000e-01   3.00000000e+00   3.50000000e+00   2.00000000e+07]  ->  37834801\n",
      "[  3.00000000e-01   3.00000000e+00   4.00000000e+00   2.00000000e+07]  ->  40627876\n",
      "[  3.00000000e-01   4.00000000e+00   5.00000000e-01   2.00000000e+07]  ->  17222500\n",
      "[  3.00000000e-01   4.00000000e+00   1.00000000e+00   2.00000000e+07]  ->  21022225\n",
      "[  3.00000000e-01   4.00000000e+00   1.50000000e+00   2.00000000e+07]  ->  23609881\n",
      "[  3.00000000e-01   4.00000000e+00   2.00000000e+00   2.00000000e+07]  ->  27269284\n",
      "[  3.00000000e-01   4.00000000e+00   2.50000000e+00   2.00000000e+07]  ->  29899024\n",
      "[  3.00000000e-01   4.00000000e+00   3.00000000e+00   2.00000000e+07]  ->  32947600\n",
      "[  3.00000000e-01   4.00000000e+00   3.50000000e+00   2.00000000e+07]  ->  35236096\n",
      "[  3.00000000e-01   4.00000000e+00   4.00000000e+00   2.00000000e+07]  ->  37785609\n",
      "[  3.00000000e-01   5.00000000e+00   5.00000000e-01   2.00000000e+07]  ->  16160400\n",
      "[  3.00000000e-01   5.00000000e+00   1.00000000e+00   2.00000000e+07]  ->  19070689\n",
      "[  3.00000000e-01   5.00000000e+00   1.50000000e+00   2.00000000e+07]  ->  21068100\n",
      "[  3.00000000e-01   5.00000000e+00   2.00000000e+00   2.00000000e+07]  ->  23824161\n",
      "[  3.00000000e-01   5.00000000e+00   2.50000000e+00   2.00000000e+07]  ->  25786084\n",
      "[  3.00000000e-01   5.00000000e+00   3.00000000e+00   2.00000000e+07]  ->  28740321\n",
      "[  3.00000000e-01   5.00000000e+00   3.50000000e+00   2.00000000e+07]  ->  30426256\n",
      "[  3.00000000e-01   5.00000000e+00   4.00000000e+00   2.00000000e+07]  ->  32901696\n",
      "[  3.00000000e-01   6.00000000e+00   5.00000000e-01   2.00000000e+07]  ->  12960000\n",
      "[  3.00000000e-01   6.00000000e+00   1.00000000e+00   2.00000000e+07]  ->  15225604\n",
      "[  3.00000000e-01   6.00000000e+00   1.50000000e+00   2.00000000e+07]  ->  16842816\n",
      "[  3.00000000e-01   6.00000000e+00   2.00000000e+00   2.00000000e+07]  ->  19219456\n",
      "[  3.00000000e-01   6.00000000e+00   2.50000000e+00   2.00000000e+07]  ->  20958084\n",
      "[  3.00000000e-01   6.00000000e+00   3.00000000e+00   2.00000000e+07]  ->  23232400\n",
      "[  3.00000000e-01   6.00000000e+00   3.50000000e+00   2.00000000e+07]  ->  24760576\n",
      "[  3.00000000e-01   6.00000000e+00   4.00000000e+00   2.00000000e+07]  ->  27237961\n",
      "[  3.00000000e-01   7.00000000e+00   5.00000000e-01   2.00000000e+07]  ->  12687844\n",
      "[  3.00000000e-01   7.00000000e+00   1.00000000e+00   2.00000000e+07]  ->  14653584\n",
      "[  3.00000000e-01   7.00000000e+00   1.50000000e+00   2.00000000e+07]  ->  16072081\n",
      "[  3.00000000e-01   7.00000000e+00   2.00000000e+00   2.00000000e+07]  ->  18054001\n",
      "[  3.00000000e-01   7.00000000e+00   2.50000000e+00   2.00000000e+07]  ->  19439281\n",
      "[  3.00000000e-01   7.00000000e+00   3.00000000e+00   2.00000000e+07]  ->  21353641\n",
      "[  3.00000000e-01   7.00000000e+00   3.50000000e+00   2.00000000e+07]  ->  22733824\n",
      "[  3.00000000e-01   7.00000000e+00   4.00000000e+00   2.00000000e+07]  ->  24750625\n",
      "[  3.00000000e-01   8.00000000e+00   5.00000000e-01   2.00000000e+07]  ->  13082689\n",
      "[  3.00000000e-01   8.00000000e+00   1.00000000e+00   2.00000000e+07]  ->  14638276\n",
      "[  3.00000000e-01   8.00000000e+00   1.50000000e+00   2.00000000e+07]  ->  15737089\n",
      "[  3.00000000e-01   8.00000000e+00   2.00000000e+00   2.00000000e+07]  ->  17380561\n",
      "[  3.00000000e-01   8.00000000e+00   2.50000000e+00   2.00000000e+07]  ->  18533025\n",
      "[  3.00000000e-01   8.00000000e+00   3.00000000e+00   2.00000000e+07]  ->  20169081\n",
      "[  3.00000000e-01   8.00000000e+00   3.50000000e+00   2.00000000e+07]  ->  21335161\n",
      "[  3.00000000e-01   8.00000000e+00   4.00000000e+00   2.00000000e+07]  ->  22982436\n",
      "[  3.00000000e-01   9.00000000e+00   5.00000000e-01   2.00000000e+07]  ->  10304100\n",
      "[  3.00000000e-01   9.00000000e+00   1.00000000e+00   2.00000000e+07]  ->  11289600\n",
      "[  3.00000000e-01   9.00000000e+00   1.50000000e+00   2.00000000e+07]  ->  11937025\n",
      "[  3.00000000e-01   9.00000000e+00   2.00000000e+00   2.00000000e+07]  ->  13111641\n",
      "[  3.00000000e-01   9.00000000e+00   2.50000000e+00   2.00000000e+07]  ->  14115049\n",
      "[  3.00000000e-01   9.00000000e+00   3.00000000e+00   2.00000000e+07]  ->  15586704\n",
      "[  3.00000000e-01   9.00000000e+00   3.50000000e+00   2.00000000e+07]  ->  16573041\n",
      "[  3.00000000e-01   9.00000000e+00   4.00000000e+00   2.00000000e+07]  ->  18207289\n",
      "[  3.00000000e-01   1.00000000e+01   5.00000000e-01   2.00000000e+07]  ->  11553201\n",
      "[  3.00000000e-01   1.00000000e+01   1.00000000e+00   2.00000000e+07]  ->  12538681\n",
      "[  3.00000000e-01   1.00000000e+01   1.50000000e+00   2.00000000e+07]  ->  13424896\n",
      "[  3.00000000e-01   1.00000000e+01   2.00000000e+00   2.00000000e+07]  ->  14645929\n",
      "[  3.00000000e-01   1.00000000e+01   2.50000000e+00   2.00000000e+07]  ->  15492096\n",
      "[  3.00000000e-01   1.00000000e+01   3.00000000e+00   2.00000000e+07]  ->  16621929\n",
      "[  3.00000000e-01   1.00000000e+01   3.50000000e+00   2.00000000e+07]  ->  17514225\n",
      "[  3.00000000e-01   1.00000000e+01   4.00000000e+00   2.00000000e+07]  ->  18627856\n",
      "[  3.00000000e-01   1.10000000e+01   5.00000000e-01   2.00000000e+07]  ->  13823524\n",
      "[  3.00000000e-01   1.10000000e+01   1.00000000e+00   2.00000000e+07]  ->  14830201\n",
      "[  3.00000000e-01   1.10000000e+01   1.50000000e+00   2.00000000e+07]  ->  15484225\n",
      "[  3.00000000e-01   1.10000000e+01   2.00000000e+00   2.00000000e+07]  ->  16621929\n",
      "[  3.00000000e-01   1.10000000e+01   2.50000000e+00   2.00000000e+07]  ->  17388900\n",
      "[  3.00000000e-01   1.10000000e+01   3.00000000e+00   2.00000000e+07]  ->  18696976\n",
      "[  3.00000000e-01   1.10000000e+01   3.50000000e+00   2.00000000e+07]  ->  19545241\n",
      "[  3.00000000e-01   1.10000000e+01   4.00000000e+00   2.00000000e+07]  ->  20766249\n",
      "[  3.00000000e-01   1.20000000e+01   5.00000000e-01   2.00000000e+07]  ->  23232400\n",
      "[  3.00000000e-01   1.20000000e+01   1.00000000e+00   2.00000000e+07]  ->  24265476\n",
      "[  3.00000000e-01   1.20000000e+01   1.50000000e+00   2.00000000e+07]  ->  25030009\n",
      "[  3.00000000e-01   1.20000000e+01   2.00000000e+00   2.00000000e+07]  ->  26173456\n",
      "[  3.00000000e-01   1.20000000e+01   2.50000000e+00   2.00000000e+07]  ->  26811684\n",
      "[  3.00000000e-01   1.20000000e+01   3.00000000e+00   2.00000000e+07]  ->  27836176\n",
      "[  3.00000000e-01   1.20000000e+01   3.50000000e+00   2.00000000e+07]  ->  28729600\n",
      "[  3.00000000e-01   1.20000000e+01   4.00000000e+00   2.00000000e+07]  ->  29844369\n"
     ]
    }
   ],
   "source": [
    "x1list_dwell = np.arange(2.0, 13.0, 1.0)\n",
    "x2list_wait = np.arange(0.5,4.5, 0.5)\n",
    "g1,g2 = np.meshgrid(x1list_dwell,x2list_wait,indexing='ij')\n",
    "\n",
    "\n",
    "fmat = list( map( lambda dw,wt: VolumeObjective_4(np.array([0.3,dw,wt,2000.0e4]) ) , g1.flatten(), g2.flatten() )  )"
   ]
  },
  {
   "cell_type": "code",
   "execution_count": 128,
   "metadata": {
    "collapsed": false
   },
   "outputs": [
    {
     "data": {
      "text/plain": [
       "<matplotlib.colorbar.Colorbar at 0x1777cf60>"
      ]
     },
     "execution_count": 128,
     "metadata": {},
     "output_type": "execute_result"
    },
    {
     "data": {
      "image/png": "[encoded data removed]",
      "text/plain": [
       "<matplotlib.figure.Figure at 0x174c2518>"
      ]
     },
     "metadata": {},
     "output_type": "display_data"
    }
   ],
   "source": [
    "Ddw = x1list_dwell[1]-x1list_dwell[0]\n",
    "Dwait= x2list_wait[1]-x1list_dwell[0]\n",
    "fig=plt.figure(figsize=(10,8))\n",
    "plt.imshow(np.transpose(np.reshape( fmat, g1.shape )), interpolation='none', extent=[x1list_dwell[0], x1list_dwell[-1]+Ddw, x2list_wait[0],  x2list_wait[-1] + Dwait])\n",
    "plt.colorbar()"
   ]
  },
  {
   "cell_type": "code",
   "execution_count": 67,
   "metadata": {
    "collapsed": false
   },
   "outputs": [
    {
     "data": {
      "text/plain": [
       "<matplotlib.colorbar.Colorbar at 0x107f1f60>"
      ]
     },
     "execution_count": 67,
     "metadata": {},
     "output_type": "execute_result"
    },
    {
     "data": {
      "image/png": "[encoded data removed]",
      "text/plain": [
       "<matplotlib.figure.Figure at 0xf13ba58>"
      ]
     },
     "metadata": {},
     "output_type": "display_data"
    }
   ],
   "source": [
    "plt.imshow(T[1][:,:,focplaneZpix],cmap=plt.cm.hot,extent=1000*np.array([yrp[0],yrp[-1], xrp[-1],xrp[0]]))\n",
    "plotTraj(xc);\n",
    "plt.colorbar()"
   ]
  },
  {
   "cell_type": "code",
   "execution_count": 74,
   "metadata": {
    "collapsed": false
   },
   "outputs": [
    {
     "data": {
      "text/plain": [
       "<matplotlib.colorbar.Colorbar at 0x10a7ae80>"
      ]
     },
     "execution_count": 74,
     "metadata": {},
     "output_type": "execute_result"
    },
    {
     "data": {
      "image/png": "[encoded data removed]",
      "text/plain": [
       "<matplotlib.figure.Figure at 0x109c7668>"
      ]
     },
     "metadata": {},
     "output_type": "display_data"
    }
   ],
   "source": [
    "plt.imshow(T[1][:,floor(Ny/2),:],cmap=plt.cm.hot,extent=1000*np.array([zrp[0],zrp[-1],xrp[-1],xrp[0]]))\n",
    "plt.colorbar()"
   ]
  },
  {
   "cell_type": "code",
   "execution_count": 71,
   "metadata": {
    "collapsed": false
   },
   "outputs": [
    {
     "data": {
      "text/plain": [
       "29"
      ]
     },
     "execution_count": 71,
     "metadata": {},
     "output_type": "execute_result"
    }
   ],
   "source": [
    "focplaneZpix"
   ]
  },
  {
   "cell_type": "code",
   "execution_count": 72,
   "metadata": {
    "collapsed": true
   },
   "outputs": [],
   "source": [
    "flowBCs=0"
   ]
  },
  {
   "cell_type": "code",
   "execution_count": 58,
   "metadata": {
    "collapsed": false
   },
   "outputs": [
    {
     "data": {
      "image/png": "[encoded data removed]",
      "text/plain": [
       "<matplotlib.figure.Figure at 0xf1b7f98>"
      ]
     },
     "metadata": {},
     "output_type": "display_data"
    }
   ],
   "source": [
    "plt.imshow(CEM[:,:,focplaneZpix],vmin=0,vmax=240,cmap=plt.cm.hot,extent=1000*np.array([yrp[0],yrp[-1], xrp[-1],xrp[0]]))\n",
    "plotTraj(xc);"
   ]
  },
  {
   "cell_type": "code",
   "execution_count": 59,
   "metadata": {
    "collapsed": false,
    "scrolled": true
   },
   "outputs": [
    {
     "name": "stderr",
     "output_type": "stream",
     "text": [
      "C:\\Users\\Vandiver\\Anaconda3\\lib\\site-packages\\ipykernel\\__main__.py:1: DeprecationWarning: using a non-integer number instead of an integer will result in an error in the future\n",
      "  if __name__ == '__main__':\n"
     ]
    },
    {
     "data": {
      "text/plain": [
       "<matplotlib.image.AxesImage at 0x1070e198>"
      ]
     },
     "execution_count": 59,
     "metadata": {},
     "output_type": "execute_result"
    },
    {
     "data": {
      "image/png": "[encoded data removed]",
      "text/plain": [
       "<matplotlib.figure.Figure at 0x7669630>"
      ]
     },
     "metadata": {},
     "output_type": "display_data"
    }
   ],
   "source": [
    "plt.imshow(CEM[:,Ny/2,:],vmin=0,vmax=240,cmap=plt.cm.hot)"
   ]
  },
  {
   "cell_type": "code",
   "execution_count": 138,
   "metadata": {
    "collapsed": false
   },
   "outputs": [
    {
     "data": {
      "text/plain": [
       "array([[ -6.18033989e-01,   1.90211303e+00,   1.40000000e+02],\n",
       "       [ -2.00000000e+00,   2.44929360e-16,   1.40000000e+02],\n",
       "       [ -6.18033989e-01,  -1.90211303e+00,   1.40000000e+02],\n",
       "       [  1.61803399e+00,  -1.17557050e+00,   1.40000000e+02],\n",
       "       [  1.61803399e+00,   1.17557050e+00,   1.40000000e+02],\n",
       "       [  4.69098889e+00,   3.74093881e+00,   1.40000000e+02],\n",
       "       [  2.60330243e+00,   5.40581321e+00,   1.40000000e+02],\n",
       "       [  3.67394040e-16,   6.00000000e+00,   1.40000000e+02],\n",
       "       [ -2.60330243e+00,   5.40581321e+00,   1.40000000e+02],\n",
       "       [ -4.69098889e+00,   3.74093881e+00,   1.40000000e+02],\n",
       "       [ -5.84956747e+00,   1.33512560e+00,   1.40000000e+02],\n",
       "       [ -5.84956747e+00,  -1.33512560e+00,   1.40000000e+02],\n",
       "       [ -4.69098889e+00,  -3.74093881e+00,   1.40000000e+02],\n",
       "       [ -2.60330243e+00,  -5.40581321e+00,   1.40000000e+02],\n",
       "       [ -1.10218212e-15,  -6.00000000e+00,   1.40000000e+02],\n",
       "       [  2.60330243e+00,  -5.40581321e+00,   1.40000000e+02],\n",
       "       [  4.69098889e+00,  -3.74093881e+00,   1.40000000e+02],\n",
       "       [  5.84956747e+00,  -1.33512560e+00,   1.40000000e+02],\n",
       "       [  5.84956747e+00,   1.33512560e+00,   1.40000000e+02]])"
      ]
     },
     "execution_count": 138,
     "metadata": {},
     "output_type": "execute_result"
    },
    {
     "data": {
      "image/png": "[encoded data removed]",
      "text/plain": [
       "<matplotlib.figure.Figure at 0x18b52a20>"
      ]
     },
     "metadata": {},
     "output_type": "display_data"
    }
   ],
   "source": [
    "plotTraj([0.3, 9.25, 0.0])"
   ]
  },
  {
   "cell_type": "code",
   "execution_count": 117,
   "metadata": {
    "collapsed": false
   },
   "outputs": [
    {
     "name": "stderr",
     "output_type": "stream",
     "text": [
      "C:\\Users\\Vandiver\\Anaconda3\\lib\\site-packages\\ipykernel\\__main__.py:1: DeprecationWarning: using a non-integer number instead of an integer will result in an error in the future\n",
      "  if __name__ == '__main__':\n"
     ]
    },
    {
     "data": {
      "text/plain": [
       "<matplotlib.image.AxesImage at 0x176a3828>"
      ]
     },
     "execution_count": 117,
     "metadata": {},
     "output_type": "execute_result"
    },
    {
     "data": {
      "image/png": "[encoded data removed]",
      "text/plain": [
       "<matplotlib.figure.Figure at 0x1794ceb8>"
      ]
     },
     "metadata": {},
     "output_type": "display_data"
    }
   ],
   "source": [
    "plt.imshow(roiOnTarget[:,Ny/2,:],cmap=plt.cm.gray_r, extent=[1e3*zrp[0], 1e3*zrp[-1], 1e3*yrp[-1], 1e3*yrp[0]])"
   ]
  },
  {
   "cell_type": "code",
   "execution_count": 48,
   "metadata": {
    "collapsed": false
   },
   "outputs": [
    {
     "name": "stderr",
     "output_type": "stream",
     "text": [
      "C:\\Users\\Vandiver\\Anaconda3\\lib\\site-packages\\ipykernel\\__main__.py:1: DeprecationWarning: using a non-integer number instead of an integer will result in an error in the future\n",
      "  if __name__ == '__main__':\n"
     ]
    },
    {
     "data": {
      "text/plain": [
       "<matplotlib.image.AxesImage at 0xc0ddac8>"
      ]
     },
     "execution_count": 48,
     "metadata": {},
     "output_type": "execute_result"
    },
    {
     "data": {
      "image/png": "[encoded data removed]",
      "text/plain": [
       "<matplotlib.figure.Figure at 0xbf90940>"
      ]
     },
     "metadata": {},
     "output_type": "display_data"
    }
   ],
   "source": [
    "plt.imshow(1.0*np.array(roiOffTarget[:,Ny/2,:],dtype=int) + 0.5*np.array(roiOnTarget[:,Ny/2,:],dtype=int),vmin=0,vmax=2,cmap=plt.cm.gray_r, extent=[1e3*zrp[0], 1e3*zrp[-1], 1e3*yrp[-1], 1e3*yrp[0]])"
   ]
  },
  {
   "cell_type": "code",
   "execution_count": 79,
   "metadata": {
    "collapsed": false
   },
   "outputs": [],
   "source": []
  },
  {
   "cell_type": "code",
   "execution_count": null,
   "metadata": {
    "collapsed": true
   },
   "outputs": [],
   "source": []
  }
 ],
 "metadata": {
  "kernelspec": {
   "display_name": "Python 3",
   "language": "python",
   "name": "python3"
  },
  "language_info": {
   "codemirror_mode": {
    "name": "ipython",
    "version": 3
   },
   "file_extension": ".py",
   "mimetype": "text/x-python",
   "name": "python",
   "nbconvert_exporter": "python",
   "pygments_lexer": "ipython3",
   "version": "3.4.1"
  }
 },
 "nbformat": 4,
 "nbformat_minor": 0
}
