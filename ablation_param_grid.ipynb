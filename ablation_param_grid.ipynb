{
 "cells": [
  {
   "cell_type": "code",
   "execution_count": 1,
   "metadata": {
    "collapsed": false
   },
   "outputs": [],
   "source": [
    "import sys\n",
    "\n",
    "from math import *;\n",
    "\n",
    "sys.path.append('C:\\\\Users\\\\vchaplin\\\\Documents\\\\HiFU\\\\code\\\\myPy')  \n",
    "sys.path.append('C:\\\\Users\\\\vchaplin\\\\Documents\\\\HiFU\\\\code\\\\AblationSims')\n",
    "sys.path.append('C:\\\\Users\\\\Vandiver\\\\Documents\\\\HiFU\\\\code\\\\BioHeatCpp\\\\PBHEswig\\\\x64')\n",
    "\n",
    "import numpy as np\n",
    "import geom\n",
    "import sonalleve\n",
    "import transducers\n",
    "import PBHEswig \n",
    "import argparse\n",
    "import ablation_utils\n",
    "\n",
    "import matplotlib.image as image\n",
    "import matplotlib.pyplot as plt\n",
    "\n",
    "import HookJeeves\n",
    "\n",
    "os.chdir('C:\\\\Users\\\\vchaplin\\\\Documents\\\\HiFU\\\\code\\\\AblationSims\\\\path_optimization\\\\')\n",
    "\n",
    "%matplotlib inline\n",
    "\n"
   ]
  },
  {
   "cell_type": "code",
   "execution_count": 2,
   "metadata": {
    "collapsed": false
   },
   "outputs": [
    {
     "data": {
      "text/plain": [
       "<module 'HookJeeves' from 'C:\\\\Users\\\\vchaplin\\\\Documents\\\\HiFU\\\\code\\\\myPy\\\\HookJeeves.py'>"
      ]
     },
     "execution_count": 2,
     "metadata": {},
     "output_type": "execute_result"
    }
   ],
   "source": [
    "import importlib\n",
    "importlib.reload(HookJeeves)"
   ]
  },
  {
   "cell_type": "code",
   "execution_count": 13,
   "metadata": {
    "collapsed": false
   },
   "outputs": [
    {
     "name": "stdout",
     "output_type": "stream",
     "text": [
      "Proceeding with simulation...\n"
     ]
    }
   ],
   "source": [
    "run CirclePathOptimization2.py -gpu -XR 4.0 -YR 4.0 -Nx 60 -Ny 60 -Nz 60 -w 2.0 -speed 0.3 -a 5.0 -I 1000"
   ]
  },
  {
   "cell_type": "code",
   "execution_count": 1,
   "metadata": {
    "collapsed": false
   },
   "outputs": [
    {
     "ename": "NameError",
     "evalue": "name 'x0' is not defined",
     "output_type": "error",
     "traceback": [
      "\u001b[1;31m---------------------------------------------------------------------------\u001b[0m",
      "\u001b[1;31mNameError\u001b[0m                                 Traceback (most recent call last)",
      "\u001b[1;32m<ipython-input-1-57df2e63262a>\u001b[0m in \u001b[0;36m<module>\u001b[1;34m()\u001b[0m\n\u001b[1;32m----> 1\u001b[1;33m \u001b[0mx0\u001b[0m\u001b[1;33m\u001b[0m\u001b[0m\n\u001b[0m",
      "\u001b[1;31mNameError\u001b[0m: name 'x0' is not defined"
     ]
    }
   ],
   "source": [
    "x0"
   ]
  },
  {
   "cell_type": "code",
   "execution_count": null,
   "metadata": {
    "collapsed": false,
    "scrolled": true
   },
   "outputs": [],
   "source": [
    "VolumeObjective_2(x0,verbose=True)"
   ]
  },
  {
   "cell_type": "code",
   "execution_count": 15,
   "metadata": {
    "collapsed": false
   },
   "outputs": [],
   "source": [
    "points,ntrn,nspt= getTraj(x0)"
   ]
  },
  {
   "cell_type": "code",
   "execution_count": null,
   "metadata": {
    "collapsed": false
   },
   "outputs": [],
   "source": [
    "speeds = np.arange(0.3,1.2, 0.1)"
   ]
  },
  {
   "cell_type": "code",
   "execution_count": null,
   "metadata": {
    "collapsed": false
   },
   "outputs": [],
   "source": [
    "roiExtra = np.logical_and( np.sqrt(gxp**2 + gyp**2) <= (1e-3*1.5*maxR_mm), np.abs(gzp-0.14) <= 0.015 )"
   ]
  },
  {
   "cell_type": "code",
   "execution_count": null,
   "metadata": {
    "collapsed": false
   },
   "outputs": [],
   "source": [
    "ObjectiveFunc(x0,show=True)"
   ]
  },
  {
   "cell_type": "code",
   "execution_count": 5,
   "metadata": {
    "collapsed": false
   },
   "outputs": [],
   "source": [
    "def getTraj(vec):\n",
    "    return contstruct_circ_sonication_points(maxR_mm,turnspace_mm,140.,vec[0],vec[1],wait)\n",
    "def plotTraj(vec):\n",
    "    points,nt,numSon = contstruct_circ_sonication_points(maxR_mm,turnspace_mm,140.,vec[0],vec[1],vec[2])\n",
    "    plt.plot(points[:,0], points[:,1], '*-')\n",
    "    return points"
   ]
  },
  {
   "cell_type": "code",
   "execution_count": null,
   "metadata": {
    "collapsed": false
   },
   "outputs": [],
   "source": [
    "numTargetVox = np.sum(roiOnTarget)\n",
    "def func2(param_vec, verbose=False, show=False ):\n",
    "    run_simulation( param_vec, verbose=verbose, show=show)\n",
    "    value = ( np.sum(CEM[roiExtra] >= 240.0) - numTargetVox )**2\n",
    "    print (param_vec, \" -> \", value)\n",
    "    return value"
   ]
  },
  {
   "cell_type": "code",
   "execution_count": null,
   "metadata": {
    "collapsed": false
   },
   "outputs": [],
   "source": [
    "v1 = [1,2,3,4]\n",
    "v2 = [1,2,3]\n",
    "v3 = [1,2]\n",
    "\n",
    "g1,g2,g3 = np.meshgrid(v1,v2,v3,indexing='ij')\n"
   ]
  },
  {
   "cell_type": "code",
   "execution_count": null,
   "metadata": {
    "collapsed": false
   },
   "outputs": [],
   "source": [
    "mm=list( map( lambda x,y,z: (\"{%d, %d, %d}\" % (x,y,z) ), g1.flatten(),g2.flatten(),g3.flatten())  )"
   ]
  },
  {
   "cell_type": "code",
   "execution_count": null,
   "metadata": {
    "collapsed": false
   },
   "outputs": [],
   "source": [
    "dat=np.reshape( mm, [len(v1), len(v2), len(v3)] )"
   ]
  },
  {
   "cell_type": "code",
   "execution_count": null,
   "metadata": {
    "collapsed": false
   },
   "outputs": [],
   "source": [
    "dat[:,:,0]"
   ]
  },
  {
   "cell_type": "code",
   "execution_count": 21,
   "metadata": {
    "collapsed": false
   },
   "outputs": [
    {
     "data": {
      "text/plain": [
       "array([  3.00000000e-01,   5.00000000e+00,   1.00000000e+07])"
      ]
     },
     "execution_count": 21,
     "metadata": {},
     "output_type": "execute_result"
    }
   ],
   "source": [
    "x0"
   ]
  },
  {
   "cell_type": "code",
   "execution_count": 3,
   "metadata": {
    "collapsed": true
   },
   "outputs": [],
   "source": [
    "speeds = np.arange(0.1, 1.0, 0.1)\n",
    "dwells = np.arange(3, 15, 1.0)\n",
    "waits = np.arange(1.0,10.0, 1.0)\n",
    "Is = np.arange(1000.0, 3000.0, 250)*1e4\n",
    "\n",
    "e0,e1,e2 = np.meshgrid(speeds,dwells,waits,indexing='ij')\n",
    "\n",
    "nsims_to_run = np.product(e0.shape)"
   ]
  },
  {
   "cell_type": "code",
   "execution_count": null,
   "metadata": {
    "collapsed": false
   },
   "outputs": [],
   "source": [
    "Fgrid = list( map( lambda sp,dw,wt: VolumeObjective_2(np.array([sp,dw,wt,2000.0]) ) , e0.flatten(), e1.flatten(), e2.flatten() )  )"
   ]
  },
  {
   "cell_type": "code",
   "execution_count": null,
   "metadata": {
    "collapsed": false
   },
   "outputs": [],
   "source": [
    "Fdat=np.reshape( Fgrid, [len(speeds), len(dwells), len(waits)] )"
   ]
  },
  {
   "cell_type": "code",
   "execution_count": null,
   "metadata": {
    "collapsed": false
   },
   "outputs": [],
   "source": [
    "np.min(Fdat)"
   ]
  },
  {
   "cell_type": "code",
   "execution_count": 4,
   "metadata": {
    "collapsed": false
   },
   "outputs": [
    {
     "name": "stdout",
     "output_type": "stream",
     "text": [
      "[  1.00000000e-01   4.75000000e+00   1.50000000e+07]  ->  27008809\n",
      "[  2.00000000e-01   4.75000000e+00   1.50000000e+07]  ->  4251844\n",
      "[  3.00000000e-01   4.75000000e+00   1.50000000e+07]  ->  9778129\n",
      "[  4.00000000e-01   4.75000000e+00   1.50000000e+07]  ->  9796900\n",
      "[  5.00000000e-01   4.75000000e+00   1.50000000e+07]  ->  9796900\n",
      "[  6.00000000e-01   4.75000000e+00   1.50000000e+07]  ->  9796900\n",
      "[  7.00000000e-01   4.75000000e+00   1.50000000e+07]  ->  9796900\n",
      "[  8.00000000e-01   4.75000000e+00   1.50000000e+07]  ->  9796900\n",
      "[  9.00000000e-01   4.75000000e+00   1.50000000e+07]  ->  9796900\n"
     ]
    }
   ],
   "source": [
    "FvsV = list( map( lambda sp: VolumeObjective_2(np.array([sp, 4.75, 1500.0e4]) ) , speeds )  )"
   ]
  },
  {
   "cell_type": "code",
   "execution_count": 5,
   "metadata": {
    "collapsed": false
   },
   "outputs": [
    {
     "name": "stdout",
     "output_type": "stream",
     "text": [
      "[0.3, 3.0, 15000000.0]  ->  9796900\n",
      "[0.3, 4.0, 15000000.0]  ->  9796900\n",
      "[0.3, 5.0, 15000000.0]  ->  9784384\n",
      "[0.3, 6.0, 15000000.0]  ->  9734400\n",
      "[0.3, 7.0, 15000000.0]  ->  9703225\n",
      "[0.3, 8.0, 15000000.0]  ->  9696996\n",
      "[0.3, 9.0, 15000000.0]  ->  9622404\n",
      "[0.3, 10.0, 15000000.0]  ->  9616201\n",
      "[0.3, 11.0, 15000000.0]  ->  9597604\n",
      "[0.3, 12.0, 15000000.0]  ->  9672100\n",
      "[0.3, 13.0, 15000000.0]  ->  9523396\n",
      "[0.3, 14.0, 15000000.0]  ->  9603801\n"
     ]
    }
   ],
   "source": [
    "FvsDw = list( map( lambda dw: VolumeObjective_2([0.3, dw, 1500.0e4] ) , dwells )  )"
   ]
  },
  {
   "cell_type": "code",
   "execution_count": null,
   "metadata": {
    "collapsed": false
   },
   "outputs": [],
   "source": [
    "VolumeObjective_2([0.3, 1.0, 1500e4] )"
   ]
  },
  {
   "cell_type": "code",
   "execution_count": 6,
   "metadata": {
    "collapsed": false
   },
   "outputs": [
    {
     "data": {
      "text/plain": [
       "[<matplotlib.lines.Line2D at 0x7655320>]"
      ]
     },
     "execution_count": 6,
     "metadata": {},
     "output_type": "execute_result"
    },
    {
     "data": {
      "image/png": "[encoded data removed]",
      "text/plain": [
       "<matplotlib.figure.Figure at 0x57d18d0>"
      ]
     },
     "metadata": {},
     "output_type": "display_data"
    }
   ],
   "source": [
    "plt.plot(FvsDw)"
   ]
  },
  {
   "cell_type": "code",
   "execution_count": 28,
   "metadata": {
    "collapsed": false
   },
   "outputs": [
    {
     "name": "stderr",
     "output_type": "stream",
     "text": [
      "C:\\Users\\Vandiver\\Anaconda3\\lib\\site-packages\\ipykernel\\__main__.py:4: DeprecationWarning: using a non-integer number instead of an integer will result in an error in the future\n"
     ]
    },
    {
     "data": {
      "text/plain": [
       "<matplotlib.image.AxesImage at 0xe06a978>"
      ]
     },
     "execution_count": 28,
     "metadata": {},
     "output_type": "execute_result"
    },
    {
     "data": {
      "image/png": "[encoded data removed]",
      "text/plain": [
       "<matplotlib.figure.Figure at 0xd21b630>"
      ]
     },
     "metadata": {},
     "output_type": "display_data"
    }
   ],
   "source": [
    "plt.subplot(121)\n",
    "plt.imshow(roiExtra[:,:,focplaneZpix])\n",
    "plt.subplot(122)\n",
    "plt.imshow(roiExtra[:,Ny/2,:])"
   ]
  },
  {
   "cell_type": "code",
   "execution_count": null,
   "metadata": {
    "collapsed": false
   },
   "outputs": [],
   "source": [
    "plotTraj([1.1,7.0])\n",
    "plotTraj([1.0,7.0])\n",
    "plotTraj([0.5,7.0])\n",
    "plotTraj([0.4,7.0])\n",
    "plotTraj([0.3,7.0])"
   ]
  },
  {
   "cell_type": "code",
   "execution_count": null,
   "metadata": {
    "collapsed": false
   },
   "outputs": [],
   "source": [
    "plotTraj([0.5,10.0]);\n",
    "plotTraj([10.0,0.5]);"
   ]
  },
  {
   "cell_type": "code",
   "execution_count": null,
   "metadata": {
    "collapsed": false
   },
   "outputs": [],
   "source": [
    "np.sum( CEM[roiOnTarget]  >= 240.0 )"
   ]
  },
  {
   "cell_type": "code",
   "execution_count": 17,
   "metadata": {
    "collapsed": false
   },
   "outputs": [
    {
     "data": {
      "text/plain": [
       "array([  2.00000000e+00,   9.00000000e+00,   2.00000000e+00,\n",
       "         2.00000000e+07])"
      ]
     },
     "execution_count": 17,
     "metadata": {},
     "output_type": "execute_result"
    }
   ],
   "source": [
    "x0"
   ]
  },
  {
   "cell_type": "code",
   "execution_count": 24,
   "metadata": {
    "collapsed": false
   },
   "outputs": [
    {
     "data": {
      "text/plain": [
       "array([[ -2.00000000e+00,   7.34788079e-16,   1.40000000e+02],\n",
       "       [ -1.10218212e-15,  -6.00000000e+00,   1.40000000e+02],\n",
       "       [  1.83697020e-15,   6.00000000e+00,   1.40000000e+02]])"
      ]
     },
     "execution_count": 24,
     "metadata": {},
     "output_type": "execute_result"
    },
    {
     "data": {
      "image/png": "[encoded data removed]",
      "text/plain": [
       "<matplotlib.figure.Figure at 0xd1ab128>"
      ]
     },
     "metadata": {},
     "output_type": "display_data"
    }
   ],
   "source": [
    "plotTraj([1.0, 16., 2.])"
   ]
  },
  {
   "cell_type": "code",
   "execution_count": 3,
   "metadata": {
    "collapsed": false
   },
   "outputs": [
    {
     "name": "stdout",
     "output_type": "stream",
     "text": [
      "sonication 1\n",
      "0%\n",
      "55%\n",
      "sonication 2\n",
      "0%\n",
      "55%\n",
      "sonication 3\n",
      "0%\n",
      "55%\n",
      "sonication 4\n",
      "0%\n",
      "55%\n",
      "sonication 5\n",
      "0%\n",
      "55%\n",
      "[  1.00000000e+00   9.00000000e+00   2.00000000e+00   2.00000000e+07]  ->  50268100\n"
     ]
    },
    {
     "data": {
      "text/plain": [
       "50268100"
      ]
     },
     "execution_count": 3,
     "metadata": {},
     "output_type": "execute_result"
    }
   ],
   "source": [
    "VolumeObjective_4(x0,verbose=True)"
   ]
  },
  {
   "cell_type": "code",
   "execution_count": 14,
   "metadata": {
    "collapsed": false
   },
   "outputs": [
    {
     "data": {
      "text/plain": [
       "<matplotlib.image.AxesImage at 0x755ae80>"
      ]
     },
     "execution_count": 14,
     "metadata": {},
     "output_type": "execute_result"
    },
    {
     "data": {
      "image/png": "[encoded data removed]",
      "text/plain": [
       "<matplotlib.figure.Figure at 0x74ea4a8>"
      ]
     },
     "metadata": {},
     "output_type": "display_data"
    }
   ],
   "source": [
    "plt.figure(figsize=(12,9))\n",
    "plt.subplot(121)\n",
    "plt.imshow(CEM[:,:,focplaneZpix],vmin=0,vmax=240,cmap=plt.cm.hot, extent=[1e3*xrp[0], 1e3*xrp[-1], 1e3*yrp[-1], 1e3*yrp[0]])\n",
    "plotTraj(x0[0:3])\n",
    "plt.subplot(122)\n",
    "plt.imshow(CEM[:,floor(Ny/2),:],vmin=0,vmax=240,cmap=plt.cm.hot, extent=[1e3*zrp[0], 1e3*zrp[-1], 1e3*yrp[-1], 1e3*yrp[0]])"
   ]
  },
  {
   "cell_type": "code",
   "execution_count": 7,
   "metadata": {
    "collapsed": false
   },
   "outputs": [
    {
     "data": {
      "text/plain": [
       "<matplotlib.image.AxesImage at 0xda4ae80>"
      ]
     },
     "execution_count": 7,
     "metadata": {},
     "output_type": "execute_result"
    },
    {
     "data": {
      "image/png": "[encoded data removed]",
      "text/plain": [
       "<matplotlib.figure.Figure at 0xd974a20>"
      ]
     },
     "metadata": {},
     "output_type": "display_data"
    }
   ],
   "source": [
    "plt.figure(figsize=(12,9))\n",
    "plt.subplot(121)\n",
    "plt.imshow(CEM[:,:,focplaneZpix],vmin=0,vmax=240,cmap=plt.cm.hot, extent=[1e3*xrp[0], 1e3*xrp[-1], 1e3*yrp[-1], 1e3*yrp[0]])\n",
    "#plt.plot(points[:,0], points[:,1], '-*b')\n",
    "#plotTraj([0.3,14,2.0])\n",
    "plt.subplot(122)\n",
    "plt.imshow(CEM[:,floor(Ny/2),:],vmin=0,vmax=240,cmap=plt.cm.hot, extent=[1e3*zrp[0], 1e3*zrp[-1], 1e3*yrp[-1], 1e3*yrp[0]])"
   ]
  },
  {
   "cell_type": "code",
   "execution_count": 8,
   "metadata": {
    "collapsed": false
   },
   "outputs": [
    {
     "data": {
      "text/plain": [
       "<matplotlib.image.AxesImage at 0xd857b70>"
      ]
     },
     "execution_count": 8,
     "metadata": {},
     "output_type": "execute_result"
    },
    {
     "data": {
      "image/png": "[encoded data removed]",
      "text/plain": [
       "<matplotlib.figure.Figure at 0xd97db00>"
      ]
     },
     "metadata": {},
     "output_type": "display_data"
    }
   ],
   "source": [
    "plt.figure(figsize=(12,9))\n",
    "plt.subplot(121)\n",
    "plt.imshow(T[0][:,:,focplaneZpix],vmin=37,vmax=60,cmap=plt.cm.hot, extent=[1e3*xrp[0], 1e3*xrp[-1], 1e3*yrp[-1], 1e3*yrp[0]])\n",
    "#plt.plot(points[:,0], points[:,1], '-*b')\n",
    "plt.subplot(122)\n",
    "plt.imshow(T[0][:,floor(Ny/2),:],vmin=37,vmax=60,cmap=plt.cm.hot, extent=[1e3*zrp[0], 1e3*zrp[-1], 1e3*yrp[-1], 1e3*yrp[0]])"
   ]
  },
  {
   "cell_type": "code",
   "execution_count": 11,
   "metadata": {
    "collapsed": false
   },
   "outputs": [
    {
     "data": {
      "text/plain": [
       "<matplotlib.image.AxesImage at 0xe10a3c8>"
      ]
     },
     "execution_count": 11,
     "metadata": {},
     "output_type": "execute_result"
    },
    {
     "data": {
      "image/png": "[encoded data removed]",
      "text/plain": [
       "<matplotlib.figure.Figure at 0xe02b780>"
      ]
     },
     "metadata": {},
     "output_type": "display_data"
    }
   ],
   "source": [
    "plt.figure(figsize=(12,9))\n",
    "plt.subplot(121)\n",
    "plt.imshow(np.transpose(T[0][:,:,focplaneZpix]),vmin=37,vmax=60,cmap=plt.cm.hot, extent=[1e3*yrp[0], 1e3*yrp[-1], 1e3*xrp[-1], 1e3*xrp[0]])\n",
    "#plt.plot(points[:,0], points[:,1], '-*b')\n",
    "plotTraj([0.3,10,2.0])\n",
    "plt.subplot(122)\n",
    "plt.imshow((T[0][:,floor(Ny/2),:]),vmin=37,vmax=60,cmap=plt.cm.hot, extent=[1e3*zrp[0], 1e3*zrp[-1], 1e3*xrp[-1], 1e3*xrp[0]])"
   ]
  },
  {
   "cell_type": "code",
   "execution_count": 13,
   "metadata": {
    "collapsed": false
   },
   "outputs": [
    {
     "name": "stdout",
     "output_type": "stream",
     "text": [
      "Proceeding with simulation...\n"
     ]
    }
   ],
   "source": [
    "run CirclePathOptimization4.py -gpu -XR 4.0 -YR 4.0 -Nx 60 -Ny 60 -Nz 60 -w 2.0 -d 4.0 -speed 2.0 -a 9.0 -I 2000 "
   ]
  },
  {
   "cell_type": "code",
   "execution_count": 25,
   "metadata": {
    "collapsed": true
   },
   "outputs": [],
   "source": [
    "speeds = np.arange(0.2, 1.5, 0.1)\n",
    "dwells = np.arange(2, 14, 1.0)\n",
    "waits = np.arange(2.0,10.0, 2.0)\n",
    "Is = np.arange(1000.0, 3000.0, 250)*1e4\n",
    "\n",
    "e0,e1,e2,e3 = np.meshgrid(speeds,dwells,waits,Is,indexing='ij')\n",
    "\n",
    "nsims_to_run = np.product(e0.shape)"
   ]
  },
  {
   "cell_type": "code",
   "execution_count": 27,
   "metadata": {
    "collapsed": false
   },
   "outputs": [
    {
     "data": {
      "text/plain": [
       "4992"
      ]
     },
     "execution_count": 27,
     "metadata": {},
     "output_type": "execute_result"
    }
   ],
   "source": [
    "nsims_to_run"
   ]
  },
  {
   "cell_type": "code",
   "execution_count": 19,
   "metadata": {
    "collapsed": false
   },
   "outputs": [],
   "source": [
    "paramsFgrid = list( map( lambda sp,dw,wt,I: (np.array([sp,dw,wt,I]) ) , e0.flatten(), e1.flatten(), e2.flatten(), e3.flatten() ))"
   ]
  },
  {
   "cell_type": "code",
   "execution_count": null,
   "metadata": {
    "collapsed": false
   },
   "outputs": [
    {
     "name": "stdout",
     "output_type": "stream",
     "text": [
      "[  2.00000000e-01   2.00000000e+00   2.00000000e+00   1.00000000e+07]  ->  50268100\n",
      "[  2.00000000e-01   2.00000000e+00   2.00000000e+00   1.25000000e+07]  ->  43652449\n",
      "[  2.00000000e-01   2.00000000e+00   2.00000000e+00   1.50000000e+07]  ->  20268004\n",
      "[  2.00000000e-01   2.00000000e+00   2.00000000e+00   1.75000000e+07]  ->  1432809\n",
      "[  2.00000000e-01   2.00000000e+00   2.00000000e+00   2.00000000e+07]  ->  3038049\n",
      "[  2.00000000e-01   2.00000000e+00   2.00000000e+00   2.25000000e+07]  ->  19044496\n",
      "[  2.00000000e-01   2.00000000e+00   2.00000000e+00   2.50000000e+07]  ->  35462025\n",
      "[  2.00000000e-01   2.00000000e+00   2.00000000e+00   2.75000000e+07]  ->  54789604\n",
      "[  2.00000000e-01   2.00000000e+00   4.00000000e+00   1.00000000e+07]  ->  50268100\n",
      "[  2.00000000e-01   2.00000000e+00   4.00000000e+00   1.25000000e+07]  ->  50268100\n",
      "[  2.00000000e-01   2.00000000e+00   4.00000000e+00   1.50000000e+07]  ->  42667024\n",
      "[  2.00000000e-01   2.00000000e+00   4.00000000e+00   1.75000000e+07]  ->  13104400\n",
      "[  2.00000000e-01   2.00000000e+00   4.00000000e+00   2.00000000e+07]  ->  235225\n",
      "[  2.00000000e-01   2.00000000e+00   4.00000000e+00   2.25000000e+07]  ->  18870336\n",
      "[  2.00000000e-01   2.00000000e+00   4.00000000e+00   2.50000000e+07]  ->  64657681\n",
      "[  2.00000000e-01   2.00000000e+00   4.00000000e+00   2.75000000e+07]  ->  133841761\n",
      "[  2.00000000e-01   2.00000000e+00   6.00000000e+00   1.00000000e+07]  ->  50268100\n",
      "[  2.00000000e-01   2.00000000e+00   6.00000000e+00   1.25000000e+07]  ->  50268100\n",
      "[  2.00000000e-01   2.00000000e+00   6.00000000e+00   1.50000000e+07]  ->  50239744\n",
      "[  2.00000000e-01   2.00000000e+00   6.00000000e+00   1.75000000e+07]  ->  26071236\n",
      "[  2.00000000e-01   2.00000000e+00   6.00000000e+00   2.00000000e+07]  ->  114244\n",
      "[  2.00000000e-01   2.00000000e+00   6.00000000e+00   2.25000000e+07]  ->  44182609\n",
      "[  2.00000000e-01   2.00000000e+00   6.00000000e+00   2.50000000e+07]  ->  155127025\n",
      "[  2.00000000e-01   2.00000000e+00   6.00000000e+00   2.75000000e+07]  ->  234059401\n",
      "[  2.00000000e-01   2.00000000e+00   8.00000000e+00   1.00000000e+07]  ->  50268100\n",
      "[  2.00000000e-01   2.00000000e+00   8.00000000e+00   1.25000000e+07]  ->  50268100\n",
      "[  2.00000000e-01   2.00000000e+00   8.00000000e+00   1.50000000e+07]  ->  50268100\n",
      "[  2.00000000e-01   2.00000000e+00   8.00000000e+00   1.75000000e+07]  ->  32844361\n",
      "[  2.00000000e-01   2.00000000e+00   8.00000000e+00   2.00000000e+07]  ->  1876900\n",
      "[  2.00000000e-01   2.00000000e+00   8.00000000e+00   2.25000000e+07]  ->  132779529\n",
      "[  2.00000000e-01   2.00000000e+00   8.00000000e+00   2.50000000e+07]  ->  239444676\n",
      "[  2.00000000e-01   2.00000000e+00   8.00000000e+00   2.75000000e+07]  ->  288388324\n",
      "[  2.00000000e-01   3.00000000e+00   2.00000000e+00   1.00000000e+07]  ->  50268100\n",
      "[  2.00000000e-01   3.00000000e+00   2.00000000e+00   1.25000000e+07]  ->  34892649\n",
      "[  2.00000000e-01   3.00000000e+00   2.00000000e+00   1.50000000e+07]  ->  10214416\n",
      "[  2.00000000e-01   3.00000000e+00   2.00000000e+00   1.75000000e+07]  ->  289\n",
      "[  2.00000000e-01   3.00000000e+00   2.00000000e+00   2.00000000e+07]  ->  7733961\n",
      "[  2.00000000e-01   3.00000000e+00   2.00000000e+00   2.25000000e+07]  ->  23290276\n",
      "[  2.00000000e-01   3.00000000e+00   2.00000000e+00   2.50000000e+07]  ->  37210000\n",
      "[  2.00000000e-01   3.00000000e+00   2.00000000e+00   2.75000000e+07]  ->  52911076\n",
      "[  2.00000000e-01   3.00000000e+00   4.00000000e+00   1.00000000e+07]  ->  50268100\n",
      "[  2.00000000e-01   3.00000000e+00   4.00000000e+00   1.25000000e+07]  ->  47348161\n",
      "[  2.00000000e-01   3.00000000e+00   4.00000000e+00   1.50000000e+07]  ->  26471025\n",
      "[  2.00000000e-01   3.00000000e+00   4.00000000e+00   1.75000000e+07]  ->  2849344\n",
      "[  2.00000000e-01   3.00000000e+00   4.00000000e+00   2.00000000e+07]  ->  3326976\n",
      "[  2.00000000e-01   3.00000000e+00   4.00000000e+00   2.25000000e+07]  ->  23493409\n",
      "[  2.00000000e-01   3.00000000e+00   4.00000000e+00   2.50000000e+07]  ->  49084036\n",
      "[  2.00000000e-01   3.00000000e+00   4.00000000e+00   2.75000000e+07]  ->  90117049\n",
      "[  2.00000000e-01   3.00000000e+00   6.00000000e+00   1.00000000e+07]  ->  50268100\n",
      "[  2.00000000e-01   3.00000000e+00   6.00000000e+00   1.25000000e+07]  ->  50268100\n",
      "[  2.00000000e-01   3.00000000e+00   6.00000000e+00   1.50000000e+07]  ->  39601849\n",
      "[  2.00000000e-01   3.00000000e+00   6.00000000e+00   1.75000000e+07]  ->  8856576\n",
      "[  2.00000000e-01   3.00000000e+00   6.00000000e+00   2.00000000e+07]  ->  2079364\n",
      "[  2.00000000e-01   3.00000000e+00   6.00000000e+00   2.25000000e+07]  ->  28815424\n",
      "[  2.00000000e-01   3.00000000e+00   6.00000000e+00   2.50000000e+07]  ->  85932900\n",
      "[  2.00000000e-01   3.00000000e+00   6.00000000e+00   2.75000000e+07]  ->  165482496\n",
      "[  2.00000000e-01   3.00000000e+00   8.00000000e+00   1.00000000e+07]  ->  50268100\n",
      "[  2.00000000e-01   3.00000000e+00   8.00000000e+00   1.25000000e+07]  ->  50268100\n",
      "[  2.00000000e-01   3.00000000e+00   8.00000000e+00   1.50000000e+07]  ->  47914084\n",
      "[  2.00000000e-01   3.00000000e+00   8.00000000e+00   1.75000000e+07]  ->  14799409\n",
      "[  2.00000000e-01   3.00000000e+00   8.00000000e+00   2.00000000e+07]  ->  2480625\n",
      "[  2.00000000e-01   3.00000000e+00   8.00000000e+00   2.25000000e+07]  ->  53319204\n",
      "[  2.00000000e-01   3.00000000e+00   8.00000000e+00   2.50000000e+07]  ->  157101156\n",
      "[  2.00000000e-01   3.00000000e+00   8.00000000e+00   2.75000000e+07]  ->  232501504\n",
      "[  2.00000000e-01   4.00000000e+00   2.00000000e+00   1.00000000e+07]  ->  49603849\n",
      "[  2.00000000e-01   4.00000000e+00   2.00000000e+00   1.25000000e+07]  ->  30913600\n",
      "[  2.00000000e-01   4.00000000e+00   2.00000000e+00   1.50000000e+07]  ->  6502500\n",
      "[  2.00000000e-01   4.00000000e+00   2.00000000e+00   1.75000000e+07]  ->  234256\n",
      "[  2.00000000e-01   4.00000000e+00   2.00000000e+00   2.00000000e+07]  ->  9954025\n",
      "[  2.00000000e-01   4.00000000e+00   2.00000000e+00   2.25000000e+07]  ->  24383844\n",
      "[  2.00000000e-01   4.00000000e+00   2.00000000e+00   2.50000000e+07]  ->  36929929\n",
      "[  2.00000000e-01   4.00000000e+00   2.00000000e+00   2.75000000e+07]  ->  51079609\n",
      "[  2.00000000e-01   4.00000000e+00   4.00000000e+00   1.00000000e+07]  ->  50268100\n",
      "[  2.00000000e-01   4.00000000e+00   4.00000000e+00   1.25000000e+07]  ->  42237001\n",
      "[  2.00000000e-01   4.00000000e+00   4.00000000e+00   1.50000000e+07]  ->  17189316\n",
      "[  2.00000000e-01   4.00000000e+00   4.00000000e+00   1.75000000e+07]  ->  407044\n",
      "[  2.00000000e-01   4.00000000e+00   4.00000000e+00   2.00000000e+07]  ->  6260004\n",
      "[  2.00000000e-01   4.00000000e+00   4.00000000e+00   2.25000000e+07]  ->  24920064\n",
      "[  2.00000000e-01   4.00000000e+00   4.00000000e+00   2.50000000e+07]  ->  43467649\n",
      "[  2.00000000e-01   4.00000000e+00   4.00000000e+00   2.75000000e+07]  ->  72250000\n",
      "[  2.00000000e-01   4.00000000e+00   6.00000000e+00   1.00000000e+07]  ->  50268100\n",
      "[  2.00000000e-01   4.00000000e+00   6.00000000e+00   1.25000000e+07]  ->  48455521\n",
      "[  2.00000000e-01   4.00000000e+00   6.00000000e+00   1.50000000e+07]  ->  28761769\n",
      "[  2.00000000e-01   4.00000000e+00   6.00000000e+00   1.75000000e+07]  ->  3243601\n",
      "[  2.00000000e-01   4.00000000e+00   6.00000000e+00   2.00000000e+07]  ->  4100625\n",
      "[  2.00000000e-01   4.00000000e+00   6.00000000e+00   2.25000000e+07]  ->  26915344\n",
      "[  2.00000000e-01   4.00000000e+00   6.00000000e+00   2.50000000e+07]  ->  60762025\n",
      "[  2.00000000e-01   4.00000000e+00   6.00000000e+00   2.75000000e+07]  ->  114276100\n",
      "[  2.00000000e-01   4.00000000e+00   8.00000000e+00   1.00000000e+07]  ->  50268100\n",
      "[  2.00000000e-01   4.00000000e+00   8.00000000e+00   1.25000000e+07]  ->  50268100\n",
      "[  2.00000000e-01   4.00000000e+00   8.00000000e+00   1.50000000e+07]  ->  38837824\n",
      "[  2.00000000e-01   4.00000000e+00   8.00000000e+00   1.75000000e+07]  ->  7338681\n",
      "[  2.00000000e-01   4.00000000e+00   8.00000000e+00   2.00000000e+07]  ->  3682561\n",
      "[  2.00000000e-01   4.00000000e+00   8.00000000e+00   2.25000000e+07]  ->  34421689\n",
      "[  2.00000000e-01   4.00000000e+00   8.00000000e+00   2.50000000e+07]  ->  96510976\n",
      "[  2.00000000e-01   4.00000000e+00   8.00000000e+00   2.75000000e+07]  ->  179211769\n",
      "[  2.00000000e-01   5.00000000e+00   2.00000000e+00   1.00000000e+07]  ->  48608784\n",
      "[  2.00000000e-01   5.00000000e+00   2.00000000e+00   1.25000000e+07]  ->  27290176\n",
      "[  2.00000000e-01   5.00000000e+00   2.00000000e+00   1.50000000e+07]  ->  4056196\n",
      "[  2.00000000e-01   5.00000000e+00   2.00000000e+00   1.75000000e+07]  ->  935089\n",
      "[  2.00000000e-01   5.00000000e+00   2.00000000e+00   2.00000000e+07]  ->  12446784\n",
      "[  2.00000000e-01   5.00000000e+00   2.00000000e+00   2.25000000e+07]  ->  26553409\n",
      "[  2.00000000e-01   5.00000000e+00   2.00000000e+00   2.50000000e+07]  ->  38489616\n",
      "[  2.00000000e-01   5.00000000e+00   2.00000000e+00   2.75000000e+07]  ->  52577001\n",
      "[  2.00000000e-01   5.00000000e+00   4.00000000e+00   1.00000000e+07]  ->  50268100\n",
      "[  2.00000000e-01   5.00000000e+00   4.00000000e+00   1.25000000e+07]  ->  36808489\n",
      "[  2.00000000e-01   5.00000000e+00   4.00000000e+00   1.50000000e+07]  ->  10929636\n",
      "[  2.00000000e-01   5.00000000e+00   4.00000000e+00   1.75000000e+07]  ->  10816\n",
      "[  2.00000000e-01   5.00000000e+00   4.00000000e+00   2.00000000e+07]  ->  9897316\n",
      "[  2.00000000e-01   5.00000000e+00   4.00000000e+00   2.25000000e+07]  ->  27531009\n",
      "[  2.00000000e-01   5.00000000e+00   4.00000000e+00   2.50000000e+07]  ->  44302336\n",
      "[  2.00000000e-01   5.00000000e+00   4.00000000e+00   2.75000000e+07]  ->  69072721\n",
      "[  2.00000000e-01   5.00000000e+00   6.00000000e+00   1.00000000e+07]  ->  50268100\n",
      "[  2.00000000e-01   5.00000000e+00   6.00000000e+00   1.25000000e+07]  ->  44702596\n",
      "[  2.00000000e-01   5.00000000e+00   6.00000000e+00   1.50000000e+07]  ->  19018321\n",
      "[  2.00000000e-01   5.00000000e+00   6.00000000e+00   1.75000000e+07]  ->  419904\n",
      "[  2.00000000e-01   5.00000000e+00   6.00000000e+00   2.00000000e+07]  ->  7767369\n",
      "[  2.00000000e-01   5.00000000e+00   6.00000000e+00   2.25000000e+07]  ->  29626249\n",
      "[  2.00000000e-01   5.00000000e+00   6.00000000e+00   2.50000000e+07]  ->  56130064\n",
      "[  2.00000000e-01   5.00000000e+00   6.00000000e+00   2.75000000e+07]  ->  99920016\n",
      "[  2.00000000e-01   5.00000000e+00   8.00000000e+00   1.00000000e+07]  ->  50268100\n",
      "[  2.00000000e-01   5.00000000e+00   8.00000000e+00   1.25000000e+07]  ->  48748324\n",
      "[  2.00000000e-01   5.00000000e+00   8.00000000e+00   1.50000000e+07]  ->  28955161\n",
      "[  2.00000000e-01   5.00000000e+00   8.00000000e+00   1.75000000e+07]  ->  2202256\n",
      "[  2.00000000e-01   5.00000000e+00   8.00000000e+00   2.00000000e+07]  ->  6697744\n",
      "[  2.00000000e-01   5.00000000e+00   8.00000000e+00   2.25000000e+07]  ->  34292736\n",
      "[  2.00000000e-01   5.00000000e+00   8.00000000e+00   2.50000000e+07]  ->  80946009\n",
      "[  2.00000000e-01   5.00000000e+00   8.00000000e+00   2.75000000e+07]  ->  150209536\n",
      "[  2.00000000e-01   6.00000000e+00   2.00000000e+00   1.00000000e+07]  ->  49266361\n",
      "[  2.00000000e-01   6.00000000e+00   2.00000000e+00   1.25000000e+07]  ->  30228004\n",
      "[  2.00000000e-01   6.00000000e+00   2.00000000e+00   1.50000000e+07]  ->  6661561\n",
      "[  2.00000000e-01   6.00000000e+00   2.00000000e+00   1.75000000e+07]  ->  85849\n",
      "[  2.00000000e-01   6.00000000e+00   2.00000000e+00   2.00000000e+07]  ->  8375236\n",
      "[  2.00000000e-01   6.00000000e+00   2.00000000e+00   2.25000000e+07]  ->  21086464\n",
      "[  2.00000000e-01   6.00000000e+00   2.00000000e+00   2.50000000e+07]  ->  32626944\n",
      "[  2.00000000e-01   6.00000000e+00   2.00000000e+00   2.75000000e+07]  ->  43983424\n",
      "[  2.00000000e-01   6.00000000e+00   4.00000000e+00   1.00000000e+07]  ->  50268100\n",
      "[  2.00000000e-01   6.00000000e+00   4.00000000e+00   1.25000000e+07]  ->  37724164\n",
      "[  2.00000000e-01   6.00000000e+00   4.00000000e+00   1.50000000e+07]  ->  13068225\n",
      "[  2.00000000e-01   6.00000000e+00   4.00000000e+00   1.75000000e+07]  ->  209764\n",
      "[  2.00000000e-01   6.00000000e+00   4.00000000e+00   2.00000000e+07]  ->  6056521\n",
      "[  2.00000000e-01   6.00000000e+00   4.00000000e+00   2.25000000e+07]  ->  21409129\n",
      "[  2.00000000e-01   6.00000000e+00   4.00000000e+00   2.50000000e+07]  ->  35366809\n",
      "[  2.00000000e-01   6.00000000e+00   4.00000000e+00   2.75000000e+07]  ->  50197225\n",
      "[  2.00000000e-01   6.00000000e+00   6.00000000e+00   1.00000000e+07]  ->  50268100\n",
      "[  2.00000000e-01   6.00000000e+00   6.00000000e+00   1.25000000e+07]  ->  44156025\n",
      "[  2.00000000e-01   6.00000000e+00   6.00000000e+00   1.50000000e+07]  ->  20529961\n",
      "[  2.00000000e-01   6.00000000e+00   6.00000000e+00   1.75000000e+07]  ->  1476225\n",
      "[  2.00000000e-01   6.00000000e+00   6.00000000e+00   2.00000000e+07]  ->  4145296\n",
      "[  2.00000000e-01   6.00000000e+00   6.00000000e+00   2.25000000e+07]  ->  21678336\n",
      "[  2.00000000e-01   6.00000000e+00   6.00000000e+00   2.50000000e+07]  ->  38601369\n",
      "[  2.00000000e-01   6.00000000e+00   6.00000000e+00   2.75000000e+07]  ->  61371556\n",
      "[  2.00000000e-01   6.00000000e+00   8.00000000e+00   1.00000000e+07]  ->  50268100\n",
      "[  2.00000000e-01   6.00000000e+00   8.00000000e+00   1.25000000e+07]  ->  48024900\n",
      "[  2.00000000e-01   6.00000000e+00   8.00000000e+00   1.50000000e+07]  ->  28601104\n",
      "[  2.00000000e-01   6.00000000e+00   8.00000000e+00   1.75000000e+07]  ->  4322241\n",
      "[  2.00000000e-01   6.00000000e+00   8.00000000e+00   2.00000000e+07]  ->  2634129\n",
      "[  2.00000000e-01   6.00000000e+00   8.00000000e+00   2.25000000e+07]  ->  21687649\n",
      "[  2.00000000e-01   6.00000000e+00   8.00000000e+00   2.50000000e+07]  ->  45037521\n",
      "[  2.00000000e-01   6.00000000e+00   8.00000000e+00   2.75000000e+07]  ->  82065481\n",
      "[  2.00000000e-01   7.00000000e+00   2.00000000e+00   1.00000000e+07]  ->  48233025\n",
      "[  2.00000000e-01   7.00000000e+00   2.00000000e+00   1.25000000e+07]  ->  26759929\n",
      "[  2.00000000e-01   7.00000000e+00   2.00000000e+00   1.50000000e+07]  ->  4145296\n",
      "[  2.00000000e-01   7.00000000e+00   2.00000000e+00   1.75000000e+07]  ->  741321\n",
      "[  2.00000000e-01   7.00000000e+00   2.00000000e+00   2.00000000e+07]  ->  11202409\n",
      "[  2.00000000e-01   7.00000000e+00   2.00000000e+00   2.25000000e+07]  ->  23697424\n",
      "[  2.00000000e-01   7.00000000e+00   2.00000000e+00   2.50000000e+07]  ->  35331136\n",
      "[  2.00000000e-01   7.00000000e+00   2.00000000e+00   2.75000000e+07]  ->  47320641\n",
      "[  2.00000000e-01   7.00000000e+00   4.00000000e+00   1.00000000e+07]  ->  49970761\n",
      "[  2.00000000e-01   7.00000000e+00   4.00000000e+00   1.25000000e+07]  ->  33663204\n",
      "[  2.00000000e-01   7.00000000e+00   4.00000000e+00   1.50000000e+07]  ->  8838729\n",
      "[  2.00000000e-01   7.00000000e+00   4.00000000e+00   1.75000000e+07]  ->  67081\n",
      "[  2.00000000e-01   7.00000000e+00   4.00000000e+00   2.00000000e+07]  ->  9834496\n",
      "[  2.00000000e-01   7.00000000e+00   4.00000000e+00   2.25000000e+07]  ->  24930049\n",
      "[  2.00000000e-01   7.00000000e+00   4.00000000e+00   2.50000000e+07]  ->  38688400\n",
      "[  2.00000000e-01   7.00000000e+00   4.00000000e+00   2.75000000e+07]  ->  54154881\n",
      "[  2.00000000e-01   7.00000000e+00   6.00000000e+00   1.00000000e+07]  ->  50268100\n",
      "[  2.00000000e-01   7.00000000e+00   6.00000000e+00   1.25000000e+07]  ->  39639616\n",
      "[  2.00000000e-01   7.00000000e+00   6.00000000e+00   1.50000000e+07]  ->  14167696\n",
      "[  2.00000000e-01   7.00000000e+00   6.00000000e+00   1.75000000e+07]  ->  87025\n",
      "[  2.00000000e-01   7.00000000e+00   6.00000000e+00   2.00000000e+07]  ->  8213956\n",
      "[  2.00000000e-01   7.00000000e+00   6.00000000e+00   2.25000000e+07]  ->  25735329\n",
      "[  2.00000000e-01   7.00000000e+00   6.00000000e+00   2.50000000e+07]  ->  42549529\n",
      "[  2.00000000e-01   7.00000000e+00   6.00000000e+00   2.75000000e+07]  ->  66552964\n",
      "[  2.00000000e-01   7.00000000e+00   8.00000000e+00   1.00000000e+07]  ->  50268100\n",
      "[  2.00000000e-01   7.00000000e+00   8.00000000e+00   1.25000000e+07]  ->  45239076\n",
      "[  2.00000000e-01   7.00000000e+00   8.00000000e+00   1.50000000e+07]  ->  20757136\n",
      "[  2.00000000e-01   7.00000000e+00   8.00000000e+00   1.75000000e+07]  ->  948676\n",
      "[  2.00000000e-01   7.00000000e+00   8.00000000e+00   2.00000000e+07]  ->  6482116\n",
      "[  2.00000000e-01   7.00000000e+00   8.00000000e+00   2.25000000e+07]  ->  26842761\n",
      "[  2.00000000e-01   7.00000000e+00   8.00000000e+00   2.50000000e+07]  ->  49603849\n",
      "[  2.00000000e-01   7.00000000e+00   8.00000000e+00   2.75000000e+07]  ->  87366409\n",
      "[  2.00000000e-01   8.00000000e+00   2.00000000e+00   1.00000000e+07]  ->  47554816\n",
      "[  2.00000000e-01   8.00000000e+00   2.00000000e+00   1.25000000e+07]  ->  24295041\n",
      "[  2.00000000e-01   8.00000000e+00   2.00000000e+00   1.50000000e+07]  ->  2896804\n",
      "[  2.00000000e-01   8.00000000e+00   2.00000000e+00   1.75000000e+07]  ->  1577536\n",
      "[  2.00000000e-01   8.00000000e+00   2.00000000e+00   2.00000000e+07]  ->  13176900\n",
      "[  2.00000000e-01   8.00000000e+00   2.00000000e+00   2.25000000e+07]  ->  25979409\n",
      "[  2.00000000e-01   8.00000000e+00   2.00000000e+00   2.50000000e+07]  ->  37491129\n",
      "[  2.00000000e-01   8.00000000e+00   2.00000000e+00   2.75000000e+07]  ->  49575681\n",
      "[  2.00000000e-01   8.00000000e+00   4.00000000e+00   1.00000000e+07]  ->  49561600\n",
      "[  2.00000000e-01   8.00000000e+00   4.00000000e+00   1.25000000e+07]  ->  30669444\n",
      "[  2.00000000e-01   8.00000000e+00   4.00000000e+00   1.50000000e+07]  ->  6160324\n",
      "[  2.00000000e-01   8.00000000e+00   4.00000000e+00   1.75000000e+07]  ->  664225\n",
      "[  2.00000000e-01   8.00000000e+00   4.00000000e+00   2.00000000e+07]  ->  12602500\n",
      "[  2.00000000e-01   8.00000000e+00   4.00000000e+00   2.25000000e+07]  ->  27552001\n",
      "[  2.00000000e-01   8.00000000e+00   4.00000000e+00   2.50000000e+07]  ->  40678884\n",
      "[  2.00000000e-01   8.00000000e+00   4.00000000e+00   2.75000000e+07]  ->  56806369\n",
      "[  2.00000000e-01   8.00000000e+00   6.00000000e+00   1.00000000e+07]  ->  50126400\n",
      "[  2.00000000e-01   8.00000000e+00   6.00000000e+00   1.25000000e+07]  ->  36108081\n",
      "[  2.00000000e-01   8.00000000e+00   6.00000000e+00   1.50000000e+07]  ->  10227204\n",
      "[  2.00000000e-01   8.00000000e+00   6.00000000e+00   1.75000000e+07]  ->  134689\n",
      "[  2.00000000e-01   8.00000000e+00   6.00000000e+00   2.00000000e+07]  ->  11573604\n",
      "[  2.00000000e-01   8.00000000e+00   6.00000000e+00   2.25000000e+07]  ->  28451556\n",
      "[  2.00000000e-01   8.00000000e+00   6.00000000e+00   2.50000000e+07]  ->  45252529\n",
      "[  2.00000000e-01   8.00000000e+00   6.00000000e+00   2.75000000e+07]  ->  70241161\n",
      "[  2.00000000e-01   8.00000000e+00   8.00000000e+00   1.00000000e+07]  ->  50268100\n",
      "[  2.00000000e-01   8.00000000e+00   8.00000000e+00   1.25000000e+07]  ->  41460721\n",
      "[  2.00000000e-01   8.00000000e+00   8.00000000e+00   1.50000000e+07]  ->  15264649\n",
      "[  2.00000000e-01   8.00000000e+00   8.00000000e+00   1.75000000e+07]  ->  14641\n",
      "[  2.00000000e-01   8.00000000e+00   8.00000000e+00   2.00000000e+07]  ->  10278436\n",
      "[  2.00000000e-01   8.00000000e+00   8.00000000e+00   2.25000000e+07]  ->  30030400\n",
      "[  2.00000000e-01   8.00000000e+00   8.00000000e+00   2.50000000e+07]  ->  52128400\n",
      "[  2.00000000e-01   8.00000000e+00   8.00000000e+00   2.75000000e+07]  ->  89984196\n",
      "[  2.00000000e-01   9.00000000e+00   2.00000000e+00   1.00000000e+07]  ->  47596201\n",
      "[  2.00000000e-01   9.00000000e+00   2.00000000e+00   1.25000000e+07]  ->  25060036\n",
      "[  2.00000000e-01   9.00000000e+00   2.00000000e+00   1.50000000e+07]  ->  3400336\n",
      "[  2.00000000e-01   9.00000000e+00   2.00000000e+00   1.75000000e+07]  ->  1212201\n",
      "[  2.00000000e-01   9.00000000e+00   2.00000000e+00   2.00000000e+07]  ->  11792356\n",
      "[  2.00000000e-01   9.00000000e+00   2.00000000e+00   2.25000000e+07]  ->  24462916\n",
      "[  2.00000000e-01   9.00000000e+00   2.00000000e+00   2.50000000e+07]  ->  35605089\n",
      "[  2.00000000e-01   9.00000000e+00   2.00000000e+00   2.75000000e+07]  ->  47224384\n",
      "[  2.00000000e-01   9.00000000e+00   4.00000000e+00   1.00000000e+07]  ->  49420900\n",
      "[  2.00000000e-01   9.00000000e+00   4.00000000e+00   1.25000000e+07]  ->  30791401\n",
      "[  2.00000000e-01   9.00000000e+00   4.00000000e+00   1.50000000e+07]  ->  6431296\n",
      "[  2.00000000e-01   9.00000000e+00   4.00000000e+00   1.75000000e+07]  ->  511225\n"
     ]
    }
   ],
   "source": [
    "Fgrid = list( map( lambda sp,dw,wt,I: VolumeObjective_4(np.array([sp,dw,wt,I])  ) , e0.flatten(), e1.flatten(), e2.flatten(), e3.flatten() )  )"
   ]
  },
  {
   "cell_type": "code",
   "execution_count": null,
   "metadata": {
    "collapsed": false
   },
   "outputs": [],
   "source": [
    "plt.imshow(roiExtra[:,:,focplaneZpix])"
   ]
  },
  {
   "cell_type": "code",
   "execution_count": 77,
   "metadata": {
    "collapsed": false
   },
   "outputs": [
    {
     "data": {
      "text/plain": [
       "(2, 12, 4, 4)"
      ]
     },
     "execution_count": 77,
     "metadata": {},
     "output_type": "execute_result"
    }
   ],
   "source": [
    "e2[]"
   ]
  },
  {
   "cell_type": "code",
   "execution_count": 26,
   "metadata": {
    "collapsed": false
   },
   "outputs": [],
   "source": [
    "params=np.reshape( paramsFgrid, [2,12,4,4 ,4] )"
   ]
  },
  {
   "cell_type": "code",
   "execution_count": 28,
   "metadata": {
    "collapsed": false
   },
   "outputs": [],
   "source": [
    "Fdat=np.reshape( Fgrid, e0.shape )"
   ]
  },
  {
   "cell_type": "code",
   "execution_count": 31,
   "metadata": {
    "collapsed": false
   },
   "outputs": [
    {
     "data": {
      "text/plain": [
       "array([ 0.2,  0.3])"
      ]
     },
     "execution_count": 31,
     "metadata": {},
     "output_type": "execute_result"
    }
   ],
   "source": [
    "speeds"
   ]
  },
  {
   "cell_type": "code",
   "execution_count": 35,
   "metadata": {
    "collapsed": false
   },
   "outputs": [
    {
     "data": {
      "text/plain": [
       "(2, 12, 4, 4)"
      ]
     },
     "execution_count": 35,
     "metadata": {},
     "output_type": "execute_result"
    }
   ],
   "source": [
    "Fdat.shape"
   ]
  },
  {
   "cell_type": "code",
   "execution_count": 92,
   "metadata": {
    "collapsed": false
   },
   "outputs": [],
   "source": [
    "ii=np.argmin(Fdat)\n",
    "\n",
    "(e0mi,e1mi,e2mi,e3mi)=np.unravel_index(ii,Fdat.shape)\n",
    "minTuple=(e0mi,e1mi,e2mi,e3mi)\n",
    "minVec = [e0[minTuple], e1[minTuple], e2[minTuple], e3[minTuple]]\n",
    "\n",
    "Fmin=np.min(Fdat)\n",
    "Fmax=np.max(Fdat)\n"
   ]
  },
  {
   "cell_type": "code",
   "execution_count": 81,
   "metadata": {
    "collapsed": false
   },
   "outputs": [
    {
     "data": {
      "text/plain": [
       "1849"
      ]
     },
     "execution_count": 81,
     "metadata": {},
     "output_type": "execute_result"
    }
   ],
   "source": [
    "Fdat[minTuple]"
   ]
  },
  {
   "cell_type": "code",
   "execution_count": 121,
   "metadata": {
    "collapsed": false
   },
   "outputs": [
    {
     "data": {
      "text/plain": [
       "[0.20000000000000001, 6.0, 8.0, 20000000.0]"
      ]
     },
     "execution_count": 121,
     "metadata": {},
     "output_type": "execute_result"
    }
   ],
   "source": [
    "minVec"
   ]
  },
  {
   "cell_type": "code",
   "execution_count": 85,
   "metadata": {
    "collapsed": false
   },
   "outputs": [
    {
     "name": "stdout",
     "output_type": "stream",
     "text": [
      "[  2.00000000e-01   6.00000000e+00   8.00000000e+00   2.00000000e+07]  ->  1849\n"
     ]
    },
    {
     "data": {
      "text/plain": [
       "1849"
      ]
     },
     "execution_count": 85,
     "metadata": {},
     "output_type": "execute_result"
    }
   ],
   "source": [
    "VolumeObjective_4(np.array(minVec) )"
   ]
  },
  {
   "cell_type": "code",
   "execution_count": 136,
   "metadata": {
    "collapsed": false
   },
   "outputs": [
    {
     "name": "stdout",
     "output_type": "stream",
     "text": [
      "sonication 1\n",
      "0%\n",
      "10%\n",
      "20%\n",
      "30%\n",
      "40%\n",
      "50%\n",
      "60%\n",
      "70%\n",
      "80%\n",
      "90%\n",
      "sonication 2\n",
      "0%\n",
      "10%\n",
      "20%\n",
      "30%\n",
      "40%\n",
      "50%\n",
      "60%\n",
      "70%\n",
      "80%\n",
      "90%\n",
      "sonication 3\n",
      "0%\n",
      "10%\n",
      "20%\n",
      "30%\n",
      "40%\n",
      "50%\n",
      "60%\n",
      "70%\n",
      "80%\n",
      "90%\n",
      "sonication 4\n",
      "0%\n",
      "10%\n",
      "20%\n",
      "30%\n",
      "40%\n",
      "50%\n",
      "60%\n",
      "70%\n",
      "80%\n",
      "90%\n",
      "sonication 5\n",
      "0%\n",
      "10%\n",
      "20%\n",
      "30%\n",
      "40%\n",
      "50%\n",
      "60%\n",
      "70%\n",
      "80%\n",
      "90%\n",
      "sonication 6\n",
      "0%\n",
      "10%\n",
      "20%\n",
      "30%\n",
      "40%\n",
      "50%\n",
      "60%\n",
      "70%\n",
      "80%\n",
      "90%\n",
      "sonication 7\n",
      "0%\n",
      "10%\n",
      "20%\n",
      "30%\n",
      "40%\n",
      "50%\n",
      "60%\n",
      "70%\n",
      "80%\n",
      "90%\n",
      "sonication 8\n",
      "0%\n",
      "10%\n",
      "20%\n",
      "30%\n",
      "40%\n",
      "50%\n",
      "60%\n",
      "70%\n",
      "80%\n",
      "90%\n",
      "sonication 9\n",
      "0%\n",
      "10%\n",
      "20%\n",
      "30%\n",
      "40%\n",
      "50%\n",
      "60%\n",
      "70%\n",
      "80%\n",
      "90%\n",
      "sonication 10\n",
      "0%\n",
      "10%\n",
      "20%\n",
      "30%\n",
      "40%\n",
      "50%\n",
      "60%\n",
      "70%\n",
      "80%\n",
      "90%\n",
      "sonication 11\n",
      "0%\n",
      "10%\n",
      "20%\n",
      "30%\n",
      "40%\n",
      "50%\n",
      "60%\n",
      "70%\n",
      "80%\n",
      "90%\n",
      "sonication 12\n",
      "0%\n",
      "10%\n",
      "20%\n",
      "30%\n",
      "40%\n",
      "50%\n",
      "60%\n",
      "70%\n",
      "80%\n",
      "90%\n",
      "sonication 13\n",
      "0%\n",
      "10%\n",
      "20%\n",
      "30%\n",
      "40%\n",
      "50%\n",
      "60%\n",
      "70%\n",
      "80%\n",
      "90%\n",
      "sonication 14\n",
      "0%\n",
      "10%\n",
      "20%\n",
      "30%\n",
      "40%\n",
      "50%\n",
      "60%\n",
      "70%\n",
      "80%\n",
      "90%\n",
      "sonication 15\n",
      "0%\n",
      "10%\n",
      "20%\n",
      "30%\n",
      "40%\n",
      "50%\n",
      "60%\n",
      "70%\n",
      "80%\n",
      "90%\n",
      "sonication 16\n",
      "0%\n",
      "10%\n",
      "20%\n",
      "30%\n",
      "40%\n",
      "50%\n",
      "60%\n",
      "70%\n",
      "80%\n",
      "90%\n",
      "sonication 17\n",
      "0%\n",
      "10%\n",
      "20%\n",
      "30%\n",
      "40%\n",
      "50%\n",
      "60%\n",
      "70%\n",
      "80%\n",
      "90%\n",
      "[  3.00000000e-01   1.00000000e+01   2.00000000e+00   2.50000000e+07]  ->  132496\n"
     ]
    },
    {
     "data": {
      "text/plain": [
       "132496"
      ]
     },
     "execution_count": 136,
     "metadata": {},
     "output_type": "execute_result"
    }
   ],
   "source": [
    "getTraj([0.3, 10.0, 2.0])\n",
    "VolumeObjective_4(np.array([0.3, 10.0, 2.0, 2.5e7]),verbose=True )"
   ]
  },
  {
   "cell_type": "code",
   "execution_count": 46,
   "metadata": {
    "collapsed": false
   },
   "outputs": [
    {
     "data": {
      "text/plain": [
       "[<matplotlib.lines.Line2D at 0x14e53400>,\n",
       " <matplotlib.lines.Line2D at 0x14e53748>,\n",
       " <matplotlib.lines.Line2D at 0x14e538d0>,\n",
       " <matplotlib.lines.Line2D at 0x14e53b70>]"
      ]
     },
     "execution_count": 46,
     "metadata": {},
     "output_type": "execute_result"
    },
    {
     "data": {
      "image/png": "[encoded data removed]",
      "text/plain": [
       "<matplotlib.figure.Figure at 0x12525240>"
      ]
     },
     "metadata": {},
     "output_type": "display_data"
    }
   ],
   "source": [
    "plt.plot(dwells, Fdat[0,:,:,2], '-o' )"
   ]
  },
  {
   "cell_type": "code",
   "execution_count": 81,
   "metadata": {
    "collapsed": false
   },
   "outputs": [
    {
     "data": {
      "text/plain": [
       "14.0"
      ]
     },
     "execution_count": 81,
     "metadata": {},
     "output_type": "execute_result"
    }
   ],
   "source": [
    "dwells[0]+ Ddw*(len(dwells))"
   ]
  },
  {
   "cell_type": "code",
   "execution_count": 133,
   "metadata": {
    "collapsed": false
   },
   "outputs": [
    {
     "data": {
      "image/png": "[encoded data removed]",
      "text/plain": [
       "<matplotlib.figure.Figure at 0x2b535908>"
      ]
     },
     "metadata": {},
     "output_type": "display_data"
    }
   ],
   "source": [
    "plotTraj([0.3, 14.0, 0.2]);"
   ]
  },
  {
   "cell_type": "code",
   "execution_count": 126,
   "metadata": {
    "collapsed": false
   },
   "outputs": [
    {
     "data": {
      "text/plain": [
       "array([ 2.,  4.,  6.,  8.])"
      ]
     },
     "execution_count": 126,
     "metadata": {},
     "output_type": "execute_result"
    }
   ],
   "source": [
    "waits"
   ]
  },
  {
   "cell_type": "code",
   "execution_count": 131,
   "metadata": {
    "collapsed": false
   },
   "outputs": [
    {
     "data": {
      "text/plain": [
       "<matplotlib.colorbar.Colorbar at 0x29d701d0>"
      ]
     },
     "execution_count": 131,
     "metadata": {},
     "output_type": "execute_result"
    },
    {
     "data": {
      "image/png": "[encoded data removed]",
      "text/plain": [
       "<matplotlib.figure.Figure at 0x2a0124a8>"
      ]
     },
     "metadata": {},
     "output_type": "display_data"
    }
   ],
   "source": [
    "\n",
    "Dwait =waits[1]-waits[0]\n",
    "Ddw =dwells[1]-dwells[0]\n",
    "fig=plt.figure(figsize=(10,8))\n",
    "plt.imshow( (Fdat[1,:,:,3]), vmin=Fmin,vmax=Fmin + 0.25*(Fmax-Fmin), interpolation='none',extent=[  waits[0],  waits[-1] + Dwait, dwells[-1]+Ddw, dwells[0]])\n",
    "plt.xlabel('wait (s)')\n",
    "plt.ylabel('dwell (s)')\n",
    "plt.colorbar()"
   ]
  },
  {
   "cell_type": "code",
   "execution_count": 152,
   "metadata": {
    "collapsed": false
   },
   "outputs": [
    {
     "data": {
      "text/plain": [
       "<matplotlib.colorbar.Colorbar at 0x2d80a4a8>"
      ]
     },
     "execution_count": 152,
     "metadata": {},
     "output_type": "execute_result"
    },
    {
     "data": {
      "image/png": "[encoded data removed]",
      "text/plain": [
       "<matplotlib.figure.Figure at 0x2d698ba8>"
      ]
     },
     "metadata": {},
     "output_type": "display_data"
    }
   ],
   "source": [
    "Dwait =waits[1]-waits[0]\n",
    "Ddw =dwells[1]-dwells[0]\n",
    "fig=plt.figure(figsize=(10,8))\n",
    "plt.imshow(np.transpose(Fdat[0,:,:,2]), vmin=Fmin,vmax=Fmin + 0.25*(Fmax-Fmin), interpolation='none',extent=[dwells[0], dwells[-1]+Ddw,waits[-1] + Dwait, waits[0]])\n",
    "plt.xlabel('dwell (s)')\n",
    "plt.ylabel('wait (s)')\n",
    "plt.colorbar()"
   ]
  },
  {
   "cell_type": "code",
   "execution_count": 108,
   "metadata": {
    "collapsed": false
   },
   "outputs": [
    {
     "name": "stdout",
     "output_type": "stream",
     "text": [
      "[  3.00000000e-01   2.00000000e+00   5.00000000e-01   2.00000000e+07]  ->  16362025\n",
      "[  3.00000000e-01   2.00000000e+00   1.00000000e+00   2.00000000e+07]  ->  24010000\n",
      "[  3.00000000e-01   2.00000000e+00   1.50000000e+00   2.00000000e+07]  ->  29322225\n",
      "[  3.00000000e-01   2.00000000e+00   2.00000000e+00   2.00000000e+07]  ->  35652841\n",
      "[  3.00000000e-01   2.00000000e+00   2.50000000e+00   2.00000000e+07]  ->  39225169\n",
      "[  3.00000000e-01   2.00000000e+00   3.00000000e+00   2.00000000e+07]  ->  43007364\n",
      "[  3.00000000e-01   2.00000000e+00   3.50000000e+00   2.00000000e+07]  ->  45185284\n",
      "[  3.00000000e-01   2.00000000e+00   4.00000000e+00   2.00000000e+07]  ->  47375689\n",
      "[  3.00000000e-01   3.00000000e+00   5.00000000e-01   2.00000000e+07]  ->  14853316\n",
      "[  3.00000000e-01   3.00000000e+00   1.00000000e+00   2.00000000e+07]  ->  19633761\n",
      "[  3.00000000e-01   3.00000000e+00   1.50000000e+00   2.00000000e+07]  ->  23001616\n",
      "[  3.00000000e-01   3.00000000e+00   2.00000000e+00   2.00000000e+07]  ->  27952369\n",
      "[  3.00000000e-01   3.00000000e+00   2.50000000e+00   2.00000000e+07]  ->  31292836\n",
      "[  3.00000000e-01   3.00000000e+00   3.00000000e+00   2.00000000e+07]  ->  35319249\n",
      "[  3.00000000e-01   3.00000000e+00   3.50000000e+00   2.00000000e+07]  ->  37834801\n",
      "[  3.00000000e-01   3.00000000e+00   4.00000000e+00   2.00000000e+07]  ->  40627876\n",
      "[  3.00000000e-01   4.00000000e+00   5.00000000e-01   2.00000000e+07]  ->  17222500\n",
      "[  3.00000000e-01   4.00000000e+00   1.00000000e+00   2.00000000e+07]  ->  21022225\n",
      "[  3.00000000e-01   4.00000000e+00   1.50000000e+00   2.00000000e+07]  ->  23609881\n",
      "[  3.00000000e-01   4.00000000e+00   2.00000000e+00   2.00000000e+07]  ->  27269284\n",
      "[  3.00000000e-01   4.00000000e+00   2.50000000e+00   2.00000000e+07]  ->  29899024\n",
      "[  3.00000000e-01   4.00000000e+00   3.00000000e+00   2.00000000e+07]  ->  32947600\n",
      "[  3.00000000e-01   4.00000000e+00   3.50000000e+00   2.00000000e+07]  ->  35236096\n",
      "[  3.00000000e-01   4.00000000e+00   4.00000000e+00   2.00000000e+07]  ->  37785609\n",
      "[  3.00000000e-01   5.00000000e+00   5.00000000e-01   2.00000000e+07]  ->  16160400\n",
      "[  3.00000000e-01   5.00000000e+00   1.00000000e+00   2.00000000e+07]  ->  19070689\n",
      "[  3.00000000e-01   5.00000000e+00   1.50000000e+00   2.00000000e+07]  ->  21068100\n",
      "[  3.00000000e-01   5.00000000e+00   2.00000000e+00   2.00000000e+07]  ->  23824161\n",
      "[  3.00000000e-01   5.00000000e+00   2.50000000e+00   2.00000000e+07]  ->  25786084\n",
      "[  3.00000000e-01   5.00000000e+00   3.00000000e+00   2.00000000e+07]  ->  28740321\n",
      "[  3.00000000e-01   5.00000000e+00   3.50000000e+00   2.00000000e+07]  ->  30426256\n",
      "[  3.00000000e-01   5.00000000e+00   4.00000000e+00   2.00000000e+07]  ->  32901696\n",
      "[  3.00000000e-01   6.00000000e+00   5.00000000e-01   2.00000000e+07]  ->  12960000\n",
      "[  3.00000000e-01   6.00000000e+00   1.00000000e+00   2.00000000e+07]  ->  15225604\n",
      "[  3.00000000e-01   6.00000000e+00   1.50000000e+00   2.00000000e+07]  ->  16842816\n",
      "[  3.00000000e-01   6.00000000e+00   2.00000000e+00   2.00000000e+07]  ->  19219456\n",
      "[  3.00000000e-01   6.00000000e+00   2.50000000e+00   2.00000000e+07]  ->  20958084\n",
      "[  3.00000000e-01   6.00000000e+00   3.00000000e+00   2.00000000e+07]  ->  23232400\n",
      "[  3.00000000e-01   6.00000000e+00   3.50000000e+00   2.00000000e+07]  ->  24760576\n",
      "[  3.00000000e-01   6.00000000e+00   4.00000000e+00   2.00000000e+07]  ->  27237961\n",
      "[  3.00000000e-01   7.00000000e+00   5.00000000e-01   2.00000000e+07]  ->  12687844\n",
      "[  3.00000000e-01   7.00000000e+00   1.00000000e+00   2.00000000e+07]  ->  14653584\n",
      "[  3.00000000e-01   7.00000000e+00   1.50000000e+00   2.00000000e+07]  ->  16072081\n",
      "[  3.00000000e-01   7.00000000e+00   2.00000000e+00   2.00000000e+07]  ->  18054001\n",
      "[  3.00000000e-01   7.00000000e+00   2.50000000e+00   2.00000000e+07]  ->  19439281\n",
      "[  3.00000000e-01   7.00000000e+00   3.00000000e+00   2.00000000e+07]  ->  21353641\n",
      "[  3.00000000e-01   7.00000000e+00   3.50000000e+00   2.00000000e+07]  ->  22733824\n",
      "[  3.00000000e-01   7.00000000e+00   4.00000000e+00   2.00000000e+07]  ->  24750625\n",
      "[  3.00000000e-01   8.00000000e+00   5.00000000e-01   2.00000000e+07]  ->  13082689\n",
      "[  3.00000000e-01   8.00000000e+00   1.00000000e+00   2.00000000e+07]  ->  14638276\n",
      "[  3.00000000e-01   8.00000000e+00   1.50000000e+00   2.00000000e+07]  ->  15737089\n",
      "[  3.00000000e-01   8.00000000e+00   2.00000000e+00   2.00000000e+07]  ->  17380561\n",
      "[  3.00000000e-01   8.00000000e+00   2.50000000e+00   2.00000000e+07]  ->  18533025\n",
      "[  3.00000000e-01   8.00000000e+00   3.00000000e+00   2.00000000e+07]  ->  20169081\n",
      "[  3.00000000e-01   8.00000000e+00   3.50000000e+00   2.00000000e+07]  ->  21335161\n",
      "[  3.00000000e-01   8.00000000e+00   4.00000000e+00   2.00000000e+07]  ->  22982436\n",
      "[  3.00000000e-01   9.00000000e+00   5.00000000e-01   2.00000000e+07]  ->  10304100\n",
      "[  3.00000000e-01   9.00000000e+00   1.00000000e+00   2.00000000e+07]  ->  11289600\n",
      "[  3.00000000e-01   9.00000000e+00   1.50000000e+00   2.00000000e+07]  ->  11937025\n",
      "[  3.00000000e-01   9.00000000e+00   2.00000000e+00   2.00000000e+07]  ->  13111641\n",
      "[  3.00000000e-01   9.00000000e+00   2.50000000e+00   2.00000000e+07]  ->  14115049\n",
      "[  3.00000000e-01   9.00000000e+00   3.00000000e+00   2.00000000e+07]  ->  15586704\n",
      "[  3.00000000e-01   9.00000000e+00   3.50000000e+00   2.00000000e+07]  ->  16573041\n",
      "[  3.00000000e-01   9.00000000e+00   4.00000000e+00   2.00000000e+07]  ->  18207289\n",
      "[  3.00000000e-01   1.00000000e+01   5.00000000e-01   2.00000000e+07]  ->  11553201\n",
      "[  3.00000000e-01   1.00000000e+01   1.00000000e+00   2.00000000e+07]  ->  12538681\n",
      "[  3.00000000e-01   1.00000000e+01   1.50000000e+00   2.00000000e+07]  ->  13424896\n",
      "[  3.00000000e-01   1.00000000e+01   2.00000000e+00   2.00000000e+07]  ->  14645929\n",
      "[  3.00000000e-01   1.00000000e+01   2.50000000e+00   2.00000000e+07]  ->  15492096\n",
      "[  3.00000000e-01   1.00000000e+01   3.00000000e+00   2.00000000e+07]  ->  16621929\n",
      "[  3.00000000e-01   1.00000000e+01   3.50000000e+00   2.00000000e+07]  ->  17514225\n",
      "[  3.00000000e-01   1.00000000e+01   4.00000000e+00   2.00000000e+07]  ->  18627856\n",
      "[  3.00000000e-01   1.10000000e+01   5.00000000e-01   2.00000000e+07]  ->  13823524\n",
      "[  3.00000000e-01   1.10000000e+01   1.00000000e+00   2.00000000e+07]  ->  14830201\n",
      "[  3.00000000e-01   1.10000000e+01   1.50000000e+00   2.00000000e+07]  ->  15484225\n",
      "[  3.00000000e-01   1.10000000e+01   2.00000000e+00   2.00000000e+07]  ->  16621929\n",
      "[  3.00000000e-01   1.10000000e+01   2.50000000e+00   2.00000000e+07]  ->  17388900\n",
      "[  3.00000000e-01   1.10000000e+01   3.00000000e+00   2.00000000e+07]  ->  18696976\n",
      "[  3.00000000e-01   1.10000000e+01   3.50000000e+00   2.00000000e+07]  ->  19545241\n",
      "[  3.00000000e-01   1.10000000e+01   4.00000000e+00   2.00000000e+07]  ->  20766249\n",
      "[  3.00000000e-01   1.20000000e+01   5.00000000e-01   2.00000000e+07]  ->  23232400\n",
      "[  3.00000000e-01   1.20000000e+01   1.00000000e+00   2.00000000e+07]  ->  24265476\n",
      "[  3.00000000e-01   1.20000000e+01   1.50000000e+00   2.00000000e+07]  ->  25030009\n",
      "[  3.00000000e-01   1.20000000e+01   2.00000000e+00   2.00000000e+07]  ->  26173456\n",
      "[  3.00000000e-01   1.20000000e+01   2.50000000e+00   2.00000000e+07]  ->  26811684\n",
      "[  3.00000000e-01   1.20000000e+01   3.00000000e+00   2.00000000e+07]  ->  27836176\n",
      "[  3.00000000e-01   1.20000000e+01   3.50000000e+00   2.00000000e+07]  ->  28729600\n",
      "[  3.00000000e-01   1.20000000e+01   4.00000000e+00   2.00000000e+07]  ->  29844369\n"
     ]
    }
   ],
   "source": [
    "x1list_dwell = np.arange(2.0, 13.0, 1.0)\n",
    "x2list_wait = np.arange(0.5,4.5, 0.5)\n",
    "g1,g2 = np.meshgrid(x1list_dwell,x2list_wait,indexing='ij')\n",
    "\n",
    "\n",
    "fmat = list( map( lambda dw,wt: VolumeObjective_4(np.array([0.3,dw,wt,2000.0e4]) ) , g1.flatten(), g2.flatten() )  )"
   ]
  },
  {
   "cell_type": "code",
   "execution_count": 128,
   "metadata": {
    "collapsed": false
   },
   "outputs": [
    {
     "data": {
      "text/plain": [
       "<matplotlib.colorbar.Colorbar at 0x1777cf60>"
      ]
     },
     "execution_count": 128,
     "metadata": {},
     "output_type": "execute_result"
    },
    {
     "data": {
      "image/png": "[encoded data removed]",
      "text/plain": [
       "<matplotlib.figure.Figure at 0x174c2518>"
      ]
     },
     "metadata": {},
     "output_type": "display_data"
    }
   ],
   "source": [
    "Ddw = x1list_dwell[1]-x1list_dwell[0]\n",
    "Dwait= x2list_wait[1]-x1list_dwell[0]\n",
    "fig=plt.figure(figsize=(10,8))\n",
    "plt.imshow(np.transpose(np.reshape( fmat, g1.shape )), interpolation='none', extent=[x1list_dwell[0], x1list_dwell[-1]+Ddw, x2list_wait[0],  x2list_wait[-1] + Dwait])\n",
    "plt.colorbar()"
   ]
  },
  {
   "cell_type": "code",
   "execution_count": 136,
   "metadata": {
    "collapsed": false
   },
   "outputs": [
    {
     "data": {
      "text/plain": [
       "<matplotlib.image.AxesImage at 0x18bfd198>"
      ]
     },
     "execution_count": 136,
     "metadata": {},
     "output_type": "execute_result"
    },
    {
     "data": {
      "image/png": "[encoded data removed]",
      "text/plain": [
       "<matplotlib.figure.Figure at 0x18bb6b38>"
      ]
     },
     "metadata": {},
     "output_type": "display_data"
    }
   ],
   "source": [
    "plt.imshow(T[1][:,:,focplaneZpix],vmin=37,vmax=60,cmap=plt.cm.hot)"
   ]
  },
  {
   "cell_type": "code",
   "execution_count": 137,
   "metadata": {
    "collapsed": false
   },
   "outputs": [
    {
     "data": {
      "text/plain": [
       "29"
      ]
     },
     "execution_count": 137,
     "metadata": {},
     "output_type": "execute_result"
    }
   ],
   "source": [
    "focplaneZpix"
   ]
  },
  {
   "cell_type": "code",
   "execution_count": 96,
   "metadata": {
    "collapsed": false
   },
   "outputs": [
    {
     "data": {
      "text/plain": [
       "<matplotlib.image.AxesImage at 0x1616f550>"
      ]
     },
     "execution_count": 96,
     "metadata": {},
     "output_type": "execute_result"
    },
    {
     "data": {
      "image/png": "[encoded data removed]",
      "text/plain": [
       "<matplotlib.figure.Figure at 0x16140b00>"
      ]
     },
     "metadata": {},
     "output_type": "display_data"
    }
   ],
   "source": [
    "plt.imshow(CEM[:,:,focplaneZpix],vmin=0,vmax=240,cmap=plt.cm.hot)"
   ]
  },
  {
   "cell_type": "code",
   "execution_count": 97,
   "metadata": {
    "collapsed": false,
    "scrolled": true
   },
   "outputs": [
    {
     "name": "stderr",
     "output_type": "stream",
     "text": [
      "C:\\Users\\Vandiver\\Anaconda3\\lib\\site-packages\\ipykernel\\__main__.py:1: DeprecationWarning: using a non-integer number instead of an integer will result in an error in the future\n",
      "  if __name__ == '__main__':\n"
     ]
    },
    {
     "data": {
      "text/plain": [
       "<matplotlib.image.AxesImage at 0x161cba90>"
      ]
     },
     "execution_count": 97,
     "metadata": {},
     "output_type": "execute_result"
    },
    {
     "data": {
      "image/png": "[encoded data removed]",
      "text/plain": [
       "<matplotlib.figure.Figure at 0x1618be10>"
      ]
     },
     "metadata": {},
     "output_type": "display_data"
    }
   ],
   "source": [
    "plt.imshow(CEM[:,Ny/2,:],vmin=0,vmax=240,cmap=plt.cm.hot)"
   ]
  },
  {
   "cell_type": "code",
   "execution_count": 138,
   "metadata": {
    "collapsed": false
   },
   "outputs": [
    {
     "data": {
      "text/plain": [
       "array([[ -6.18033989e-01,   1.90211303e+00,   1.40000000e+02],\n",
       "       [ -2.00000000e+00,   2.44929360e-16,   1.40000000e+02],\n",
       "       [ -6.18033989e-01,  -1.90211303e+00,   1.40000000e+02],\n",
       "       [  1.61803399e+00,  -1.17557050e+00,   1.40000000e+02],\n",
       "       [  1.61803399e+00,   1.17557050e+00,   1.40000000e+02],\n",
       "       [  4.69098889e+00,   3.74093881e+00,   1.40000000e+02],\n",
       "       [  2.60330243e+00,   5.40581321e+00,   1.40000000e+02],\n",
       "       [  3.67394040e-16,   6.00000000e+00,   1.40000000e+02],\n",
       "       [ -2.60330243e+00,   5.40581321e+00,   1.40000000e+02],\n",
       "       [ -4.69098889e+00,   3.74093881e+00,   1.40000000e+02],\n",
       "       [ -5.84956747e+00,   1.33512560e+00,   1.40000000e+02],\n",
       "       [ -5.84956747e+00,  -1.33512560e+00,   1.40000000e+02],\n",
       "       [ -4.69098889e+00,  -3.74093881e+00,   1.40000000e+02],\n",
       "       [ -2.60330243e+00,  -5.40581321e+00,   1.40000000e+02],\n",
       "       [ -1.10218212e-15,  -6.00000000e+00,   1.40000000e+02],\n",
       "       [  2.60330243e+00,  -5.40581321e+00,   1.40000000e+02],\n",
       "       [  4.69098889e+00,  -3.74093881e+00,   1.40000000e+02],\n",
       "       [  5.84956747e+00,  -1.33512560e+00,   1.40000000e+02],\n",
       "       [  5.84956747e+00,   1.33512560e+00,   1.40000000e+02]])"
      ]
     },
     "execution_count": 138,
     "metadata": {},
     "output_type": "execute_result"
    },
    {
     "data": {
      "image/png": "[encoded data removed]",
      "text/plain": [
       "<matplotlib.figure.Figure at 0x18b52a20>"
      ]
     },
     "metadata": {},
     "output_type": "display_data"
    }
   ],
   "source": [
    "plotTraj([0.3, 9.25, 0.0])"
   ]
  },
  {
   "cell_type": "code",
   "execution_count": 117,
   "metadata": {
    "collapsed": false
   },
   "outputs": [
    {
     "name": "stderr",
     "output_type": "stream",
     "text": [
      "C:\\Users\\Vandiver\\Anaconda3\\lib\\site-packages\\ipykernel\\__main__.py:1: DeprecationWarning: using a non-integer number instead of an integer will result in an error in the future\n",
      "  if __name__ == '__main__':\n"
     ]
    },
    {
     "data": {
      "text/plain": [
       "<matplotlib.image.AxesImage at 0x176a3828>"
      ]
     },
     "execution_count": 117,
     "metadata": {},
     "output_type": "execute_result"
    },
    {
     "data": {
      "image/png": "[encoded data removed]",
      "text/plain": [
       "<matplotlib.figure.Figure at 0x1794ceb8>"
      ]
     },
     "metadata": {},
     "output_type": "display_data"
    }
   ],
   "source": [
    "plt.imshow(roiOnTarget[:,Ny/2,:],cmap=plt.cm.gray_r, extent=[1e3*zrp[0], 1e3*zrp[-1], 1e3*yrp[-1], 1e3*yrp[0]])"
   ]
  },
  {
   "cell_type": "code",
   "execution_count": 125,
   "metadata": {
    "collapsed": false
   },
   "outputs": [
    {
     "name": "stderr",
     "output_type": "stream",
     "text": [
      "C:\\Users\\Vandiver\\Anaconda3\\lib\\site-packages\\ipykernel\\__main__.py:1: DeprecationWarning: using a non-integer number instead of an integer will result in an error in the future\n",
      "  if __name__ == '__main__':\n"
     ]
    },
    {
     "data": {
      "text/plain": [
       "<matplotlib.image.AxesImage at 0x1748c668>"
      ]
     },
     "execution_count": 125,
     "metadata": {},
     "output_type": "execute_result"
    },
    {
     "data": {
      "image/png": "[encoded data removed]",
      "text/plain": [
       "<matplotlib.figure.Figure at 0x17438860>"
      ]
     },
     "metadata": {},
     "output_type": "display_data"
    }
   ],
   "source": [
    "plt.imshow(1.0*np.array(roiOffTarget[:,Ny/2,:],dtype=int) + 0.5*np.array(roiOnTarget[:,Ny/2,:],dtype=int),vmin=0,vmax=2,cmap=plt.cm.gray_r, extent=[1e3*zrp[0], 1e3*zrp[-1], 1e3*yrp[-1], 1e3*yrp[0]])"
   ]
  },
  {
   "cell_type": "code",
   "execution_count": null,
   "metadata": {
    "collapsed": true
   },
   "outputs": [],
   "source": []
  }
 ],
 "metadata": {
  "kernelspec": {
   "display_name": "Python 3",
   "language": "python",
   "name": "python3"
  },
  "language_info": {
   "codemirror_mode": {
    "name": "ipython",
    "version": 3
   },
   "file_extension": ".py",
   "mimetype": "text/x-python",
   "name": "python",
   "nbconvert_exporter": "python",
   "pygments_lexer": "ipython3",
   "version": "3.4.1"
  }
 },
 "nbformat": 4,
 "nbformat_minor": 0
}
