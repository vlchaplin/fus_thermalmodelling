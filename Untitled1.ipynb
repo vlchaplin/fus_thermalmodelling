{
 "metadata": {
  "name": "",
  "signature": "sha256:69bd6dad460c4e1ee4c01be46136b2e98d17bede7953c6536a318477ee7230db"
 },
 "nbformat": 3,
 "nbformat_minor": 0,
 "worksheets": [
  {
   "cells": [
    {
     "cell_type": "code",
     "collapsed": false,
     "input": [
      "import numpy as np\n",
      "import matplotlib.pyplot as plt\n",
      "from mpl_toolkits.mplot3d import Axes3D\n",
      "from matplotlib import collections\n",
      "from matplotlib import image\n",
      " \n",
      "import matplotlib.animation as animation;\n",
      "\n",
      "import sys\n",
      "sys.path.append('C:\\\\Users\\\\vchaplin\\\\Documents\\\\HiFU\\\\code\\\\myPy')  \n",
      "import imagemanip\n",
      "    \n",
      "from math import *;\n",
      "\n",
      "%matplotlib inline"
     ],
     "language": "python",
     "metadata": {},
     "outputs": [],
     "prompt_number": 1
    },
    {
     "cell_type": "code",
     "collapsed": false,
     "input": [
      "#number of bins (nedges-1)\n",
      "Nx=20\n",
      "Ny=30\n",
      "Nz=40\n",
      "\n",
      "xedges = np.linspace(-2.0, 2.0,Nx+1)\n",
      "yedges = np.linspace(-2.0, 2.0,Ny+1)\n",
      "zedges = np.linspace(-2.0, 2.0,Nz+1)\n",
      "\n",
      "xrp1 = xedges[0:Nx]\n",
      "yrp1 = yedges[0:Ny]\n",
      "zrp1 = zedges[0:Nz]\n",
      "\n",
      "gxp1,gyp1,gzp1 = np.meshgrid(xrp1, yrp1, zrp1, sparse=False, indexing='ij')\n",
      "calcGridDist1= lambda rr: np.sqrt((gxp-rr[0])**2 + (gyp-rr[1])**2 + (gzp-rr[2])**2)\n",
      "\n",
      "dx1 = xrp1[1]-xrp1[0]\n",
      "dy1 = yrp1[1]-yrp1[0]\n",
      "dz1 = zrp1[1]-zrp1[0]"
     ],
     "language": "python",
     "metadata": {},
     "outputs": [],
     "prompt_number": 2
    },
    {
     "cell_type": "code",
     "collapsed": false,
     "input": [
      "offset12 = [0.0,0.25,0.0];\n",
      "\n",
      "\n",
      "xedges2 = xedges + offset12[0];\n",
      "yedges2 = yedges + offset12[1];\n",
      "zedges2 = zedges + offset12[2];\n",
      "\n",
      "xrp2 = xrp1 + offset12[0];\n",
      "yrp2 = yrp1 + offset12[1];\n",
      "zrp2 = zrp1 + offset12[2];\n"
     ],
     "language": "python",
     "metadata": {},
     "outputs": [],
     "prompt_number": 16
    },
    {
     "cell_type": "code",
     "collapsed": false,
     "input": [
      "xedges"
     ],
     "language": "python",
     "metadata": {},
     "outputs": [
      {
       "metadata": {},
       "output_type": "pyout",
       "prompt_number": 5,
       "text": [
        "array([-2., -1.,  0.,  1.,  2.])"
       ]
      }
     ],
     "prompt_number": 5
    },
    {
     "cell_type": "code",
     "collapsed": false,
     "input": [
      "np.dot"
     ],
     "language": "python",
     "metadata": {},
     "outputs": [
      {
       "metadata": {},
       "output_type": "pyout",
       "prompt_number": 50,
       "text": [
        "31"
       ]
      }
     ],
     "prompt_number": 50
    },
    {
     "cell_type": "code",
     "collapsed": false,
     "input": [
      "np.linspace(-2.0, 2.0,Nx+1)"
     ],
     "language": "python",
     "metadata": {},
     "outputs": [
      {
       "metadata": {},
       "output_type": "pyout",
       "prompt_number": 77,
       "text": [
        "array([-2., -1.,  0.,  1.,  2.])"
       ]
      }
     ],
     "prompt_number": 77
    },
    {
     "cell_type": "code",
     "collapsed": false,
     "input": [
      "np.zeros_like"
     ],
     "language": "python",
     "metadata": {},
     "outputs": [
      {
       "metadata": {},
       "output_type": "pyout",
       "prompt_number": 53,
       "text": [
        "array([ -1.55,  -0.55,   0.45,   1.45,   2.45,   3.45,   4.45,   5.45,\n",
        "         6.45,   7.45,   8.45,   9.45,  10.45,  11.45,  12.45,  13.45,\n",
        "        14.45,  15.45,  16.45,  17.45,  18.45])"
       ]
      }
     ],
     "prompt_number": 53
    },
    {
     "cell_type": "code",
     "collapsed": false,
     "input": [
      "Mxx = np.zeros([Nx,Nx]);\n",
      "\n",
      "for iprime in range(0,Nx):\n",
      "    \n",
      "    x2c = xedges2[iprime];\n",
      "    x2d = xedges2[iprime+1];\n",
      "    \n",
      "    i_c = floor((x2c - xedges[0])/dx1)\n",
      "    i_d = i_c+1\n",
      "    \n",
      "    if (i_c >= 0 and i_c < Nx) :\n",
      "        xa = xedges[i_c];\n",
      "        fiprime_c = 1.0 - (x2c-xa)/(dx1);\n",
      "        Mxx[iprime, i_c] = fiprime_c;\n",
      "        \n",
      "    if (i_d >= 0 and i_d < Nx) :\n",
      "        xb = xedges[i_d];\n",
      "        fiprime_d = (x2d-xb)/(dx1);\n",
      "        Mxx[iprime, i_d] = fiprime_d;\n",
      "    \n",
      "    \n",
      "    \n",
      "    "
     ],
     "language": "python",
     "metadata": {},
     "outputs": [],
     "prompt_number": 4
    },
    {
     "cell_type": "code",
     "collapsed": false,
     "input": [
      "m11 = imagemanip.get1DshiftFilter(xedges, xedges2)\n",
      "m22 = imagemanip.get1DshiftFilter(yedges, yedges2)\n",
      "m33 = imagemanip.get1DshiftFilter(zedges, zedges2)"
     ],
     "language": "python",
     "metadata": {},
     "outputs": [],
     "prompt_number": 5
    },
    {
     "cell_type": "code",
     "collapsed": false,
     "input": [
      "val = np.ones([Nx,Ny,Nz])\n",
      "\n",
      "newI = np.tensordot(m33, val, axes=([1],[2]))\n",
      "newI = np.tensordot(m22, newI, axes=([1],[2]))\n",
      "newI = np.tensordot(m11, newI, axes=([1],[2]))"
     ],
     "language": "python",
     "metadata": {},
     "outputs": [],
     "prompt_number": 8
    },
    {
     "cell_type": "code",
     "collapsed": false,
     "input": [
      "newI.shape"
     ],
     "language": "python",
     "metadata": {},
     "outputs": [
      {
       "metadata": {},
       "output_type": "pyout",
       "prompt_number": 72,
       "text": [
        "(20, 30, 40)"
       ]
      }
     ],
     "prompt_number": 72
    },
    {
     "cell_type": "code",
     "collapsed": false,
     "input": [
      "x1center = (xrp1 + dx1/2);\n",
      "x2center = (xrp2 + dx1/2);\n",
      "fx = (x1center)**2\n",
      "\n",
      "fx2 = fx.dot(np.transpose(Mxx))\n",
      "\n",
      "fx3 = fx.dot(np.transpose(mm))"
     ],
     "language": "python",
     "metadata": {},
     "outputs": [
      {
       "ename": "NameError",
       "evalue": "name 'mm' is not defined",
       "output_type": "pyerr",
       "traceback": [
        "\u001b[1;31m---------------------------------------------------------------------------\u001b[0m\n\u001b[1;31mNameError\u001b[0m                                 Traceback (most recent call last)",
        "\u001b[1;32m<ipython-input-7-6672a8ce9b48>\u001b[0m in \u001b[0;36m<module>\u001b[1;34m()\u001b[0m\n\u001b[0;32m      5\u001b[0m \u001b[0mfx2\u001b[0m \u001b[1;33m=\u001b[0m \u001b[0mfx\u001b[0m\u001b[1;33m.\u001b[0m\u001b[0mdot\u001b[0m\u001b[1;33m(\u001b[0m\u001b[0mnp\u001b[0m\u001b[1;33m.\u001b[0m\u001b[0mtranspose\u001b[0m\u001b[1;33m(\u001b[0m\u001b[0mMxx\u001b[0m\u001b[1;33m)\u001b[0m\u001b[1;33m)\u001b[0m\u001b[1;33m\u001b[0m\u001b[0m\n\u001b[0;32m      6\u001b[0m \u001b[1;33m\u001b[0m\u001b[0m\n\u001b[1;32m----> 7\u001b[1;33m \u001b[0mfx3\u001b[0m \u001b[1;33m=\u001b[0m \u001b[0mfx\u001b[0m\u001b[1;33m.\u001b[0m\u001b[0mdot\u001b[0m\u001b[1;33m(\u001b[0m\u001b[0mnp\u001b[0m\u001b[1;33m.\u001b[0m\u001b[0mtranspose\u001b[0m\u001b[1;33m(\u001b[0m\u001b[0mmm\u001b[0m\u001b[1;33m)\u001b[0m\u001b[1;33m)\u001b[0m\u001b[1;33m\u001b[0m\u001b[0m\n\u001b[0m",
        "\u001b[1;31mNameError\u001b[0m: name 'mm' is not defined"
       ]
      }
     ],
     "prompt_number": 7
    },
    {
     "cell_type": "code",
     "collapsed": false,
     "input": [
      "plt.plot( x1center, fx, '*')\n",
      "plt.plot( x2center, fx2, 'o--')\n",
      "plt.plot( x2center, fx3, '-')"
     ],
     "language": "python",
     "metadata": {},
     "outputs": [
      {
       "metadata": {},
       "output_type": "pyout",
       "prompt_number": 7,
       "text": [
        "[<matplotlib.lines.Line2D at 0x7649e80>]"
       ]
      },
      {
       "metadata": {},
       "output_type": "display_data",
       "png": "[encoded data removed]",
       "text": [
        "<matplotlib.figure.Figure at 0x75ceda0>"
       ]
      }
     ],
     "prompt_number": 7
    },
    {
     "cell_type": "code",
     "collapsed": false,
     "input": [
      "xrp2"
     ],
     "language": "python",
     "metadata": {},
     "outputs": [
      {
       "metadata": {},
       "output_type": "pyout",
       "prompt_number": 25,
       "text": [
        "array([-2.31, -1.31, -0.31])"
       ]
      }
     ],
     "prompt_number": 25
    },
    {
     "cell_type": "code",
     "collapsed": false,
     "input": [
      "val = np.ones([Nx,Ny,Nz])\n",
      "I3 = imagemanip.shiftImageRegular3D(val, xedges, yedges, zedges, offset12)"
     ],
     "language": "python",
     "metadata": {},
     "outputs": [],
     "prompt_number": 17
    },
    {
     "cell_type": "code",
     "collapsed": false,
     "input": [
      "I3.shape"
     ],
     "language": "python",
     "metadata": {},
     "outputs": [
      {
       "metadata": {},
       "output_type": "pyout",
       "prompt_number": 10,
       "text": [
        "(20, 30, 40)"
       ]
      }
     ],
     "prompt_number": 10
    },
    {
     "cell_type": "code",
     "collapsed": false,
     "input": [
      "I3[:,0,0]"
     ],
     "language": "python",
     "metadata": {},
     "outputs": [
      {
       "metadata": {},
       "output_type": "pyout",
       "prompt_number": 18,
       "text": [
        "array([ 1.,  1.,  1.,  1.,  1.,  1.,  1.,  1.,  1.,  1.,  1.,  1.,  1.,\n",
        "        1.,  1.,  1.,  1.,  1.,  1.,  1.])"
       ]
      }
     ],
     "prompt_number": 18
    },
    {
     "cell_type": "code",
     "collapsed": false,
     "input": [],
     "language": "python",
     "metadata": {},
     "outputs": []
    }
   ],
   "metadata": {}
  }
 ]
}