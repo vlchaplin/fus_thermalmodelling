{
 "cells": [
  {
   "cell_type": "code",
   "execution_count": 1,
   "metadata": {
    "collapsed": true
   },
   "outputs": [],
   "source": [
    "import numpy as np\n",
    "import sys\n",
    "from math import *\n",
    "\n",
    "import matplotlib.pyplot as plt\n",
    "from matplotlib import collections\n",
    "from matplotlib import image\n",
    "\n",
    "%matplotlib inline\n",
    "\n",
    "sys.path.append('C:\\\\Users\\\\vchaplin\\\\Documents\\\\HiFU\\code\\\\myPy')  \n",
    "sys.path.append('C:\\\\Users\\\\Vandiver\\\\Documents\\\\HiFU\\\\code\\\\CUDA\\\\RSgpu\\\\Release')\n",
    "\n",
    "import geom\n",
    "import transducers\n",
    "import sonalleve\n",
    "import RSgpuPySwig\n",
    "\n",
    "import PBHE_CUDA\n",
    "import sys\n",
    "sys.path.append('C:\\\\Users\\\\vchaplin\\\\Documents\\\\HiFU\\\\code\\\\AblationSims')\n",
    "import ablation_utils\n",
    "import importlib"
   ]
  },
  {
   "cell_type": "code",
   "execution_count": 5,
   "metadata": {
    "collapsed": false
   },
   "outputs": [
    {
     "data": {
      "text/plain": [
       "<module 'transducers' from 'C:\\\\Users\\\\vchaplin\\\\Documents\\\\HiFU\\\\code\\\\myPy\\\\transducers.py'>"
      ]
     },
     "execution_count": 5,
     "metadata": {},
     "output_type": "execute_result"
    }
   ],
   "source": [
    "importlib.reload(transducers)"
   ]
  },
  {
   "cell_type": "code",
   "execution_count": 2,
   "metadata": {
    "collapsed": true
   },
   "outputs": [],
   "source": [
    "f0=1.2e6\n",
    "c0=1540\n",
    "rho=1000\n",
    "Cp=3700\n",
    "alpha=1.0\n",
    "\n",
    "Ispta0=2.5e7\n",
    "\n",
    "T0=37\n",
    "k0 = 2*pi*f0/c0\n",
    "\n",
    "xw=3.0\n",
    "yw=3.0\n",
    "zmin=11.0\n",
    "zmax=16.0\n",
    "\n",
    "Nx=60\n",
    "Ny=60\n",
    "Nz=80\n",
    "\n",
    "xedges = 1e-2*np.linspace(-xw/2.0, xw/2.0,Nx+1)\n",
    "yedges = 1e-2*np.linspace(-yw/2.0, yw/2.0,Ny+1)\n",
    "zedges = 1e-2*np.linspace(zmin, zmax,Nz+1)\n",
    "\n",
    "xrp = xedges[0:Nx]\n",
    "yrp = yedges[0:Ny]\n",
    "zrp = zedges[0:Nz]\n",
    "\n",
    "gxp,gyp,gzp = np.meshgrid(xrp, yrp, zrp, sparse=False, indexing='ij')\n",
    "calcGridDist= lambda rr: np.sqrt((gxp-rr[0])**2 + (gyp-rr[1])**2 + (gzp-rr[2])**2)\n",
    "\n",
    "dataType = np.float32\n",
    "\n",
    "dx = dataType(xrp[1]-xrp[0])\n",
    "dy = dataType(yrp[1]-yrp[0])\n",
    "dz = dataType(zrp[1]-zrp[0])\n",
    "dt = dataType(0.1)\n",
    "\n",
    "voxml = dx*dy*dz*1e6\n",
    "\n",
    "zplane=0.14\n",
    "focplaneZpix=np.where(np.logical_and( (zrp[1:-1]-zplane>=0) , (zrp[0:-2]-zplane<0) ))[0][0]"
   ]
  },
  {
   "cell_type": "code",
   "execution_count": 159,
   "metadata": {
    "collapsed": false
   },
   "outputs": [
    {
     "data": {
      "text/plain": [
       "(0.00050000002, 0.00015625001292818297)"
      ]
     },
     "execution_count": 159,
     "metadata": {},
     "output_type": "execute_result"
    }
   ],
   "source": [
    "dx,voxml"
   ]
  },
  {
   "cell_type": "code",
   "execution_count": 3,
   "metadata": {
    "collapsed": false
   },
   "outputs": [],
   "source": [
    "Nt=50\n",
    "T4d = np.zeros([Nt,Nx,Ny,Nz],dtype=dataType)\n",
    "tdot3d=np.zeros([Nx,Ny,Nz],dtype=dataType)\n",
    "kt3d = 0.5*np.ones([Nx,Ny,Nz],dtype=dataType)\n",
    "rhoCp3d = 3700.0*rho*np.ones([Nx,Ny,Nz],dtype=dataType)\n",
    "Dtxyz = np.array([dt,dx,dy,dz],dtype=dataType)\n",
    "CEMfinal =np.zeros([Nx,Ny,Nz],dtype=dataType)\n",
    "Rbase=np.zeros([Nx,Ny,Nz],dtype=dataType)\n",
    "Tmax=np.zeros([Nx,Ny,Nz],dtype=dataType)\n",
    "\n",
    "simgrid={}\n",
    "simgrid['kt']=kt3d\n",
    "simgrid['rhoCp']=rhoCp3d    \n",
    "simgrid['dtxyz']=Dtxyz"
   ]
  },
  {
   "cell_type": "code",
   "execution_count": 4,
   "metadata": {
    "collapsed": false
   },
   "outputs": [],
   "source": [
    "uxyz = sonalleve.get_sonalleve_xdc_vecs()\n",
    "N = uxyz.shape[0]\n",
    "\n",
    "unvecs = np.apply_along_axis(lambda x: x / np.sqrt(np.sum(x**2)), 1, [0.0,0.0,0.14] - uxyz )\n",
    "\n",
    "uamp0 = np.ones(N) / N\n",
    "\n",
    "#P0 = transducers.calc_pressure_field_cuda(k0, uxyz, unvecs, uamp0, np.linspace(-0.003,0.003,60), np.linspace(-0.003,0.003,60), 0.14 + np.linspace(-0.003,0.003,60))\n",
    "\n",
    "P0 = transducers.calc_pressure_field_cuda(k0, uxyz, unvecs, uamp0, np.linspace(-0.003,0.003,60), np.linspace(-0.003,0.003,60), 0.14 + np.linspace(-0.003,0.003,60),  \n",
    "                                         subsampN=60, subsampDiam=0.0033, ROC=0.14)\n",
    "\n",
    "I0 = np.abs(P0)**2 / (2.0*rho*c0)\n",
    "powerRenormL1 = (Ispta0/np.max(I0))"
   ]
  },
  {
   "cell_type": "code",
   "execution_count": 7,
   "metadata": {
    "collapsed": true
   },
   "outputs": [],
   "source": [
    "def inSphere(x,y,z,r=0.005): \n",
    "    return np.sqrt(x**2 + y**2 + z**2)<=r\n",
    "    \n",
    "def inEllipse(x,y,z,a=0.005,b=0.005,c=0.005):\n",
    "    return np.sqrt((x/a)**2 + (y/b)**2 + (z/c)**2)<=1.0\n",
    "    \n",
    "def roiGen(focalPattern, isContainedFunc):\n",
    "    \"\"\"\n",
    "    focalPattern is an (m x 3) array\n",
    "    \"\"\"\n",
    "    nf = len(focalPattern)\n",
    "    mask=np.zeros_like(gxp,dtype=bool)\n",
    "    for i in range(0,nf):\n",
    "        mask= np.logical_or( mask, isContainedFunc(gxp - focalPattern[i][0], gyp - focalPattern[i][1], gzp - focalPattern[i][2]) )\n",
    "    return mask"
   ]
  },
  {
   "cell_type": "code",
   "execution_count": 6,
   "metadata": {
    "collapsed": false
   },
   "outputs": [],
   "source": [
    "\n",
    "\n",
    "nfociList = [2,3,4,5,6,7]\n",
    "nfociList = [1,2,3,4,5,6,7,9]\n",
    "nftrials = len(nfociList)\n",
    "\n",
    "diamList= (np.arange(0.001,0.00601,0.00025))\n",
    "#diamList=np.array([0.001, 0.0055])\n",
    "\n",
    "ndtrials=len(diamList)\n",
    "\n",
    "lesionRatesON = np.zeros([nftrials,ndtrials])\n",
    "lesionRatesEXTRA = np.zeros([nftrials,ndtrials])\n",
    "lesionRatesAllSpace = np.zeros([nftrials,ndtrials])\n",
    "\n",
    "TavgRatesON = np.zeros([nftrials,ndtrials])\n",
    "TavgRatesOFF = np.zeros([nftrials,ndtrials])"
   ]
  },
  {
   "cell_type": "code",
   "execution_count": 26,
   "metadata": {
    "collapsed": true
   },
   "outputs": [],
   "source": [
    "\n",
    "T4d[0][:] = T0"
   ]
  },
  {
   "cell_type": "code",
   "execution_count": 12,
   "metadata": {
    "collapsed": true
   },
   "outputs": [],
   "source": [
    "def execute_sim(M,d, sonication_time=1.0, Tmax=None):\n",
    "    #d = diamList[di]\n",
    "    if M==1:\n",
    "        spacing=0\n",
    "        pxyz=np.array([[0.0, 0.0, 0.14]])\n",
    "        radius=d/2\n",
    "    else:\n",
    "        pxyz,radius = geom.ring(d,M,z=0.14)\n",
    "        spacing = 2*(radius**2)*(1 - cos(2*pi/M))\n",
    "\n",
    "    #ROION=   roiGen(pxyz, lambda x,y,z: inEllipse(x,y,z,0.001,0.001,0.01) )\n",
    "    #ROION=   roiGen([[0,0,0.14]], lambda x,y,z: inEllipse(x,y,z, radius + 0.002, radius + 0.002,2*2*radius))\n",
    "    ROION=   roiGen([[0,0,0.14]], lambda x,y,z: inEllipse(x,y,z, 0.008, 0.008,0.015))\n",
    "    \n",
    "    ROIEXTRA=roiGen(pxyz, lambda x,y,z: inEllipse(x,y,z,0.01,0.01,0.04) )\n",
    "    ROIOFF = np.logical_and( ROIEXTRA, np.logical_not(ROION))\n",
    "\n",
    "    uamp = transducers.get_focused_element_vals( k0,uxyz,pxyz,1e7*np.ones(M), L1renorm=sqrt(powerRenormL1) )\n",
    "\n",
    "    #for Nx,Ny=60, Nz=80, and 256-elements, these GPU subasmpling memory params work on my local mach;\n",
    "    subsampMax=20  #60  or 20\n",
    "    gpublocks=256  #128    256\n",
    "    \n",
    "    P1 = transducers.calc_pressure_field_cuda(k0, uxyz, unvecs, uamp, xrp, yrp, zrp, subsampN=subsampMax, subsampDiam=0.0033, ROC=0.14, gpublocks=gpublocks   )\n",
    "    I1 = np.abs(P1)**2 / (2.0*rho*c0)\n",
    "    tdot3d[:] = 2*alpha*I1 / (rhoCp3d)\n",
    "    (duration,Tmax,junk,junk) = ablation_utils.calc_heating(simgrid,T4d,tdot3d,None,None,None,None, sonication_time, CEMfinal,Rbase,   \n",
    "                                                      Tmax=Tmax, Ntbuff=Nt, GPU=True, Freeflow=1)\n",
    "    return (duration,Tmax, ROION, ROIOFF, ROIEXTRA)"
   ]
  },
  {
   "cell_type": "code",
   "execution_count": 8,
   "metadata": {
    "collapsed": false
   },
   "outputs": [
    {
     "name": "stdout",
     "output_type": "stream",
     "text": [
      "#nfoc= 1\n",
      "#nfoc= 2\n",
      "#nfoc= 3\n",
      "#nfoc= 4\n",
      "#nfoc= 5\n",
      "#nfoc= 6\n",
      "#nfoc= 7\n",
      "#nfoc= 9\n"
     ]
    }
   ],
   "source": [
    "PBHE_CUDA.Create_Global_GPU_Session32(*T4d.shape)\n",
    "PBHE_CUDA.Create_Global_GPU_Session64(*T4d.shape)\n",
    "sonication_time=10\n",
    "for mi in range(0,nftrials):\n",
    "    M = nfociList[mi]\n",
    "    print('#nfoc=',M)\n",
    "    for di in range(0,ndtrials):\n",
    "        \n",
    "        T4d[0][:] = T0\n",
    "        CEMfinal[:] = 0\n",
    "        Tmax[:] = 0\n",
    "        \n",
    "        d = diamList[di]\n",
    "\n",
    "        if M==1 and di>0:\n",
    "            lesionRatesAllSpace[mi,di] = lesionRatesAllSpace[mi,di-1]\n",
    "            lesionRatesON[mi,di] = lesionRatesON[mi,di-1]\n",
    "            lesionRatesEXTRA[mi,di] = lesionRatesEXTRA[mi,di-1]\n",
    "            TavgRatesON[mi,di] = TavgRatesON[mi,di-1]\n",
    "            TavgRatesOFF[mi,di] = TavgRatesOFF[mi,di-1]\n",
    "        else:\n",
    "            (duration,Tmax, ROION, ROIOFF, ROIEXTRA) = execute_sim(M,d,sonication_time=sonication_time,Tmax=Tmax)\n",
    "        \n",
    "            lesionRatesAllSpace[mi,di] = np.sum(CEMfinal >= 240.0) * voxml / duration\n",
    "            lesionRatesON[mi,di] = np.sum(CEMfinal[ROION] >= 240.0) * voxml / duration\n",
    "            lesionRatesEXTRA[mi,di] = np.sum(CEMfinal[ROIEXTRA] >= 240.0) * voxml / duration\n",
    "            TavgRatesON[mi,di] = np.mean(Tmax[ROION]) - T0\n",
    "            TavgRatesOFF[mi,di] = np.mean(Tmax[ROIOFF]) - T0\n",
    "        \n",
    "PBHE_CUDA.ResetGPU()"
   ]
  },
  {
   "cell_type": "code",
   "execution_count": 9,
   "metadata": {
    "collapsed": false,
    "scrolled": false
   },
   "outputs": [
    {
     "name": "stderr",
     "output_type": "stream",
     "text": [
      "C:\\Users\\Vandiver\\Anaconda3\\lib\\site-packages\\ipykernel\\__main__.py:6: RuntimeWarning: invalid value encountered in true_divide\n"
     ]
    },
    {
     "data": {
      "image/png": "[encoded data removed]",
      "text/plain": [
       "<matplotlib.figure.Figure at 0x797f3c8>"
      ]
     },
     "metadata": {},
     "output_type": "display_data"
    }
   ],
   "source": [
    "#lesionRatesEXTRA - lesionRatesON\n",
    "\n",
    "\n",
    "zeroMask=lesionRatesEXTRA==0\n",
    "\n",
    "onExtraVolratio = lesionRatesON/lesionRatesEXTRA\n",
    "onExtraVolratio[zeroMask]=0\n",
    "\n",
    "plt.figure(figsize=(20,13.5))\n",
    "\n",
    "cmm=image.cm.hot\n",
    "\n",
    "ax=plt.subplot(221)\n",
    "maxmlRate=np.max(lesionRatesAllSpace)\n",
    "plt.xlabel('d [mm]', fontsize=20)\n",
    "plt.ylabel('# foci', fontsize=20)\n",
    "dSpc = (diamList[-1] - diamList[-2])\n",
    "#bounds = [ 1000*(diamList[0] + dSpc/2), 1000*(diamList[-1] + dSpc/2 + dSpc ) , nfociList[-1]+1, nfociList[0] ]\n",
    "plt.imshow( lesionRatesON*1000 , vmin=0,vmax=maxmlRate*1000, interpolation='None',cmap=cmm )\n",
    "\n",
    "ax.set_title(\"On-target lesion rate\",fontsize=22)\n",
    "\n",
    "dstep=2\n",
    "diamStr = list(map(lambda d:\"%0.1f\" % d,1000*diamList[0:ndtrials:dstep]))\n",
    "diamLocs= np.arange(0.0, ndtrials,dstep)\n",
    "\n",
    "cb=plt.colorbar(orientation='horizontal')\n",
    "cb.set_label('uL/sec',fontsize=20)\n",
    "cb.ax.tick_params(labelsize=20)\n",
    "\n",
    "ax.xaxis.set_ticks( diamLocs )\n",
    "ax.xaxis.set_ticklabels( diamStr )\n",
    "\n",
    "ax.yaxis.set_ticks( np.arange(0.0, nftrials) )\n",
    "ax.yaxis.set_ticklabels( nfociList )\n",
    "ax.tick_params(labelsize=20)\n",
    "\n",
    "\n",
    "\n",
    "ax=plt.subplot(222)\n",
    "ax.set_title(\"On/Total Volume\",fontsize=22)\n",
    "\n",
    "ax.xaxis.set_agg_filter\n",
    "ax.xaxis.set_ticks( diamLocs )\n",
    "ax.xaxis.set_ticklabels( diamStr )\n",
    "\n",
    "ax.yaxis.set_ticks( np.arange(0.0, nftrials) )\n",
    "ax.yaxis.set_ticklabels( nfociList )\n",
    "\n",
    "plt.imshow( onExtraVolratio,interpolation='None',cmap=cmm )\n",
    "\n",
    "cb=plt.colorbar(orientation='horizontal')\n",
    "cb.set_label('ratio',fontsize=20)\n",
    "cb.ax.tick_params(labelsize=20)\n",
    "\n",
    "plt.xlabel('d [mm]', fontsize=20)\n",
    "plt.ylabel('# foci', fontsize=20)\n",
    "ax.tick_params(labelsize=20)\n",
    "\n",
    "\n",
    "\n",
    "ax=plt.subplot(223)\n",
    "ax.set_title(\"On-target avg(max(T))\",fontsize=22)\n",
    "ax.xaxis.set_agg_filter\n",
    "ax.xaxis.set_ticks( diamLocs )\n",
    "ax.xaxis.set_ticklabels( diamStr )\n",
    "\n",
    "ax.yaxis.set_ticks( np.arange(0.0, nftrials) )\n",
    "ax.yaxis.set_ticklabels( nfociList )\n",
    "\n",
    "plt.imshow( TavgRatesON,vmin=0,interpolation='None',cmap=cmm )\n",
    "plt.xlabel('d [mm]', fontsize=20)\n",
    "plt.ylabel('# foci', fontsize=20)\n",
    "ax.tick_params(labelsize=20)\n",
    "\n",
    "cb=plt.colorbar(orientation='horizontal')\n",
    "cb.set_label('Temperature change [C]',fontsize=20)\n",
    "cb.ax.tick_params(labelsize=20)\n",
    "\n",
    "\n",
    "\n",
    "ax=plt.subplot(224)\n",
    "\n",
    "ax.xaxis.set_agg_filter\n",
    "ax.xaxis.set_ticks( diamLocs )\n",
    "ax.xaxis.set_ticklabels( diamStr )\n",
    "\n",
    "ax.yaxis.set_ticks( np.arange(0.0, nftrials) )\n",
    "ax.yaxis.set_ticklabels( nfociList )\n",
    "ax.set_title(\"On-/Off-target Temp\",fontsize=22)\n",
    "#plt.imshow( (TavgRatesON-T0) / (TavgRatesOFF-T0),interpolation='None',cmap=cmm )\n",
    "plt.imshow( (TavgRatesON/TavgRatesOFF) ,interpolation='None',cmap=cmm )\n",
    "cb=plt.colorbar(orientation='horizontal')\n",
    "cb.set_label('ratio',fontsize=20)\n",
    "cb.ax.tick_params(labelsize=20)\n",
    "\n",
    "plt.xlabel('d [mm]', fontsize=20)\n",
    "plt.ylabel('# foci', fontsize=20)\n",
    "ax.tick_params(labelsize=20)\n"
   ]
  },
  {
   "cell_type": "code",
   "execution_count": 106,
   "metadata": {
    "collapsed": false
   },
   "outputs": [
    {
     "data": {
      "text/plain": [
       "0.0012833333333333334"
      ]
     },
     "execution_count": 106,
     "metadata": {},
     "output_type": "execute_result"
    }
   ],
   "source": [
    "c0/f0"
   ]
  },
  {
   "cell_type": "code",
   "execution_count": 82,
   "metadata": {
    "collapsed": false
   },
   "outputs": [
    {
     "data": {
      "text/plain": [
       "array([[ 5.55517578,  5.55517578,  5.55517578,  5.55517578,  5.55517578,\n",
       "         5.55517578,  5.55517578,  5.55517578,  5.55517578,  5.55517578,\n",
       "         5.55517578],\n",
       "       [ 5.83449173,  6.99565887,  7.19672012,  6.78125763,  6.68323135,\n",
       "         6.57369232,  6.60638046,  6.73049927,  6.42687607,  6.11297226,\n",
       "         6.00884628],\n",
       "       [ 5.68872452,  6.06356049,  6.75259018,  6.1681366 ,  5.89303207,\n",
       "         6.10832596,  6.36491394,  6.58233261,  6.59631729,  6.60444641,\n",
       "         6.28596497],\n",
       "       [ 5.69009399,  6.11384201,  7.98418427,  8.4628334 ,  7.57170486,\n",
       "         7.89701843,  8.16650772,  7.8256073 ,  7.59607315,  7.56874084,\n",
       "         8.03178024],\n",
       "       [ 5.69003296,  6.11150742,  7.9623642 ,  8.61693573,  6.48841858,\n",
       "         5.9181633 ,  5.80373001,  6.00746918,  5.92285156,  5.94327927,\n",
       "         5.77268982],\n",
       "       [ 5.69004059,  6.11157227,  7.98265839,  8.77688217,  6.60531235,\n",
       "         6.01967239,  6.10076523,  6.83001328,  6.57300949,  6.6860199 ,\n",
       "         6.67051697]])"
      ]
     },
     "execution_count": 82,
     "metadata": {},
     "output_type": "execute_result"
    }
   ],
   "source": [
    "(TavgRatesON)"
   ]
  },
  {
   "cell_type": "code",
   "execution_count": 186,
   "metadata": {
    "collapsed": false
   },
   "outputs": [
    {
     "data": {
      "text/plain": [
       "1132.0"
      ]
     },
     "execution_count": 186,
     "metadata": {},
     "output_type": "execute_result"
    }
   ],
   "source": [
    "lesionRatesON[3,3]"
   ]
  },
  {
   "cell_type": "code",
   "execution_count": 13,
   "metadata": {
    "collapsed": false
   },
   "outputs": [],
   "source": [
    "PBHE_CUDA.Create_Global_GPU_Session32(*T4d.shape)\n",
    "\n",
    "T4d[0][:] = T0\n",
    "CEMfinal[:] = 0\n",
    "Tmax[:] = 0\n",
    "\n",
    "(duration,Tmax, ROION, ROIOFF, ROIEXTRA) = execute_sim(1,0.00225,sonication_time=10,Tmax=Tmax)\n",
    "\n",
    "PBHE_CUDA.ResetGPU()"
   ]
  },
  {
   "cell_type": "code",
   "execution_count": 192,
   "metadata": {
    "collapsed": false
   },
   "outputs": [
    {
     "data": {
      "text/plain": [
       "1132"
      ]
     },
     "execution_count": 192,
     "metadata": {},
     "output_type": "execute_result"
    }
   ],
   "source": [
    "np.sum(CEMfinal[ROION]>=240.0)"
   ]
  },
  {
   "cell_type": "code",
   "execution_count": 16,
   "metadata": {
    "collapsed": false
   },
   "outputs": [
    {
     "data": {
      "text/plain": [
       "<matplotlib.image.AxesImage at 0xcb86278>"
      ]
     },
     "execution_count": 16,
     "metadata": {},
     "output_type": "execute_result"
    },
    {
     "data": {
      "image/png": "[encoded data removed]",
      "text/plain": [
       "<matplotlib.figure.Figure at 0xcb1ca20>"
      ]
     },
     "metadata": {},
     "output_type": "display_data"
    }
   ],
   "source": [
    "plt.figure(figsize=(12,8))\n",
    "plt.subplot(121)\n",
    "xy=list(map( lambda x: 100*x,[yrp[0],yrp[-1],xrp[-1],xrp[0]]))\n",
    "plt.imshow( Tmax[:,:,focplaneZpix] , extent=xy, vmin=37,vmax=60,cmap=image.cm.hot, interpolation='none')\n",
    "plt.imshow( ROION[:,:,focplaneZpix] , extent=xy, vmin=0,vmax=1,cmap=image.cm.gray,alpha=0.15, interpolation='none')\n",
    "plt.imshow( ROIEXTRA[:,:,focplaneZpix] , extent=xy, vmin=0,vmax=1,cmap=image.cm.gray,alpha=0.25, interpolation='none')\n",
    "plt.subplot(122)\n",
    "yz=list(map( lambda x: 100*x,[zrp[0],zrp[-1],yrp[-1],yrp[0]]))\n",
    "i=floor(Nx/2)\n",
    "plt.imshow( Tmax[i,:,:] , extent=yz, vmin=37,vmax=60,cmap=image.cm.hot, interpolation='none')\n",
    "plt.imshow( ROION[i,:,:] , extent=yz, vmin=0,vmax=1,cmap=image.cm.gray,alpha=0.15, interpolation='none')\n",
    "plt.imshow( ROIEXTRA[i,:,:] , extent=yz, vmin=0,vmax=1,cmap=image.cm.gray,alpha=0.25, interpolation='none')"
   ]
  },
  {
   "cell_type": "code",
   "execution_count": 15,
   "metadata": {
    "collapsed": false
   },
   "outputs": [
    {
     "data": {
      "text/plain": [
       "<matplotlib.image.AxesImage at 0xcb1fa20>"
      ]
     },
     "execution_count": 15,
     "metadata": {},
     "output_type": "execute_result"
    },
    {
     "data": {
      "image/png": "[encoded data removed]",
      "text/plain": [
       "<matplotlib.figure.Figure at 0xc555da0>"
      ]
     },
     "metadata": {},
     "output_type": "display_data"
    }
   ],
   "source": [
    "plt.figure(figsize=(12,8))\n",
    "plt.subplot(121)\n",
    "xy=list(map( lambda x: 100*x,[yrp[0],yrp[-1],xrp[-1],xrp[0]]))\n",
    "plt.imshow( CEMfinal[:,:,focplaneZpix] , extent=xy, vmin=0,vmax=240,cmap=image.cm.hot, interpolation='none')\n",
    "plt.imshow( ROION[:,:,focplaneZpix] , extent=xy, vmin=0,vmax=1,cmap=image.cm.gray,alpha=0.15, interpolation='none')\n",
    "plt.imshow( ROIEXTRA[:,:,focplaneZpix] , extent=xy, vmin=0,vmax=1,cmap=image.cm.gray,alpha=0.25, interpolation='none')\n",
    "plt.subplot(122)\n",
    "xz=list(map( lambda x: 100*x,[zrp[0],zrp[-1],xrp[-1],xrp[0]]))\n",
    "j=floor(Ny/2)\n",
    "plt.imshow( CEMfinal[:,j,:] , extent=xz, vmin=0,vmax=240,cmap=image.cm.hot, interpolation='none')\n",
    "plt.colorbar(orientation='horizontal')\n",
    "plt.imshow( ROION[:,j,:] , extent=xz, vmin=0,vmax=1,cmap=image.cm.gray,alpha=0.15, interpolation='none')\n",
    "plt.imshow( ROIEXTRA[:,j,:] , extent=xz, vmin=0,vmax=1,cmap=image.cm.gray,alpha=0.25, interpolation='none')\n"
   ]
  },
  {
   "cell_type": "code",
   "execution_count": 389,
   "metadata": {
    "collapsed": false
   },
   "outputs": [
    {
     "data": {
      "text/plain": [
       "array([ 0.       ,  1.0012555,  1.0012555,  1.0012555,  1.0012555,\n",
       "        1.0012555,  1.0012555,  1.0012555])"
      ]
     },
     "execution_count": 389,
     "metadata": {},
     "output_type": "execute_result"
    }
   ],
   "source": [
    "u,nnn=transducers.new_stipled_spherecap_array(10, 2, 9)\n",
    "np.sqrt(np.sum( u**2,axis=1))"
   ]
  },
  {
   "cell_type": "code",
   "execution_count": 390,
   "metadata": {
    "collapsed": false
   },
   "outputs": [
    {
     "data": {
      "text/plain": [
       "array([[ 0.        ,  0.        ,  0.        ],\n",
       "       [ 1.        ,  0.        ,  0.05012563],\n",
       "       [ 0.6234898 ,  0.78183148,  0.05012563],\n",
       "       [-0.22252093,  0.97492791,  0.05012563],\n",
       "       [-0.90096887,  0.43388374,  0.05012563],\n",
       "       [-0.90096887, -0.43388374,  0.05012563],\n",
       "       [-0.22252093, -0.97492791,  0.05012563],\n",
       "       [ 0.6234898 , -0.78183148,  0.05012563]])"
      ]
     },
     "execution_count": 390,
     "metadata": {},
     "output_type": "execute_result"
    }
   ],
   "source": [
    "u"
   ]
  },
  {
   "cell_type": "code",
   "execution_count": 204,
   "metadata": {
    "collapsed": true
   },
   "outputs": [],
   "source": [
    "qq=np.array([1,2,3])"
   ]
  },
  {
   "cell_type": "code",
   "execution_count": 208,
   "metadata": {
    "collapsed": false
   },
   "outputs": [
    {
     "data": {
      "text/plain": [
       "True"
      ]
     },
     "execution_count": 208,
     "metadata": {},
     "output_type": "execute_result"
    }
   ],
   "source": [
    "type(qq)==np.ndarray"
   ]
  },
  {
   "cell_type": "code",
   "execution_count": 54,
   "metadata": {
    "collapsed": false
   },
   "outputs": [
    {
     "data": {
      "text/plain": [
       "41.0"
      ]
     },
     "execution_count": 54,
     "metadata": {},
     "output_type": "execute_result"
    }
   ],
   "source": [
    "ablation_utils.countSonications(10, 4.0, 0.0, 0.6, 2.0, 4.0)"
   ]
  },
  {
   "cell_type": "code",
   "execution_count": 453,
   "metadata": {
    "collapsed": false
   },
   "outputs": [
    {
     "data": {
      "text/plain": [
       "<module 'transducers' from 'C:\\\\Users\\\\vchaplin\\\\Documents\\\\HiFU\\\\code\\\\myPy\\\\transducers.py'>"
      ]
     },
     "execution_count": 453,
     "metadata": {},
     "output_type": "execute_result"
    }
   ],
   "source": [
    "importlib.reload(transducers)"
   ]
  },
  {
   "cell_type": "code",
   "execution_count": 253,
   "metadata": {
    "collapsed": false
   },
   "outputs": [],
   "source": [
    "(un_r, un_theta, un_phi) = geom.cart2sphere(u[:,0], u[:,1], u[:,2])"
   ]
  },
  {
   "cell_type": "code",
   "execution_count": 304,
   "metadata": {
    "collapsed": false
   },
   "outputs": [],
   "source": [
    "Rn = geom.getRotZYZarray(0.05, pi, 0)"
   ]
  },
  {
   "cell_type": "code",
   "execution_count": 305,
   "metadata": {
    "collapsed": false
   },
   "outputs": [],
   "source": [
    "v = u.dot(Rn)"
   ]
  },
  {
   "cell_type": "code",
   "execution_count": 458,
   "metadata": {
    "collapsed": false
   },
   "outputs": [],
   "source": [
    "(vxyz,ns,(arr1,arr2))=transducers.subsample_transducer_array(uxyz, 0.0033,21,unormvecs=unvecs,ROC=0.14, arrays_to_grow=[uamp0,unvecs])"
   ]
  },
  {
   "cell_type": "code",
   "execution_count": 55,
   "metadata": {
    "collapsed": false
   },
   "outputs": [
    {
     "data": {
      "text/plain": [
       "36.0"
      ]
     },
     "execution_count": 55,
     "metadata": {},
     "output_type": "execute_result"
    }
   ],
   "source": [
    "ablation_utils.countSonications(10,4,0,0.7,2.0,2.0)"
   ]
  },
  {
   "cell_type": "code",
   "execution_count": 429,
   "metadata": {
    "collapsed": false
   },
   "outputs": [
    {
     "data": {
      "text/plain": [
       "(256, 3)"
      ]
     },
     "execution_count": 429,
     "metadata": {},
     "output_type": "execute_result"
    }
   ],
   "source": [
    "tuple(list(uxyz.shape))"
   ]
  },
  {
   "cell_type": "code",
   "execution_count": 306,
   "metadata": {
    "collapsed": false
   },
   "outputs": [
    {
     "data": {
      "text/plain": [
       "[<matplotlib.lines.Line2D at 0x73b5160>]"
      ]
     },
     "execution_count": 306,
     "metadata": {},
     "output_type": "execute_result"
    },
    {
     "data": {
      "image/png": "[encoded data removed]",
      "text/plain": [
       "<matplotlib.figure.Figure at 0x1284f390>"
      ]
     },
     "metadata": {},
     "output_type": "display_data"
    }
   ],
   "source": [
    "plt.plot(u[:,0], u[:,1],'o')\n",
    "plt.plot(v[:,0], v[:,1],'o')"
   ]
  },
  {
   "cell_type": "code",
   "execution_count": 248,
   "metadata": {
    "collapsed": false
   },
   "outputs": [],
   "source": [
    "from mpl_toolkits.mplot3d import Axes3D"
   ]
  },
  {
   "cell_type": "code",
   "execution_count": 363,
   "metadata": {
    "collapsed": false
   },
   "outputs": [
    {
     "data": {
      "image/png": "[encoded data removed]",
      "text/plain": [
       "<matplotlib.figure.Figure at 0x1b8c2c88>"
      ]
     },
     "metadata": {},
     "output_type": "display_data"
    }
   ],
   "source": [
    "fig = plt.figure(figsize=(12,12), dpi=72)\n",
    "ax = fig.gca(projection='3d')\n",
    "ax.set_zlim(top=0.02)\n",
    "ax.plot3D(uxyz[:,0], uxyz[:,1], uxyz[:,2],'.')\n",
    "ax.plot3D(vxyz[:,0], vxyz[:,1], vxyz[:,2],'.')\n",
    "ax.view_init(90,0)"
   ]
  },
  {
   "cell_type": "code",
   "execution_count": null,
   "metadata": {
    "collapsed": true
   },
   "outputs": [],
   "source": []
  },
  {
   "cell_type": "code",
   "execution_count": null,
   "metadata": {
    "collapsed": true
   },
   "outputs": [],
   "source": []
  },
  {
   "cell_type": "code",
   "execution_count": 1,
   "metadata": {
    "collapsed": true
   },
   "outputs": [],
   "source": [
    "import numpy as np\n",
    "import sys\n",
    "from math import *\n",
    "\n",
    "import matplotlib.pyplot as plt\n",
    "from matplotlib import collections\n",
    "from matplotlib import image\n",
    "\n",
    "%matplotlib inline\n",
    "\n",
    "sys.path.append('C:\\\\Users\\\\vchaplin\\\\Documents\\\\HiFU\\code\\\\myPy')  \n",
    "sys.path.append('C:\\\\Users\\\\Vandiver\\\\Documents\\\\HiFU\\\\code\\\\CUDA\\\\RSgpu\\\\Release')\n",
    "\n",
    "import geom\n",
    "import transducers\n",
    "import sonalleve\n",
    "import RSgpuPySwig\n",
    "\n",
    "import PBHE_CUDA\n",
    "import sys\n",
    "sys.path.append('C:\\\\Users\\\\vchaplin\\\\Documents\\\\HiFU\\\\code\\\\AblationSims')\n",
    "import ablation_utils\n",
    "import importlib"
   ]
  },
  {
   "cell_type": "code",
   "execution_count": 23,
   "metadata": {
    "collapsed": false
   },
   "outputs": [
    {
     "data": {
      "text/plain": [
       "<module 'transducers' from 'C:\\\\Users\\\\vchaplin\\\\Documents\\\\HiFU\\\\code\\\\myPy\\\\transducers.py'>"
      ]
     },
     "execution_count": 23,
     "metadata": {},
     "output_type": "execute_result"
    }
   ],
   "source": [
    "importlib.reload(transducers)"
   ]
  },
  {
   "cell_type": "code",
   "execution_count": 45,
   "metadata": {
    "collapsed": false
   },
   "outputs": [],
   "source": [
    "xpp = np.arange(-0.01,0.01,0.0001)\n",
    "#xpp=np.array([0.0])\n",
    "#xpp=[0.0]\n",
    "ypp = xpp\n",
    "ypp=[0.0]\n",
    "zpp = np.arange(0.07,0.16,0.0001)\n",
    "#zpp=[0.14]\n",
    "f0=1.2e6\n",
    "c0=1540\n",
    "k0=2*pi*f0/c0\n",
    "rho=1000\n",
    "uxyz = sonalleve.get_sonalleve_xdc_vecs()\n",
    "N = uxyz.shape[0]\n",
    "\n",
    "unvecs = np.apply_along_axis(lambda x: x / np.sqrt(np.sum(x**2)), 1, [0.0,0.0,0.14] - uxyz )\n",
    "\n"
   ]
  },
  {
   "cell_type": "code",
   "execution_count": 27,
   "metadata": {
    "collapsed": false
   },
   "outputs": [
    {
     "data": {
      "text/plain": [
       "40000"
      ]
     },
     "execution_count": 27,
     "metadata": {},
     "output_type": "execute_result"
    }
   ],
   "source": [
    "len(xpp)*len(zpp)*len(ypp)"
   ]
  },
  {
   "cell_type": "code",
   "execution_count": 12,
   "metadata": {
    "collapsed": false
   },
   "outputs": [
    {
     "data": {
      "text/plain": [
       "0.14000000000000201"
      ]
     },
     "execution_count": 12,
     "metadata": {},
     "output_type": "execute_result"
    }
   ],
   "source": [
    "zpp[700]"
   ]
  },
  {
   "cell_type": "code",
   "execution_count": 50,
   "metadata": {
    "collapsed": false
   },
   "outputs": [],
   "source": [
    "#pxyz,radius = geom.ring(d,M,z=0.14)\n",
    "pxyz=[[-0.002, 0.0, 0.14], [0.002, 0.0, 0.14]]\n",
    "M=len(pxyz)\n",
    "uamp = transducers.get_focused_element_vals( k0,uxyz,pxyz, np.ones(M), L1renorm=1.0e4 )\n",
    "\n",
    "uamp0 = np.ones(256)\n",
    "\n",
    "Pse = transducers.calc_pressure_field_cuda(k0, uxyz, unvecs, uamp0, xpp, ypp, zpp, gpublocks=64)\n",
    "Ise = np.abs(Pse)**2 / (2.0*rho*c0)\n",
    "\n",
    "Pss = transducers.calc_pressure_field_cuda(k0, uxyz, unvecs, uamp0, xpp, ypp, zpp, subsampN=20, subsampDiam=0.0033, ROC=0.14, gpublocks=64)\n",
    "Iss = np.abs(Pss)**2 / (2.0*rho*c0)\n",
    "\n",
    "#Ise /= np.max(Ise)\n",
    "#Iss /= np.max(Iss)\n"
   ]
  },
  {
   "cell_type": "code",
   "execution_count": 52,
   "metadata": {
    "collapsed": false
   },
   "outputs": [
    {
     "data": {
      "text/plain": [
       "<matplotlib.text.Text at 0x115acac8>"
      ]
     },
     "execution_count": 52,
     "metadata": {},
     "output_type": "execute_result"
    },
    {
     "data": {
      "image/png": "[encoded data removed]",
      "text/plain": [
       "<matplotlib.figure.Figure at 0x11528c18>"
      ]
     },
     "metadata": {},
     "output_type": "display_data"
    }
   ],
   "source": [
    "plt.figure(figsize=(12,6))\n",
    "i=floor(len(xpp)/2)\n",
    "j=floor(len(ypp)/2)\n",
    "k=floor(len(zpp)/2)\n",
    "plt.subplot(121)\n",
    "ax=plt.gca()\n",
    "ax.tick_params(labelsize=16)\n",
    "plt.plot(100*zpp,Ise[i,j,:])\n",
    "plt.plot(100*zpp,Iss[i,j,:])\n",
    "plt.legend(['single-point approx', 'pointilated'], bbox_to_anchor=(0.0, 1), borderaxespad=1.)\n",
    "plt.subplot(122)\n",
    "plt.plot(100*zpp,Ise[i,0,:] - Iss[i,0,:],'k-')\n",
    "ax=plt.gca()\n",
    "ax.tick_params(labelsize=16)\n",
    "ax.set_title('Difference')"
   ]
  },
  {
   "cell_type": "code",
   "execution_count": 51,
   "metadata": {
    "collapsed": false
   },
   "outputs": [
    {
     "data": {
      "text/plain": [
       "<matplotlib.colorbar.Colorbar at 0x114fdac8>"
      ]
     },
     "execution_count": 51,
     "metadata": {},
     "output_type": "execute_result"
    },
    {
     "data": {
      "image/png": "[encoded data removed]",
      "text/plain": [
       "<matplotlib.figure.Figure at 0xd5b7b70>"
      ]
     },
     "metadata": {},
     "output_type": "display_data"
    }
   ],
   "source": [
    "plt.figure(figsize=(12,12))\n",
    "plt.imshow((Ise[:,0,:] - Iss[:,0,:]) /  (Iss[:,0,:]) ,vmax=10, interpolation='none' )\n",
    "plt.colorbar()"
   ]
  },
  {
   "cell_type": "code",
   "execution_count": 36,
   "metadata": {
    "collapsed": false
   },
   "outputs": [
    {
     "data": {
      "text/plain": [
       "<matplotlib.image.AxesImage at 0xe2fd1d0>"
      ]
     },
     "execution_count": 36,
     "metadata": {},
     "output_type": "execute_result"
    },
    {
     "data": {
      "image/png": "[encoded data removed]",
      "text/plain": [
       "<matplotlib.figure.Figure at 0xddefb38>"
      ]
     },
     "metadata": {},
     "output_type": "display_data"
    }
   ],
   "source": [
    "plt.imshow(Iss[:,:,k] , interpolation='none' )"
   ]
  },
  {
   "cell_type": "code",
   "execution_count": 12,
   "metadata": {
    "collapsed": false
   },
   "outputs": [],
   "source": [
    "path=np.array([xpp,np.zeros_like(xpp),np.ones_like(xpp)*0.14]).transpose()\n",
    "Pcpu = transducers.calc_pressure_profile(k0, uxyz, uamp, path)\n",
    "Icpu = np.abs(Pcpu)**2 / (2.0*rho*c0)"
   ]
  },
  {
   "cell_type": "code",
   "execution_count": 13,
   "metadata": {
    "collapsed": false
   },
   "outputs": [
    {
     "data": {
      "text/plain": [
       "[<matplotlib.lines.Line2D at 0x789fd30>]"
      ]
     },
     "execution_count": 13,
     "metadata": {},
     "output_type": "execute_result"
    },
    {
     "data": {
      "image/png": "[encoded data removed]",
      "text/plain": [
       "<matplotlib.figure.Figure at 0xb67fe48>"
      ]
     },
     "metadata": {},
     "output_type": "display_data"
    }
   ],
   "source": [
    "plt.plot(Icpu)"
   ]
  },
  {
   "cell_type": "code",
   "execution_count": 39,
   "metadata": {
    "collapsed": false
   },
   "outputs": [],
   "source": [
    "nnn=30\n",
    "testarr=np.arange(0,nnn)\n",
    "(uxyz,ns,(testarrnew,))=transducers.subsample_transducer_array( uxyz[0:nnn,:], 0.0033, 10,arrays_to_grow=[testarr] )"
   ]
  },
  {
   "cell_type": "code",
   "execution_count": 34,
   "metadata": {
    "collapsed": false
   },
   "outputs": [
    {
     "data": {
      "text/plain": [
       "array([0, 0, 0, 0, 0, 0, 0, 0, 1, 1, 1, 1, 1, 1, 1, 1, 2, 2, 2, 2, 2, 2, 2,\n",
       "       2, 3, 3, 3, 3, 3, 3, 3, 3, 4, 4, 4, 4, 4, 4, 4, 4, 5, 5, 5, 5, 5, 5,\n",
       "       5, 5])"
      ]
     },
     "execution_count": 34,
     "metadata": {},
     "output_type": "execute_result"
    }
   ],
   "source": [
    "testarrnew"
   ]
  },
  {
   "cell_type": "code",
   "execution_count": 35,
   "metadata": {
    "collapsed": false
   },
   "outputs": [
    {
     "data": {
      "text/plain": [
       "8"
      ]
     },
     "execution_count": 35,
     "metadata": {},
     "output_type": "execute_result"
    }
   ],
   "source": [
    "ns"
   ]
  },
  {
   "cell_type": "code",
   "execution_count": 40,
   "metadata": {
    "collapsed": false
   },
   "outputs": [
    {
     "data": {
      "text/plain": [
       "435"
      ]
     },
     "execution_count": 40,
     "metadata": {},
     "output_type": "execute_result"
    }
   ],
   "source": [
    "sum(testarr)"
   ]
  },
  {
   "cell_type": "code",
   "execution_count": 41,
   "metadata": {
    "collapsed": false
   },
   "outputs": [
    {
     "data": {
      "text/plain": [
       "435.0"
      ]
     },
     "execution_count": 41,
     "metadata": {},
     "output_type": "execute_result"
    }
   ],
   "source": [
    "sum(testarrnew)/ns"
   ]
  },
  {
   "cell_type": "code",
   "execution_count": 16,
   "metadata": {
    "collapsed": true
   },
   "outputs": [],
   "source": [
    "import timeit"
   ]
  },
  {
   "cell_type": "code",
   "execution_count": 17,
   "metadata": {
    "collapsed": false
   },
   "outputs": [],
   "source": [
    "def ver1():\n",
    "    transducers.calc_pressure_field_cuda(k0, uxyz, unvecs, uamp, xrp, yrp, zrp, gpublocks=0)\n",
    "    \n",
    "def ver2():\n",
    "    transducers.calc_pressure_field_cuda(k0, uxyz, unvecs, uamp, xrp, yrp, zrp, gpublocks=256, subsampN=20, subsampDiam=0.0033,ROC=0.14)"
   ]
  },
  {
   "cell_type": "code",
   "execution_count": 18,
   "metadata": {
    "collapsed": false
   },
   "outputs": [
    {
     "data": {
      "text/plain": [
       "7.227584454457917"
      ]
     },
     "execution_count": 18,
     "metadata": {},
     "output_type": "execute_result"
    }
   ],
   "source": [
    "timeit.timeit( ver2,number=1)"
   ]
  },
  {
   "cell_type": "code",
   "execution_count": null,
   "metadata": {
    "collapsed": false
   },
   "outputs": [],
   "source": [
    "timeit.timeit( ver2,number=1)"
   ]
  },
  {
   "cell_type": "code",
   "execution_count": 42,
   "metadata": {
    "collapsed": false
   },
   "outputs": [
    {
     "data": {
      "text/plain": [
       "32753.44291426033"
      ]
     },
     "execution_count": 42,
     "metadata": {},
     "output_type": "execute_result"
    }
   ],
   "source": [
    "256*Nx*Ny*Nz / 2251"
   ]
  },
  {
   "cell_type": "code",
   "execution_count": 44,
   "metadata": {
    "collapsed": false
   },
   "outputs": [
    {
     "data": {
      "text/plain": [
       "33070"
      ]
     },
     "execution_count": 44,
     "metadata": {},
     "output_type": "execute_result"
    }
   ],
   "source": [
    "16535*2"
   ]
  },
  {
   "cell_type": "code",
   "execution_count": 57,
   "metadata": {
    "collapsed": false
   },
   "outputs": [
    {
     "ename": "NameError",
     "evalue": "name 'Nx' is not defined",
     "output_type": "error",
     "traceback": [
      "\u001b[1;31m---------------------------------------------------------------------------\u001b[0m",
      "\u001b[1;31mNameError\u001b[0m                                 Traceback (most recent call last)",
      "\u001b[1;32m<ipython-input-57-59124f62ac52>\u001b[0m in \u001b[0;36m<module>\u001b[1;34m()\u001b[0m\n\u001b[1;32m----> 1\u001b[1;33m \u001b[1;36m10240\u001b[0m\u001b[1;33m*\u001b[0m\u001b[0mNx\u001b[0m\u001b[1;33m*\u001b[0m\u001b[0mNy\u001b[0m\u001b[1;33m*\u001b[0m\u001b[0mNz\u001b[0m \u001b[1;33m/\u001b[0m \u001b[1;36m33070\u001b[0m\u001b[1;33m\u001b[0m\u001b[0m\n\u001b[0m",
      "\u001b[1;31mNameError\u001b[0m: name 'Nx' is not defined"
     ]
    }
   ],
   "source": [
    "10240*Nx*Ny*Nz / 33070"
   ]
  },
  {
   "cell_type": "code",
   "execution_count": 51,
   "metadata": {
    "collapsed": false
   },
   "outputs": [
    {
     "data": {
      "text/plain": [
       "56.275"
      ]
     },
     "execution_count": 51,
     "metadata": {},
     "output_type": "execute_result"
    }
   ],
   "source": [
    "2251/40"
   ]
  },
  {
   "cell_type": "code",
   "execution_count": 56,
   "metadata": {
    "collapsed": false
   },
   "outputs": [
    {
     "ename": "NameError",
     "evalue": "name 'T' is not defined",
     "output_type": "error",
     "traceback": [
      "\u001b[1;31m---------------------------------------------------------------------------\u001b[0m",
      "\u001b[1;31mNameError\u001b[0m                                 Traceback (most recent call last)",
      "\u001b[1;32m<ipython-input-56-4b9ae5931e09>\u001b[0m in \u001b[0;36m<module>\u001b[1;34m()\u001b[0m\n\u001b[1;32m----> 1\u001b[1;33m \u001b[0mT\u001b[0m\u001b[1;33m.\u001b[0m\u001b[0mshape\u001b[0m\u001b[1;33m\u001b[0m\u001b[0m\n\u001b[0m",
      "\u001b[1;31mNameError\u001b[0m: name 'T' is not defined"
     ]
    }
   ],
   "source": []
  },
  {
   "cell_type": "code",
   "execution_count": 60,
   "metadata": {
    "collapsed": true
   },
   "outputs": [],
   "source": [
    "q=np.zeros([2,3])"
   ]
  },
  {
   "cell_type": "code",
   "execution_count": 61,
   "metadata": {
    "collapsed": false
   },
   "outputs": [
    {
     "data": {
      "text/plain": [
       "2"
      ]
     },
     "execution_count": 61,
     "metadata": {},
     "output_type": "execute_result"
    }
   ],
   "source": [
    "q.ndim"
   ]
  },
  {
   "cell_type": "code",
   "execution_count": 62,
   "metadata": {
    "collapsed": true
   },
   "outputs": [],
   "source": [
    "uxyz = sonalleve.get_sonalleve_xdc_vecs()"
   ]
  },
  {
   "cell_type": "code",
   "execution_count": 64,
   "metadata": {
    "collapsed": false
   },
   "outputs": [
    {
     "data": {
      "text/plain": [
       "2"
      ]
     },
     "execution_count": 64,
     "metadata": {},
     "output_type": "execute_result"
    }
   ],
   "source": [
    "uxyz.ndim"
   ]
  },
  {
   "cell_type": "code",
   "execution_count": 68,
   "metadata": {
    "collapsed": false
   },
   "outputs": [
    {
     "data": {
      "text/plain": [
       "0"
      ]
     },
     "execution_count": 68,
     "metadata": {},
     "output_type": "execute_result"
    }
   ],
   "source": [
    "1 %1"
   ]
  },
  {
   "cell_type": "code",
   "execution_count": 87,
   "metadata": {
    "collapsed": false
   },
   "outputs": [],
   "source": [
    "def innerf(a=0,b=0):\n",
    "    print(a,b)\n",
    "\n",
    "def outer(x,**kwas):\n",
    "    print (kwas['a'])\n",
    "    innerf(**kwas)"
   ]
  },
  {
   "cell_type": "code",
   "execution_count": 70,
   "metadata": {
    "collapsed": false
   },
   "outputs": [
    {
     "name": "stdout",
     "output_type": "stream",
     "text": [
      "1 0\n"
     ]
    }
   ],
   "source": []
  },
  {
   "cell_type": "code",
   "execution_count": 88,
   "metadata": {
    "collapsed": false
   },
   "outputs": [
    {
     "name": "stdout",
     "output_type": "stream",
     "text": [
      "4\n",
      "4 0\n"
     ]
    }
   ],
   "source": [
    "outer(1,a=4)"
   ]
  },
  {
   "cell_type": "code",
   "execution_count": 92,
   "metadata": {
    "collapsed": false
   },
   "outputs": [
    {
     "data": {
      "text/plain": [
       "array([False, False], dtype=bool)"
      ]
     },
     "execution_count": 92,
     "metadata": {},
     "output_type": "execute_result"
    }
   ],
   "source": [
    "np.zeros(2,dtype=bool)"
   ]
  },
  {
   "cell_type": "code",
   "execution_count": 93,
   "metadata": {
    "collapsed": false
   },
   "outputs": [
    {
     "data": {
      "text/plain": [
       "0"
      ]
     },
     "execution_count": 93,
     "metadata": {},
     "output_type": "execute_result"
    }
   ],
   "source": [
    "10%1"
   ]
  },
  {
   "cell_type": "code",
   "execution_count": null,
   "metadata": {
    "collapsed": true
   },
   "outputs": [],
   "source": []
  }
 ],
 "metadata": {
  "kernelspec": {
   "display_name": "Python 3",
   "language": "python",
   "name": "python3"
  },
  "language_info": {
   "codemirror_mode": {
    "name": "ipython",
    "version": 3
   },
   "file_extension": ".py",
   "mimetype": "text/x-python",
   "name": "python",
   "nbconvert_exporter": "python",
   "pygments_lexer": "ipython3",
   "version": "3.4.1"
  }
 },
 "nbformat": 4,
 "nbformat_minor": 0
}
