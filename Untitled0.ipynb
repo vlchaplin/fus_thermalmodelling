{
 "metadata": {
  "name": "",
  "signature": "sha256:c77b9866f0a5deabb5fcf0fbe0312d153f9915d75a0c844f67de26957f48ed65"
 },
 "nbformat": 3,
 "nbformat_minor": 0,
 "worksheets": [
  {
   "cells": [
    {
     "cell_type": "code",
     "collapsed": false,
     "input": [
      "import os\n",
      "\n"
     ],
     "language": "python",
     "metadata": {},
     "outputs": [],
     "prompt_number": 1
    },
    {
     "cell_type": "code",
     "collapsed": false,
     "input": [
      "pwd"
     ],
     "language": "python",
     "metadata": {},
     "outputs": [
      {
       "metadata": {},
       "output_type": "pyout",
       "prompt_number": 2,
       "text": [
        "'C:\\\\Users\\\\vchaplin\\\\Documents\\\\IPython Notebooks'"
       ]
      }
     ],
     "prompt_number": 2
    },
    {
     "cell_type": "code",
     "collapsed": false,
     "input": [
      "os.chdir ('C:\\\\Users\\\\vchaplin\\\\Documents\\\\HiFU\\\\code\\\\TestSwigPython\\\\TestSwigPython') \n",
      "%pwd"
     ],
     "language": "python",
     "metadata": {},
     "outputs": [
      {
       "metadata": {},
       "output_type": "pyout",
       "prompt_number": 2,
       "text": [
        "'C:\\\\Users\\\\vchaplin\\\\Documents\\\\HiFU\\\\code\\\\TestSwigPython\\\\TestSwigPython'"
       ]
      }
     ],
     "prompt_number": 2
    },
    {
     "cell_type": "code",
     "collapsed": false,
     "input": [
      "run runme.py"
     ],
     "language": "python",
     "metadata": {},
     "outputs": [
      {
       "output_type": "stream",
       "stream": "stdout",
       "text": [
        "    Created circle <TestSwigPython.Circle; proxy of <Swig Object of type 'Circle *' at 0x000000000546B3F0> >\n",
        "    Created square <TestSwigPython.Square; proxy of <Swig Object of type 'Square *' at 0x000000000546B420> >\n",
        "\n",
        "A total of 2 shapes were created\n",
        "\n",
        "Here is their current position:\n",
        "    Circle = (20.000000, 30.000000)\n",
        "    Square = (-10.000000, 5.000000)\n",
        "\n",
        "Here are some properties of the shapes:\n",
        "    <TestSwigPython.Circle; proxy of <Swig Object of type 'Circle *' at 0x000000000546B3F0> >\n",
        "        area      =  314.1592653589793\n",
        "        perimeter =  62.83185307179586\n",
        "    <TestSwigPython.Square; proxy of <Swig Object of type 'Square *' at 0x000000000546B420> >\n",
        "        area      =  100.0\n",
        "        perimeter =  40.0\n",
        "\n",
        "Guess I'll clean up now\n",
        "0 shapes remain\n",
        "Goodbye\n"
       ]
      }
     ],
     "prompt_number": 3
    },
    {
     "cell_type": "code",
     "collapsed": false,
     "input": [],
     "language": "python",
     "metadata": {},
     "outputs": []
    }
   ],
   "metadata": {}
  }
 ]
}