{
 "metadata": {
  "name": "",
  "signature": "sha256:ad1f14d37d5025233236b2b3a3a84c7bff230a99bef6c103c735067c3dc9dadd"
 },
 "nbformat": 3,
 "nbformat_minor": 0,
 "worksheets": [
  {
   "cells": [
    {
     "cell_type": "code",
     "collapsed": false,
     "input": [
      "import numpy as np\n",
      "import matplotlib.pyplot as plt\n",
      "from mpl_toolkits.mplot3d import Axes3D\n",
      "from math import *;\n",
      "\n",
      "import re;\n",
      "import csv;\n",
      "import glob;\n",
      "import sys\n",
      "\n",
      "sys.path.append('C:\\\\Users\\\\vchaplin\\\\Documents\\\\HiFU\\\\code\\\\myPy')  \n",
      "import geom\n",
      "\n",
      "%matplotlib inline"
     ],
     "language": "python",
     "metadata": {},
     "outputs": [],
     "prompt_number": 1
    },
    {
     "cell_type": "code",
     "collapsed": false,
     "input": [
      "def readNDI_csv(filename):\n",
      "    csvfile=open(filename)\n",
      "    reader=csv.reader(csvfile)\n",
      "    text=list(reader)\n",
      "    csvfile.close()\n",
      "    \n",
      "    if re.search( 'Tools', text[0][0]):\n",
      "        text.pop(0)\n",
      "    \n",
      "    err = np.array( list(map( lambda x: x[12], text )), dtype='float')\n",
      "    txyz = np.array( list(map( lambda x: x[9:12], text )), dtype='float')\n",
      "    q0xyz = np.array( list(map( lambda x: x[5:9], text )), dtype='float')\n",
      "    \n",
      "    return (q0xyz, txyz, err)"
     ],
     "language": "python",
     "metadata": {},
     "outputs": [],
     "prompt_number": 2
    },
    {
     "cell_type": "code",
     "collapsed": false,
     "input": [
      "filepath='C:\\\\Users\\\\Vandiver\\\\Documents\\\\HiFU\\\\optical_tracking\\\\H115_pulse_echo';\n",
      "\n",
      "filename='ProbeTip_relative_3_000.csv'\n",
      "\n",
      "(q0xyz, txyz, err)=readNDI_csv(filepath+'\\\\'+filename)\n",
      "\n"
     ],
     "language": "python",
     "metadata": {},
     "outputs": [],
     "prompt_number": 3
    },
    {
     "cell_type": "code",
     "collapsed": false,
     "input": [
      "match = re.search( '.*\\w+_\\w+_(\\d+)_', filename)"
     ],
     "language": "python",
     "metadata": {},
     "outputs": [],
     "prompt_number": 93
    },
    {
     "cell_type": "code",
     "collapsed": false,
     "input": [
      "files = glob.glob(filepath+'\\\\ProbeTip_relative*.csv');\n",
      "for f in files:\n",
      "    (q0xyz, txyz, err)=readNDI_csv(f)\n",
      "    geom.write_VTK_points(f[:-3] + 'vtk', txyz)"
     ],
     "language": "python",
     "metadata": {},
     "outputs": [],
     "prompt_number": 12
    },
    {
     "cell_type": "code",
     "collapsed": false,
     "input": [
      "np.mean(txyz,axis=0)"
     ],
     "language": "python",
     "metadata": {},
     "outputs": [
      {
       "metadata": {},
       "output_type": "pyout",
       "prompt_number": 14,
       "text": [
        "array([  66.09725,   13.09585,  210.3101 ])"
       ]
      }
     ],
     "prompt_number": 14
    },
    {
     "cell_type": "code",
     "collapsed": false,
     "input": [
      "fig = plt.figure(figsize=(16,8), dpi=200)\n",
      "#ax = fig.gca(projection='3d')\n",
      "axXY = fig.add_subplot(131)\n",
      "axXZ = fig.add_subplot(132)\n",
      "axYZ = fig.add_subplot(133)\n",
      "#p=ax.plot3D(probePositions[:,0], probePositions[:,1], probePositions[:,2], 'x')\n",
      "files = glob.glob(filepath+'\\\\ProbeTip_relative*.csv');\n",
      "\n",
      "allAvg = np.zeros(3);\n",
      "\n",
      "#files = glob.glob(filepath+'\\\\ProbeTip_global*.csv');\n",
      "txyz_list=[]\n",
      "fi=0;\n",
      "for f in files:\n",
      "    (q0xyz, txyz, err)=readNDI_csv(f)\n",
      "    txyz_list.append(txyz)\n",
      "    \n",
      "    allAvg += np.mean(txyz,axis=0)\n",
      "    #plt.plot(txyz[:,0], txyz[:,1],'.')\n",
      "    #p=ax.plot3D(txyz[:,0], txyz[:,1], txyz[:,2], 'x')\n",
      "    \n",
      "    match = re.search( '.*\\w+_\\w+_(\\d+)_', f)\n",
      "    num=match.group(1)\n",
      "    axXY.plot(txyz[:,0], txyz[:,1], 'x')\n",
      "    axXZ.plot(txyz[:,0], txyz[:,2], 'x')\n",
      "    axYZ.plot(txyz[:,1], txyz[:,2], 'x')\n",
      "    axXY.text(txyz[0,0]+0.1, txyz[0,1]+0.1, num, fontsize=16)\n",
      "    fi+=1\n",
      "\n",
      "allAvg/=fi\n",
      "\n",
      "axXY.plot(allAvg[0], allAvg[1], 'ko')\n",
      "axXZ.plot(allAvg[0], allAvg[2], 'ko')\n",
      "axYZ.plot(allAvg[1], allAvg[2], 'ko')\n",
      "\n",
      "axXY.set_xlabel('x (mm)')\n",
      "axXY.set_ylabel('y (mm)')\n",
      "axXZ.set_xlabel('x (mm)')\n",
      "axXZ.set_ylabel('z (mm)')\n",
      "axYZ.set_xlabel('y (mm)')\n",
      "axYZ.set_ylabel('z (mm)')"
     ],
     "language": "python",
     "metadata": {},
     "outputs": [
      {
       "metadata": {},
       "output_type": "pyout",
       "prompt_number": 20,
       "text": [
        "<matplotlib.text.Text at 0x7de60b8>"
       ]
      },
      {
       "metadata": {},
       "output_type": "display_data",
       "png": "[encoded data removed]",
       "text": [
        "<matplotlib.figure.Figure at 0x7d21978>"
       ]
      }
     ],
     "prompt_number": 20
    },
    {
     "cell_type": "code",
     "collapsed": false,
     "input": [
      "sum(list( map( lambda l: np.sum((l - allAvg)**2,axis=1), txyz_list )))/4"
     ],
     "language": "python",
     "metadata": {},
     "outputs": [
      {
       "metadata": {},
       "output_type": "pyout",
       "prompt_number": 30,
       "text": [
        "array([ 6.64145793,  6.58928599,  6.4379057 ,  6.54881781,  6.59694855,\n",
        "        6.38667983,  6.77169145,  6.48218739,  6.62557929,  6.66847858,\n",
        "        6.4303433 ,  6.59826652,  6.6243044 ,  6.41859294,  6.53882415,\n",
        "        6.37116115,  6.61418738,  6.59896215,  6.75100032,  6.61273022])"
       ]
      }
     ],
     "prompt_number": 30
    },
    {
     "cell_type": "code",
     "collapsed": false,
     "input": [
      "stdDev = np.sqrt(sum(list( map( lambda l: np.sum((np.mean(l,axis=0) - allAvg)**2) / len(txyz_list), txyz_list ))))\n",
      "stdDev"
     ],
     "language": "python",
     "metadata": {},
     "outputs": [
      {
       "metadata": {},
       "output_type": "pyout",
       "prompt_number": 38,
       "text": [
        "2.5598085584851344"
       ]
      }
     ],
     "prompt_number": 38
    },
    {
     "cell_type": "code",
     "collapsed": false,
     "input": [
      "allAvg"
     ],
     "language": "python",
     "metadata": {},
     "outputs": [
      {
       "metadata": {},
       "output_type": "pyout",
       "prompt_number": 39,
       "text": [
        "array([  64.347875 ,   14.1459375,  211.4017   ])"
       ]
      }
     ],
     "prompt_number": 39
    },
    {
     "cell_type": "code",
     "collapsed": false,
     "input": [
      "hc,xedges = np.histogram(np.sqrt(np.sum(txyz**2,axis=1)), bins=10)\n",
      "hc=hc/sum(hc)\n",
      "xcent=(xedges[0:-1]+xedges[1:])/2.0;\n",
      "plt.plot(xcent,hc,'o-')"
     ],
     "language": "python",
     "metadata": {},
     "outputs": [
      {
       "metadata": {},
       "output_type": "pyout",
       "prompt_number": 79,
       "text": [
        "[<matplotlib.lines.Line2D at 0x7f30978>]"
       ]
      },
      {
       "metadata": {},
       "output_type": "display_data",
       "png": "[encoded data removed]",
       "text": [
        "<matplotlib.figure.Figure at 0x918def0>"
       ]
      }
     ],
     "prompt_number": 79
    },
    {
     "cell_type": "code",
     "collapsed": false,
     "input": [
      "filepath='C:\\\\Users\\\\Vandiver\\\\Documents\\\\HiFU\\\\optical_tracking\\\\20150421-Exp2\\\\Probe';\n",
      "filepath='C:\\\\Users\\\\Vandiver\\\\Documents\\\\HiFU\\\\optical_tracking\\\\Hydro-Track\\\\Probe';\n",
      "\n",
      "files = glob.glob(filepath+'\\\\*.csv');\n",
      "\n",
      "def getAverageXYZset(filelist):\n",
      "    \n",
      "    probePositions = np.zeros([len(filelist), 3])\n",
      "    probePosErr = np.zeros([len(filelist),3])\n",
      "    fi=0;\n",
      "    for filename in files:\n",
      "        csvfile=open(filename)\n",
      "        reader=csv.reader(csvfile)\n",
      "        text=list(reader)\n",
      "        csvfile.close()\n",
      "    \n",
      "        positions = np.array( list(map( lambda x: x[9:12], text )), dtype='float');\n",
      "        orientations = np.array( list(map( lambda x: x[5:9], text )), dtype='float');\n",
      "\n",
      "        avgXYZ = np.mean(positions, axis=0);\n",
      "        avgErr = np.std(positions, axis=0);\n",
      "        \n",
      "    \n",
      "        probePositions[fi,:] = avgXYZ; \n",
      "        probePosErr[fi,:] = avgErr\n",
      "    \n",
      "        fi+=1;\n",
      "        \n",
      "    return probePositions,probePosErr\n",
      "\n",
      "def getDeviationSet(filelist):\n",
      "    probeDeviations =np.array([])\n",
      "    \n",
      "    fi=0;\n",
      "    for filename in files:\n",
      "        csvfile=open(filename)\n",
      "        reader=csv.reader(csvfile)\n",
      "        text=list(reader)\n",
      "        csvfile.close()\n",
      "    \n",
      "        positions = np.array( list(map( lambda x: x[9:12], text )), dtype='float');\n",
      "        orientations = np.array( list(map( lambda x: x[5:9], text )), dtype='float');\n",
      "\n",
      "        avgXYZ = np.mean(positions, axis=0);\n",
      "        avgErr = np.std(positions, axis=0);\n",
      "        \n",
      "        probeDeviations = np.append( probeDeviations, np.sqrt( np.sum( (positions - avgXYZ)**2, axis=1) ) );\n",
      "\n",
      "        fi+=1;\n",
      "        \n",
      "    return probeDeviations\n",
      "\n",
      "probePositions,probePosErr = getAverageXYZset(files)\n",
      "\n",
      "filepath='C:\\\\Users\\\\Vandiver\\\\Documents\\\\HiFU\\\\optical_tracking\\\\Hydro-Track\\\\Hydro';\n",
      "hfiles = glob.glob(filepath+'\\\\*.csv');\n",
      "\n",
      "hydroPositions,hydroPosErr = getAverageXYZset(hfiles)\n"
     ],
     "language": "python",
     "metadata": {},
     "outputs": []
    }
   ],
   "metadata": {}
  }
 ]
}