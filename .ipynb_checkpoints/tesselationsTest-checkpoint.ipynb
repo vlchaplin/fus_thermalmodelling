{
 "metadata": {
  "name": "",
  "signature": "sha256:ed61dda8f8808eb4398265e47e4d9a29a278fa2e3be87a786b2d329c7ba124b5"
 },
 "nbformat": 3,
 "nbformat_minor": 0,
 "worksheets": [
  {
   "cells": [
    {
     "cell_type": "code",
     "collapsed": false,
     "input": [
      "import numpy as np;\n",
      "from math import *;\n",
      "from mpl_toolkits.mplot3d import Axes3D\n",
      "import matplotlib.pyplot as plt\n",
      "from matplotlib import collections\n",
      "from matplotlib.colors import colorConverter\n",
      "import sys;\n",
      "import os;\n",
      "\n",
      "sys.path.append('C:\\\\Users\\\\vchaplin\\\\Documents\\\\HiFU\\code\\\\BioHeatCpp\\\\PBHEswig\\\\x64')\n",
      "sys.path.append('C:\\\\Users\\\\vchaplin\\\\Documents\\\\HiFU\\code\\\\myPy')                \n"
     ],
     "language": "python",
     "metadata": {},
     "outputs": [],
     "prompt_number": 62
    },
    {
     "cell_type": "code",
     "collapsed": false,
     "input": [
      "os.chdir('C:\\\\Users\\\\vchaplin\\\\Documents\\\\HiFU\\code\\\\BioHeatCpp\\\\PBHEswig\\\\x64');"
     ],
     "language": "python",
     "metadata": {},
     "outputs": [],
     "prompt_number": 63
    },
    {
     "cell_type": "code",
     "collapsed": false,
     "input": [
      "import PBHEswig\n",
      "import scaledimage;"
     ],
     "language": "python",
     "metadata": {},
     "outputs": [],
     "prompt_number": 64
    },
    {
     "cell_type": "code",
     "collapsed": false,
     "input": [
      "Nt=20;\n",
      "Nx=100;\n",
      "Ny=100;\n",
      "Nz=100;\n",
      "\n",
      "dt = 0.1; dx = 1e-03; dy=dx; dz=dx;\n",
      "\n",
      "res = np.array([dt,dx,dy,dz]);\n",
      "spres = np.array([dx,dy,dz]);\n",
      "\n",
      "T = np.zeros([Nt,Nx,Ny,Nz]);\n",
      "Tdot = np.zeros([Nx,Ny,Nz])\n",
      "k = np.zeros([Nx,Ny,Nz])\n",
      "rhoCp = np.zeros([Nx,Ny,Nz])\n",
      "\n",
      "Tmesh = PBHEswig.mesh4d()\n",
      "Tdotmesh = PBHEswig.mesh34d();\n",
      "kmesh = PBHEswig.mesh3d();\n",
      "rhoCpmesh = PBHEswig.mesh3d();\n",
      "\n",
      "\n",
      "PBHEswig.ShareMemoryMesh4(T, res, Tmesh)\n",
      "PBHEswig.ShareMemoryMesh34(Tdot, res, Tdotmesh)\n",
      "PBHEswig.ShareMemoryMesh3(k, res[1:4], kmesh)\n",
      "PBHEswig.ShareMemoryMesh3(rhoCp, res[1:4], rhoCpmesh)"
     ],
     "language": "python",
     "metadata": {},
     "outputs": [],
     "prompt_number": 65
    },
    {
     "cell_type": "code",
     "collapsed": false,
     "input": [
      "T[:]=37.0\n",
      "Tdot[:] = 0;\n",
      "sx=10;\n",
      "#for zi in range(0,Nz):\n",
      "#    Tdot[:,50,zi] = 0.1*np.exp( -(np.array(range(0,Nx)) - Nx/2)**2/(2*(sx)**2) ) \n",
      "#    Tdot[:,51,zi] = 0.1*np.exp( -(np.array(range(0,Nx)) - Nx/2)**2/(2*(sx)**2) ) \n",
      "#    Tdot[:,52,zi] = 0.1*np.exp( -(np.array(range(0,Nx)) - Nx/2)**2/(2*(sx)**2) ) \n",
      "\n",
      "for xi in range(0,Nx):\n",
      "    for yi in range(0,Ny):\n",
      "        for zi in range(0,Nz):\n",
      "            T[0,xi,yi,zi] = 37+1.0*np.exp( -(xi+0.5 - Nx/2)**2/(2*(sx)**2) )*np.exp( -(yi+0.5 - Ny/2)**2/(2*(sx)**2) )*np.exp( -(zi+0.5 - Nz/2)**2/(2*(sx)**2) ) \n",
      "            \n",
      "\n",
      "for xi in range(0,Nx):\n",
      "    for yi in range(0,Ny):\n",
      "        for zi in range(0,Nz):\n",
      "            Tdot[xi,yi,zi] = 1.0*np.exp( -(xi+0.5 - Nx/2)**2/(2*(sx)**2) )*np.exp( -(yi+0.5 - Ny/2)**2/(2*(sx)**2) )*np.exp( -(zi+0.5 - Nz/2)**2/(2*(sx)**2) ) \n",
      "            \n",
      "            \n",
      "#for xi in range(0,Nx):\n",
      "#    for yi in range(0,Ny):\n",
      "#        for zi in range(0,Nz):\n",
      "#            Tdot[xi,yi,zi] = sum( np.array([Ny*Nz, Nz, 1])*[xi,yi,zi] )/100.0\n",
      "\n",
      "k[:]=(0.5)\n",
      "rhoCp[:] = (3700*1000)\n",
      "\n",
      "#Tdot[:] = 0\n",
      "#Tdot[floor(Nx/2)+1, floor(Ny/2)+1, floor(Nz/2)+1] = 1.0\n",
      "perfRate = 0.01;"
     ],
     "language": "python",
     "metadata": {},
     "outputs": [],
     "prompt_number": 66
    },
    {
     "cell_type": "code",
     "collapsed": false,
     "input": [
      "PBHEswig.pbheSolve(0,dt,dx,dy,dz, Tmesh, Tdotmesh, kmesh, rhoCpmesh, 37.0, perfRate,0,Nt-1 )"
     ],
     "language": "python",
     "metadata": {},
     "outputs": [],
     "prompt_number": 96
    },
    {
     "cell_type": "code",
     "collapsed": false,
     "input": [
      "t=0;\n",
      "laplacianT = np.zeros([Nx,Ny,Nz])\n",
      "for xi in range(1,Nx-1):\n",
      "    for yi in range(1,Ny-1):\n",
      "        for zi in range(1,Nz-1):\n",
      "            ddx = (T[t,xi+1,yi,zi] + T[t,xi-1,yi,zi] - 2*T[t,xi,yi,zi])/dx**2\n",
      "            ddy = (T[t,xi,yi+1,zi] + T[t,xi,yi-1,zi] - 2*T[t,xi,yi,zi])/dy**2\n",
      "            ddz = (T[t,xi,yi,zi+1] + T[t,xi,yi,zi-1] - 2*T[t,xi,yi,zi])/dz**2\n",
      "            laplacianT[xi,yi,zi] = ddx+ddy+ddz;\n",
      "            \n",
      "laplacianT"
     ],
     "language": "python",
     "metadata": {},
     "outputs": [],
     "prompt_number": 6
    },
    {
     "cell_type": "code",
     "collapsed": false,
     "input": [
      "0.5*dt/(dx)"
     ],
     "language": "python",
     "metadata": {},
     "outputs": [
      {
       "metadata": {},
       "output_type": "pyout",
       "prompt_number": 32,
       "text": [
        "500.0"
       ]
      }
     ],
     "prompt_number": 32
    },
    {
     "cell_type": "code",
     "collapsed": false,
     "input": [
      "Nx*Ny*Nz"
     ],
     "language": "python",
     "metadata": {},
     "outputs": [
      {
       "metadata": {},
       "output_type": "pyout",
       "prompt_number": 5,
       "text": [
        "125"
       ]
      }
     ],
     "prompt_number": 5
    },
    {
     "cell_type": "code",
     "collapsed": false,
     "input": [
      ".02/128"
     ],
     "language": "python",
     "metadata": {},
     "outputs": [
      {
       "metadata": {},
       "output_type": "pyout",
       "prompt_number": 26,
       "text": [
        "0.00015625"
       ]
      }
     ],
     "prompt_number": 26
    },
    {
     "cell_type": "code",
     "collapsed": false,
     "input": [
      "Tdot[2,2,3]"
     ],
     "language": "python",
     "metadata": {},
     "outputs": [
      {
       "metadata": {},
       "output_type": "pyout",
       "prompt_number": 68,
       "text": [
        "3.2060075043677614e-15"
       ]
      }
     ],
     "prompt_number": 68
    },
    {
     "cell_type": "code",
     "collapsed": false,
     "input": [
      "del T;\n",
      "del Tdot;\n",
      "del k;\n",
      "del rhoCp;\n",
      "del [Tmesh,Tdotmesh,kmesh,rhoCpmesh]"
     ],
     "language": "python",
     "metadata": {},
     "outputs": [],
     "prompt_number": 64
    },
    {
     "cell_type": "code",
     "collapsed": false,
     "input": [
      "%matplotlib inline\n"
     ],
     "language": "python",
     "metadata": {},
     "outputs": [],
     "prompt_number": 7
    },
    {
     "cell_type": "code",
     "collapsed": false,
     "input": [
      "scaledimage.scaledimage(T[0,:,:,floor(Nz/2)])"
     ],
     "language": "python",
     "metadata": {},
     "outputs": [
      {
       "metadata": {},
       "output_type": "pyout",
       "prompt_number": 69,
       "text": [
        "<matplotlib.axes._subplots.AxesSubplot at 0x60029e8>"
       ]
      },
      {
       "metadata": {},
       "output_type": "display_data",
       "png": "[encoded data removed]",
       "text": [
        "<matplotlib.figure.Figure at 0x908b208>"
       ]
      }
     ],
     "prompt_number": 69
    },
    {
     "cell_type": "code",
     "collapsed": false,
     "input": [
      "scaledimage.scaledimage(T[Nt-1,:,:,floor(Nz/2)])"
     ],
     "language": "python",
     "metadata": {},
     "outputs": [
      {
       "metadata": {},
       "output_type": "pyout",
       "prompt_number": 70,
       "text": [
        "<matplotlib.axes._subplots.AxesSubplot at 0x90e2f98>"
       ]
      },
      {
       "metadata": {},
       "output_type": "display_data",
       "png": "[encoded data removed]",
       "text": [
        "<matplotlib.figure.Figure at 0x876e240>"
       ]
      }
     ],
     "prompt_number": 70
    },
    {
     "cell_type": "code",
     "collapsed": false,
     "input": [
      "T[0,:] = T[Nt-1,:]"
     ],
     "language": "python",
     "metadata": {},
     "outputs": [],
     "prompt_number": 22
    },
    {
     "cell_type": "code",
     "collapsed": false,
     "input": [
      "fig = plt.figure(figsize=(7,4), dpi=72)\n",
      "ax = fig.gca()\n",
      "\n",
      "#plt.plot(T[0,:,3,3])\n",
      "plt.plot(T[0:Nt,floor(Nx/2),floor(Ny/2),floor(Nz/2)])"
     ],
     "language": "python",
     "metadata": {},
     "outputs": [
      {
       "metadata": {},
       "output_type": "pyout",
       "prompt_number": 71,
       "text": [
        "[<matplotlib.lines.Line2D at 0x883ad30>]"
       ]
      },
      {
       "metadata": {},
       "output_type": "display_data",
       "png": "[encoded data removed]",
       "text": [
        "<matplotlib.figure.Figure at 0x87be0f0>"
       ]
      }
     ],
     "prompt_number": 71
    },
    {
     "cell_type": "code",
     "collapsed": false,
     "input": [
      " T[19,50:53,50:52,50:53]"
     ],
     "language": "python",
     "metadata": {},
     "outputs": [
      {
       "metadata": {},
       "output_type": "pyout",
       "prompt_number": 57,
       "text": [
        "array([[[  1.        ,   1.        ,   1.        ],\n",
        "        [  1.        ,   1.        ,   1.        ]],\n",
        "\n",
        "       [[ 41.49903515,  41.45499423,  41.36820167],\n",
        "        [ 41.45499423,  41.41138446,  41.32544157]],\n",
        "\n",
        "       [[ 41.41138452,  41.36820167,  41.28310014],\n",
        "        [ 41.36820167,  41.32544157,  41.24117315]]])"
       ]
      }
     ],
     "prompt_number": 57
    },
    {
     "cell_type": "code",
     "collapsed": false,
     "input": [
      "Rb=4.0*np.ones([Nt,Nx,Ny,Nz])\n"
     ],
     "language": "python",
     "metadata": {},
     "outputs": [],
     "prompt_number": 72
    },
    {
     "cell_type": "code",
     "collapsed": false,
     "input": [
      "test"
     ],
     "language": "python",
     "metadata": {},
     "outputs": [
      {
       "metadata": {},
       "output_type": "pyout",
       "prompt_number": 61,
       "text": [
        "array([[[  1.        ,   1.        ,   1.        ],\n",
        "        [  1.        ,   1.        ,   1.        ]],\n",
        "\n",
        "       [[ 41.5       ,  41.5       ,  41.36820167],\n",
        "        [ 41.5       ,  41.5       ,  41.32544157]],\n",
        "\n",
        "       [[ 41.5       ,  41.36820167,  41.28310014],\n",
        "        [ 41.36820167,  41.32544157,  41.24117315]]])"
       ]
      }
     ],
     "prompt_number": 61
    },
    {
     "cell_type": "code",
     "collapsed": false,
     "input": [
      "Rb[:,2,:]=1"
     ],
     "language": "python",
     "metadata": {},
     "outputs": [],
     "prompt_number": 92
    },
    {
     "cell_type": "code",
     "collapsed": false,
     "input": [
      "Rb[np.where(T > 39.0, True, False)] = 2"
     ],
     "language": "python",
     "metadata": {},
     "outputs": [],
     "prompt_number": 79
    },
    {
     "cell_type": "code",
     "collapsed": false,
     "input": [
      "Rb[:,1:3,50,50]**Rb[:,1:3,50,50]"
     ],
     "language": "python",
     "metadata": {},
     "outputs": [
      {
       "metadata": {},
       "output_type": "pyout",
       "prompt_number": 93,
       "text": [
        "array([[ 256.,    1.],\n",
        "       [ 256.,    1.],\n",
        "       [ 256.,    1.],\n",
        "       [ 256.,    1.],\n",
        "       [ 256.,    1.],\n",
        "       [ 256.,    1.],\n",
        "       [ 256.,    1.],\n",
        "       [ 256.,    1.],\n",
        "       [ 256.,    1.],\n",
        "       [ 256.,    1.],\n",
        "       [ 256.,    1.],\n",
        "       [ 256.,    1.],\n",
        "       [ 256.,    1.],\n",
        "       [ 256.,    1.],\n",
        "       [ 256.,    1.],\n",
        "       [ 256.,    1.],\n",
        "       [ 256.,    1.],\n",
        "       [ 256.,    1.],\n",
        "       [ 256.,    1.],\n",
        "       [ 256.,    1.]])"
       ]
      }
     ],
     "prompt_number": 93
    },
    {
     "cell_type": "code",
     "collapsed": false,
     "input": [
      "np.cumsum( Rb[:,1:3,50,50]**Rb[:,1:3,50,50],0 )"
     ],
     "language": "python",
     "metadata": {},
     "outputs": [
      {
       "metadata": {},
       "output_type": "pyout",
       "prompt_number": 94,
       "text": [
        "array([[  2.56000000e+02,   1.00000000e+00],\n",
        "       [  5.12000000e+02,   2.00000000e+00],\n",
        "       [  7.68000000e+02,   3.00000000e+00],\n",
        "       [  1.02400000e+03,   4.00000000e+00],\n",
        "       [  1.28000000e+03,   5.00000000e+00],\n",
        "       [  1.53600000e+03,   6.00000000e+00],\n",
        "       [  1.79200000e+03,   7.00000000e+00],\n",
        "       [  2.04800000e+03,   8.00000000e+00],\n",
        "       [  2.30400000e+03,   9.00000000e+00],\n",
        "       [  2.56000000e+03,   1.00000000e+01],\n",
        "       [  2.81600000e+03,   1.10000000e+01],\n",
        "       [  3.07200000e+03,   1.20000000e+01],\n",
        "       [  3.32800000e+03,   1.30000000e+01],\n",
        "       [  3.58400000e+03,   1.40000000e+01],\n",
        "       [  3.84000000e+03,   1.50000000e+01],\n",
        "       [  4.09600000e+03,   1.60000000e+01],\n",
        "       [  4.35200000e+03,   1.70000000e+01],\n",
        "       [  4.60800000e+03,   1.80000000e+01],\n",
        "       [  4.86400000e+03,   1.90000000e+01],\n",
        "       [  5.12000000e+03,   2.00000000e+01]])"
       ]
      }
     ],
     "prompt_number": 94
    },
    {
     "cell_type": "code",
     "collapsed": false,
     "input": [
      "\n",
      "xangle = 0*(np.pi/180.0);\n",
      "yangle = np.pi/2.0 - np.pi/3.0 - xangle;\n",
      "d = 15;\n",
      "\n",
      "z = 0;\n",
      "l1 = np.array( [d*cos(xangle),  d*sin(xangle), z] )\n",
      "l2 = np.array( [d*sin(yangle),  d*cos(yangle), z] )\n",
      "\n",
      "w = d*cos(xangle);\n",
      "h = d*cos(yangle);\n",
      "h1= d*sin(xangle);\n",
      "\n",
      "Nx = round(100/w);\n",
      "Ny = round(100/h);\n",
      "\n",
      "\n",
      "#latticeCoords = np.zeros([3*Nx,3*Ny,3]);\n",
      "\n",
      "npolys = Nx*Ny;\n",
      "nv = 3*npolys;\n",
      "verts = np.zeros([npolys,3,3]);\n",
      "vvXY=[];\n",
      "vvZ=[];\n",
      "\n",
      "vvXYact = [];\n",
      "\n",
      "v0 = [0,0,0];\n",
      "for i in range(0,Nx):\n",
      "    \n",
      "    v0c = v0;\n",
      "    for j in range(0,Ny):\n",
      "        p = i*Ny + j;\n",
      "        v = 3*p;\n",
      "        \n",
      "        v1 = v0c + (1-(j%2))*l1 + (j%2)*l2;  \n",
      "        v2 = v0c + l2 - (j%2)*l1;\n",
      "\n",
      "        vvXY.append(list(zip( [v0c[0],v1[0],v2[0]], [v0c[1],v1[1],v2[1]])));\n",
      "        vvZ.append([v0c[1],v1[1],v2[1]]);\n",
      "        \n",
      "        if ((i+j+1)%2) :\n",
      "            vvXYact.append( vvXY[-1] );\n",
      "        \n",
      "        verts[p] = [v0c,v1,v2];\n",
      "        v0c = v2 ;\n",
      "        \n",
      "    #v0 = v0 + l1*[1, (1 - 2*(i%2)) , 0];\n",
      "    #v0 = v0 + l1 - ((i)%2)*(l2)\n",
      "    v0 = v0 + l1 ;\n",
      "    if (v0[1] - l1[1]) > 0:\n",
      "        v0 += (l1-l2);\n",
      "        \n",
      "        \n",
      "#collections.PolyCollections( )"
     ],
     "language": "python",
     "metadata": {},
     "outputs": [],
     "prompt_number": 14
    },
    {
     "cell_type": "code",
     "collapsed": false,
     "input": [
      "d=10;\n",
      "h=d*sin(pi/3);\n",
      "\n",
      "z=0;\n",
      "l1 = np.array( [d, 0] )\n",
      "l2 = np.array( [d/2,  d*sqrt(3)/2] )\n",
      "\n",
      "Nx = round( 100/(1.5*d) )\n",
      "Ny = round( 100/(2*h) )\n",
      "\n",
      "vvXY=[];\n",
      "vvXYact=[];\n",
      "\n",
      "v0 = [0,0];\n",
      "for i in range(0,Nx):\n",
      "    \n",
      "    #x0i = (i + 0.5*(i%2))*d\n",
      "    \n",
      "    x0i = i*(3/2)*d\n",
      "    x1i = x0i + d;\n",
      "    x2i = x0i + d/2;\n",
      "    y0 = (i%2)*h\n",
      "    for j in range(0,Ny):\n",
      "        y1 = y0;\n",
      "        y2 = y0+h;\n",
      "        vvXYact.append(list(zip( [x0i,x1i,x2i], [y0,y1,y2] ) ) )\n",
      "        y0 += 2*h;\n"
     ],
     "language": "python",
     "metadata": {},
     "outputs": [],
     "prompt_number": 15
    },
    {
     "cell_type": "code",
     "collapsed": false,
     "input": [
      "fig = plt.figure(figsize=(12,12), dpi=72)\n",
      "ax = fig.gca(projection='3d')\n",
      "\n",
      "activeCol = collections.PolyCollection( vvXYact, closed='false', facecolors='w', edgecolor='r' );\n",
      "activeCol.set_linewidths(1.0)\n",
      "activeCol.set_facecolors([0, 0.8, 1])\n",
      "activeCol.set_edgecolors([0,0,0]);\n",
      "\n",
      "#col = collections.PolyCollection( vvXY, closed='false', facecolors='w', edgecolor='r' );\n",
      "#col.set_linewidths(1.0)\n",
      "\n",
      "#col.set_facecolors([1, 1, 1])\n",
      "#col.set_edgecolors([0,0,0]);\n",
      "\n",
      "ax.set_xlim3d(0,100);\n",
      "ax.set_xlabel('x')\n",
      "ax.set_ylim3d(0,100);\n",
      "#ax.add_collection3d(col)\n",
      "ax.add_collection3d(activeCol)\n",
      "ax.view_init(90,-90)"
     ],
     "language": "python",
     "metadata": {},
     "outputs": [
      {
       "metadata": {},
       "output_type": "display_data",
       "png": "[encoded data removed]",
       "text": [
        "<matplotlib.figure.Figure at 0x5c33ef0>"
       ]
      }
     ],
     "prompt_number": 16
    },
    {
     "cell_type": "code",
     "collapsed": false,
     "input": [
      "scaledimage.scaledimage(Tdot[:,:,50])"
     ],
     "language": "python",
     "metadata": {},
     "outputs": [
      {
       "ename": "IndexError",
       "evalue": "index 50 is out of bounds for axis 2 with size 5",
       "output_type": "pyerr",
       "traceback": [
        "\u001b[1;31m---------------------------------------------------------------------------\u001b[0m\n\u001b[1;31mIndexError\u001b[0m                                Traceback (most recent call last)",
        "\u001b[1;32m<ipython-input-36-044ef2a75af6>\u001b[0m in \u001b[0;36m<module>\u001b[1;34m()\u001b[0m\n\u001b[1;32m----> 1\u001b[1;33m \u001b[0mscaledimage\u001b[0m\u001b[1;33m.\u001b[0m\u001b[0mscaledimage\u001b[0m\u001b[1;33m(\u001b[0m\u001b[0mTdot\u001b[0m\u001b[1;33m[\u001b[0m\u001b[1;33m:\u001b[0m\u001b[1;33m,\u001b[0m\u001b[1;33m:\u001b[0m\u001b[1;33m,\u001b[0m\u001b[1;36m50\u001b[0m\u001b[1;33m]\u001b[0m\u001b[1;33m)\u001b[0m\u001b[1;33m\u001b[0m\u001b[0m\n\u001b[0m",
        "\u001b[1;31mIndexError\u001b[0m: index 50 is out of bounds for axis 2 with size 5"
       ]
      }
     ],
     "prompt_number": 36
    },
    {
     "cell_type": "code",
     "collapsed": false,
     "input": [
      "T[0,:,:,1]"
     ],
     "language": "python",
     "metadata": {},
     "outputs": [
      {
       "metadata": {},
       "output_type": "pyout",
       "prompt_number": 44,
       "text": [
        "array([[ 37.09289039,  37.0947669 ,  37.09571932,  37.09571932,  37.0947669 ],\n",
        "       [ 37.0947669 ,  37.09668132,  37.09765298,  37.09765298,\n",
        "         37.09668132],\n",
        "       [ 37.09571932,  37.09765298,  37.09863441,  37.09863441,\n",
        "         37.09765298],\n",
        "       [ 37.09571932,  37.09765298,  37.09863441,  37.09863441,\n",
        "         37.09765298],\n",
        "       [ 37.0947669 ,  37.09668132,  37.09765298,  37.09765298,\n",
        "         37.09668132]])"
       ]
      }
     ],
     "prompt_number": 44
    },
    {
     "cell_type": "code",
     "collapsed": false,
     "input": [],
     "language": "python",
     "metadata": {},
     "outputs": []
    }
   ],
   "metadata": {}
  }
 ]
}