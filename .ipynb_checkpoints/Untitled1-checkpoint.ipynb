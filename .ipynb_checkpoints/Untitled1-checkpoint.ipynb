{
 "metadata": {
  "name": "",
  "signature": "sha256:968e2aba59785c8cdca80beb520a1be98557c2a211696e1392f71400e1779593"
 },
 "nbformat": 3,
 "nbformat_minor": 0,
 "worksheets": []
}