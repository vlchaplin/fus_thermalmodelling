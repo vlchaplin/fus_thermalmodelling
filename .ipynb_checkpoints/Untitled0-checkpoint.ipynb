{
 "metadata": {
  "name": "",
  "signature": "sha256:00d16be06aacf891b0dc2deaa7cfeaa3a48991a3ebd0899b3f6429a58d374703"
 },
 "nbformat": 3,
 "nbformat_minor": 0,
 "worksheets": []
}