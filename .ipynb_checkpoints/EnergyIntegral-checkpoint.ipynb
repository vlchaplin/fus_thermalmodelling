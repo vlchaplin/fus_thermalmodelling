{
 "metadata": {
  "name": "",
  "signature": "sha256:aba45e8cff8c589b2a1aa114049b692e505a012e7da12944095cf5fac20ef74e"
 },
 "nbformat": 3,
 "nbformat_minor": 0,
 "worksheets": [
  {
   "cells": [
    {
     "cell_type": "code",
     "collapsed": false,
     "input": [
      "import h5py\n",
      "import sys\n",
      "import re\n",
      "import numpy as np\n",
      "import matplotlib.pyplot as plt\n",
      "from mpl_toolkits.mplot3d import Axes3D\n",
      "from matplotlib import collections\n",
      "from matplotlib import image\n",
      " \n",
      "import matplotlib.animation as animation;\n",
      "    \n",
      "from math import *;\n",
      "\n",
      "sys.path.append('C:\\\\Users\\\\vchaplin\\\\Documents\\\\HiFU\\\\code\\\\myPy')  \n",
      "sys.path.append('C:\\\\Users\\\\vchaplin\\\\Documents\\\\HiFU\\\\code\\\\AblationSims')\n",
      "sys.path.append('C:\\\\Users\\\\Vandiver\\\\Documents\\\\HiFU\\\\code\\\\BioHeatCpp\\\\PBHEswig\\\\x64')\n",
      "import ablation_utils\n",
      "import geom\n",
      "import sonalleve\n",
      "import transducers\n",
      "import PBHEswig\n",
      "from countlines import countlines\n",
      "\n",
      "import imagemanip as imp;\n",
      "\n",
      "\n",
      "%matplotlib inline"
     ],
     "language": "python",
     "metadata": {},
     "outputs": [],
     "prompt_number": 1
    },
    {
     "cell_type": "heading",
     "level": 1,
     "metadata": {},
     "source": [
      "Trajectory Def"
     ]
    },
    {
     "cell_type": "code",
     "collapsed": false,
     "input": [
      "maxR_mm = 20\n",
      "turnspace_mm=4\n",
      "minR_mm = turnspace_mm / 2.0\n",
      "z_mm = 140;\n",
      "\n",
      "nturns = ceil( (maxR_mm - minR_mm)/turnspace_mm )\n",
      "\n",
      "avgSpeed_mm_per_sec=0.6\n",
      "focalpoint_dwell_seconds=6\n",
      "wait=2\n",
      "\n",
      "turn_radii_mm = minR_mm + turnspace_mm*np.arange(0,nturns)\n",
      "num_sonications_per_turn = (np.round( (2*pi*turn_radii_mm/avgSpeed_mm_per_sec) / focalpoint_dwell_seconds ) );\n",
      "\n",
      "num_sonications_total = np.sum(num_sonications_per_turn)\n",
      "focalpoint_coords_mm = np.zeros([num_sonications_total, 3])\n",
      "pass_relative_amplitudes = np.zeros([num_sonications_total, 256])\n",
      "\n",
      "turnIdxStart=0;\n",
      "for n in range(0,nturns):\n",
      "    ns = num_sonications_per_turn[n]\n",
      "    phis = np.arange(1,ns+1)*(2.0*pi/ns) + 0.5*(2.0*pi/ns)\n",
      "    x = turn_radii_mm[n]*np.cos(phis)\n",
      "    y = turn_radii_mm[n]*np.sin(phis)\n",
      "    z = z_mm*np.ones(ns);\n",
      "    \n",
      "    i = turnIdxStart\n",
      "    \n",
      "    focalpoint_coords_mm[i:(i+ns),0] = x;\n",
      "    focalpoint_coords_mm[i:(i+ns),1] = y;\n",
      "    focalpoint_coords_mm[i:(i+ns),2] = z;\n",
      "    \n",
      "    turnIdxStart += ns\n",
      "    \n",
      "plt.plot( focalpoint_coords_mm[:,0], focalpoint_coords_mm[:,1], '*-' )"
     ],
     "language": "python",
     "metadata": {},
     "outputs": [
      {
       "metadata": {},
       "output_type": "pyout",
       "prompt_number": 2,
       "text": [
        "[<matplotlib.lines.Line2D at 0x77aa550>]"
       ]
      },
      {
       "metadata": {},
       "output_type": "display_data",
       "png": "[encoded data removed]",
       "text": [
        "<matplotlib.figure.Figure at 0x773e5c0>"
       ]
      }
     ],
     "prompt_number": 2
    },
    {
     "cell_type": "heading",
     "level": 2,
     "metadata": {},
     "source": [
      "Transducer amplitudes"
     ]
    },
    {
     "cell_type": "heading",
     "level": 4,
     "metadata": {},
     "source": [
      "First get power factor"
     ]
    },
    {
     "cell_type": "code",
     "collapsed": false,
     "input": [
      "uxyz = sonalleve.get_sonalleve_xdc_vecs()\n",
      "f0 = 1.2e6\n",
      "c0 = 1540\n",
      "k0 = 2.0*pi*(f0/c0)\n",
      "rho=1000;\n",
      "\n",
      "Ispta0 = 1.25e7;\n",
      "N = uxyz.shape[0]\n",
      "#uamp0 = np.ones(N) / N\n",
      "P0 = sonalleve.calc_pressure_field(k0, uxyz, uamp0, np.arange(0.125, 0.15, 200), [0.0], [0.14])\n",
      "I0 = np.abs(P0)**2 / (2.0*rho*c0)\n",
      "\n",
      "powerRenorm = (Ispta0/np.max(I0))\n",
      "I0 *= powerRenorm\n",
      "\n",
      "#update uamp0\n",
      "uamp0 *= sqrt(powerRenorm)"
     ],
     "language": "python",
     "metadata": {},
     "outputs": [],
     "prompt_number": 18
    },
    {
     "cell_type": "code",
     "collapsed": false,
     "input": [
      "d=0.004;\n",
      "M=3\n",
      "ring,radius = geom.ring(d,M)\n",
      "h=radius\n",
      "pxyz=ring;\n",
      "\n",
      "\n",
      "uamp1 = transducers.get_focused_element_vals(k0, uxyz, pxyz, np.ones([M]) )\n",
      "uamp1 = sqrt(powerRenorm)*( uamp1  ) / sum(abs(uamp1))"
     ],
     "language": "python",
     "metadata": {},
     "outputs": [],
     "prompt_number": 22
    },
    {
     "cell_type": "code",
     "collapsed": false,
     "input": [],
     "language": "python",
     "metadata": {},
     "outputs": []
    }
   ],
   "metadata": {}
  }
 ]
}