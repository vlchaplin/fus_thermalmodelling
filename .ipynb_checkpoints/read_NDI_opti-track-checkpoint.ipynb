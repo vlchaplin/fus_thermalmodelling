{
 "cells": [
  {
   "cell_type": "code",
   "execution_count": 1,
   "metadata": {
    "collapsed": false
   },
   "outputs": [],
   "source": [
    "import numpy as np\n",
    "import matplotlib.pyplot as plt\n",
    "from mpl_toolkits.mplot3d import Axes3D\n",
    "from math import *;\n",
    "\n",
    "import re;\n",
    "import csv;\n",
    "import glob;\n",
    "import sys\n",
    "\n",
    "sys.path.append('C:\\\\Users\\\\vchaplin\\\\Documents\\\\HiFU\\\\code\\\\myPy')  \n",
    "import geom\n",
    "\n",
    "%matplotlib inline"
   ]
  },
  {
   "cell_type": "code",
   "execution_count": 16,
   "metadata": {
    "collapsed": false
   },
   "outputs": [],
   "source": [
    "def readNDI_csv(filename, nmax=None):\n",
    "    csvfile=open(filename)\n",
    "    reader=csv.reader(csvfile)\n",
    "    text=list(reader)\n",
    "    csvfile.close()\n",
    "    \n",
    "    if re.search( 'Tools', text[0][0]):\n",
    "        text.pop(0)\n",
    "        \n",
    "    if nmax is not None:\n",
    "        text = text[0:nmax]\n",
    "    \n",
    "    err = np.array( list(map( lambda x: x[12], text )), dtype='float')\n",
    "    txyz = np.array( list(map( lambda x: x[9:12], text )), dtype='float')\n",
    "    q0xyz = np.array( list(map( lambda x: x[5:9], text )), dtype='float')\n",
    "    \n",
    "    return (q0xyz, txyz, err)"
   ]
  },
  {
   "cell_type": "code",
   "execution_count": 3,
   "metadata": {
    "collapsed": false
   },
   "outputs": [],
   "source": [
    "filepath='C:\\\\Users\\\\Vandiver\\\\Documents\\\\HiFU\\\\optical_tracking\\\\H115_pulse_echo';\n",
    "\n",
    "filename='ProbeTip_relative_3_000.csv'\n",
    "\n",
    "(q0xyz, txyz, err)=readNDI_csv(filepath+'\\\\'+filename)\n",
    "\n"
   ]
  },
  {
   "cell_type": "code",
   "execution_count": 93,
   "metadata": {
    "collapsed": false
   },
   "outputs": [],
   "source": [
    "match = re.search( '.*\\w+_\\w+_(\\d+)_', filename)"
   ]
  },
  {
   "cell_type": "code",
   "execution_count": 18,
   "metadata": {
    "collapsed": false
   },
   "outputs": [],
   "source": [
    "files = glob.glob(filepath+'\\\\ProbeTip_relative*.csv');\n",
    "\n",
    "#files = glob.glob(filepath+'\\\\fiducial_*.csv');\n",
    "\n",
    "for f in files:\n",
    "    (q0xyz, txyz, err)=readNDI_csv(f, nmax=7)\n",
    "    geom.write_VTK_points(f[:-3] + 'vtk', txyz)"
   ]
  },
  {
   "cell_type": "code",
   "execution_count": 14,
   "metadata": {
    "collapsed": false
   },
   "outputs": [
    {
     "data": {
      "text/plain": [
       "array([  66.09725,   13.09585,  210.3101 ])"
      ]
     },
     "execution_count": 14,
     "metadata": {},
     "output_type": "execute_result"
    }
   ],
   "source": [
    "np.mean(txyz,axis=0)"
   ]
  },
  {
   "cell_type": "code",
   "execution_count": 15,
   "metadata": {
    "collapsed": false
   },
   "outputs": [
    {
     "data": {
      "text/plain": [
       "['C:\\\\Users\\\\Vandiver\\\\Data\\\\opti-track\\\\20150922_Calibration\\\\fiducial_000.csv',\n",
       " 'C:\\\\Users\\\\Vandiver\\\\Data\\\\opti-track\\\\20150922_Calibration\\\\fiducial_001.csv']"
      ]
     },
     "execution_count": 15,
     "metadata": {},
     "output_type": "execute_result"
    }
   ],
   "source": [
    "files[0:2]"
   ]
  },
  {
   "cell_type": "code",
   "execution_count": 11,
   "metadata": {
    "collapsed": false
   },
   "outputs": [],
   "source": [
    "filepath='C:\\\\Users\\\\Vandiver\\\\Data\\\\opti-track\\\\20150922_Calibration'"
   ]
  },
  {
   "cell_type": "code",
   "execution_count": null,
   "metadata": {
    "collapsed": true
   },
   "outputs": [],
   "source": []
  },
  {
   "cell_type": "code",
   "execution_count": 17,
   "metadata": {
    "collapsed": false
   },
   "outputs": [
    {
     "data": {
      "text/plain": [
       "<matplotlib.text.Text at 0x83c9dd8>"
      ]
     },
     "execution_count": 17,
     "metadata": {},
     "output_type": "execute_result"
    },
    {
     "data": {
      "image/png": "[encoded data removed]",
      "text/plain": [
       "<matplotlib.figure.Figure at 0x8461358>"
      ]
     },
     "metadata": {},
     "output_type": "display_data"
    }
   ],
   "source": [
    "fig = plt.figure(figsize=(16,8), dpi=200)\n",
    "#ax = fig.gca(projection='3d')\n",
    "axXY = fig.add_subplot(131)\n",
    "axXZ = fig.add_subplot(132)\n",
    "axYZ = fig.add_subplot(133)\n",
    "#p=ax.plot3D(probePositions[:,0], probePositions[:,1], probePositions[:,2], 'x')\n",
    "files = glob.glob(filepath+'\\\\ProbeTip_relative*.csv');\n",
    "\n",
    "files = glob.glob(filepath+'\\\\fiducial_*.csv');\n",
    "\n",
    "allAvg = np.zeros(3);\n",
    "\n",
    "#files = glob.glob(filepath+'\\\\ProbeTip_global*.csv');\n",
    "txyz_list=[]\n",
    "fi=0;\n",
    "for f in files:\n",
    "    (q0xyz, txyz, err)=readNDI_csv(f,nmax=5)\n",
    "    txyz_list.append(txyz)\n",
    "    \n",
    "    allAvg += np.mean(txyz,axis=0)\n",
    "    #plt.plot(txyz[:,0], txyz[:,1],'.')\n",
    "    #p=ax.plot3D(txyz[:,0], txyz[:,1], txyz[:,2], 'x')\n",
    "    \n",
    "    #filename\n",
    "    match = re.search( '.*(\\d+).csv', f)\n",
    "    num=match.group(1)\n",
    "    axXY.plot(txyz[:,0], txyz[:,1], 'x')\n",
    "    axXZ.plot(txyz[:,0], txyz[:,2], 'x')\n",
    "    axYZ.plot(txyz[:,1], txyz[:,2], 'x')\n",
    "    axXY.text(txyz[0,0]+0.1, txyz[0,1]+0.1, num, fontsize=16)\n",
    "    fi+=1\n",
    "\n",
    "allAvg/=fi\n",
    "\n",
    "axXY.plot(allAvg[0], allAvg[1], 'ko')\n",
    "axXZ.plot(allAvg[0], allAvg[2], 'ko')\n",
    "axYZ.plot(allAvg[1], allAvg[2], 'ko')\n",
    "\n",
    "axXY.set_xlabel('x (mm)')\n",
    "axXY.set_ylabel('y (mm)')\n",
    "axXZ.set_xlabel('x (mm)')\n",
    "axXZ.set_ylabel('z (mm)')\n",
    "axYZ.set_xlabel('y (mm)')\n",
    "axYZ.set_ylabel('z (mm)')"
   ]
  },
  {
   "cell_type": "code",
   "execution_count": 30,
   "metadata": {
    "collapsed": false
   },
   "outputs": [
    {
     "data": {
      "text/plain": [
       "array([ 6.64145793,  6.58928599,  6.4379057 ,  6.54881781,  6.59694855,\n",
       "        6.38667983,  6.77169145,  6.48218739,  6.62557929,  6.66847858,\n",
       "        6.4303433 ,  6.59826652,  6.6243044 ,  6.41859294,  6.53882415,\n",
       "        6.37116115,  6.61418738,  6.59896215,  6.75100032,  6.61273022])"
      ]
     },
     "execution_count": 30,
     "metadata": {},
     "output_type": "execute_result"
    }
   ],
   "source": [
    "sum(list( map( lambda l: np.sum((l - allAvg)**2,axis=1), txyz_list )))/4"
   ]
  },
  {
   "cell_type": "code",
   "execution_count": 38,
   "metadata": {
    "collapsed": false
   },
   "outputs": [
    {
     "data": {
      "text/plain": [
       "2.5598085584851344"
      ]
     },
     "execution_count": 38,
     "metadata": {},
     "output_type": "execute_result"
    }
   ],
   "source": [
    "stdDev = np.sqrt(sum(list( map( lambda l: np.sum((np.mean(l,axis=0) - allAvg)**2) / len(txyz_list), txyz_list ))))\n",
    "stdDev"
   ]
  },
  {
   "cell_type": "code",
   "execution_count": 39,
   "metadata": {
    "collapsed": false
   },
   "outputs": [
    {
     "data": {
      "text/plain": [
       "array([  64.347875 ,   14.1459375,  211.4017   ])"
      ]
     },
     "execution_count": 39,
     "metadata": {},
     "output_type": "execute_result"
    }
   ],
   "source": [
    "allAvg"
   ]
  },
  {
   "cell_type": "code",
   "execution_count": 79,
   "metadata": {
    "collapsed": false
   },
   "outputs": [
    {
     "data": {
      "text/plain": [
       "[<matplotlib.lines.Line2D at 0x7f30978>]"
      ]
     },
     "execution_count": 79,
     "metadata": {},
     "output_type": "execute_result"
    },
    {
     "data": {
      "image/png": "[encoded data removed]",
      "text/plain": [
       "<matplotlib.figure.Figure at 0x918def0>"
      ]
     },
     "metadata": {},
     "output_type": "display_data"
    }
   ],
   "source": [
    "hc,xedges = np.histogram(np.sqrt(np.sum(txyz**2,axis=1)), bins=10)\n",
    "hc=hc/sum(hc)\n",
    "xcent=(xedges[0:-1]+xedges[1:])/2.0;\n",
    "plt.plot(xcent,hc,'o-')"
   ]
  },
  {
   "cell_type": "code",
   "execution_count": null,
   "metadata": {
    "collapsed": false
   },
   "outputs": [],
   "source": [
    "filepath='C:\\\\Users\\\\Vandiver\\\\Documents\\\\HiFU\\\\optical_tracking\\\\20150421-Exp2\\\\Probe';\n",
    "filepath='C:\\\\Users\\\\Vandiver\\\\Documents\\\\HiFU\\\\optical_tracking\\\\Hydro-Track\\\\Probe';\n",
    "\n",
    "files = glob.glob(filepath+'\\\\*.csv');\n",
    "\n",
    "def getAverageXYZset(filelist):\n",
    "    \n",
    "    probePositions = np.zeros([len(filelist), 3])\n",
    "    probePosErr = np.zeros([len(filelist),3])\n",
    "    fi=0;\n",
    "    for filename in files:\n",
    "        csvfile=open(filename)\n",
    "        reader=csv.reader(csvfile)\n",
    "        text=list(reader)\n",
    "        csvfile.close()\n",
    "    \n",
    "        positions = np.array( list(map( lambda x: x[9:12], text )), dtype='float');\n",
    "        orientations = np.array( list(map( lambda x: x[5:9], text )), dtype='float');\n",
    "\n",
    "        avgXYZ = np.mean(positions, axis=0);\n",
    "        avgErr = np.std(positions, axis=0);\n",
    "        \n",
    "    \n",
    "        probePositions[fi,:] = avgXYZ; \n",
    "        probePosErr[fi,:] = avgErr\n",
    "    \n",
    "        fi+=1;\n",
    "        \n",
    "    return probePositions,probePosErr\n",
    "\n",
    "def getDeviationSet(filelist):\n",
    "    probeDeviations =np.array([])\n",
    "    \n",
    "    fi=0;\n",
    "    for filename in files:\n",
    "        csvfile=open(filename)\n",
    "        reader=csv.reader(csvfile)\n",
    "        text=list(reader)\n",
    "        csvfile.close()\n",
    "    \n",
    "        positions = np.array( list(map( lambda x: x[9:12], text )), dtype='float');\n",
    "        orientations = np.array( list(map( lambda x: x[5:9], text )), dtype='float');\n",
    "\n",
    "        avgXYZ = np.mean(positions, axis=0);\n",
    "        avgErr = np.std(positions, axis=0);\n",
    "        \n",
    "        probeDeviations = np.append( probeDeviations, np.sqrt( np.sum( (positions - avgXYZ)**2, axis=1) ) );\n",
    "\n",
    "        fi+=1;\n",
    "        \n",
    "    return probeDeviations\n",
    "\n",
    "probePositions,probePosErr = getAverageXYZset(files)\n",
    "\n",
    "filepath='C:\\\\Users\\\\Vandiver\\\\Documents\\\\HiFU\\\\optical_tracking\\\\Hydro-Track\\\\Hydro';\n",
    "hfiles = glob.glob(filepath+'\\\\*.csv');\n",
    "\n",
    "hydroPositions,hydroPosErr = getAverageXYZset(hfiles)\n"
   ]
  }
 ],
 "metadata": {
  "kernelspec": {
   "display_name": "Python 3",
   "language": "python",
   "name": "python3"
  },
  "language_info": {
   "codemirror_mode": {
    "name": "ipython",
    "version": 3
   },
   "file_extension": ".py",
   "mimetype": "text/x-python",
   "name": "python",
   "nbconvert_exporter": "python",
   "pygments_lexer": "ipython3",
   "version": "3.4.1"
  }
 },
 "nbformat": 4,
 "nbformat_minor": 0
}
