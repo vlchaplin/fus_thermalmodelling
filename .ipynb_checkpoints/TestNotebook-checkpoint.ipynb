{
 "metadata": {
  "name": "",
  "signature": "sha256:1590d05c13e488e0a86b29f5af575c96e3a53339af41035458088aca144f9915"
 },
 "nbformat": 3,
 "nbformat_minor": 0,
 "worksheets": [
  {
   "cells": [
    {
     "cell_type": "code",
     "collapsed": false,
     "input": [
      "import os\n",
      "\n"
     ],
     "language": "python",
     "metadata": {},
     "outputs": [],
     "prompt_number": 1
    },
    {
     "cell_type": "code",
     "collapsed": false,
     "input": [
      "pwd"
     ],
     "language": "python",
     "metadata": {},
     "outputs": [
      {
       "metadata": {},
       "output_type": "pyout",
       "prompt_number": 2,
       "text": [
        "'C:\\\\Users\\\\vchaplin\\\\Documents\\\\IPython Notebooks'"
       ]
      }
     ],
     "prompt_number": 2
    },
    {
     "cell_type": "code",
     "collapsed": false,
     "input": [
      "os.chdir ('C:\\\\Users\\\\vchaplin\\\\Documents\\\\HiFU\\\\code\\\\TestSwigPython\\\\TestSwigPython') \n",
      "%pwd"
     ],
     "language": "python",
     "metadata": {},
     "outputs": [
      {
       "metadata": {},
       "output_type": "pyout",
       "prompt_number": 3,
       "text": [
        "'C:\\\\Users\\\\vchaplin\\\\Documents\\\\HiFU\\\\code\\\\TestSwigPython\\\\TestSwigPython'"
       ]
      }
     ],
     "prompt_number": 3
    },
    {
     "cell_type": "code",
     "collapsed": false,
     "input": [
      "run runme.py"
     ],
     "language": "python",
     "metadata": {},
     "outputs": [
      {
       "output_type": "stream",
       "stream": "stdout",
       "text": [
        "    Created circle <TestSwigPython.Circle; proxy of <Swig Object of type 'Circle *' at 0x00000000062CB3F0> >\n",
        "    Created square <TestSwigPython.Square; proxy of <Swig Object of type 'Square *' at 0x00000000062CB420> >\n",
        "\n",
        "A total of 2 shapes were created\n",
        "\n",
        "Here is their current position:\n",
        "    Circle = (20.000000, 30.000000)\n",
        "    Square = (-10.000000, 5.000000)\n",
        "\n",
        "Here are some properties of the shapes:\n",
        "    <TestSwigPython.Circle; proxy of <Swig Object of type 'Circle *' at 0x00000000062CB3F0> >\n",
        "        area      =  314.1592653589793\n",
        "        perimeter =  62.83185307179586\n",
        "    <TestSwigPython.Square; proxy of <Swig Object of type 'Square *' at 0x00000000062CB420> >\n",
        "        area      =  100.0\n",
        "        perimeter =  40.0\n",
        "\n",
        "Guess I'll clean up now\n",
        "0 shapes remain\n",
        "Goodbye\n"
       ]
      }
     ],
     "prompt_number": 4
    },
    {
     "cell_type": "code",
     "collapsed": false,
     "input": [
      "run contour_manual.py"
     ],
     "language": "python",
     "metadata": {},
     "outputs": [],
     "prompt_number": 7
    },
    {
     "cell_type": "code",
     "collapsed": false,
     "input": [
      "mf=TestSwigPython.meshfunc.d"
     ],
     "language": "python",
     "metadata": {},
     "outputs": [],
     "prompt_number": 7
    },
    {
     "cell_type": "code",
     "collapsed": false,
     "input": [
      "del mf"
     ],
     "language": "python",
     "metadata": {},
     "outputs": [
      {
       "ename": "NameError",
       "evalue": "name 'mf' is not defined",
       "output_type": "pyerr",
       "traceback": [
        "\u001b[1;31m---------------------------------------------------------------------------\u001b[0m\n\u001b[1;31mNameError\u001b[0m                                 Traceback (most recent call last)",
        "\u001b[1;32m<ipython-input-8-f30f2b18d553>\u001b[0m in \u001b[0;36m<module>\u001b[1;34m()\u001b[0m\n\u001b[1;32m----> 1\u001b[1;33m \u001b[1;32mdel\u001b[0m \u001b[0mmf\u001b[0m\u001b[1;33m\u001b[0m\u001b[0m\n\u001b[0m",
        "\u001b[1;31mNameError\u001b[0m: name 'mf' is not defined"
       ]
      }
     ],
     "prompt_number": 8
    },
    {
     "cell_type": "code",
     "collapsed": false,
     "input": [],
     "language": "python",
     "metadata": {},
     "outputs": []
    }
   ],
   "metadata": {}
  }
 ]
}