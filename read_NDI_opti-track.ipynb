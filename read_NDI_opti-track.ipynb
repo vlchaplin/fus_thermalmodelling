{
 "cells": [
  {
   "cell_type": "code",
   "execution_count": 1,
   "metadata": {
    "collapsed": false
   },
   "outputs": [],
   "source": [
    "import numpy as np\n",
    "import matplotlib.pyplot as plt\n",
    "from mpl_toolkits.mplot3d import Axes3D\n",
    "from math import *;\n",
    "\n",
    "import re;\n",
    "import csv;\n",
    "import glob;\n",
    "import sys\n",
    "\n",
    "sys.path.append('C:\\\\Users\\\\vchaplin\\\\Documents\\\\HiFU\\\\code\\\\myPy')  \n",
    "import geom\n",
    "\n",
    "%matplotlib inline"
   ]
  },
  {
   "cell_type": "code",
   "execution_count": 2,
   "metadata": {
    "collapsed": false
   },
   "outputs": [],
   "source": [
    "def readNDI_csv(filename, nmax=None, startcol=0):\n",
    "    csvfile=open(filename)\n",
    "    reader=csv.reader(csvfile)\n",
    "    text=list(reader)\n",
    "    csvfile.close()\n",
    "    \n",
    "    if re.search( 'Tools', text[0][0]):\n",
    "        text.pop(0)\n",
    "        \n",
    "    if nmax is not None:\n",
    "        text = text[0:nmax]\n",
    "    \n",
    "    err = np.array( list(map( lambda x: x[startcol + 12], text )), dtype='float')\n",
    "    txyz = np.array( list(map( lambda x: x[startcol + 9:startcol + 12], text )), dtype='float')\n",
    "    q0xyz = np.array( list(map( lambda x: x[startcol + 5:startcol + 9], text )), dtype='float')\n",
    "    \n",
    "    return (q0xyz, txyz, err)"
   ]
  },
  {
   "cell_type": "code",
   "execution_count": 4,
   "metadata": {
    "collapsed": false
   },
   "outputs": [],
   "source": [
    "filepath='C:\\\\Users\\\\Vandiver\\\\Documents\\\\HiFU\\\\optical_tracking\\\\H115_pulse_echo';\n",
    "\n",
    "filename='ProbeTip_relative_3_000.csv'\n",
    "\n",
    "(q0xyz, txyz, err)=readNDI_csv(filepath+'\\\\'+filename)\n",
    "\n"
   ]
  },
  {
   "cell_type": "code",
   "execution_count": 93,
   "metadata": {
    "collapsed": false
   },
   "outputs": [],
   "source": [
    "match = re.search( '.*\\w+_\\w+_(\\d+)_', filename)"
   ]
  },
  {
   "cell_type": "code",
   "execution_count": 34,
   "metadata": {
    "collapsed": false
   },
   "outputs": [],
   "source": [
    "files = glob.glob(filepath+'\\\\ProbeTip_relative*.csv');\n",
    "\n",
    "files = glob.glob(filepath+'\\\\fiducial_*.csv');\n",
    "\n",
    "for f in files:\n",
    "    (q0xyz, txyz, err)=readNDI_csv(f, nmax=None, startcol=12)\n",
    "    geom.write_VTK_points(f[:-3] + 'vtk', txyz)"
   ]
  },
  {
   "cell_type": "code",
   "execution_count": 33,
   "metadata": {
    "collapsed": false
   },
   "outputs": [
    {
     "data": {
      "text/plain": [
       "0"
      ]
     },
     "execution_count": 33,
     "metadata": {},
     "output_type": "execute_result"
    }
   ],
   "source": [
    "f='C:\\\\Users\\\\Vandiver\\\\Data\\\\opti-track\\\\20150922_Calibration\\\\max_point_000.csv'\n",
    "(q0xyz, txyz, err)=readNDI_csv(f, nmax=None, startcol=12)\n",
    "geom.write_VTK_points(f[:-3] + 'vtk', txyz)"
   ]
  },
  {
   "cell_type": "code",
   "execution_count": 30,
   "metadata": {
    "collapsed": false
   },
   "outputs": [
    {
     "data": {
      "text/plain": [
       "array([[  113.12 , -1743.473],\n",
       "       [  113.138, -1743.515],\n",
       "       [  113.14 , -1743.499],\n",
       "       [  113.126, -1743.539],\n",
       "       [  113.138, -1743.493],\n",
       "       [  113.129, -1743.454],\n",
       "       [  113.13 , -1743.487],\n",
       "       [  113.115, -1743.54 ],\n",
       "       [  113.131, -1743.488],\n",
       "       [  113.13 , -1743.504],\n",
       "       [  113.13 , -1743.474],\n",
       "       [  113.125, -1743.536],\n",
       "       [  113.131, -1743.513],\n",
       "       [  113.132, -1743.471],\n",
       "       [  113.125, -1743.529],\n",
       "       [  113.116, -1743.53 ],\n",
       "       [  113.125, -1743.5  ],\n",
       "       [  113.119, -1743.494],\n",
       "       [  113.124, -1743.485],\n",
       "       [  113.139, -1743.485],\n",
       "       [  113.134, -1743.515]])"
      ]
     },
     "execution_count": 30,
     "metadata": {},
     "output_type": "execute_result"
    }
   ],
   "source": [
    "txyz"
   ]
  },
  {
   "cell_type": "code",
   "execution_count": 14,
   "metadata": {
    "collapsed": false
   },
   "outputs": [
    {
     "data": {
      "text/plain": [
       "array([  66.09725,   13.09585,  210.3101 ])"
      ]
     },
     "execution_count": 14,
     "metadata": {},
     "output_type": "execute_result"
    }
   ],
   "source": [
    "np.mean(txyz,axis=0)"
   ]
  },
  {
   "cell_type": "code",
   "execution_count": 15,
   "metadata": {
    "collapsed": false
   },
   "outputs": [
    {
     "data": {
      "text/plain": [
       "['C:\\\\Users\\\\Vandiver\\\\Data\\\\opti-track\\\\20150922_Calibration\\\\fiducial_000.csv',\n",
       " 'C:\\\\Users\\\\Vandiver\\\\Data\\\\opti-track\\\\20150922_Calibration\\\\fiducial_001.csv']"
      ]
     },
     "execution_count": 15,
     "metadata": {},
     "output_type": "execute_result"
    }
   ],
   "source": [
    "files[0:2]"
   ]
  },
  {
   "cell_type": "code",
   "execution_count": 3,
   "metadata": {
    "collapsed": false
   },
   "outputs": [],
   "source": [
    "filepath='C:\\\\Users\\\\Vandiver\\\\Data\\\\opti-track\\\\20150922_Calibration'"
   ]
  },
  {
   "cell_type": "code",
   "execution_count": null,
   "metadata": {
    "collapsed": true
   },
   "outputs": [],
   "source": []
  },
  {
   "cell_type": "code",
   "execution_count": 43,
   "metadata": {
    "collapsed": false
   },
   "outputs": [
    {
     "data": {
      "text/plain": [
       "[<matplotlib.axis.XTick at 0x10904358>,\n",
       " <matplotlib.axis.XTick at 0x1079ea90>,\n",
       " <matplotlib.axis.XTick at 0x107a2898>,\n",
       " <matplotlib.axis.XTick at 0x10680278>,\n",
       " <matplotlib.axis.XTick at 0x108a23c8>]"
      ]
     },
     "execution_count": 43,
     "metadata": {},
     "output_type": "execute_result"
    },
    {
     "data": {
      "image/png": "[encoded data removed]",
      "text/plain": [
       "<matplotlib.figure.Figure at 0x1068aef0>"
      ]
     },
     "metadata": {},
     "output_type": "display_data"
    }
   ],
   "source": [
    "fig = plt.figure(figsize=(18,14), dpi=400)\n",
    "#ax = fig.gca(projection='3d')\n",
    "axXY = fig.add_subplot(131)\n",
    "axXZ = fig.add_subplot(132)\n",
    "axYZ = fig.add_subplot(133)\n",
    "fig.subplots_adjust(wspace=0.35)\n",
    "#p=ax.plot3D(probePositions[:,0], probePositions[:,1], probePositions[:,2], 'x')\n",
    "files = glob.glob(filepath+'\\\\ProbeTip_relative*.csv');\n",
    "\n",
    "#files = glob.glob(filepath+'\\\\fiducial_*.csv');\n",
    "\n",
    "allAvg = np.zeros(3);\n",
    "\n",
    "#files = glob.glob(filepath+'\\\\ProbeTip_global*.csv');\n",
    "txyz_list=[]\n",
    "fi=0;\n",
    "for f in files:\n",
    "    (q0xyz, txyz, err)=readNDI_csv(f)\n",
    "    txyz_list.append(txyz)\n",
    "    \n",
    "    allAvg += np.mean(txyz,axis=0)\n",
    "    #plt.plot(txyz[:,0], txyz[:,1],'.')\n",
    "    #p=ax.plot3D(txyz[:,0], txyz[:,1], txyz[:,2], 'x')\n",
    "    \n",
    "    #filename\n",
    "    #match = re.search( '.*(\\d+).csv', f)\n",
    "    match = re.search( '.*(\\d+)_000.csv', f)\n",
    "    num=match.group(1)\n",
    "    axXY.plot(txyz[:,0], txyz[:,1], 'o', markersize=8)\n",
    "    axXZ.plot(txyz[:,0], txyz[:,2], 'o', markersize=8)\n",
    "    axYZ.plot(txyz[:,1], txyz[:,2], 'o', markersize=8)\n",
    "    axXY.text(txyz[0,0]+0.1, txyz[0,1]+0.1, num, fontsize=26, fontweight='bold')\n",
    "    fi+=1\n",
    "\n",
    "allAvg/=fi\n",
    "\n",
    "axXY.plot(allAvg[0], allAvg[1], 'k^', markersize=12)\n",
    "axXZ.plot(allAvg[0], allAvg[2], 'k^', markersize=12)\n",
    "axYZ.plot(allAvg[1], allAvg[2], 'k^', markersize=12)\n",
    "\n",
    "axXY.set_xlabel('x (mm)',fontsize=18)\n",
    "axXY.set_ylabel('y (mm)',fontsize=18)\n",
    "axXZ.set_xlabel('x (mm)',fontsize=18)\n",
    "axXZ.set_ylabel('z (mm)',fontsize=18)\n",
    "axYZ.set_xlabel('y (mm)',fontsize=18)\n",
    "axYZ.set_ylabel('z (mm)',fontsize=18)\n",
    "\n",
    "axXY.tick_params(labelsize=20)\n",
    "axXZ.tick_params(labelsize=20)\n",
    "axYZ.tick_params(labelsize=20)\n",
    "\n",
    "axYZ.set_xticks(np.arange(12.0, 17.0, 1.0))\n"
   ]
  },
  {
   "cell_type": "code",
   "execution_count": 30,
   "metadata": {
    "collapsed": false
   },
   "outputs": [
    {
     "data": {
      "text/plain": [
       "array([ 6.64145793,  6.58928599,  6.4379057 ,  6.54881781,  6.59694855,\n",
       "        6.38667983,  6.77169145,  6.48218739,  6.62557929,  6.66847858,\n",
       "        6.4303433 ,  6.59826652,  6.6243044 ,  6.41859294,  6.53882415,\n",
       "        6.37116115,  6.61418738,  6.59896215,  6.75100032,  6.61273022])"
      ]
     },
     "execution_count": 30,
     "metadata": {},
     "output_type": "execute_result"
    }
   ],
   "source": [
    "sum(list( map( lambda l: np.sum((l - allAvg)**2,axis=1), txyz_list )))/4"
   ]
  },
  {
   "cell_type": "code",
   "execution_count": 8,
   "metadata": {
    "collapsed": false
   },
   "outputs": [
    {
     "data": {
      "text/plain": [
       "2.5584441121509807"
      ]
     },
     "execution_count": 8,
     "metadata": {},
     "output_type": "execute_result"
    }
   ],
   "source": [
    "stdDev = np.sqrt(sum(list( map( lambda l: np.sum((np.mean(l,axis=0) - allAvg)**2) / len(txyz_list), txyz_list ))))\n",
    "stdDev"
   ]
  },
  {
   "cell_type": "code",
   "execution_count": 39,
   "metadata": {
    "collapsed": false
   },
   "outputs": [
    {
     "data": {
      "text/plain": [
       "array([  64.347875 ,   14.1459375,  211.4017   ])"
      ]
     },
     "execution_count": 39,
     "metadata": {},
     "output_type": "execute_result"
    }
   ],
   "source": [
    "allAvg"
   ]
  },
  {
   "cell_type": "code",
   "execution_count": 79,
   "metadata": {
    "collapsed": false
   },
   "outputs": [
    {
     "data": {
      "text/plain": [
       "[<matplotlib.lines.Line2D at 0x7f30978>]"
      ]
     },
     "execution_count": 79,
     "metadata": {},
     "output_type": "execute_result"
    },
    {
     "data": {
      "image/png": "[encoded data removed]",
      "text/plain": [
       "<matplotlib.figure.Figure at 0x918def0>"
      ]
     },
     "metadata": {},
     "output_type": "display_data"
    }
   ],
   "source": [
    "hc,xedges = np.histogram(np.sqrt(np.sum(txyz**2,axis=1)), bins=10)\n",
    "hc=hc/sum(hc)\n",
    "xcent=(xedges[0:-1]+xedges[1:])/2.0;\n",
    "plt.plot(xcent,hc,'o-')"
   ]
  },
  {
   "cell_type": "code",
   "execution_count": null,
   "metadata": {
    "collapsed": false
   },
   "outputs": [],
   "source": [
    "filepath='C:\\\\Users\\\\Vandiver\\\\Documents\\\\HiFU\\\\optical_tracking\\\\20150421-Exp2\\\\Probe';\n",
    "filepath='C:\\\\Users\\\\Vandiver\\\\Documents\\\\HiFU\\\\optical_tracking\\\\Hydro-Track\\\\Probe';\n",
    "\n",
    "files = glob.glob(filepath+'\\\\*.csv');\n",
    "\n",
    "def getAverageXYZset(filelist):\n",
    "    \n",
    "    probePositions = np.zeros([len(filelist), 3])\n",
    "    probePosErr = np.zeros([len(filelist),3])\n",
    "    fi=0;\n",
    "    for filename in files:\n",
    "        csvfile=open(filename)\n",
    "        reader=csv.reader(csvfile)\n",
    "        text=list(reader)\n",
    "        csvfile.close()\n",
    "    \n",
    "        positions = np.array( list(map( lambda x: x[9:12], text )), dtype='float');\n",
    "        orientations = np.array( list(map( lambda x: x[5:9], text )), dtype='float');\n",
    "\n",
    "        avgXYZ = np.mean(positions, axis=0);\n",
    "        avgErr = np.std(positions, axis=0);\n",
    "        \n",
    "    \n",
    "        probePositions[fi,:] = avgXYZ; \n",
    "        probePosErr[fi,:] = avgErr\n",
    "    \n",
    "        fi+=1;\n",
    "        \n",
    "    return probePositions,probePosErr\n",
    "\n",
    "def getDeviationSet(filelist):\n",
    "    probeDeviations =np.array([])\n",
    "    \n",
    "    fi=0;\n",
    "    for filename in files:\n",
    "        csvfile=open(filename)\n",
    "        reader=csv.reader(csvfile)\n",
    "        text=list(reader)\n",
    "        csvfile.close()\n",
    "    \n",
    "        positions = np.array( list(map( lambda x: x[9:12], text )), dtype='float');\n",
    "        orientations = np.array( list(map( lambda x: x[5:9], text )), dtype='float');\n",
    "\n",
    "        avgXYZ = np.mean(positions, axis=0);\n",
    "        avgErr = np.std(positions, axis=0);\n",
    "        \n",
    "        probeDeviations = np.append( probeDeviations, np.sqrt( np.sum( (positions - avgXYZ)**2, axis=1) ) );\n",
    "\n",
    "        fi+=1;\n",
    "        \n",
    "    return probeDeviations\n",
    "\n",
    "probePositions,probePosErr = getAverageXYZset(files)\n",
    "\n",
    "filepath='C:\\\\Users\\\\Vandiver\\\\Documents\\\\HiFU\\\\optical_tracking\\\\Hydro-Track\\\\Hydro';\n",
    "hfiles = glob.glob(filepath+'\\\\*.csv');\n",
    "\n",
    "hydroPositions,hydroPosErr = getAverageXYZset(hfiles)\n"
   ]
  },
  {
   "cell_type": "code",
   "execution_count": 6,
   "metadata": {
    "collapsed": false
   },
   "outputs": [
    {
     "data": {
      "text/plain": [
       "['C:\\\\Users\\\\Vandiver\\\\Documents\\\\HiFU\\\\optical_tracking\\\\H115_pulse_echo\\\\ProbeTip_relative_1_000.csv',\n",
       " 'C:\\\\Users\\\\Vandiver\\\\Documents\\\\HiFU\\\\optical_tracking\\\\H115_pulse_echo\\\\ProbeTip_relative_2_000.csv',\n",
       " 'C:\\\\Users\\\\Vandiver\\\\Documents\\\\HiFU\\\\optical_tracking\\\\H115_pulse_echo\\\\ProbeTip_relative_3_000.csv',\n",
       " 'C:\\\\Users\\\\Vandiver\\\\Documents\\\\HiFU\\\\optical_tracking\\\\H115_pulse_echo\\\\ProbeTip_relative_4_000.csv']"
      ]
     },
     "execution_count": 6,
     "metadata": {},
     "output_type": "execute_result"
    }
   ],
   "source": [
    "files"
   ]
  },
  {
   "cell_type": "code",
   "execution_count": null,
   "metadata": {
    "collapsed": true
   },
   "outputs": [],
   "source": []
  }
 ],
 "metadata": {
  "kernelspec": {
   "display_name": "Python 3",
   "language": "python",
   "name": "python3"
  },
  "language_info": {
   "codemirror_mode": {
    "name": "ipython",
    "version": 3
   },
   "file_extension": ".py",
   "mimetype": "text/x-python",
   "name": "python",
   "nbconvert_exporter": "python",
   "pygments_lexer": "ipython3",
   "version": "3.4.1"
  }
 },
 "nbformat": 4,
 "nbformat_minor": 0
}
