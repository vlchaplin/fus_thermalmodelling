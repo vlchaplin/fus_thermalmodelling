{
 "metadata": {
  "name": "",
  "signature": "sha256:a30f04734347490a6b169781879cd12ade7bd7ae04c633682f468956e1326e91"
 },
 "nbformat": 3,
 "nbformat_minor": 0,
 "worksheets": [
  {
   "cells": [
    {
     "cell_type": "code",
     "collapsed": false,
     "input": [
      "import h5py\n",
      "import sys\n",
      "import re\n",
      "import numpy as np\n",
      "import matplotlib.pyplot as plt\n",
      "from mpl_toolkits.mplot3d import Axes3D\n",
      "from matplotlib import collections\n",
      "from matplotlib import image\n",
      " \n",
      "import matplotlib.animation as animation;\n",
      "    \n",
      "from math import *;\n",
      "\n",
      "sys.path.append('C:\\\\Users\\\\vchaplin\\\\Documents\\\\HiFU\\\\code\\\\myPy')  \n",
      "sys.path.append('C:\\\\Users\\\\vchaplin\\\\Documents\\\\HiFU\\\\code\\\\AblationSims')\n",
      "sys.path.append('C:\\\\Users\\\\Vandiver\\\\Documents\\\\HiFU\\\\code\\\\BioHeatCpp\\\\PBHEswig\\\\x64')\n",
      "import ablation_utils\n",
      "import geom\n",
      "import sonalleve\n",
      "import transducers\n",
      "import PBHEswig\n",
      "from countlines import countlines\n",
      "\n",
      "import imagemanip as imp;\n",
      "\n",
      "\n",
      "%matplotlib inline"
     ],
     "language": "python",
     "metadata": {},
     "outputs": [],
     "prompt_number": 1
    },
    {
     "cell_type": "code",
     "collapsed": false,
     "input": [
      "def isarray(a):\n",
      "    try:\n",
      "        shp = a.shape\n",
      "        return True\n",
      "    except:\n",
      "        return False\n",
      "\n",
      "def sonication_heating(T, CEM, duration, T0=None, CEMinit=None, Tmax=None, Freeflow=0):\n",
      "    \n",
      "    if T0 is not None:\n",
      "        if isarray(T0):\n",
      "            T=T0\n",
      "        else:\n",
      "            T[:] = T0\n",
      "    if CEMinit is not None:\n",
      "        if isarray(CEMinit):\n",
      "            CEM=CEMinit\n",
      "        else:\n",
      "            CEM[:]=CEMinit\n",
      "    if Tmax is None:\n",
      "        Tmax = np.zeros_like(CEM)\n",
      "    \n",
      "    \n",
      "    time=0\n",
      "    ti=0\n",
      "    buffsize=T.shape[0]\n",
      "    tstep=dt*buffsize\n",
      "    while time<duration :\n",
      "\n",
      "        print( '%d%%' % (time/duration *100.0), end='\\r')\n",
      "        \n",
      "        if (time + tstep > duration):\n",
      "            buffsize = ceil((duration-time)/dt)\n",
      "            tstep = dt*buffsize\n",
      "            \n",
      "\n",
      "        PBHEswig.pbheSolve(Freeflow,dt,dx,dy,dz, Tmesh, Tdotmesh, kmesh, rhoCpmesh, 37.0, perfRate,0,buffsize-1 )\n",
      "        Rbase[:]=4\n",
      "        Rbase[np.where(T[0:,buffsize] > 43.0, True, False)] = 2\n",
      "        \n",
      "        update = np.where(T[buffsize-1] > Tmax, True, False)\n",
      "        Tmax[update] = T[buffsize-1][update]\n",
      "\n",
      "                #time integrate to get the thermal dose\n",
      "        CEM[:] += (dt/60.0)*np.sum( Rbase**(T[0:buffsize]-43), 0  )\n",
      "\n",
      "        ti+=1\n",
      "        time+=tstep\n",
      "        T[0] = T[buffsize-1]\n",
      "        \n",
      "    return (Tmax, time)\n",
      "\n",
      "\n",
      "def sonication_heating_physical_move(xdcTimes, xdcPoints, uamp, CEM, CEMvst, Tmax=None, frad=0.003, timeZero=0.0, Freeflow=0):\n",
      "    \n",
      "    if Tmax is None:\n",
      "        Tmax = np.zeros_like(CEM)\n",
      "    \n",
      "    CEMvst[:]=0\n",
      "\n",
      "    ti=0\n",
      "    \n",
      "    numSonicationPoints = len(xdcTimes)-1\n",
      "    \n",
      "    totalCooling=0\n",
      "    \n",
      "    #pre-calc HIFU-induced source term (not actual dT/dt, just what is due to HIFU)\n",
      "    Pr = sonalleve.calc_pressure_field(k0, uxyz, uamp, xrp, yrp, zrp)\n",
      "    Iavg = np.abs(Pr)**2 / (2.0*rho*c0)\n",
      "    Tdot[:] = 2.0*(alpha_acc)*Iavg / (rhoCp)\n",
      "    \n",
      "    \n",
      "    fzonesCentered=list( map ( lambda v: np.where( calcGridDist( v ) < frad), [pcentroid] ) )\n",
      "    focalPntRise = list( map( lambda ell: np.mean(Tdot[ell]), fzonesCentered ) )\n",
      "    \n",
      "    elapsedTime = timeZero\n",
      "    sonicationEndTimes = np.zeros(numSonicationPoints);\n",
      "    \n",
      "    ti=0\n",
      "    while ti < numSonicationPoints :\n",
      "\n",
      "        fzones =list( map ( lambda v: np.where( calcGridDist( v ) < frad), [pcentroid + xdcPoints[ti]] ) )\n",
      "        TfocFilt =list( map( lambda ell: np.mean(T[0][ell]), fzones ) )\n",
      "        \n",
      "        dwell = min( list(map(lambda a,b: (50-a)/b, TfocFilt,focalPntRise)) )\n",
      "        if dwell > 20.0:\n",
      "            dwell = 20.0 \n",
      "           \n",
      "        #dwell = xdcTimes[ti+1] - xdcTimes[ti];\n",
      "        \n",
      "        monitorTemp = np.mean(T[0][monitorVolPix])\n",
      "        if monitorTemp > 43:\n",
      "            coolingTime = 10;\n",
      "            print ('pre-focal cooling for= %4.1f, monitor temp=%3.1f C' % (coolingTime, monitorTemp), end='\\n')\n",
      "            Tdot[:]=0\n",
      "            Tmax, duration = sonication_heating(T, Tdot, CEM, coolingTime, Tmax=Tmax, Freeflow=Freeflow )\n",
      "            totalCooling+=duration\n",
      "            ti-=1\n",
      "        elif dwell >= 2*dt:\n",
      "            \n",
      "            #if dwell < 1:\n",
      "             #   dwell = 1\n",
      "                \n",
      "            Tdot[:] = 2.0*(alpha_acc)* imp.shiftImageRegular3D(Iavg,xedges,yedges,zedges, -xdcPoints[ti]) / (rhoCp)\n",
      "\n",
      "            fzone=np.where( calcGridDist( xdcPoints[ti] + [0,0,0.14] ) < 0.003)\n",
      "            avgTdot = np.mean(Tdot[fzone])\n",
      "            avgT = np.mean(T[0][fzone])    \n",
      "            \n",
      "            print ('dwell= %4.1f' % dwell, end=' ')\n",
      "        \n",
      "            print( 'updating position %d of %d: (%3.1f, %3.1f, t=%4.1f), monitor temp=%3.1f C, focal temp=%3.1f C' % \\\n",
      "                  (ti+1, numSonicationPoints, 100*xdcPoints[ti,0],100*xdcPoints[ti,1], elapsedTime, monitorTemp, avgT), end = '\\n' )\n",
      "\n",
      "            Tmax, duration = sonication_heating(T, CEM, dwell, Tmax=Tmax, Freeflow=Freeflow )\n",
      "                      \n",
      "           \n",
      "        else:\n",
      "            coolTime=4*dt\n",
      "            print ('Cooling for %f' % coolTime)\n",
      "            Tdot[:]=0\n",
      "            Tmax, duration = sonication_heating(T, CEM, coolTime, Tmax=Tmax, Freeflow=Freeflow )\n",
      "            totalCooling+=duration\n",
      "            \n",
      "        \n",
      "        elapsedTime += duration\n",
      "        sonicationEndTimes[ti] = duration\n",
      "        CEMvst[ti] = CEM\n",
      "        ti+=1\n",
      "            \n",
      "    return (Tmax, sonicationEndTimes,elapsedTime,totalCooling)\n",
      "\n",
      "def sonication_heating_physical_move_nofeedback(xdcDwells, xdcWaits, xdcPoints, uamp, CEM, CEMvst, \n",
      "                                                TempOnvsTime, TempOffvsTime,\n",
      "                                                Tmax=None, frad=0.003, timeZero=0.0, Freeflow=0, onroi=None, offroi=None):\n",
      "    \n",
      "    if Tmax is None:\n",
      "        Tmax = np.zeros_like(CEM)\n",
      "    \n",
      "    CEMvst[:]=0\n",
      "\n",
      "    ti=0\n",
      "    \n",
      "    numSonicationPoints = len(xdcDwells)\n",
      "    \n",
      "    totalCooling=0\n",
      "    \n",
      "    #pre-calc HIFU-induced source term (not actual dT/dt, just what is due to HIFU)\n",
      "    Pr = sonalleve.calc_pressure_field(k0, uxyz, uamp, xrp, yrp, zrp)\n",
      "    Iavg = np.abs(Pr)**2 / (2.0*rho*c0)\n",
      "    Tdot[:] = 2.0*(alpha_acc)*Iavg / (rhoCp)\n",
      "    \n",
      "    elapsedTime = timeZero\n",
      "    sonicationEndTimes = np.zeros(numSonicationPoints);\n",
      "    \n",
      "    if onroi is None:\n",
      "        onroi= (calcGridDist( [0,0,0.14] ) < 0.005)\n",
      "    \n",
      "        \n",
      "    ti=0\n",
      "    while ti < numSonicationPoints :\n",
      "        \n",
      "        print('%d / %d' % (ti+1, numSonicationPoints), end =' ')\n",
      "        \n",
      "        dwell = xdcDwells[ti];\n",
      "        Tdot[:] = 2.0*(alpha_acc)* imp.shiftImageRegular3D(Iavg,xedges,yedges,zedges, -xdcPoints[ti]) / (rhoCp)\n",
      "        Tmax, duration = sonication_heating(T, CEM, dwell, Tmax=Tmax, Freeflow=Freeflow )\n",
      "        \n",
      "        elapsedTime += duration\n",
      "        \n",
      "        wait = xdcWaits[ti];\n",
      "        Tdot[:] = 0\n",
      "        Tmax, duration = sonication_heating(T, CEM, wait, Tmax=Tmax, Freeflow=Freeflow )\n",
      "        \n",
      "        elapsedTime += duration\n",
      "        sonicationEndTimes[ti] = elapsedTime\n",
      "        CEMvst[ti] = CEM\n",
      "        TempOnvsTime[ti] = np.mean(T[0][onroi])\n",
      "        if offroi is None:\n",
      "            TempOffvsTime[ti] = np.mean(T[0])\n",
      "        else:\n",
      "            TempOffvsTime[ti] = np.mean(T[0][offroi])\n",
      "        ti+=1\n",
      "            \n",
      "    return (Tmax, sonicationEndTimes, elapsedTime)"
     ],
     "language": "python",
     "metadata": {},
     "outputs": [],
     "prompt_number": 26
    },
    {
     "cell_type": "heading",
     "level": 1,
     "metadata": {},
     "source": [
      "Trajectory definition"
     ]
    },
    {
     "cell_type": "code",
     "collapsed": false,
     "input": [
      "maxR_mm = 10\n",
      "turnspace_mm=4\n",
      "minR_mm = turnspace_mm / 2.0\n",
      "z_mm = 140;\n",
      "\n",
      "nturns = ceil( (maxR_mm - minR_mm)/turnspace_mm )\n",
      "\n",
      "avgSpeed_mm_per_sec=0.6\n",
      "focalpoint_dwell_seconds=6\n",
      "wait=2\n",
      "\n",
      "turn_radii_mm = minR_mm + turnspace_mm*np.arange(0,nturns)\n",
      "num_sonications_per_turn = (np.round( (2*pi*turn_radii_mm/avgSpeed_mm_per_sec) / focalpoint_dwell_seconds ) );\n",
      "\n",
      "num_sonications_total = np.sum(num_sonications_per_turn)\n",
      "focalpoint_coords_mm = np.zeros([num_sonications_total, 3])\n",
      "pass_relative_amplitudes = np.zeros([num_sonications_total, 256])\n",
      "\n",
      "turnIdxStart=0;\n",
      "for n in range(0,nturns):\n",
      "    ns = num_sonications_per_turn[n]\n",
      "    phis = np.arange(1,ns+1)*(2.0*pi/ns) + 0.5*(2.0*pi/ns)\n",
      "    x = turn_radii_mm[n]*np.cos(phis)\n",
      "    y = turn_radii_mm[n]*np.sin(phis)\n",
      "    z = z_mm*np.ones(ns);\n",
      "    \n",
      "    i = turnIdxStart\n",
      "    \n",
      "    focalpoint_coords_mm[i:(i+ns),0] = x;\n",
      "    focalpoint_coords_mm[i:(i+ns),1] = y;\n",
      "    focalpoint_coords_mm[i:(i+ns),2] = z;\n",
      "    \n",
      "    turnIdxStart += ns\n",
      "    \n",
      "plt.plot( focalpoint_coords_mm[:,0], focalpoint_coords_mm[:,1], '*-' )"
     ],
     "language": "python",
     "metadata": {},
     "outputs": [
      {
       "metadata": {},
       "output_type": "pyout",
       "prompt_number": 3,
       "text": [
        "[<matplotlib.lines.Line2D at 0x6d7bc50>]"
       ]
      },
      {
       "metadata": {},
       "output_type": "display_data",
       "png": "[encoded data removed]",
       "text": [
        "<matplotlib.figure.Figure at 0x6d38d30>"
       ]
      }
     ],
     "prompt_number": 3
    },
    {
     "cell_type": "code",
     "collapsed": false,
     "input": [
      "num_sonications_total*(focalpoint_dwell_seconds + wait)"
     ],
     "language": "python",
     "metadata": {},
     "outputs": [
      {
       "metadata": {},
       "output_type": "pyout",
       "prompt_number": 4,
       "text": [
        "104.0"
       ]
      }
     ],
     "prompt_number": 4
    },
    {
     "cell_type": "code",
     "collapsed": false,
     "input": [
      "(T[0][list( map ( lambda v: ( calcGridDist( v ) < 0.005), [[0,0,0.14]] ) )]).shape"
     ],
     "language": "python",
     "metadata": {},
     "outputs": [
      {
       "metadata": {},
       "output_type": "pyout",
       "prompt_number": 18,
       "text": [
        "(568,)"
       ]
      }
     ],
     "prompt_number": 18
    },
    {
     "cell_type": "code",
     "collapsed": false,
     "input": [
      "np.mean(T[0][list( map ( lambda v: ( calcGridDist( v ) < 0.005), [[0,0,0.14]] ) )])"
     ],
     "language": "python",
     "metadata": {},
     "outputs": [
      {
       "metadata": {},
       "output_type": "pyout",
       "prompt_number": 19,
       "text": [
        "0.0"
       ]
      }
     ],
     "prompt_number": 19
    },
    {
     "cell_type": "code",
     "collapsed": false,
     "input": [
      "(calcGridDist( [0,0,0.14] ) < 0.005).shape"
     ],
     "language": "python",
     "metadata": {},
     "outputs": [
      {
       "metadata": {},
       "output_type": "pyout",
       "prompt_number": 22,
       "text": [
        "(80, 80, 80)"
       ]
      }
     ],
     "prompt_number": 22
    },
    {
     "cell_type": "heading",
     "level": 1,
     "metadata": {},
     "source": [
      "Simulation"
     ]
    },
    {
     "cell_type": "code",
     "collapsed": false,
     "input": [
      "uxyz = sonalleve.get_sonalleve_xdc_vecs()\n",
      "\n",
      "f0 = 1.2e6\n",
      "c0 = 1540\n",
      "k0 = 2.0*pi*(f0/c0)"
     ],
     "language": "python",
     "metadata": {},
     "outputs": [],
     "prompt_number": 5
    },
    {
     "cell_type": "heading",
     "level": 2,
     "metadata": {},
     "source": [
      "Grid definition"
     ]
    },
    {
     "cell_type": "code",
     "collapsed": false,
     "input": [
      "Nx = 80\n",
      "Ny = 80\n",
      "Nz = 80\n",
      "#Nt = 6\n",
      "dt = 0.1\n",
      "\n",
      "nacq0 = num_sonications_total\n",
      "nacq1 = num_sonications_total\n",
      "\n",
      "dwell_time0 = focalpoint_dwell_seconds\n",
      "dwell_time1 = focalpoint_dwell_seconds\n",
      "wait_time = wait\n",
      "\n",
      "maxDwell=dwell_time0\n",
      "if maxDwell < dwell_time1:\n",
      "    maxDwell=dwell_time1\n",
      "Nt = round(maxDwell/dt)\n",
      "\n",
      "xedges = 1e-2*np.linspace(-4.0, 4.0,Nx+1)\n",
      "yedges = 1e-2*np.linspace(-4.0, 4.0,Ny+1)\n",
      "zedges = 1e-2*np.linspace(11.0, 18.0,Nz+1)\n",
      "\n",
      "xrp = xedges[0:Nx]\n",
      "yrp = yedges[0:Ny]\n",
      "zrp = zedges[0:Nz]\n",
      "\n",
      "gxp,gyp,gzp = np.meshgrid(xrp, yrp, zrp, sparse=False, indexing='ij')\n",
      "calcGridDist= lambda rr: np.sqrt((gxp-rr[0])**2 + (gyp-rr[1])**2 + (gzp-rr[2])**2)\n",
      "\n",
      "dx = xrp[1]-xrp[0]\n",
      "dy = yrp[1]-yrp[0]\n",
      "dz = zrp[1]-zrp[0]\n",
      "\n",
      "#dt = 0.1\n",
      "res = np.array([dt,dx,dy,dz])\n",
      "voxVol=dx*dy*dz\n",
      "\n",
      "zplane=0.14\n",
      "focplaneZpix=np.where(np.logical_and( (zrp[1:-1]-zplane>=0) , (zrp[0:-2]-zplane<0) ))[0][0]\n",
      "\n",
      "roiVolumeZPix = np.where(np.logical_and( (zrp>=zplane-0.01) , (zrp<=zplane+0.01) ))[0]\n",
      "\n",
      "roiOnTarget = np.logical_and( np.sqrt(gxp**2 + gyp**2) <= (1e-3*maxR_mm), np.abs(gzp-0.14) <= 0.005 )\n",
      "roiOffTarget = np.logical_and( np.sqrt(gxp**2 + gyp**2) <= 0.025, np.abs(gzp-0.14) <= 0.015 )\n",
      "roiOffTarget = np.logical_and(roiOffTarget, np.logical_not(roiOnTarget) ) \n",
      "\n",
      "monitorVolXPix = np.where(np.logical_and( (xrp>=-0.01) , (xrp<=0.01) ))[0]\n",
      "monitorVolYPix = np.where(np.logical_and( (yrp>=-0.01) , (yrp<=0.01) ))[0]\n",
      "monitorVolZPix = np.where(np.logical_and( (zrp>=0.11) , (zrp<=0.115) ))[0]\n",
      "\n",
      "monitorVolPix = np.meshgrid(monitorVolXPix, monitorVolYPix, monitorVolZPix, sparse=False, indexing='ij')"
     ],
     "language": "python",
     "metadata": {},
     "outputs": [],
     "prompt_number": 25
    },
    {
     "cell_type": "code",
     "collapsed": false,
     "input": [
      "# ----- allocate numpy data arrays --- #\n",
      "T = np.zeros([Nt,Nx,Ny,Nz])\n",
      "Tdot = np.zeros([Nx,Ny,Nz])\n",
      "kdiff = np.zeros([Nx,Ny,Nz])\n",
      "rhoCp = np.zeros([Nx,Ny,Nz])\n",
      "\n",
      "# ---- Create C++ mesh objects ---\n",
      "Tmesh = PBHEswig.mesh4d()\n",
      "Tdotmesh = PBHEswig.mesh34d();\n",
      "kmesh = PBHEswig.mesh3d();\n",
      "rhoCpmesh = PBHEswig.mesh3d();\n",
      "\n",
      "# ----- tie data arrays to mesh objects (to pass to C++) ---\n",
      "# the data in each mesh can now be accessed/manipulated from python via the arrays, 'T', 'Tdot', etc.\n",
      "PBHEswig.ShareMemoryMesh4(T, res, Tmesh)\n",
      "PBHEswig.ShareMemoryMesh34(Tdot, res, Tdotmesh)\n",
      "PBHEswig.ShareMemoryMesh3(kdiff, res[1:4], kmesh)\n",
      "PBHEswig.ShareMemoryMesh3(rhoCp, res[1:4], rhoCpmesh)\n",
      "\n",
      "CEM0 = np.zeros([Nx,Ny,Nz])\n",
      "CEM1 = np.zeros([Nx,Ny,Nz])\n",
      "Rbase = np.zeros([Nx,Ny,Nz])\n",
      "\n",
      "CEM0vsTime=np.zeros([nacq0,Nx,Ny,Nz])\n",
      "CEM1vsTime=np.zeros([nacq1,Nx,Ny,Nz])\n",
      "\n",
      "Tmax0 = np.zeros([Nx,Ny,Nz])\n",
      "Tmax1 = np.zeros([Nx,Ny,Nz])"
     ],
     "language": "python",
     "metadata": {},
     "outputs": [],
     "prompt_number": 9
    },
    {
     "cell_type": "code",
     "collapsed": false,
     "input": [
      "del Tmesh,Tdotmesh,kmesh,rhoCpmesh, T,Tdot,kdiff,rhoCp, CEM0, CEM1, Rbase, CEM0vsTime, CEM1vsTime, Tmax0, Tmax1"
     ],
     "language": "python",
     "metadata": {},
     "outputs": [],
     "prompt_number": 100
    },
    {
     "cell_type": "heading",
     "level": 2,
     "metadata": {},
     "source": [
      "Initialize"
     ]
    },
    {
     "cell_type": "code",
     "collapsed": false,
     "input": [
      "#initial conditions\n",
      "rho=3700\n",
      "ktdiffusion=0.6\n",
      "kdiff[:] = ktdiffusion;\n",
      "rhoCp[:] = rho*1000;\n",
      "\n",
      "CEM0[:] =0\n",
      "CEM1[:] = 0\n",
      "\n",
      "perfRate = 0.00;\n",
      "\n",
      "alpha_acc = 2.75; #Np/m (5.75 Np/m = 0.5 dB/cm)"
     ],
     "language": "python",
     "metadata": {},
     "outputs": [],
     "prompt_number": 10
    },
    {
     "cell_type": "heading",
     "level": 1,
     "metadata": {},
     "source": [
      "Acoustic Fields"
     ]
    },
    {
     "cell_type": "code",
     "collapsed": false,
     "input": [
      "#single\n",
      "\n",
      "N = uxyz.shape[0]\n",
      "\n",
      "Ispta0 = 1.75e7;\n",
      "\n",
      "uamp0 = np.ones(N) / N\n",
      "\n",
      "P0 = sonalleve.calc_pressure_field(k0, geom.translate3vecs(uxyz, np.array([0, 0, 0 ]) ), uamp0, xrp, yrp, zrp)\n",
      "I0 = np.abs(P0)**2 / (2.0*rho*c0)\n",
      "\n",
      "powerRenorm = (Ispta0/np.max(I0))\n",
      "I0 *= powerRenorm\n",
      "\n",
      "#update uamp0\n",
      "uamp0 *= sqrt(powerRenorm)"
     ],
     "language": "python",
     "metadata": {},
     "outputs": [],
     "prompt_number": 12
    },
    {
     "cell_type": "heading",
     "level": 3,
     "metadata": {},
     "source": [
      "Multi-focus pattern def"
     ]
    },
    {
     "cell_type": "code",
     "collapsed": false,
     "input": [
      "\n",
      "\n",
      "d=0.0045;\n",
      "#h=d*sin(pi/3);\n",
      "#triangle,h = geom.equilateral_tri(d)\n",
      "#pxyz=triangle\n",
      "\n",
      "M=7\n",
      "ring,radius = geom.ring(d,M)\n",
      "h=radius\n",
      "pxyz=ring;\n",
      "\n",
      "pxyz[:,2]=0.14\n",
      "p0 = 1e7*np.ones(len(pxyz));\n",
      "\n",
      "pcentroid = np.mean(pxyz,0);\n",
      "\n",
      "uamp1 = transducers.get_focused_element_vals(k0, uxyz, pxyz, p0 )\n",
      "#uamp1 = sqrt(powerRenorm)*uamp0\n",
      "uamp1 = sqrt(powerRenorm)*( uamp1  ) / sum(abs(uamp1))\n",
      "\n",
      "P1 = sonalleve.calc_pressure_field(k0, geom.translate3vecs(uxyz, np.array([0, 0, 0 ]) ), uamp1, xrp, yrp, zrp)\n",
      "I1reg = np.abs(P1)**2 / (2.0*rho*c0)"
     ],
     "language": "python",
     "metadata": {},
     "outputs": [],
     "prompt_number": 155
    },
    {
     "cell_type": "code",
     "collapsed": false,
     "input": [
      "# Execute with 'modifyPower=1' to make the multi-focus spots each correspond to a specfic intensity. \n",
      "# Otherwise the total input power will set to the same as in the single focus case, so multi-focal spots \n",
      "# will have lower intensity in each spot\n",
      "\n",
      "modifyPower=0\n",
      "\n",
      "if modifyPower:\n",
      "    #Ispta1 = 1.2e7;\n",
      "    #Ispta1 = Ispta0\n",
      "    #powerAdj1 = (Ispta1/np.max(I1reg))\n",
      "    \n",
      "    powerAdj1=1.5\n",
      "    Ispta1=powerAdj1*Ispta0\n",
      "    uamp1adj = sqrt(powerAdj1)*( uamp1  ) \n",
      "else:\n",
      "    Ispta1 = np.max(I1reg)\n",
      "    powerAdj1=1;\n",
      "    uamp1adj = sqrt(powerAdj1)*( uamp1  ) \n",
      "    \n",
      "\n",
      "I1 =powerAdj1*I1reg "
     ],
     "language": "python",
     "metadata": {},
     "outputs": [],
     "prompt_number": 156
    },
    {
     "cell_type": "code",
     "collapsed": false,
     "input": [
      "plt.imshow(I1reg[:,:,focplaneZpix])"
     ],
     "language": "python",
     "metadata": {},
     "outputs": [
      {
       "metadata": {},
       "output_type": "pyout",
       "prompt_number": 157,
       "text": [
        "<matplotlib.image.AxesImage at 0x44526908>"
       ]
      },
      {
       "metadata": {},
       "output_type": "display_data",
       "png": "[encoded data removed]",
       "text": [
        "<matplotlib.figure.Figure at 0x84bec18>"
       ]
      }
     ],
     "prompt_number": 157
    },
    {
     "cell_type": "heading",
     "level": 1,
     "metadata": {},
     "source": [
      "Sonication 0"
     ]
    },
    {
     "cell_type": "code",
     "collapsed": false,
     "input": [
      "npass0=4\n",
      "CEM0passFinal = np.zeros([npass0,Nx,Ny,Nz])\n",
      "Tmax0passFinal = np.zeros([npass0,Nx,Ny,Nz])\n",
      "T0passFinal = np.zeros([npass0,Nx,Ny,Nz])\n",
      "CEM0vsTimevsPass = np.zeros([npass0,nacq1,Nx,Ny,Nz])\n",
      "sonicationEndTimesvsPass0 = np.zeros([npass0, nacq0])\n",
      "Temp0vsTimevsPassON = np.zeros([npass0, nacq0])\n",
      "Temp0vsTimevsPassOFF = np.zeros([npass0, nacq0])"
     ],
     "language": "python",
     "metadata": {},
     "outputs": [],
     "prompt_number": 27
    },
    {
     "cell_type": "code",
     "collapsed": false,
     "input": [
      "del CEM0passFinal, Tmax0passFinal, T0passFinal, CEM0vsTimevsPass , sonicationEndTimesvsPass0, Temp0vsTimevsPassON, Temp0vsTimevsPassOFF"
     ],
     "language": "python",
     "metadata": {},
     "outputs": []
    },
    {
     "cell_type": "code",
     "collapsed": false,
     "input": [
      "T0=22\n",
      "T[0][:]=T0\n",
      "CEM0[:]=0\n",
      "CEM0vsTime[0][:]=0\n",
      "Tmax0[:]=0\n",
      "\n",
      "\n",
      "endTime=0.0;\n",
      "try:\n",
      "    del xdcDwells, xdcWaits, xdcPoints\n",
      "except NameError:\n",
      "   1\n",
      "    \n",
      "xdcDwells = dwell_time1*np.ones([nacq0])\n",
      "xdcWaits = wait_time*np.ones([nacq0])\n",
      "xdcPoints = 1e-3*focalpoint_coords_mm\n",
      "xdcPoints[:,2]=0\n",
      "\n",
      "for n in range(0,2):\n",
      "    print('pass # ', n+1)\n",
      "\n",
      "    Tmax0, sonicationEndTimes, elapsedTime = sonication_heating_physical_move_nofeedback(\n",
      "                                                    xdcDwells,xdcWaits, xdcPoints, uamp0,\n",
      "                                                    CEM0, CEM0vsTime, Temp0vsTimevsPassON[n], Temp0vsTimevsPassOFF[n],\n",
      "                                                    Tmax=Tmax0, timeZero=endTime, Freeflow=0, onroi=roiOnTarget, offroi=roiOffTarget)\n",
      "    \n",
      "    Tfinal0 = T[0].copy()\n",
      "    \n",
      "    CEM0passFinal[n] = CEM0;\n",
      "    Tmax0passFinal[n] = Tmax0\n",
      "    T0passFinal[n] = Tfinal0\n",
      "    CEM0vsTimevsPass[n] = CEM0vsTime;\n",
      "    sonicationEndTimesvsPass0[n] = sonicationEndTimes\n",
      "    \n",
      "    endTime = sonicationEndTimes[-1];"
     ],
     "language": "python",
     "metadata": {},
     "outputs": [
      {
       "output_type": "stream",
       "stream": "stdout",
       "text": [
        "pass #  1\n"
       ]
      },
      {
       "ename": "KeyboardInterrupt",
       "evalue": "",
       "output_type": "pyerr",
       "traceback": [
        "\u001b[1;31m---------------------------------------------------------------------------\u001b[0m\n\u001b[1;31mKeyboardInterrupt\u001b[0m                         Traceback (most recent call last)",
        "\u001b[1;32m<ipython-input-158-d66a6d2dde17>\u001b[0m in \u001b[0;36m<module>\u001b[1;34m()\u001b[0m\n\u001b[0;32m     23\u001b[0m                                                     \u001b[0mxdcDwells\u001b[0m\u001b[1;33m,\u001b[0m\u001b[0mxdcWaits\u001b[0m\u001b[1;33m,\u001b[0m \u001b[0mxdcPoints\u001b[0m\u001b[1;33m,\u001b[0m \u001b[0muamp0\u001b[0m\u001b[1;33m,\u001b[0m\u001b[1;33m\u001b[0m\u001b[0m\n\u001b[0;32m     24\u001b[0m                                                     \u001b[0mCEM0\u001b[0m\u001b[1;33m,\u001b[0m \u001b[0mCEM0vsTime\u001b[0m\u001b[1;33m,\u001b[0m \u001b[0mTemp0vsTimevsPassON\u001b[0m\u001b[1;33m[\u001b[0m\u001b[0mn\u001b[0m\u001b[1;33m]\u001b[0m\u001b[1;33m,\u001b[0m \u001b[0mTemp0vsTimevsPassOFF\u001b[0m\u001b[1;33m[\u001b[0m\u001b[0mn\u001b[0m\u001b[1;33m]\u001b[0m\u001b[1;33m,\u001b[0m\u001b[1;33m\u001b[0m\u001b[0m\n\u001b[1;32m---> 25\u001b[1;33m                                                     Tmax=Tmax0, timeZero=endTime, Freeflow=0, onroi=roiOnTarget, offroi=roiOffTarget)\n\u001b[0m\u001b[0;32m     26\u001b[0m \u001b[1;33m\u001b[0m\u001b[0m\n\u001b[0;32m     27\u001b[0m     \u001b[0mTfinal0\u001b[0m \u001b[1;33m=\u001b[0m \u001b[0mT\u001b[0m\u001b[1;33m[\u001b[0m\u001b[1;36m0\u001b[0m\u001b[1;33m]\u001b[0m\u001b[1;33m.\u001b[0m\u001b[0mcopy\u001b[0m\u001b[1;33m(\u001b[0m\u001b[1;33m)\u001b[0m\u001b[1;33m\u001b[0m\u001b[0m\n",
        "\u001b[1;32m<ipython-input-26-c5a8f20fde5c>\u001b[0m in \u001b[0;36msonication_heating_physical_move_nofeedback\u001b[1;34m(xdcDwells, xdcWaits, xdcPoints, uamp, CEM, CEMvst, TempOnvsTime, TempOffvsTime, Tmax, frad, timeZero, Freeflow, onroi, offroi)\u001b[0m\n\u001b[0;32m    146\u001b[0m \u001b[1;33m\u001b[0m\u001b[0m\n\u001b[0;32m    147\u001b[0m     \u001b[1;31m#pre-calc HIFU-induced source term (not actual dT/dt, just what is due to HIFU)\u001b[0m\u001b[1;33m\u001b[0m\u001b[1;33m\u001b[0m\u001b[0m\n\u001b[1;32m--> 148\u001b[1;33m     \u001b[0mPr\u001b[0m \u001b[1;33m=\u001b[0m \u001b[0msonalleve\u001b[0m\u001b[1;33m.\u001b[0m\u001b[0mcalc_pressure_field\u001b[0m\u001b[1;33m(\u001b[0m\u001b[0mk0\u001b[0m\u001b[1;33m,\u001b[0m \u001b[0muxyz\u001b[0m\u001b[1;33m,\u001b[0m \u001b[0muamp\u001b[0m\u001b[1;33m,\u001b[0m \u001b[0mxrp\u001b[0m\u001b[1;33m,\u001b[0m \u001b[0myrp\u001b[0m\u001b[1;33m,\u001b[0m \u001b[0mzrp\u001b[0m\u001b[1;33m)\u001b[0m\u001b[1;33m\u001b[0m\u001b[0m\n\u001b[0m\u001b[0;32m    149\u001b[0m     \u001b[0mIavg\u001b[0m \u001b[1;33m=\u001b[0m \u001b[0mnp\u001b[0m\u001b[1;33m.\u001b[0m\u001b[0mabs\u001b[0m\u001b[1;33m(\u001b[0m\u001b[0mPr\u001b[0m\u001b[1;33m)\u001b[0m\u001b[1;33m**\u001b[0m\u001b[1;36m2\u001b[0m \u001b[1;33m/\u001b[0m \u001b[1;33m(\u001b[0m\u001b[1;36m2.0\u001b[0m\u001b[1;33m*\u001b[0m\u001b[0mrho\u001b[0m\u001b[1;33m*\u001b[0m\u001b[0mc0\u001b[0m\u001b[1;33m)\u001b[0m\u001b[1;33m\u001b[0m\u001b[0m\n\u001b[0;32m    150\u001b[0m     \u001b[0mTdot\u001b[0m\u001b[1;33m[\u001b[0m\u001b[1;33m:\u001b[0m\u001b[1;33m]\u001b[0m \u001b[1;33m=\u001b[0m \u001b[1;36m2.0\u001b[0m\u001b[1;33m*\u001b[0m\u001b[1;33m(\u001b[0m\u001b[0malpha_acc\u001b[0m\u001b[1;33m)\u001b[0m\u001b[1;33m*\u001b[0m\u001b[0mIavg\u001b[0m \u001b[1;33m/\u001b[0m \u001b[1;33m(\u001b[0m\u001b[0mrhoCp\u001b[0m\u001b[1;33m)\u001b[0m\u001b[1;33m\u001b[0m\u001b[0m\n",
        "\u001b[1;32mC:\\Users\\vchaplin\\Documents\\HiFU\\code\\myPy\\sonalleve.py\u001b[0m in \u001b[0;36mcalc_pressure_field\u001b[1;34m(kwavenum, upos, uamp, xarray, yarray, zarray)\u001b[0m\n\u001b[0;32m     47\u001b[0m     \u001b[0muamp\u001b[0m \u001b[1;32mis\u001b[0m \u001b[0ma\u001b[0m \u001b[0mN\u001b[0m\u001b[1;33m-\u001b[0m\u001b[0mlength\u001b[0m \u001b[1;36m1\u001b[0m\u001b[0md\u001b[0m \u001b[0marray\u001b[0m \u001b[0mof\u001b[0m \u001b[0mamplitudes\u001b[0m\u001b[1;33m\u001b[0m\u001b[0m\n\u001b[0;32m     48\u001b[0m     \"\"\"\n\u001b[1;32m---> 49\u001b[1;33m     \u001b[1;32mreturn\u001b[0m \u001b[0mtransducers\u001b[0m\u001b[1;33m.\u001b[0m\u001b[0mcalc_pressure_field\u001b[0m\u001b[1;33m(\u001b[0m\u001b[0mkwavenum\u001b[0m\u001b[1;33m,\u001b[0m \u001b[0mupos\u001b[0m\u001b[1;33m,\u001b[0m \u001b[0muamp\u001b[0m\u001b[1;33m,\u001b[0m \u001b[0mxarray\u001b[0m\u001b[1;33m,\u001b[0m \u001b[0myarray\u001b[0m\u001b[1;33m,\u001b[0m \u001b[0mzarray\u001b[0m\u001b[1;33m)\u001b[0m\u001b[1;33m\u001b[0m\u001b[0m\n\u001b[0m\u001b[0;32m     50\u001b[0m \u001b[1;33m\u001b[0m\u001b[0m\n\u001b[0;32m     51\u001b[0m \u001b[1;33m\u001b[0m\u001b[0m\n",
        "\u001b[1;32mC:\\Users\\vchaplin\\Documents\\HiFU\\code\\myPy\\transducers.py\u001b[0m in \u001b[0;36mcalc_pressure_field\u001b[1;34m(kwavenum, upos, uamp, xarray, yarray, zarray)\u001b[0m\n\u001b[0;32m    105\u001b[0m         \u001b[0mRn\u001b[0m \u001b[1;33m=\u001b[0m \u001b[0mcalcdist\u001b[0m\u001b[1;33m(\u001b[0m\u001b[0mupos\u001b[0m\u001b[1;33m[\u001b[0m\u001b[0mn\u001b[0m\u001b[1;33m]\u001b[0m\u001b[1;33m)\u001b[0m\u001b[1;33m\u001b[0m\u001b[0m\n\u001b[0;32m    106\u001b[0m \u001b[1;33m\u001b[0m\u001b[0m\n\u001b[1;32m--> 107\u001b[1;33m         \u001b[0mP\u001b[0m \u001b[1;33m+=\u001b[0m \u001b[0muamp\u001b[0m\u001b[1;33m[\u001b[0m\u001b[0mn\u001b[0m\u001b[1;33m]\u001b[0m\u001b[1;33m*\u001b[0m\u001b[1;36m1j\u001b[0m\u001b[1;33m*\u001b[0m\u001b[0mnumpy\u001b[0m\u001b[1;33m.\u001b[0m\u001b[0mexp\u001b[0m\u001b[1;33m(\u001b[0m\u001b[1;33m-\u001b[0m\u001b[1;36m1j\u001b[0m\u001b[1;33m*\u001b[0m\u001b[0mkwavenum\u001b[0m\u001b[1;33m*\u001b[0m\u001b[0mRn\u001b[0m \u001b[1;33m)\u001b[0m \u001b[1;33m/\u001b[0m \u001b[0mRn\u001b[0m\u001b[1;33m\u001b[0m\u001b[0m\n\u001b[0m\u001b[0;32m    108\u001b[0m \u001b[1;33m\u001b[0m\u001b[0m\n\u001b[0;32m    109\u001b[0m \u001b[1;33m\u001b[0m\u001b[0m\n",
        "\u001b[1;31mKeyboardInterrupt\u001b[0m: "
       ]
      }
     ],
     "prompt_number": 158
    },
    {
     "cell_type": "code",
     "collapsed": false,
     "input": [
      "passnum=0\n",
      "\n",
      "n=1\n",
      "fig=plt.figure(figsize=(16,7))\n",
      "ax1=fig.add_subplot(141)\n",
      "\n",
      "colormap = image.cm.jet\n",
      "\n",
      "im1=ax1.imshow(np.transpose(Tmax0passFinal[passnum][:,:,focplaneZpix]), vmin=T0,vmax=(T0+30), cmap=colormap, origin='lower', \n",
      "               extent=[100*xrp[0], 100*xrp[-1], 100*yrp[0], 100*yrp[-1]], interpolation=\"none\")\n",
      "\n",
      "ax1.plot(100*xdcPoints[:,0], 100*xdcPoints[:,1], 'b--*')\n",
      "\n",
      "ax2=fig.add_subplot(142)\n",
      "im2=ax2.imshow(np.transpose(Tmax0passFinal[passnum][:,floor(Ny/2),:]), vmin=T0,vmax=(T0+30), cmap=colormap, origin='lower', \n",
      "               extent=[100*xrp[0], 100*xrp[-1], 100*zrp[0], 100*zrp[-1]], interpolation=\"none\")\n",
      "\n",
      "ax3=fig.add_subplot(143)\n",
      "im3=ax3.imshow(np.transpose(CEM0vsTimevsPass[passnum][n, :,:,focplaneZpix]), vmin=0,vmax=240, cmap=colormap, origin='lower', extent=[100*xrp[0], 100*xrp[-1], 100*yrp[0], 100*yrp[-1]])\n",
      "#ax3.plot(x1,y1,'*--')\n",
      "ax4=fig.add_subplot(144)\n",
      "im4=ax4.imshow(np.transpose(CEM0vsTimevsPass[passnum][n, :,floor(Ny/2),:]), vmin=0,vmax=240, cmap=colormap, origin='lower', extent=[100*xrp[0], 100*xrp[-1], 100*zrp[0], 100*zrp[-1]])\n",
      "\n",
      "\n",
      "cb1=plt.colorbar(mappable=im1, ax=ax1, orientation='vertical')\n",
      "cb2=plt.colorbar(mappable=im2, ax=ax2, orientation='vertical')\n",
      "cb3=plt.colorbar(mappable=im3, ax=ax3, orientation='horizontal')\n",
      "cb4=plt.colorbar(mappable=im4, ax=ax4, orientation='horizontal')\n",
      "cb1.set_label('C')\n",
      "cb2.set_label('C')\n",
      "cb3.set_label('CEM')\n",
      "cb4.set_label('CEM')"
     ],
     "language": "python",
     "metadata": {},
     "outputs": [
      {
       "metadata": {},
       "output_type": "display_data",
       "png": "[encoded data removed]",
       "text": [
        "<matplotlib.figure.Figure at 0x20a41ba8>"
       ]
      }
     ],
     "prompt_number": 154
    },
    {
     "cell_type": "heading",
     "level": 1,
     "metadata": {},
     "source": [
      "Sonication 1"
     ]
    },
    {
     "cell_type": "code",
     "collapsed": false,
     "input": [
      "npass1=4\n",
      "CEM1passFinal = np.zeros([npass1,Nx,Ny,Nz])\n",
      "Tmax1passFinal = np.zeros([npass1,Nx,Ny,Nz])\n",
      "T1passFinal = np.zeros([npass1,Nx,Ny,Nz])\n",
      "CEM1vsTimevsPass = np.zeros([npass1,nacq1,Nx,Ny,Nz])\n",
      "sonicationEndTimesvsPass = np.zeros([npass1, nacq1])\n",
      "Temp1vsTimevsPassON = np.zeros([npass1, nacq1])\n",
      "Temp1vsTimevsPassOFF = np.zeros([npass1, nacq1])"
     ],
     "language": "python",
     "metadata": {},
     "outputs": [],
     "prompt_number": 31
    },
    {
     "cell_type": "code",
     "collapsed": false,
     "input": [
      "del CEM1passFinal, Tmax1passFinal, T1passFinal, CEM1vsTimevsPass , sonicationEndTimesvsPass, Temp1vsTimevsPassON, Temp1vsTimevsPassOFF"
     ],
     "language": "python",
     "metadata": {},
     "outputs": [],
     "prompt_number": 103
    },
    {
     "cell_type": "code",
     "collapsed": false,
     "input": [
      "T0=22\n",
      "T[0][:]=T0\n",
      "CEM1[:]=0\n",
      "CEM1vsTime[0][:]=0\n",
      "Tmax1[:]=0\n",
      "\n",
      "\n",
      "endTime=0.0;\n",
      "try:\n",
      "    del xdcDwells, xdcWaits, xdcPoints\n",
      "except NameError:\n",
      "   1\n",
      "    \n",
      "xdcDwells = dwell_time1*np.ones([nacq1])\n",
      "xdcWaits = wait_time*np.ones([nacq1])\n",
      "xdcPoints = 1e-3*focalpoint_coords_mm\n",
      "xdcPoints[:,2]=0\n",
      "\n",
      "for n in range(0,2):\n",
      "    print('pass # ', n+1)\n",
      "\n",
      "    Tmax1, sonicationEndTimes, elapsedTime = sonication_heating_physical_move_nofeedback(\n",
      "                                                    xdcDwells,xdcWaits, xdcPoints, uamp1adj,\n",
      "                                                    CEM1, CEM1vsTime, Temp1vsTimevsPassON[n], Temp1vsTimevsPassOFF[n], \n",
      "                                                    Tmax=Tmax1, timeZero=endTime, Freeflow=0, onroi=roiOnTarget, offroi=roiOffTarget)\n",
      "    \n",
      "    Tfinal1 = T[0].copy()\n",
      "    \n",
      "    CEM1passFinal[n] = CEM1;\n",
      "    Tmax1passFinal[n] = Tmax1\n",
      "    T1passFinal[n] = Tfinal1\n",
      "    CEM1vsTimevsPass[n] = CEM1vsTime;\n",
      "    sonicationEndTimesvsPass[n] = sonicationEndTimes\n",
      "    \n",
      "    endTime = sonicationEndTimes[-1];"
     ],
     "language": "python",
     "metadata": {},
     "outputs": [
      {
       "output_type": "stream",
       "stream": "stdout",
       "text": [
        "pass #  1\n",
        "1 / 13"
       ]
      },
      {
       "output_type": "stream",
       "stream": "stdout",
       "text": [
        " 0%\r",
        "0%"
       ]
      },
      {
       "output_type": "stream",
       "stream": "stdout",
       "text": [
        "\r",
        "2 / 13"
       ]
      },
      {
       "output_type": "stream",
       "stream": "stdout",
       "text": [
        " 0%\r",
        "0%"
       ]
      },
      {
       "output_type": "stream",
       "stream": "stdout",
       "text": [
        "\r",
        "3 / 13"
       ]
      },
      {
       "output_type": "stream",
       "stream": "stdout",
       "text": [
        " 0%\r",
        "0%"
       ]
      },
      {
       "output_type": "stream",
       "stream": "stdout",
       "text": [
        "\r",
        "4 / 13"
       ]
      },
      {
       "output_type": "stream",
       "stream": "stdout",
       "text": [
        " 0%\r",
        "0%"
       ]
      },
      {
       "output_type": "stream",
       "stream": "stdout",
       "text": [
        "\r",
        "5 / 13"
       ]
      },
      {
       "output_type": "stream",
       "stream": "stdout",
       "text": [
        " 0%\r",
        "0%"
       ]
      },
      {
       "output_type": "stream",
       "stream": "stdout",
       "text": [
        "\r",
        "6 / 13"
       ]
      },
      {
       "output_type": "stream",
       "stream": "stdout",
       "text": [
        " 0%\r",
        "0%"
       ]
      },
      {
       "output_type": "stream",
       "stream": "stdout",
       "text": [
        "\r",
        "7 / 13"
       ]
      },
      {
       "output_type": "stream",
       "stream": "stdout",
       "text": [
        " 0%\r",
        "0%"
       ]
      },
      {
       "output_type": "stream",
       "stream": "stdout",
       "text": [
        "\r",
        "8 / 13"
       ]
      },
      {
       "output_type": "stream",
       "stream": "stdout",
       "text": [
        " 0%\r",
        "0%"
       ]
      },
      {
       "output_type": "stream",
       "stream": "stdout",
       "text": [
        "\r",
        "9 / 13"
       ]
      },
      {
       "output_type": "stream",
       "stream": "stdout",
       "text": [
        " 0%\r",
        "0%"
       ]
      },
      {
       "output_type": "stream",
       "stream": "stdout",
       "text": [
        "\r",
        "10 / 13"
       ]
      },
      {
       "output_type": "stream",
       "stream": "stdout",
       "text": [
        " 0%\r",
        "0%"
       ]
      },
      {
       "output_type": "stream",
       "stream": "stdout",
       "text": [
        "\r",
        "11 / 13"
       ]
      },
      {
       "output_type": "stream",
       "stream": "stdout",
       "text": [
        " 0%\r",
        "0%"
       ]
      },
      {
       "output_type": "stream",
       "stream": "stdout",
       "text": [
        "\r",
        "12 / 13"
       ]
      },
      {
       "output_type": "stream",
       "stream": "stdout",
       "text": [
        " 0%\r",
        "0%"
       ]
      },
      {
       "output_type": "stream",
       "stream": "stdout",
       "text": [
        "\r",
        "13 / 13"
       ]
      },
      {
       "output_type": "stream",
       "stream": "stdout",
       "text": [
        " 0%\r",
        "0%"
       ]
      },
      {
       "output_type": "stream",
       "stream": "stdout",
       "text": [
        "\r",
        "pass # "
       ]
      },
      {
       "output_type": "stream",
       "stream": "stdout",
       "text": [
        " 2\n",
        "1 / 13"
       ]
      },
      {
       "output_type": "stream",
       "stream": "stdout",
       "text": [
        " 0%\r",
        "0%"
       ]
      },
      {
       "output_type": "stream",
       "stream": "stdout",
       "text": [
        "\r",
        "2 / 13"
       ]
      },
      {
       "output_type": "stream",
       "stream": "stdout",
       "text": [
        " 0%\r",
        "0%"
       ]
      },
      {
       "output_type": "stream",
       "stream": "stdout",
       "text": [
        "\r",
        "3 / 13"
       ]
      },
      {
       "output_type": "stream",
       "stream": "stdout",
       "text": [
        " 0%\r",
        "0%"
       ]
      },
      {
       "output_type": "stream",
       "stream": "stdout",
       "text": [
        "\r",
        "4 / 13"
       ]
      },
      {
       "output_type": "stream",
       "stream": "stdout",
       "text": [
        " 0%\r",
        "0%"
       ]
      },
      {
       "output_type": "stream",
       "stream": "stdout",
       "text": [
        "\r",
        "5 / 13"
       ]
      },
      {
       "output_type": "stream",
       "stream": "stdout",
       "text": [
        " 0%\r",
        "0%"
       ]
      },
      {
       "output_type": "stream",
       "stream": "stdout",
       "text": [
        "\r",
        "6 / 13"
       ]
      },
      {
       "output_type": "stream",
       "stream": "stdout",
       "text": [
        " 0%\r",
        "0%"
       ]
      },
      {
       "output_type": "stream",
       "stream": "stdout",
       "text": [
        "\r",
        "7 / 13"
       ]
      },
      {
       "output_type": "stream",
       "stream": "stdout",
       "text": [
        " 0%\r",
        "0%"
       ]
      },
      {
       "output_type": "stream",
       "stream": "stdout",
       "text": [
        "\r",
        "8 / 13"
       ]
      },
      {
       "output_type": "stream",
       "stream": "stdout",
       "text": [
        " 0%\r",
        "0%"
       ]
      },
      {
       "output_type": "stream",
       "stream": "stdout",
       "text": [
        "\r",
        "9 / 13"
       ]
      },
      {
       "output_type": "stream",
       "stream": "stdout",
       "text": [
        " 0%\r",
        "0%"
       ]
      },
      {
       "output_type": "stream",
       "stream": "stdout",
       "text": [
        "\r",
        "10 / 13"
       ]
      },
      {
       "output_type": "stream",
       "stream": "stdout",
       "text": [
        " 0%\r",
        "0%"
       ]
      },
      {
       "output_type": "stream",
       "stream": "stdout",
       "text": [
        "\r",
        "11 / 13"
       ]
      },
      {
       "output_type": "stream",
       "stream": "stdout",
       "text": [
        " 0%\r",
        "0%"
       ]
      },
      {
       "output_type": "stream",
       "stream": "stdout",
       "text": [
        "\r",
        "12 / 13"
       ]
      },
      {
       "output_type": "stream",
       "stream": "stdout",
       "text": [
        " 0%\r",
        "0%"
       ]
      },
      {
       "output_type": "stream",
       "stream": "stdout",
       "text": [
        "\r",
        "13 / 13"
       ]
      },
      {
       "output_type": "stream",
       "stream": "stdout",
       "text": [
        " 0%\r",
        "0%"
       ]
      },
      {
       "output_type": "stream",
       "stream": "stdout",
       "text": [
        "\r"
       ]
      }
     ],
     "prompt_number": 159
    },
    {
     "cell_type": "code",
     "collapsed": false,
     "input": [
      "passnum=0\n",
      "\n",
      "\n",
      "n=-1\n",
      "fig=plt.figure(figsize=(16,7))\n",
      "ax1=fig.add_subplot(141)\n",
      "\n",
      "colormap = image.cm.jet\n",
      "\n",
      "im1=ax1.imshow(np.transpose(Tmax1passFinal[passnum][:,:,focplaneZpix]), vmin=T0,vmax=T0+20, cmap=colormap, origin='lower', \n",
      "               extent=[100*xrp[0], 100*xrp[-1], 100*yrp[0], 100*yrp[-1]], interpolation=\"none\")\n",
      "ax1.plot(100*xdcPoints[:,0], 100*xdcPoints[:,1], 'b--*')\n",
      "\n",
      "\n",
      "ax2=fig.add_subplot(142)\n",
      "im2=ax2.imshow(np.transpose(Tmax1passFinal[passnum][:,floor(Ny/2),:]), vmin=T0,vmax=T0+20, cmap=colormap, origin='lower', \n",
      "               extent=[100*xrp[0], 100*xrp[-1], 100*zrp[0], 100*zrp[-1]], interpolation=\"none\")\n",
      "\n",
      "ax3=fig.add_subplot(143)\n",
      "im3=ax3.imshow(np.transpose(CEM1vsTimevsPass[passnum][n, :,:,focplaneZpix]), vmin=0,vmax=240, cmap=colormap, origin='lower', extent=[100*xrp[0], 100*xrp[-1], 100*yrp[0], 100*yrp[-1]])\n",
      "#ax3.plot(x1,y1,'*--')\n",
      "ax4=fig.add_subplot(144)\n",
      "im4=ax4.imshow(np.transpose(CEM1vsTimevsPass[passnum][n, :,floor(Ny/2),:]), vmin=0,vmax=240, cmap=colormap, origin='lower', extent=[100*xrp[0], 100*xrp[-1], 100*zrp[0], 100*zrp[-1]])\n",
      "\n",
      "\n",
      "cb1=plt.colorbar(mappable=im1, ax=ax1, orientation='vertical')\n",
      "cb2=plt.colorbar(mappable=im2, ax=ax2, orientation='vertical')\n",
      "cb3=plt.colorbar(mappable=im3, ax=ax3, orientation='horizontal')\n",
      "cb4=plt.colorbar(mappable=im4, ax=ax4, orientation='horizontal')\n",
      "cb1.set_label('C')\n",
      "cb2.set_label('C')\n",
      "cb3.set_label('CEM')\n",
      "cb4.set_label('CEM')"
     ],
     "language": "python",
     "metadata": {},
     "outputs": [
      {
       "metadata": {},
       "output_type": "display_data",
       "png": "[encoded data removed]",
       "text": [
        "<matplotlib.figure.Figure at 0x81df630>"
       ]
      }
     ],
     "prompt_number": 160
    },
    {
     "cell_type": "code",
     "collapsed": false,
     "input": [
      "maxxp=2\n",
      "t0 = sonicationEndTimesvsPass0[0:maxxp].flatten()\n",
      "TcurveOn0 = Temp0vsTimevsPassON[0:maxxp].flatten()\n",
      "TcurveOff0 = Temp0vsTimevsPassOFF[0:maxxp].flatten()\n"
     ],
     "language": "python",
     "metadata": {},
     "outputs": [],
     "prompt_number": 126
    },
    {
     "cell_type": "code",
     "collapsed": false,
     "input": [
      "t1 = sonicationEndTimesvsPass[0:maxxp].flatten()\n",
      "TcurveOn1 = Temp1vsTimevsPassON[0:maxxp].flatten()\n",
      "TcurveOff1 = Temp1vsTimevsPassOFF[0:maxxp].flatten()"
     ],
     "language": "python",
     "metadata": {},
     "outputs": [],
     "prompt_number": 161
    },
    {
     "cell_type": "code",
     "collapsed": false,
     "input": [
      "h5name = \"C:\\\\Users\\\\Vandiver\\\\Data\\\\simulations\\\\circ_nfoc\\\\nfoci_movingring_d=8mm.hdf5\"\n",
      "\n",
      "f = h5py.File(h5name, \"w\")\n",
      "\n",
      "dset= f.create_dataset(\"geom/trajectory\", data=1e-3*focalpoint_coords_mm)\n",
      "f.flush()\n",
      "\n",
      "dset = f.create_dataset(\"geom/gridx\", data=gxp)\n",
      "dset.attrs['xp']=xrp\n",
      "f.flush()\n",
      "\n",
      "dset = f.create_dataset(\"geom/gridy\", data=gyp)\n",
      "dset.attrs['yp']=zrp\n",
      "f.flush()\n",
      "\n",
      "dset = f.create_dataset(\"geom/gridz\", data=gzp)\n",
      "dset.attrs['zp']=zrp\n",
      "f.flush()\n",
      "\n",
      "dset = f.create_dataset(\"geom/ROION\", data=roiOnTarget)\n",
      "f.flush()\n",
      "\n",
      "dset = f.create_dataset(\"geom/ROIOFF\", data=roiOffTarget)\n",
      "f.flush()\n",
      "\n",
      "dset = f.create_dataset(\"1/CEM\", data=CEM0vsTimevsPass)\n",
      "\n",
      "dset.attrs['kdiff']=ktdiffusion\n",
      "dset.attrs['alpha']=alpha_acc\n",
      "dset.attrs['perfRate']=perfRate\n",
      "dset.attrs['d']=d\n",
      "dset.attrs['nfoc']=1\n",
      "dset.attrs['xp']=xrp\n",
      "dset.attrs['zp']=zrp\n",
      "dset.attrs['yp']=yrp\n",
      "dset.attrs['resolution'] = [dt,dx,dy,dz]\n",
      "dset.attrs['tstops'] = t0\n",
      "dset.attrs['passes'] = maxxp\n",
      "dset.attrs['wait'] = wait_time\n",
      "dset.attrs['dwell'] = dwell_time0\n",
      "dset.attrs['Ispta'] = Ispta0\n",
      "dset.attrs['uamp'] = uamp0\n",
      "f.flush()\n",
      "\n",
      "dset = f.create_dataset(\"1/TonCurve\", data=TcurveOn0)\n",
      "dset.attrs['tstops'] = t0\n",
      "f.flush()\n",
      "dset = f.create_dataset(\"1/ToffCurve\", data=TcurveOff0)\n",
      "dset.attrs['tstops'] = t0\n",
      "\n",
      "f.flush()\n",
      "\n",
      "f.close()"
     ],
     "language": "python",
     "metadata": {},
     "outputs": [],
     "prompt_number": 127
    },
    {
     "cell_type": "code",
     "collapsed": false,
     "input": [
      "h5name = \"C:\\\\Users\\\\Vandiver\\\\Data\\\\simulations\\\\circ_nfoc\\\\nfoci_movingring.hdf5\"\n",
      "\n",
      "f = h5py.File(h5name, \"r+\")\n",
      "\n",
      "dset = f.create_dataset(\"%d/CEM\" % M, data=CEM1vsTimevsPass)\n",
      "dset.attrs['nfoc']=M\n",
      "dset.attrs['passes'] = maxxp\n",
      "dset.attrs['kdiff']=ktdiffusion\n",
      "dset.attrs['alpha']=alpha_acc\n",
      "dset.attrs['perfRate']=perfRate\n",
      "dset.attrs['d']=d\n",
      "dset.attrs['xp']=xrp\n",
      "dset.attrs['zp']=zrp\n",
      "dset.attrs['yp']=yrp\n",
      "dset.attrs['resolution'] = [dt,dx,dy,dz]\n",
      "dset.attrs['tstops'] = t1\n",
      "dset.attrs['wait'] = wait_time\n",
      "dset.attrs['dwell'] = dwell_time1\n",
      "dset.attrs['uamp'] = uamp1adj\n",
      "f.flush()\n",
      "dset = f.create_dataset(\"%d/TonCurve\" % M, data=TcurveOn1)\n",
      "dset.attrs['tstops'] = t1\n",
      "f.flush()\n",
      "dset = f.create_dataset(\"%d/ToffCurve\" % M, data=TcurveOff1)\n",
      "dset.attrs['tstops'] = t1\n",
      "\n",
      "f.flush()\n",
      "f.close()"
     ],
     "language": "python",
     "metadata": {},
     "outputs": [
      {
       "ename": "RuntimeError",
       "evalue": "Unable to create link (Name already exists)",
       "output_type": "pyerr",
       "traceback": [
        "\u001b[1;31m---------------------------------------------------------------------------\u001b[0m\n\u001b[1;31mRuntimeError\u001b[0m                              Traceback (most recent call last)",
        "\u001b[1;32m<ipython-input-165-ca7375e26c27>\u001b[0m in \u001b[0;36m<module>\u001b[1;34m()\u001b[0m\n\u001b[0;32m      3\u001b[0m \u001b[0mf\u001b[0m \u001b[1;33m=\u001b[0m \u001b[0mh5py\u001b[0m\u001b[1;33m.\u001b[0m\u001b[0mFile\u001b[0m\u001b[1;33m(\u001b[0m\u001b[0mh5name\u001b[0m\u001b[1;33m,\u001b[0m \u001b[1;34m\"r+\"\u001b[0m\u001b[1;33m)\u001b[0m\u001b[1;33m\u001b[0m\u001b[0m\n\u001b[0;32m      4\u001b[0m \u001b[1;33m\u001b[0m\u001b[0m\n\u001b[1;32m----> 5\u001b[1;33m \u001b[0mdset\u001b[0m \u001b[1;33m=\u001b[0m \u001b[0mf\u001b[0m\u001b[1;33m.\u001b[0m\u001b[0mcreate_dataset\u001b[0m\u001b[1;33m(\u001b[0m\u001b[1;34m\"%d/CEM\"\u001b[0m \u001b[1;33m%\u001b[0m \u001b[0mM\u001b[0m\u001b[1;33m,\u001b[0m \u001b[0mdata\u001b[0m\u001b[1;33m=\u001b[0m\u001b[0mCEM1vsTimevsPass\u001b[0m\u001b[1;33m)\u001b[0m\u001b[1;33m\u001b[0m\u001b[0m\n\u001b[0m\u001b[0;32m      6\u001b[0m \u001b[0mdset\u001b[0m\u001b[1;33m.\u001b[0m\u001b[0mattrs\u001b[0m\u001b[1;33m[\u001b[0m\u001b[1;34m'nfoc'\u001b[0m\u001b[1;33m]\u001b[0m\u001b[1;33m=\u001b[0m\u001b[0mM\u001b[0m\u001b[1;33m\u001b[0m\u001b[0m\n\u001b[0;32m      7\u001b[0m \u001b[0mdset\u001b[0m\u001b[1;33m.\u001b[0m\u001b[0mattrs\u001b[0m\u001b[1;33m[\u001b[0m\u001b[1;34m'passes'\u001b[0m\u001b[1;33m]\u001b[0m \u001b[1;33m=\u001b[0m \u001b[0mmaxxp\u001b[0m\u001b[1;33m\u001b[0m\u001b[0m\n",
        "\u001b[1;32mC:\\Users\\Vandiver\\Anaconda3\\lib\\site-packages\\h5py\\_hl\\group.py\u001b[0m in \u001b[0;36mcreate_dataset\u001b[1;34m(self, name, shape, dtype, data, **kwds)\u001b[0m\n\u001b[0;32m     95\u001b[0m         \u001b[0mdset\u001b[0m \u001b[1;33m=\u001b[0m \u001b[0mdataset\u001b[0m\u001b[1;33m.\u001b[0m\u001b[0mDataset\u001b[0m\u001b[1;33m(\u001b[0m\u001b[0mdsid\u001b[0m\u001b[1;33m)\u001b[0m\u001b[1;33m\u001b[0m\u001b[0m\n\u001b[0;32m     96\u001b[0m         \u001b[1;32mif\u001b[0m \u001b[0mname\u001b[0m \u001b[1;32mis\u001b[0m \u001b[1;32mnot\u001b[0m \u001b[1;32mNone\u001b[0m\u001b[1;33m:\u001b[0m\u001b[1;33m\u001b[0m\u001b[0m\n\u001b[1;32m---> 97\u001b[1;33m             \u001b[0mself\u001b[0m\u001b[1;33m[\u001b[0m\u001b[0mname\u001b[0m\u001b[1;33m]\u001b[0m \u001b[1;33m=\u001b[0m \u001b[0mdset\u001b[0m\u001b[1;33m\u001b[0m\u001b[0m\n\u001b[0m\u001b[0;32m     98\u001b[0m         \u001b[1;32mreturn\u001b[0m \u001b[0mdset\u001b[0m\u001b[1;33m\u001b[0m\u001b[0m\n\u001b[0;32m     99\u001b[0m \u001b[1;33m\u001b[0m\u001b[0m\n",
        "\u001b[1;32mC:\\Users\\Vandiver\\Anaconda3\\lib\\site-packages\\h5py\\_hl\\group.py\u001b[0m in \u001b[0;36m__setitem__\u001b[1;34m(self, name, obj)\u001b[0m\n\u001b[0;32m    253\u001b[0m \u001b[1;33m\u001b[0m\u001b[0m\n\u001b[0;32m    254\u001b[0m         \u001b[1;32mif\u001b[0m \u001b[0misinstance\u001b[0m\u001b[1;33m(\u001b[0m\u001b[0mobj\u001b[0m\u001b[1;33m,\u001b[0m \u001b[0mHLObject\u001b[0m\u001b[1;33m)\u001b[0m\u001b[1;33m:\u001b[0m\u001b[1;33m\u001b[0m\u001b[0m\n\u001b[1;32m--> 255\u001b[1;33m             \u001b[0mh5o\u001b[0m\u001b[1;33m.\u001b[0m\u001b[0mlink\u001b[0m\u001b[1;33m(\u001b[0m\u001b[0mobj\u001b[0m\u001b[1;33m.\u001b[0m\u001b[0mid\u001b[0m\u001b[1;33m,\u001b[0m \u001b[0mself\u001b[0m\u001b[1;33m.\u001b[0m\u001b[0mid\u001b[0m\u001b[1;33m,\u001b[0m \u001b[0mname\u001b[0m\u001b[1;33m,\u001b[0m \u001b[0mlcpl\u001b[0m\u001b[1;33m=\u001b[0m\u001b[0mlcpl\u001b[0m\u001b[1;33m,\u001b[0m \u001b[0mlapl\u001b[0m\u001b[1;33m=\u001b[0m\u001b[0mself\u001b[0m\u001b[1;33m.\u001b[0m\u001b[0m_lapl\u001b[0m\u001b[1;33m)\u001b[0m\u001b[1;33m\u001b[0m\u001b[0m\n\u001b[0m\u001b[0;32m    256\u001b[0m \u001b[1;33m\u001b[0m\u001b[0m\n\u001b[0;32m    257\u001b[0m         \u001b[1;32melif\u001b[0m \u001b[0misinstance\u001b[0m\u001b[1;33m(\u001b[0m\u001b[0mobj\u001b[0m\u001b[1;33m,\u001b[0m \u001b[0mSoftLink\u001b[0m\u001b[1;33m)\u001b[0m\u001b[1;33m:\u001b[0m\u001b[1;33m\u001b[0m\u001b[0m\n",
        "\u001b[1;32mC:\\Users\\Vandiver\\Anaconda3\\lib\\site-packages\\h5py\\h5o.pyd\u001b[0m in \u001b[0;36mh5py.h5o.link (h5py\\h5o.c:3581)\u001b[1;34m()\u001b[0m\n",
        "\u001b[1;31mRuntimeError\u001b[0m: Unable to create link (Name already exists)"
       ]
      }
     ],
     "prompt_number": 165
    },
    {
     "cell_type": "code",
     "collapsed": false,
     "input": [
      "M"
     ],
     "language": "python",
     "metadata": {},
     "outputs": [
      {
       "metadata": {},
       "output_type": "pyout",
       "prompt_number": 164,
       "text": [
        "7"
       ]
      }
     ],
     "prompt_number": 164
    },
    {
     "cell_type": "code",
     "collapsed": false,
     "input": [
      "f.close()"
     ],
     "language": "python",
     "metadata": {},
     "outputs": [],
     "prompt_number": 166
    },
    {
     "cell_type": "heading",
     "level": 2,
     "metadata": {},
     "source": [
      "Single vs. multi compare"
     ]
    },
    {
     "cell_type": "code",
     "collapsed": false,
     "input": [
      "t0 = sonicationEndTimesvsPass0[0:2].flatten()\n",
      "Tcurve0 = Temp0vsTimevsPassON[0:2].flatten()\n",
      "\n",
      "t1 = sonicationEndTimesvsPass[0:2].flatten()\n",
      "Tcurve1 = Temp1vsTimevsPassON[0:2].flatten()\n",
      "\n",
      "plt.plot( t0, Tcurve0 - T0, '--' )\n",
      "plt.plot( t1, Tcurve1 - T0 )\n"
     ],
     "language": "python",
     "metadata": {},
     "outputs": [
      {
       "metadata": {},
       "output_type": "pyout",
       "prompt_number": 163,
       "text": [
        "[<matplotlib.lines.Line2D at 0x20dfebe0>]"
       ]
      },
      {
       "metadata": {},
       "output_type": "display_data",
       "png": "[encoded data removed]",
       "text": [
        "<matplotlib.figure.Figure at 0x20dfe240>"
       ]
      }
     ],
     "prompt_number": 163
    },
    {
     "cell_type": "code",
     "collapsed": false,
     "input": [
      "maxp=2\n",
      "t0 = sonicationEndTimesvsPass0[0:maxp].flatten()\n",
      "ratio0 = Temp0vsTimevsPassON[0:maxp].flatten()/Temp0vsTimevsPassOFF[0:maxp].flatten()\n",
      "\n",
      "t1 = sonicationEndTimesvsPass[0:maxp].flatten()\n",
      "ratio1 = Temp1vsTimevsPassON[0:maxp].flatten()/ Temp1vsTimevsPassOFF[0:maxp].flatten()\n",
      "\n",
      "plt.plot( t0, ratio0, '--' )\n",
      "plt.plot( t1, ratio1 )"
     ],
     "language": "python",
     "metadata": {},
     "outputs": [
      {
       "metadata": {},
       "output_type": "pyout",
       "prompt_number": 137,
       "text": [
        "[<matplotlib.lines.Line2D at 0x21003550>]"
       ]
      },
      {
       "metadata": {},
       "output_type": "display_data",
       "png": "[encoded data removed]",
       "text": [
        "<matplotlib.figure.Figure at 0x804f4a8>"
       ]
      }
     ],
     "prompt_number": 137
    },
    {
     "cell_type": "code",
     "collapsed": false,
     "input": [
      "plt.plot(sonicationEndTimesvsPass0[0:2].flatten(), Temp0vsTimevsPassON[0:2].flatten())"
     ],
     "language": "python",
     "metadata": {},
     "outputs": [
      {
       "metadata": {},
       "output_type": "pyout",
       "prompt_number": 107,
       "text": [
        "[<matplotlib.lines.Line2D at 0x20ea3c88>]"
       ]
      },
      {
       "metadata": {},
       "output_type": "display_data",
       "png": "[encoded data removed]",
       "text": [
        "<matplotlib.figure.Figure at 0x8388780>"
       ]
      }
     ],
     "prompt_number": 107
    },
    {
     "cell_type": "code",
     "collapsed": false,
     "input": [
      "256*pi*(0.3)**2"
     ],
     "language": "python",
     "metadata": {},
     "outputs": [
      {
       "metadata": {},
       "output_type": "pyout",
       "prompt_number": 70,
       "text": [
        "72.38229473870884"
       ]
      }
     ],
     "prompt_number": 70
    },
    {
     "cell_type": "code",
     "collapsed": false,
     "input": [
      "fzonesCentered=list( map ( lambda v: np.where( calcGridDist( v ) < 0.005), [[0,0,0.14]] ) )"
     ],
     "language": "python",
     "metadata": {},
     "outputs": [],
     "prompt_number": 56
    },
    {
     "cell_type": "code",
     "collapsed": false,
     "input": [
      "fzonesCentered"
     ],
     "language": "python",
     "metadata": {},
     "outputs": [
      {
       "metadata": {},
       "output_type": "pyout",
       "prompt_number": 50,
       "text": [
        "[(array([34, 34, 34, ..., 46, 46, 46], dtype=int64),\n",
        "  array([37, 37, 37, ..., 41, 42, 42], dtype=int64),\n",
        "  array([33, 34, 35, ..., 36, 34, 35], dtype=int64))]"
       ]
      }
     ],
     "prompt_number": 50
    },
    {
     "cell_type": "code",
     "collapsed": false,
     "input": [
      "40/1250"
     ],
     "language": "python",
     "metadata": {},
     "outputs": [
      {
       "metadata": {},
       "output_type": "pyout",
       "prompt_number": 71,
       "text": [
        "0.032"
       ]
      }
     ],
     "prompt_number": 71
    },
    {
     "cell_type": "code",
     "collapsed": false,
     "input": [
      "sqrt(0.032/pi)"
     ],
     "language": "python",
     "metadata": {},
     "outputs": [
      {
       "metadata": {},
       "output_type": "pyout",
       "prompt_number": 72,
       "text": [
        "0.10092530088080641"
       ]
      }
     ],
     "prompt_number": 72
    }
   ],
   "metadata": {}
  }
 ]
}