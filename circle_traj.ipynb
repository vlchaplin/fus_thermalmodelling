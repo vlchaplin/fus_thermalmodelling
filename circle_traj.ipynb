{
 "cells": [
  {
   "cell_type": "code",
   "execution_count": 2,
   "metadata": {
    "collapsed": false
   },
   "outputs": [],
   "source": [
    "import h5py\n",
    "import sys\n",
    "import re\n",
    "import numpy as np\n",
    "import matplotlib.pyplot as plt\n",
    "from mpl_toolkits.mplot3d import Axes3D\n",
    "from matplotlib import collections\n",
    "from matplotlib import image\n",
    " \n",
    "import matplotlib.animation as animation;\n",
    "    \n",
    "from math import *;\n",
    "\n",
    "sys.path.append('C:\\\\Users\\\\vchaplin\\\\Documents\\\\HiFU\\\\code\\\\myPy')  \n",
    "sys.path.append('C:\\\\Users\\\\vchaplin\\\\Documents\\\\HiFU\\\\code\\\\AblationSims')\n",
    "sys.path.append('C:\\\\Users\\\\Vandiver\\\\Documents\\\\HiFU\\\\code\\\\BioHeatCpp\\\\PBHEswig\\\\x64')\n",
    "import ablation_utils\n",
    "import geom\n",
    "import sonalleve\n",
    "import transducers\n",
    "import PBHEswig\n",
    "from countlines import countlines\n",
    "\n",
    "import imagemanip as imp;\n",
    "\n",
    "\n",
    "%matplotlib inline"
   ]
  },
  {
   "cell_type": "code",
   "execution_count": 3,
   "metadata": {
    "collapsed": true
   },
   "outputs": [],
   "source": [
    "sys.path.append('C:\\\\Users\\\\Vandiver\\\\Documents\\\\HiFU\\\\code\\\\CUDA\\\\RSgpu\\\\Release')\n",
    "import RSgpuPySwig\n",
    "import PBHE_CUDA"
   ]
  },
  {
   "cell_type": "code",
   "execution_count": 99,
   "metadata": {
    "collapsed": false
   },
   "outputs": [
    {
     "ename": "KeyError",
     "evalue": "'PBHE_CUDA'",
     "output_type": "error",
     "traceback": [
      "\u001b[1;31m---------------------------------------------------------------------------\u001b[0m",
      "\u001b[1;31mKeyError\u001b[0m                                  Traceback (most recent call last)",
      "\u001b[1;32m<ipython-input-99-21f1cfdd4263>\u001b[0m in \u001b[0;36m<module>\u001b[1;34m()\u001b[0m\n\u001b[0;32m      1\u001b[0m \u001b[1;32mimport\u001b[0m \u001b[0msys\u001b[0m\u001b[1;33m\u001b[0m\u001b[0m\n\u001b[1;32m----> 2\u001b[1;33m \u001b[1;32mdel\u001b[0m \u001b[0msys\u001b[0m\u001b[1;33m.\u001b[0m\u001b[0mmodules\u001b[0m\u001b[1;33m[\u001b[0m\u001b[1;34m'PBHE_CUDA'\u001b[0m\u001b[1;33m]\u001b[0m\u001b[1;33m\u001b[0m\u001b[0m\n\u001b[0m\u001b[0;32m      3\u001b[0m \u001b[1;32mdel\u001b[0m \u001b[0mPBHE_CUDA\u001b[0m\u001b[1;33m\u001b[0m\u001b[0m\n",
      "\u001b[1;31mKeyError\u001b[0m: 'PBHE_CUDA'"
     ]
    }
   ],
   "source": [
    "import sys\n",
    "del sys.modules['PBHE_CUDA']\n",
    "del PBHE_CUDA"
   ]
  },
  {
   "cell_type": "code",
   "execution_count": 4,
   "metadata": {
    "collapsed": false
   },
   "outputs": [],
   "source": [
    "def isarray(a):\n",
    "    try:\n",
    "        shp = a.shape\n",
    "        return True\n",
    "    except:\n",
    "        return False\n",
    "\n",
    "def sonication_heating(T, CEM, duration, T0=None, CEMinit=None, Tmax=None, Freeflow=0):\n",
    "    \n",
    "    if T0 is not None:\n",
    "        if isarray(T0):\n",
    "            T=T0\n",
    "        else:\n",
    "            T[:] = T0\n",
    "    if CEMinit is not None:\n",
    "        if isarray(CEMinit):\n",
    "            CEM=CEMinit\n",
    "        else:\n",
    "            CEM[:]=CEMinit\n",
    "    if Tmax is None:\n",
    "        Tmax = np.zeros_like(CEM)\n",
    "    \n",
    "    \n",
    "    time=0\n",
    "    ti=0\n",
    "    buffsize=T.shape[0]\n",
    "    tstep=dt*buffsize\n",
    "    while time<duration :\n",
    "\n",
    "        print( '%d%%' % (time/duration *100.0), end='\\r')\n",
    "        \n",
    "        if (time + tstep > duration):\n",
    "            buffsize = ceil((duration-time)/dt)\n",
    "            tstep = dt*buffsize\n",
    "            \n",
    "\n",
    "        #PBHEswig.pbheSolve(Freeflow,dt,dx,dy,dz, Tmesh, Tdotmesh, kmesh, rhoCpmesh, 37.0, perfRate,0,buffsize-1 )\n",
    "        PBHE_CUDA.Pennes_2ndOrder_GPU64_mesh(Freeflow,dt,dx,dy,dz, Tmesh, Tdotmesh, kmesh, rhoCpmesh, 37.0, perfRate,0,buffsize-1 )\n",
    "        Rbase[:]=4\n",
    "        Rbase[np.where(T[0] > 43.0, True, False)] = 2\n",
    "         \n",
    "        #update = np.where(T[buffsize-1] > Tmax, True, False)\n",
    "        #Tmax[update] = T[buffsize-1][update]\n",
    "\n",
    "        #time integrate to get the thermal dose\n",
    "        CEM[:] += (dt/60.0)*np.sum( Rbase**(T[0:buffsize]-43), 0  )\n",
    "        \n",
    "        ti+=1\n",
    "        time+=tstep\n",
    "        T[0] = T[buffsize-1]\n",
    "        \n",
    "       \n",
    "    update = np.where(T[buffsize-1] > Tmax, True, False)\n",
    "    Tmax[update] = T[buffsize-1][update]\n",
    "        \n",
    "    return (Tmax, time)\n",
    "\n",
    "\n",
    "def sonication_heating_physical_move(xdcTimes, xdcPoints, uamp, CEM, CEMvst, Tmax=None, frad=0.003, timeZero=0.0, Freeflow=0):\n",
    "    \n",
    "    if Tmax is None:\n",
    "        Tmax = np.zeros_like(CEM)\n",
    "    \n",
    "    CEMvst[:]=0\n",
    "\n",
    "    ti=0\n",
    "    \n",
    "    numSonicationPoints = len(xdcTimes)-1\n",
    "    \n",
    "    totalCooling=0\n",
    "    \n",
    "    #pre-calc HIFU-induced source term (not actual dT/dt, just what is due to HIFU)\n",
    "   #Pr = sonalleve.calc_pressure_field(k0, uxyz, uamp, xrp, yrp, zrp)\n",
    "    Pr = transducers.calc_pressure_field_cuda(k0,uxyz,unormals,uamp,xrp,yrp,zrp)\n",
    "    Iavg = np.abs(Pr)**2 / (2.0*rho*c0)\n",
    "    Tdot[:] = 2.0*(alpha_acc)*Iavg / (rhoCp)\n",
    "    \n",
    "    \n",
    "    fzonesCentered=list( map ( lambda v: np.where( calcGridDist( v ) < frad), [pcentroid] ) )\n",
    "    focalPntRise = list( map( lambda ell: np.mean(Tdot[ell]), fzonesCentered ) )\n",
    "    \n",
    "    elapsedTime = timeZero\n",
    "    sonicationEndTimes = np.zeros(numSonicationPoints);\n",
    "    \n",
    "    ti=0\n",
    "    while ti < numSonicationPoints :\n",
    "\n",
    "        fzones =list( map ( lambda v: np.where( calcGridDist( v ) < frad), [pcentroid + xdcPoints[ti]] ) )\n",
    "        TfocFilt =list( map( lambda ell: np.mean(T[0][ell]), fzones ) )\n",
    "        \n",
    "        dwell = min( list(map(lambda a,b: (50-a)/b, TfocFilt,focalPntRise)) )\n",
    "        if dwell > 20.0:\n",
    "            dwell = 20.0 \n",
    "           \n",
    "        #dwell = xdcTimes[ti+1] - xdcTimes[ti];\n",
    "        \n",
    "        monitorTemp = np.mean(T[0][monitorVolPix])\n",
    "        if monitorTemp > 43:\n",
    "            coolingTime = 10;\n",
    "            print ('pre-focal cooling for= %4.1f, monitor temp=%3.1f C' % (coolingTime, monitorTemp), end='\\n')\n",
    "            Tdot[:]=0\n",
    "            Tmax, duration = sonication_heating(T, Tdot, CEM, coolingTime, Tmax=Tmax, Freeflow=Freeflow )\n",
    "            totalCooling+=duration\n",
    "            ti-=1\n",
    "        elif dwell >= 2*dt:\n",
    "            \n",
    "            #if dwell < 1:\n",
    "             #   dwell = 1\n",
    "                \n",
    "            Tdot[:] = 2.0*(alpha_acc)* imp.shiftImageRegular3D(Iavg,xedges,yedges,zedges, -xdcPoints[ti]) / (rhoCp)\n",
    "\n",
    "            fzone=np.where( calcGridDist( xdcPoints[ti] + [0,0,0.14] ) < 0.003)\n",
    "            avgTdot = np.mean(Tdot[fzone])\n",
    "            avgT = np.mean(T[0][fzone])    \n",
    "            \n",
    "            print ('dwell= %4.1f' % dwell, end=' ')\n",
    "        \n",
    "            print( 'updating position %d of %d: (%3.1f, %3.1f, t=%4.1f), monitor temp=%3.1f C, focal temp=%3.1f C' % \\\n",
    "                  (ti+1, numSonicationPoints, 100*xdcPoints[ti,0],100*xdcPoints[ti,1], elapsedTime, monitorTemp, avgT), end = '\\n' )\n",
    "\n",
    "            Tmax, duration = sonication_heating(T, CEM, dwell, Tmax=Tmax, Freeflow=Freeflow )\n",
    "                      \n",
    "           \n",
    "        else:\n",
    "            coolTime=4*dt\n",
    "            print ('Cooling for %f' % coolTime)\n",
    "            Tdot[:]=0\n",
    "            Tmax, duration = sonication_heating(T, CEM, coolTime, Tmax=Tmax, Freeflow=Freeflow )\n",
    "            totalCooling+=duration\n",
    "            \n",
    "        \n",
    "        elapsedTime += duration\n",
    "        sonicationEndTimes[ti] = duration\n",
    "        CEMvst[ti] = CEM\n",
    "        ti+=1\n",
    "            \n",
    "    return (Tmax, sonicationEndTimes,elapsedTime,totalCooling)\n",
    "\n",
    "def sonication_heating_physical_move_nofeedback(xdcDwells, xdcWaits, xdcPoints, uamp, CEM, CEMvst, \n",
    "                                                TempOnvsTime, TempOffvsTime,\n",
    "                                                Tmax=None, frad=0.003, timeZero=0.0, Freeflow=0, onroi=None, offroi=None):\n",
    "    \n",
    "    if Tmax is None:\n",
    "        Tmax = np.zeros_like(CEM)\n",
    "    \n",
    "    CEMvst[:]=0\n",
    "\n",
    "    ti=0\n",
    "    \n",
    "    numSonicationPoints = len(xdcDwells)\n",
    "    \n",
    "    totalCooling=0\n",
    "    \n",
    "    #pre-calc HIFU-induced source term (not actual dT/dt, just what is due to HIFU)\n",
    "    #Pr = sonalleve.calc_pressure_field(k0, uxyz, uamp, xrp, yrp, zrp)\n",
    "    Pr = transducers.calc_pressure_field_cuda(k0,uxyz,unormals,uamp,xrp,yrp,zrp)\n",
    "    Iavg = np.abs(Pr)**2 / (2.0*rho*c0)\n",
    "    Tdot[:] = 2.0*(alpha_acc)*Iavg / (rhoCp)\n",
    "    \n",
    "    elapsedTime = timeZero\n",
    "    sonicationEndTimes = np.zeros(numSonicationPoints);\n",
    "    \n",
    "    if onroi is None:\n",
    "        onroi= (calcGridDist( [0,0,0.14] ) < 0.005)\n",
    "    \n",
    "        \n",
    "    ti=0\n",
    "    while ti < numSonicationPoints :\n",
    "        \n",
    "        print('%d / %d' % (ti+1, numSonicationPoints), end =' ')\n",
    "        \n",
    "        dwell = xdcDwells[ti];\n",
    "        Tdot[:] = 2.0*(alpha_acc)* imp.shiftImageRegular3D(Iavg,xedges,yedges,zedges, -xdcPoints[ti]) / (rhoCp)\n",
    "        Tmax, duration = sonication_heating(T, CEM, dwell, Tmax=Tmax, Freeflow=Freeflow )\n",
    "        \n",
    "        elapsedTime += duration\n",
    "        \n",
    "        wait = xdcWaits[ti];\n",
    "        Tdot[:] = 0\n",
    "        Tmax, duration = sonication_heating(T, CEM, wait, Tmax=Tmax, Freeflow=Freeflow )\n",
    "        \n",
    "        elapsedTime += duration\n",
    "        sonicationEndTimes[ti] = elapsedTime\n",
    "        CEMvst[ti] = CEM\n",
    "        TempOnvsTime[ti] = np.mean(T[0][onroi])\n",
    "        if offroi is None:\n",
    "            TempOffvsTime[ti] = np.mean(T[0])\n",
    "        else:\n",
    "            TempOffvsTime[ti] = np.mean(T[0][offroi])\n",
    "        ti+=1\n",
    "            \n",
    "    return (Tmax, sonicationEndTimes, elapsedTime)"
   ]
  },
  {
   "cell_type": "markdown",
   "metadata": {},
   "source": [
    "# Trajectory definition"
   ]
  },
  {
   "cell_type": "code",
   "execution_count": 5,
   "metadata": {
    "collapsed": false
   },
   "outputs": [
    {
     "data": {
      "text/plain": [
       "[<matplotlib.lines.Line2D at 0x76659e8>]"
      ]
     },
     "execution_count": 5,
     "metadata": {},
     "output_type": "execute_result"
    },
    {
     "data": {
      "image/png": "[encoded data removed]",
      "text/plain": [
       "<matplotlib.figure.Figure at 0x7614a58>"
      ]
     },
     "metadata": {},
     "output_type": "display_data"
    }
   ],
   "source": [
    "maxR_mm = 10\n",
    "turnspace_mm=4\n",
    "minR_mm = turnspace_mm / 2.0\n",
    "z_mm = 140;\n",
    "\n",
    "nturns = ceil( (maxR_mm - minR_mm)/turnspace_mm )\n",
    "\n",
    "avgSpeed_mm_per_sec=0.3\n",
    "focalpoint_dwell_seconds=9.5\n",
    "wait=2.0\n",
    "\n",
    "turn_radii_mm = minR_mm + turnspace_mm*np.arange(0,nturns)\n",
    "num_sonications_per_turn = np.array(np.round( (2*pi*turn_radii_mm/avgSpeed_mm_per_sec) / focalpoint_dwell_seconds),dtype=int);\n",
    "\n",
    "num_sonications_total = np.sum(num_sonications_per_turn, dtype=int)\n",
    "focalpoint_coords_mm = np.zeros([num_sonications_total, 3])\n",
    "pass_relative_amplitudes = np.zeros([num_sonications_total, 256])\n",
    "\n",
    "turnIdxStart=0;\n",
    "for n in range(0,nturns):\n",
    "    ns = num_sonications_per_turn[n]\n",
    "    phis = np.arange(1,ns+1)*(2.0*pi/ns) + 0.5*(2.0*pi/ns)\n",
    "    x = turn_radii_mm[n]*np.cos(phis)\n",
    "    y = turn_radii_mm[n]*np.sin(phis)\n",
    "    z = z_mm*np.ones(ns);\n",
    "    \n",
    "    i = turnIdxStart\n",
    "    \n",
    "    focalpoint_coords_mm[i:(i+ns),0] = x;\n",
    "    focalpoint_coords_mm[i:(i+ns),1] = y;\n",
    "    focalpoint_coords_mm[i:(i+ns),2] = z;\n",
    "    \n",
    "    turnIdxStart += ns\n",
    "    \n",
    "plt.plot( focalpoint_coords_mm[:,0], focalpoint_coords_mm[:,1], '*-' )"
   ]
  },
  {
   "cell_type": "code",
   "execution_count": 18,
   "metadata": {
    "collapsed": false
   },
   "outputs": [
    {
     "data": {
      "text/plain": [
       "array([ 4, 13])"
      ]
     },
     "execution_count": 18,
     "metadata": {},
     "output_type": "execute_result"
    }
   ],
   "source": [
    "num_sonications_per_turn"
   ]
  },
  {
   "cell_type": "code",
   "execution_count": 18,
   "metadata": {
    "collapsed": false
   },
   "outputs": [
    {
     "data": {
      "text/plain": [
       "(568,)"
      ]
     },
     "execution_count": 18,
     "metadata": {},
     "output_type": "execute_result"
    }
   ],
   "source": [
    "(T[0][list( map ( lambda v: ( calcGridDist( v ) < 0.005), [[0,0,0.14]] ) )]).shape"
   ]
  },
  {
   "cell_type": "code",
   "execution_count": 19,
   "metadata": {
    "collapsed": false
   },
   "outputs": [
    {
     "data": {
      "text/plain": [
       "0.0"
      ]
     },
     "execution_count": 19,
     "metadata": {},
     "output_type": "execute_result"
    }
   ],
   "source": [
    "np.mean(T[0][list( map ( lambda v: ( calcGridDist( v ) < 0.005), [[0,0,0.14]] ) )])"
   ]
  },
  {
   "cell_type": "code",
   "execution_count": 22,
   "metadata": {
    "collapsed": false
   },
   "outputs": [
    {
     "data": {
      "text/plain": [
       "(80, 80, 80)"
      ]
     },
     "execution_count": 22,
     "metadata": {},
     "output_type": "execute_result"
    }
   ],
   "source": [
    "(calcGridDist( [0,0,0.14] ) < 0.005).shape"
   ]
  },
  {
   "cell_type": "code",
   "execution_count": 21,
   "metadata": {
    "collapsed": false
   },
   "outputs": [],
   "source": [
    "q = np.array([0, 10, 2.0 ,30.0])\n",
    "test = {'qq':q}"
   ]
  },
  {
   "cell_type": "code",
   "execution_count": 65,
   "metadata": {
    "collapsed": false
   },
   "outputs": [],
   "source": [
    "test['qq'][0]=4"
   ]
  },
  {
   "cell_type": "code",
   "execution_count": 45,
   "metadata": {
    "collapsed": false
   },
   "outputs": [
    {
     "data": {
      "text/plain": [
       "array([  4.,  13.])"
      ]
     },
     "execution_count": 45,
     "metadata": {},
     "output_type": "execute_result"
    }
   ],
   "source": []
  },
  {
   "cell_type": "code",
   "execution_count": 63,
   "metadata": {
    "collapsed": false
   },
   "outputs": [],
   "source": [
    "q[0] = 11.0"
   ]
  },
  {
   "cell_type": "code",
   "execution_count": 24,
   "metadata": {
    "collapsed": false
   },
   "outputs": [],
   "source": [
    "x0 = [1,20,3,4]"
   ]
  },
  {
   "cell_type": "code",
   "execution_count": 31,
   "metadata": {
    "collapsed": false
   },
   "outputs": [],
   "source": [
    "x1 = [0,19,2,3]"
   ]
  },
  {
   "cell_type": "code",
   "execution_count": 32,
   "metadata": {
    "collapsed": false
   },
   "outputs": [
    {
     "data": {
      "text/plain": [
       "True"
      ]
     },
     "execution_count": 32,
     "metadata": {},
     "output_type": "execute_result"
    }
   ],
   "source": [
    "x1 < x0"
   ]
  },
  {
   "cell_type": "code",
   "execution_count": 41,
   "metadata": {
    "collapsed": false
   },
   "outputs": [
    {
     "ename": "ValueError",
     "evalue": "need more than 2 values to unpack",
     "output_type": "error",
     "traceback": [
      "\u001b[1;31m---------------------------------------------------------------------------\u001b[0m\n\u001b[1;31mValueError\u001b[0m                                Traceback (most recent call last)",
      "\u001b[1;32m<ipython-input-41-4680336f3cca>\u001b[0m in \u001b[0;36m<module>\u001b[1;34m()\u001b[0m\n\u001b[1;32m----> 1\u001b[1;33m \u001b[0mx\u001b[0m\u001b[1;33m,\u001b[0m\u001b[0my\u001b[0m\u001b[1;33m,\u001b[0m\u001b[0mz\u001b[0m\u001b[1;33m=\u001b[0m\u001b[0mtest\u001b[0m\u001b[1;33m(\u001b[0m\u001b[1;33m)\u001b[0m\u001b[1;33m\u001b[0m\u001b[0m\n\u001b[0m",
      "\u001b[1;31mValueError\u001b[0m: need more than 2 values to unpack"
     ]
    }
   ],
   "source": [
    "x,y,z=test()"
   ]
  },
  {
   "cell_type": "code",
   "execution_count": 40,
   "metadata": {
    "collapsed": false
   },
   "outputs": [],
   "source": [
    "def test():\n",
    "    return (1,2,None)"
   ]
  },
  {
   "cell_type": "markdown",
   "metadata": {},
   "source": [
    "# Simulation"
   ]
  },
  {
   "cell_type": "code",
   "execution_count": 6,
   "metadata": {
    "collapsed": false
   },
   "outputs": [],
   "source": [
    "uxyz = sonalleve.get_sonalleve_xdc_vecs()\n",
    "unormals = [0,0,0.14] - uxyz\n",
    "\n",
    "f0 = 1.2e6\n",
    "c0 = 1540\n",
    "k0 = 2.0*pi*(f0/c0)"
   ]
  },
  {
   "cell_type": "markdown",
   "metadata": {},
   "source": [
    "## Grid definition"
   ]
  },
  {
   "cell_type": "code",
   "execution_count": 7,
   "metadata": {
    "collapsed": false
   },
   "outputs": [],
   "source": [
    "Nx = 60\n",
    "Ny = 60\n",
    "Nz = 60\n",
    "#Nt = 6\n",
    "dt = 0.1\n",
    "\n",
    "nacq0 = num_sonications_total\n",
    "nacq1 = num_sonications_total\n",
    "\n",
    "dwell_time0 = focalpoint_dwell_seconds\n",
    "dwell_time1 = focalpoint_dwell_seconds\n",
    "wait_time = wait\n",
    "\n",
    "maxDwell=dwell_time0\n",
    "if maxDwell < dwell_time1:\n",
    "    maxDwell=dwell_time1\n",
    "Nt = round(maxDwell/dt)\n",
    "\n",
    "xedges = 1e-2*np.linspace(-3.0, 3.0,Nx+1)\n",
    "yedges = 1e-2*np.linspace(-3.0, 3.0,Ny+1)\n",
    "zedges = 1e-2*np.linspace(11.0, 17.0,Nz+1)\n",
    "\n",
    "xrp = xedges[0:Nx]\n",
    "yrp = yedges[0:Ny]\n",
    "zrp = zedges[0:Nz]\n",
    "\n",
    "gxp,gyp,gzp = np.meshgrid(xrp, yrp, zrp, sparse=False, indexing='ij')\n",
    "calcGridDist= lambda rr: np.sqrt((gxp-rr[0])**2 + (gyp-rr[1])**2 + (gzp-rr[2])**2)\n",
    "\n",
    "dx = xrp[1]-xrp[0]\n",
    "dy = yrp[1]-yrp[0]\n",
    "dz = zrp[1]-zrp[0]\n",
    "\n",
    "#dt = 0.1\n",
    "res = np.array([dt,dx,dy,dz])\n",
    "voxVol=dx*dy*dz\n",
    "\n",
    "zplane=0.14\n",
    "focplaneZpix=np.where(np.logical_and( (zrp[1:-1]-zplane>=0) , (zrp[0:-2]-zplane<0) ))[0][0]\n",
    "\n",
    "roiVolumeZPix = np.where(np.logical_and( (zrp>=zplane-0.01) , (zrp<=zplane+0.01) ))[0]\n",
    "\n",
    "roiOnTarget = np.logical_and( np.sqrt(gxp**2 + gyp**2) <= (1e-3*maxR_mm), np.abs(gzp-0.14) <= 0.005 )\n",
    "roiOffTarget = np.logical_and( np.sqrt(gxp**2 + gyp**2) <= 0.025, np.abs(gzp-0.14) <= 0.015 )\n",
    "roiOffTarget = np.logical_and(roiOffTarget, np.logical_not(roiOnTarget) ) \n",
    "\n",
    "monitorVolXPix = np.where(np.logical_and( (xrp>=-0.01) , (xrp<=0.01) ))[0]\n",
    "monitorVolYPix = np.where(np.logical_and( (yrp>=-0.01) , (yrp<=0.01) ))[0]\n",
    "monitorVolZPix = np.where(np.logical_and( (zrp>=0.11) , (zrp<=0.115) ))[0]\n",
    "\n",
    "monitorVolPix = np.meshgrid(monitorVolXPix, monitorVolYPix, monitorVolZPix, sparse=False, indexing='ij'\n",
    "                            )\n",
    "roiExtra = np.logical_and( np.sqrt(gxp**2 + gyp**2) <= (1e-3*1.5*maxR_mm), np.abs(gzp-0.14) <= 0.0125 )"
   ]
  },
  {
   "cell_type": "code",
   "execution_count": 8,
   "metadata": {
    "collapsed": false
   },
   "outputs": [
    {
     "data": {
      "text/plain": [
       "95"
      ]
     },
     "execution_count": 8,
     "metadata": {},
     "output_type": "execute_result"
    }
   ],
   "source": [
    "Nt"
   ]
  },
  {
   "cell_type": "code",
   "execution_count": 9,
   "metadata": {
    "collapsed": false
   },
   "outputs": [],
   "source": [
    "# ----- allocate numpy data arrays --- #\n",
    "T = np.zeros([Nt,Nx,Ny,Nz])\n",
    "Tdot = np.zeros([Nx,Ny,Nz])\n",
    "kdiff = np.zeros([Nx,Ny,Nz])\n",
    "rhoCp = np.zeros([Nx,Ny,Nz])\n",
    "\n",
    "# ---- Create C++ mesh objects ---\n",
    "Tmesh = PBHEswig.mesh4d()\n",
    "Tdotmesh = PBHEswig.mesh34d();\n",
    "kmesh = PBHEswig.mesh3d();\n",
    "rhoCpmesh = PBHEswig.mesh3d();\n",
    "\n",
    "# ----- tie data arrays to mesh objects (to pass to C++) ---\n",
    "# the data in each mesh can now be accessed/manipulated from python via the arrays, 'T', 'Tdot', etc.\n",
    "PBHEswig.ShareMemoryMesh4(T, res, Tmesh)\n",
    "PBHEswig.ShareMemoryMesh34(Tdot, res, Tdotmesh)\n",
    "PBHEswig.ShareMemoryMesh3(kdiff, res[1:4], kmesh)\n",
    "PBHEswig.ShareMemoryMesh3(rhoCp, res[1:4], rhoCpmesh)\n",
    "\n",
    "CEM0 = np.zeros([Nx,Ny,Nz])\n",
    "CEM1 = np.zeros([Nx,Ny,Nz])\n",
    "Rbase = np.zeros([Nx,Ny,Nz])\n",
    "\n",
    "CEM0vsTime=np.zeros([nacq0,Nx,Ny,Nz])\n",
    "CEM1vsTime=np.zeros([nacq1,Nx,Ny,Nz])\n",
    "\n",
    "Tmax0 = np.zeros([Nx,Ny,Nz])\n",
    "Tmax1 = np.zeros([Nx,Ny,Nz])"
   ]
  },
  {
   "cell_type": "code",
   "execution_count": 18,
   "metadata": {
    "collapsed": false
   },
   "outputs": [],
   "source": [
    "del Tmesh,Tdotmesh,kmesh,rhoCpmesh, T,Tdot,kdiff,rhoCp, CEM0, CEM1, Rbase, CEM0vsTime, CEM1vsTime, Tmax0, Tmax1"
   ]
  },
  {
   "cell_type": "code",
   "execution_count": 10,
   "metadata": {
    "collapsed": false
   },
   "outputs": [
    {
     "data": {
      "text/plain": [
       "0.0010000000000000009"
      ]
     },
     "execution_count": 10,
     "metadata": {},
     "output_type": "execute_result"
    }
   ],
   "source": [
    "dx"
   ]
  },
  {
   "cell_type": "markdown",
   "metadata": {},
   "source": [
    "## Initialize"
   ]
  },
  {
   "cell_type": "code",
   "execution_count": 11,
   "metadata": {
    "collapsed": false
   },
   "outputs": [
    {
     "data": {
      "text/plain": [
       "0.048648648648648561"
      ]
     },
     "execution_count": 11,
     "metadata": {},
     "output_type": "execute_result"
    }
   ],
   "source": [
    "#initial conditions\n",
    "Cp=3700\n",
    "rho=1000\n",
    "ktdiffusion=0.6\n",
    "kdiff[:] = ktdiffusion;\n",
    "rhoCp[:] = rho*Cp;\n",
    "\n",
    "CEM0[:] =0\n",
    "CEM1[:] = 0\n",
    "\n",
    "perfRate = 0.00;\n",
    "\n",
    "alpha_acc = 1.0; #Np/m (5.75 Np/m = 0.5 dB/cm)\n",
    "\n",
    "CFLnum = ktdiffusion/(rho*Cp)*dt*(dx**-2 + dy**-2 + dz**-2 )\n",
    "CFLnum"
   ]
  },
  {
   "cell_type": "markdown",
   "metadata": {},
   "source": [
    "# Acoustic Fields"
   ]
  },
  {
   "cell_type": "code",
   "execution_count": 12,
   "metadata": {
    "collapsed": false
   },
   "outputs": [],
   "source": [
    "#single\n",
    "\n",
    "N = uxyz.shape[0]\n",
    "\n",
    "Ispta0 = 2e7;\n",
    "\n",
    "uamp0 = np.ones(N) / N\n",
    "\n",
    "#P0 = sonalleve.calc_pressure_field(k0, geom.translate3vecs(uxyz, np.array([0, 0, 0 ]) ), uamp0, xrp, yrp, zrp)\n",
    "#Pr = sonalleve.calc_pressure_field(k0, uxyz, uamp, xrp, yrp, zrp)\n",
    "P0 = transducers.calc_pressure_field_cuda(k0,uxyz,unormals,uamp0,xrp,yrp,zrp)\n",
    "I0 = np.abs(P0)**2 / (2.0*rho*c0)\n",
    "\n",
    "powerRenorm = (Ispta0/np.max(I0))\n",
    "I0 *= powerRenorm\n",
    "\n",
    "#update uamp0\n",
    "uamp0 *= sqrt(powerRenorm)"
   ]
  },
  {
   "cell_type": "code",
   "execution_count": 9,
   "metadata": {
    "collapsed": false
   },
   "outputs": [
    {
     "data": {
      "text/plain": [
       "[<matplotlib.lines.Line2D at 0x6e2d470>]"
      ]
     },
     "execution_count": 9,
     "metadata": {},
     "output_type": "execute_result"
    },
    {
     "data": {
      "image/png": "[encoded data removed]",
      "text/plain": [
       "<matplotlib.figure.Figure at 0x6d9ac50>"
      ]
     },
     "metadata": {},
     "output_type": "display_data"
    }
   ],
   "source": [
    "Mlist = np.arange(2,8,1)\n",
    "plt.plot(Mlist,1/np.sqrt(2*(1-np.cos(2*pi/Mlist))),'o'  )"
   ]
  },
  {
   "cell_type": "markdown",
   "metadata": {},
   "source": [
    "### Multi-focus pattern def"
   ]
  },
  {
   "cell_type": "code",
   "execution_count": 13,
   "metadata": {
    "collapsed": false
   },
   "outputs": [],
   "source": [
    "\n",
    "\n",
    "d=0.004;\n",
    "h=d*sin(pi/3);\n",
    "triangle,h = geom.equilateral_tri(d)\n",
    "pxyz=triangle\n",
    "\n",
    "M=3\n",
    "#ring,radius = geom.ring(d,M)\n",
    "#h=radius\n",
    "#pxyz=ring;\n",
    "\n",
    "pxyz[:,2]=0.14\n",
    "p0 = 1e7*np.ones(len(pxyz));\n",
    "\n",
    "pcentroid = np.mean(pxyz,0);\n",
    "\n",
    "uamp1 = transducers.get_focused_element_vals(k0, uxyz, pxyz, p0 )\n",
    "#uamp1 = sqrt(powerRenorm)*uamp0\n",
    "uamp1 = sqrt(powerRenorm)*( uamp1  ) / sum(abs(uamp1))\n",
    "\n",
    "#P1 = sonalleve.calc_pressure_field(k0, uxyz, uamp1, xrp, yrp, zrp)\n",
    "P1 = transducers.calc_pressure_field_cuda(k0, uxyz, unormals, uamp1, xrp, yrp, zrp)\n",
    "I1reg = np.abs(P1)**2 / (2.0*rho*c0)"
   ]
  },
  {
   "cell_type": "code",
   "execution_count": 14,
   "metadata": {
    "collapsed": false
   },
   "outputs": [],
   "source": [
    "# Execute with 'modifyPower=1' to make the multi-focus spots each correspond to a specfic intensity. \n",
    "# Otherwise the total input power will set to the same as in the single focus case, so multi-focal spots \n",
    "# will have lower intensity in each spot\n",
    "\n",
    "modifyPower=0\n",
    "\n",
    "if modifyPower:\n",
    "    #Ispta1 = 1.2e7;\n",
    "    #Ispta1 = Ispta0\n",
    "    #powerAdj1 = (Ispta1/np.max(I1reg))\n",
    "    \n",
    "    powerAdj1=1.5\n",
    "    Ispta1=powerAdj1*Ispta0\n",
    "    uamp1adj = sqrt(powerAdj1)*( uamp1  ) \n",
    "else:\n",
    "    Ispta1 = np.max(I1reg)\n",
    "    powerAdj1=1;\n",
    "    uamp1adj = sqrt(powerAdj1)*( uamp1  ) \n",
    "    \n",
    "\n",
    "I1 =powerAdj1*I1reg "
   ]
  },
  {
   "cell_type": "code",
   "execution_count": 13,
   "metadata": {
    "collapsed": false
   },
   "outputs": [
    {
     "data": {
      "text/plain": [
       "<matplotlib.image.AxesImage at 0x7b7ec18>"
      ]
     },
     "execution_count": 13,
     "metadata": {},
     "output_type": "execute_result"
    },
    {
     "data": {
      "image/png": "[encoded data removed]",
      "text/plain": [
       "<matplotlib.figure.Figure at 0x73cff60>"
      ]
     },
     "metadata": {},
     "output_type": "display_data"
    }
   ],
   "source": [
    "plt.imshow(I1reg[:,:,focplaneZpix])"
   ]
  },
  {
   "cell_type": "markdown",
   "metadata": {},
   "source": [
    "# Sonication 0"
   ]
  },
  {
   "cell_type": "code",
   "execution_count": 15,
   "metadata": {
    "collapsed": false
   },
   "outputs": [],
   "source": [
    "npass0=1\n",
    "CEM0passFinal = np.zeros([npass0,Nx,Ny,Nz])\n",
    "Tmax0passFinal = np.zeros([npass0,Nx,Ny,Nz])\n",
    "T0passFinal = np.zeros([npass0,Nx,Ny,Nz])\n",
    "CEM0vsTimevsPass = np.zeros([npass0,nacq1,Nx,Ny,Nz])\n",
    "sonicationEndTimesvsPass0 = np.zeros([npass0, nacq0])\n",
    "Temp0vsTimevsPassON = np.zeros([npass0, nacq0])\n",
    "Temp0vsTimevsPassOFF = np.zeros([npass0, nacq0])"
   ]
  },
  {
   "cell_type": "code",
   "execution_count": 38,
   "metadata": {
    "collapsed": false
   },
   "outputs": [],
   "source": [
    "del CEM0passFinal, Tmax0passFinal, T0passFinal, CEM0vsTimevsPass , sonicationEndTimesvsPass0, Temp0vsTimevsPassON, Temp0vsTimevsPassOFF"
   ]
  },
  {
   "cell_type": "code",
   "execution_count": 16,
   "metadata": {
    "collapsed": false
   },
   "outputs": [
    {
     "name": "stdout",
     "output_type": "stream",
     "text": [
      "pass #  1\n"
     ]
    }
   ],
   "source": [
    "T0=37\n",
    "T[0][:]=T0\n",
    "CEM0[:]=0\n",
    "CEM0vsTime[0][:]=0\n",
    "Tmax0[:]=0\n",
    "\n",
    "\n",
    "endTime=0.0;\n",
    "try:\n",
    "    del xdcDwells, xdcWaits, xdcPoints\n",
    "except NameError:\n",
    "   1\n",
    "    \n",
    "xdcDwells = dwell_time1*np.ones([nacq0])\n",
    "xdcWaits = wait_time*np.ones([nacq0])\n",
    "xdcPoints = 1e-3*focalpoint_coords_mm\n",
    "xdcPoints[:,2]=0\n",
    "\n",
    "for n in range(0,npass0):\n",
    "    print('pass # ', n+1)\n",
    "\n",
    "    Tmax0, sonicationEndTimes, elapsedTime = sonication_heating_physical_move_nofeedback(\n",
    "                                                    xdcDwells,xdcWaits, xdcPoints, uamp0,\n",
    "                                                    CEM0, CEM0vsTime, Temp0vsTimevsPassON[n], Temp0vsTimevsPassOFF[n],\n",
    "                                                    Tmax=Tmax0, timeZero=endTime, Freeflow=1, onroi=roiOnTarget, offroi=roiOffTarget)\n",
    "    \n",
    "    Tfinal0 = T[0].copy()\n",
    "    \n",
    "    CEM0passFinal[n] = CEM0;\n",
    "    Tmax0passFinal[n] = Tmax0\n",
    "    T0passFinal[n] = Tfinal0\n",
    "    CEM0vsTimevsPass[n] = CEM0vsTime;\n",
    "    sonicationEndTimesvsPass0[n] = sonicationEndTimes\n",
    "    \n",
    "    endTime = sonicationEndTimes[-1];"
   ]
  },
  {
   "cell_type": "code",
   "execution_count": 17,
   "metadata": {
    "collapsed": false
   },
   "outputs": [
    {
     "data": {
      "image/png": "[encoded data removed]",
      "text/plain": [
       "<matplotlib.figure.Figure at 0x7d88e10>"
      ]
     },
     "metadata": {},
     "output_type": "display_data"
    }
   ],
   "source": [
    "passnum=0\n",
    "\n",
    "n=-1\n",
    "fig=plt.figure(figsize=(16,7))\n",
    "ax1=fig.add_subplot(141)\n",
    "\n",
    "colormap = image.cm.hot\n",
    "\n",
    "im1=ax1.imshow(np.transpose(Tmax0passFinal[passnum][:,:,focplaneZpix]), vmin=T0,vmax=(T0+30), cmap=colormap, origin='lower', \n",
    "               extent=[100*xrp[0], 100*xrp[-1], 100*yrp[0], 100*yrp[-1]], interpolation=\"none\")\n",
    "\n",
    "ax1.plot(100*xdcPoints[:,0], 100*xdcPoints[:,1], 'b--*')\n",
    "\n",
    "ax2=fig.add_subplot(142)\n",
    "im2=ax2.imshow(np.transpose(Tmax0passFinal[passnum][:,floor(Ny/2),:]), vmin=T0,vmax=(T0+30), cmap=colormap, origin='lower', \n",
    "               extent=[100*xrp[0], 100*xrp[-1], 100*zrp[0], 100*zrp[-1]], interpolation=\"none\")\n",
    "\n",
    "ax3=fig.add_subplot(143)\n",
    "im3=ax3.imshow(np.transpose(CEM0vsTimevsPass[passnum][n, :,:,focplaneZpix]), vmin=0,vmax=240, cmap=colormap, origin='lower', extent=[100*xrp[0], 100*xrp[-1], 100*yrp[0], 100*yrp[-1]])\n",
    "#ax3.plot(x1,y1,'*--')\n",
    "ax4=fig.add_subplot(144)\n",
    "im4=ax4.imshow(np.transpose(CEM0vsTimevsPass[passnum][n, :,floor(Ny/2),:]), vmin=0,vmax=240, cmap=colormap, origin='lower', extent=[100*xrp[0], 100*xrp[-1], 100*zrp[0], 100*zrp[-1]])\n",
    "\n",
    "\n",
    "cb1=plt.colorbar(mappable=im1, ax=ax1, orientation='vertical')\n",
    "cb2=plt.colorbar(mappable=im2, ax=ax2, orientation='vertical')\n",
    "cb3=plt.colorbar(mappable=im3, ax=ax3, orientation='horizontal')\n",
    "cb4=plt.colorbar(mappable=im4, ax=ax4, orientation='horizontal')\n",
    "cb1.set_label('C')\n",
    "cb2.set_label('C')\n",
    "cb3.set_label('CEM')\n",
    "cb4.set_label('CEM')"
   ]
  },
  {
   "cell_type": "markdown",
   "metadata": {},
   "source": [
    "# Sonication 1"
   ]
  },
  {
   "cell_type": "code",
   "execution_count": 42,
   "metadata": {
    "collapsed": false
   },
   "outputs": [],
   "source": [
    "npass1=1\n",
    "CEM1passFinal = np.zeros([npass1,Nx,Ny,Nz])\n",
    "Tmax1passFinal = np.zeros([npass1,Nx,Ny,Nz])\n",
    "T1passFinal = np.zeros([npass1,Nx,Ny,Nz])\n",
    "CEM1vsTimevsPass = np.zeros([npass1,nacq1,Nx,Ny,Nz])\n",
    "sonicationEndTimesvsPass = np.zeros([npass1, nacq1])\n",
    "Temp1vsTimevsPassON = np.zeros([npass1, nacq1])\n",
    "Temp1vsTimevsPassOFF = np.zeros([npass1, nacq1])"
   ]
  },
  {
   "cell_type": "code",
   "execution_count": 41,
   "metadata": {
    "collapsed": false
   },
   "outputs": [],
   "source": [
    "del CEM1passFinal, Tmax1passFinal, T1passFinal, CEM1vsTimevsPass , sonicationEndTimesvsPass, Temp1vsTimevsPassON, Temp1vsTimevsPassOFF"
   ]
  },
  {
   "cell_type": "code",
   "execution_count": 43,
   "metadata": {
    "collapsed": false
   },
   "outputs": [
    {
     "name": "stdout",
     "output_type": "stream",
     "text": [
      "pass #  1\n"
     ]
    }
   ],
   "source": [
    "T0=37\n",
    "T[0][:]=T0\n",
    "CEM1[:]=0\n",
    "CEM1vsTime[0][:]=0\n",
    "Tmax1[:]=0\n",
    "\n",
    "\n",
    "endTime=0.0;\n",
    "try:\n",
    "    del xdcDwells, xdcWaits, xdcPoints\n",
    "except NameError:\n",
    "   1\n",
    "    \n",
    "xdcDwells = dwell_time1*np.ones([nacq1])\n",
    "xdcWaits = wait_time*np.ones([nacq1])\n",
    "xdcPoints = 1e-3*focalpoint_coords_mm\n",
    "xdcPoints[:,2]=0\n",
    "\n",
    "for n in range(0,1):\n",
    "    print('pass # ', n+1)\n",
    "\n",
    "    Tmax1, sonicationEndTimes, elapsedTime = sonication_heating_physical_move_nofeedback(\n",
    "                                                    xdcDwells,xdcWaits, xdcPoints, uamp1adj,\n",
    "                                                    CEM1, CEM1vsTime, Temp1vsTimevsPassON[n], Temp1vsTimevsPassOFF[n], \n",
    "                                                    Tmax=Tmax1, timeZero=endTime, Freeflow=1, onroi=roiOnTarget, offroi=roiOffTarget)\n",
    "    \n",
    "    Tfinal1 = T[0].copy()\n",
    "    \n",
    "    CEM1passFinal[n] = CEM1;\n",
    "    Tmax1passFinal[n] = Tmax1\n",
    "    T1passFinal[n] = Tfinal1\n",
    "    CEM1vsTimevsPass[n] = CEM1vsTime;\n",
    "    sonicationEndTimesvsPass[n] = sonicationEndTimes\n",
    "    \n",
    "    endTime = sonicationEndTimes[-1];"
   ]
  },
  {
   "cell_type": "code",
   "execution_count": 44,
   "metadata": {
    "collapsed": false
   },
   "outputs": [
    {
     "data": {
      "image/png": "[encoded data removed]",
      "text/plain": [
       "<matplotlib.figure.Figure at 0xefbcef0>"
      ]
     },
     "metadata": {},
     "output_type": "display_data"
    }
   ],
   "source": [
    "passnum=0\n",
    "\n",
    "\n",
    "n=-1\n",
    "\n",
    "fig=plt.figure(figsize=(19,7))\n",
    "ax1=fig.add_subplot(141)\n",
    "\n",
    "colormap = image.cm.hot\n",
    "\n",
    "im1=ax1.imshow(np.transpose(Tmax1passFinal[passnum][:,:,focplaneZpix]), vmin=T0,vmax=T0+20, cmap=colormap, origin='lower', \n",
    "               extent=[100*xrp[0], 100*xrp[-1], 100*yrp[0], 100*yrp[-1]], interpolation=\"none\")\n",
    "ax1.plot(100*xdcPoints[:,0], 100*xdcPoints[:,1], 'b--*')\n",
    "\n",
    "\n",
    "ax2=fig.add_subplot(142)\n",
    "im2=ax2.imshow(np.transpose(Tmax1passFinal[passnum][:,floor(Ny/2),:]), vmin=T0,vmax=T0+20, cmap=colormap, origin='lower', \n",
    "               extent=[100*xrp[0], 100*xrp[-1], 100*zrp[0], 100*zrp[-1]], interpolation=\"none\")\n",
    "\n",
    "ax3=fig.add_subplot(143)\n",
    "im3=ax3.imshow(np.transpose(CEM1vsTimevsPass[passnum][n, :,:,focplaneZpix]), vmin=0,vmax=240, cmap=colormap, origin='lower', extent=[100*xrp[0], 100*xrp[-1], 100*yrp[0], 100*yrp[-1]])\n",
    "ax3.plot(100*xdcPoints[:,0], 100*xdcPoints[:,1], 'b--*')\n",
    "ax4=fig.add_subplot(144)\n",
    "im4=ax4.imshow(np.transpose(CEM1vsTimevsPass[passnum][n, :,floor(Ny/2),:]), vmin=0,vmax=240, cmap=colormap, origin='lower', extent=[100*xrp[0], 100*xrp[-1], 100*zrp[0], 100*zrp[-1]])\n",
    "\n",
    "\n",
    "cb1=plt.colorbar(mappable=im1, ax=ax1, orientation='vertical')\n",
    "cb2=plt.colorbar(mappable=im2, ax=ax2, orientation='vertical')\n",
    "cb3=plt.colorbar(mappable=im3, ax=ax3, orientation='horizontal')\n",
    "cb4=plt.colorbar(mappable=im4, ax=ax4, orientation='horizontal')\n",
    "cb1.set_label('C')\n",
    "cb2.set_label('C')\n",
    "cb3.set_label('CEM')\n",
    "cb4.set_label('CEM')"
   ]
  },
  {
   "cell_type": "code",
   "execution_count": 21,
   "metadata": {
    "collapsed": false
   },
   "outputs": [
    {
     "data": {
      "text/plain": [
       "1551"
      ]
     },
     "execution_count": 21,
     "metadata": {},
     "output_type": "execute_result"
    }
   ],
   "source": [
    "np.sum(CEM1[roiOnTarget]>240)"
   ]
  },
  {
   "cell_type": "code",
   "execution_count": 22,
   "metadata": {
    "collapsed": false
   },
   "outputs": [
    {
     "data": {
      "text/plain": [
       "2246"
      ]
     },
     "execution_count": 22,
     "metadata": {},
     "output_type": "execute_result"
    }
   ],
   "source": [
    "np.sum(CEM1[roiExtra]>240)"
   ]
  },
  {
   "cell_type": "code",
   "execution_count": 25,
   "metadata": {
    "collapsed": false
   },
   "outputs": [
    {
     "data": {
      "text/plain": [
       "array([  11.5,   23. ,   34.5,   46. ,   57.5,   69. ,   80.5,   92. ,\n",
       "        103.5,  115. ,  126.5,  138. ,  149.5,  161. ,  172.5,  184. ,\n",
       "        195.5])"
      ]
     },
     "execution_count": 25,
     "metadata": {},
     "output_type": "execute_result"
    }
   ],
   "source": []
  },
  {
   "cell_type": "code",
   "execution_count": 30,
   "metadata": {
    "collapsed": false
   },
   "outputs": [],
   "source": [
    "maxxp=1\n",
    "t0 = sonicationEndTimesvsPass0[0:maxxp].flatten()\n",
    "TcurveOn0 = Temp0vsTimevsPassON[0:maxxp].flatten()\n",
    "TcurveOff0 = Temp0vsTimevsPassOFF[0:maxxp].flatten()\n"
   ]
  },
  {
   "cell_type": "code",
   "execution_count": 31,
   "metadata": {
    "collapsed": false
   },
   "outputs": [],
   "source": [
    "maxxp=1\n",
    "t1 = sonicationEndTimesvsPass[0:maxxp].flatten()\n",
    "TcurveOn1 = Temp1vsTimevsPassON[0:maxxp].flatten()\n",
    "TcurveOff1 = Temp1vsTimevsPassOFF[0:maxxp].flatten()"
   ]
  },
  {
   "cell_type": "code",
   "execution_count": 64,
   "metadata": {
    "collapsed": false
   },
   "outputs": [],
   "source": [
    "h5name = \"C:\\\\Users\\\\Vandiver\\\\Data\\\\simulations\\\\circ_nfoc\\\\nfoci_circ_triangle_2_d=3.5mm.hdf5\""
   ]
  },
  {
   "cell_type": "code",
   "execution_count": 65,
   "metadata": {
    "collapsed": false
   },
   "outputs": [],
   "source": [
    "\n",
    "\n",
    "f = h5py.File(h5name, \"w\")\n",
    "\n",
    "dset= f.create_dataset(\"geom/trajectory\", data=1e-3*focalpoint_coords_mm)\n",
    "f.flush()\n",
    "\n",
    "dset = f.create_dataset(\"geom/gridx\", data=gxp)\n",
    "dset.attrs['xp']=xrp\n",
    "f.flush()\n",
    "\n",
    "dset = f.create_dataset(\"geom/gridy\", data=gyp)\n",
    "dset.attrs['yp']=zrp\n",
    "f.flush()\n",
    "\n",
    "dset = f.create_dataset(\"geom/gridz\", data=gzp)\n",
    "dset.attrs['zp']=zrp\n",
    "f.flush()\n",
    "\n",
    "dset = f.create_dataset(\"geom/ROION\", data=roiOnTarget)\n",
    "f.flush()\n",
    "\n",
    "dset = f.create_dataset(\"geom/ROIOFF\", data=roiOffTarget)\n",
    "f.flush()\n",
    "\n",
    "dset = f.create_dataset(\"1/CEM\", data=CEM0vsTimevsPass)\n",
    "\n",
    "dset.attrs['T0']=T0\n",
    "dset.attrs['kdiff']=ktdiffusion\n",
    "dset.attrs['alpha']=alpha_acc\n",
    "dset.attrs['perfRate']=perfRate\n",
    "dset.attrs['d']=d\n",
    "dset.attrs['nfoc']=1\n",
    "dset.attrs['xp']=xrp\n",
    "dset.attrs['zp']=zrp\n",
    "dset.attrs['yp']=yrp\n",
    "dset.attrs['resolution'] = [dt,dx,dy,dz]\n",
    "dset.attrs['tstops'] = t0\n",
    "dset.attrs['passes'] = maxxp\n",
    "dset.attrs['wait'] = wait_time\n",
    "dset.attrs['dwell'] = dwell_time0\n",
    "dset.attrs['Ispta'] = Ispta0\n",
    "dset.attrs['uamp'] = uamp0\n",
    "f.flush()\n",
    "\n",
    "dset = f.create_dataset(\"1/TonCurve\", data=TcurveOn0)\n",
    "dset.attrs['tstops'] = t0\n",
    "f.flush()\n",
    "dset = f.create_dataset(\"1/ToffCurve\", data=TcurveOff0)\n",
    "dset.attrs['tstops'] = t0\n",
    "\n",
    "f.flush()\n",
    "\n",
    "\n",
    "\n",
    "f.close()"
   ]
  },
  {
   "cell_type": "code",
   "execution_count": 66,
   "metadata": {
    "collapsed": false
   },
   "outputs": [],
   "source": [
    "#h5name = \"C:\\\\Users\\\\Vandiver\\\\Data\\\\simulations\\\\circ_nfoc\\\\nfoci_movingring.hdf5\"\n",
    "\n",
    "f = h5py.File(h5name, \"r+\")\n",
    "\n",
    "dset = f.create_dataset(\"%d/CEM\" % M, data=CEM1vsTimevsPass)\n",
    "dset.attrs['nfoc']=M\n",
    "dset.attrs['passes'] = maxxp\n",
    "dset.attrs['kdiff']=ktdiffusion\n",
    "dset.attrs['alpha']=alpha_acc\n",
    "dset.attrs['perfRate']=perfRate\n",
    "dset.attrs['d']=d\n",
    "dset.attrs['xp']=xrp\n",
    "dset.attrs['zp']=zrp\n",
    "dset.attrs['yp']=yrp\n",
    "dset.attrs['resolution'] = [dt,dx,dy,dz]\n",
    "dset.attrs['tstops'] = t1\n",
    "dset.attrs['wait'] = wait_time\n",
    "dset.attrs['dwell'] = dwell_time1\n",
    "dset.attrs['uamp'] = uamp1adj\n",
    "f.flush()\n",
    "dset = f.create_dataset(\"%d/TonCurve\" % M, data=TcurveOn1)\n",
    "dset.attrs['tstops'] = t1\n",
    "f.flush()\n",
    "dset = f.create_dataset(\"%d/ToffCurve\" % M, data=TcurveOff1)\n",
    "dset.attrs['tstops'] = t1\n",
    "\n",
    "f.flush()\n",
    "f.close()"
   ]
  },
  {
   "cell_type": "code",
   "execution_count": 49,
   "metadata": {
    "collapsed": false
   },
   "outputs": [
    {
     "data": {
      "text/plain": [
       "3"
      ]
     },
     "execution_count": 49,
     "metadata": {},
     "output_type": "execute_result"
    }
   ],
   "source": [
    "M"
   ]
  },
  {
   "cell_type": "code",
   "execution_count": 46,
   "metadata": {
    "collapsed": false
   },
   "outputs": [],
   "source": [
    "f.close()"
   ]
  },
  {
   "cell_type": "markdown",
   "metadata": {},
   "source": [
    "## Single vs. multi compare"
   ]
  },
  {
   "cell_type": "code",
   "execution_count": 32,
   "metadata": {
    "collapsed": false
   },
   "outputs": [
    {
     "data": {
      "text/plain": [
       "[<matplotlib.lines.Line2D at 0x72ce6a0>]"
      ]
     },
     "execution_count": 32,
     "metadata": {},
     "output_type": "execute_result"
    },
    {
     "data": {
      "image/png": "[encoded data removed]",
      "text/plain": [
       "<matplotlib.figure.Figure at 0x72ce908>"
      ]
     },
     "metadata": {},
     "output_type": "display_data"
    }
   ],
   "source": [
    "maxp=1\n",
    "t0 = sonicationEndTimesvsPass0[0:maxp].flatten()\n",
    "Tcurve0 = Temp0vsTimevsPassON[0:maxp].flatten()\n",
    "\n",
    "t1 = sonicationEndTimesvsPass[0:maxp].flatten()\n",
    "Tcurve1 = Temp1vsTimevsPassON[0:maxp].flatten()\n",
    "\n",
    "plt.plot( t0, Tcurve0 - T0, '--' )\n",
    "plt.plot( t1, Tcurve1 - T0 )\n"
   ]
  },
  {
   "cell_type": "code",
   "execution_count": 45,
   "metadata": {
    "collapsed": false
   },
   "outputs": [
    {
     "data": {
      "text/plain": [
       "[<matplotlib.lines.Line2D at 0x1bb448d0>]"
      ]
     },
     "execution_count": 45,
     "metadata": {},
     "output_type": "execute_result"
    },
    {
     "data": {
      "image/png": "[encoded data removed]",
      "text/plain": [
       "<matplotlib.figure.Figure at 0x1bb44be0>"
      ]
     },
     "metadata": {},
     "output_type": "display_data"
    }
   ],
   "source": [
    "maxp=4\n",
    "t0 = sonicationEndTimesvsPass0[0:maxp].flatten()\n",
    "ratio0 = Temp0vsTimevsPassON[0:maxp].flatten()/Temp0vsTimevsPassOFF[0:maxp].flatten()\n",
    "\n",
    "t1 = sonicationEndTimesvsPass[0:maxp].flatten()\n",
    "ratio1 = Temp1vsTimevsPassON[0:maxp].flatten()/ Temp1vsTimevsPassOFF[0:maxp].flatten()\n",
    "\n",
    "plt.plot( t0, ratio0, '--' )\n",
    "plt.plot( t1, ratio1 )"
   ]
  },
  {
   "cell_type": "code",
   "execution_count": 30,
   "metadata": {
    "collapsed": false
   },
   "outputs": [],
   "source": [
    "CEMcurve0 = np.mean( CEM0vsTimevsPass[0:2].reshape([2*nacq0,Nx,Ny,Nz]))"
   ]
  },
  {
   "cell_type": "code",
   "execution_count": 123,
   "metadata": {
    "collapsed": false
   },
   "outputs": [],
   "source": [
    "CEMcurve0=list( map( lambda p,n: np.mean(CEM0vsTimevsPass[p][n][roiOnTarget]), [0,0], [0,1] ) )"
   ]
  },
  {
   "cell_type": "code",
   "execution_count": 46,
   "metadata": {
    "collapsed": false
   },
   "outputs": [
    {
     "data": {
      "text/plain": [
       "454540.88794299535"
      ]
     },
     "execution_count": 46,
     "metadata": {},
     "output_type": "execute_result"
    }
   ],
   "source": [
    "np.mean(CEM1vsTime[0][roiOnTarget])"
   ]
  },
  {
   "cell_type": "code",
   "execution_count": 51,
   "metadata": {
    "collapsed": false
   },
   "outputs": [],
   "source": [
    "lesionvol0=list(map( lambda ti: np.sum( CEM0vsTime[ti] > 240) ,  range(0,nacq0) ))\n",
    "lesionvol1=list(map( lambda ti: np.sum( CEM1vsTime[ti] > 240) ,  range(0,nacq1) ))"
   ]
  },
  {
   "cell_type": "code",
   "execution_count": 54,
   "metadata": {
    "collapsed": false
   },
   "outputs": [
    {
     "data": {
      "text/plain": [
       "[<matplotlib.lines.Line2D at 0x734dc18>]"
      ]
     },
     "execution_count": 54,
     "metadata": {},
     "output_type": "execute_result"
    },
    {
     "data": {
      "image/png": "[encoded data removed]",
      "text/plain": [
       "<matplotlib.figure.Figure at 0x734d160>"
      ]
     },
     "metadata": {},
     "output_type": "display_data"
    }
   ],
   "source": [
    "plt.plot(t0,lesionvol0)\n",
    "plt.plot(t1,lesionvol1)"
   ]
  },
  {
   "cell_type": "code",
   "execution_count": 55,
   "metadata": {
    "collapsed": false
   },
   "outputs": [
    {
     "data": {
      "text/plain": [
       "0.0"
      ]
     },
     "execution_count": 55,
     "metadata": {},
     "output_type": "execute_result"
    }
   ],
   "source": [
    "np.mean(CEM1vsTime[2] - CEM1)"
   ]
  },
  {
   "cell_type": "code",
   "execution_count": 56,
   "metadata": {
    "collapsed": false
   },
   "outputs": [],
   "source": [
    "fzonesCentered=list( map ( lambda v: np.where( calcGridDist( v ) < 0.005), [[0,0,0.14]] ) )"
   ]
  },
  {
   "cell_type": "code",
   "execution_count": 50,
   "metadata": {
    "collapsed": false
   },
   "outputs": [
    {
     "data": {
      "text/plain": [
       "[(array([34, 34, 34, ..., 46, 46, 46], dtype=int64),\n",
       "  array([37, 37, 37, ..., 41, 42, 42], dtype=int64),\n",
       "  array([33, 34, 35, ..., 36, 34, 35], dtype=int64))]"
      ]
     },
     "execution_count": 50,
     "metadata": {},
     "output_type": "execute_result"
    }
   ],
   "source": [
    "fzonesCentered"
   ]
  },
  {
   "cell_type": "code",
   "execution_count": 71,
   "metadata": {
    "collapsed": false
   },
   "outputs": [
    {
     "data": {
      "text/plain": [
       "0.032"
      ]
     },
     "execution_count": 71,
     "metadata": {},
     "output_type": "execute_result"
    }
   ],
   "source": [
    "40/1250"
   ]
  },
  {
   "cell_type": "code",
   "execution_count": 71,
   "metadata": {
    "collapsed": false
   },
   "outputs": [
    {
     "data": {
      "text/plain": [
       "43.916665101705711"
      ]
     },
     "execution_count": 71,
     "metadata": {},
     "output_type": "execute_result"
    }
   ],
   "source": [
    "np.mean(T[0][roiOnTarget])"
   ]
  },
  {
   "cell_type": "code",
   "execution_count": 47,
   "metadata": {
    "collapsed": false
   },
   "outputs": [],
   "source": [
    "qq=Rbase**(T-43)"
   ]
  },
  {
   "cell_type": "code",
   "execution_count": 43,
   "metadata": {
    "collapsed": false
   },
   "outputs": [
    {
     "data": {
      "text/plain": [
       "(60,)"
      ]
     },
     "execution_count": 43,
     "metadata": {},
     "output_type": "execute_result"
    }
   ],
   "source": [
    "np.sum( qq > 240, (1,2,3)).shape"
   ]
  },
  {
   "cell_type": "code",
   "execution_count": 42,
   "metadata": {
    "collapsed": false
   },
   "outputs": [
    {
     "data": {
      "text/plain": [
       "[<matplotlib.lines.Line2D at 0x106ee4a8>]"
      ]
     },
     "execution_count": 42,
     "metadata": {},
     "output_type": "execute_result"
    },
    {
     "data": {
      "image/png": "[encoded data removed]",
      "text/plain": [
       "<matplotlib.figure.Figure at 0x10aded30>"
      ]
     },
     "metadata": {},
     "output_type": "display_data"
    }
   ],
   "source": [
    "plt.plot( np.sum( qq > 240, (1,2,3))  )"
   ]
  },
  {
   "cell_type": "code",
   "execution_count": 77,
   "metadata": {
    "collapsed": false
   },
   "outputs": [
    {
     "data": {
      "text/plain": [
       "True"
      ]
     },
     "execution_count": 77,
     "metadata": {},
     "output_type": "execute_result"
    }
   ],
   "source": [
    "np.max( np.sum(qq,0) > 240)  "
   ]
  },
  {
   "cell_type": "code",
   "execution_count": 80,
   "metadata": {
    "collapsed": false
   },
   "outputs": [
    {
     "data": {
      "text/plain": [
       "array([[[False, False, False, ..., False, False, False],\n",
       "        [False, False, False, ..., False, False, False],\n",
       "        [False, False, False, ..., False, False, False],\n",
       "        ..., \n",
       "        [False, False, False, ..., False, False, False],\n",
       "        [False, False, False, ..., False, False, False],\n",
       "        [False, False, False, ..., False, False, False]],\n",
       "\n",
       "       [[False, False, False, ..., False, False, False],\n",
       "        [False, False, False, ..., False, False, False],\n",
       "        [False, False, False, ..., False, False, False],\n",
       "        ..., \n",
       "        [False, False, False, ..., False, False, False],\n",
       "        [False, False, False, ..., False, False, False],\n",
       "        [False, False, False, ..., False, False, False]],\n",
       "\n",
       "       [[False, False, False, ..., False, False, False],\n",
       "        [False, False, False, ..., False, False, False],\n",
       "        [False, False, False, ..., False, False, False],\n",
       "        ..., \n",
       "        [False, False, False, ..., False, False, False],\n",
       "        [False, False, False, ..., False, False, False],\n",
       "        [False, False, False, ..., False, False, False]],\n",
       "\n",
       "       ..., \n",
       "       [[False, False, False, ..., False, False, False],\n",
       "        [False, False, False, ..., False, False, False],\n",
       "        [False, False, False, ..., False, False, False],\n",
       "        ..., \n",
       "        [False, False, False, ..., False, False, False],\n",
       "        [False, False, False, ..., False, False, False],\n",
       "        [False, False, False, ..., False, False, False]],\n",
       "\n",
       "       [[False, False, False, ..., False, False, False],\n",
       "        [False, False, False, ..., False, False, False],\n",
       "        [False, False, False, ..., False, False, False],\n",
       "        ..., \n",
       "        [False, False, False, ..., False, False, False],\n",
       "        [False, False, False, ..., False, False, False],\n",
       "        [False, False, False, ..., False, False, False]],\n",
       "\n",
       "       [[False, False, False, ..., False, False, False],\n",
       "        [False, False, False, ..., False, False, False],\n",
       "        [False, False, False, ..., False, False, False],\n",
       "        ..., \n",
       "        [False, False, False, ..., False, False, False],\n",
       "        [False, False, False, ..., False, False, False],\n",
       "        [False, False, False, ..., False, False, False]]], dtype=bool)"
      ]
     },
     "execution_count": 80,
     "metadata": {},
     "output_type": "execute_result"
    }
   ],
   "source": [
    "np.sum(np.sum(qq,0) > 240"
   ]
  },
  {
   "cell_type": "code",
   "execution_count": 13,
   "metadata": {
    "collapsed": false
   },
   "outputs": [
    {
     "data": {
      "text/plain": [
       "(0,)"
      ]
     },
     "execution_count": 13,
     "metadata": {},
     "output_type": "execute_result"
    }
   ],
   "source": [
    "Rbase[np.where(T[0] > 3.0, True, False)].shape"
   ]
  },
  {
   "cell_type": "code",
   "execution_count": 17,
   "metadata": {
    "collapsed": false
   },
   "outputs": [
    {
     "data": {
      "text/plain": [
       "(70, 70, 70)"
      ]
     },
     "execution_count": 17,
     "metadata": {},
     "output_type": "execute_result"
    }
   ],
   "source": [
    "np.where(T[0] > 3.0, True, False).shape"
   ]
  },
  {
   "cell_type": "code",
   "execution_count": 66,
   "metadata": {
    "collapsed": false
   },
   "outputs": [],
   "source": [
    "x=np.zeros([3,4])\n",
    "p0 = np.array([0,1,2,3])\n",
    "p1 = np.array([10,11])\n",
    "p2 = np.array([20,21,22])\n",
    "y=list([p0, p1, p2])"
   ]
  },
  {
   "cell_type": "code",
   "execution_count": 67,
   "metadata": {
    "collapsed": false
   },
   "outputs": [],
   "source": [
    "grid = np.meshgrid( *tuple(y), indexing='ij')"
   ]
  },
  {
   "cell_type": "code",
   "execution_count": 86,
   "metadata": {
    "collapsed": false
   },
   "outputs": [
    {
     "ename": "TypeError",
     "evalue": "len() takes exactly one argument (3 given)",
     "output_type": "error",
     "traceback": [
      "\u001b[1;31m---------------------------------------------------------------------------\u001b[0m",
      "\u001b[1;31mTypeError\u001b[0m                                 Traceback (most recent call last)",
      "\u001b[1;32m<ipython-input-86-a16c99269b9a>\u001b[0m in \u001b[0;36m<module>\u001b[1;34m()\u001b[0m\n\u001b[1;32m----> 1\u001b[1;33m \u001b[0mxx\u001b[0m\u001b[1;33m=\u001b[0m\u001b[0mlist\u001b[0m\u001b[1;33m(\u001b[0m\u001b[0mmap\u001b[0m\u001b[1;33m(\u001b[0m \u001b[1;32mlambda\u001b[0m \u001b[1;33m*\u001b[0m\u001b[0marg\u001b[0m\u001b[1;33m:\u001b[0m \u001b[0mlen\u001b[0m\u001b[1;33m(\u001b[0m\u001b[1;33m*\u001b[0m\u001b[0marg\u001b[0m\u001b[1;33m)\u001b[0m \u001b[1;33m,\u001b[0m \u001b[1;33m*\u001b[0m\u001b[0mtuple\u001b[0m\u001b[1;33m(\u001b[0m\u001b[0my\u001b[0m\u001b[1;33m)\u001b[0m\u001b[1;33m)\u001b[0m\u001b[1;33m)\u001b[0m\u001b[1;33m\u001b[0m\u001b[0m\n\u001b[0m",
      "\u001b[1;32m<ipython-input-86-a16c99269b9a>\u001b[0m in \u001b[0;36m<lambda>\u001b[1;34m(*arg)\u001b[0m\n\u001b[1;32m----> 1\u001b[1;33m \u001b[0mxx\u001b[0m\u001b[1;33m=\u001b[0m\u001b[0mlist\u001b[0m\u001b[1;33m(\u001b[0m\u001b[0mmap\u001b[0m\u001b[1;33m(\u001b[0m \u001b[1;32mlambda\u001b[0m \u001b[1;33m*\u001b[0m\u001b[0marg\u001b[0m\u001b[1;33m:\u001b[0m \u001b[0mlen\u001b[0m\u001b[1;33m(\u001b[0m\u001b[1;33m*\u001b[0m\u001b[0marg\u001b[0m\u001b[1;33m)\u001b[0m \u001b[1;33m,\u001b[0m \u001b[1;33m*\u001b[0m\u001b[0mtuple\u001b[0m\u001b[1;33m(\u001b[0m\u001b[0my\u001b[0m\u001b[1;33m)\u001b[0m\u001b[1;33m)\u001b[0m\u001b[1;33m)\u001b[0m\u001b[1;33m\u001b[0m\u001b[0m\n\u001b[0m",
      "\u001b[1;31mTypeError\u001b[0m: len() takes exactly one argument (3 given)"
     ]
    }
   ],
   "source": [
    "xx=list(map( lambda *arg: len(*arg) , tuple(y)))"
   ]
  },
  {
   "cell_type": "code",
   "execution_count": 85,
   "metadata": {
    "collapsed": false
   },
   "outputs": [
    {
     "data": {
      "text/plain": [
       "[4, 2, 3]"
      ]
     },
     "execution_count": 85,
     "metadata": {},
     "output_type": "execute_result"
    }
   ],
   "source": [
    "xx"
   ]
  },
  {
   "cell_type": "code",
   "execution_count": 90,
   "metadata": {
    "collapsed": false
   },
   "outputs": [
    {
     "data": {
      "text/plain": [
       "(array([0, 1, 2, 3]), array([10, 11]), array([20, 21, 22]))"
      ]
     },
     "execution_count": 90,
     "metadata": {},
     "output_type": "execute_result"
    }
   ],
   "source": []
  },
  {
   "cell_type": "markdown",
   "metadata": {},
   "source": [
    "# Test param_grid output to hdf5"
   ]
  },
  {
   "cell_type": "code",
   "execution_count": 19,
   "metadata": {
    "collapsed": false
   },
   "outputs": [],
   "source": [
    "import h5py\n",
    "import numpy as np"
   ]
  },
  {
   "cell_type": "code",
   "execution_count": 15,
   "metadata": {
    "collapsed": false
   },
   "outputs": [],
   "source": [
    "f = h5py.File(\"junkTestFile.h5\", \"w\")"
   ]
  },
  {
   "cell_type": "code",
   "execution_count": 14,
   "metadata": {
    "collapsed": false
   },
   "outputs": [
    {
     "ename": "ValueError",
     "evalue": "Not a file id (Not a file id)",
     "output_type": "error",
     "traceback": [
      "\u001b[1;31m---------------------------------------------------------------------------\u001b[0m",
      "\u001b[1;31mValueError\u001b[0m                                Traceback (most recent call last)",
      "\u001b[1;32m<ipython-input-14-fa01cc0d8510>\u001b[0m in \u001b[0;36m<module>\u001b[1;34m()\u001b[0m\n\u001b[1;32m----> 1\u001b[1;33m \u001b[0mf\u001b[0m\u001b[1;33m.\u001b[0m\u001b[0mclose\u001b[0m\u001b[1;33m(\u001b[0m\u001b[1;33m)\u001b[0m\u001b[1;33m\u001b[0m\u001b[0m\n\u001b[0m",
      "\u001b[1;32mC:\\Users\\Vandiver\\Anaconda3\\lib\\site-packages\\h5py\\_hl\\files.py\u001b[0m in \u001b[0;36mclose\u001b[1;34m(self)\u001b[0m\n\u001b[0;32m    229\u001b[0m         \u001b[1;31m# Not clearing shared state introduces a tiny memory leak, but\u001b[0m\u001b[1;33m\u001b[0m\u001b[1;33m\u001b[0m\u001b[0m\n\u001b[0;32m    230\u001b[0m         \u001b[1;31m# it goes like the number of files opened in a session.\u001b[0m\u001b[1;33m\u001b[0m\u001b[1;33m\u001b[0m\u001b[0m\n\u001b[1;32m--> 231\u001b[1;33m         \u001b[0mself\u001b[0m\u001b[1;33m.\u001b[0m\u001b[0mid\u001b[0m\u001b[1;33m.\u001b[0m\u001b[0mclose\u001b[0m\u001b[1;33m(\u001b[0m\u001b[1;33m)\u001b[0m\u001b[1;33m\u001b[0m\u001b[0m\n\u001b[0m\u001b[0;32m    232\u001b[0m \u001b[1;33m\u001b[0m\u001b[0m\n\u001b[0;32m    233\u001b[0m     \u001b[1;32mdef\u001b[0m \u001b[0mflush\u001b[0m\u001b[1;33m(\u001b[0m\u001b[0mself\u001b[0m\u001b[1;33m)\u001b[0m\u001b[1;33m:\u001b[0m\u001b[1;33m\u001b[0m\u001b[0m\n",
      "\u001b[1;32mh5f.pyx\u001b[0m in \u001b[0;36mh5py.h5f.FileID.close (h5py\\h5f.c:3586)\u001b[1;34m()\u001b[0m\n",
      "\u001b[1;32mh5f.pyx\u001b[0m in \u001b[0;36mh5py.h5f.FileID.close (h5py\\h5f.c:3525)\u001b[1;34m()\u001b[0m\n",
      "\u001b[1;31mValueError\u001b[0m: Not a file id (Not a file id)"
     ]
    }
   ],
   "source": [
    "f.close()"
   ]
  },
  {
   "cell_type": "code",
   "execution_count": null,
   "metadata": {
    "collapsed": true
   },
   "outputs": [],
   "source": [
    "\n",
    "f = h5py.File(h5name, \"w\")\n",
    "\n",
    "def write_xyz_simulation_coords(f, gxp=None,gyp=None,gzp=None,xrp=None,yrp=None,zrp=None, roiON=None, roiOFF=None, roiEXTRA=None)\n",
    "\n",
    "    if gxp is not None:\n",
    "        dset = f.create_dataset(\"geom/gridx\", data=gxp)\n",
    "        if xrp is not None:\n",
    "            dset.attrs['xp']=xrp\n",
    "        f.flush()\n",
    "\n",
    "    if gyp is not None:\n",
    "        dset = f.create_dataset(\"geom/gridy\", data=gyp)\n",
    "        if yrp is not None:\n",
    "            dset.attrs['yp']=yrp\n",
    "        f.flush()\n",
    "\n",
    "    if gzp is not None:\n",
    "        dset = f.create_dataset(\"geom/gridz\", data=gzp)\n",
    "        if zrp is not None:\n",
    "            dset.attrs['zp']=zrp\n",
    "        f.flush()\n",
    "    \n",
    "    if roiON is not None:\n",
    "        dset = f.create_dataset(\"geom/ROION\", data=roiON)\n",
    "        f.flush()\n",
    "\n",
    "    if roiOFF is not None:\n",
    "        dset = f.create_dataset(\"geom/ROIOFF\", data=roiOFF)\n",
    "        f.flush()\n",
    "        \n",
    "    if roiEXTRA is not None:\n",
    "        dset = f.create_dataset(\"geom/ROIEXTRA\", data=roiEXTRA)\n",
    "        f.flush()\n",
    "\n",
    "    return f\n",
    "\n",
    "def write_parameter_space(f, sim_result, SetOfParamArrays, NamesOfParams, units=None, scoringfunc=None)\n",
    "\"\"\"\n",
    "Write the parameter space definition for the param_grid.\n",
    " * SetOfParamArrays is a list or array of vectors representing the sampled across each dimension.\n",
    " * NamesOfParams is a list of strings with the name of each parameter\n",
    " * 'units=' is an optional keyword containing the parameter unit definition\n",
    "E.g., \n",
    "p0 = np.arange(0.2, 0.3, 0.05 ) #speed\n",
    "p1 = np.arange(3.0, 9.0, 1.0 )  #dwell\n",
    "p2 = np.arange(2.0, 6.0, 1.0 )  #wait\n",
    "...\n",
    "paramvecs = [ p0, p1, p2, ...]\n",
    "names = [\"speed\", \"dwell\", \"wait\"]\n",
    "units = [\"mm/sec\",\"sec\",\"sec\"]\n",
    "\n",
    "write_parameter_space(f, paramvecs, names, units=units)\n",
    "\n",
    "\"\"\"\n",
    "    \n",
    "    Ndims = len(SetOfParamArrays)\n",
    "        \n",
    "    if Ndims >0:\n",
    "        dset = f.create_dataset(\"param_grid\",data=sim_result)\n",
    "        f.flush()\n",
    "    else:\n",
    "        return\n",
    "    \n",
    "    if type(SetOfParamArrays) == list:\n",
    "        tupleOfParams = tuple(SetOfParamArrays)\n",
    "    elif type(SetOfParamArrays) == np.ndarray\n",
    "        tupleOfParams = tuple(SetOfParamArrays.tolist())\n",
    "    \n",
    "    #param_grid = np.meshgrid( *tupleOfParams , indexing='ij')\n",
    "    \n",
    "    param_dims = list(map( lambda *arg: len(*arg) , tupleOfParams))\n",
    "    \n",
    "    dset.attrs['Ndims']=Ndims\n",
    "    dset.attrs['dims']=param_dims\n",
    "    dset.attrs['names']=NamesOfParams\n",
    "    if units is not None:\n",
    "        dset.attrs['units']=units\n",
    "        \n",
    "    if scoringfunc is not None:\n",
    "        dset.attrs['scoringfunc']=scoringfunc\n",
    "    \n",
    "    for n in range(0,Ndims):\n",
    "        pname = \"p%d\" % n\n",
    "        dset.attrs[pname]=SetOfParamArrays[n]\n",
    "\n",
    "        f.flush()\n",
    "\n",
    "    return f\n",
    "\n",
    "\n",
    "def read_parameter_space(f,dset=None)\n",
    "\"\"\"\n",
    "Return a list of arrays containing the parameter space points.\n",
    "This can be used to construct a mesh-style grid like\n",
    "\n",
    "setOfParamArrays = read_parameter_space(f)\n",
    "param_grid = np.meshgrid( *tuple(setOfParamArrays) , indexing='ij')\n",
    "\n",
    "\"\"\"\n",
    "    \n",
    "    if dset is None:\n",
    "        dset = f['param_grid']\n",
    "    \n",
    "    Ndims = len(SetOfParamArrays)\n",
    "        \n",
    "    Ndims = dset.attrs['Ndims']\n",
    "\n",
    "    SetOfParamArrays=[]\n",
    "    for n in range(0,Ndims):\n",
    "        pname = \"p%d\" % n\n",
    "        SetOfParamArrays.append(dset.attrs[pname])\n",
    "\n",
    "    return SetOfParamArrays\n",
    "\n",
    "\n",
    "dset = f.create_dataset(\"geom/ROION\", data=roiOnTarget)\n",
    "f.flush()\n",
    "\n",
    "dset = f.create_dataset(\"geom/ROIOFF\", data=roiOffTarget)\n",
    "f.flush()\n",
    "\n",
    "f.flush()\n",
    "\n",
    "f.close()"
   ]
  }
 ],
 "metadata": {
  "kernelspec": {
   "display_name": "Python 3",
   "language": "python",
   "name": "python3"
  },
  "language_info": {
   "codemirror_mode": {
    "name": "ipython",
    "version": 3
   },
   "file_extension": ".py",
   "mimetype": "text/x-python",
   "name": "python",
   "nbconvert_exporter": "python",
   "pygments_lexer": "ipython3",
   "version": "3.4.1"
  }
 },
 "nbformat": 4,
 "nbformat_minor": 0
}
