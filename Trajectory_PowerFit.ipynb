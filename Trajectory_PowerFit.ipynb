{
 "cells": [
  {
   "cell_type": "code",
   "execution_count": 1,
   "metadata": {
    "collapsed": false
   },
   "outputs": [],
   "source": [
    "import sys\n",
    "import numpy as np\n",
    "import argparse\n",
    "from math import *\n",
    "\n",
    "sys.path.append('C:\\\\Users\\\\vchaplin\\\\Documents\\\\HiFU\\code\\\\myPy')  \n",
    "sys.path.append('C:\\\\Users\\\\Vandiver\\\\Documents\\\\HiFU\\\\code\\\\CUDA\\\\RSgpu\\\\Release')\n",
    "sys.path.append('C:\\\\Users\\\\vchaplin\\\\Documents\\\\HiFU\\\\code\\\\AblationSims')\n",
    "import ablation_utils\n",
    "import geom\n",
    "import sonalleve\n",
    "import transducers\n",
    "import PBHE_CUDA\n",
    "\n",
    "import importlib\n",
    "\n",
    "import matplotlib.image as image\n",
    "import matplotlib.pyplot as plt\n",
    "\n",
    "from scipy.interpolate import interp1d \n",
    "import csv\n",
    "import HookJeeves\n",
    "\n",
    "import moviepy.editor as mpy\n",
    "from moviepy.video.io.bindings import mplfig_to_npimage\n",
    "\n",
    "def plotTraj(vec,maxR_mm=10,dR_mm=4,z_mm=140):\n",
    "    points,nt,numSon = ablation_utils.contstruct_circ_sonication_points(maxR_mm,dR_mm,z_mm,vec[0],vec[1],vec[2])\n",
    "    plt.plot(points[:,0], points[:,1], '*-')\n",
    "    return points\n",
    "\n",
    "\n",
    "%matplotlib inline"
   ]
  },
  {
   "cell_type": "code",
   "execution_count": 7,
   "metadata": {
    "collapsed": false
   },
   "outputs": [],
   "source": [
    "#plt.rc('text',usetex=True)\n",
    "plt.rc('font', family='sans-serif', size=20)"
   ]
  },
  {
   "cell_type": "code",
   "execution_count": 32,
   "metadata": {
    "collapsed": false
   },
   "outputs": [
    {
     "data": {
      "text/plain": [
       "['agg.path.chunksize',\n",
       " 'animation.avconv_args',\n",
       " 'animation.avconv_path',\n",
       " 'animation.bitrate',\n",
       " 'animation.codec',\n",
       " 'animation.convert_args',\n",
       " 'animation.convert_path',\n",
       " 'animation.ffmpeg_args',\n",
       " 'animation.ffmpeg_path',\n",
       " 'animation.frame_format',\n",
       " 'animation.html',\n",
       " 'animation.mencoder_args',\n",
       " 'animation.mencoder_path',\n",
       " 'animation.writer',\n",
       " 'axes.axisbelow',\n",
       " 'axes.edgecolor',\n",
       " 'axes.facecolor',\n",
       " 'axes.formatter.limits',\n",
       " 'axes.formatter.use_locale',\n",
       " 'axes.formatter.use_mathtext',\n",
       " 'axes.formatter.useoffset',\n",
       " 'axes.grid',\n",
       " 'axes.grid.axis',\n",
       " 'axes.grid.which',\n",
       " 'axes.hold',\n",
       " 'axes.labelcolor',\n",
       " 'axes.labelpad',\n",
       " 'axes.labelsize',\n",
       " 'axes.labelweight',\n",
       " 'axes.linewidth',\n",
       " 'axes.prop_cycle',\n",
       " 'axes.spines.bottom',\n",
       " 'axes.spines.left',\n",
       " 'axes.spines.right',\n",
       " 'axes.spines.top',\n",
       " 'axes.titlesize',\n",
       " 'axes.titleweight',\n",
       " 'axes.unicode_minus',\n",
       " 'axes.xmargin',\n",
       " 'axes.ymargin',\n",
       " 'axes3d.grid',\n",
       " 'backend',\n",
       " 'backend.qt4',\n",
       " 'backend.qt5',\n",
       " 'backend_fallback',\n",
       " 'boxplot.bootstrap',\n",
       " 'boxplot.boxprops.color',\n",
       " 'boxplot.boxprops.linestyle',\n",
       " 'boxplot.boxprops.linewidth',\n",
       " 'boxplot.capprops.color',\n",
       " 'boxplot.capprops.linestyle',\n",
       " 'boxplot.capprops.linewidth',\n",
       " 'boxplot.flierprops.color',\n",
       " 'boxplot.flierprops.linestyle',\n",
       " 'boxplot.flierprops.linewidth',\n",
       " 'boxplot.flierprops.marker',\n",
       " 'boxplot.flierprops.markeredgecolor',\n",
       " 'boxplot.flierprops.markerfacecolor',\n",
       " 'boxplot.flierprops.markersize',\n",
       " 'boxplot.meanline',\n",
       " 'boxplot.meanprops.color',\n",
       " 'boxplot.meanprops.linestyle',\n",
       " 'boxplot.meanprops.linewidth',\n",
       " 'boxplot.medianprops.color',\n",
       " 'boxplot.medianprops.linestyle',\n",
       " 'boxplot.medianprops.linewidth',\n",
       " 'boxplot.notch',\n",
       " 'boxplot.patchartist',\n",
       " 'boxplot.showbox',\n",
       " 'boxplot.showcaps',\n",
       " 'boxplot.showfliers',\n",
       " 'boxplot.showmeans',\n",
       " 'boxplot.vertical',\n",
       " 'boxplot.whiskerprops.color',\n",
       " 'boxplot.whiskerprops.linestyle',\n",
       " 'boxplot.whiskerprops.linewidth',\n",
       " 'boxplot.whiskers',\n",
       " 'contour.corner_mask',\n",
       " 'contour.negative_linestyle',\n",
       " 'datapath',\n",
       " 'docstring.hardcopy',\n",
       " 'errorbar.capsize',\n",
       " 'examples.directory',\n",
       " 'figure.autolayout',\n",
       " 'figure.dpi',\n",
       " 'figure.edgecolor',\n",
       " 'figure.facecolor',\n",
       " 'figure.figsize',\n",
       " 'figure.frameon',\n",
       " 'figure.max_open_warning',\n",
       " 'figure.subplot.bottom',\n",
       " 'figure.subplot.hspace',\n",
       " 'figure.subplot.left',\n",
       " 'figure.subplot.right',\n",
       " 'figure.subplot.top',\n",
       " 'figure.subplot.wspace',\n",
       " 'figure.titlesize',\n",
       " 'figure.titleweight',\n",
       " 'font.cursive',\n",
       " 'font.family',\n",
       " 'font.fantasy',\n",
       " 'font.monospace',\n",
       " 'font.sans-serif',\n",
       " 'font.serif',\n",
       " 'font.size',\n",
       " 'font.stretch',\n",
       " 'font.style',\n",
       " 'font.variant',\n",
       " 'font.weight',\n",
       " 'grid.alpha',\n",
       " 'grid.color',\n",
       " 'grid.linestyle',\n",
       " 'grid.linewidth',\n",
       " 'image.aspect',\n",
       " 'image.cmap',\n",
       " 'image.composite_image',\n",
       " 'image.interpolation',\n",
       " 'image.lut',\n",
       " 'image.origin',\n",
       " 'image.resample',\n",
       " 'interactive',\n",
       " 'keymap.all_axes',\n",
       " 'keymap.back',\n",
       " 'keymap.forward',\n",
       " 'keymap.fullscreen',\n",
       " 'keymap.grid',\n",
       " 'keymap.home',\n",
       " 'keymap.pan',\n",
       " 'keymap.quit',\n",
       " 'keymap.save',\n",
       " 'keymap.xscale',\n",
       " 'keymap.yscale',\n",
       " 'keymap.zoom',\n",
       " 'legend.borderaxespad',\n",
       " 'legend.borderpad',\n",
       " 'legend.columnspacing',\n",
       " 'legend.edgecolor',\n",
       " 'legend.facecolor',\n",
       " 'legend.fancybox',\n",
       " 'legend.fontsize',\n",
       " 'legend.framealpha',\n",
       " 'legend.frameon',\n",
       " 'legend.handleheight',\n",
       " 'legend.handlelength',\n",
       " 'legend.handletextpad',\n",
       " 'legend.isaxes',\n",
       " 'legend.labelspacing',\n",
       " 'legend.loc',\n",
       " 'legend.markerscale',\n",
       " 'legend.numpoints',\n",
       " 'legend.scatterpoints',\n",
       " 'legend.shadow',\n",
       " 'lines.antialiased',\n",
       " 'lines.color',\n",
       " 'lines.dash_capstyle',\n",
       " 'lines.dash_joinstyle',\n",
       " 'lines.linestyle',\n",
       " 'lines.linewidth',\n",
       " 'lines.marker',\n",
       " 'lines.markeredgewidth',\n",
       " 'lines.markersize',\n",
       " 'lines.solid_capstyle',\n",
       " 'lines.solid_joinstyle',\n",
       " 'markers.fillstyle',\n",
       " 'mathtext.bf',\n",
       " 'mathtext.cal',\n",
       " 'mathtext.default',\n",
       " 'mathtext.fallback_to_cm',\n",
       " 'mathtext.fontset',\n",
       " 'mathtext.it',\n",
       " 'mathtext.rm',\n",
       " 'mathtext.sf',\n",
       " 'mathtext.tt',\n",
       " 'nbagg.transparent',\n",
       " 'patch.antialiased',\n",
       " 'patch.edgecolor',\n",
       " 'patch.facecolor',\n",
       " 'patch.linewidth',\n",
       " 'path.effects',\n",
       " 'path.simplify',\n",
       " 'path.simplify_threshold',\n",
       " 'path.sketch',\n",
       " 'path.snap',\n",
       " 'pdf.compression',\n",
       " 'pdf.fonttype',\n",
       " 'pdf.inheritcolor',\n",
       " 'pdf.use14corefonts',\n",
       " 'pgf.debug',\n",
       " 'pgf.preamble',\n",
       " 'pgf.rcfonts',\n",
       " 'pgf.texsystem',\n",
       " 'plugins.directory',\n",
       " 'polaraxes.grid',\n",
       " 'ps.distiller.res',\n",
       " 'ps.fonttype',\n",
       " 'ps.papersize',\n",
       " 'ps.useafm',\n",
       " 'ps.usedistiller',\n",
       " 'savefig.bbox',\n",
       " 'savefig.directory',\n",
       " 'savefig.dpi',\n",
       " 'savefig.edgecolor',\n",
       " 'savefig.facecolor',\n",
       " 'savefig.format',\n",
       " 'savefig.frameon',\n",
       " 'savefig.jpeg_quality',\n",
       " 'savefig.orientation',\n",
       " 'savefig.pad_inches',\n",
       " 'savefig.transparent',\n",
       " 'svg.fonttype',\n",
       " 'svg.image_inline',\n",
       " 'svg.image_noscale',\n",
       " 'text.antialiased',\n",
       " 'text.color',\n",
       " 'text.dvipnghack',\n",
       " 'text.hinting',\n",
       " 'text.hinting_factor',\n",
       " 'text.latex.preamble',\n",
       " 'text.latex.preview',\n",
       " 'text.latex.unicode',\n",
       " 'text.usetex',\n",
       " 'timezone',\n",
       " 'tk.window_focus',\n",
       " 'toolbar',\n",
       " 'verbose.fileo',\n",
       " 'verbose.level',\n",
       " 'webagg.open_in_browser',\n",
       " 'webagg.port',\n",
       " 'webagg.port_retries',\n",
       " 'xtick.color',\n",
       " 'xtick.direction',\n",
       " 'xtick.labelsize',\n",
       " 'xtick.major.pad',\n",
       " 'xtick.major.size',\n",
       " 'xtick.major.width',\n",
       " 'xtick.minor.pad',\n",
       " 'xtick.minor.size',\n",
       " 'xtick.minor.visible',\n",
       " 'xtick.minor.width',\n",
       " 'ytick.color',\n",
       " 'ytick.direction',\n",
       " 'ytick.labelsize',\n",
       " 'ytick.major.pad',\n",
       " 'ytick.major.size',\n",
       " 'ytick.major.width',\n",
       " 'ytick.minor.pad',\n",
       " 'ytick.minor.size',\n",
       " 'ytick.minor.visible',\n",
       " 'ytick.minor.width']"
      ]
     },
     "execution_count": 32,
     "metadata": {},
     "output_type": "execute_result"
    }
   ],
   "source": [
    "plt.rcParams.keys()"
   ]
  },
  {
   "cell_type": "code",
   "execution_count": 2,
   "metadata": {
    "collapsed": false
   },
   "outputs": [
    {
     "ename": "NameError",
     "evalue": "name 'importlib' is not defined",
     "output_type": "error",
     "traceback": [
      "\u001b[1;31m---------------------------------------------------------------------------\u001b[0m",
      "\u001b[1;31mNameError\u001b[0m                                 Traceback (most recent call last)",
      "\u001b[1;32m<ipython-input-2-23d6130edac8>\u001b[0m in \u001b[0;36m<module>\u001b[1;34m()\u001b[0m\n\u001b[1;32m----> 1\u001b[1;33m \u001b[0mimportlib\u001b[0m\u001b[1;33m.\u001b[0m\u001b[0mreload\u001b[0m\u001b[1;33m(\u001b[0m\u001b[0mablation_utils\u001b[0m\u001b[1;33m)\u001b[0m\u001b[1;33m\u001b[0m\u001b[0m\n\u001b[0m",
      "\u001b[1;31mNameError\u001b[0m: name 'importlib' is not defined"
     ]
    }
   ],
   "source": [
    "importlib.reload(ablation_utils)"
   ]
  },
  {
   "cell_type": "code",
   "execution_count": 148,
   "metadata": {
    "collapsed": false
   },
   "outputs": [
    {
     "data": {
      "text/plain": [
       "<module 'geom' from 'C:\\\\Users\\\\vchaplin\\\\Documents\\\\HiFU\\\\code\\\\myPy\\\\geom.py'>"
      ]
     },
     "execution_count": 148,
     "metadata": {},
     "output_type": "execute_result"
    }
   ],
   "source": [
    "importlib.reload(geom)"
   ]
  },
  {
   "cell_type": "code",
   "execution_count": 8,
   "metadata": {
    "collapsed": false
   },
   "outputs": [],
   "source": [
    "rho=1000\n",
    "Cp=4100\n",
    "c0=1540\n",
    "f0=1.2e6\n",
    "k0=f0*2*pi/c0\n",
    "ktdiffusion=0.6\n",
    "\n",
    "uxyz = sonalleve.get_sonalleve_xdc_vecs()\n",
    "unvec = sonalleve.get_sonalleve_xdc_normals()\n",
    "N = uxyz.shape[0]"
   ]
  },
  {
   "cell_type": "code",
   "execution_count": 116,
   "metadata": {
    "collapsed": true
   },
   "outputs": [],
   "source": [
    "dataType=np.float32\n",
    "\n",
    "nt=30\n",
    "nx=62; ny=62; nz=62;\n",
    "T=np.zeros([nt,nx,ny,nz],dtype=dataType)\n",
    "Tdot=np.zeros([nx,ny,nz],dtype=dataType)\n",
    "kdiff=np.zeros([nx,ny,nz],dtype=dataType)\n",
    "rhoCp=np.zeros([nx,ny,nz],dtype=dataType)\n",
    "\n",
    "Rbase = np.zeros([nx,ny,nz],dtype=dataType)\n",
    "\n",
    "CEM=np.zeros([nx,ny,nz],dtype=dataType)\n",
    "CEM0=np.zeros_like(CEM)\n",
    "\n",
    "xrp = 1e-2*np.linspace(-2.0,2.0, nx, dtype=dataType)\n",
    "yrp = 1e-2*np.linspace(-2.0,2.0, ny, dtype=dataType)\n",
    "zrp = 1e-2*np.linspace(11.0, 17.0, nz, dtype=dataType)\n",
    "dx=xrp[1]-xrp[0]\n",
    "dy=yrp[1]-yrp[0]\n",
    "dz=zrp[1]-zrp[0]\n",
    "dt=0.1\n",
    "\n",
    "zplane=0.14\n",
    "focplaneZpix=np.where(np.logical_and( (zrp[1:-1]-zplane>=0) , (zrp[0:-2]-zplane<0) ))[0][0]\n",
    "\n",
    "res = np.array([dt,dx,dy,dz],dtype=dataType)\n",
    "\n",
    "kdiff[:]=ktdiffusion\n",
    "rhoCp[:]= rho*Cp\n",
    "\n",
    "if dataType == np.float32:\n",
    "    Tmesh = PBHE_CUDA.mesh4d_f()\n",
    "    Tdotmesh = PBHE_CUDA.mesh34d_f();\n",
    "    kmesh = PBHE_CUDA.mesh3d_f();\n",
    "    rhoCpmesh = PBHE_CUDA.mesh3d_f();\n",
    "\n",
    "\n",
    "    PBHE_CUDA.ShareMemoryMesh4_f(T, res, Tmesh)\n",
    "    PBHE_CUDA.ShareMemoryMesh34_f(Tdot, res, Tdotmesh)\n",
    "    PBHE_CUDA.ShareMemoryMesh3_f(kdiff, res[1:4], kmesh)\n",
    "    PBHE_CUDA.ShareMemoryMesh3_f(rhoCp, res[1:4], rhoCpmesh)\n",
    "else:\n",
    "    Tmesh = PBHE_CUDA.mesh4d()\n",
    "    Tdotmesh = PBHE_CUDA.mesh34d();\n",
    "    kmesh = PBHE_CUDA.mesh3d();\n",
    "    rhoCpmesh = PBHE_CUDA.mesh3d();\n",
    "\n",
    "    PBHE_CUDA.ShareMemoryMesh4(T, res, Tmesh)\n",
    "    PBHE_CUDA.ShareMemoryMesh34(Tdot, res, Tdotmesh)\n",
    "    PBHE_CUDA.ShareMemoryMesh3(kdiff, res[1:4], kmesh)\n",
    "    PBHE_CUDA.ShareMemoryMesh3(rhoCp, res[1:4], rhoCpmesh)\n",
    "    \n",
    "\n",
    "gxp,gyp,gzp = np.meshgrid(xrp, yrp, zrp, sparse=False, indexing='ij')\n",
    "calcGridDist= lambda rr: np.sqrt((gxp-rr[0])**2 + (gyp-rr[1])**2 + (gzp-rr[2])**2)\n",
    "\n",
    "simPhysGrid = {'T':T,'Tdot':Tdot,'Tmesh':Tmesh,'Tdotmesh':Tdotmesh,'kmesh': kmesh, 'rhoCpmesh':rhoCpmesh, 'kt': kdiff, 'rhoCp': rhoCp}\n",
    "simPhysGrid['dtxyz'] = res\n",
    "simPhysGrid['c0']=c0\n",
    "simPhysGrid['rho']=rho\n",
    "simPhysGrid['k0']=k0\n",
    "simPhysGrid['xrp']=xrp\n",
    "simPhysGrid['yrp']=yrp\n",
    "simPhysGrid['zrp']=zrp\n",
    "\n",
    "zsliceMask = np.zeros([nx,ny,nz],dtype=bool)\n",
    "axsliceMask = np.zeros([nx,ny,nz],dtype=bool)\n",
    "\n",
    "yi=floor(ny/2)\n",
    "zsliceMask[:,:,focplaneZpix]=True\n",
    "axsliceMask[:,yi,:]=True\n",
    "\n",
    "\n",
    "ROION=   geom.roiGen([[-0.0015,0.0, 0.14]], lambda x,y,z: geom.inEllipse(x,y,z, 0.008, 0.008,0.015),gxp,gyp,gzp)    \n",
    "ROIEXTRA=geom.roiGen([[-0.0015,0., 0.14]], lambda x,y,z: geom.inEllipse(x,y,z,0.01,0.01,0.04),gxp,gyp,gzp )\n",
    "ROIOFF = np.logical_and( ROIEXTRA, np.logical_not(ROION))"
   ]
  },
  {
   "cell_type": "code",
   "execution_count": 156,
   "metadata": {
    "collapsed": false
   },
   "outputs": [],
   "source": [
    "xcenter=-0.0015\n",
    "#ROION=   geom.roiGen([[-0.0015,0.0, 0.14]], lambda x,y,z: geom.inCuboidBounds(x,y,z, xw=-[0.005, 0.005]),gxp,gyp,gzp)    \n",
    "ROION=   geom.inCuboidBounds(gxp - xcenter,gyp,gzp, xr=[-0.005, 0.005], yr=[-0.005, 0.005], zr=[0.125, 0.15])   \n",
    "ROIEXTRA=geom.roiGen([[xoffset,0., 0.14]], lambda x,y,z: geom.inCuboid(x,y,z,0.01,0.01,0.04),gxp,gyp,gzp )\n",
    "ROIOFF = np.logical_and( ROIEXTRA, np.logical_not(ROION))"
   ]
  },
  {
   "cell_type": "code",
   "execution_count": 11,
   "metadata": {
    "collapsed": false
   },
   "outputs": [],
   "source": [
    "PBHE_CUDA.ResetGPU()\n",
    "PBHE_CUDA.Create_Global_GPU_Session32(*T.shape)"
   ]
  },
  {
   "cell_type": "code",
   "execution_count": 12,
   "metadata": {
    "collapsed": false
   },
   "outputs": [],
   "source": [
    "RSkeys = dict(subsampN=10, ROC=0.14, subsampDiam=0.0033, gpublocks=512)\n",
    "\n",
    "pp0 = transducers.calc_pressure_field_cuda(simPhysGrid['k0'], uxyz, unvec, np.ones([N])/N, xrp, yrp, zrp, **RSkeys)  \n",
    "Ip0 = np.abs(pp0)**2 / (2.0*rho*c0)\n",
    "Ispta0 = 1.0e7\n",
    "powRenorm = (Ispta0/np.max(Ip0))"
   ]
  },
  {
   "cell_type": "code",
   "execution_count": 80,
   "metadata": {
    "collapsed": true
   },
   "outputs": [],
   "source": [
    "xx=np.arange(-0.01, 0.01,0.0001)\n",
    "smallVolumeFocField = transducers.calc_pressure_field_cuda(simPhysGrid['k0'], uxyz, unvec, np.ones([N])/N, xx, xx, xx+0.14, **RSkeys)  \n",
    "smallVolumeI0 = np.abs(smallVolumeFocField)**2 / (2.0*rho*c0)\n",
    "#Ispta0 = 1.0e7\n",
    "#powRenorm = (Ispta0/np.max(Ip0))\n",
    "smallVolumeI0 = (1e7/np.max(smallVolumeI0))"
   ]
  },
  {
   "cell_type": "code",
   "execution_count": 86,
   "metadata": {
    "collapsed": true
   },
   "outputs": [],
   "source": [
    "z_mm=140.0\n",
    "speed=0.6\n",
    "dwell=9.25\n",
    "wait=2.0\n",
    "traj=[10.0, 4.0, z_mm, speed, dwell, wait]\n",
    "\n",
    "Npass=1\n",
    "passTime = ablation_utils.trajTotalTime(*tuple(traj)) + traj[-1]\n",
    "totTime=Npass*passTime\n",
    "\n",
    "(coords_mm,nturns,numson)=ablation_utils.contstruct_circ_sonication_points(*tuple(traj))\n",
    "\n",
    "totNumSonications=int(sum(numson)*Npass)\n",
    "numFieldsPreAlloc=totNumSonications\n",
    "\n",
    "doRotation=True\n",
    "angle = 2*pi/(Npass)\n",
    "Rzn = geom.getRotZYZarray(angle,0,0)\n",
    "\n",
    "PathRotMat=None\n",
    "\n"
   ]
  },
  {
   "cell_type": "code",
   "execution_count": 92,
   "metadata": {
    "collapsed": false
   },
   "outputs": [],
   "source": [
    "try:\n",
    "    del I0precomputed, I1precomputed\n",
    "except NameError:\n",
    "   1"
   ]
  },
  {
   "cell_type": "markdown",
   "metadata": {},
   "source": [
    "<h3>Pre-compute intensity at sonication points. <h4>Only needs to be re-evaluated if the trajectory changes"
   ]
  },
  {
   "cell_type": "code",
   "execution_count": 87,
   "metadata": {
    "collapsed": false
   },
   "outputs": [
    {
     "name": "stdout",
     "output_type": "stream",
     "text": [
      "9 / 9 "
     ]
    }
   ],
   "source": [
    "(t0edges, amplitudes0) = ablation_utils.trajectorySettings(traj, Npass=Npass, doRotation=doRotation,L1renorm=sqrt(powRenorm),k0=k0,uxyz=uxyz)\n",
    "\n",
    "I0precomputed = np.zeros([numFieldsPreAlloc,nx,ny,nz],dtype=dataType)\n",
    "\n",
    "for soni in range(0,totNumSonications):\n",
    "    print('\\r%d / %d' %(soni+1,totNumSonications), end=' ')\n",
    "    P0 = transducers.calc_pressure_field_cuda(simPhysGrid['k0'], uxyz, unvec, amplitudes0[2*soni], xrp, yrp, zrp, **RSkeys )\n",
    "    I0precomputed[soni][:] = np.abs(P0)**2 / (2*rho*c0)"
   ]
  },
  {
   "cell_type": "code",
   "execution_count": 88,
   "metadata": {
    "collapsed": false
   },
   "outputs": [
    {
     "name": "stdout",
     "output_type": "stream",
     "text": [
      "9 / 9 "
     ]
    }
   ],
   "source": [
    "d=0.004\n",
    "M=3\n",
    "pxyz,r = geom.ring(d,M)\n",
    "(t1edges, amplitudes1) = ablation_utils.trajectorySettings(traj, Npass=Npass, doRotation=doRotation,L1renorm=sqrt(powRenorm),k0=k0,uxyz=uxyz, pxyz=pxyz )  \n",
    "\n",
    "I1precomputed = np.zeros([numFieldsPreAlloc,nx,ny,nz],dtype=dataType)\n",
    "\n",
    "for soni in range(0,totNumSonications):\n",
    "    print('\\r%d / %d' %(soni+1,totNumSonications), end=' ')\n",
    "    P1 = transducers.calc_pressure_field_cuda(simPhysGrid['k0'], uxyz, unvec, amplitudes1[2*soni], xrp, yrp, zrp, **RSkeys )\n",
    "    I1precomputed[soni][:] = np.abs(P1)**2 / (2*rho*c0)"
   ]
  },
  {
   "cell_type": "markdown",
   "metadata": {},
   "source": [
    "<h4> One static focus case"
   ]
  },
  {
   "cell_type": "code",
   "execution_count": 218,
   "metadata": {
    "collapsed": false
   },
   "outputs": [],
   "source": [
    "numFieldsPreAlloc=1\n",
    "totNumSonications=1\n",
    "\n",
    "onTime = 60.0\n",
    "postSonicaitionWait=18.0\n",
    "totTime = onTime+ postSonicaitionWait\n",
    "\n",
    "tStaticEdges=np.array( [ 0.0, onTime, totTime ])\n",
    "IStaticPrecomputed = np.zeros([numFieldsPreAlloc,nx,ny,nz],dtype=dataType)\n",
    "\n",
    "ampstatic = sqrt(powRenorm)*np.ones([N])/N\n",
    "ppStatic = transducers.calc_pressure_field_cuda(simPhysGrid['k0'], uxyz, unvec, ampstatic, xrp, yrp, zrp, **RSkeys)  \n",
    "IStaticPrecomputed[0][:] = np.abs(ppStatic)**2 / (2*rho*c0)\n"
   ]
  },
  {
   "cell_type": "code",
   "execution_count": 119,
   "metadata": {
    "collapsed": false
   },
   "outputs": [
    {
     "data": {
      "text/plain": [
       "array([ 11.,  17.,   2.,  -2.], dtype=float32)"
      ]
     },
     "execution_count": 119,
     "metadata": {},
     "output_type": "execute_result"
    }
   ],
   "source": [
    "extZX"
   ]
  },
  {
   "cell_type": "code",
   "execution_count": 220,
   "metadata": {
    "collapsed": false
   },
   "outputs": [
    {
     "data": {
      "image/png": "[encoded data removed]",
      "text/plain": [
       "<matplotlib.figure.Figure at 0x10d1add8>"
      ]
     },
     "metadata": {},
     "output_type": "display_data"
    }
   ],
   "source": [
    "yi=floor( ny / 2 )\n",
    "extXY = 100*np.array( [yrp[0],yrp[-1],xrp[-1],xrp[0]] )\n",
    "extZX = 100*np.array( [zrp[0],zrp[-1],xrp[-1],xrp[0]] )\n",
    "\n",
    "fig,axTable=plt.subplots(nrows=1,ncols=2,sharey=False,sharex=False, squeeze=True,gridspec_kw=dict(wspace=0.25,hspace=0.1), figsize=(14,8))\n",
    "#fig=plt.figure(figsize=(8,8))\n",
    "\n",
    "sumIntensity = np.mean( I1precomputed, axis=0)\n",
    "\n",
    "ax=axTable[0]\n",
    "im=ax.imshow(sumIntensity[:,:,focplaneZpix],cmap=image.cm.hot,interpolation='none', extent=extXY)\n",
    "ax.imshow( ROION[:,:,focplaneZpix] , extent=extXY, vmin=0,vmax=1,cmap=image.cm.gray,alpha=0.15, interpolation='none')\n",
    "#ax.plot(coords[:,1] /10,coords[:,0]/10,'--o')\n",
    "ax.set_ylabel('cm', fontsize=20)\n",
    "\n",
    "\n",
    "ax=axTable[1]\n",
    "imT=ax.imshow( sumIntensity[:,yi,:], cmap=image.cm.hot,interpolation='none', extent=extZX)\n",
    "ax.imshow( ROION[:,yi,:] , vmin=0,vmax=1,cmap=image.cm.gray,alpha=0.15, interpolation='none',  extent=extZX)\n",
    "ax.set_ylabel('cm', fontsize=20)\n",
    "\n",
    "\n",
    "for ax in axTable.flatten():\n",
    "    ax.set_xlabel('cm', fontsize=20)\n",
    "    ax.tick_params(labelsize=18)"
   ]
  },
  {
   "cell_type": "markdown",
   "metadata": {},
   "source": [
    "<h3> Heating simulation"
   ]
  },
  {
   "cell_type": "code",
   "execution_count": 221,
   "metadata": {
    "collapsed": true
   },
   "outputs": [],
   "source": [
    "T0=25.0"
   ]
  },
  {
   "cell_type": "code",
   "execution_count": 164,
   "metadata": {
    "collapsed": true
   },
   "outputs": [],
   "source": [
    "(t1edges, amplitudes1) = ablation_utils.trajectorySettings(traj, Npass=Npass, doRotation=doRotation,L1renorm=sqrt(powRenorm),k0=k0,uxyz=uxyz, pxyz=pxyz )  "
   ]
  },
  {
   "cell_type": "code",
   "execution_count": 16,
   "metadata": {
    "collapsed": false
   },
   "outputs": [
    {
     "data": {
      "text/plain": [
       "<matplotlib.colorbar.Colorbar at 0xbf64fd0>"
      ]
     },
     "execution_count": 16,
     "metadata": {},
     "output_type": "execute_result"
    },
    {
     "data": {
      "image/png": "[encoded data removed]",
      "text/plain": [
       "<matplotlib.figure.Figure at 0x8eaa860>"
      ]
     },
     "metadata": {},
     "output_type": "display_data"
    }
   ],
   "source": [
    "plt.imshow(T[0][:,:,focplaneZpix], interpolation='none', cmap=image.cm.hot )\n",
    "plt.colorbar()"
   ]
  },
  {
   "cell_type": "code",
   "execution_count": 179,
   "metadata": {
    "collapsed": false
   },
   "outputs": [],
   "source": [
    "\n",
    "#create some dummy data\n",
    "#dataX = interpTimes.copy()\n",
    "#dataY = interpTemp.copy()"
   ]
  },
  {
   "cell_type": "code",
   "execution_count": 207,
   "metadata": {
    "collapsed": false
   },
   "outputs": [],
   "source": [
    "totTime=102"
   ]
  },
  {
   "cell_type": "code",
   "execution_count": 240,
   "metadata": {
    "collapsed": false
   },
   "outputs": [],
   "source": [
    "#load some sonalleve data\n",
    "\n",
    "file=\"C:\\\\Users\\\\Vandiver\\\\Data\\\\sonalleve\\\\BatchAnalysis\\\\curves\\\\9-24-15_egg1_scan18_maxT.txt\"\n",
    "\n",
    "#file=\"C:\\\\Users\\\\Vandiver\\\\Data\\\\sonalleve\\\\BatchAnalysis\\\\curves\\\\60W_multi_G1_2015-09-24_A_single.txt\"\n",
    "#file=\"C:\\\\Users\\\\Vandiver\\\\Data\\\\sonalleve\\\\BatchAnalysis\\\\curves\\\\40W_single_QA_2015-09-15_A_single.txt\"\n",
    "\n",
    "#file=\"C:\\\\Users\\\\Vandiver\\\\Data\\\\sonalleve\\\\BatchAnalysis\\\\curves\\\\60W_multi_QA_2015-09-26_A_single.txt\"\n",
    "#file=\"C:\\\\Users\\\\Vandiver\\\\Data\\\\sonalleve\\\\BatchAnalysis\\\\curves\\\\60W_multi_QA_2015-09-26_A_multi.txt\"\n",
    "\n",
    "#file=\"C:\\\\Users\\\\Vandiver\\\\Data\\\\sonalleve\\\\BatchAnalysis\\\\curves\\\\40W_multi_2015-09-26_A_single.txt\"\n",
    "\n",
    "mriTempData=np.genfromtxt(file,delimiter='\\t')\n",
    "\n",
    "dataX = mriTempData[:,0] \n",
    "dataY = mriTempData[:,1]"
   ]
  },
  {
   "cell_type": "code",
   "execution_count": 431,
   "metadata": {
    "collapsed": true
   },
   "outputs": [],
   "source": [
    "dataX = mriTempData[:,0]\n",
    "dataY = mriTempData[:,1]"
   ]
  },
  {
   "cell_type": "code",
   "execution_count": 379,
   "metadata": {
    "collapsed": false
   },
   "outputs": [
    {
     "data": {
      "text/plain": [
       "array([ True,  True,  True,  True,  True,  True,  True,  True,  True,\n",
       "        True,  True,  True,  True,  True,  True,  True,  True,  True,\n",
       "        True,  True,  True,  True,  True,  True,  True,  True,  True,\n",
       "        True,  True,  True,  True,  True,  True,  True,  True,  True,\n",
       "        True,  True,  True,  True,  True,  True, False, False, False,\n",
       "       False, False, False, False, False], dtype=bool)"
      ]
     },
     "execution_count": 379,
     "metadata": {},
     "output_type": "execute_result"
    }
   ],
   "source": [
    "objTimes<=totTime"
   ]
  },
  {
   "cell_type": "code",
   "execution_count": 559,
   "metadata": {
    "collapsed": true
   },
   "outputs": [],
   "source": [
    "plt.rc('text', usetex=True)"
   ]
  },
  {
   "cell_type": "code",
   "execution_count": 243,
   "metadata": {
    "collapsed": false
   },
   "outputs": [],
   "source": [
    "\n",
    "#objTimes=np.arange(0,t1edges[-1],1.0)\n",
    "objTimes=dataX\n",
    "objTemp=np.zeros_like(objTimes)\n",
    "objPBdict = dict(Freeflow=1, interpTimes=objTimes, interpolatedTemp=objTemp, interpFunc=np.max, interpmask=ROION, perfRate=0.0)\n",
    "\n",
    "timeSelectionMask = np.logical_and( objTimes<=totTime, objTimes >= 0.0 )\n",
    "\n",
    "timeEdges = t0edges\n",
    "intensitySet = I0precomputed\n",
    "\n",
    "#timeEdges = tStaticEdges\n",
    "#intensitySet = IStaticPrecomputed\n",
    "kdiff[:]=ktdiffusion\n",
    "\n",
    "def sim_objective(alpha,T0=T0):\n",
    "\n",
    "    T[0] = T0\n",
    "    CEM[:]=0\n",
    "    objTemp[:]=T0\n",
    "\n",
    "    numSons = intensitySet.shape[0]\n",
    "    \n",
    "    for soni in range(0,numSons):\n",
    "        print('\\r%d / %d' %(soni+1,numSons), end=' ')\n",
    "        duration = timeEdges[2*soni + 1] - timeEdges[2*soni]\n",
    "        Tdot[:] = dataType(2.0*alpha*intensitySet[soni] / rhoCp)\n",
    "        ablation_utils.calc_heating(simPhysGrid, T, Tdot, Tmesh, Tdotmesh, kmesh, rhoCpmesh, duration, CEM, Rbase, GPU=True, interpoffset=timeEdges[2*soni], **objPBdict)\n",
    "\n",
    "        Tdot[:] = 0\n",
    "        duration = timeEdges[2*soni + 2] - timeEdges[2*soni+1]\n",
    "        ablation_utils.calc_heating(simPhysGrid, T, Tdot, Tmesh, Tdotmesh, kmesh, rhoCpmesh, duration, CEM, Rbase, GPU=True, interpoffset=timeEdges[2*soni + 1], **objPBdict)\n",
    "\n",
    "    \n",
    "    #modelInterp = interp1d(objTimes, interpTemp, fill_value=0.0, bounds_error=False)\n",
    "    value = np.sum((objTemp[timeSelectionMask]-T0 - dataY[timeSelectionMask])**2)\n",
    "    print(\"Alpha = %2.3f  -> %f\" % (alpha,value) )\n",
    "    return value\n",
    "    \n",
    "\n",
    "def sim_objective2(vec,T0=T0):\n",
    "\n",
    "    T[0] = T0\n",
    "    CEM[:]=0\n",
    "    objTemp[:]=T0\n",
    "    alpha=vec[0]\n",
    "    kdiff[:]=vec[1]\n",
    "\n",
    "    numSons = intensitySet.shape[0]\n",
    "    \n",
    "    for soni in range(0,numSons):\n",
    "        print('\\r%d / %d' %(soni+1,numSons), end=' ')\n",
    "        duration = timeEdges[2*soni + 1] - timeEdges[2*soni]\n",
    "        Tdot[:] = dataType(2.0*alpha*intensitySet[soni] / rhoCp)\n",
    "        ablation_utils.calc_heating(simPhysGrid, T, Tdot, Tmesh, Tdotmesh, kmesh, rhoCpmesh, duration, CEM, Rbase, GPU=True, interpoffset=timeEdges[2*soni], **objPBdict)\n",
    "\n",
    "        Tdot[:] = 0\n",
    "        duration = timeEdges[2*soni + 2] - timeEdges[2*soni+1]\n",
    "        ablation_utils.calc_heating(simPhysGrid, T, Tdot, Tmesh, Tdotmesh, kmesh, rhoCpmesh, duration, CEM, Rbase, GPU=True, interpoffset=timeEdges[2*soni + 1], **objPBdict)\n",
    "\n",
    "    \n",
    "    #modelInterp = interp1d(objTimes, interpTemp, fill_value=0.0, bounds_error=False)\n",
    "    value = np.sum((objTemp[timeSelectionMask]-T0 - dataY[timeSelectionMask])**2)\n",
    "    print(\"Alpha = %2.3f, kt = %1.3f  -> %f\" % (alpha,vec[1],value) )\n",
    "    return value\n",
    "    "
   ]
  },
  {
   "cell_type": "code",
   "execution_count": 237,
   "metadata": {
    "collapsed": false
   },
   "outputs": [
    {
     "name": "stdout",
     "output_type": "stream",
     "text": [
      "#RESTART  0\n",
      "1 / 1 Alpha = 3.500, kt = 0.600  -> 23.465097\n",
      "explore{0}\n",
      "1 / 1 Alpha = 4.000, kt = 0.600  -> 50.966705\n",
      "1 / 1 Alpha = 3.000, kt = 0.600  -> 198.650320\n",
      "  #discard\n",
      "explore{1}\n",
      "1 / 1 Alpha = 3.500, kt = 0.800  -> 23.465097\n",
      "1 / 1 Alpha = 3.500, kt = 0.400  -> 23.465097\n",
      "  #discard\n",
      "#CONTRACTION, dx ->  [ 0.25  0.1 ]\n",
      "#RESTART  1\n",
      "explore{0}\n",
      "1 / 1 Alpha = 3.750, kt = 0.600  -> 11.880084\n",
      " #retain upward\n",
      "explore{1}\n",
      "1 / 1 Alpha = 3.750, kt = 0.700  -> 11.880084\n",
      "1 / 1 Alpha = 3.750, kt = 0.500  -> 11.880084"
     ]
    },
    {
     "name": "stderr",
     "output_type": "stream",
     "text": [
      "WARNING:py.warnings:C:\\Users\\vchaplin\\Documents\\HiFU\\code\\AblationSims\\ablation_utils.py:470: RuntimeWarning: overflow encountered in power\n",
      "  CEM[:] += (dt/60.0)*np.sum( Rbase**(T[0:buffsize]-43), 0  )\n",
      "\n"
     ]
    },
    {
     "name": "stdout",
     "output_type": "stream",
     "text": [
      "\n",
      "  #discard\n",
      "#PATTERN MOVE  0\n",
      "explore{0}\n",
      "1 / 1 Alpha = 4.500, kt = 0.600  -> 281.155305\n",
      " #retain downward\n",
      "explore{1}\n",
      "  #discard\n",
      "[ 3.5  0.6] [ 3.75  0.6 ] [ 3.5  0.6]  :  None 11.880084346 23.4650974982 False\n",
      "#RESTART  2\n",
      "explore{0}\n",
      "1 / 1 Alpha = 4.250, kt = 0.600  -> 140.725105\n",
      "1 / 1 Alpha = 3.250, kt = 0.600  -> 85.721894\n",
      "  #discard\n",
      "explore{1}\n",
      "1 / 1 Alpha = 3.750, kt = 0.800  -> 11.880084\n",
      "1 / 1 Alpha = 3.750, kt = 0.400  -> 11.880084\n",
      "  #discard\n",
      "#CONTRACTION, dx ->  [ 0.25  0.1 ]\n",
      "#RESTART  3\n",
      "explore{0}\n",
      "  #discard\n",
      "explore{1}\n",
      "  #discard\n",
      "#CONTRACTION, dx ->  [ 0.125  0.05 ]\n",
      "#RESTART  4\n",
      "explore{0}\n",
      "1 / 1 Alpha = 3.875, kt = 0.600  -> 25.089389\n",
      "1 / 1 Alpha = 3.625, kt = 0.600  -> 11.338637\n",
      " #retain downward\n",
      "explore{1}\n",
      "1 / 1 Alpha = 3.625, kt = 0.650  -> 11.338637\n",
      "1 / 1 Alpha = 3.625, kt = 0.550  -> 11.338637\n",
      "  #discard\n",
      "#PATTERN MOVE  0\n",
      "explore{0}\n",
      "  #discard\n",
      "explore{1}\n",
      "  #discard\n",
      "[ 3.75  0.6 ] [ 3.625  0.6  ] [ 3.5  0.6]  :  11.880084346 11.3386374372 23.4650974982 True\n",
      "#RESTART  5\n",
      "explore{0}\n",
      "1 / 1 Alpha = 4.125, kt = 0.600  -> 89.511989\n",
      "1 / 1 Alpha = 3.125, kt = 0.600  -> 135.852104\n",
      "  #discard\n",
      "explore{1}\n",
      "1 / 1 Alpha = 3.625, kt = 0.800  -> 11.338637\n",
      "1 / 1 Alpha = 3.625, kt = 0.400  -> 11.338637\n",
      "  #discard\n",
      "#CONTRACTION, dx ->  [ 0.25  0.1 ]\n",
      "#RESTART  6\n",
      "explore{0}\n",
      "1 / 1 Alpha = 3.375, kt = 0.600  -> 48.259481\n",
      "  #discard\n",
      "explore{1}\n",
      "1 / 1 Alpha = 3.625, kt = 0.700  -> 11.338637\n",
      "1 / 1 Alpha = 3.625, kt = 0.500  -> 11.338637\n",
      "  #discard\n",
      "#CONTRACTION, dx ->  [ 0.125  0.05 ]\n",
      "#RESTART  7\n",
      "explore{0}\n",
      "  #discard\n",
      "explore{1}\n",
      "  #discard\n",
      "#CONTRACTION, dx ->  [ 0.0625  0.025 ]\n",
      "#RESTART  8\n",
      "explore{0}\n",
      "1 / 1 Alpha = 3.688, kt = 0.600  -> 10.025862\n",
      " #retain upward\n",
      "explore{1}\n",
      "1 / 1 Alpha = 3.688, kt = 0.625  -> 10.025862\n",
      "1 / 1 Alpha = 3.688, kt = 0.575  -> 10.025862\n",
      "  #discard\n",
      "#PATTERN MOVE  0\n",
      "explore{0}\n",
      "  #discard\n",
      "explore{1}\n",
      "  #discard\n",
      "[ 3.625  0.6  ] [ 3.6875  0.6   ] [ 3.75  0.6 ]  :  11.3386374372 10.025862277 11.880084346 True\n",
      "#RESTART  9\n",
      "explore{0}\n",
      "1 / 1 Alpha = 4.188, kt = 0.600  -> 113.535131\n",
      "1 / 1 Alpha = 3.188, kt = 0.600  -> 109.203470\n",
      "  #discard\n",
      "explore{1}\n",
      "1 / 1 Alpha = 3.688, kt = 0.800  -> 10.025862\n",
      "1 / 1 Alpha = 3.688, kt = 0.400  -> 10.025862\n",
      "  #discard\n",
      "#CONTRACTION, dx ->  [ 0.25  0.1 ]\n",
      "#RESTART  10\n",
      "explore{0}\n",
      "1 / 1 Alpha = 3.938, kt = 0.600  -> 36.444607\n",
      "1 / 1 Alpha = 3.438, kt = 0.600  -> 34.278845\n",
      "  #discard\n",
      "explore{1}\n",
      "1 / 1 Alpha = 3.688, kt = 0.700  -> 10.025862\n",
      "1 / 1 Alpha = 3.688, kt = 0.500  -> 10.025862\n",
      "  #discard\n",
      "#CONTRACTION, dx ->  [ 0.125  0.05 ]\n",
      "#RESTART  11\n",
      "explore{0}\n",
      "1 / 1 Alpha = 3.812, kt = 0.600  -> 16.901281\n",
      "1 / 1 Alpha = 3.562, kt = 0.600  -> 15.818366\n",
      "  #discard\n",
      "explore{1}\n",
      "1 / 1 Alpha = 3.688, kt = 0.650  -> 10.025862\n",
      "1 / 1 Alpha = 3.688, kt = 0.550  -> 10.025862\n",
      "  #discard\n",
      "#CONTRACTION, dx ->  [ 0.0625  0.025 ]\n",
      "#RESTART  12\n",
      "explore{0}\n",
      "  #discard\n",
      "explore{1}\n",
      "  #discard\n",
      "#CONTRACTION, dx ->  [ 0.03125  0.0125 ]\n"
     ]
    }
   ],
   "source": [
    "hjEvalDict = HookJeeves.make_default_evaldict()\n",
    "hjret=HookJeeves.minimize(sim_objective2, np.array([3.5, 0.6]), np.array([0.5,0.2]), 2.0, [0.025,0.025], evaldict=hjEvalDict,T0=T0 )"
   ]
  },
  {
   "cell_type": "code",
   "execution_count": 246,
   "metadata": {
    "collapsed": false
   },
   "outputs": [
    {
     "name": "stdout",
     "output_type": "stream",
     "text": [
      "#RESTART  0\n",
      "9 / 9 Alpha = 3.500  -> 8527.797430\n",
      "explore{0}\n",
      "9 / 9 Alpha = 4.000  -> 14260.465034\n",
      "9 / 9 Alpha = 3.000  -> 4522.882329\n",
      " #retain downward\n",
      "#PATTERN MOVE  0\n",
      "9 / 9 Alpha = 2.500  -> 2245.709698\n",
      "explore{0}\n",
      "9 / 9 Alpha = 2.000  -> 1696.290040\n",
      " #retain downward\n",
      "[ 3.5] [ 3.] [ 2.]  :  None 4522.88232908 1696.29003975 0\n",
      "#PATTERN MOVE  1\n",
      "9 / 9 Alpha = 1.000  -> 5780.701677\n",
      "explore{0}\n",
      "9 / 9 Alpha = 1.500  -> 2874.620409\n",
      " #retain upward\n",
      "[ 3.] [ 2.] [ 1.5]  :  4522.88232908 1696.29003975 2874.62040936 0\n",
      "#RESTART  1\n",
      "explore{0}\n",
      "  #discard\n",
      "#CONTRACTION, dx ->  [ 0.25]\n",
      "#RESTART  2\n",
      "explore{0}\n",
      "9 / 9 Alpha = 2.250  -> 1755.030662\n",
      "9 / 9 Alpha = 1.750  -> 2069.486304\n",
      "  #discard\n",
      "#CONTRACTION, dx ->  [ 0.125]\n",
      "#RESTART  3\n",
      "explore{0}\n",
      "9 / 9 Alpha = 2.125  -> 1671.667173\n",
      " #retain upward\n",
      "#PATTERN MOVE  0\n",
      "explore{0}\n",
      "9 / 9 Alpha = 2.750  -> 3168.324270\n",
      "  #discard\n",
      "[ 2.] [ 2.125] [ 2.25]  :  1696.29003975 1671.66717273 1755.0306616 True\n",
      "#RESTART  4\n",
      "explore{0}\n",
      "9 / 9 Alpha = 2.625  -> 2653.024377\n",
      "9 / 9 Alpha = 1.625  -> 2418.061132\n",
      "  #discard\n",
      "#CONTRACTION, dx ->  [ 0.25]\n",
      "#RESTART  5\n",
      "explore{0}\n",
      "9 / 9 Alpha = 2.375  -> 1946.378755\n",
      "9 / 9 Alpha = 1.875  -> 1828.896036\n",
      "  #discard\n",
      "#CONTRACTION, dx ->  [ 0.125]\n",
      "#RESTART  6\n",
      "explore{0}\n",
      "  #discard\n",
      "#CONTRACTION, dx ->  [ 0.0625]\n",
      "#RESTART  7\n",
      "explore{0}\n",
      "9 / 9 Alpha = 2.188  -> 1699.851970\n",
      "9 / 9 Alpha = 2.062  -> 1670.481382\n",
      " #retain downward\n",
      "#PATTERN MOVE  0\n",
      "explore{0}\n",
      "  #discard\n",
      "[ 2.125] [ 2.0625] [ 2.]  :  1671.66717273 1670.48138214 1696.29003975 True\n",
      "#RESTART  8\n",
      "explore{0}\n",
      "9 / 9 Alpha = 2.562  -> 2435.870501\n",
      "9 / 9 Alpha = 1.562  -> 2632.843800\n",
      "  #discard\n",
      "#CONTRACTION, dx ->  [ 0.25]\n",
      "#RESTART  9\n",
      "explore{0}\n",
      "9 / 9 Alpha = 2.312  -> 1837.206606\n",
      "9 / 9 Alpha = 1.812  -> 1935.693743\n",
      "  #discard\n",
      "#CONTRACTION, dx ->  [ 0.125]\n",
      "#RESTART  10\n",
      "explore{0}\n",
      "9 / 9 Alpha = 1.938  -> 1749.094676\n",
      "  #discard\n",
      "#CONTRACTION, dx ->  [ 0.0625]\n",
      "#RESTART  11\n",
      "explore{0}\n",
      "  #discard\n",
      "#CONTRACTION, dx ->  [ 0.03125]\n",
      "#RESTART  12\n",
      "explore{0}\n",
      "9 / 9 Alpha = 2.094  -> 1667.699721\n",
      " #retain upward\n",
      "#PATTERN MOVE  0\n",
      "explore{0}\n",
      "  #discard\n",
      "[ 2.0625] [ 2.09375] [ 2.125]  :  1670.48138214 1667.69972121 1671.66717273 True\n",
      "#RESTART  13\n",
      "explore{0}\n",
      "9 / 9 Alpha = 2.594  -> 2541.073721\n",
      "9 / 9 Alpha = 1.594  -> 2522.077514\n",
      "  #discard\n",
      "#CONTRACTION, dx ->  [ 0.25]\n",
      "#RESTART  14\n",
      "explore{0}\n",
      "9 / 9 Alpha = 2.344  -> 1888.418824\n",
      "9 / 9 Alpha = 1.844  -> 1878.920093\n",
      "  #discard\n",
      "#CONTRACTION, dx ->  [ 0.125]\n",
      "#RESTART  15\n",
      "explore{0}\n",
      "9 / 9 Alpha = 2.219  -> 1724.066625\n",
      "9 / 9 Alpha = 1.969  -> 1719.317242\n",
      "  #discard\n",
      "#CONTRACTION, dx ->  [ 0.0625]\n",
      "#RESTART  16\n",
      "explore{0}\n",
      "9 / 9 Alpha = 2.156  -> 1682.385792\n",
      "9 / 9 Alpha = 2.031  -> 1680.011462\n",
      "  #discard\n",
      "#CONTRACTION, dx ->  [ 0.03125]\n",
      "#RESTART  17\n",
      "explore{0}\n",
      "  #discard\n",
      "#CONTRACTION, dx ->  [ 0.015625]\n"
     ]
    }
   ],
   "source": [
    "hjEvalDict = HookJeeves.make_default_evaldict()\n",
    "hjret=HookJeeves.minimize(sim_objective, np.array([3.5]), np.array([0.5]), 2.0, [0.025], evaldict=hjEvalDict,T0=T0 )"
   ]
  },
  {
   "cell_type": "code",
   "execution_count": 247,
   "metadata": {
    "collapsed": false
   },
   "outputs": [
    {
     "data": {
      "text/plain": [
       "<matplotlib.text.Text at 0xbc83710>"
      ]
     },
     "execution_count": 247,
     "metadata": {},
     "output_type": "execute_result"
    },
    {
     "data": {
      "image/png": "[encoded data removed]",
      "text/plain": [
       "<matplotlib.figure.Figure at 0x10652ac8>"
      ]
     },
     "metadata": {},
     "output_type": "display_data"
    }
   ],
   "source": [
    "alphaIvalue=32.8\n",
    "plt.figure(figsize=(8,8))\n",
    "plt.plot(dataX,dataY, 'k*',linewidth=2.0)\n",
    "plt.plot(objTimes[timeSelectionMask] ,objTemp[timeSelectionMask]-T0,'-',linewidth=2.0)\n",
    "ax=plt.gca()\n",
    "ax.set_xlabel('sec',fontsize=20)\n",
    "ax.set_ylabel(r'$\\Delta$T ($^o$C)',fontsize=20)\n",
    "ax.tick_params(labelsize=20)\n",
    "plt.text(0.1, 0.93, r'$\\alpha*I = $%0.2f $\\frac{W}{cm^3}$ '% alphaIvalue,transform=ax.transAxes, fontsize=20)"
   ]
  },
  {
   "cell_type": "code",
   "execution_count": 238,
   "metadata": {
    "collapsed": false
   },
   "outputs": [
    {
     "data": {
      "text/plain": [
       "(array([ 3.6875,  0.6   ]), 0)"
      ]
     },
     "execution_count": 238,
     "metadata": {},
     "output_type": "execute_result"
    }
   ],
   "source": [
    "hjret"
   ]
  },
  {
   "cell_type": "code",
   "execution_count": 244,
   "metadata": {
    "collapsed": false
   },
   "outputs": [
    {
     "name": "stdout",
     "output_type": "stream",
     "text": [
      "9 / 9 Alpha = 3.690  -> 10502.683717\n"
     ]
    },
    {
     "data": {
      "text/plain": [
       "10502.683716566584"
      ]
     },
     "execution_count": 244,
     "metadata": {},
     "output_type": "execute_result"
    }
   ],
   "source": [
    "sim_objective(3.69,T0=T0)"
   ]
  },
  {
   "cell_type": "code",
   "execution_count": 235,
   "metadata": {
    "collapsed": false
   },
   "outputs": [
    {
     "data": {
      "text/plain": [
       "{'InList': [array([ 3.5,  0.6]),\n",
       "  array([ 4. ,  0.6]),\n",
       "  array([ 3. ,  0.6]),\n",
       "  array([ 3.5,  0.7]),\n",
       "  array([ 3.5,  0.5]),\n",
       "  array([ 3.75,  0.6 ]),\n",
       "  array([ 3.75,  0.65]),\n",
       "  array([ 3.75,  0.55]),\n",
       "  array([ 4.5,  0.6]),\n",
       "  array([ 4.25,  0.6 ]),\n",
       "  array([ 3.25,  0.6 ]),\n",
       "  array([ 3.75,  0.7 ]),\n",
       "  array([ 3.75,  0.5 ])],\n",
       " 'KeyEqualFunc': <function HookJeeves.defaultKeyEqual>,\n",
       " 'ResultList': [23.46509749818664,\n",
       "  50.966705132456056,\n",
       "  198.65031984018489,\n",
       "  23.46509749818664,\n",
       "  23.46509749818664,\n",
       "  11.880084346036057,\n",
       "  11.880084346036057,\n",
       "  11.880084346036057,\n",
       "  281.15530528628688,\n",
       "  140.72510455547467,\n",
       "  85.721894062284619,\n",
       "  11.880084346036057,\n",
       "  11.880084346036057]}"
      ]
     },
     "execution_count": 235,
     "metadata": {},
     "output_type": "execute_result"
    }
   ],
   "source": [
    "hjEvalDict"
   ]
  },
  {
   "cell_type": "code",
   "execution_count": 82,
   "metadata": {
    "collapsed": false
   },
   "outputs": [
    {
     "data": {
      "text/plain": [
       "[<matplotlib.lines.Line2D at 0x16766eb8>]"
      ]
     },
     "execution_count": 82,
     "metadata": {},
     "output_type": "execute_result"
    },
    {
     "data": {
      "image/png": "[encoded data removed]",
      "text/plain": [
       "<matplotlib.figure.Figure at 0x164a15c0>"
      ]
     },
     "metadata": {},
     "output_type": "display_data"
    }
   ],
   "source": [
    "plt.plot(mriTempData[:,0], mriTempData[:,1])"
   ]
  },
  {
   "cell_type": "code",
   "execution_count": 405,
   "metadata": {
    "collapsed": false
   },
   "outputs": [
    {
     "data": {
      "text/plain": [
       "1.9509647219084768e-11"
      ]
     },
     "execution_count": 405,
     "metadata": {},
     "output_type": "execute_result"
    }
   ],
   "source": [
    "dx*dy*dz*np.sum(ROION)*1e-6"
   ]
  },
  {
   "cell_type": "code",
   "execution_count": 535,
   "metadata": {
    "collapsed": false
   },
   "outputs": [
    {
     "data": {
      "text/plain": [
       "<module 'HookJeeves' from 'C:\\\\Users\\\\vchaplin\\\\Documents\\\\HiFU\\\\code\\\\myPy\\\\HookJeeves.py'>"
      ]
     },
     "execution_count": 535,
     "metadata": {},
     "output_type": "execute_result"
    }
   ],
   "source": [
    "importlib.reload(HookJeeves)"
   ]
  },
  {
   "cell_type": "code",
   "execution_count": 466,
   "metadata": {
    "collapsed": true
   },
   "outputs": [],
   "source": [
    "Tdot[:] = dataType(2.0*9.0*I0precomputed[soni] / rhoCp)"
   ]
  },
  {
   "cell_type": "code",
   "execution_count": 479,
   "metadata": {
    "collapsed": false
   },
   "outputs": [
    {
     "data": {
      "text/plain": [
       "(10.000000149011612, None, None, None)"
      ]
     },
     "execution_count": 479,
     "metadata": {},
     "output_type": "execute_result"
    }
   ],
   "source": [
    "tp=np.arange(0.0, 10.0, 1)\n",
    "tTemp=np.zeros_like(tp)\n",
    "PBdict = dict(Freeflow=1, interpTimes=tp, interpolatedTemp=tTemp, interpFunc=np.max, interpmask=ROION, perfRate=0.0)\n",
    "T[0][:] = 25\n",
    "Tdot[:] = 0\n",
    "Tdot[31,31,focplaneZpix] = 50.0\n",
    "ablation_utils.calc_heating(simPhysGrid, T, Tdot, Tmesh, Tdotmesh, kmesh, rhoCpmesh, 10.0, CEM, Rbase, GPU=True, **PBdict)\n"
   ]
  },
  {
   "cell_type": "code",
   "execution_count": 81,
   "metadata": {
    "collapsed": false
   },
   "outputs": [
    {
     "ename": "NameError",
     "evalue": "name 'tp' is not defined",
     "output_type": "error",
     "traceback": [
      "\u001b[1;31m---------------------------------------------------------------------------\u001b[0m",
      "\u001b[1;31mNameError\u001b[0m                                 Traceback (most recent call last)",
      "\u001b[1;32m<ipython-input-81-ba9ebe5e10e2>\u001b[0m in \u001b[0;36m<module>\u001b[1;34m()\u001b[0m\n\u001b[1;32m----> 1\u001b[1;33m \u001b[0mplt\u001b[0m\u001b[1;33m.\u001b[0m\u001b[0mplot\u001b[0m\u001b[1;33m(\u001b[0m\u001b[0mtp\u001b[0m\u001b[1;33m,\u001b[0m\u001b[0mtTemp\u001b[0m\u001b[1;33m)\u001b[0m\u001b[1;33m\u001b[0m\u001b[0m\n\u001b[0m",
      "\u001b[1;31mNameError\u001b[0m: name 'tp' is not defined"
     ]
    }
   ],
   "source": [
    "plt.plot(tp,tTemp)"
   ]
  },
  {
   "cell_type": "code",
   "execution_count": 478,
   "metadata": {
    "collapsed": false
   },
   "outputs": [
    {
     "data": {
      "text/plain": [
       "array([ 25.        ,  35.57712936,  38.40877533,  39.52275467,\n",
       "        40.22099304,  40.66371536,  40.94628143,  41.18307114,\n",
       "        41.36691284,  41.50113678])"
      ]
     },
     "execution_count": 478,
     "metadata": {},
     "output_type": "execute_result"
    }
   ],
   "source": [
    "tTemp"
   ]
  },
  {
   "cell_type": "code",
   "execution_count": 509,
   "metadata": {
    "collapsed": false
   },
   "outputs": [
    {
     "data": {
      "text/plain": [
       "-0.395168723327439"
      ]
     },
     "execution_count": 509,
     "metadata": {},
     "output_type": "execute_result"
    }
   ],
   "source": [
    "0.5+np.random.randn()"
   ]
  },
  {
   "cell_type": "code",
   "execution_count": 531,
   "metadata": {
    "collapsed": false
   },
   "outputs": [
    {
     "data": {
      "text/plain": [
       "array([ 0.75,  0.5 ])"
      ]
     },
     "execution_count": 531,
     "metadata": {},
     "output_type": "execute_result"
    }
   ],
   "source": [
    "np.random.randint(0,high=5,size=x0.shape)/4.0"
   ]
  },
  {
   "cell_type": "code",
   "execution_count": 85,
   "metadata": {
    "collapsed": false
   },
   "outputs": [
    {
     "data": {
      "image/png": "[encoded data removed]",
      "text/plain": [
       "<matplotlib.figure.Figure at 0x17f82cc0>"
      ]
     },
     "metadata": {},
     "output_type": "display_data"
    }
   ],
   "source": [
    "plotTraj([0.6,9.25,0]);"
   ]
  },
  {
   "cell_type": "code",
   "execution_count": null,
   "metadata": {
    "collapsed": true
   },
   "outputs": [],
   "source": []
  }
 ],
 "metadata": {
  "kernelspec": {
   "display_name": "Python 3",
   "language": "python",
   "name": "python3"
  },
  "language_info": {
   "codemirror_mode": {
    "name": "ipython",
    "version": 3
   },
   "file_extension": ".py",
   "mimetype": "text/x-python",
   "name": "python",
   "nbconvert_exporter": "python",
   "pygments_lexer": "ipython3",
   "version": "3.4.4"
  }
 },
 "nbformat": 4,
 "nbformat_minor": 0
}
