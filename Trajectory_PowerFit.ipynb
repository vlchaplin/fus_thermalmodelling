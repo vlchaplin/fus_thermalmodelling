{
 "cells": [
  {
   "cell_type": "code",
   "execution_count": 2,
   "metadata": {
    "collapsed": false
   },
   "outputs": [],
   "source": [
    "import sys\n",
    "import numpy as np\n",
    "import argparse\n",
    "from math import *\n",
    "\n",
    "sys.path.append('C:\\\\Users\\\\vchaplin\\\\Documents\\\\HiFU\\code\\\\myPy')  \n",
    "sys.path.append('C:\\\\Users\\\\Vandiver\\\\Documents\\\\HiFU\\\\code\\\\CUDA\\\\RSgpu\\\\Release')\n",
    "sys.path.append('C:\\\\Users\\\\vchaplin\\\\Documents\\\\HiFU\\\\code\\\\AblationSims')\n",
    "import ablation_utils\n",
    "import geom\n",
    "import sonalleve\n",
    "import transducers\n",
    "import PBHE_CUDA\n",
    "\n",
    "import importlib\n",
    "\n",
    "import matplotlib.image as image\n",
    "import matplotlib.pyplot as plt\n",
    "\n",
    "from scipy.interpolate import interp1d \n",
    "import csv\n",
    "import HookJeeves\n",
    "\n",
    "import moviepy.editor as mpy\n",
    "from moviepy.video.io.bindings import mplfig_to_npimage\n",
    "\n",
    "def plotTraj(vec,maxR_mm=10,dR_mm=4,z_mm=140):\n",
    "    points,nt,numSon = ablation_utils.contstruct_circ_sonication_points(maxR_mm,dR_mm,z_mm,vec[0],vec[1],vec[2])\n",
    "    plt.plot(points[:,0], points[:,1], '*-')\n",
    "    return points\n",
    "\n",
    "\n",
    "%matplotlib inline"
   ]
  },
  {
   "cell_type": "code",
   "execution_count": 7,
   "metadata": {
    "collapsed": false
   },
   "outputs": [],
   "source": [
    "#plt.rc('text',usetex=True)\n",
    "plt.rc('font', family='sans-serif', size=20)"
   ]
  },
  {
   "cell_type": "code",
   "execution_count": 2,
   "metadata": {
    "collapsed": false
   },
   "outputs": [
    {
     "ename": "NameError",
     "evalue": "name 'importlib' is not defined",
     "output_type": "error",
     "traceback": [
      "\u001b[1;31m---------------------------------------------------------------------------\u001b[0m",
      "\u001b[1;31mNameError\u001b[0m                                 Traceback (most recent call last)",
      "\u001b[1;32m<ipython-input-2-23d6130edac8>\u001b[0m in \u001b[0;36m<module>\u001b[1;34m()\u001b[0m\n\u001b[1;32m----> 1\u001b[1;33m \u001b[0mimportlib\u001b[0m\u001b[1;33m.\u001b[0m\u001b[0mreload\u001b[0m\u001b[1;33m(\u001b[0m\u001b[0mablation_utils\u001b[0m\u001b[1;33m)\u001b[0m\u001b[1;33m\u001b[0m\u001b[0m\n\u001b[0m",
      "\u001b[1;31mNameError\u001b[0m: name 'importlib' is not defined"
     ]
    }
   ],
   "source": [
    "importlib.reload(ablation_utils)"
   ]
  },
  {
   "cell_type": "code",
   "execution_count": 148,
   "metadata": {
    "collapsed": false
   },
   "outputs": [
    {
     "data": {
      "text/plain": [
       "<module 'geom' from 'C:\\\\Users\\\\vchaplin\\\\Documents\\\\HiFU\\\\code\\\\myPy\\\\geom.py'>"
      ]
     },
     "execution_count": 148,
     "metadata": {},
     "output_type": "execute_result"
    }
   ],
   "source": [
    "importlib.reload(geom)"
   ]
  },
  {
   "cell_type": "code",
   "execution_count": 3,
   "metadata": {
    "collapsed": false
   },
   "outputs": [],
   "source": [
    "rho=1000\n",
    "Cp=4100\n",
    "c0=1540\n",
    "f0=1.2e6\n",
    "k0=f0*2*pi/c0\n",
    "ktdiffusion=0.6\n",
    "\n",
    "uxyz = sonalleve.get_sonalleve_xdc_vecs()\n",
    "unvec = sonalleve.get_sonalleve_xdc_normals()\n",
    "N = uxyz.shape[0]"
   ]
  },
  {
   "cell_type": "code",
   "execution_count": 4,
   "metadata": {
    "collapsed": true
   },
   "outputs": [],
   "source": [
    "dataType=np.float32\n",
    "\n",
    "nt=30\n",
    "nx=62; ny=62; nz=62;\n",
    "T=np.zeros([nt,nx,ny,nz],dtype=dataType)\n",
    "Tdot=np.zeros([nx,ny,nz],dtype=dataType)\n",
    "kdiff=np.zeros([nx,ny,nz],dtype=dataType)\n",
    "rhoCp=np.zeros([nx,ny,nz],dtype=dataType)\n",
    "\n",
    "Rbase = np.zeros([nx,ny,nz],dtype=dataType)\n",
    "\n",
    "CEM=np.zeros([nx,ny,nz],dtype=dataType)\n",
    "CEM0=np.zeros_like(CEM)\n",
    "\n",
    "xrp = 1e-2*np.linspace(-2.0,2.0, nx, dtype=dataType)\n",
    "yrp = 1e-2*np.linspace(-2.0,2.0, ny, dtype=dataType)\n",
    "zrp = 1e-2*np.linspace(11.0, 17.0, nz, dtype=dataType)\n",
    "dx=xrp[1]-xrp[0]\n",
    "dy=yrp[1]-yrp[0]\n",
    "dz=zrp[1]-zrp[0]\n",
    "dt=0.1\n",
    "\n",
    "zplane=0.14\n",
    "focplaneZpix=np.where(np.logical_and( (zrp[1:-1]-zplane>=0) , (zrp[0:-2]-zplane<0) ))[0][0]\n",
    "\n",
    "res = np.array([dt,dx,dy,dz],dtype=dataType)\n",
    "\n",
    "kdiff[:]=ktdiffusion\n",
    "rhoCp[:]= rho*Cp\n",
    "\n",
    "if dataType == np.float32:\n",
    "    Tmesh = PBHE_CUDA.mesh4d_f()\n",
    "    Tdotmesh = PBHE_CUDA.mesh34d_f();\n",
    "    kmesh = PBHE_CUDA.mesh3d_f();\n",
    "    rhoCpmesh = PBHE_CUDA.mesh3d_f();\n",
    "\n",
    "\n",
    "    PBHE_CUDA.ShareMemoryMesh4_f(T, res, Tmesh)\n",
    "    PBHE_CUDA.ShareMemoryMesh34_f(Tdot, res, Tdotmesh)\n",
    "    PBHE_CUDA.ShareMemoryMesh3_f(kdiff, res[1:4], kmesh)\n",
    "    PBHE_CUDA.ShareMemoryMesh3_f(rhoCp, res[1:4], rhoCpmesh)\n",
    "else:\n",
    "    Tmesh = PBHE_CUDA.mesh4d()\n",
    "    Tdotmesh = PBHE_CUDA.mesh34d();\n",
    "    kmesh = PBHE_CUDA.mesh3d();\n",
    "    rhoCpmesh = PBHE_CUDA.mesh3d();\n",
    "\n",
    "    PBHE_CUDA.ShareMemoryMesh4(T, res, Tmesh)\n",
    "    PBHE_CUDA.ShareMemoryMesh34(Tdot, res, Tdotmesh)\n",
    "    PBHE_CUDA.ShareMemoryMesh3(kdiff, res[1:4], kmesh)\n",
    "    PBHE_CUDA.ShareMemoryMesh3(rhoCp, res[1:4], rhoCpmesh)\n",
    "    \n",
    "\n",
    "gxp,gyp,gzp = np.meshgrid(xrp, yrp, zrp, sparse=False, indexing='ij')\n",
    "calcGridDist= lambda rr: np.sqrt((gxp-rr[0])**2 + (gyp-rr[1])**2 + (gzp-rr[2])**2)\n",
    "\n",
    "simPhysGrid = {'T':T,'Tdot':Tdot,'Tmesh':Tmesh,'Tdotmesh':Tdotmesh,'kmesh': kmesh, 'rhoCpmesh':rhoCpmesh, 'kt': kdiff, 'rhoCp': rhoCp}\n",
    "simPhysGrid['dtxyz'] = res\n",
    "simPhysGrid['c0']=c0\n",
    "simPhysGrid['rho']=rho\n",
    "simPhysGrid['k0']=k0\n",
    "simPhysGrid['xrp']=xrp\n",
    "simPhysGrid['yrp']=yrp\n",
    "simPhysGrid['zrp']=zrp\n",
    "\n",
    "zsliceMask = np.zeros([nx,ny,nz],dtype=bool)\n",
    "axsliceMask = np.zeros([nx,ny,nz],dtype=bool)\n",
    "\n",
    "yi=floor(ny/2)\n",
    "zsliceMask[:,:,focplaneZpix]=True\n",
    "axsliceMask[:,yi,:]=True\n",
    "\n",
    "\n",
    "ROION=   geom.roiGen([[-0.0015,0.0, 0.14]], lambda x,y,z: geom.inEllipse(x,y,z, 0.008, 0.008,0.015),gxp,gyp,gzp)    \n",
    "ROIEXTRA=geom.roiGen([[-0.0015,0., 0.14]], lambda x,y,z: geom.inEllipse(x,y,z,0.01,0.01,0.04),gxp,gyp,gzp )\n",
    "ROIOFF = np.logical_and( ROIEXTRA, np.logical_not(ROION))"
   ]
  },
  {
   "cell_type": "code",
   "execution_count": 6,
   "metadata": {
    "collapsed": false
   },
   "outputs": [],
   "source": [
    "xcenter=-0.001\n",
    "#ROION=   geom.roiGen([[-0.0015,0.0, 0.14]], lambda x,y,z: geom.inCuboidBounds(x,y,z, xw=-[0.005, 0.005]),gxp,gyp,gzp)    \n",
    "ROION=   geom.inCuboidBounds(gxp - xcenter,gyp,gzp, xr=[-0.0075, 0.0075], yr=[-0.0075, 0.0075], zr=[0.125, 0.15])   \n",
    "ROIEXTRA=geom.roiGen([[xcenter,0., 0.14]], lambda x,y,z: geom.inCuboid(x,y,z,0.01,0.01,0.04),gxp,gyp,gzp )\n",
    "ROIOFF = np.logical_and( ROIEXTRA, np.logical_not(ROION))"
   ]
  },
  {
   "cell_type": "code",
   "execution_count": 7,
   "metadata": {
    "collapsed": false
   },
   "outputs": [],
   "source": [
    "PBHE_CUDA.ResetGPU()\n",
    "PBHE_CUDA.Create_Global_GPU_Session32(*T.shape)"
   ]
  },
  {
   "cell_type": "code",
   "execution_count": 8,
   "metadata": {
    "collapsed": false
   },
   "outputs": [],
   "source": [
    "RSkeys = dict(subsampN=10, ROC=0.14, subsampDiam=0.0033, gpublocks=512)\n",
    "\n",
    "pp0 = transducers.calc_pressure_field_cuda(simPhysGrid['k0'], uxyz, unvec, np.ones([N])/N, xrp, yrp, zrp, **RSkeys)  \n",
    "Ip0 = np.abs(pp0)**2 / (2.0*rho*c0)\n",
    "Ispta0 = 1.0e7\n",
    "powRenorm = (Ispta0/np.max(Ip0))"
   ]
  },
  {
   "cell_type": "code",
   "execution_count": 80,
   "metadata": {
    "collapsed": true
   },
   "outputs": [],
   "source": [
    "xx=np.arange(-0.01, 0.01,0.0001)\n",
    "smallVolumeFocField = transducers.calc_pressure_field_cuda(simPhysGrid['k0'], uxyz, unvec, np.ones([N])/N, xx, xx, xx+0.14, **RSkeys)  \n",
    "smallVolumeI0 = np.abs(smallVolumeFocField)**2 / (2.0*rho*c0)\n",
    "#Ispta0 = 1.0e7\n",
    "#powRenorm = (Ispta0/np.max(Ip0))\n",
    "smallVolumeI0 = (1e7/np.max(smallVolumeI0))"
   ]
  },
  {
   "cell_type": "code",
   "execution_count": 86,
   "metadata": {
    "collapsed": true
   },
   "outputs": [],
   "source": [
    "z_mm=140.0\n",
    "speed=0.6\n",
    "dwell=9.25\n",
    "wait=2.0\n",
    "traj=[10.0, 4.0, z_mm, speed, dwell, wait]\n",
    "\n",
    "Npass=1\n",
    "passTime = ablation_utils.trajTotalTime(*tuple(traj)) + traj[-1]\n",
    "totTime=Npass*passTime\n",
    "\n",
    "(coords_mm,nturns,numson)=ablation_utils.contstruct_circ_sonication_points(*tuple(traj))\n",
    "\n",
    "totNumSonications=int(sum(numson)*Npass)\n",
    "numFieldsPreAlloc=totNumSonications\n",
    "\n",
    "doRotation=True\n",
    "angle = 2*pi/(Npass)\n",
    "Rzn = geom.getRotZYZarray(angle,0,0)\n",
    "\n",
    "PathRotMat=None\n",
    "\n"
   ]
  },
  {
   "cell_type": "code",
   "execution_count": 92,
   "metadata": {
    "collapsed": false
   },
   "outputs": [],
   "source": [
    "try:\n",
    "    del I0precomputed, I1precomputed\n",
    "except NameError:\n",
    "   1"
   ]
  },
  {
   "cell_type": "markdown",
   "metadata": {},
   "source": [
    "<h3>Pre-compute intensity at sonication points. <h4>Only needs to be re-evaluated if the trajectory changes"
   ]
  },
  {
   "cell_type": "code",
   "execution_count": 87,
   "metadata": {
    "collapsed": false
   },
   "outputs": [
    {
     "name": "stdout",
     "output_type": "stream",
     "text": [
      "9 / 9 "
     ]
    }
   ],
   "source": [
    "(t0edges, amplitudes0) = ablation_utils.trajectorySettings(traj, Npass=Npass, doRotation=doRotation,L1renorm=sqrt(powRenorm),k0=k0,uxyz=uxyz)\n",
    "\n",
    "I0precomputed = np.zeros([numFieldsPreAlloc,nx,ny,nz],dtype=dataType)\n",
    "\n",
    "for soni in range(0,totNumSonications):\n",
    "    print('\\r%d / %d' %(soni+1,totNumSonications), end=' ')\n",
    "    P0 = transducers.calc_pressure_field_cuda(simPhysGrid['k0'], uxyz, unvec, amplitudes0[2*soni], xrp, yrp, zrp, **RSkeys )\n",
    "    I0precomputed[soni][:] = np.abs(P0)**2 / (2*rho*c0)"
   ]
  },
  {
   "cell_type": "code",
   "execution_count": 88,
   "metadata": {
    "collapsed": false
   },
   "outputs": [
    {
     "name": "stdout",
     "output_type": "stream",
     "text": [
      "9 / 9 "
     ]
    }
   ],
   "source": [
    "d=0.004\n",
    "M=3\n",
    "pxyz,r = geom.ring(d,M)\n",
    "(t1edges, amplitudes1) = ablation_utils.trajectorySettings(traj, Npass=Npass, doRotation=doRotation,L1renorm=sqrt(powRenorm),k0=k0,uxyz=uxyz, pxyz=pxyz )  \n",
    "\n",
    "I1precomputed = np.zeros([numFieldsPreAlloc,nx,ny,nz],dtype=dataType)\n",
    "\n",
    "for soni in range(0,totNumSonications):\n",
    "    print('\\r%d / %d' %(soni+1,totNumSonications), end=' ')\n",
    "    P1 = transducers.calc_pressure_field_cuda(simPhysGrid['k0'], uxyz, unvec, amplitudes1[2*soni], xrp, yrp, zrp, **RSkeys )\n",
    "    I1precomputed[soni][:] = np.abs(P1)**2 / (2*rho*c0)"
   ]
  },
  {
   "cell_type": "markdown",
   "metadata": {},
   "source": [
    "<h4> One static focus case"
   ]
  },
  {
   "cell_type": "code",
   "execution_count": 59,
   "metadata": {
    "collapsed": false
   },
   "outputs": [],
   "source": [
    "numFieldsPreAlloc=1\n",
    "totNumSonications=1\n",
    "\n",
    "tstart=7.0\n",
    "onTime = 30.0\n",
    "postSonicaitionWait=5.0\n",
    "totTime = onTime+ postSonicaitionWait+tstart\n",
    "\n",
    "tStaticEdges=np.array( [ tstart, onTime+tstart, totTime ])\n",
    "\n",
    "IStaticPrecomputed = np.zeros([numFieldsPreAlloc,nx,ny,nz],dtype=dataType)\n",
    "\n",
    "ampstatic = sqrt(powRenorm)*np.ones([N])/N\n",
    "ppStatic = transducers.calc_pressure_field_cuda(simPhysGrid['k0'], uxyz, unvec, ampstatic, xrp, yrp, zrp, **RSkeys)  \n",
    "IStaticPrecomputed[0][:] = np.abs(ppStatic)**2 / (2*rho*c0)\n"
   ]
  },
  {
   "cell_type": "code",
   "execution_count": 119,
   "metadata": {
    "collapsed": false
   },
   "outputs": [
    {
     "data": {
      "text/plain": [
       "array([ 11.,  17.,   2.,  -2.], dtype=float32)"
      ]
     },
     "execution_count": 119,
     "metadata": {},
     "output_type": "execute_result"
    }
   ],
   "source": [
    "extZX"
   ]
  },
  {
   "cell_type": "code",
   "execution_count": 14,
   "metadata": {
    "collapsed": false
   },
   "outputs": [
    {
     "data": {
      "image/png": "[encoded data removed]",
      "text/plain": [
       "<matplotlib.figure.Figure at 0xb2772e8>"
      ]
     },
     "metadata": {},
     "output_type": "display_data"
    }
   ],
   "source": [
    "yi=floor( ny / 2 )\n",
    "extXY = 100*np.array( [yrp[0],yrp[-1],xrp[-1],xrp[0]] )\n",
    "extZX = 100*np.array( [zrp[0],zrp[-1],xrp[-1],xrp[0]] )\n",
    "\n",
    "fig,axTable=plt.subplots(nrows=1,ncols=2,sharey=False,sharex=False, squeeze=True,gridspec_kw=dict(wspace=0.25,hspace=0.1), figsize=(14,8))\n",
    "#fig=plt.figure(figsize=(8,8))\n",
    "\n",
    "#sumIntensity = np.mean( I1precomputed, axis=0)\n",
    "sumIntensity = np.mean( IStaticPrecomputed, axis=0)\n",
    "\n",
    "ax=axTable[0]\n",
    "im=ax.imshow(sumIntensity[:,:,focplaneZpix],cmap=image.cm.hot,interpolation='none', extent=extXY)\n",
    "ax.imshow( ROION[:,:,focplaneZpix] , extent=extXY, vmin=0,vmax=1,cmap=image.cm.gray,alpha=0.15, interpolation='none')\n",
    "#ax.plot(coords[:,1] /10,coords[:,0]/10,'--o')\n",
    "ax.set_ylabel('cm', fontsize=20)\n",
    "\n",
    "\n",
    "ax=axTable[1]\n",
    "imT=ax.imshow( sumIntensity[:,yi,:], cmap=image.cm.hot,interpolation='none', extent=extZX)\n",
    "ax.imshow( ROION[:,yi,:] , vmin=0,vmax=1,cmap=image.cm.gray,alpha=0.15, interpolation='none',  extent=extZX)\n",
    "ax.set_ylabel('cm', fontsize=20)\n",
    "\n",
    "\n",
    "for ax in axTable.flatten():\n",
    "    ax.set_xlabel('cm', fontsize=20)\n",
    "    ax.tick_params(labelsize=18)"
   ]
  },
  {
   "cell_type": "markdown",
   "metadata": {},
   "source": [
    "<h3> Heating simulation"
   ]
  },
  {
   "cell_type": "code",
   "execution_count": 12,
   "metadata": {
    "collapsed": true
   },
   "outputs": [],
   "source": [
    "T0=22.0"
   ]
  },
  {
   "cell_type": "code",
   "execution_count": 164,
   "metadata": {
    "collapsed": true
   },
   "outputs": [],
   "source": [
    "(t1edges, amplitudes1) = ablation_utils.trajectorySettings(traj, Npass=Npass, doRotation=doRotation,L1renorm=sqrt(powRenorm),k0=k0,uxyz=uxyz, pxyz=pxyz )  "
   ]
  },
  {
   "cell_type": "code",
   "execution_count": 16,
   "metadata": {
    "collapsed": false
   },
   "outputs": [
    {
     "data": {
      "text/plain": [
       "<matplotlib.colorbar.Colorbar at 0xbf64fd0>"
      ]
     },
     "execution_count": 16,
     "metadata": {},
     "output_type": "execute_result"
    },
    {
     "data": {
      "image/png": "[encoded data removed]",
      "text/plain": [
       "<matplotlib.figure.Figure at 0x8eaa860>"
      ]
     },
     "metadata": {},
     "output_type": "display_data"
    }
   ],
   "source": [
    "plt.imshow(T[0][:,:,focplaneZpix], interpolation='none', cmap=image.cm.hot )\n",
    "plt.colorbar()"
   ]
  },
  {
   "cell_type": "code",
   "execution_count": 179,
   "metadata": {
    "collapsed": false
   },
   "outputs": [],
   "source": [
    "\n",
    "#create some dummy data\n",
    "#dataX = interpTimes.copy()\n",
    "#dataY = interpTemp.copy()"
   ]
  },
  {
   "cell_type": "code",
   "execution_count": 207,
   "metadata": {
    "collapsed": false
   },
   "outputs": [],
   "source": [
    "totTime=102"
   ]
  },
  {
   "cell_type": "code",
   "execution_count": 47,
   "metadata": {
    "collapsed": false
   },
   "outputs": [],
   "source": [
    "#load some sonalleve data\n",
    "\n",
    "file=\"C:\\\\Users\\\\Vandiver\\\\Data\\\\sonalleve\\\\BatchAnalysis\\\\curves\\\\9-24-15_egg1_scan18_maxT.txt\"\n",
    "\n",
    "file=\"C:\\\\Users\\\\Vandiver\\\\Data\\\\sonalleve\\\\BatchAnalysis\\\\curves\\\\scan\"\n",
    "file=\"C:/Users/Vandiver/Data/sonalleve/BatchAnalysis/curves/scan10_TempTrans_20160223.PAR.txt\"\n",
    "\n",
    "#file=\"C:\\\\Users\\\\Vandiver\\\\Data\\\\sonalleve\\\\BatchAnalysis\\\\curves\\\\60W_multi_G1_2015-09-24_A_single.txt\"\n",
    "#file=\"C:\\\\Users\\\\Vandiver\\\\Data\\\\sonalleve\\\\BatchAnalysis\\\\curves\\\\40W_single_QA_2015-09-15_A_single.txt\"\n",
    "\n",
    "#file=\"C:\\\\Users\\\\Vandiver\\\\Data\\\\sonalleve\\\\BatchAnalysis\\\\curves\\\\60W_multi_QA_2015-09-26_A_single.txt\"\n",
    "#file=\"C:\\\\Users\\\\Vandiver\\\\Data\\\\sonalleve\\\\BatchAnalysis\\\\curves\\\\60W_multi_QA_2015-09-26_A_multi.txt\"\n",
    "\n",
    "#file=\"C:\\\\Users\\\\Vandiver\\\\Data\\\\sonalleve\\\\BatchAnalysis\\\\curves\\\\40W_multi_2015-09-26_A_single.txt\"\n",
    "\n",
    "mriTempData=np.genfromtxt(file,delimiter='\\t')\n",
    "\n",
    "dataX = mriTempData[:,0] \n",
    "dataY = mriTempData[:,1]"
   ]
  },
  {
   "cell_type": "code",
   "execution_count": 48,
   "metadata": {
    "collapsed": false
   },
   "outputs": [
    {
     "data": {
      "text/plain": [
       "[<matplotlib.lines.Line2D at 0xfff0748>]"
      ]
     },
     "execution_count": 48,
     "metadata": {},
     "output_type": "execute_result"
    },
    {
     "data": {
      "image/png": "[encoded data removed]",
      "text/plain": [
       "<matplotlib.figure.Figure at 0xb2858d0>"
      ]
     },
     "metadata": {},
     "output_type": "display_data"
    }
   ],
   "source": [
    "plt.plot(dataX, dataY)"
   ]
  },
  {
   "cell_type": "code",
   "execution_count": 379,
   "metadata": {
    "collapsed": false
   },
   "outputs": [
    {
     "data": {
      "text/plain": [
       "array([ True,  True,  True,  True,  True,  True,  True,  True,  True,\n",
       "        True,  True,  True,  True,  True,  True,  True,  True,  True,\n",
       "        True,  True,  True,  True,  True,  True,  True,  True,  True,\n",
       "        True,  True,  True,  True,  True,  True,  True,  True,  True,\n",
       "        True,  True,  True,  True,  True,  True, False, False, False,\n",
       "       False, False, False, False, False], dtype=bool)"
      ]
     },
     "execution_count": 379,
     "metadata": {},
     "output_type": "execute_result"
    }
   ],
   "source": [
    "objTimes<=totTime"
   ]
  },
  {
   "cell_type": "code",
   "execution_count": 559,
   "metadata": {
    "collapsed": true
   },
   "outputs": [],
   "source": [
    "plt.rc('text', usetex=True)"
   ]
  },
  {
   "cell_type": "code",
   "execution_count": 60,
   "metadata": {
    "collapsed": false
   },
   "outputs": [],
   "source": [
    "\n",
    "#objTimes=np.arange(0,t1edges[-1],1.0)\n",
    "objTimes=dataX\n",
    "objTemp=np.zeros_like(objTimes)\n",
    "objPBdict = dict(Freeflow=1, interpTimes=objTimes, interpolatedTemp=objTemp, interpFunc=np.mean, interpmask=ROION, perfRate=0.0)\n",
    "\n",
    "timeSelectionMask = np.logical_and( objTimes<=totTime, objTimes >= 0.0 )\n",
    "\n",
    "#timeEdges = t0edges\n",
    "#intensitySet = I0precomputed\n",
    "\n",
    "timeEdges = tStaticEdges\n",
    "intensitySet = IStaticPrecomputed\n",
    "kdiff[:]=ktdiffusion\n",
    "\n",
    "def sim_objective(vec,T0=T0):\n",
    "\n",
    "    alpha=vec[0]\n",
    "    T[0] = T0\n",
    "    CEM[:]=0\n",
    "    objTemp[:]=T0\n",
    "\n",
    "    numSons = intensitySet.shape[0]\n",
    "    \n",
    "    for soni in range(0,numSons):\n",
    "        print('\\r%d / %d' %(soni+1,numSons), end=' ')\n",
    "        duration = timeEdges[2*soni + 1] - timeEdges[2*soni]\n",
    "        Tdot[:] = dataType(2.0*alpha*intensitySet[soni] / rhoCp)\n",
    "        ablation_utils.calc_heating(simPhysGrid, T, Tdot, Tmesh, Tdotmesh, kmesh, rhoCpmesh, duration, CEM, Rbase, GPU=True, interpoffset=timeEdges[2*soni], **objPBdict)\n",
    "\n",
    "        Tdot[:] = 0\n",
    "        duration = timeEdges[2*soni + 2] - timeEdges[2*soni+1]\n",
    "        ablation_utils.calc_heating(simPhysGrid, T, Tdot, Tmesh, Tdotmesh, kmesh, rhoCpmesh, duration, CEM, Rbase, GPU=True, interpoffset=timeEdges[2*soni + 1], **objPBdict)\n",
    "\n",
    "    \n",
    "    #modelInterp = interp1d(objTimes, interpTemp, fill_value=0.0, bounds_error=False)\n",
    "    value = np.sum((objTemp[timeSelectionMask]-T0 - dataY[timeSelectionMask])**2)\n",
    "    print(\"Alpha = %2.3f  -> %f\" % (alpha,value) )\n",
    "    return value\n",
    "    \n",
    "\n",
    "def sim_objective2(vec,T0=T0):\n",
    "\n",
    "    T[0] = T0\n",
    "    CEM[:]=0\n",
    "    objTemp[:]=T0\n",
    "    alpha=vec[0]\n",
    "    kdiff[:]=vec[1]\n",
    "\n",
    "    numSons = intensitySet.shape[0]\n",
    "    \n",
    "    for soni in range(0,numSons):\n",
    "        print('\\r%d / %d' %(soni+1,numSons), end=' ')\n",
    "        duration = timeEdges[2*soni + 1] - timeEdges[2*soni]\n",
    "        Tdot[:] = dataType(2.0*alpha*intensitySet[soni] / rhoCp)\n",
    "        ablation_utils.calc_heating(simPhysGrid, T, Tdot, Tmesh, Tdotmesh, kmesh, rhoCpmesh, duration, CEM, Rbase, GPU=True, interpoffset=timeEdges[2*soni], **objPBdict)\n",
    "\n",
    "        Tdot[:] = 0\n",
    "        duration = timeEdges[2*soni + 2] - timeEdges[2*soni+1]\n",
    "        ablation_utils.calc_heating(simPhysGrid, T, Tdot, Tmesh, Tdotmesh, kmesh, rhoCpmesh, duration, CEM, Rbase, GPU=True, interpoffset=timeEdges[2*soni + 1], **objPBdict)\n",
    "\n",
    "    \n",
    "    #modelInterp = interp1d(objTimes, interpTemp, fill_value=0.0, bounds_error=False)\n",
    "    value = np.sum((objTemp[timeSelectionMask]-T0 - dataY[timeSelectionMask])**2)\n",
    "    print(\"Alpha = %2.3f, kt = %1.3f  -> %f\" % (alpha,vec[1],value) )\n",
    "    return value\n",
    "    "
   ]
  },
  {
   "cell_type": "code",
   "execution_count": 63,
   "metadata": {
    "collapsed": false
   },
   "outputs": [
    {
     "name": "stdout",
     "output_type": "stream",
     "text": [
      "#RESTART  0\n"
     ]
    },
    {
     "name": "stderr",
     "output_type": "stream",
     "text": [
      "WARNING:py.warnings:C:\\Users\\vchaplin\\Documents\\HiFU\\code\\AblationSims\\ablation_utils.py:470: RuntimeWarning: overflow encountered in power\n",
      "  CEM[:] += (dt/60.0)*np.sum( Rbase**(T[0:buffsize]-43), 0  )\n",
      "\n"
     ]
    },
    {
     "name": "stdout",
     "output_type": "stream",
     "text": [
      "1 / 1 Alpha = 6.500  -> 12.701923\n",
      "explore{0}\n",
      "1 / 1 Alpha = 7.000  -> 4.311554\n",
      " #retain upward\n",
      "explore{1}\n",
      "1 / 1 Alpha = 7.000  -> 4.311554\n",
      "1 / 1 Alpha = 7.000  -> 4.311554\n",
      "  #discard\n",
      "#PATTERN MOVE  0\n",
      "1 / 1 Alpha = 7.500  -> 6.564201\n",
      "explore{0}\n",
      "1 / 1 Alpha = 8.000  -> 19.459846\n",
      " #retain downward\n",
      "explore{1}\n",
      "  #discard\n",
      "[ 6.5  0.6] [ 7.   0.6] [ 7.   0.6]  :  None 4.31155420841 4.31155420841 False\n",
      "#PATTERN MOVE  1\n",
      "explore{0}\n",
      "  #discard\n",
      "explore{1}\n",
      "  #discard\n",
      "[ 7.   0.6] [ 7.   0.6] [ 7.   0.6]  :  4.31155420841 4.31155420841 4.31155420841 True\n",
      "#PATTERN MOVE  2\n",
      "explore{0}\n",
      "  #discard\n",
      "explore{1}\n",
      "  #discard\n",
      "[ 7.   0.6] [ 7.   0.6] [ 7.   0.6]  :  4.31155420841 4.31155420841 4.31155420841 True\n",
      "#PATTERN MOVE  3\n",
      "explore{0}\n",
      "  #discard\n",
      "explore{1}\n",
      "  #discard\n",
      "[ 7.   0.6] [ 7.   0.6] [ 7.   0.6]  :  4.31155420841 4.31155420841 4.31155420841 True\n",
      "#PATTERN MOVE  4\n",
      "explore{0}\n",
      "  #discard\n",
      "explore{1}\n",
      "  #discard\n",
      "[ 7.   0.6] [ 7.   0.6] [ 7.   0.6]  :  4.31155420841 4.31155420841 4.31155420841 True\n",
      "#PATTERN MOVE  5\n",
      "explore{0}\n",
      "  #discard\n",
      "explore{1}\n",
      "  #discard\n",
      "[ 7.   0.6] [ 7.   0.6] [ 7.   0.6]  :  4.31155420841 4.31155420841 4.31155420841 True\n",
      "#PATTERN MOVE  6\n",
      "Taking random step\n",
      "1 / 1 Alpha = 7.375  -> 5.003260\n",
      "[ 7.   0.6] [ 7.   0.6] [ 7.375  0.8  ]  :  4.31155420841 4.31155420841 5.00326028815 True\n",
      "#RESTART  1\n",
      "explore{0}\n",
      "  #discard\n",
      "explore{1}\n",
      "  #discard\n",
      "#CONTRACTION, dx ->  [ 0.25  0.1 ]\n",
      "#RESTART  2\n",
      "explore{0}\n",
      "1 / 1 Alpha = 7.250  -> 4.107496\n",
      " #retain upward\n",
      "explore{1}\n",
      "1 / 1 Alpha = 7.250  -> 4.107496\n",
      "1 / 1 Alpha = 7.250  -> 4.107496\n",
      "  #discard\n",
      "#PATTERN MOVE  0\n",
      "explore{0}\n",
      " #retain downward\n",
      "explore{1}\n",
      "  #discard\n",
      "[ 7.   0.6] [ 7.25  0.6 ] [ 7.   0.6]  :  4.31155420841 4.1074964251 4.31155420841 False\n",
      "#RESTART  3\n",
      "explore{0}\n",
      "1 / 1 Alpha = 7.750  -> 11.681653\n",
      "1 / 1 Alpha = 6.750  -> 7.176366\n",
      "  #discard\n",
      "explore{1}\n",
      "1 / 1 Alpha = 7.250  -> 4.107496\n",
      "1 / 1 Alpha = 7.250  -> 4.107496\n",
      "  #discard\n",
      "#CONTRACTION, dx ->  [ 0.25  0.1 ]\n",
      "#RESTART  4\n",
      "explore{0}\n",
      "  #discard\n",
      "explore{1}\n",
      "  #discard\n",
      "#CONTRACTION, dx ->  [ 0.125  0.05 ]\n",
      "#RESTART  5\n",
      "explore{0}\n",
      "1 / 1 Alpha = 7.375  -> 5.003260\n",
      "1 / 1 Alpha = 7.125  -> 3.876928\n",
      " #retain downward\n",
      "explore{1}\n",
      "1 / 1 Alpha = 7.125  -> 3.876928\n",
      "1 / 1 Alpha = 7.125  -> 3.876928\n",
      "  #discard\n",
      "#PATTERN MOVE  0\n",
      "explore{0}\n",
      "  #discard\n",
      "explore{1}\n",
      "  #discard\n",
      "[ 7.25  0.6 ] [ 7.125  0.6  ] [ 7.   0.6]  :  4.1074964251 3.87692783559 4.31155420841 True\n",
      "#RESTART  6\n",
      "explore{0}\n",
      "1 / 1 Alpha = 7.625  -> 8.790312\n",
      "1 / 1 Alpha = 6.625  -> 9.606527\n",
      "  #discard\n",
      "explore{1}\n",
      "1 / 1 Alpha = 7.125  -> 3.876928\n",
      "1 / 1 Alpha = 7.125  -> 3.876928\n",
      "  #discard\n",
      "#CONTRACTION, dx ->  [ 0.25  0.1 ]\n",
      "#RESTART  7\n",
      "explore{0}\n",
      "1 / 1 Alpha = 6.875  -> 5.411364\n",
      "  #discard\n",
      "explore{1}\n",
      "1 / 1 Alpha = 7.125  -> 3.876928\n",
      "1 / 1 Alpha = 7.125  -> 3.876928\n",
      "  #discard\n",
      "#CONTRACTION, dx ->  [ 0.125  0.05 ]\n",
      "#RESTART  8\n",
      "explore{0}\n",
      "  #discard\n",
      "explore{1}\n",
      "  #discard\n",
      "#CONTRACTION, dx ->  [ 0.0625  0.025 ]\n",
      "#RESTART  9\n",
      "explore{0}\n",
      "1 / 1 Alpha = 7.188  -> 3.909059\n",
      "1 / 1 Alpha = 7.062  -> 4.011094\n",
      "  #discard\n",
      "explore{1}\n",
      "1 / 1 Alpha = 7.125  -> 3.876928\n",
      "1 / 1 Alpha = 7.125  -> 3.876928\n",
      "  #discard\n",
      "#CONTRACTION, dx ->  [ 0.03125  0.0125 ]\n"
     ]
    }
   ],
   "source": [
    "hjEvalDict = HookJeeves.make_default_evaldict()\n",
    "hjret=HookJeeves.minimize(sim_objective, np.array([6.5, 0.6]), np.array([0.5,0.2]), 2.0, [0.025,0.025], evaldict=hjEvalDict,T0=T0 )"
   ]
  },
  {
   "cell_type": "code",
   "execution_count": 65,
   "metadata": {
    "collapsed": false
   },
   "outputs": [
    {
     "data": {
      "text/plain": [
       "<matplotlib.text.Text at 0x10a21e48>"
      ]
     },
     "execution_count": 65,
     "metadata": {},
     "output_type": "execute_result"
    },
    {
     "data": {
      "image/png": "[encoded data removed]",
      "text/plain": [
       "<matplotlib.figure.Figure at 0x10b77588>"
      ]
     },
     "metadata": {},
     "output_type": "display_data"
    }
   ],
   "source": [
    "alphaIvalue=71.3\n",
    "plt.figure(figsize=(8,8))\n",
    "plt.plot(dataX,dataY, 'k*',linewidth=2.0)\n",
    "plt.plot(objTimes[timeSelectionMask] ,objTemp[timeSelectionMask]-T0,'-',linewidth=2.0)\n",
    "ax=plt.gca()\n",
    "ax.set_xlabel('sec',fontsize=20)\n",
    "ax.set_ylabel(r'$\\Delta$T ($^o$C)',fontsize=20)\n",
    "ax.tick_params(labelsize=20)\n",
    "plt.text(0.1, 0.93, r'$\\alpha*I = $%0.2f $\\frac{W}{cm^3}$ '% alphaIvalue,transform=ax.transAxes, fontsize=20)"
   ]
  },
  {
   "cell_type": "code",
   "execution_count": 52,
   "metadata": {
    "collapsed": false
   },
   "outputs": [
    {
     "data": {
      "text/plain": [
       "(array([ 6.125,  0.6  ]), 0)"
      ]
     },
     "execution_count": 52,
     "metadata": {},
     "output_type": "execute_result"
    }
   ],
   "source": [
    "hjret"
   ]
  },
  {
   "cell_type": "code",
   "execution_count": 61,
   "metadata": {
    "collapsed": false
   },
   "outputs": [
    {
     "name": "stderr",
     "output_type": "stream",
     "text": [
      "WARNING:py.warnings:C:\\Users\\vchaplin\\Documents\\HiFU\\code\\AblationSims\\ablation_utils.py:470: RuntimeWarning: overflow encountered in power\n",
      "  CEM[:] += (dt/60.0)*np.sum( Rbase**(T[0:buffsize]-43), 0  )\n",
      "\n"
     ]
    },
    {
     "name": "stdout",
     "output_type": "stream",
     "text": [
      "1 / 1 Alpha = 6.125  -> 25.979134\n"
     ]
    },
    {
     "data": {
      "text/plain": [
       "25.979133872175563"
      ]
     },
     "execution_count": 61,
     "metadata": {},
     "output_type": "execute_result"
    }
   ],
   "source": [
    "sim_objective([6.125],T0=T0)"
   ]
  },
  {
   "cell_type": "code",
   "execution_count": 235,
   "metadata": {
    "collapsed": false
   },
   "outputs": [
    {
     "data": {
      "text/plain": [
       "{'InList': [array([ 3.5,  0.6]),\n",
       "  array([ 4. ,  0.6]),\n",
       "  array([ 3. ,  0.6]),\n",
       "  array([ 3.5,  0.7]),\n",
       "  array([ 3.5,  0.5]),\n",
       "  array([ 3.75,  0.6 ]),\n",
       "  array([ 3.75,  0.65]),\n",
       "  array([ 3.75,  0.55]),\n",
       "  array([ 4.5,  0.6]),\n",
       "  array([ 4.25,  0.6 ]),\n",
       "  array([ 3.25,  0.6 ]),\n",
       "  array([ 3.75,  0.7 ]),\n",
       "  array([ 3.75,  0.5 ])],\n",
       " 'KeyEqualFunc': <function HookJeeves.defaultKeyEqual>,\n",
       " 'ResultList': [23.46509749818664,\n",
       "  50.966705132456056,\n",
       "  198.65031984018489,\n",
       "  23.46509749818664,\n",
       "  23.46509749818664,\n",
       "  11.880084346036057,\n",
       "  11.880084346036057,\n",
       "  11.880084346036057,\n",
       "  281.15530528628688,\n",
       "  140.72510455547467,\n",
       "  85.721894062284619,\n",
       "  11.880084346036057,\n",
       "  11.880084346036057]}"
      ]
     },
     "execution_count": 235,
     "metadata": {},
     "output_type": "execute_result"
    }
   ],
   "source": [
    "hjEvalDict"
   ]
  },
  {
   "cell_type": "code",
   "execution_count": 82,
   "metadata": {
    "collapsed": false
   },
   "outputs": [
    {
     "data": {
      "text/plain": [
       "[<matplotlib.lines.Line2D at 0x16766eb8>]"
      ]
     },
     "execution_count": 82,
     "metadata": {},
     "output_type": "execute_result"
    },
    {
     "data": {
      "image/png": "[encoded data removed]",
      "text/plain": [
       "<matplotlib.figure.Figure at 0x164a15c0>"
      ]
     },
     "metadata": {},
     "output_type": "display_data"
    }
   ],
   "source": [
    "plt.plot(mriTempData[:,0], mriTempData[:,1])"
   ]
  },
  {
   "cell_type": "code",
   "execution_count": 405,
   "metadata": {
    "collapsed": false
   },
   "outputs": [
    {
     "data": {
      "text/plain": [
       "1.9509647219084768e-11"
      ]
     },
     "execution_count": 405,
     "metadata": {},
     "output_type": "execute_result"
    }
   ],
   "source": [
    "dx*dy*dz*np.sum(ROION)*1e-6"
   ]
  },
  {
   "cell_type": "code",
   "execution_count": 535,
   "metadata": {
    "collapsed": false
   },
   "outputs": [
    {
     "data": {
      "text/plain": [
       "<module 'HookJeeves' from 'C:\\\\Users\\\\vchaplin\\\\Documents\\\\HiFU\\\\code\\\\myPy\\\\HookJeeves.py'>"
      ]
     },
     "execution_count": 535,
     "metadata": {},
     "output_type": "execute_result"
    }
   ],
   "source": [
    "importlib.reload(HookJeeves)"
   ]
  },
  {
   "cell_type": "code",
   "execution_count": 466,
   "metadata": {
    "collapsed": true
   },
   "outputs": [],
   "source": [
    "Tdot[:] = dataType(2.0*9.0*I0precomputed[soni] / rhoCp)"
   ]
  },
  {
   "cell_type": "code",
   "execution_count": 479,
   "metadata": {
    "collapsed": false
   },
   "outputs": [
    {
     "data": {
      "text/plain": [
       "(10.000000149011612, None, None, None)"
      ]
     },
     "execution_count": 479,
     "metadata": {},
     "output_type": "execute_result"
    }
   ],
   "source": [
    "tp=np.arange(0.0, 10.0, 1)\n",
    "tTemp=np.zeros_like(tp)\n",
    "PBdict = dict(Freeflow=1, interpTimes=tp, interpolatedTemp=tTemp, interpFunc=np.max, interpmask=ROION, perfRate=0.0)\n",
    "T[0][:] = 25\n",
    "Tdot[:] = 0\n",
    "Tdot[31,31,focplaneZpix] = 50.0\n",
    "ablation_utils.calc_heating(simPhysGrid, T, Tdot, Tmesh, Tdotmesh, kmesh, rhoCpmesh, 10.0, CEM, Rbase, GPU=True, **PBdict)\n"
   ]
  },
  {
   "cell_type": "code",
   "execution_count": 81,
   "metadata": {
    "collapsed": false
   },
   "outputs": [
    {
     "ename": "NameError",
     "evalue": "name 'tp' is not defined",
     "output_type": "error",
     "traceback": [
      "\u001b[1;31m---------------------------------------------------------------------------\u001b[0m",
      "\u001b[1;31mNameError\u001b[0m                                 Traceback (most recent call last)",
      "\u001b[1;32m<ipython-input-81-ba9ebe5e10e2>\u001b[0m in \u001b[0;36m<module>\u001b[1;34m()\u001b[0m\n\u001b[1;32m----> 1\u001b[1;33m \u001b[0mplt\u001b[0m\u001b[1;33m.\u001b[0m\u001b[0mplot\u001b[0m\u001b[1;33m(\u001b[0m\u001b[0mtp\u001b[0m\u001b[1;33m,\u001b[0m\u001b[0mtTemp\u001b[0m\u001b[1;33m)\u001b[0m\u001b[1;33m\u001b[0m\u001b[0m\n\u001b[0m",
      "\u001b[1;31mNameError\u001b[0m: name 'tp' is not defined"
     ]
    }
   ],
   "source": [
    "plt.plot(tp,tTemp)"
   ]
  },
  {
   "cell_type": "code",
   "execution_count": 478,
   "metadata": {
    "collapsed": false
   },
   "outputs": [
    {
     "data": {
      "text/plain": [
       "array([ 25.        ,  35.57712936,  38.40877533,  39.52275467,\n",
       "        40.22099304,  40.66371536,  40.94628143,  41.18307114,\n",
       "        41.36691284,  41.50113678])"
      ]
     },
     "execution_count": 478,
     "metadata": {},
     "output_type": "execute_result"
    }
   ],
   "source": [
    "tTemp"
   ]
  },
  {
   "cell_type": "code",
   "execution_count": 509,
   "metadata": {
    "collapsed": false
   },
   "outputs": [
    {
     "data": {
      "text/plain": [
       "-0.395168723327439"
      ]
     },
     "execution_count": 509,
     "metadata": {},
     "output_type": "execute_result"
    }
   ],
   "source": [
    "0.5+np.random.randn()"
   ]
  },
  {
   "cell_type": "code",
   "execution_count": 531,
   "metadata": {
    "collapsed": false
   },
   "outputs": [
    {
     "data": {
      "text/plain": [
       "array([ 0.75,  0.5 ])"
      ]
     },
     "execution_count": 531,
     "metadata": {},
     "output_type": "execute_result"
    }
   ],
   "source": [
    "np.random.randint(0,high=5,size=x0.shape)/4.0"
   ]
  },
  {
   "cell_type": "code",
   "execution_count": 85,
   "metadata": {
    "collapsed": false
   },
   "outputs": [
    {
     "data": {
      "image/png": "[encoded data removed]",
      "text/plain": [
       "<matplotlib.figure.Figure at 0x17f82cc0>"
      ]
     },
     "metadata": {},
     "output_type": "display_data"
    }
   ],
   "source": [
    "plotTraj([0.6,9.25,0]);"
   ]
  },
  {
   "cell_type": "code",
   "execution_count": null,
   "metadata": {
    "collapsed": true
   },
   "outputs": [],
   "source": []
  }
 ],
 "metadata": {
  "kernelspec": {
   "display_name": "Python 3",
   "language": "python",
   "name": "python3"
  },
  "language_info": {
   "codemirror_mode": {
    "name": "ipython",
    "version": 3
   },
   "file_extension": ".py",
   "mimetype": "text/x-python",
   "name": "python",
   "nbconvert_exporter": "python",
   "pygments_lexer": "ipython3",
   "version": "3.4.4"
  }
 },
 "nbformat": 4,
 "nbformat_minor": 0
}
