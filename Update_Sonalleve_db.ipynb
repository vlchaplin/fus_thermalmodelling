{
 "cells": [
  {
   "cell_type": "code",
   "execution_count": 1,
   "metadata": {
    "collapsed": true
   },
   "outputs": [],
   "source": [
    "import sqlite3 as sql"
   ]
  },
  {
   "cell_type": "code",
   "execution_count": 2,
   "metadata": {
    "collapsed": true
   },
   "outputs": [],
   "source": [
    "\n",
    "\n",
    "db = 'C:\\\\Users\\\\Vandiver\\\\Data\\\\sonalleve\\\\sonalleve.db'"
   ]
  },
  {
   "cell_type": "code",
   "execution_count": 19,
   "metadata": {
    "collapsed": true
   },
   "outputs": [],
   "source": [
    "con = sql.connect(db)\n",
    "cur = con.cursor()"
   ]
  },
  {
   "cell_type": "code",
   "execution_count": 4,
   "metadata": {
    "collapsed": false
   },
   "outputs": [
    {
     "name": "stdout",
     "output_type": "stream",
     "text": [
      "(0, 'id', 'INTEGER', 0, None, 1)\n",
      "(1, 'file', 'TEXT', 0, None, 0)\n",
      "(2, 'date', 'DATE', 0, None, 0)\n",
      "(3, 'nfoci', 'INTEGER', 0, 'NULL', 0)\n",
      "(4, 'path', 'TEXT', 0, None, 0)\n",
      "(5, 'isRI', 'INTEGER', 0, '0', 0)\n",
      "(6, 'start0', 'INTEGER', 0, None, 0)\n",
      "(7, 'end0', 'INTEGER', 0, None, 0)\n",
      "(8, 'start1', 'INTEGER', 0, None, 0)\n",
      "(9, 'end1', 'INTEGER', 0, None, 0)\n",
      "(10, 'start2', 'INTEGER', 0, None, 0)\n",
      "(11, 'end2', 'INTEGER', 0, None, 0)\n",
      "(12, 'tstartidx', 'INTEGER', 0, '1', 0)\n",
      "(13, 'tstart', 'REAL', 0, '0.0', 0)\n"
     ]
    }
   ],
   "source": [
    "meta = cur.execute(\"PRAGMA table_info('data')\")\n",
    "for r in meta:\n",
    "    print(r)"
   ]
  },
  {
   "cell_type": "code",
   "execution_count": 5,
   "metadata": {
    "collapsed": false
   },
   "outputs": [
    {
     "name": "stdout",
     "output_type": "stream",
     "text": [
      "(0, 'file', 'TEXT', 1, None, 0)\n",
      "(1, 'gid', 'INTEGER', 1, None, 0)\n",
      "(2, 'desc', 'TEXT', 0, \"''\", 0)\n"
     ]
    }
   ],
   "source": [
    "meta = cur.execute(\"PRAGMA table_info('groups')\")\n",
    "for r in meta:\n",
    "    print(r)"
   ]
  },
  {
   "cell_type": "code",
   "execution_count": 6,
   "metadata": {
    "collapsed": false
   },
   "outputs": [
    {
     "name": "stdout",
     "output_type": "stream",
     "text": [
      "(0, 'file', 'TEXT', 0, None, 1)\n",
      "(1, 'displayname', 'TEXT', 0, None, 0)\n",
      "(2, 'traj', 'TEXT', 0, None, 0)\n",
      "(3, 'grp', 'INTEGER', 0, 'NULL', 0)\n",
      "(4, 'T0', 'REAL', 0, '22.0', 0)\n",
      "(5, 'hifuSTime', 'REAL', 0, '0.0', 0)\n",
      "(6, 'hifuSDyn', 'INTEGER', 0, '1', 0)\n",
      "(7, 'ROIfile', 'TEXT', 0, 'NULL', 0)\n"
     ]
    }
   ],
   "source": [
    "meta = cur.execute(\"PRAGMA table_info('params')\")\n",
    "for r in meta:\n",
    "    print(r)"
   ]
  },
  {
   "cell_type": "code",
   "execution_count": 9,
   "metadata": {
    "collapsed": false
   },
   "outputs": [],
   "source": [
    "cur.close()"
   ]
  },
  {
   "cell_type": "code",
   "execution_count": 91,
   "metadata": {
    "collapsed": true
   },
   "outputs": [],
   "source": [
    "#add single vs. multi sets volumetric sonication\n",
    "singVsMulti = [\n",
    "\"Caskey_999_11_01_15.14.59_(TemperatureMapping_CLEAR).PAR\",\n",
    "\"Caskey_999_08_01_14.49.12_(TemperatureMapping_CLEAR).PAR\",\n",
    "\n",
    "\"Caskey_999_12_01_15.27.34_(TemperatureMapping_CLEAR).PAR\",\n",
    "\"Caskey_9999_WIP_TemperatureMapping_CLEAR_6_1.PAR\",\n",
    "\n",
    "\"Caskey_9999_WIP_TemperatureMapping_CLEAR_7_1.PAR\",\n",
    "\"Caskey_9999_WIP_TemperatureMapping_CLEAR_6_1.PAR\",\n",
    "    \n",
    "\"Caskey_9999_WIP_TemperatureMapping_CLEAR_8_1.PAR\",\n",
    "\"Caskey_9999_WIP_TemperatureMapping_CLEAR_9_1.PAR\",\n",
    "\n",
    "\"Caskey_9999_WIP_TemperatureMapping_CLEAR_8_1.PAR\",\n",
    "\"Caskey_9999_WIP_TemperatureMapping_CLEAR_10_1.PAR\",\n",
    "\n",
    "\"Caskey_9999_WIP_TemperatureMapping_CLEAR_8_1.PAR\",\n",
    "\"Caskey_9999_WIP_TemperatureMapping_CLEAR_11_1.PAR\",\n",
    "\n",
    "\"Caskey_9999_WIP_TemperatureMapping_CLEAR_8_1.PAR\",\n",
    "\"Caskey_9999_WIP_TemperatureMapping_CLEAR_12_1.PAR\",\n",
    "\n",
    "\"Caskey_9999_WIP_TemperatureMapping_CLEAR_14_1.PAR\",\n",
    "\"Caskey_9999_WIP_TemperatureMapping_CLEAR_13_1.PAR\",\n",
    "\n",
    "\"Caskey_20150731_WIP_TemperatureMapping_CLEAR_15_1.PAR\",\n",
    "\"Caskey_20150731_WIP_TemperatureMapping_CLEAR_14_1.PAR\",\n",
    "\n",
    "\"Caskey_GPh2_99999_WIP_TemperatureMapping_CLEAR_7_1.PAR\",\n",
    "\"Caskey_GPh2_99999_WIP_TemperatureMapping_CLEAR_13_1.PAR\",\n",
    "\n",
    "\"Caskey_GPh2_99999_WIP_TemperatureMapping_CLEAR_8_1.PAR\",\n",
    "\"Caskey_GPh2_99999_WIP_TemperatureMapping_CLEAR_12_1.PAR\",\n",
    "\n",
    "\"Caskey_GPh2_99999_WIP_TemperatureMapping_CLEAR_10_1.PAR\",\n",
    "\"Caskey_GPh2_99999_WIP_TemperatureMapping_CLEAR_11_1.PAR\",\n",
    "\n",
    "\"Caskey_GPh2_99999_WIP_TemperatureMapping_CLEAR_15_1.PAR\",\n",
    "\"Caskey_GPh2_99999_WIP_TemperatureMapping_CLEAR_16_1.PAR\",\n",
    "\n",
    "\"Grissom_8888_WIP_TemperatureMapping_CLEAR_4_1.PAR\",\n",
    "\"Grissom_8888_WIP_TemperatureMapping_CLEAR_3_1.PAR\",\n",
    "\n",
    "\"Caskey_20150924_WIP_TemperatureMapping_CLEAR_6_1.PAR\",\n",
    "\"Caskey_20150924_WIP_TemperatureMapping_CLEAR_5_1.PAR\",\n",
    "\n",
    "\"Caskey_20150924_WIP_TemperatureMapping_CLEAR_11_1.PAR\",\n",
    "\"Caskey_20150924_WIP_TemperatureMapping_CLEAR_9_1.PAR\",\n",
    "\n",
    "\"Caskey_20150924_WIP_TemperatureMapping_CLEAR_8_1.PAR\",\n",
    "\"Caskey_20150924_WIP_TemperatureMapping_CLEAR_7_1.PAR\",\n",
    "\n",
    "\"Caskey_20150926_WIP_TMap_Sing_60W_CLEAR_4_1.PAR\",\n",
    "\"Caskey_20150926_WIP_TMap_Mult_60W_CLEAR_3_1.PAR\",\n",
    "\n",
    "\"Caskey_20150926_WIP_TMap_Sing_40W_CLEAR_5_1.PAR\",\n",
    "\"Caskey_20150926_WIP_TMap_Mult_40W_CLEAR_6_1.PAR\",\n",
    "\n",
    "\"Caskey_20150926_WIP_TMap_Sing_B_40W_CLEAR_8_1.PAR\",\n",
    "\"Caskey_20150926_WIP_TMap_Mult_B_40W_CLEAR_7_1.PAR\"]"
   ]
  },
  {
   "cell_type": "code",
   "execution_count": 93,
   "metadata": {
    "collapsed": false
   },
   "outputs": [],
   "source": [
    "meta = cur.execute('SELECT ifnull(max(gid),0) from groups;')\n",
    "(gid,)=meta.fetchone()\n",
    "\n",
    "test=\"single-vs-multi\"\n",
    "stmt='INSERT INTO groups (file,fid,gid,desc,condition) VALUES (?,(select fid from data where file=?),?,?,?);'\n",
    "\n",
    "for i in range(0,len(singVsMulti)):\n",
    "    if (i+1)%2:\n",
    "        condition='single'\n",
    "        gid+=1\n",
    "    else:\n",
    "        condition='multi'\n",
    "    \n",
    "    file=singVsMulti[i]\n",
    "    meta = cur.execute(stmt, (file,file, gid, test, condition))"
   ]
  },
  {
   "cell_type": "code",
   "execution_count": 48,
   "metadata": {
    "collapsed": false
   },
   "outputs": [],
   "source": [
    "\n"
   ]
  },
  {
   "cell_type": "code",
   "execution_count": 94,
   "metadata": {
    "collapsed": true
   },
   "outputs": [],
   "source": [
    "con.commit()"
   ]
  },
  {
   "cell_type": "code",
   "execution_count": 66,
   "metadata": {
    "collapsed": false
   },
   "outputs": [
    {
     "data": {
      "text/plain": [
       "1"
      ]
     },
     "execution_count": 66,
     "metadata": {},
     "output_type": "execute_result"
    }
   ],
   "source": [
    "x[0]"
   ]
  },
  {
   "cell_type": "code",
   "execution_count": 83,
   "metadata": {
    "collapsed": false
   },
   "outputs": [
    {
     "data": {
      "text/plain": [
       "1"
      ]
     },
     "execution_count": 83,
     "metadata": {},
     "output_type": "execute_result"
    }
   ],
   "source": [
    "(1)%2"
   ]
  },
  {
   "cell_type": "code",
   "execution_count": null,
   "metadata": {
    "collapsed": true
   },
   "outputs": [],
   "source": []
  }
 ],
 "metadata": {
  "kernelspec": {
   "display_name": "Python 3",
   "language": "python",
   "name": "python3"
  },
  "language_info": {
   "codemirror_mode": {
    "name": "ipython",
    "version": 3
   },
   "file_extension": ".py",
   "mimetype": "text/x-python",
   "name": "python",
   "nbconvert_exporter": "python",
   "pygments_lexer": "ipython3",
   "version": "3.4.1"
  }
 },
 "nbformat": 4,
 "nbformat_minor": 0
}
