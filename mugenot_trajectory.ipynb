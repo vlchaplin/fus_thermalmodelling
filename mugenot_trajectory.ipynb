{
 "metadata": {
  "name": "",
  "signature": "sha256:2b0377fffe3ce817de3d799165c6057eb7e597320b78858bbb71e111aa1c7731"
 },
 "nbformat": 3,
 "nbformat_minor": 0,
 "worksheets": [
  {
   "cells": [
    {
     "cell_type": "code",
     "collapsed": false,
     "input": [
      "import h5py\n",
      "import sys\n",
      "import re\n",
      "import numpy as np\n",
      "import matplotlib.pyplot as plt\n",
      "from mpl_toolkits.mplot3d import Axes3D\n",
      "from matplotlib import collections\n",
      "from matplotlib import image\n",
      " \n",
      "from math import *;\n",
      "\n",
      "sys.path.append('C:\\\\Users\\\\vchaplin\\\\Documents\\\\HiFU\\code\\\\myPy')  \n",
      "sys.path.append('C:\\\\Users\\\\vchaplin\\\\Documents\\\\HiFU\\\\code\\\\AblationSims')\n",
      "sys.path.append('C:\\\\Users\\\\Vandiver\\\\Documents\\\\HiFU\\\\code\\\\BioHeatCpp\\\\PBHEswig\\\\x64')\n",
      "import ablation_utils\n",
      "import geom\n",
      "import sonalleve\n",
      "import transducers\n",
      "import PBHEswig\n",
      "from countlines import countlines\n",
      "\n",
      "\n",
      "%matplotlib inline"
     ],
     "language": "python",
     "metadata": {},
     "outputs": [],
     "prompt_number": 1
    },
    {
     "cell_type": "code",
     "collapsed": false,
     "input": [
      "db = 0.2\n",
      "da = 0.2\n",
      "\n",
      "ecc = db/da\n",
      "\n",
      "dt = 0.1\n",
      "tmax0=60\n",
      "rmax=1.0\n",
      "\n",
      "omega0 = (rmax**2)*ecc*pi/tmax0\n",
      "\n",
      "dwell_time0=1.0\n",
      "t0 = np.arange(0,tmax0,dwell_time0)\n",
      "\n",
      "tmax1=20\n",
      "dwell_time1=1.0/3.0\n",
      "omega1 = (rmax**2)*ecc*pi/tmax1\n",
      "t1 = np.arange(0,tmax1,dwell_time1)\n",
      "ksi = np.sqrt((4*pi*omega0/(ecc*da*da))*t0)\n",
      "ksi1 = np.sqrt((4*pi*omega1/(ecc*da*da))*t1) \n",
      "\n",
      "\n",
      "x0 = da*(ksi/(2*pi))*np.cos(ksi)\n",
      "y0 = db*(ksi/(2*pi))*np.sin(ksi)\n",
      "\n",
      "x1 = da*(ksi1/(2*pi))*np.cos(ksi1) \n",
      "y1 = db*(ksi1/(2*pi))*np.sin(ksi1)\n",
      "\n",
      "\n",
      "#x = np.arange(-0.6, 0.6, 1.2/len(t))\n",
      "#y = np.zeros_like(x)\n",
      "coords0 = np.zeros([len(t0), 3])\n",
      "coords0[:,0]=x0/100.0\n",
      "coords0[:,1]=y0/100.0\n",
      "\n",
      "coords1 = np.zeros([len(t1), 3])\n",
      "coords1[:,0]=x1/100.0\n",
      "coords1[:,1]=y1/100.0\n",
      "\n",
      "\n"
     ],
     "language": "python",
     "metadata": {},
     "outputs": [],
     "prompt_number": 2
    },
    {
     "cell_type": "code",
     "collapsed": false,
     "input": [
      "len(t1)\n",
      "\n"
     ],
     "language": "python",
     "metadata": {},
     "outputs": [
      {
       "metadata": {},
       "output_type": "pyout",
       "prompt_number": 22,
       "text": [
        "60"
       ]
      }
     ],
     "prompt_number": 22
    },
    {
     "cell_type": "code",
     "collapsed": false,
     "input": [
      "npass0=4\n",
      "ksi0Step = np.zeros_like(ksi)\n",
      "if npass0>0:\n",
      "    ksi0Step[1:-1] = (ksi[1:-1] - ksi[0:-2])/(npass0)\n",
      "\n",
      "coords0Rn = np.zeros([npass0,len(t0), 3])\n",
      "for n in range(0,npass0):\n",
      "    ksi_n = ksi + n*ksi0Step\n",
      "    xn = da*(ksi_n/(2*pi))*np.cos(ksi_n) \n",
      "    yn = db*(ksi_n/(2*pi))*np.sin(ksi_n)\n",
      "    \n",
      "    coords0Rn[n,:,0]=xn/100.0\n",
      "    coords0Rn[n,:,1]=yn/100.0\n",
      "\n",
      "npass1=4\n",
      "ksi1Step = np.zeros_like(ksi1)\n",
      "if npass1>0:\n",
      "    ksi1Step[1:-1] = (ksi1[1:-1] - ksi1[0:-2])/(npass1)\n",
      "\n",
      "coords1Rn = np.zeros([npass1,len(t1), 3])\n",
      "for n in range(0,npass1):\n",
      "    ksi_n = ksi1 + n*ksi1Step\n",
      "    xn = da*(ksi_n/(2*pi))*np.cos(ksi_n) \n",
      "    yn = db*(ksi_n/(2*pi))*np.sin(ksi_n)\n",
      "    \n",
      "    coords1Rn[n,:,0]=xn/100.0\n",
      "    coords1Rn[n,:,1]=yn/100.0\n"
     ],
     "language": "python",
     "metadata": {},
     "outputs": [],
     "prompt_number": 3
    },
    {
     "cell_type": "code",
     "collapsed": false,
     "input": [
      "fig=plt.figure(figsize=(7,7))\n",
      "plt.plot(x1,y1,'o-')\n",
      "plt.plot(np.transpose(100*coords1Rn[:,:,0]),np.transpose(100*coords1Rn[:,:,1]),'--.');"
     ],
     "language": "python",
     "metadata": {},
     "outputs": [
      {
       "metadata": {},
       "output_type": "display_data",
       "png": "[encoded data removed]",
       "text": [
        "<matplotlib.figure.Figure at 0x71c2160>"
       ]
      }
     ],
     "prompt_number": 4
    },
    {
     "cell_type": "code",
     "collapsed": false,
     "input": [
      "Rn = geom.getRotZYZarray(pi/2,0,0)\n",
      "coorsRn = 100*coords1.dot((Rn))"
     ],
     "language": "python",
     "metadata": {},
     "outputs": [],
     "prompt_number": 26
    },
    {
     "cell_type": "code",
     "collapsed": false,
     "input": [
      "plt.plot(x0,y0,'.-')\n",
      "plt.plot(x1,y1,'o-')\n"
     ],
     "language": "python",
     "metadata": {},
     "outputs": [
      {
       "metadata": {},
       "output_type": "pyout",
       "prompt_number": 27,
       "text": [
        "[<matplotlib.lines.Line2D at 0x71e5518>]"
       ]
      },
      {
       "metadata": {},
       "output_type": "display_data",
       "png": "[encoded data removed]",
       "text": [
        "<matplotlib.figure.Figure at 0x723cb38>"
       ]
      }
     ],
     "prompt_number": 27
    },
    {
     "cell_type": "code",
     "collapsed": false,
     "input": [
      "plt.plot(ksi1[1:-1]-ksi1[0:-2])"
     ],
     "language": "python",
     "metadata": {},
     "outputs": [
      {
       "metadata": {},
       "output_type": "pyout",
       "prompt_number": 31,
       "text": [
        "[<matplotlib.lines.Line2D at 0x8efef98>]"
       ]
      },
      {
       "metadata": {},
       "output_type": "display_data",
       "png": "[encoded data removed]",
       "text": [
        "<matplotlib.figure.Figure at 0x8e76128>"
       ]
      }
     ],
     "prompt_number": 31
    },
    {
     "cell_type": "code",
     "collapsed": false,
     "input": [
      "da\n"
     ],
     "language": "python",
     "metadata": {},
     "outputs": [
      {
       "metadata": {},
       "output_type": "pyout",
       "prompt_number": 47,
       "text": [
        "0.2"
       ]
      }
     ],
     "prompt_number": 47
    },
    {
     "cell_type": "code",
     "collapsed": false,
     "input": [
      "t1"
     ],
     "language": "python",
     "metadata": {},
     "outputs": [
      {
       "metadata": {},
       "output_type": "pyout",
       "prompt_number": 30,
       "text": [
        "array([  0.,   1.,   2.,   3.,   4.,   5.,   6.,   7.,   8.,   9.,  10.,\n",
        "        11.,  12.,  13.,  14.,  15.,  16.,  17.,  18.,  19.,  20.,  21.,\n",
        "        22.,  23.,  24.,  25.,  26.,  27.,  28.,  29.])"
       ]
      }
     ],
     "prompt_number": 30
    },
    {
     "cell_type": "code",
     "collapsed": false,
     "input": [
      "def isarray(a):\n",
      "    try:\n",
      "        shp = a.shape\n",
      "        return True\n",
      "    except:\n",
      "        return False\n",
      "\n",
      "def sonication_heating(T, Tdot, CEM, duration, T0=None, CEMinit=None, Tmax=None):\n",
      "    \n",
      "    if T0 is not None:\n",
      "        if isarray(T0):\n",
      "            T=T0\n",
      "        else:\n",
      "            T[:] = T0\n",
      "    if CEMinit is not None:\n",
      "        if isarray(CEMinit):\n",
      "            CEM=CEMinit\n",
      "        else:\n",
      "            CEM[:]=CEMinit\n",
      "    if Tmax is None:\n",
      "        Tmax = np.zeros_like(CEM)\n",
      "    \n",
      "    \n",
      "    time=0\n",
      "    ti=0\n",
      "    buffsize=T.shape[0]\n",
      "    tstep=dt*buffsize\n",
      "    while time<duration :\n",
      "\n",
      "        print( '%d%%' % (time/duration *100.0), end='\\r')\n",
      "        \n",
      "        if (time + tstep > duration):\n",
      "            buffsize = ceil((duration-time)/dt)\n",
      "            tstep = dt*buffsize\n",
      "            \n",
      "\n",
      "        PBHEswig.pbheSolve(0,dt,dx,dy,dz, Tmesh, Tdotmesh, kmesh, rhoCpmesh, 37.0, perfRate,0,buffsize-1 )\n",
      "        Rbase[:]=4\n",
      "        Rbase[np.where(T[0:,buffsize] > 43.0, True, False)] = 2\n",
      "        \n",
      "        update = np.where(T[buffsize-1] > Tmax, True, False)\n",
      "        Tmax[update] = T[buffsize-1][update]\n",
      "\n",
      "                #time integrate to get the thermal dose\n",
      "        CEM[:] += (dt/60.0)*np.sum( Rbase**(T[0:buffsize]-43), 0  )\n",
      "\n",
      "        ti+=1\n",
      "        time+=tstep\n",
      "        T[0] = T[buffsize-1]\n",
      "        \n",
      "    return (Tmax, time)\n",
      "\n",
      "\n",
      "def sonication_heating_physical_move(xdcTimes, xdcPoints, uamp, CEM, CEMvst, Tmax=None, frad=0.003, timeZero=0.0):\n",
      "    \n",
      "    if Tmax is None:\n",
      "        Tmax = np.zeros_like(CEM)\n",
      "    \n",
      "    CEMvst[:]=0\n",
      "\n",
      "    ti=0\n",
      "    \n",
      "    numSonicationPoints = len(xdcTimes)-1\n",
      "    \n",
      "    #pre-calc HIFU-induced source term (not actual dT/dt, just what is due to HIFU)\n",
      "    Pr = sonalleve.calc_pressure_field(k0, uxyz, uamp, xrp, yrp, zrp)\n",
      "    Iavg = np.abs(Pr)**2 / (2.0*rho*c0)\n",
      "    Tdot[:] = 2.0*(alpha_acc)*Iavg / (rhoCp)\n",
      "    \n",
      "    \n",
      "    fzonesCentered=list( map ( lambda v: np.where( calcGridDist( v ) < frad), pxyz ) )\n",
      "    focalPntRise = list( map( lambda ell: np.mean(Tdot[ell]), fzonesCentered ) )\n",
      "    \n",
      "    elapsedTime = timeZero\n",
      "    sonicationEndTimes = np.zeros(numSonicationPoints);\n",
      "    \n",
      "    for ti in range(0,numSonicationPoints) :\n",
      "\n",
      "        fzones =list( map ( lambda v: np.where( calcGridDist( v ) < frad), pxyz + xdcPoints[ti] ) )\n",
      "        TfocFilt =list( map( lambda ell: np.mean(T[0][ell]), fzonesCentered ) )\n",
      "        \n",
      "        dwell = min( list(map(lambda a,b: (48-a)/b, TfocFilt,focalPntRise)) )\n",
      "        if dwell > 30.0:\n",
      "            dwell = 30.0\n",
      "            \n",
      "        print ('dwell= %4.1f' % dwell, end=' ')\n",
      "        \n",
      "        if dwell >= 2*dt:\n",
      "        \n",
      "            print( 'updating position %d of %d: (%3.1f, %3.1f, t=%4.1f)' % (ti+1, numSonicationPoints, 100*xdcPoints[ti,0],100*xdcPoints[ti,1], elapsedTime), end = '\\n' )\n",
      "            Pr = sonalleve.calc_pressure_field(k0, geom.translate3vecs( uxyz, xdcPoints[ti] ), uamp, xrp, yrp, zrp)\n",
      "            Iavg = np.abs(Pr)**2 / (2.0*rho*c0)\n",
      "            Tdot[:] = 2.0*(alpha_acc)*Iavg / (rhoCp)\n",
      "\n",
      "            fzone=np.where( calcGridDist( xdcPoints[ti] + [0,0,0.14] ) < 0.003)\n",
      "            avgTdot = np.mean(Tdot[fzone])\n",
      "            avgT = np.mean(T[0][fzone])\n",
      "\n",
      "\n",
      "            #dwellX = xdcTimes[ti+1] - xdcTimes[ti]\n",
      "            #dwell = (48-avgT)/avgTdot\n",
      "\n",
      "            #if dwell > dwellX:\n",
      "            #    dwell=dwellX\n",
      "\n",
      "\n",
      "\n",
      "            Tmax, duration = sonication_heating(T, Tdot, CEM, dwell, Tmax=Tmax )\n",
      "            \n",
      "        else:\n",
      "            coolTime=4*dt\n",
      "            print ('Cooling for %f' % coolTime)\n",
      "            Tdot[:]=0\n",
      "            Tmax, duration = sonication_heating(T, Tdot, CEM, coolTime, Tmax=Tmax )\n",
      "            \n",
      "        sonicationEndTimes[ti] = duration\n",
      "        elapsedTime += duration\n",
      "        CEMvst[ti] = CEM\n",
      "            \n",
      "    return (Tmax, sonicationEndTimes)"
     ],
     "language": "python",
     "metadata": {},
     "outputs": [],
     "prompt_number": 4
    },
    {
     "cell_type": "heading",
     "level": 1,
     "metadata": {},
     "source": [
      "Simulation"
     ]
    },
    {
     "cell_type": "code",
     "collapsed": false,
     "input": [
      "uxyz = sonalleve.get_sonalleve_xdc_vecs()\n",
      "\n",
      "f0 = 1.2e6\n",
      "c0 = 1540\n",
      "k0 = 2.0*pi*(f0/c0)"
     ],
     "language": "python",
     "metadata": {},
     "outputs": [],
     "prompt_number": 5
    },
    {
     "cell_type": "heading",
     "level": 3,
     "metadata": {},
     "source": [
      "Grid / memory allocation"
     ]
    },
    {
     "cell_type": "heading",
     "level": 4,
     "metadata": {},
     "source": [
      "Grid-size"
     ]
    },
    {
     "cell_type": "code",
     "collapsed": false,
     "input": [
      "Nx = 90\n",
      "Ny = 90\n",
      "Nz = 40\n",
      "#Nt = 6\n",
      "\n",
      "maxDwell=dwell_time0\n",
      "if maxDwell < dwell_time1:\n",
      "    maxDwell=dwell_time1\n",
      "Nt = round(maxDwell/dt)\n",
      "\n",
      "xrp = 1e-2*np.linspace(-1.7,1.7,Nx)\n",
      "yrp = 1e-2*np.linspace(-1.7,1.7,Ny)\n",
      "zrp = 1e-2*np.linspace(11,17,Nz)\n",
      "\n",
      "gxp,gyp,gzp = np.meshgrid(xrp, yrp, zrp, sparse=False, indexing='ij')\n",
      "calcGridDist= lambda rr: np.sqrt((gxp-rr[0])**2 + (gyp-rr[1])**2 + (gzp-rr[2])**2)\n",
      "\n",
      "dx = xrp[1]-xrp[0]\n",
      "dy = yrp[1]-yrp[0]\n",
      "dz = zrp[1]-zrp[0]\n",
      "\n",
      "#dt = 0.1\n",
      "res = np.array([dt,dx,dy,dz])\n",
      "voxVol=dx*dy*dz\n",
      "\n",
      "zplane=0.14\n",
      "focplaneZpix=np.where(np.logical_and( (zrp[1:-1]-zplane>0) , (zrp[0:-2]-zplane<0) ))[0][0]\n",
      "\n",
      "roiVolumeZPix = np.where(np.logical_and( (zrp>=zplane-0.01) , (zrp<=zplane+0.01) ))[0]"
     ],
     "language": "python",
     "metadata": {},
     "outputs": [],
     "prompt_number": 6
    },
    {
     "cell_type": "heading",
     "level": 4,
     "metadata": {},
     "source": [
      "Allocation"
     ]
    },
    {
     "cell_type": "code",
     "collapsed": false,
     "input": [
      "# ----- allocate numpy data arrays --- #\n",
      "T = np.zeros([Nt,Nx,Ny,Nz])\n",
      "Tdot = np.zeros([Nx,Ny,Nz])\n",
      "kdiff = np.zeros([Nx,Ny,Nz])\n",
      "rhoCp = np.zeros([Nx,Ny,Nz])\n",
      "\n",
      "# ---- Create C++ mesh objects ---\n",
      "Tmesh = PBHEswig.mesh4d()\n",
      "Tdotmesh = PBHEswig.mesh34d();\n",
      "kmesh = PBHEswig.mesh3d();\n",
      "rhoCpmesh = PBHEswig.mesh3d();\n",
      "\n",
      "# ----- tie data arrays to mesh objects (to pass to C++) ---\n",
      "# the data in each mesh can now be accessed/manipulated from python via the arrays, 'T', 'Tdot', etc.\n",
      "PBHEswig.ShareMemoryMesh4(T, res, Tmesh)\n",
      "PBHEswig.ShareMemoryMesh34(Tdot, res, Tdotmesh)\n",
      "PBHEswig.ShareMemoryMesh3(kdiff, res[1:4], kmesh)\n",
      "PBHEswig.ShareMemoryMesh3(rhoCp, res[1:4], rhoCpmesh)"
     ],
     "language": "python",
     "metadata": {},
     "outputs": [],
     "prompt_number": 7
    },
    {
     "cell_type": "code",
     "collapsed": false,
     "input": [
      "CEM0 = np.zeros([Nx,Ny,Nz])\n",
      "CEM1 = np.zeros([Nx,Ny,Nz])\n",
      "Rbase = np.zeros([Nx,Ny,Nz])"
     ],
     "language": "python",
     "metadata": {},
     "outputs": [],
     "prompt_number": 8
    },
    {
     "cell_type": "code",
     "collapsed": false,
     "input": [
      "del Tmesh,Tdotmesh,kmesh,rhoCpmesh, T,Tdot,kdiff,rhoCp, CEM0, CEM1, Rbase"
     ],
     "language": "python",
     "metadata": {},
     "outputs": [],
     "prompt_number": 30
    },
    {
     "cell_type": "heading",
     "level": 4,
     "metadata": {},
     "source": [
      "Initialize space"
     ]
    },
    {
     "cell_type": "code",
     "collapsed": false,
     "input": [
      "#initial conditions\n",
      "rho=3700\n",
      "T[:] = 37.0\n",
      "Tdot[:] = 0;\n",
      "kdiff[:] = 0.5;\n",
      "rhoCp[:] = rho*1000;\n",
      "\n",
      "CEM0[:] =0\n",
      "CEM1[:] = 0\n",
      "\n",
      "perfRate = 0.0;\n",
      "\n",
      "alpha_acc = 0.5;\n",
      "\n",
      "totalTime = t0[-1]\n",
      "nnt = Nt\n",
      "#if totalTime < nnt*dt:\n",
      "#    nnt = ceil(totalTime/dt)\n",
      "#step = nnt*dt\n",
      "\n",
      "nacq = len(t0)-1\n",
      "\n",
      "try:\n",
      "    del CEM0vsTime, CEM1vsTime,Tmax0,Tmax1\n",
      "except NameError:\n",
      "   1\n",
      "\n",
      "CEM0vsTime=np.zeros([nacq,Nx,Ny,Nz])\n",
      "CEM1vsTime=np.zeros([nacq,Nx,Ny,Nz])\n",
      "\n",
      "Tmax0 = np.zeros([Nx,Ny,Nz])\n",
      "Tmax1 = np.zeros([Nx,Ny,Nz])"
     ],
     "language": "python",
     "metadata": {},
     "outputs": [],
     "prompt_number": 9
    },
    {
     "cell_type": "code",
     "collapsed": false,
     "input": [
      "nacq"
     ],
     "language": "python",
     "metadata": {},
     "outputs": [
      {
       "metadata": {},
       "output_type": "pyout",
       "prompt_number": 19,
       "text": [
        "59"
       ]
      }
     ],
     "prompt_number": 19
    },
    {
     "cell_type": "heading",
     "level": 3,
     "metadata": {},
     "source": [
      "Acoustic fields"
     ]
    },
    {
     "cell_type": "code",
     "collapsed": false,
     "input": [
      "#single\n",
      "\n",
      "N = uxyz.shape[0]\n",
      "\n",
      "Ispta0 = 1.5e7;\n",
      "\n",
      "uamp0 = np.ones(N) / N\n",
      "\n",
      "P0 = sonalleve.calc_pressure_field(k0, geom.translate3vecs(uxyz, np.array([0, 0, 0 ]) ), uamp0, xrp, yrp, zrp)\n",
      "I0 = np.abs(P0)**2 / (2.0*rho*c0)\n",
      "\n",
      "powerRenorm = (Ispta0/np.max(I0))\n",
      "I0 *= powerRenorm\n",
      "\n",
      "#update uamp0\n",
      "uamp0 *= sqrt(powerRenorm)"
     ],
     "language": "python",
     "metadata": {},
     "outputs": [],
     "prompt_number": 14
    },
    {
     "cell_type": "code",
     "collapsed": false,
     "input": [
      "#triangle \n",
      "\n",
      "d=0.0035;\n",
      "h=d*sin(pi/3);\n",
      "\n",
      "triangle,h = geom.equilateral_tri(d)\n",
      "\n",
      "pxyz=triangle\n",
      "pxyz[:,2]=0.14\n",
      "p0 = 1e7*np.ones(len(pxyz));\n",
      "\n",
      "uamp1 = transducers.get_focused_element_vals(k0, uxyz, pxyz, p0 )\n",
      "#uamp1 = sqrt(powerRenorm)*uamp0\n",
      "uamp1 = sqrt(powerRenorm)*( uamp1  ) / sum(abs(uamp1))\n",
      "\n",
      "P1 = sonalleve.calc_pressure_field(k0, geom.translate3vecs(uxyz, np.array([0, 0, 0 ]) ), uamp1, xrp, yrp, zrp)\n",
      "I1reg = np.abs(P1)**2 / (2.0*rho*c0)"
     ],
     "language": "python",
     "metadata": {},
     "outputs": [],
     "prompt_number": 15
    },
    {
     "cell_type": "code",
     "collapsed": false,
     "input": [
      "Ispta0/np.max(I1reg)"
     ],
     "language": "python",
     "metadata": {},
     "outputs": [
      {
       "metadata": {},
       "output_type": "pyout",
       "prompt_number": 15,
       "text": [
        "2.0779052074115518"
       ]
      }
     ],
     "prompt_number": 15
    },
    {
     "cell_type": "code",
     "collapsed": false,
     "input": [
      "# Execute with 'modifyPower=1' to make the multi-focus spots each correspond to a specfic intensity. \n",
      "# Otherwise the total input power will set to the same as in the single focus case, so multi-focal spots \n",
      "# will have lower intensity in each spot\n",
      "\n",
      "modifyPower=0\n",
      "\n",
      "if modifyPower:\n",
      "    #Ispta1 = 1.2e7;\n",
      "    #Ispta1 = Ispta0\n",
      "    #powerAdj1 = (Ispta1/np.max(I1reg))\n",
      "    \n",
      "    powerAdj1=1.5\n",
      "    Ispta1=powerAdj1*Ispta0\n",
      "    uamp1adj = sqrt(powerAdj1)*( uamp1  ) \n",
      "else:\n",
      "    Ispta1 = np.max(I1reg)\n",
      "    powerAdj1=1;\n",
      "    uamp1adj = sqrt(powerAdj1)*( uamp1  ) \n",
      "    \n",
      "\n",
      "I1 =powerAdj1*I1reg \n",
      "\n",
      "zax=np.linspace(5,18,100)\n",
      "pr=transducers.calc_pressure_profile(k0, uxyz, uamp0, 1e-2*np.transpose(np.array([np.zeros_like(zax), np.zeros_like(zax), zax])))\n",
      "pr2=transducers.calc_pressure_profile(k0, uxyz, uamp1adj, 1e-2*np.transpose(np.array([np.zeros_like(zax), np.zeros_like(zax), zax])))\n",
      "Iax = np.abs(pr)**2 / (2.0*rho*c0)\n",
      "Iax2 = np.abs(pr2)**2 / (2.0*rho*c0)\n",
      "\n",
      "plt.plot(zax,Iax)\n",
      "plt.plot(zax,Iax2)"
     ],
     "language": "python",
     "metadata": {},
     "outputs": [
      {
       "metadata": {},
       "output_type": "pyout",
       "prompt_number": 16,
       "text": [
        "[<matplotlib.lines.Line2D at 0x72b26d8>]"
       ]
      },
      {
       "metadata": {},
       "output_type": "display_data",
       "png": "[encoded data removed]",
       "text": [
        "<matplotlib.figure.Figure at 0x72b2a90>"
       ]
      }
     ],
     "prompt_number": 16
    },
    {
     "cell_type": "heading",
     "level": 1,
     "metadata": {},
     "source": [
      "Sonication 0"
     ]
    },
    {
     "cell_type": "code",
     "collapsed": false,
     "input": [
      "CEM0passFinal = np.zeros([npass0,Nx,Ny,Nz])\n",
      "Tmax0passFinal = np.zeros([npass0,Nx,Ny,Nz])\n",
      "T0passFinal = np.zeros([npass0,Nx,Ny,Nz])\n",
      "CEM0vsTimevsPass = np.zeros([npass0,nacq,Nx,Ny,Nz])\n",
      "sonicationEndTimesvsPass0 = np.zeros([npass0, nacq])"
     ],
     "language": "python",
     "metadata": {},
     "outputs": [],
     "prompt_number": 17
    },
    {
     "cell_type": "code",
     "collapsed": false,
     "input": [
      "\n",
      "\n",
      "T[0][:]=37\n",
      "CEM0[:]=0\n",
      "CEM0vsTime[0][:]=0\n",
      "Tmax0[:]=0\n",
      "\n",
      "endTime=0.0;\n",
      "for n in range(0,npass0):\n",
      "    print('pass # ', n+1)\n",
      "    \n",
      "    Tmax0, sonicationEndTimes0 =sonication_heating_physical_move(t0, coords0Rn[n], uamp0, CEM0, CEM0vsTime, Tmax=Tmax0, timeZero=endTime);\n",
      "    Tfinal0 = T[0].copy()\n",
      "    \n",
      "    CEM0passFinal[n] = CEM0;\n",
      "    Tmax0passFinal[n] = Tmax0\n",
      "    T0passFinal[n] = Tfinal0\n",
      "    CEM0vsTimevsPass[n] = CEM0vsTime;\n",
      "    sonicationEndTimesvsPass0[n] = sonicationEndTimes0\n",
      "    \n",
      "    endTime = sonicationEndTimes0[-1];\n",
      "    \n"
     ],
     "language": "python",
     "metadata": {},
     "outputs": [
      {
       "output_type": "stream",
       "stream": "stdout",
       "text": [
        "pass #  1\n",
        "dwell= 27.6"
       ]
      },
      {
       "output_type": "stream",
       "stream": "stdout",
       "text": [
        " updating position 1 of 59: (0.0, 0.0, t= 0.0)\n",
        "0%"
       ]
      },
      {
       "output_type": "stream",
       "stream": "stdout",
       "text": [
        "\r",
        "3%"
       ]
      },
      {
       "output_type": "stream",
       "stream": "stdout",
       "text": [
        "\r",
        "7%"
       ]
      },
      {
       "output_type": "stream",
       "stream": "stdout",
       "text": [
        "\r",
        "10%"
       ]
      },
      {
       "output_type": "stream",
       "stream": "stdout",
       "text": [
        "\r",
        "14%"
       ]
      },
      {
       "output_type": "stream",
       "stream": "stdout",
       "text": [
        "\r",
        "18%"
       ]
      },
      {
       "output_type": "stream",
       "stream": "stdout",
       "text": [
        "\r",
        "21%"
       ]
      },
      {
       "output_type": "stream",
       "stream": "stdout",
       "text": [
        "\r",
        "25%"
       ]
      },
      {
       "output_type": "stream",
       "stream": "stdout",
       "text": [
        "\r",
        "28%"
       ]
      },
      {
       "output_type": "stream",
       "stream": "stdout",
       "text": [
        "\r",
        "32%"
       ]
      },
      {
       "output_type": "stream",
       "stream": "stdout",
       "text": [
        "\r",
        "36%"
       ]
      },
      {
       "output_type": "stream",
       "stream": "stdout",
       "text": [
        "\r",
        "39%"
       ]
      },
      {
       "output_type": "stream",
       "stream": "stdout",
       "text": [
        "\r",
        "43%"
       ]
      },
      {
       "output_type": "stream",
       "stream": "stdout",
       "text": [
        "\r",
        "47%"
       ]
      },
      {
       "output_type": "stream",
       "stream": "stdout",
       "text": [
        "\r",
        "50%"
       ]
      },
      {
       "output_type": "stream",
       "stream": "stdout",
       "text": [
        "\r",
        "54%"
       ]
      },
      {
       "output_type": "stream",
       "stream": "stdout",
       "text": [
        "\r",
        "57%"
       ]
      },
      {
       "output_type": "stream",
       "stream": "stdout",
       "text": [
        "\r",
        "61%"
       ]
      },
      {
       "output_type": "stream",
       "stream": "stdout",
       "text": [
        "\r",
        "65%"
       ]
      },
      {
       "output_type": "stream",
       "stream": "stdout",
       "text": [
        "\r",
        "68%"
       ]
      },
      {
       "output_type": "stream",
       "stream": "stdout",
       "text": [
        "\r",
        "72%"
       ]
      },
      {
       "output_type": "stream",
       "stream": "stdout",
       "text": [
        "\r",
        "76%"
       ]
      },
      {
       "output_type": "stream",
       "stream": "stdout",
       "text": [
        "\r",
        "79%"
       ]
      },
      {
       "output_type": "stream",
       "stream": "stdout",
       "text": [
        "\r",
        "83%"
       ]
      },
      {
       "output_type": "stream",
       "stream": "stdout",
       "text": [
        "\r",
        "86%"
       ]
      },
      {
       "output_type": "stream",
       "stream": "stdout",
       "text": [
        "\r",
        "90%"
       ]
      },
      {
       "output_type": "stream",
       "stream": "stdout",
       "text": [
        "\r",
        "94%"
       ]
      },
      {
       "output_type": "stream",
       "stream": "stdout",
       "text": [
        "\r",
        "97%"
       ]
      },
      {
       "output_type": "stream",
       "stream": "stdout",
       "text": [
        "\r",
        "dwell= 13.0"
       ]
      },
      {
       "output_type": "stream",
       "stream": "stdout",
       "text": [
        " updating position 2 of 59: (-0.1, -0.1, t=27.6)\n",
        "0%"
       ]
      },
      {
       "output_type": "stream",
       "stream": "stdout",
       "text": [
        "\r",
        "7%"
       ]
      },
      {
       "output_type": "stream",
       "stream": "stdout",
       "text": [
        "\r",
        "15%"
       ]
      },
      {
       "output_type": "stream",
       "stream": "stdout",
       "text": [
        "\r",
        "23%"
       ]
      },
      {
       "output_type": "stream",
       "stream": "stdout",
       "text": [
        "\r",
        "30%"
       ]
      },
      {
       "output_type": "stream",
       "stream": "stdout",
       "text": [
        "\r",
        "38%"
       ]
      },
      {
       "output_type": "stream",
       "stream": "stdout",
       "text": [
        "\r",
        "46%"
       ]
      },
      {
       "output_type": "stream",
       "stream": "stdout",
       "text": [
        "\r",
        "54%"
       ]
      },
      {
       "output_type": "stream",
       "stream": "stdout",
       "text": [
        "\r",
        "61%"
       ]
      },
      {
       "output_type": "stream",
       "stream": "stdout",
       "text": [
        "\r",
        "69%"
       ]
      },
      {
       "output_type": "stream",
       "stream": "stdout",
       "text": [
        "\r",
        "77%"
       ]
      },
      {
       "output_type": "stream",
       "stream": "stdout",
       "text": [
        "\r",
        "84%"
       ]
      },
      {
       "output_type": "stream",
       "stream": "stdout",
       "text": [
        "\r",
        "92%"
       ]
      },
      {
       "output_type": "stream",
       "stream": "stdout",
       "text": [
        "\r",
        "dwell= 12.6"
       ]
      },
      {
       "output_type": "stream",
       "stream": "stdout",
       "text": [
        " updating position 3 of 59: (0.2, -0.1, t=40.6)\n",
        "0%"
       ]
      },
      {
       "output_type": "stream",
       "stream": "stdout",
       "text": [
        "\r",
        "7%"
       ]
      },
      {
       "output_type": "stream",
       "stream": "stdout",
       "text": [
        "\r",
        "15%"
       ]
      },
      {
       "output_type": "stream",
       "stream": "stdout",
       "text": [
        "\r",
        "23%"
       ]
      },
      {
       "output_type": "stream",
       "stream": "stdout",
       "text": [
        "\r",
        "31%"
       ]
      },
      {
       "output_type": "stream",
       "stream": "stdout",
       "text": [
        "\r",
        "39%"
       ]
      },
      {
       "output_type": "stream",
       "stream": "stdout",
       "text": [
        "\r",
        "47%"
       ]
      },
      {
       "output_type": "stream",
       "stream": "stdout",
       "text": [
        "\r",
        "55%"
       ]
      },
      {
       "output_type": "stream",
       "stream": "stdout",
       "text": [
        "\r",
        "63%"
       ]
      },
      {
       "output_type": "stream",
       "stream": "stdout",
       "text": [
        "\r",
        "71%"
       ]
      },
      {
       "output_type": "stream",
       "stream": "stdout",
       "text": [
        "\r",
        "79%"
       ]
      },
      {
       "output_type": "stream",
       "stream": "stdout",
       "text": [
        "\r",
        "87%"
       ]
      },
      {
       "output_type": "stream",
       "stream": "stdout",
       "text": [
        "\r",
        "95%"
       ]
      },
      {
       "output_type": "stream",
       "stream": "stdout",
       "text": [
        "\r",
        "dwell= 10.0"
       ]
      },
      {
       "output_type": "stream",
       "stream": "stdout",
       "text": [
        " updating position 4 of 59: (0.2, 0.2, t=53.2)\n",
        "0%"
       ]
      },
      {
       "output_type": "stream",
       "stream": "stdout",
       "text": [
        "\r",
        "10%"
       ]
      },
      {
       "output_type": "stream",
       "stream": "stdout",
       "text": [
        "\r",
        "20%"
       ]
      },
      {
       "output_type": "stream",
       "stream": "stdout",
       "text": [
        "\r",
        "30%"
       ]
      },
      {
       "output_type": "stream",
       "stream": "stdout",
       "text": [
        "\r",
        "40%"
       ]
      },
      {
       "output_type": "stream",
       "stream": "stdout",
       "text": [
        "\r",
        "50%"
       ]
      },
      {
       "output_type": "stream",
       "stream": "stdout",
       "text": [
        "\r",
        "60%"
       ]
      },
      {
       "output_type": "stream",
       "stream": "stdout",
       "text": [
        "\r",
        "70%"
       ]
      },
      {
       "output_type": "stream",
       "stream": "stdout",
       "text": [
        "\r",
        "80%"
       ]
      },
      {
       "output_type": "stream",
       "stream": "stdout",
       "text": [
        "\r",
        "90%"
       ]
      },
      {
       "output_type": "stream",
       "stream": "stdout",
       "text": [
        "\r",
        "dwell=  7.2"
       ]
      },
      {
       "output_type": "stream",
       "stream": "stdout",
       "text": [
        " updating position 5 of 59: (-0.1, 0.2, t=63.2)\n",
        "0%"
       ]
      },
      {
       "output_type": "stream",
       "stream": "stdout",
       "text": [
        "\r",
        "13%"
       ]
      },
      {
       "output_type": "stream",
       "stream": "stdout",
       "text": [
        "\r",
        "27%"
       ]
      },
      {
       "output_type": "stream",
       "stream": "stdout",
       "text": [
        "\r",
        "41%"
       ]
      },
      {
       "output_type": "stream",
       "stream": "stdout",
       "text": [
        "\r",
        "55%"
       ]
      },
      {
       "output_type": "stream",
       "stream": "stdout",
       "text": [
        "\r",
        "69%"
       ]
      },
      {
       "output_type": "stream",
       "stream": "stdout",
       "text": [
        "\r",
        "83%"
       ]
      },
      {
       "output_type": "stream",
       "stream": "stdout",
       "text": [
        "\r",
        "96%"
       ]
      },
      {
       "output_type": "stream",
       "stream": "stdout",
       "text": [
        "\r",
        "dwell=  4.3"
       ]
      },
      {
       "output_type": "stream",
       "stream": "stdout",
       "text": [
        " updating position 6 of 59: (-0.3, 0.1, t=70.5)\n",
        "0%"
       ]
      },
      {
       "output_type": "stream",
       "stream": "stdout",
       "text": [
        "\r",
        "23%"
       ]
      },
      {
       "output_type": "stream",
       "stream": "stdout",
       "text": [
        "\r",
        "46%"
       ]
      },
      {
       "output_type": "stream",
       "stream": "stdout",
       "text": [
        "\r",
        "69%"
       ]
      },
      {
       "output_type": "stream",
       "stream": "stdout",
       "text": [
        "\r",
        "92%"
       ]
      },
      {
       "output_type": "stream",
       "stream": "stdout",
       "text": [
        "\r",
        "dwell=  5.1"
       ]
      },
      {
       "output_type": "stream",
       "stream": "stdout",
       "text": [
        " updating position 7 of 59: (-0.3, -0.2, t=74.9)\n",
        "0%"
       ]
      },
      {
       "output_type": "stream",
       "stream": "stdout",
       "text": [
        "\r",
        "19%"
       ]
      },
      {
       "output_type": "stream",
       "stream": "stdout",
       "text": [
        "\r",
        "39%"
       ]
      },
      {
       "output_type": "stream",
       "stream": "stdout",
       "text": [
        "\r",
        "59%"
       ]
      },
      {
       "output_type": "stream",
       "stream": "stdout",
       "text": [
        "\r",
        "78%"
       ]
      },
      {
       "output_type": "stream",
       "stream": "stdout",
       "text": [
        "\r",
        "98%"
       ]
      },
      {
       "output_type": "stream",
       "stream": "stdout",
       "text": [
        "\r",
        "dwell=  6.8 updating position 8 of 59: (-0.1, -0.3, t=80.0)\n",
        "0%"
       ]
      },
      {
       "output_type": "stream",
       "stream": "stdout",
       "text": [
        "\r",
        "14%"
       ]
      },
      {
       "output_type": "stream",
       "stream": "stdout",
       "text": [
        "\r",
        "29%"
       ]
      },
      {
       "output_type": "stream",
       "stream": "stdout",
       "text": [
        "\r",
        "43%"
       ]
      },
      {
       "output_type": "stream",
       "stream": "stdout",
       "text": [
        "\r",
        "58%"
       ]
      },
      {
       "output_type": "stream",
       "stream": "stdout",
       "text": [
        "\r",
        "73%"
       ]
      },
      {
       "output_type": "stream",
       "stream": "stdout",
       "text": [
        "\r",
        "87%"
       ]
      },
      {
       "output_type": "stream",
       "stream": "stdout",
       "text": [
        "\r",
        "dwell=  8.7"
       ]
      },
      {
       "output_type": "stream",
       "stream": "stdout",
       "text": [
        " updating position 9 of 59: (0.2, -0.3, t=86.9)\n",
        "0%"
       ]
      },
      {
       "output_type": "stream",
       "stream": "stdout",
       "text": [
        "\r",
        "11%"
       ]
      },
      {
       "output_type": "stream",
       "stream": "stdout",
       "text": [
        "\r",
        "23%"
       ]
      },
      {
       "output_type": "stream",
       "stream": "stdout",
       "text": [
        "\r",
        "34%"
       ]
      },
      {
       "output_type": "stream",
       "stream": "stdout",
       "text": [
        "\r",
        "46%"
       ]
      },
      {
       "output_type": "stream",
       "stream": "stdout",
       "text": [
        "\r",
        "57%"
       ]
      },
      {
       "output_type": "stream",
       "stream": "stdout",
       "text": [
        "\r",
        "69%"
       ]
      },
      {
       "output_type": "stream",
       "stream": "stdout",
       "text": [
        "\r",
        "80%"
       ]
      },
      {
       "output_type": "stream",
       "stream": "stdout",
       "text": [
        "\r",
        "92%"
       ]
      },
      {
       "output_type": "stream",
       "stream": "stdout",
       "text": [
        "\r",
        "dwell=  9.2"
       ]
      },
      {
       "output_type": "stream",
       "stream": "stdout",
       "text": [
        " updating position 10 of 59: (0.4, -0.2, t=95.6)\n",
        "0%"
       ]
      },
      {
       "output_type": "stream",
       "stream": "stdout",
       "text": [
        "\r",
        "10%"
       ]
      },
      {
       "output_type": "stream",
       "stream": "stdout",
       "text": [
        "\r",
        "21%"
       ]
      },
      {
       "output_type": "stream",
       "stream": "stdout",
       "text": [
        "\r",
        "32%"
       ]
      },
      {
       "output_type": "stream",
       "stream": "stdout",
       "text": [
        "\r",
        "43%"
       ]
      },
      {
       "output_type": "stream",
       "stream": "stdout",
       "text": [
        "\r",
        "54%"
       ]
      },
      {
       "output_type": "stream",
       "stream": "stdout",
       "text": [
        "\r",
        "65%"
       ]
      },
      {
       "output_type": "stream",
       "stream": "stdout",
       "text": [
        "\r",
        "76%"
       ]
      },
      {
       "output_type": "stream",
       "stream": "stdout",
       "text": [
        "\r",
        "87%"
       ]
      },
      {
       "output_type": "stream",
       "stream": "stdout",
       "text": [
        "\r",
        "98%"
       ]
      },
      {
       "output_type": "stream",
       "stream": "stdout",
       "text": [
        "\r",
        "dwell=  4.9"
       ]
      },
      {
       "output_type": "stream",
       "stream": "stdout",
       "text": [
        " updating position 11 of 59: (0.4, 0.1, t=104.8)\n",
        "0%"
       ]
      },
      {
       "output_type": "stream",
       "stream": "stdout",
       "text": [
        "\r",
        "20%"
       ]
      },
      {
       "output_type": "stream",
       "stream": "stdout",
       "text": [
        "\r",
        "40%"
       ]
      },
      {
       "output_type": "stream",
       "stream": "stdout",
       "text": [
        "\r",
        "61%"
       ]
      },
      {
       "output_type": "stream",
       "stream": "stdout",
       "text": [
        "\r",
        "81%"
       ]
      },
      {
       "output_type": "stream",
       "stream": "stdout",
       "text": [
        "\r",
        "dwell=  6.6"
       ]
      },
      {
       "output_type": "stream",
       "stream": "stdout",
       "text": [
        " updating position 12 of 59: (0.3, 0.3, t=109.8)\n",
        "0%"
       ]
      },
      {
       "output_type": "stream",
       "stream": "stdout",
       "text": [
        "\r",
        "15%"
       ]
      },
      {
       "output_type": "stream",
       "stream": "stdout",
       "text": [
        "\r",
        "30%"
       ]
      },
      {
       "output_type": "stream",
       "stream": "stdout",
       "text": [
        "\r",
        "45%"
       ]
      },
      {
       "output_type": "stream",
       "stream": "stdout",
       "text": [
        "\r",
        "60%"
       ]
      },
      {
       "output_type": "stream",
       "stream": "stdout",
       "text": [
        "\r",
        "75%"
       ]
      },
      {
       "output_type": "stream",
       "stream": "stdout",
       "text": [
        "\r",
        "91%"
       ]
      },
      {
       "output_type": "stream",
       "stream": "stdout",
       "text": [
        "\r",
        "dwell=  9.2"
       ]
      },
      {
       "output_type": "stream",
       "stream": "stdout",
       "text": [
        " updating position 13 of 59: (0.0, 0.4, t=116.4)\n",
        "0%"
       ]
      },
      {
       "output_type": "stream",
       "stream": "stdout",
       "text": [
        "\r",
        "10%"
       ]
      },
      {
       "output_type": "stream",
       "stream": "stdout",
       "text": [
        "\r",
        "21%"
       ]
      },
      {
       "output_type": "stream",
       "stream": "stdout",
       "text": [
        "\r",
        "32%"
       ]
      },
      {
       "output_type": "stream",
       "stream": "stdout",
       "text": [
        "\r",
        "43%"
       ]
      },
      {
       "output_type": "stream",
       "stream": "stdout",
       "text": [
        "\r",
        "54%"
       ]
      },
      {
       "output_type": "stream",
       "stream": "stdout",
       "text": [
        "\r",
        "65%"
       ]
      },
      {
       "output_type": "stream",
       "stream": "stdout",
       "text": [
        "\r",
        "76%"
       ]
      },
      {
       "output_type": "stream",
       "stream": "stdout",
       "text": [
        "\r",
        "87%"
       ]
      },
      {
       "output_type": "stream",
       "stream": "stdout",
       "text": [
        "\r",
        "98%"
       ]
      },
      {
       "output_type": "stream",
       "stream": "stdout",
       "text": [
        "\r",
        "dwell=  7.2"
       ]
      },
      {
       "output_type": "stream",
       "stream": "stdout",
       "text": [
        " updating position 14 of 59: (-0.2, 0.4, t=125.6)\n",
        "0%"
       ]
      },
      {
       "output_type": "stream",
       "stream": "stdout",
       "text": [
        "\r",
        "13%"
       ]
      },
      {
       "output_type": "stream",
       "stream": "stdout",
       "text": [
        "\r",
        "27%"
       ]
      },
      {
       "output_type": "stream",
       "stream": "stdout",
       "text": [
        "\r",
        "41%"
       ]
      },
      {
       "output_type": "stream",
       "stream": "stdout",
       "text": [
        "\r",
        "55%"
       ]
      },
      {
       "output_type": "stream",
       "stream": "stdout",
       "text": [
        "\r",
        "69%"
       ]
      },
      {
       "output_type": "stream",
       "stream": "stdout",
       "text": [
        "\r",
        "83%"
       ]
      },
      {
       "output_type": "stream",
       "stream": "stdout",
       "text": [
        "\r",
        "97%"
       ]
      },
      {
       "output_type": "stream",
       "stream": "stdout",
       "text": [
        "\r",
        "dwell=  6.6"
       ]
      },
      {
       "output_type": "stream",
       "stream": "stdout",
       "text": [
        " updating position 15 of 59: (-0.4, 0.2, t=132.8)\n",
        "0%"
       ]
      },
      {
       "output_type": "stream",
       "stream": "stdout",
       "text": [
        "\r",
        "15%"
       ]
      },
      {
       "output_type": "stream",
       "stream": "stdout",
       "text": [
        "\r",
        "30%"
       ]
      },
      {
       "output_type": "stream",
       "stream": "stdout",
       "text": [
        "\r",
        "45%"
       ]
      },
      {
       "output_type": "stream",
       "stream": "stdout",
       "text": [
        "\r",
        "60%"
       ]
      },
      {
       "output_type": "stream",
       "stream": "stdout",
       "text": [
        "\r",
        "75%"
       ]
      },
      {
       "output_type": "stream",
       "stream": "stdout",
       "text": [
        "\r",
        "90%"
       ]
      },
      {
       "output_type": "stream",
       "stream": "stdout",
       "text": [
        "\r",
        "dwell=  6.8"
       ]
      },
      {
       "output_type": "stream",
       "stream": "stdout",
       "text": [
        " updating position 16 of 59: (-0.5, 0.0, t=139.5)\n",
        "0%"
       ]
      },
      {
       "output_type": "stream",
       "stream": "stdout",
       "text": [
        "\r",
        "14%"
       ]
      },
      {
       "output_type": "stream",
       "stream": "stdout",
       "text": [
        "\r",
        "29%"
       ]
      },
      {
       "output_type": "stream",
       "stream": "stdout",
       "text": [
        "\r",
        "43%"
       ]
      },
      {
       "output_type": "stream",
       "stream": "stdout",
       "text": [
        "\r",
        "58%"
       ]
      },
      {
       "output_type": "stream",
       "stream": "stdout",
       "text": [
        "\r",
        "72%"
       ]
      },
      {
       "output_type": "stream",
       "stream": "stdout",
       "text": [
        "\r",
        "87%"
       ]
      },
      {
       "output_type": "stream",
       "stream": "stdout",
       "text": [
        "\r",
        "dwell=  7.4"
       ]
      },
      {
       "output_type": "stream",
       "stream": "stdout",
       "text": [
        " updating position 17 of 59: (-0.4, -0.3, t=146.4)\n",
        "0%"
       ]
      },
      {
       "output_type": "stream",
       "stream": "stdout",
       "text": [
        "\r",
        "13%"
       ]
      },
      {
       "output_type": "stream",
       "stream": "stdout",
       "text": [
        "\r",
        "27%"
       ]
      },
      {
       "output_type": "stream",
       "stream": "stdout",
       "text": [
        "\r",
        "40%"
       ]
      },
      {
       "output_type": "stream",
       "stream": "stdout",
       "text": [
        "\r",
        "54%"
       ]
      },
      {
       "output_type": "stream",
       "stream": "stdout",
       "text": [
        "\r",
        "67%"
       ]
      },
      {
       "output_type": "stream",
       "stream": "stdout",
       "text": [
        "\r",
        "81%"
       ]
      },
      {
       "output_type": "stream",
       "stream": "stdout",
       "text": [
        "\r",
        "94%"
       ]
      },
      {
       "output_type": "stream",
       "stream": "stdout",
       "text": [
        "\r",
        "dwell=  8.1"
       ]
      },
      {
       "output_type": "stream",
       "stream": "stdout",
       "text": [
        " updating position 18 of 59: (-0.3, -0.5, t=153.8)\n",
        "0%"
       ]
      },
      {
       "output_type": "stream",
       "stream": "stdout",
       "text": [
        "\r",
        "12%"
       ]
      },
      {
       "output_type": "stream",
       "stream": "stdout",
       "text": [
        "\r",
        "24%"
       ]
      },
      {
       "output_type": "stream",
       "stream": "stdout",
       "text": [
        "\r",
        "37%"
       ]
      },
      {
       "output_type": "stream",
       "stream": "stdout",
       "text": [
        "\r",
        "49%"
       ]
      },
      {
       "output_type": "stream",
       "stream": "stdout",
       "text": [
        "\r",
        "62%"
       ]
      },
      {
       "output_type": "stream",
       "stream": "stdout",
       "text": [
        "\r",
        "74%"
       ]
      },
      {
       "output_type": "stream",
       "stream": "stdout",
       "text": [
        "\r",
        "86%"
       ]
      },
      {
       "output_type": "stream",
       "stream": "stdout",
       "text": [
        "\r",
        "99%"
       ]
      },
      {
       "output_type": "stream",
       "stream": "stdout",
       "text": [
        "\r",
        "dwell=  8.8"
       ]
      },
      {
       "output_type": "stream",
       "stream": "stdout",
       "text": [
        " updating position 19 of 59: (-0.0, -0.5, t=161.9)\n",
        "0%"
       ]
      },
      {
       "output_type": "stream",
       "stream": "stdout",
       "text": [
        "\r",
        "11%"
       ]
      },
      {
       "output_type": "stream",
       "stream": "stdout",
       "text": [
        "\r",
        "22%"
       ]
      },
      {
       "output_type": "stream",
       "stream": "stdout",
       "text": [
        "\r",
        "34%"
       ]
      },
      {
       "output_type": "stream",
       "stream": "stdout",
       "text": [
        "\r",
        "45%"
       ]
      },
      {
       "output_type": "stream",
       "stream": "stdout",
       "text": [
        "\r",
        "57%"
       ]
      },
      {
       "output_type": "stream",
       "stream": "stdout",
       "text": [
        "\r",
        "68%"
       ]
      },
      {
       "output_type": "stream",
       "stream": "stdout",
       "text": [
        "\r",
        "79%"
       ]
      },
      {
       "output_type": "stream",
       "stream": "stdout",
       "text": [
        "\r",
        "91%"
       ]
      },
      {
       "output_type": "stream",
       "stream": "stdout",
       "text": [
        "\r",
        "dwell=  9.5"
       ]
      },
      {
       "output_type": "stream",
       "stream": "stdout",
       "text": [
        " updating position 20 of 59: (0.2, -0.5, t=170.7)\n",
        "0%"
       ]
      },
      {
       "output_type": "stream",
       "stream": "stdout",
       "text": [
        "\r",
        "10%"
       ]
      },
      {
       "output_type": "stream",
       "stream": "stdout",
       "text": [
        "\r",
        "21%"
       ]
      },
      {
       "output_type": "stream",
       "stream": "stdout",
       "text": [
        "\r",
        "31%"
       ]
      },
      {
       "output_type": "stream",
       "stream": "stdout",
       "text": [
        "\r",
        "42%"
       ]
      },
      {
       "output_type": "stream",
       "stream": "stdout",
       "text": [
        "\r",
        "52%"
       ]
      },
      {
       "output_type": "stream",
       "stream": "stdout",
       "text": [
        "\r",
        "63%"
       ]
      },
      {
       "output_type": "stream",
       "stream": "stdout",
       "text": [
        "\r",
        "73%"
       ]
      },
      {
       "output_type": "stream",
       "stream": "stdout",
       "text": [
        "\r",
        "84%"
       ]
      },
      {
       "output_type": "stream",
       "stream": "stdout",
       "text": [
        "\r",
        "95%"
       ]
      },
      {
       "output_type": "stream",
       "stream": "stdout",
       "text": [
        "\r",
        "dwell= 10.1"
       ]
      },
      {
       "output_type": "stream",
       "stream": "stdout",
       "text": [
        " updating position 21 of 59: (0.4, -0.4, t=180.2)\n",
        "0%"
       ]
      },
      {
       "output_type": "stream",
       "stream": "stdout",
       "text": [
        "\r",
        "9%"
       ]
      },
      {
       "output_type": "stream",
       "stream": "stdout",
       "text": [
        "\r",
        "19%"
       ]
      },
      {
       "output_type": "stream",
       "stream": "stdout",
       "text": [
        "\r",
        "29%"
       ]
      },
      {
       "output_type": "stream",
       "stream": "stdout",
       "text": [
        "\r",
        "39%"
       ]
      },
      {
       "output_type": "stream",
       "stream": "stdout",
       "text": [
        "\r",
        "49%"
       ]
      },
      {
       "output_type": "stream",
       "stream": "stdout",
       "text": [
        "\r",
        "59%"
       ]
      },
      {
       "output_type": "stream",
       "stream": "stdout",
       "text": [
        "\r",
        "69%"
       ]
      },
      {
       "output_type": "stream",
       "stream": "stdout",
       "text": [
        "\r",
        "79%"
       ]
      },
      {
       "output_type": "stream",
       "stream": "stdout",
       "text": [
        "\r",
        "89%"
       ]
      },
      {
       "output_type": "stream",
       "stream": "stdout",
       "text": [
        "\r",
        "98%"
       ]
      },
      {
       "output_type": "stream",
       "stream": "stdout",
       "text": [
        "\r",
        "dwell= 10.6"
       ]
      },
      {
       "output_type": "stream",
       "stream": "stdout",
       "text": [
        " updating position 22 of 59: (0.6, -0.2, t=190.4)\n",
        "0%"
       ]
      },
      {
       "output_type": "stream",
       "stream": "stdout",
       "text": [
        "\r",
        "9%"
       ]
      },
      {
       "output_type": "stream",
       "stream": "stdout",
       "text": [
        "\r",
        "18%"
       ]
      },
      {
       "output_type": "stream",
       "stream": "stdout",
       "text": [
        "\r",
        "28%"
       ]
      },
      {
       "output_type": "stream",
       "stream": "stdout",
       "text": [
        "\r",
        "37%"
       ]
      },
      {
       "output_type": "stream",
       "stream": "stdout",
       "text": [
        "\r",
        "47%"
       ]
      },
      {
       "output_type": "stream",
       "stream": "stdout",
       "text": [
        "\r",
        "56%"
       ]
      },
      {
       "output_type": "stream",
       "stream": "stdout",
       "text": [
        "\r",
        "65%"
       ]
      },
      {
       "output_type": "stream",
       "stream": "stdout",
       "text": [
        "\r",
        "75%"
       ]
      },
      {
       "output_type": "stream",
       "stream": "stdout",
       "text": [
        "\r",
        "84%"
       ]
      },
      {
       "output_type": "stream",
       "stream": "stdout",
       "text": [
        "\r",
        "94%"
       ]
      },
      {
       "output_type": "stream",
       "stream": "stdout",
       "text": [
        "\r",
        "dwell=  9.6"
       ]
      },
      {
       "output_type": "stream",
       "stream": "stdout",
       "text": [
        " updating position 23 of 59: (0.6, 0.1, t=201.1)\n",
        "0%"
       ]
      },
      {
       "output_type": "stream",
       "stream": "stdout",
       "text": [
        "\r",
        "10%"
       ]
      },
      {
       "output_type": "stream",
       "stream": "stdout",
       "text": [
        "\r",
        "20%"
       ]
      },
      {
       "output_type": "stream",
       "stream": "stdout",
       "text": [
        "\r",
        "31%"
       ]
      },
      {
       "output_type": "stream",
       "stream": "stdout",
       "text": [
        "\r",
        "41%"
       ]
      },
      {
       "output_type": "stream",
       "stream": "stdout",
       "text": [
        "\r",
        "51%"
       ]
      },
      {
       "output_type": "stream",
       "stream": "stdout",
       "text": [
        "\r",
        "62%"
       ]
      },
      {
       "output_type": "stream",
       "stream": "stdout",
       "text": [
        "\r",
        "72%"
       ]
      },
      {
       "output_type": "stream",
       "stream": "stdout",
       "text": [
        "\r",
        "82%"
       ]
      },
      {
       "output_type": "stream",
       "stream": "stdout",
       "text": [
        "\r",
        "93%"
       ]
      },
      {
       "output_type": "stream",
       "stream": "stdout",
       "text": [
        "\r",
        "dwell=  9.6"
       ]
      },
      {
       "output_type": "stream",
       "stream": "stdout",
       "text": [
        " updating position 24 of 59: (0.5, 0.4, t=210.8)\n",
        "0%"
       ]
      },
      {
       "output_type": "stream",
       "stream": "stdout",
       "text": [
        "\r",
        "10%"
       ]
      },
      {
       "output_type": "stream",
       "stream": "stdout",
       "text": [
        "\r",
        "20%"
       ]
      },
      {
       "output_type": "stream",
       "stream": "stdout",
       "text": [
        "\r",
        "31%"
       ]
      },
      {
       "output_type": "stream",
       "stream": "stdout",
       "text": [
        "\r",
        "41%"
       ]
      },
      {
       "output_type": "stream",
       "stream": "stdout",
       "text": [
        "\r",
        "52%"
       ]
      },
      {
       "output_type": "stream",
       "stream": "stdout",
       "text": [
        "\r",
        "62%"
       ]
      },
      {
       "output_type": "stream",
       "stream": "stdout",
       "text": [
        "\r",
        "73%"
       ]
      },
      {
       "output_type": "stream",
       "stream": "stdout",
       "text": [
        "\r",
        "83%"
       ]
      },
      {
       "output_type": "stream",
       "stream": "stdout",
       "text": [
        "\r",
        "93%"
       ]
      },
      {
       "output_type": "stream",
       "stream": "stdout",
       "text": [
        "\r",
        "dwell= 10.1"
       ]
      },
      {
       "output_type": "stream",
       "stream": "stdout",
       "text": [
        " updating position 25 of 59: (0.3, 0.5, t=220.4)\n",
        "0%"
       ]
      },
      {
       "output_type": "stream",
       "stream": "stdout",
       "text": [
        "\r",
        "9%"
       ]
      },
      {
       "output_type": "stream",
       "stream": "stdout",
       "text": [
        "\r",
        "19%"
       ]
      },
      {
       "output_type": "stream",
       "stream": "stdout",
       "text": [
        "\r",
        "29%"
       ]
      },
      {
       "output_type": "stream",
       "stream": "stdout",
       "text": [
        "\r",
        "39%"
       ]
      },
      {
       "output_type": "stream",
       "stream": "stdout",
       "text": [
        "\r",
        "49%"
       ]
      },
      {
       "output_type": "stream",
       "stream": "stdout",
       "text": [
        "\r",
        "59%"
       ]
      },
      {
       "output_type": "stream",
       "stream": "stdout",
       "text": [
        "\r",
        "69%"
       ]
      },
      {
       "output_type": "stream",
       "stream": "stdout",
       "text": [
        "\r",
        "79%"
       ]
      },
      {
       "output_type": "stream",
       "stream": "stdout",
       "text": [
        "\r",
        "89%"
       ]
      },
      {
       "output_type": "stream",
       "stream": "stdout",
       "text": [
        "\r",
        "99%"
       ]
      },
      {
       "output_type": "stream",
       "stream": "stdout",
       "text": [
        "\r",
        "dwell= 10.1"
       ]
      },
      {
       "output_type": "stream",
       "stream": "stdout",
       "text": [
        " updating position 26 of 59: (0.1, 0.6, t=230.5)\n",
        "0%"
       ]
      },
      {
       "output_type": "stream",
       "stream": "stdout",
       "text": [
        "\r",
        "9%"
       ]
      },
      {
       "output_type": "stream",
       "stream": "stdout",
       "text": [
        "\r",
        "19%"
       ]
      },
      {
       "output_type": "stream",
       "stream": "stdout",
       "text": [
        "\r",
        "29%"
       ]
      },
      {
       "output_type": "stream",
       "stream": "stdout",
       "text": [
        "\r",
        "39%"
       ]
      },
      {
       "output_type": "stream",
       "stream": "stdout",
       "text": [
        "\r",
        "49%"
       ]
      },
      {
       "output_type": "stream",
       "stream": "stdout",
       "text": [
        "\r",
        "59%"
       ]
      },
      {
       "output_type": "stream",
       "stream": "stdout",
       "text": [
        "\r",
        "69%"
       ]
      },
      {
       "output_type": "stream",
       "stream": "stdout",
       "text": [
        "\r",
        "78%"
       ]
      },
      {
       "output_type": "stream",
       "stream": "stdout",
       "text": [
        "\r",
        "88%"
       ]
      },
      {
       "output_type": "stream",
       "stream": "stdout",
       "text": [
        "\r",
        "98%"
       ]
      },
      {
       "output_type": "stream",
       "stream": "stdout",
       "text": [
        "\r",
        "dwell=  9.3"
       ]
      },
      {
       "output_type": "stream",
       "stream": "stdout",
       "text": [
        " updating position 27 of 59: (-0.2, 0.6, t=240.7)\n",
        "0%"
       ]
      },
      {
       "output_type": "stream",
       "stream": "stdout",
       "text": [
        "\r",
        "10%"
       ]
      },
      {
       "output_type": "stream",
       "stream": "stdout",
       "text": [
        "\r",
        "21%"
       ]
      },
      {
       "output_type": "stream",
       "stream": "stdout",
       "text": [
        "\r",
        "32%"
       ]
      },
      {
       "output_type": "stream",
       "stream": "stdout",
       "text": [
        "\r",
        "42%"
       ]
      },
      {
       "output_type": "stream",
       "stream": "stdout",
       "text": [
        "\r",
        "53%"
       ]
      },
      {
       "output_type": "stream",
       "stream": "stdout",
       "text": [
        "\r",
        "64%"
       ]
      },
      {
       "output_type": "stream",
       "stream": "stdout",
       "text": [
        "\r",
        "75%"
       ]
      },
      {
       "output_type": "stream",
       "stream": "stdout",
       "text": [
        "\r",
        "85%"
       ]
      },
      {
       "output_type": "stream",
       "stream": "stdout",
       "text": [
        "\r",
        "96%"
       ]
      },
      {
       "output_type": "stream",
       "stream": "stdout",
       "text": [
        "\r",
        "dwell=  8.6"
       ]
      },
      {
       "output_type": "stream",
       "stream": "stdout",
       "text": [
        " updating position 28 of 59: (-0.4, 0.5, t=250.1)\n",
        "0%"
       ]
      },
      {
       "output_type": "stream",
       "stream": "stdout",
       "text": [
        "\r",
        "11%"
       ]
      },
      {
       "output_type": "stream",
       "stream": "stdout",
       "text": [
        "\r",
        "23%"
       ]
      },
      {
       "output_type": "stream",
       "stream": "stdout",
       "text": [
        "\r",
        "34%"
       ]
      },
      {
       "output_type": "stream",
       "stream": "stdout",
       "text": [
        "\r",
        "46%"
       ]
      },
      {
       "output_type": "stream",
       "stream": "stdout",
       "text": [
        "\r",
        "57%"
       ]
      },
      {
       "output_type": "stream",
       "stream": "stdout",
       "text": [
        "\r",
        "69%"
       ]
      },
      {
       "output_type": "stream",
       "stream": "stdout",
       "text": [
        "\r",
        "81%"
       ]
      },
      {
       "output_type": "stream",
       "stream": "stdout",
       "text": [
        "\r",
        "92%"
       ]
      },
      {
       "output_type": "stream",
       "stream": "stdout",
       "text": [
        "\r",
        "dwell=  8.2"
       ]
      },
      {
       "output_type": "stream",
       "stream": "stdout",
       "text": [
        " updating position 29 of 59: (-0.6, 0.3, t=258.8)\n",
        "0%"
       ]
      },
      {
       "output_type": "stream",
       "stream": "stdout",
       "text": [
        "\r",
        "12%"
       ]
      },
      {
       "output_type": "stream",
       "stream": "stdout",
       "text": [
        "\r",
        "24%"
       ]
      },
      {
       "output_type": "stream",
       "stream": "stdout",
       "text": [
        "\r",
        "36%"
       ]
      },
      {
       "output_type": "stream",
       "stream": "stdout",
       "text": [
        "\r",
        "48%"
       ]
      },
      {
       "output_type": "stream",
       "stream": "stdout",
       "text": [
        "\r",
        "61%"
       ]
      },
      {
       "output_type": "stream",
       "stream": "stdout",
       "text": [
        "\r",
        "73%"
       ]
      },
      {
       "output_type": "stream",
       "stream": "stdout",
       "text": [
        "\r",
        "85%"
       ]
      },
      {
       "output_type": "stream",
       "stream": "stdout",
       "text": [
        "\r",
        "97%"
       ]
      },
      {
       "output_type": "stream",
       "stream": "stdout",
       "text": [
        "\r",
        "dwell=  8.0"
       ]
      },
      {
       "output_type": "stream",
       "stream": "stdout",
       "text": [
        " updating position 30 of 59: (-0.7, 0.1, t=267.0)\n",
        "0%"
       ]
      },
      {
       "output_type": "stream",
       "stream": "stdout",
       "text": [
        "\r",
        "12%"
       ]
      },
      {
       "output_type": "stream",
       "stream": "stdout",
       "text": [
        "\r",
        "25%"
       ]
      },
      {
       "output_type": "stream",
       "stream": "stdout",
       "text": [
        "\r",
        "37%"
       ]
      },
      {
       "output_type": "stream",
       "stream": "stdout",
       "text": [
        "\r",
        "50%"
       ]
      },
      {
       "output_type": "stream",
       "stream": "stdout",
       "text": [
        "\r",
        "62%"
       ]
      },
      {
       "output_type": "stream",
       "stream": "stdout",
       "text": [
        "\r",
        "75%"
       ]
      },
      {
       "output_type": "stream",
       "stream": "stdout",
       "text": [
        "\r",
        "88%"
       ]
      },
      {
       "output_type": "stream",
       "stream": "stdout",
       "text": [
        "\r",
        "dwell=  7.9"
       ]
      },
      {
       "output_type": "stream",
       "stream": "stdout",
       "text": [
        " updating position 31 of 59: (-0.7, -0.2, t=275.0)\n",
        "0%"
       ]
      },
      {
       "output_type": "stream",
       "stream": "stdout",
       "text": [
        "\r",
        "12%"
       ]
      },
      {
       "output_type": "stream",
       "stream": "stdout",
       "text": [
        "\r",
        "25%"
       ]
      },
      {
       "output_type": "stream",
       "stream": "stdout",
       "text": [
        "\r",
        "38%"
       ]
      },
      {
       "output_type": "stream",
       "stream": "stdout",
       "text": [
        "\r",
        "50%"
       ]
      },
      {
       "output_type": "stream",
       "stream": "stdout",
       "text": [
        "\r",
        "63%"
       ]
      },
      {
       "output_type": "stream",
       "stream": "stdout",
       "text": [
        "\r",
        "76%"
       ]
      },
      {
       "output_type": "stream",
       "stream": "stdout",
       "text": [
        "\r",
        "88%"
       ]
      },
      {
       "output_type": "stream",
       "stream": "stdout",
       "text": [
        "\r",
        "dwell=  7.9"
       ]
      },
      {
       "output_type": "stream",
       "stream": "stdout",
       "text": [
        " updating position 32 of 59: (-0.6, -0.4, t=282.9)\n",
        "0%"
       ]
      },
      {
       "output_type": "stream",
       "stream": "stdout",
       "text": [
        "\r",
        "12%"
       ]
      },
      {
       "output_type": "stream",
       "stream": "stdout",
       "text": [
        "\r",
        "25%"
       ]
      },
      {
       "output_type": "stream",
       "stream": "stdout",
       "text": [
        "\r",
        "37%"
       ]
      },
      {
       "output_type": "stream",
       "stream": "stdout",
       "text": [
        "\r",
        "50%"
       ]
      },
      {
       "output_type": "stream",
       "stream": "stdout",
       "text": [
        "\r",
        "63%"
       ]
      },
      {
       "output_type": "stream",
       "stream": "stdout",
       "text": [
        "\r",
        "75%"
       ]
      },
      {
       "output_type": "stream",
       "stream": "stdout",
       "text": [
        "\r",
        "88%"
       ]
      },
      {
       "output_type": "stream",
       "stream": "stdout",
       "text": [
        "\r",
        "dwell=  8.0"
       ]
      },
      {
       "output_type": "stream",
       "stream": "stdout",
       "text": [
        " updating position 33 of 59: (-0.4, -0.6, t=290.9)\n",
        "0%"
       ]
      },
      {
       "output_type": "stream",
       "stream": "stdout",
       "text": [
        "\r",
        "12%"
       ]
      },
      {
       "output_type": "stream",
       "stream": "stdout",
       "text": [
        "\r",
        "24%"
       ]
      },
      {
       "output_type": "stream",
       "stream": "stdout",
       "text": [
        "\r",
        "37%"
       ]
      },
      {
       "output_type": "stream",
       "stream": "stdout",
       "text": [
        "\r",
        "49%"
       ]
      },
      {
       "output_type": "stream",
       "stream": "stdout",
       "text": [
        "\r",
        "62%"
       ]
      },
      {
       "output_type": "stream",
       "stream": "stdout",
       "text": [
        "\r",
        "74%"
       ]
      },
      {
       "output_type": "stream",
       "stream": "stdout",
       "text": [
        "\r",
        "87%"
       ]
      },
      {
       "output_type": "stream",
       "stream": "stdout",
       "text": [
        "\r",
        "99%"
       ]
      },
      {
       "output_type": "stream",
       "stream": "stdout",
       "text": [
        "\r",
        "dwell=  8.2 updating position 34 of 59: (-0.2, -0.7, t=299.0)\n",
        "0%"
       ]
      },
      {
       "output_type": "stream",
       "stream": "stdout",
       "text": [
        "\r",
        "12%"
       ]
      },
      {
       "output_type": "stream",
       "stream": "stdout",
       "text": [
        "\r",
        "24%"
       ]
      },
      {
       "output_type": "stream",
       "stream": "stdout",
       "text": [
        "\r",
        "36%"
       ]
      },
      {
       "output_type": "stream",
       "stream": "stdout",
       "text": [
        "\r",
        "48%"
       ]
      },
      {
       "output_type": "stream",
       "stream": "stdout",
       "text": [
        "\r",
        "60%"
       ]
      },
      {
       "output_type": "stream",
       "stream": "stdout",
       "text": [
        "\r",
        "73%"
       ]
      },
      {
       "output_type": "stream",
       "stream": "stdout",
       "text": [
        "\r",
        "85%"
       ]
      },
      {
       "output_type": "stream",
       "stream": "stdout",
       "text": [
        "\r",
        "97%"
       ]
      },
      {
       "output_type": "stream",
       "stream": "stdout",
       "text": [
        "\r",
        "dwell=  8.4"
       ]
      },
      {
       "output_type": "stream",
       "stream": "stdout",
       "text": [
        " updating position 35 of 59: (0.1, -0.7, t=307.3)\n",
        "0%"
       ]
      },
      {
       "output_type": "stream",
       "stream": "stdout",
       "text": [
        "\r",
        "11%"
       ]
      },
      {
       "output_type": "stream",
       "stream": "stdout",
       "text": [
        "\r",
        "23%"
       ]
      },
      {
       "output_type": "stream",
       "stream": "stdout",
       "text": [
        "\r",
        "35%"
       ]
      },
      {
       "output_type": "stream",
       "stream": "stdout",
       "text": [
        "\r",
        "47%"
       ]
      },
      {
       "output_type": "stream",
       "stream": "stdout",
       "text": [
        "\r",
        "59%"
       ]
      },
      {
       "output_type": "stream",
       "stream": "stdout",
       "text": [
        "\r",
        "71%"
       ]
      },
      {
       "output_type": "stream",
       "stream": "stdout",
       "text": [
        "\r",
        "83%"
       ]
      },
      {
       "output_type": "stream",
       "stream": "stdout",
       "text": [
        "\r",
        "95%"
       ]
      },
      {
       "output_type": "stream",
       "stream": "stdout",
       "text": [
        "\r",
        "dwell=  8.6"
       ]
      },
      {
       "output_type": "stream",
       "stream": "stdout",
       "text": [
        " updating position 36 of 59: (0.3, -0.7, t=315.8)\n",
        "0%"
       ]
      },
      {
       "output_type": "stream",
       "stream": "stdout",
       "text": [
        "\r",
        "11%"
       ]
      },
      {
       "output_type": "stream",
       "stream": "stdout",
       "text": [
        "\r",
        "23%"
       ]
      },
      {
       "output_type": "stream",
       "stream": "stdout",
       "text": [
        "\r",
        "34%"
       ]
      },
      {
       "output_type": "stream",
       "stream": "stdout",
       "text": [
        "\r",
        "46%"
       ]
      },
      {
       "output_type": "stream",
       "stream": "stdout",
       "text": [
        "\r",
        "57%"
       ]
      },
      {
       "output_type": "stream",
       "stream": "stdout",
       "text": [
        "\r",
        "69%"
       ]
      },
      {
       "output_type": "stream",
       "stream": "stdout",
       "text": [
        "\r",
        "81%"
       ]
      },
      {
       "output_type": "stream",
       "stream": "stdout",
       "text": [
        "\r",
        "92%"
       ]
      },
      {
       "output_type": "stream",
       "stream": "stdout",
       "text": [
        "\r",
        "dwell=  8.9"
       ]
      },
      {
       "output_type": "stream",
       "stream": "stdout",
       "text": [
        " updating position 37 of 59: (0.5, -0.6, t=324.5)\n",
        "0%"
       ]
      },
      {
       "output_type": "stream",
       "stream": "stdout",
       "text": [
        "\r",
        "11%"
       ]
      },
      {
       "output_type": "stream",
       "stream": "stdout",
       "text": [
        "\r",
        "22%"
       ]
      },
      {
       "output_type": "stream",
       "stream": "stdout",
       "text": [
        "\r",
        "33%"
       ]
      },
      {
       "output_type": "stream",
       "stream": "stdout",
       "text": [
        "\r",
        "45%"
       ]
      },
      {
       "output_type": "stream",
       "stream": "stdout",
       "text": [
        "\r",
        "56%"
       ]
      },
      {
       "output_type": "stream",
       "stream": "stdout",
       "text": [
        "\r",
        "67%"
       ]
      },
      {
       "output_type": "stream",
       "stream": "stdout",
       "text": [
        "\r",
        "78%"
       ]
      },
      {
       "output_type": "stream",
       "stream": "stdout",
       "text": [
        "\r",
        "90%"
       ]
      },
      {
       "output_type": "stream",
       "stream": "stdout",
       "text": [
        "\r",
        "dwell=  9.1"
       ]
      },
      {
       "output_type": "stream",
       "stream": "stdout",
       "text": [
        " updating position 38 of 59: (0.7, -0.4, t=333.4)\n",
        "0%"
       ]
      },
      {
       "output_type": "stream",
       "stream": "stdout",
       "text": [
        "\r",
        "10%"
       ]
      },
      {
       "output_type": "stream",
       "stream": "stdout",
       "text": [
        "\r",
        "21%"
       ]
      },
      {
       "output_type": "stream",
       "stream": "stdout",
       "text": [
        "\r",
        "32%"
       ]
      },
      {
       "output_type": "stream",
       "stream": "stdout",
       "text": [
        "\r",
        "43%"
       ]
      },
      {
       "output_type": "stream",
       "stream": "stdout",
       "text": [
        "\r",
        "54%"
       ]
      },
      {
       "output_type": "stream",
       "stream": "stdout",
       "text": [
        "\r",
        "65%"
       ]
      },
      {
       "output_type": "stream",
       "stream": "stdout",
       "text": [
        "\r",
        "76%"
       ]
      },
      {
       "output_type": "stream",
       "stream": "stdout",
       "text": [
        "\r",
        "87%"
       ]
      },
      {
       "output_type": "stream",
       "stream": "stdout",
       "text": [
        "\r",
        "98%"
       ]
      },
      {
       "output_type": "stream",
       "stream": "stdout",
       "text": [
        "\r",
        "dwell=  9.3 updating position 39 of 59: (0.8, -0.1, t=342.5)\n",
        "0%"
       ]
      },
      {
       "output_type": "stream",
       "stream": "stdout",
       "text": [
        "\r",
        "10%"
       ]
      },
      {
       "output_type": "stream",
       "stream": "stdout",
       "text": [
        "\r",
        "21%"
       ]
      },
      {
       "output_type": "stream",
       "stream": "stdout",
       "text": [
        "\r",
        "32%"
       ]
      },
      {
       "output_type": "stream",
       "stream": "stdout",
       "text": [
        "\r",
        "43%"
       ]
      },
      {
       "output_type": "stream",
       "stream": "stdout",
       "text": [
        "\r",
        "53%"
       ]
      },
      {
       "output_type": "stream",
       "stream": "stdout",
       "text": [
        "\r",
        "64%"
       ]
      },
      {
       "output_type": "stream",
       "stream": "stdout",
       "text": [
        "\r",
        "75%"
       ]
      },
      {
       "output_type": "stream",
       "stream": "stdout",
       "text": [
        "\r",
        "86%"
       ]
      },
      {
       "output_type": "stream",
       "stream": "stdout",
       "text": [
        "\r",
        "96%"
       ]
      },
      {
       "output_type": "stream",
       "stream": "stdout",
       "text": [
        "\r",
        "dwell=  9.5"
       ]
      },
      {
       "output_type": "stream",
       "stream": "stdout",
       "text": [
        " updating position 40 of 59: (0.8, 0.2, t=351.8)\n",
        "0%"
       ]
      },
      {
       "output_type": "stream",
       "stream": "stdout",
       "text": [
        "\r",
        "10%"
       ]
      },
      {
       "output_type": "stream",
       "stream": "stdout",
       "text": [
        "\r",
        "21%"
       ]
      },
      {
       "output_type": "stream",
       "stream": "stdout",
       "text": [
        "\r",
        "31%"
       ]
      },
      {
       "output_type": "stream",
       "stream": "stdout",
       "text": [
        "\r",
        "42%"
       ]
      },
      {
       "output_type": "stream",
       "stream": "stdout",
       "text": [
        "\r",
        "52%"
       ]
      },
      {
       "output_type": "stream",
       "stream": "stdout",
       "text": [
        "\r",
        "63%"
       ]
      },
      {
       "output_type": "stream",
       "stream": "stdout",
       "text": [
        "\r",
        "73%"
       ]
      },
      {
       "output_type": "stream",
       "stream": "stdout",
       "text": [
        "\r",
        "84%"
       ]
      },
      {
       "output_type": "stream",
       "stream": "stdout",
       "text": [
        "\r",
        "94%"
       ]
      },
      {
       "output_type": "stream",
       "stream": "stdout",
       "text": [
        "\r",
        "dwell=  9.6"
       ]
      },
      {
       "output_type": "stream",
       "stream": "stdout",
       "text": [
        " updating position 41 of 59: (0.7, 0.4, t=361.3)\n",
        "0%"
       ]
      },
      {
       "output_type": "stream",
       "stream": "stdout",
       "text": [
        "\r",
        "10%"
       ]
      },
      {
       "output_type": "stream",
       "stream": "stdout",
       "text": [
        "\r",
        "20%"
       ]
      },
      {
       "output_type": "stream",
       "stream": "stdout",
       "text": [
        "\r",
        "31%"
       ]
      },
      {
       "output_type": "stream",
       "stream": "stdout",
       "text": [
        "\r",
        "41%"
       ]
      },
      {
       "output_type": "stream",
       "stream": "stdout",
       "text": [
        "\r",
        "52%"
       ]
      },
      {
       "output_type": "stream",
       "stream": "stdout",
       "text": [
        "\r",
        "62%"
       ]
      },
      {
       "output_type": "stream",
       "stream": "stdout",
       "text": [
        "\r",
        "73%"
       ]
      },
      {
       "output_type": "stream",
       "stream": "stdout",
       "text": [
        "\r",
        "83%"
       ]
      },
      {
       "output_type": "stream",
       "stream": "stdout",
       "text": [
        "\r",
        "93%"
       ]
      },
      {
       "output_type": "stream",
       "stream": "stdout",
       "text": [
        "\r",
        "dwell=  9.6"
       ]
      },
      {
       "output_type": "stream",
       "stream": "stdout",
       "text": [
        " updating position 42 of 59: (0.6, 0.6, t=370.9)\n",
        "0%"
       ]
      },
      {
       "output_type": "stream",
       "stream": "stdout",
       "text": [
        "\r",
        "10%"
       ]
      },
      {
       "output_type": "stream",
       "stream": "stdout",
       "text": [
        "\r",
        "20%"
       ]
      },
      {
       "output_type": "stream",
       "stream": "stdout",
       "text": [
        "\r",
        "31%"
       ]
      },
      {
       "output_type": "stream",
       "stream": "stdout",
       "text": [
        "\r",
        "41%"
       ]
      },
      {
       "output_type": "stream",
       "stream": "stdout",
       "text": [
        "\r",
        "51%"
       ]
      },
      {
       "output_type": "stream",
       "stream": "stdout",
       "text": [
        "\r",
        "62%"
       ]
      },
      {
       "output_type": "stream",
       "stream": "stdout",
       "text": [
        "\r",
        "72%"
       ]
      },
      {
       "output_type": "stream",
       "stream": "stdout",
       "text": [
        "\r",
        "83%"
       ]
      },
      {
       "output_type": "stream",
       "stream": "stdout",
       "text": [
        "\r",
        "93%"
       ]
      },
      {
       "output_type": "stream",
       "stream": "stdout",
       "text": [
        "\r",
        "dwell=  9.6"
       ]
      },
      {
       "output_type": "stream",
       "stream": "stdout",
       "text": [
        " updating position 43 of 59: (0.3, 0.8, t=380.6)\n",
        "0%"
       ]
      },
      {
       "output_type": "stream",
       "stream": "stdout",
       "text": [
        "\r",
        "10%"
       ]
      },
      {
       "output_type": "stream",
       "stream": "stdout",
       "text": [
        "\r",
        "20%"
       ]
      },
      {
       "output_type": "stream",
       "stream": "stdout",
       "text": [
        "\r",
        "31%"
       ]
      },
      {
       "output_type": "stream",
       "stream": "stdout",
       "text": [
        "\r",
        "41%"
       ]
      },
      {
       "output_type": "stream",
       "stream": "stdout",
       "text": [
        "\r",
        "52%"
       ]
      },
      {
       "output_type": "stream",
       "stream": "stdout",
       "text": [
        "\r",
        "62%"
       ]
      },
      {
       "output_type": "stream",
       "stream": "stdout",
       "text": [
        "\r",
        "73%"
       ]
      },
      {
       "output_type": "stream",
       "stream": "stdout",
       "text": [
        "\r",
        "83%"
       ]
      },
      {
       "output_type": "stream",
       "stream": "stdout",
       "text": [
        "\r",
        "94%"
       ]
      },
      {
       "output_type": "stream",
       "stream": "stdout",
       "text": [
        "\r",
        "dwell=  9.4"
       ]
      },
      {
       "output_type": "stream",
       "stream": "stdout",
       "text": [
        " updating position 44 of 59: (0.1, 0.8, t=390.2)\n",
        "0%"
       ]
      },
      {
       "output_type": "stream",
       "stream": "stdout",
       "text": [
        "\r",
        "10%"
       ]
      },
      {
       "output_type": "stream",
       "stream": "stdout",
       "text": [
        "\r",
        "21%"
       ]
      },
      {
       "output_type": "stream",
       "stream": "stdout",
       "text": [
        "\r",
        "31%"
       ]
      },
      {
       "output_type": "stream",
       "stream": "stdout",
       "text": [
        "\r",
        "42%"
       ]
      },
      {
       "output_type": "stream",
       "stream": "stdout",
       "text": [
        "\r",
        "53%"
       ]
      },
      {
       "output_type": "stream",
       "stream": "stdout",
       "text": [
        "\r",
        "63%"
       ]
      },
      {
       "output_type": "stream",
       "stream": "stdout",
       "text": [
        "\r",
        "74%"
       ]
      },
      {
       "output_type": "stream",
       "stream": "stdout",
       "text": [
        "\r",
        "85%"
       ]
      },
      {
       "output_type": "stream",
       "stream": "stdout",
       "text": [
        "\r",
        "95%"
       ]
      },
      {
       "output_type": "stream",
       "stream": "stdout",
       "text": [
        "\r",
        "dwell=  9.2"
       ]
      },
      {
       "output_type": "stream",
       "stream": "stdout",
       "text": [
        " updating position 45 of 59: (-0.2, 0.8, t=399.7)\n",
        "0%"
       ]
      },
      {
       "output_type": "stream",
       "stream": "stdout",
       "text": [
        "\r",
        "10%"
       ]
      },
      {
       "output_type": "stream",
       "stream": "stdout",
       "text": [
        "\r",
        "21%"
       ]
      },
      {
       "output_type": "stream",
       "stream": "stdout",
       "text": [
        "\r",
        "32%"
       ]
      },
      {
       "output_type": "stream",
       "stream": "stdout",
       "text": [
        "\r",
        "43%"
       ]
      },
      {
       "output_type": "stream",
       "stream": "stdout",
       "text": [
        "\r",
        "54%"
       ]
      },
      {
       "output_type": "stream",
       "stream": "stdout",
       "text": [
        "\r",
        "65%"
       ]
      },
      {
       "output_type": "stream",
       "stream": "stdout",
       "text": [
        "\r",
        "76%"
       ]
      },
      {
       "output_type": "stream",
       "stream": "stdout",
       "text": [
        "\r",
        "87%"
       ]
      },
      {
       "output_type": "stream",
       "stream": "stdout",
       "text": [
        "\r",
        "98%"
       ]
      },
      {
       "output_type": "stream",
       "stream": "stdout",
       "text": [
        "\r",
        "dwell=  8.9"
       ]
      },
      {
       "output_type": "stream",
       "stream": "stdout",
       "text": [
        " updating position 46 of 59: (-0.4, 0.8, t=408.9)\n",
        "0%"
       ]
      },
      {
       "output_type": "stream",
       "stream": "stdout",
       "text": [
        "\r",
        "11%"
       ]
      },
      {
       "output_type": "stream",
       "stream": "stdout",
       "text": [
        "\r",
        "22%"
       ]
      },
      {
       "output_type": "stream",
       "stream": "stdout",
       "text": [
        "\r",
        "33%"
       ]
      },
      {
       "output_type": "stream",
       "stream": "stdout",
       "text": [
        "\r",
        "45%"
       ]
      },
      {
       "output_type": "stream",
       "stream": "stdout",
       "text": [
        "\r",
        "56%"
       ]
      },
      {
       "output_type": "stream",
       "stream": "stdout",
       "text": [
        "\r",
        "67%"
       ]
      },
      {
       "output_type": "stream",
       "stream": "stdout",
       "text": [
        "\r",
        "78%"
       ]
      },
      {
       "output_type": "stream",
       "stream": "stdout",
       "text": [
        "\r",
        "90%"
       ]
      },
      {
       "output_type": "stream",
       "stream": "stdout",
       "text": [
        "\r",
        "dwell=  8.6"
       ]
      },
      {
       "output_type": "stream",
       "stream": "stdout",
       "text": [
        " updating position 47 of 59: (-0.6, 0.6, t=417.8)\n",
        "0%"
       ]
      },
      {
       "output_type": "stream",
       "stream": "stdout",
       "text": [
        "\r",
        "11%"
       ]
      },
      {
       "output_type": "stream",
       "stream": "stdout",
       "text": [
        "\r",
        "23%"
       ]
      },
      {
       "output_type": "stream",
       "stream": "stdout",
       "text": [
        "\r",
        "34%"
       ]
      },
      {
       "output_type": "stream",
       "stream": "stdout",
       "text": [
        "\r",
        "46%"
       ]
      },
      {
       "output_type": "stream",
       "stream": "stdout",
       "text": [
        "\r",
        "58%"
       ]
      },
      {
       "output_type": "stream",
       "stream": "stdout",
       "text": [
        "\r",
        "69%"
       ]
      },
      {
       "output_type": "stream",
       "stream": "stdout",
       "text": [
        "\r",
        "81%"
       ]
      },
      {
       "output_type": "stream",
       "stream": "stdout",
       "text": [
        "\r",
        "93%"
       ]
      },
      {
       "output_type": "stream",
       "stream": "stdout",
       "text": [
        "\r",
        "dwell=  8.3"
       ]
      },
      {
       "output_type": "stream",
       "stream": "stdout",
       "text": [
        " updating position 48 of 59: (-0.8, 0.4, t=426.4)\n",
        "0%"
       ]
      },
      {
       "output_type": "stream",
       "stream": "stdout",
       "text": [
        "\r",
        "12%"
       ]
      },
      {
       "output_type": "stream",
       "stream": "stdout",
       "text": [
        "\r",
        "24%"
       ]
      },
      {
       "output_type": "stream",
       "stream": "stdout",
       "text": [
        "\r",
        "36%"
       ]
      },
      {
       "output_type": "stream",
       "stream": "stdout",
       "text": [
        "\r",
        "48%"
       ]
      },
      {
       "output_type": "stream",
       "stream": "stdout",
       "text": [
        "\r",
        "60%"
       ]
      },
      {
       "output_type": "stream",
       "stream": "stdout",
       "text": [
        "\r",
        "72%"
       ]
      },
      {
       "output_type": "stream",
       "stream": "stdout",
       "text": [
        "\r",
        "84%"
       ]
      },
      {
       "output_type": "stream",
       "stream": "stdout",
       "text": [
        "\r",
        "96%"
       ]
      },
      {
       "output_type": "stream",
       "stream": "stdout",
       "text": [
        "\r",
        "dwell=  8.1"
       ]
      },
      {
       "output_type": "stream",
       "stream": "stdout",
       "text": [
        " updating position 49 of 59: (-0.9, 0.2, t=434.8)\n",
        "0%"
       ]
      },
      {
       "output_type": "stream",
       "stream": "stdout",
       "text": [
        "\r",
        "12%"
       ]
      },
      {
       "output_type": "stream",
       "stream": "stdout",
       "text": [
        "\r",
        "24%"
       ]
      },
      {
       "output_type": "stream",
       "stream": "stdout",
       "text": [
        "\r",
        "36%"
       ]
      },
      {
       "output_type": "stream",
       "stream": "stdout",
       "text": [
        "\r",
        "49%"
       ]
      },
      {
       "output_type": "stream",
       "stream": "stdout",
       "text": [
        "\r",
        "61%"
       ]
      },
      {
       "output_type": "stream",
       "stream": "stdout",
       "text": [
        "\r",
        "73%"
       ]
      },
      {
       "output_type": "stream",
       "stream": "stdout",
       "text": [
        "\r",
        "85%"
       ]
      },
      {
       "output_type": "stream",
       "stream": "stdout",
       "text": [
        "\r",
        "98%"
       ]
      },
      {
       "output_type": "stream",
       "stream": "stdout",
       "text": [
        "\r",
        "dwell=  8.0"
       ]
      },
      {
       "output_type": "stream",
       "stream": "stdout",
       "text": [
        " updating position 50 of 59: (-0.9, -0.1, t=443.0)\n",
        "0%"
       ]
      },
      {
       "output_type": "stream",
       "stream": "stdout",
       "text": [
        "\r",
        "12%"
       ]
      },
      {
       "output_type": "stream",
       "stream": "stdout",
       "text": [
        "\r",
        "25%"
       ]
      },
      {
       "output_type": "stream",
       "stream": "stdout",
       "text": [
        "\r",
        "37%"
       ]
      },
      {
       "output_type": "stream",
       "stream": "stdout",
       "text": [
        "\r",
        "50%"
       ]
      },
      {
       "output_type": "stream",
       "stream": "stdout",
       "text": [
        "\r",
        "62%"
       ]
      },
      {
       "output_type": "stream",
       "stream": "stdout",
       "text": [
        "\r",
        "75%"
       ]
      },
      {
       "output_type": "stream",
       "stream": "stdout",
       "text": [
        "\r",
        "87%"
       ]
      },
      {
       "output_type": "stream",
       "stream": "stdout",
       "text": [
        "\r",
        "dwell=  7.9"
       ]
      },
      {
       "output_type": "stream",
       "stream": "stdout",
       "text": [
        " updating position 51 of 59: (-0.8, -0.4, t=451.0)\n",
        "0%"
       ]
      },
      {
       "output_type": "stream",
       "stream": "stdout",
       "text": [
        "\r",
        "12%"
       ]
      },
      {
       "output_type": "stream",
       "stream": "stdout",
       "text": [
        "\r",
        "25%"
       ]
      },
      {
       "output_type": "stream",
       "stream": "stdout",
       "text": [
        "\r",
        "37%"
       ]
      },
      {
       "output_type": "stream",
       "stream": "stdout",
       "text": [
        "\r",
        "50%"
       ]
      },
      {
       "output_type": "stream",
       "stream": "stdout",
       "text": [
        "\r",
        "63%"
       ]
      },
      {
       "output_type": "stream",
       "stream": "stdout",
       "text": [
        "\r",
        "75%"
       ]
      },
      {
       "output_type": "stream",
       "stream": "stdout",
       "text": [
        "\r",
        "88%"
       ]
      },
      {
       "output_type": "stream",
       "stream": "stdout",
       "text": [
        "\r",
        "dwell=  7.8"
       ]
      },
      {
       "output_type": "stream",
       "stream": "stdout",
       "text": [
        " updating position 52 of 59: (-0.7, -0.6, t=458.9)\n",
        "0%"
       ]
      },
      {
       "output_type": "stream",
       "stream": "stdout",
       "text": [
        "\r",
        "12%"
       ]
      },
      {
       "output_type": "stream",
       "stream": "stdout",
       "text": [
        "\r",
        "25%"
       ]
      },
      {
       "output_type": "stream",
       "stream": "stdout",
       "text": [
        "\r",
        "38%"
       ]
      },
      {
       "output_type": "stream",
       "stream": "stdout",
       "text": [
        "\r",
        "50%"
       ]
      },
      {
       "output_type": "stream",
       "stream": "stdout",
       "text": [
        "\r",
        "63%"
       ]
      },
      {
       "output_type": "stream",
       "stream": "stdout",
       "text": [
        "\r",
        "76%"
       ]
      },
      {
       "output_type": "stream",
       "stream": "stdout",
       "text": [
        "\r",
        "89%"
       ]
      },
      {
       "output_type": "stream",
       "stream": "stdout",
       "text": [
        "\r",
        "dwell=  7.8"
       ]
      },
      {
       "output_type": "stream",
       "stream": "stdout",
       "text": [
        " updating position 53 of 59: (-0.5, -0.8, t=466.8)\n",
        "0%"
       ]
      },
      {
       "output_type": "stream",
       "stream": "stdout",
       "text": [
        "\r",
        "12%"
       ]
      },
      {
       "output_type": "stream",
       "stream": "stdout",
       "text": [
        "\r",
        "25%"
       ]
      },
      {
       "output_type": "stream",
       "stream": "stdout",
       "text": [
        "\r",
        "38%"
       ]
      },
      {
       "output_type": "stream",
       "stream": "stdout",
       "text": [
        "\r",
        "51%"
       ]
      },
      {
       "output_type": "stream",
       "stream": "stdout",
       "text": [
        "\r",
        "64%"
       ]
      },
      {
       "output_type": "stream",
       "stream": "stdout",
       "text": [
        "\r",
        "76%"
       ]
      },
      {
       "output_type": "stream",
       "stream": "stdout",
       "text": [
        "\r",
        "89%"
       ]
      },
      {
       "output_type": "stream",
       "stream": "stdout",
       "text": [
        "\r",
        "dwell=  7.8"
       ]
      },
      {
       "output_type": "stream",
       "stream": "stdout",
       "text": [
        " updating position 54 of 59: (-0.3, -0.9, t=474.7)\n",
        "0%"
       ]
      },
      {
       "output_type": "stream",
       "stream": "stdout",
       "text": [
        "\r",
        "12%"
       ]
      },
      {
       "output_type": "stream",
       "stream": "stdout",
       "text": [
        "\r",
        "25%"
       ]
      },
      {
       "output_type": "stream",
       "stream": "stdout",
       "text": [
        "\r",
        "38%"
       ]
      },
      {
       "output_type": "stream",
       "stream": "stdout",
       "text": [
        "\r",
        "51%"
       ]
      },
      {
       "output_type": "stream",
       "stream": "stdout",
       "text": [
        "\r",
        "63%"
       ]
      },
      {
       "output_type": "stream",
       "stream": "stdout",
       "text": [
        "\r",
        "76%"
       ]
      },
      {
       "output_type": "stream",
       "stream": "stdout",
       "text": [
        "\r",
        "89%"
       ]
      },
      {
       "output_type": "stream",
       "stream": "stdout",
       "text": [
        "\r",
        "dwell=  7.9"
       ]
      },
      {
       "output_type": "stream",
       "stream": "stdout",
       "text": [
        " updating position 55 of 59: (-0.0, -0.9, t=482.6)\n",
        "0%"
       ]
      },
      {
       "output_type": "stream",
       "stream": "stdout",
       "text": [
        "\r",
        "12%"
       ]
      },
      {
       "output_type": "stream",
       "stream": "stdout",
       "text": [
        "\r",
        "25%"
       ]
      },
      {
       "output_type": "stream",
       "stream": "stdout",
       "text": [
        "\r",
        "38%"
       ]
      },
      {
       "output_type": "stream",
       "stream": "stdout",
       "text": [
        "\r",
        "50%"
       ]
      },
      {
       "output_type": "stream",
       "stream": "stdout",
       "text": [
        "\r",
        "63%"
       ]
      },
      {
       "output_type": "stream",
       "stream": "stdout",
       "text": [
        "\r",
        "76%"
       ]
      },
      {
       "output_type": "stream",
       "stream": "stdout",
       "text": [
        "\r",
        "88%"
       ]
      },
      {
       "output_type": "stream",
       "stream": "stdout",
       "text": [
        "\r",
        "dwell=  7.9"
       ]
      },
      {
       "output_type": "stream",
       "stream": "stdout",
       "text": [
        " updating position 56 of 59: (0.2, -0.9, t=490.5)\n",
        "0%"
       ]
      },
      {
       "output_type": "stream",
       "stream": "stdout",
       "text": [
        "\r",
        "12%"
       ]
      },
      {
       "output_type": "stream",
       "stream": "stdout",
       "text": [
        "\r",
        "25%"
       ]
      },
      {
       "output_type": "stream",
       "stream": "stdout",
       "text": [
        "\r",
        "37%"
       ]
      },
      {
       "output_type": "stream",
       "stream": "stdout",
       "text": [
        "\r",
        "50%"
       ]
      },
      {
       "output_type": "stream",
       "stream": "stdout",
       "text": [
        "\r",
        "63%"
       ]
      },
      {
       "output_type": "stream",
       "stream": "stdout",
       "text": [
        "\r",
        "75%"
       ]
      },
      {
       "output_type": "stream",
       "stream": "stdout",
       "text": [
        "\r",
        "88%"
       ]
      },
      {
       "output_type": "stream",
       "stream": "stdout",
       "text": [
        "\r",
        "dwell=  8.0"
       ]
      },
      {
       "output_type": "stream",
       "stream": "stdout",
       "text": [
        " updating position 57 of 59: (0.5, -0.8, t=498.5)\n",
        "0%"
       ]
      },
      {
       "output_type": "stream",
       "stream": "stdout",
       "text": [
        "\r",
        "12%"
       ]
      },
      {
       "output_type": "stream",
       "stream": "stdout",
       "text": [
        "\r",
        "24%"
       ]
      },
      {
       "output_type": "stream",
       "stream": "stdout",
       "text": [
        "\r",
        "37%"
       ]
      },
      {
       "output_type": "stream",
       "stream": "stdout",
       "text": [
        "\r",
        "49%"
       ]
      },
      {
       "output_type": "stream",
       "stream": "stdout",
       "text": [
        "\r",
        "62%"
       ]
      },
      {
       "output_type": "stream",
       "stream": "stdout",
       "text": [
        "\r",
        "74%"
       ]
      },
      {
       "output_type": "stream",
       "stream": "stdout",
       "text": [
        "\r",
        "87%"
       ]
      },
      {
       "output_type": "stream",
       "stream": "stdout",
       "text": [
        "\r",
        "99%"
       ]
      },
      {
       "output_type": "stream",
       "stream": "stdout",
       "text": [
        "\r",
        "dwell=  8.1 updating position 58 of 59: (0.7, -0.7, t=506.6)\n",
        "0%"
       ]
      },
      {
       "output_type": "stream",
       "stream": "stdout",
       "text": [
        "\r",
        "12%"
       ]
      },
      {
       "output_type": "stream",
       "stream": "stdout",
       "text": [
        "\r",
        "24%"
       ]
      },
      {
       "output_type": "stream",
       "stream": "stdout",
       "text": [
        "\r",
        "37%"
       ]
      },
      {
       "output_type": "stream",
       "stream": "stdout",
       "text": [
        "\r",
        "49%"
       ]
      },
      {
       "output_type": "stream",
       "stream": "stdout",
       "text": [
        "\r",
        "61%"
       ]
      },
      {
       "output_type": "stream",
       "stream": "stdout",
       "text": [
        "\r",
        "74%"
       ]
      },
      {
       "output_type": "stream",
       "stream": "stdout",
       "text": [
        "\r",
        "86%"
       ]
      },
      {
       "output_type": "stream",
       "stream": "stdout",
       "text": [
        "\r",
        "98%"
       ]
      },
      {
       "output_type": "stream",
       "stream": "stdout",
       "text": [
        "\r",
        "dwell=  8.2"
       ]
      },
      {
       "output_type": "stream",
       "stream": "stdout",
       "text": [
        " updating position 59 of 59: (0.8, -0.5, t=514.8)\n",
        "0%"
       ]
      },
      {
       "output_type": "stream",
       "stream": "stdout",
       "text": [
        "\r",
        "12%"
       ]
      },
      {
       "output_type": "stream",
       "stream": "stdout",
       "text": [
        "\r",
        "24%"
       ]
      },
      {
       "output_type": "stream",
       "stream": "stdout",
       "text": [
        "\r",
        "36%"
       ]
      },
      {
       "output_type": "stream",
       "stream": "stdout",
       "text": [
        "\r",
        "48%"
       ]
      },
      {
       "output_type": "stream",
       "stream": "stdout",
       "text": [
        "\r",
        "61%"
       ]
      },
      {
       "output_type": "stream",
       "stream": "stdout",
       "text": [
        "\r",
        "73%"
       ]
      },
      {
       "output_type": "stream",
       "stream": "stdout",
       "text": [
        "\r",
        "85%"
       ]
      },
      {
       "output_type": "stream",
       "stream": "stdout",
       "text": [
        "\r",
        "97%"
       ]
      },
      {
       "output_type": "stream",
       "stream": "stdout",
       "text": [
        "\r",
        "pass # "
       ]
      },
      {
       "output_type": "stream",
       "stream": "stdout",
       "text": [
        " 2\n",
        "dwell=  8.3"
       ]
      },
      {
       "output_type": "stream",
       "stream": "stdout",
       "text": [
        " updating position 1 of 59: (0.0, 0.0, t= 8.2)\n",
        "0%"
       ]
      },
      {
       "output_type": "stream",
       "stream": "stdout",
       "text": [
        "\r",
        "12%"
       ]
      },
      {
       "output_type": "stream",
       "stream": "stdout",
       "text": [
        "\r",
        "24%"
       ]
      },
      {
       "output_type": "stream",
       "stream": "stdout",
       "text": [
        "\r",
        "36%"
       ]
      },
      {
       "output_type": "stream",
       "stream": "stdout",
       "text": [
        "\r",
        "48%"
       ]
      },
      {
       "output_type": "stream",
       "stream": "stdout",
       "text": [
        "\r",
        "60%"
       ]
      },
      {
       "output_type": "stream",
       "stream": "stdout",
       "text": [
        "\r",
        "72%"
       ]
      },
      {
       "output_type": "stream",
       "stream": "stdout",
       "text": [
        "\r",
        "84%"
       ]
      },
      {
       "output_type": "stream",
       "stream": "stdout",
       "text": [
        "\r",
        "96%"
       ]
      },
      {
       "output_type": "stream",
       "stream": "stdout",
       "text": [
        "\r",
        "dwell=  2.4"
       ]
      },
      {
       "output_type": "stream",
       "stream": "stdout",
       "text": [
        " updating position 2 of 59: (0.1, -0.2, t=16.5)\n",
        "0%"
       ]
      },
      {
       "output_type": "stream",
       "stream": "stdout",
       "text": [
        "\r",
        "41%"
       ]
      },
      {
       "output_type": "stream",
       "stream": "stdout",
       "text": [
        "\r",
        "82%"
       ]
      },
      {
       "output_type": "stream",
       "stream": "stdout",
       "text": [
        "\r",
        "dwell=  2.4"
       ]
      },
      {
       "output_type": "stream",
       "stream": "stdout",
       "text": [
        " updating position 3 of 59: (0.2, -0.0, t=19.0)\n",
        "0%"
       ]
      },
      {
       "output_type": "stream",
       "stream": "stdout",
       "text": [
        "\r",
        "40%"
       ]
      },
      {
       "output_type": "stream",
       "stream": "stdout",
       "text": [
        "\r",
        "81%"
       ]
      },
      {
       "output_type": "stream",
       "stream": "stdout",
       "text": [
        "\r",
        "dwell=  1.3"
       ]
      },
      {
       "output_type": "stream",
       "stream": "stdout",
       "text": [
        " updating position 4 of 59: (0.1, 0.2, t=21.5)\n",
        "0%"
       ]
      },
      {
       "output_type": "stream",
       "stream": "stdout",
       "text": [
        "\r",
        "74%"
       ]
      },
      {
       "output_type": "stream",
       "stream": "stdout",
       "text": [
        "\r",
        "dwell=  0.9"
       ]
      },
      {
       "output_type": "stream",
       "stream": "stdout",
       "text": [
        " updating position 5 of 59: (-0.1, 0.2, t=22.9)\n",
        "0%"
       ]
      },
      {
       "output_type": "stream",
       "stream": "stdout",
       "text": [
        "\r",
        "dwell=  0.4"
       ]
      },
      {
       "output_type": "stream",
       "stream": "stdout",
       "text": [
        " updating position 6 of 59: (-0.3, 0.0, t=23.8)\n",
        "0%"
       ]
      },
      {
       "output_type": "stream",
       "stream": "stdout",
       "text": [
        "\r",
        "dwell=  0.4"
       ]
      },
      {
       "output_type": "stream",
       "stream": "stdout",
       "text": [
        " updating position 7 of 59: (-0.2, -0.2, t=24.2)\n",
        "0%"
       ]
      },
      {
       "output_type": "stream",
       "stream": "stdout",
       "text": [
        "\r",
        "dwell=  0.5"
       ]
      },
      {
       "output_type": "stream",
       "stream": "stdout",
       "text": [
        " updating position 8 of 59: (-0.0, -0.3, t=24.6)\n",
        "0%"
       ]
      },
      {
       "output_type": "stream",
       "stream": "stdout",
       "text": [
        "\r",
        "dwell=  0.6"
       ]
      },
      {
       "output_type": "stream",
       "stream": "stdout",
       "text": [
        " updating position 9 of 59: (0.2, -0.3, t=25.1)\n",
        "0%"
       ]
      },
      {
       "output_type": "stream",
       "stream": "stdout",
       "text": [
        "\r",
        "dwell=  0.7"
       ]
      },
      {
       "output_type": "stream",
       "stream": "stdout",
       "text": [
        " updating position 10 of 59: (0.4, -0.1, t=25.7)\n",
        "0%"
       ]
      },
      {
       "output_type": "stream",
       "stream": "stdout",
       "text": [
        "\r",
        "dwell=  0.8"
       ]
      },
      {
       "output_type": "stream",
       "stream": "stdout",
       "text": [
        " updating position 11 of 59: (0.4, 0.2, t=26.5)\n",
        "0%"
       ]
      },
      {
       "output_type": "stream",
       "stream": "stdout",
       "text": [
        "\r",
        "dwell=  1.0"
       ]
      },
      {
       "output_type": "stream",
       "stream": "stdout",
       "text": [
        " updating position 12 of 59: (0.2, 0.4, t=27.4)\n",
        "0%"
       ]
      },
      {
       "output_type": "stream",
       "stream": "stdout",
       "text": [
        "\r",
        "dwell=  0.9"
       ]
      },
      {
       "output_type": "stream",
       "stream": "stdout",
       "text": [
        " updating position 13 of 59: (-0.0, 0.5, t=28.4)\n",
        "0%"
       ]
      },
      {
       "output_type": "stream",
       "stream": "stdout",
       "text": [
        "\r",
        "dwell=  0.8"
       ]
      },
      {
       "output_type": "stream",
       "stream": "stdout",
       "text": [
        " updating position 14 of 59: (-0.3, 0.4, t=29.4)\n",
        "0%"
       ]
      },
      {
       "output_type": "stream",
       "stream": "stdout",
       "text": [
        "\r",
        "dwell=  0.8"
       ]
      },
      {
       "output_type": "stream",
       "stream": "stdout",
       "text": [
        " updating position 15 of 59: (-0.4, 0.2, t=30.2)\n",
        "0%"
       ]
      },
      {
       "output_type": "stream",
       "stream": "stdout",
       "text": [
        "\r",
        "dwell=  0.9"
       ]
      },
      {
       "output_type": "stream",
       "stream": "stdout",
       "text": [
        " updating position 16 of 59: (-0.5, -0.1, t=31.1)\n",
        "0%"
       ]
      },
      {
       "output_type": "stream",
       "stream": "stdout",
       "text": [
        "\r",
        "dwell=  1.0"
       ]
      },
      {
       "output_type": "stream",
       "stream": "stdout",
       "text": [
        " updating position 17 of 59: (-0.4, -0.3, t=32.0)\n",
        "0%"
       ]
      },
      {
       "output_type": "stream",
       "stream": "stdout",
       "text": [
        "\r",
        "98%"
       ]
      },
      {
       "output_type": "stream",
       "stream": "stdout",
       "text": [
        "\r",
        "dwell=  1.1"
       ]
      },
      {
       "output_type": "stream",
       "stream": "stdout",
       "text": [
        " updating position 18 of 59: (-0.2, -0.5, t=33.1)\n",
        "0%"
       ]
      },
      {
       "output_type": "stream",
       "stream": "stdout",
       "text": [
        "\r",
        "87%"
       ]
      },
      {
       "output_type": "stream",
       "stream": "stdout",
       "text": [
        "\r",
        "dwell=  1.3"
       ]
      },
      {
       "output_type": "stream",
       "stream": "stdout",
       "text": [
        " updating position 19 of 59: (0.0, -0.6, t=34.3)\n",
        "0%"
       ]
      },
      {
       "output_type": "stream",
       "stream": "stdout",
       "text": [
        "\r",
        "77%"
       ]
      },
      {
       "output_type": "stream",
       "stream": "stdout",
       "text": [
        "\r",
        "dwell=  1.4"
       ]
      },
      {
       "output_type": "stream",
       "stream": "stdout",
       "text": [
        " updating position 20 of 59: (0.3, -0.5, t=35.6)\n",
        "0%"
       ]
      },
      {
       "output_type": "stream",
       "stream": "stdout",
       "text": [
        "\r",
        "69%"
       ]
      },
      {
       "output_type": "stream",
       "stream": "stdout",
       "text": [
        "\r",
        "dwell=  1.6"
       ]
      },
      {
       "output_type": "stream",
       "stream": "stdout",
       "text": [
        " updating position 21 of 59: (0.5, -0.3, t=37.1)\n",
        "0%"
       ]
      },
      {
       "output_type": "stream",
       "stream": "stdout",
       "text": [
        "\r",
        "61%"
       ]
      },
      {
       "output_type": "stream",
       "stream": "stdout",
       "text": [
        "\r",
        "dwell=  1.8"
       ]
      },
      {
       "output_type": "stream",
       "stream": "stdout",
       "text": [
        " updating position 22 of 59: (0.6, -0.1, t=38.8)\n",
        "0%"
       ]
      },
      {
       "output_type": "stream",
       "stream": "stdout",
       "text": [
        "\r",
        "54%"
       ]
      },
      {
       "output_type": "stream",
       "stream": "stdout",
       "text": [
        "\r",
        "dwell=  2.0"
       ]
      },
      {
       "output_type": "stream",
       "stream": "stdout",
       "text": [
        " updating position 23 of 59: (0.6, 0.2, t=40.7)\n",
        "0%"
       ]
      },
      {
       "output_type": "stream",
       "stream": "stdout",
       "text": [
        "\r",
        "49%"
       ]
      },
      {
       "output_type": "stream",
       "stream": "stdout",
       "text": [
        "\r",
        "98%"
       ]
      },
      {
       "output_type": "stream",
       "stream": "stdout",
       "text": [
        "\r",
        "dwell=  2.2 updating position 24 of 59: (0.5, 0.4, t=42.8)\n",
        "0%"
       ]
      },
      {
       "output_type": "stream",
       "stream": "stdout",
       "text": [
        "\r",
        "44%"
       ]
      },
      {
       "output_type": "stream",
       "stream": "stdout",
       "text": [
        "\r",
        "89%"
       ]
      },
      {
       "output_type": "stream",
       "stream": "stdout",
       "text": [
        "\r",
        "dwell=  2.4"
       ]
      },
      {
       "output_type": "stream",
       "stream": "stdout",
       "text": [
        " updating position 25 of 59: (0.3, 0.6, t=45.1)\n",
        "0%"
       ]
      },
      {
       "output_type": "stream",
       "stream": "stdout",
       "text": [
        "\r",
        "41%"
       ]
      },
      {
       "output_type": "stream",
       "stream": "stdout",
       "text": [
        "\r",
        "82%"
       ]
      },
      {
       "output_type": "stream",
       "stream": "stdout",
       "text": [
        "\r",
        "dwell=  2.5"
       ]
      },
      {
       "output_type": "stream",
       "stream": "stdout",
       "text": [
        " updating position 26 of 59: (0.0, 0.6, t=47.6)\n",
        "0%"
       ]
      },
      {
       "output_type": "stream",
       "stream": "stdout",
       "text": [
        "\r",
        "39%"
       ]
      },
      {
       "output_type": "stream",
       "stream": "stdout",
       "text": [
        "\r",
        "78%"
       ]
      },
      {
       "output_type": "stream",
       "stream": "stdout",
       "text": [
        "\r",
        "dwell=  2.6"
       ]
      },
      {
       "output_type": "stream",
       "stream": "stdout",
       "text": [
        " updating position 27 of 59: (-0.2, 0.6, t=50.2)\n",
        "0%"
       ]
      },
      {
       "output_type": "stream",
       "stream": "stdout",
       "text": [
        "\r",
        "38%"
       ]
      },
      {
       "output_type": "stream",
       "stream": "stdout",
       "text": [
        "\r",
        "76%"
       ]
      },
      {
       "output_type": "stream",
       "stream": "stdout",
       "text": [
        "\r",
        "dwell=  2.7"
       ]
      },
      {
       "output_type": "stream",
       "stream": "stdout",
       "text": [
        " updating position 28 of 59: (-0.5, 0.5, t=52.9)\n",
        "0%"
       ]
      },
      {
       "output_type": "stream",
       "stream": "stdout",
       "text": [
        "\r",
        "37%"
       ]
      },
      {
       "output_type": "stream",
       "stream": "stdout",
       "text": [
        "\r",
        "74%"
       ]
      },
      {
       "output_type": "stream",
       "stream": "stdout",
       "text": [
        "\r",
        "dwell=  2.7"
       ]
      },
      {
       "output_type": "stream",
       "stream": "stdout",
       "text": [
        " updating position 29 of 59: (-0.6, 0.3, t=55.6)\n",
        "0%"
       ]
      },
      {
       "output_type": "stream",
       "stream": "stdout",
       "text": [
        "\r",
        "37%"
       ]
      },
      {
       "output_type": "stream",
       "stream": "stdout",
       "text": [
        "\r",
        "74%"
       ]
      },
      {
       "output_type": "stream",
       "stream": "stdout",
       "text": [
        "\r",
        "dwell=  2.7"
       ]
      },
      {
       "output_type": "stream",
       "stream": "stdout",
       "text": [
        " updating position 30 of 59: (-0.7, 0.0, t=58.4)\n",
        "0%"
       ]
      },
      {
       "output_type": "stream",
       "stream": "stdout",
       "text": [
        "\r",
        "36%"
       ]
      },
      {
       "output_type": "stream",
       "stream": "stdout",
       "text": [
        "\r",
        "73%"
       ]
      },
      {
       "output_type": "stream",
       "stream": "stdout",
       "text": [
        "\r",
        "dwell=  2.8"
       ]
      },
      {
       "output_type": "stream",
       "stream": "stdout",
       "text": [
        " updating position 31 of 59: (-0.7, -0.2, t=61.2)\n",
        "0%"
       ]
      },
      {
       "output_type": "stream",
       "stream": "stdout",
       "text": [
        "\r",
        "36%"
       ]
      },
      {
       "output_type": "stream",
       "stream": "stdout",
       "text": [
        "\r",
        "72%"
       ]
      },
      {
       "output_type": "stream",
       "stream": "stdout",
       "text": [
        "\r",
        "dwell=  2.8"
       ]
      },
      {
       "output_type": "stream",
       "stream": "stdout",
       "text": [
        " updating position 32 of 59: (-0.6, -0.5, t=64.0)\n",
        "0%"
       ]
      },
      {
       "output_type": "stream",
       "stream": "stdout",
       "text": [
        "\r",
        "35%"
       ]
      },
      {
       "output_type": "stream",
       "stream": "stdout",
       "text": [
        "\r",
        "71%"
       ]
      },
      {
       "output_type": "stream",
       "stream": "stdout",
       "text": [
        "\r",
        "dwell=  2.9"
       ]
      },
      {
       "output_type": "stream",
       "stream": "stdout",
       "text": [
        " updating position 33 of 59: (-0.4, -0.6, t=66.9)\n",
        "0%"
       ]
      },
      {
       "output_type": "stream",
       "stream": "stdout",
       "text": [
        "\r",
        "35%"
       ]
      },
      {
       "output_type": "stream",
       "stream": "stdout",
       "text": [
        "\r",
        "70%"
       ]
      },
      {
       "output_type": "stream",
       "stream": "stdout",
       "text": [
        "\r",
        "dwell=  2.9"
       ]
      },
      {
       "output_type": "stream",
       "stream": "stdout",
       "text": [
        " updating position 34 of 59: (-0.1, -0.7, t=69.8)\n",
        "0%"
       ]
      },
      {
       "output_type": "stream",
       "stream": "stdout",
       "text": [
        "\r",
        "34%"
       ]
      },
      {
       "output_type": "stream",
       "stream": "stdout",
       "text": [
        "\r",
        "68%"
       ]
      },
      {
       "output_type": "stream",
       "stream": "stdout",
       "text": [
        "\r",
        "dwell=  3.0"
       ]
      },
      {
       "output_type": "stream",
       "stream": "stdout",
       "text": [
        " updating position 35 of 59: (0.1, -0.7, t=72.8)\n",
        "0%"
       ]
      },
      {
       "output_type": "stream",
       "stream": "stdout",
       "text": [
        "\r",
        "33%"
       ]
      },
      {
       "output_type": "stream",
       "stream": "stdout",
       "text": [
        "\r",
        "67%"
       ]
      },
      {
       "output_type": "stream",
       "stream": "stdout",
       "text": [
        "\r",
        "dwell=  3.1"
       ]
      },
      {
       "output_type": "stream",
       "stream": "stdout",
       "text": [
        " updating position 36 of 59: (0.4, -0.7, t=75.8)\n",
        "0%"
       ]
      },
      {
       "output_type": "stream",
       "stream": "stdout",
       "text": [
        "\r",
        "32%"
       ]
      },
      {
       "output_type": "stream",
       "stream": "stdout",
       "text": [
        "\r",
        "65%"
       ]
      },
      {
       "output_type": "stream",
       "stream": "stdout",
       "text": [
        "\r",
        "98%"
       ]
      },
      {
       "output_type": "stream",
       "stream": "stdout",
       "text": [
        "\r",
        "dwell=  3.1 updating position 37 of 59: (0.6, -0.5, t=78.9)\n",
        "0%"
       ]
      },
      {
       "output_type": "stream",
       "stream": "stdout",
       "text": [
        "\r",
        "31%"
       ]
      },
      {
       "output_type": "stream",
       "stream": "stdout",
       "text": [
        "\r",
        "63%"
       ]
      },
      {
       "output_type": "stream",
       "stream": "stdout",
       "text": [
        "\r",
        "95%"
       ]
      },
      {
       "output_type": "stream",
       "stream": "stdout",
       "text": [
        "\r",
        "dwell=  3.2"
       ]
      },
      {
       "output_type": "stream",
       "stream": "stdout",
       "text": [
        " updating position 38 of 59: (0.7, -0.3, t=82.1)\n",
        "0%"
       ]
      },
      {
       "output_type": "stream",
       "stream": "stdout",
       "text": [
        "\r",
        "30%"
       ]
      },
      {
       "output_type": "stream",
       "stream": "stdout",
       "text": [
        "\r",
        "61%"
       ]
      },
      {
       "output_type": "stream",
       "stream": "stdout",
       "text": [
        "\r",
        "92%"
       ]
      },
      {
       "output_type": "stream",
       "stream": "stdout",
       "text": [
        "\r",
        "dwell=  3.3"
       ]
      },
      {
       "output_type": "stream",
       "stream": "stdout",
       "text": [
        " updating position 39 of 59: (0.8, -0.0, t=85.4)\n",
        "0%"
       ]
      },
      {
       "output_type": "stream",
       "stream": "stdout",
       "text": [
        "\r",
        "30%"
       ]
      },
      {
       "output_type": "stream",
       "stream": "stdout",
       "text": [
        "\r",
        "60%"
       ]
      },
      {
       "output_type": "stream",
       "stream": "stdout",
       "text": [
        "\r",
        "90%"
       ]
      },
      {
       "output_type": "stream",
       "stream": "stdout",
       "text": [
        "\r",
        "dwell=  3.4"
       ]
      },
      {
       "output_type": "stream",
       "stream": "stdout",
       "text": [
        " updating position 40 of 59: (0.8, 0.2, t=88.8)\n",
        "0%"
       ]
      },
      {
       "output_type": "stream",
       "stream": "stdout",
       "text": [
        "\r",
        "29%"
       ]
      },
      {
       "output_type": "stream",
       "stream": "stdout",
       "text": [
        "\r",
        "58%"
       ]
      },
      {
       "output_type": "stream",
       "stream": "stdout",
       "text": [
        "\r",
        "87%"
       ]
      },
      {
       "output_type": "stream",
       "stream": "stdout",
       "text": [
        "\r",
        "dwell=  3.5"
       ]
      },
      {
       "output_type": "stream",
       "stream": "stdout",
       "text": [
        " updating position 41 of 59: (0.7, 0.5, t=92.3)\n",
        "0%"
       ]
      },
      {
       "output_type": "stream",
       "stream": "stdout",
       "text": [
        "\r",
        "28%"
       ]
      },
      {
       "output_type": "stream",
       "stream": "stdout",
       "text": [
        "\r",
        "56%"
       ]
      },
      {
       "output_type": "stream",
       "stream": "stdout",
       "text": [
        "\r",
        "84%"
       ]
      },
      {
       "output_type": "stream",
       "stream": "stdout",
       "text": [
        "\r",
        "dwell=  3.6"
       ]
      },
      {
       "output_type": "stream",
       "stream": "stdout",
       "text": [
        " updating position 42 of 59: (0.5, 0.7, t=95.9)\n",
        "0%"
       ]
      },
      {
       "output_type": "stream",
       "stream": "stdout",
       "text": [
        "\r",
        "27%"
       ]
      },
      {
       "output_type": "stream",
       "stream": "stdout",
       "text": [
        "\r",
        "54%"
       ]
      },
      {
       "output_type": "stream",
       "stream": "stdout",
       "text": [
        "\r",
        "82%"
       ]
      },
      {
       "output_type": "stream",
       "stream": "stdout",
       "text": [
        "\r",
        "dwell=  3.7"
       ]
      },
      {
       "output_type": "stream",
       "stream": "stdout",
       "text": [
        " updating position 43 of 59: (0.3, 0.8, t=99.6)\n",
        "0%"
       ]
      },
      {
       "output_type": "stream",
       "stream": "stdout",
       "text": [
        "\r",
        "26%"
       ]
      },
      {
       "output_type": "stream",
       "stream": "stdout",
       "text": [
        "\r",
        "53%"
       ]
      },
      {
       "output_type": "stream",
       "stream": "stdout",
       "text": [
        "\r",
        "80%"
       ]
      },
      {
       "output_type": "stream",
       "stream": "stdout",
       "text": [
        "\r",
        "dwell=  3.8"
       ]
      },
      {
       "output_type": "stream",
       "stream": "stdout",
       "text": [
        " updating position 44 of 59: (0.0, 0.8, t=103.4)\n",
        "0%"
       ]
      },
      {
       "output_type": "stream",
       "stream": "stdout",
       "text": [
        "\r",
        "26%"
       ]
      },
      {
       "output_type": "stream",
       "stream": "stdout",
       "text": [
        "\r",
        "52%"
       ]
      },
      {
       "output_type": "stream",
       "stream": "stdout",
       "text": [
        "\r",
        "78%"
       ]
      },
      {
       "output_type": "stream",
       "stream": "stdout",
       "text": [
        "\r",
        "dwell=  3.9"
       ]
      },
      {
       "output_type": "stream",
       "stream": "stdout",
       "text": [
        " updating position 45 of 59: (-0.2, 0.8, t=107.3)\n",
        "0%"
       ]
      },
      {
       "output_type": "stream",
       "stream": "stdout",
       "text": [
        "\r",
        "25%"
       ]
      },
      {
       "output_type": "stream",
       "stream": "stdout",
       "text": [
        "\r",
        "51%"
       ]
      },
      {
       "output_type": "stream",
       "stream": "stdout",
       "text": [
        "\r",
        "77%"
       ]
      },
      {
       "output_type": "stream",
       "stream": "stdout",
       "text": [
        "\r",
        "dwell=  3.9"
       ]
      },
      {
       "output_type": "stream",
       "stream": "stdout",
       "text": [
        " updating position 46 of 59: (-0.5, 0.7, t=111.2)\n",
        "0%"
       ]
      },
      {
       "output_type": "stream",
       "stream": "stdout",
       "text": [
        "\r",
        "25%"
       ]
      },
      {
       "output_type": "stream",
       "stream": "stdout",
       "text": [
        "\r",
        "51%"
       ]
      },
      {
       "output_type": "stream",
       "stream": "stdout",
       "text": [
        "\r",
        "76%"
       ]
      },
      {
       "output_type": "stream",
       "stream": "stdout",
       "text": [
        "\r",
        "dwell=  3.9"
       ]
      },
      {
       "output_type": "stream",
       "stream": "stdout",
       "text": [
        " updating position 47 of 59: (-0.7, 0.6, t=115.2)\n",
        "0%"
       ]
      },
      {
       "output_type": "stream",
       "stream": "stdout",
       "text": [
        "\r",
        "25%"
       ]
      },
      {
       "output_type": "stream",
       "stream": "stdout",
       "text": [
        "\r",
        "50%"
       ]
      },
      {
       "output_type": "stream",
       "stream": "stdout",
       "text": [
        "\r",
        "76%"
       ]
      },
      {
       "output_type": "stream",
       "stream": "stdout",
       "text": [
        "\r",
        "dwell=  3.9"
       ]
      },
      {
       "output_type": "stream",
       "stream": "stdout",
       "text": [
        " updating position 48 of 59: (-0.8, 0.3, t=119.2)\n",
        "0%"
       ]
      },
      {
       "output_type": "stream",
       "stream": "stdout",
       "text": [
        "\r",
        "25%"
       ]
      },
      {
       "output_type": "stream",
       "stream": "stdout",
       "text": [
        "\r",
        "50%"
       ]
      },
      {
       "output_type": "stream",
       "stream": "stdout",
       "text": [
        "\r",
        "76%"
       ]
      },
      {
       "output_type": "stream",
       "stream": "stdout",
       "text": [
        "\r",
        "dwell=  3.9"
       ]
      },
      {
       "output_type": "stream",
       "stream": "stdout",
       "text": [
        " updating position 49 of 59: (-0.9, 0.1, t=123.2)\n",
        "0%"
       ]
      },
      {
       "output_type": "stream",
       "stream": "stdout",
       "text": [
        "\r",
        "25%"
       ]
      },
      {
       "output_type": "stream",
       "stream": "stdout",
       "text": [
        "\r",
        "50%"
       ]
      },
      {
       "output_type": "stream",
       "stream": "stdout",
       "text": [
        "\r",
        "76%"
       ]
      },
      {
       "output_type": "stream",
       "stream": "stdout",
       "text": [
        "\r",
        "dwell=  3.9"
       ]
      },
      {
       "output_type": "stream",
       "stream": "stdout",
       "text": [
        " updating position 50 of 59: (-0.9, -0.2, t=127.2)\n",
        "0%"
       ]
      },
      {
       "output_type": "stream",
       "stream": "stdout",
       "text": [
        "\r",
        "25%"
       ]
      },
      {
       "output_type": "stream",
       "stream": "stdout",
       "text": [
        "\r",
        "51%"
       ]
      },
      {
       "output_type": "stream",
       "stream": "stdout",
       "text": [
        "\r",
        "76%"
       ]
      },
      {
       "output_type": "stream",
       "stream": "stdout",
       "text": [
        "\r",
        "dwell=  3.9"
       ]
      },
      {
       "output_type": "stream",
       "stream": "stdout",
       "text": [
        " updating position 51 of 59: (-0.8, -0.4, t=131.2)\n",
        "0%"
       ]
      },
      {
       "output_type": "stream",
       "stream": "stdout",
       "text": [
        "\r",
        "25%"
       ]
      },
      {
       "output_type": "stream",
       "stream": "stdout",
       "text": [
        "\r",
        "50%"
       ]
      },
      {
       "output_type": "stream",
       "stream": "stdout",
       "text": [
        "\r",
        "76%"
       ]
      },
      {
       "output_type": "stream",
       "stream": "stdout",
       "text": [
        "\r",
        "dwell=  3.9"
       ]
      },
      {
       "output_type": "stream",
       "stream": "stdout",
       "text": [
        " updating position 52 of 59: (-0.7, -0.6, t=135.2)\n",
        "0%"
       ]
      },
      {
       "output_type": "stream",
       "stream": "stdout",
       "text": [
        "\r",
        "25%"
       ]
      },
      {
       "output_type": "stream",
       "stream": "stdout",
       "text": [
        "\r",
        "50%"
       ]
      },
      {
       "output_type": "stream",
       "stream": "stdout",
       "text": [
        "\r",
        "76%"
       ]
      },
      {
       "output_type": "stream",
       "stream": "stdout",
       "text": [
        "\r",
        "dwell=  3.9"
       ]
      },
      {
       "output_type": "stream",
       "stream": "stdout",
       "text": [
        " updating position 53 of 59: (-0.5, -0.8, t=139.2)\n",
        "0%"
       ]
      },
      {
       "output_type": "stream",
       "stream": "stdout",
       "text": [
        "\r",
        "25%"
       ]
      },
      {
       "output_type": "stream",
       "stream": "stdout",
       "text": [
        "\r",
        "50%"
       ]
      },
      {
       "output_type": "stream",
       "stream": "stdout",
       "text": [
        "\r",
        "76%"
       ]
      },
      {
       "output_type": "stream",
       "stream": "stdout",
       "text": [
        "\r",
        "dwell=  4.0"
       ]
      },
      {
       "output_type": "stream",
       "stream": "stdout",
       "text": [
        " updating position 54 of 59: (-0.2, -0.9, t=143.2)\n",
        "0%"
       ]
      },
      {
       "output_type": "stream",
       "stream": "stdout",
       "text": [
        "\r",
        "25%"
       ]
      },
      {
       "output_type": "stream",
       "stream": "stdout",
       "text": [
        "\r",
        "50%"
       ]
      },
      {
       "output_type": "stream",
       "stream": "stdout",
       "text": [
        "\r",
        "75%"
       ]
      },
      {
       "output_type": "stream",
       "stream": "stdout",
       "text": [
        "\r",
        "dwell=  4.0"
       ]
      },
      {
       "output_type": "stream",
       "stream": "stdout",
       "text": [
        " updating position 55 of 59: (0.0, -1.0, t=147.2)\n",
        "0%"
       ]
      },
      {
       "output_type": "stream",
       "stream": "stdout",
       "text": [
        "\r",
        "24%"
       ]
      },
      {
       "output_type": "stream",
       "stream": "stdout",
       "text": [
        "\r",
        "49%"
       ]
      },
      {
       "output_type": "stream",
       "stream": "stdout",
       "text": [
        "\r",
        "74%"
       ]
      },
      {
       "output_type": "stream",
       "stream": "stdout",
       "text": [
        "\r",
        "99%"
       ]
      },
      {
       "output_type": "stream",
       "stream": "stdout",
       "text": [
        "\r",
        "dwell=  4.0 updating position 56 of 59: (0.3, -0.9, t=151.3)\n",
        "0%"
       ]
      },
      {
       "output_type": "stream",
       "stream": "stdout",
       "text": [
        "\r",
        "24%"
       ]
      },
      {
       "output_type": "stream",
       "stream": "stdout",
       "text": [
        "\r",
        "49%"
       ]
      },
      {
       "output_type": "stream",
       "stream": "stdout",
       "text": [
        "\r",
        "74%"
       ]
      },
      {
       "output_type": "stream",
       "stream": "stdout",
       "text": [
        "\r",
        "99%"
       ]
      },
      {
       "output_type": "stream",
       "stream": "stdout",
       "text": [
        "\r",
        "dwell=  4.1 updating position 57 of 59: (0.5, -0.8, t=155.4)\n",
        "0%"
       ]
      },
      {
       "output_type": "stream",
       "stream": "stdout",
       "text": [
        "\r",
        "24%"
       ]
      },
      {
       "output_type": "stream",
       "stream": "stdout",
       "text": [
        "\r",
        "48%"
       ]
      },
      {
       "output_type": "stream",
       "stream": "stdout",
       "text": [
        "\r",
        "73%"
       ]
      },
      {
       "output_type": "stream",
       "stream": "stdout",
       "text": [
        "\r",
        "97%"
       ]
      },
      {
       "output_type": "stream",
       "stream": "stdout",
       "text": [
        "\r",
        "dwell=  4.2 updating position 58 of 59: (0.7, -0.6, t=159.5)\n",
        "0%"
       ]
      },
      {
       "output_type": "stream",
       "stream": "stdout",
       "text": [
        "\r",
        "24%"
       ]
      },
      {
       "output_type": "stream",
       "stream": "stdout",
       "text": [
        "\r",
        "48%"
       ]
      },
      {
       "output_type": "stream",
       "stream": "stdout",
       "text": [
        "\r",
        "72%"
       ]
      },
      {
       "output_type": "stream",
       "stream": "stdout",
       "text": [
        "\r",
        "96%"
       ]
      },
      {
       "output_type": "stream",
       "stream": "stdout",
       "text": [
        "\r",
        "dwell=  4.2"
       ]
      },
      {
       "output_type": "stream",
       "stream": "stdout",
       "text": [
        " updating position 59 of 59: (0.9, -0.4, t=163.7)\n",
        "0%"
       ]
      },
      {
       "output_type": "stream",
       "stream": "stdout",
       "text": [
        "\r",
        "23%"
       ]
      },
      {
       "output_type": "stream",
       "stream": "stdout",
       "text": [
        "\r",
        "47%"
       ]
      },
      {
       "output_type": "stream",
       "stream": "stdout",
       "text": [
        "\r",
        "71%"
       ]
      },
      {
       "output_type": "stream",
       "stream": "stdout",
       "text": [
        "\r",
        "94%"
       ]
      },
      {
       "output_type": "stream",
       "stream": "stdout",
       "text": [
        "\r",
        "pass # "
       ]
      },
      {
       "output_type": "stream",
       "stream": "stdout",
       "text": [
        " 3\n",
        "dwell=  4.3"
       ]
      },
      {
       "output_type": "stream",
       "stream": "stdout",
       "text": [
        " updating position 1 of 59: (0.0, 0.0, t= 4.3)\n",
        "0%"
       ]
      },
      {
       "output_type": "stream",
       "stream": "stdout",
       "text": [
        "\r",
        "23%"
       ]
      },
      {
       "output_type": "stream",
       "stream": "stdout",
       "text": [
        "\r",
        "46%"
       ]
      },
      {
       "output_type": "stream",
       "stream": "stdout",
       "text": [
        "\r",
        "69%"
       ]
      },
      {
       "output_type": "stream",
       "stream": "stdout",
       "text": [
        "\r",
        "93%"
       ]
      },
      {
       "output_type": "stream",
       "stream": "stdout",
       "text": [
        "\r",
        "dwell=  1.0"
       ]
      },
      {
       "output_type": "stream",
       "stream": "stdout",
       "text": [
        " updating position 2 of 59: (0.2, -0.0, t= 8.6)\n",
        "0%"
       ]
      },
      {
       "output_type": "stream",
       "stream": "stdout",
       "text": [
        "\r",
        "97%"
       ]
      },
      {
       "output_type": "stream",
       "stream": "stdout",
       "text": [
        "\r",
        "dwell=  0.8 updating position 3 of 59: (0.2, 0.1, t= 9.7)\n",
        "0%"
       ]
      },
      {
       "output_type": "stream",
       "stream": "stdout",
       "text": [
        "\r",
        "dwell=  0.4"
       ]
      },
      {
       "output_type": "stream",
       "stream": "stdout",
       "text": [
        " updating position 4 of 59: (0.0, 0.2, t=10.6)\n",
        "0%"
       ]
      },
      {
       "output_type": "stream",
       "stream": "stdout",
       "text": [
        "\r",
        "dwell=  0.1"
       ]
      },
      {
       "output_type": "stream",
       "stream": "stdout",
       "text": [
        " Cooling for 0.400000\n",
        "0%\r",
        "dwell=  0.1"
       ]
      },
      {
       "output_type": "stream",
       "stream": "stdout",
       "text": [
        " Cooling for 0.400000\n",
        "0%\r",
        "dwell=  0.2"
       ]
      },
      {
       "output_type": "stream",
       "stream": "stdout",
       "text": [
        " updating position 7 of 59: (-0.2, -0.3, t=11.9)\n",
        "0%"
       ]
      },
      {
       "output_type": "stream",
       "stream": "stdout",
       "text": [
        "\r",
        "dwell=  0.2"
       ]
      },
      {
       "output_type": "stream",
       "stream": "stdout",
       "text": [
        " updating position 8 of 59: (0.0, -0.4, t=12.2)\n",
        "0%"
       ]
      },
      {
       "output_type": "stream",
       "stream": "stdout",
       "text": [
        "\r",
        "dwell=  0.3"
       ]
      },
      {
       "output_type": "stream",
       "stream": "stdout",
       "text": [
        " updating position 9 of 59: (0.3, -0.2, t=12.5)\n",
        "0%"
       ]
      },
      {
       "output_type": "stream",
       "stream": "stdout",
       "text": [
        "\r",
        "dwell=  0.3"
       ]
      },
      {
       "output_type": "stream",
       "stream": "stdout",
       "text": [
        " updating position 10 of 59: (0.4, -0.0, t=12.8)\n",
        "0%"
       ]
      },
      {
       "output_type": "stream",
       "stream": "stdout",
       "text": [
        "\r",
        "dwell=  0.4"
       ]
      },
      {
       "output_type": "stream",
       "stream": "stdout",
       "text": [
        " updating position 11 of 59: (0.3, 0.2, t=13.2)\n",
        "0%"
       ]
      },
      {
       "output_type": "stream",
       "stream": "stdout",
       "text": [
        "\r",
        "dwell=  0.4"
       ]
      },
      {
       "output_type": "stream",
       "stream": "stdout",
       "text": [
        " updating position 12 of 59: (0.2, 0.4, t=13.6)\n",
        "0%"
       ]
      },
      {
       "output_type": "stream",
       "stream": "stdout",
       "text": [
        "\r",
        "dwell=  0.3"
       ]
      },
      {
       "output_type": "stream",
       "stream": "stdout",
       "text": [
        " updating position 13 of 59: (-0.1, 0.4, t=14.0)\n",
        "0%"
       ]
      },
      {
       "output_type": "stream",
       "stream": "stdout",
       "text": [
        "\r",
        "dwell=  0.3"
       ]
      },
      {
       "output_type": "stream",
       "stream": "stdout",
       "text": [
        " updating position 14 of 59: (-0.3, 0.3, t=14.4)\n",
        "0%"
       ]
      },
      {
       "output_type": "stream",
       "stream": "stdout",
       "text": [
        "\r",
        "dwell=  0.3"
       ]
      },
      {
       "output_type": "stream",
       "stream": "stdout",
       "text": [
        " updating position 15 of 59: (-0.5, 0.1, t=14.8)\n",
        "0%"
       ]
      },
      {
       "output_type": "stream",
       "stream": "stdout",
       "text": [
        "\r",
        "dwell=  0.4"
       ]
      },
      {
       "output_type": "stream",
       "stream": "stdout",
       "text": [
        " updating position 16 of 59: (-0.5, -0.1, t=15.2)\n",
        "0%"
       ]
      },
      {
       "output_type": "stream",
       "stream": "stdout",
       "text": [
        "\r",
        "dwell=  0.4"
       ]
      },
      {
       "output_type": "stream",
       "stream": "stdout",
       "text": [
        " updating position 17 of 59: (-0.4, -0.4, t=15.6)\n",
        "0%"
       ]
      },
      {
       "output_type": "stream",
       "stream": "stdout",
       "text": [
        "\r",
        "dwell=  0.5"
       ]
      },
      {
       "output_type": "stream",
       "stream": "stdout",
       "text": [
        " updating position 18 of 59: (-0.2, -0.5, t=16.1)\n",
        "0%"
       ]
      },
      {
       "output_type": "stream",
       "stream": "stdout",
       "text": [
        "\r",
        "dwell=  0.5"
       ]
      },
      {
       "output_type": "stream",
       "stream": "stdout",
       "text": [
        " updating position 19 of 59: (0.1, -0.5, t=16.6)\n",
        "0%"
       ]
      },
      {
       "output_type": "stream",
       "stream": "stdout",
       "text": [
        "\r",
        "dwell=  0.6"
       ]
      },
      {
       "output_type": "stream",
       "stream": "stdout",
       "text": [
        " updating position 20 of 59: (0.3, -0.5, t=17.2)\n",
        "0%"
       ]
      },
      {
       "output_type": "stream",
       "stream": "stdout",
       "text": [
        "\r",
        "dwell=  0.6"
       ]
      },
      {
       "output_type": "stream",
       "stream": "stdout",
       "text": [
        " updating position 21 of 59: (0.5, -0.3, t=17.8)\n",
        "0%"
       ]
      },
      {
       "output_type": "stream",
       "stream": "stdout",
       "text": [
        "\r",
        "dwell=  0.7"
       ]
      },
      {
       "output_type": "stream",
       "stream": "stdout",
       "text": [
        " updating position 22 of 59: (0.6, -0.0, t=18.5)\n",
        "0%"
       ]
      },
      {
       "output_type": "stream",
       "stream": "stdout",
       "text": [
        "\r",
        "dwell=  0.8"
       ]
      },
      {
       "output_type": "stream",
       "stream": "stdout",
       "text": [
        " updating position 23 of 59: (0.6, 0.2, t=19.3)\n",
        "0%"
       ]
      },
      {
       "output_type": "stream",
       "stream": "stdout",
       "text": [
        "\r",
        "dwell=  0.9"
       ]
      },
      {
       "output_type": "stream",
       "stream": "stdout",
       "text": [
        " updating position 24 of 59: (0.4, 0.5, t=20.2)\n",
        "0%"
       ]
      },
      {
       "output_type": "stream",
       "stream": "stdout",
       "text": [
        "\r",
        "dwell=  1.0"
       ]
      },
      {
       "output_type": "stream",
       "stream": "stdout",
       "text": [
        " updating position 25 of 59: (0.2, 0.6, t=21.2)\n",
        "0%"
       ]
      },
      {
       "output_type": "stream",
       "stream": "stdout",
       "text": [
        "\r",
        "dwell=  1.1"
       ]
      },
      {
       "output_type": "stream",
       "stream": "stdout",
       "text": [
        " updating position 26 of 59: (-0.0, 0.7, t=22.2)\n",
        "0%"
       ]
      },
      {
       "output_type": "stream",
       "stream": "stdout",
       "text": [
        "\r",
        "93%"
       ]
      },
      {
       "output_type": "stream",
       "stream": "stdout",
       "text": [
        "\r",
        "dwell=  1.1 updating position 27 of 59: (-0.3, 0.6, t=23.3)\n",
        "0%"
       ]
      },
      {
       "output_type": "stream",
       "stream": "stdout",
       "text": [
        "\r",
        "88%"
       ]
      },
      {
       "output_type": "stream",
       "stream": "stdout",
       "text": [
        "\r",
        "dwell=  1.2"
       ]
      },
      {
       "output_type": "stream",
       "stream": "stdout",
       "text": [
        " updating position 28 of 59: (-0.5, 0.4, t=24.5)\n",
        "0%"
       ]
      },
      {
       "output_type": "stream",
       "stream": "stdout",
       "text": [
        "\r",
        "83%"
       ]
      },
      {
       "output_type": "stream",
       "stream": "stdout",
       "text": [
        "\r",
        "dwell=  1.3"
       ]
      },
      {
       "output_type": "stream",
       "stream": "stdout",
       "text": [
        " updating position 29 of 59: (-0.7, 0.2, t=25.8)\n",
        "0%"
       ]
      },
      {
       "output_type": "stream",
       "stream": "stdout",
       "text": [
        "\r",
        "78%"
       ]
      },
      {
       "output_type": "stream",
       "stream": "stdout",
       "text": [
        "\r",
        "dwell=  1.3"
       ]
      },
      {
       "output_type": "stream",
       "stream": "stdout",
       "text": [
        " updating position 30 of 59: (-0.7, -0.0, t=27.1)\n",
        "0%"
       ]
      },
      {
       "output_type": "stream",
       "stream": "stdout",
       "text": [
        "\r",
        "74%"
       ]
      },
      {
       "output_type": "stream",
       "stream": "stdout",
       "text": [
        "\r",
        "dwell=  1.4"
       ]
      },
      {
       "output_type": "stream",
       "stream": "stdout",
       "text": [
        " updating position 31 of 59: (-0.7, -0.3, t=28.5)\n",
        "0%"
       ]
      },
      {
       "output_type": "stream",
       "stream": "stdout",
       "text": [
        "\r",
        "70%"
       ]
      },
      {
       "output_type": "stream",
       "stream": "stdout",
       "text": [
        "\r",
        "dwell=  1.5"
       ]
      },
      {
       "output_type": "stream",
       "stream": "stdout",
       "text": [
        " updating position 32 of 59: (-0.5, -0.5, t=30.0)\n",
        "0%"
       ]
      },
      {
       "output_type": "stream",
       "stream": "stdout",
       "text": [
        "\r",
        "67%"
       ]
      },
      {
       "output_type": "stream",
       "stream": "stdout",
       "text": [
        "\r",
        "dwell=  1.6"
       ]
      },
      {
       "output_type": "stream",
       "stream": "stdout",
       "text": [
        " updating position 33 of 59: (-0.3, -0.7, t=31.5)\n",
        "0%"
       ]
      },
      {
       "output_type": "stream",
       "stream": "stdout",
       "text": [
        "\r",
        "64%"
       ]
      },
      {
       "output_type": "stream",
       "stream": "stdout",
       "text": [
        "\r",
        "dwell=  1.6"
       ]
      },
      {
       "output_type": "stream",
       "stream": "stdout",
       "text": [
        " updating position 34 of 59: (-0.1, -0.7, t=33.1)\n",
        "0%"
       ]
      },
      {
       "output_type": "stream",
       "stream": "stdout",
       "text": [
        "\r",
        "61%"
       ]
      },
      {
       "output_type": "stream",
       "stream": "stdout",
       "text": [
        "\r",
        "dwell=  1.7"
       ]
      },
      {
       "output_type": "stream",
       "stream": "stdout",
       "text": [
        " updating position 35 of 59: (0.2, -0.7, t=34.8)\n",
        "0%"
       ]
      },
      {
       "output_type": "stream",
       "stream": "stdout",
       "text": [
        "\r",
        "59%"
       ]
      },
      {
       "output_type": "stream",
       "stream": "stdout",
       "text": [
        "\r",
        "dwell=  1.8"
       ]
      },
      {
       "output_type": "stream",
       "stream": "stdout",
       "text": [
        " updating position 36 of 59: (0.4, -0.6, t=36.5)\n",
        "0%"
       ]
      },
      {
       "output_type": "stream",
       "stream": "stdout",
       "text": [
        "\r",
        "56%"
       ]
      },
      {
       "output_type": "stream",
       "stream": "stdout",
       "text": [
        "\r",
        "dwell=  1.8"
       ]
      },
      {
       "output_type": "stream",
       "stream": "stdout",
       "text": [
        " updating position 37 of 59: (0.6, -0.5, t=38.3)\n",
        "0%"
       ]
      },
      {
       "output_type": "stream",
       "stream": "stdout",
       "text": [
        "\r",
        "54%"
       ]
      },
      {
       "output_type": "stream",
       "stream": "stdout",
       "text": [
        "\r",
        "dwell=  1.9"
       ]
      },
      {
       "output_type": "stream",
       "stream": "stdout",
       "text": [
        " updating position 38 of 59: (0.8, -0.2, t=40.2)\n",
        "0%"
       ]
      },
      {
       "output_type": "stream",
       "stream": "stdout",
       "text": [
        "\r",
        "52%"
       ]
      },
      {
       "output_type": "stream",
       "stream": "stdout",
       "text": [
        "\r",
        "dwell=  2.0"
       ]
      },
      {
       "output_type": "stream",
       "stream": "stdout",
       "text": [
        " updating position 39 of 59: (0.8, 0.0, t=42.2)\n",
        "0%"
       ]
      },
      {
       "output_type": "stream",
       "stream": "stdout",
       "text": [
        "\r",
        "50%"
       ]
      },
      {
       "output_type": "stream",
       "stream": "stdout",
       "text": [
        "\r",
        "dwell=  2.1"
       ]
      },
      {
       "output_type": "stream",
       "stream": "stdout",
       "text": [
        " updating position 40 of 59: (0.8, 0.3, t=44.2)\n",
        "0%"
       ]
      },
      {
       "output_type": "stream",
       "stream": "stdout",
       "text": [
        "\r",
        "48%"
       ]
      },
      {
       "output_type": "stream",
       "stream": "stdout",
       "text": [
        "\r",
        "97%"
       ]
      },
      {
       "output_type": "stream",
       "stream": "stdout",
       "text": [
        "\r",
        "dwell=  2.1 updating position 41 of 59: (0.6, 0.5, t=46.3)\n",
        "0%"
       ]
      },
      {
       "output_type": "stream",
       "stream": "stdout",
       "text": [
        "\r",
        "46%"
       ]
      },
      {
       "output_type": "stream",
       "stream": "stdout",
       "text": [
        "\r",
        "93%"
       ]
      },
      {
       "output_type": "stream",
       "stream": "stdout",
       "text": [
        "\r",
        "dwell=  2.2"
       ]
      },
      {
       "output_type": "stream",
       "stream": "stdout",
       "text": [
        " updating position 42 of 59: (0.5, 0.7, t=48.5)\n",
        "0%"
       ]
      },
      {
       "output_type": "stream",
       "stream": "stdout",
       "text": [
        "\r",
        "45%"
       ]
      },
      {
       "output_type": "stream",
       "stream": "stdout",
       "text": [
        "\r",
        "90%"
       ]
      },
      {
       "output_type": "stream",
       "stream": "stdout",
       "text": [
        "\r",
        "dwell=  2.3"
       ]
      },
      {
       "output_type": "stream",
       "stream": "stdout",
       "text": [
        " updating position 43 of 59: (0.2, 0.8, t=50.8)\n",
        "0%"
       ]
      },
      {
       "output_type": "stream",
       "stream": "stdout",
       "text": [
        "\r",
        "43%"
       ]
      },
      {
       "output_type": "stream",
       "stream": "stdout",
       "text": [
        "\r",
        "87%"
       ]
      },
      {
       "output_type": "stream",
       "stream": "stdout",
       "text": [
        "\r",
        "dwell=  2.3"
       ]
      },
      {
       "output_type": "stream",
       "stream": "stdout",
       "text": [
        " updating position 44 of 59: (-0.0, 0.9, t=53.1)\n",
        "0%"
       ]
      },
      {
       "output_type": "stream",
       "stream": "stdout",
       "text": [
        "\r",
        "42%"
       ]
      },
      {
       "output_type": "stream",
       "stream": "stdout",
       "text": [
        "\r",
        "85%"
       ]
      },
      {
       "output_type": "stream",
       "stream": "stdout",
       "text": [
        "\r",
        "dwell=  2.4"
       ]
      },
      {
       "output_type": "stream",
       "stream": "stdout",
       "text": [
        " updating position 45 of 59: (-0.3, 0.8, t=55.5)\n",
        "0%"
       ]
      },
      {
       "output_type": "stream",
       "stream": "stdout",
       "text": [
        "\r",
        "41%"
       ]
      },
      {
       "output_type": "stream",
       "stream": "stdout",
       "text": [
        "\r",
        "82%"
       ]
      },
      {
       "output_type": "stream",
       "stream": "stdout",
       "text": [
        "\r",
        "dwell=  2.5"
       ]
      },
      {
       "output_type": "stream",
       "stream": "stdout",
       "text": [
        " updating position 46 of 59: (-0.5, 0.7, t=58.0)\n",
        "0%"
       ]
      },
      {
       "output_type": "stream",
       "stream": "stdout",
       "text": [
        "\r",
        "40%"
       ]
      },
      {
       "output_type": "stream",
       "stream": "stdout",
       "text": [
        "\r",
        "80%"
       ]
      },
      {
       "output_type": "stream",
       "stream": "stdout",
       "text": [
        "\r",
        "dwell=  2.5"
       ]
      },
      {
       "output_type": "stream",
       "stream": "stdout",
       "text": [
        " updating position 47 of 59: (-0.7, 0.5, t=60.5)\n",
        "0%"
       ]
      },
      {
       "output_type": "stream",
       "stream": "stdout",
       "text": [
        "\r",
        "39%"
       ]
      },
      {
       "output_type": "stream",
       "stream": "stdout",
       "text": [
        "\r",
        "79%"
       ]
      },
      {
       "output_type": "stream",
       "stream": "stdout",
       "text": [
        "\r",
        "dwell=  2.6"
       ]
      },
      {
       "output_type": "stream",
       "stream": "stdout",
       "text": [
        " updating position 48 of 59: (-0.8, 0.3, t=63.1)\n",
        "0%"
       ]
      },
      {
       "output_type": "stream",
       "stream": "stdout",
       "text": [
        "\r",
        "38%"
       ]
      },
      {
       "output_type": "stream",
       "stream": "stdout",
       "text": [
        "\r",
        "77%"
       ]
      },
      {
       "output_type": "stream",
       "stream": "stdout",
       "text": [
        "\r",
        "dwell=  2.6"
       ]
      },
      {
       "output_type": "stream",
       "stream": "stdout",
       "text": [
        " updating position 49 of 59: (-0.9, 0.0, t=65.7)\n",
        "0%"
       ]
      },
      {
       "output_type": "stream",
       "stream": "stdout",
       "text": [
        "\r",
        "38%"
       ]
      },
      {
       "output_type": "stream",
       "stream": "stdout",
       "text": [
        "\r",
        "76%"
       ]
      },
      {
       "output_type": "stream",
       "stream": "stdout",
       "text": [
        "\r",
        "dwell=  2.6"
       ]
      },
      {
       "output_type": "stream",
       "stream": "stdout",
       "text": [
        " updating position 50 of 59: (-0.9, -0.2, t=68.4)\n",
        "0%"
       ]
      },
      {
       "output_type": "stream",
       "stream": "stdout",
       "text": [
        "\r",
        "37%"
       ]
      },
      {
       "output_type": "stream",
       "stream": "stdout",
       "text": [
        "\r",
        "75%"
       ]
      },
      {
       "output_type": "stream",
       "stream": "stdout",
       "text": [
        "\r",
        "dwell=  2.7"
       ]
      },
      {
       "output_type": "stream",
       "stream": "stdout",
       "text": [
        " updating position 51 of 59: (-0.8, -0.5, t=71.1)\n",
        "0%"
       ]
      },
      {
       "output_type": "stream",
       "stream": "stdout",
       "text": [
        "\r",
        "37%"
       ]
      },
      {
       "output_type": "stream",
       "stream": "stdout",
       "text": [
        "\r",
        "74%"
       ]
      },
      {
       "output_type": "stream",
       "stream": "stdout",
       "text": [
        "\r",
        "dwell=  2.7"
       ]
      },
      {
       "output_type": "stream",
       "stream": "stdout",
       "text": [
        " updating position 52 of 59: (-0.6, -0.7, t=73.8)\n",
        "0%"
       ]
      },
      {
       "output_type": "stream",
       "stream": "stdout",
       "text": [
        "\r",
        "36%"
       ]
      },
      {
       "output_type": "stream",
       "stream": "stdout",
       "text": [
        "\r",
        "73%"
       ]
      },
      {
       "output_type": "stream",
       "stream": "stdout",
       "text": [
        "\r",
        "dwell=  2.7"
       ]
      },
      {
       "output_type": "stream",
       "stream": "stdout",
       "text": [
        " updating position 53 of 59: (-0.4, -0.8, t=76.6)\n",
        "0%"
       ]
      },
      {
       "output_type": "stream",
       "stream": "stdout",
       "text": [
        "\r",
        "36%"
       ]
      },
      {
       "output_type": "stream",
       "stream": "stdout",
       "text": [
        "\r",
        "73%"
       ]
      },
      {
       "output_type": "stream",
       "stream": "stdout",
       "text": [
        "\r",
        "dwell=  2.8"
       ]
      },
      {
       "output_type": "stream",
       "stream": "stdout",
       "text": [
        " updating position 54 of 59: (-0.2, -0.9, t=79.4)\n",
        "0%"
       ]
      },
      {
       "output_type": "stream",
       "stream": "stdout",
       "text": [
        "\r",
        "36%"
       ]
      },
      {
       "output_type": "stream",
       "stream": "stdout",
       "text": [
        "\r",
        "72%"
       ]
      },
      {
       "output_type": "stream",
       "stream": "stdout",
       "text": [
        "\r",
        "dwell=  2.8"
       ]
      },
      {
       "output_type": "stream",
       "stream": "stdout",
       "text": [
        " updating position 55 of 59: (0.1, -0.9, t=82.2)\n",
        "0%"
       ]
      },
      {
       "output_type": "stream",
       "stream": "stdout",
       "text": [
        "\r",
        "35%"
       ]
      },
      {
       "output_type": "stream",
       "stream": "stdout",
       "text": [
        "\r",
        "71%"
       ]
      },
      {
       "output_type": "stream",
       "stream": "stdout",
       "text": [
        "\r",
        "dwell=  2.8"
       ]
      },
      {
       "output_type": "stream",
       "stream": "stdout",
       "text": [
        " updating position 56 of 59: (0.3, -0.9, t=85.1)\n",
        "0%"
       ]
      },
      {
       "output_type": "stream",
       "stream": "stdout",
       "text": [
        "\r",
        "35%"
       ]
      },
      {
       "output_type": "stream",
       "stream": "stdout",
       "text": [
        "\r",
        "70%"
       ]
      },
      {
       "output_type": "stream",
       "stream": "stdout",
       "text": [
        "\r",
        "dwell=  2.9"
       ]
      },
      {
       "output_type": "stream",
       "stream": "stdout",
       "text": [
        " updating position 57 of 59: (0.6, -0.8, t=88.0)\n",
        "0%"
       ]
      },
      {
       "output_type": "stream",
       "stream": "stdout",
       "text": [
        "\r",
        "34%"
       ]
      },
      {
       "output_type": "stream",
       "stream": "stdout",
       "text": [
        "\r",
        "69%"
       ]
      },
      {
       "output_type": "stream",
       "stream": "stdout",
       "text": [
        "\r",
        "dwell=  2.9"
       ]
      },
      {
       "output_type": "stream",
       "stream": "stdout",
       "text": [
        " updating position 58 of 59: (0.8, -0.6, t=90.9)\n",
        "0%"
       ]
      },
      {
       "output_type": "stream",
       "stream": "stdout",
       "text": [
        "\r",
        "34%"
       ]
      },
      {
       "output_type": "stream",
       "stream": "stdout",
       "text": [
        "\r",
        "68%"
       ]
      },
      {
       "output_type": "stream",
       "stream": "stdout",
       "text": [
        "\r",
        "dwell=  3.0"
       ]
      },
      {
       "output_type": "stream",
       "stream": "stdout",
       "text": [
        " updating position 59 of 59: (0.9, -0.4, t=93.9)\n",
        "0%"
       ]
      },
      {
       "output_type": "stream",
       "stream": "stdout",
       "text": [
        "\r",
        "33%"
       ]
      },
      {
       "output_type": "stream",
       "stream": "stdout",
       "text": [
        "\r",
        "67%"
       ]
      },
      {
       "output_type": "stream",
       "stream": "stdout",
       "text": [
        "\r",
        "pass # "
       ]
      },
      {
       "output_type": "stream",
       "stream": "stdout",
       "text": [
        " 4\n",
        "dwell=  3.0"
       ]
      },
      {
       "output_type": "stream",
       "stream": "stdout",
       "text": [
        " updating position 1 of 59: (0.0, 0.0, t= 3.0)\n",
        "0%"
       ]
      },
      {
       "output_type": "stream",
       "stream": "stdout",
       "text": [
        "\r",
        "32%"
       ]
      },
      {
       "output_type": "stream",
       "stream": "stdout",
       "text": [
        "\r",
        "65%"
       ]
      },
      {
       "output_type": "stream",
       "stream": "stdout",
       "text": [
        "\r",
        "98%"
       ]
      },
      {
       "output_type": "stream",
       "stream": "stdout",
       "text": [
        "\r",
        "dwell=  0.6 updating position 2 of 59: (0.2, 0.2, t= 6.1)\n",
        "0%"
       ]
      },
      {
       "output_type": "stream",
       "stream": "stdout",
       "text": [
        "\r",
        "dwell=  0.2"
       ]
      },
      {
       "output_type": "stream",
       "stream": "stdout",
       "text": [
        " Cooling for 0.400000\n",
        "0%\r",
        "dwell=  0.2"
       ]
      },
      {
       "output_type": "stream",
       "stream": "stdout",
       "text": [
        " updating position 4 of 59: (-0.0, 0.3, t= 7.2)\n",
        "0%"
       ]
      },
      {
       "output_type": "stream",
       "stream": "stdout",
       "text": [
        "\r",
        "dwell=  0.0"
       ]
      },
      {
       "output_type": "stream",
       "stream": "stdout",
       "text": [
        " Cooling for 0.400000\n",
        "0%\r",
        "dwell=  0.1"
       ]
      },
      {
       "output_type": "stream",
       "stream": "stdout",
       "text": [
        " Cooling for 0.400000\n",
        "0%\r",
        "dwell=  0.2"
       ]
      },
      {
       "output_type": "stream",
       "stream": "stdout",
       "text": [
        " Cooling for 0.400000\n",
        "0%\r",
        "dwell=  0.2"
       ]
      },
      {
       "output_type": "stream",
       "stream": "stdout",
       "text": [
        " updating position 8 of 59: (0.1, -0.3, t= 8.7)\n",
        "0%"
       ]
      },
      {
       "output_type": "stream",
       "stream": "stdout",
       "text": [
        "\r",
        "dwell=  0.3"
       ]
      },
      {
       "output_type": "stream",
       "stream": "stdout",
       "text": [
        " updating position 9 of 59: (0.3, -0.2, t= 9.0)\n",
        "0%"
       ]
      },
      {
       "output_type": "stream",
       "stream": "stdout",
       "text": [
        "\r",
        "dwell=  0.3"
       ]
      },
      {
       "output_type": "stream",
       "stream": "stdout",
       "text": [
        " updating position 10 of 59: (0.4, 0.0, t= 9.3)\n",
        "0%"
       ]
      },
      {
       "output_type": "stream",
       "stream": "stdout",
       "text": [
        "\r",
        "dwell=  0.3"
       ]
      },
      {
       "output_type": "stream",
       "stream": "stdout",
       "text": [
        " updating position 11 of 59: (0.3, 0.3, t= 9.6)\n",
        "0%"
       ]
      },
      {
       "output_type": "stream",
       "stream": "stdout",
       "text": [
        "\r",
        "dwell=  0.3"
       ]
      },
      {
       "output_type": "stream",
       "stream": "stdout",
       "text": [
        " updating position 12 of 59: (0.1, 0.4, t=10.0)\n",
        "0%"
       ]
      },
      {
       "output_type": "stream",
       "stream": "stdout",
       "text": [
        "\r",
        "dwell=  0.3"
       ]
      },
      {
       "output_type": "stream",
       "stream": "stdout",
       "text": [
        " updating position 13 of 59: (-0.2, 0.4, t=10.4)\n",
        "0%"
       ]
      },
      {
       "output_type": "stream",
       "stream": "stdout",
       "text": [
        "\r",
        "dwell=  0.2"
       ]
      },
      {
       "output_type": "stream",
       "stream": "stdout",
       "text": [
        " updating position 14 of 59: (-0.4, 0.3, t=10.7)\n",
        "0%"
       ]
      },
      {
       "output_type": "stream",
       "stream": "stdout",
       "text": [
        "\r",
        "dwell=  0.3"
       ]
      },
      {
       "output_type": "stream",
       "stream": "stdout",
       "text": [
        " updating position 15 of 59: (-0.5, 0.1, t=11.0)\n",
        "0%"
       ]
      },
      {
       "output_type": "stream",
       "stream": "stdout",
       "text": [
        "\r",
        "dwell=  0.3"
       ]
      },
      {
       "output_type": "stream",
       "stream": "stdout",
       "text": [
        " updating position 16 of 59: (-0.5, -0.2, t=11.3)\n",
        "0%"
       ]
      },
      {
       "output_type": "stream",
       "stream": "stdout",
       "text": [
        "\r",
        "dwell=  0.3"
       ]
      },
      {
       "output_type": "stream",
       "stream": "stdout",
       "text": [
        " updating position 17 of 59: (-0.3, -0.4, t=11.6)\n",
        "0%"
       ]
      },
      {
       "output_type": "stream",
       "stream": "stdout",
       "text": [
        "\r",
        "dwell=  0.3"
       ]
      },
      {
       "output_type": "stream",
       "stream": "stdout",
       "text": [
        " updating position 18 of 59: (-0.1, -0.5, t=11.9)\n",
        "0%"
       ]
      },
      {
       "output_type": "stream",
       "stream": "stdout",
       "text": [
        "\r",
        "dwell=  0.4"
       ]
      },
      {
       "output_type": "stream",
       "stream": "stdout",
       "text": [
        " updating position 19 of 59: (0.2, -0.5, t=12.3)\n",
        "0%"
       ]
      },
      {
       "output_type": "stream",
       "stream": "stdout",
       "text": [
        "\r",
        "dwell=  0.4"
       ]
      },
      {
       "output_type": "stream",
       "stream": "stdout",
       "text": [
        " updating position 20 of 59: (0.4, -0.4, t=12.7)\n",
        "0%"
       ]
      },
      {
       "output_type": "stream",
       "stream": "stdout",
       "text": [
        "\r",
        "dwell=  0.4"
       ]
      },
      {
       "output_type": "stream",
       "stream": "stdout",
       "text": [
        " updating position 21 of 59: (0.5, -0.2, t=13.1)\n",
        "0%"
       ]
      },
      {
       "output_type": "stream",
       "stream": "stdout",
       "text": [
        "\r",
        "dwell=  0.5"
       ]
      },
      {
       "output_type": "stream",
       "stream": "stdout",
       "text": [
        " updating position 22 of 59: (0.6, 0.0, t=13.6)\n",
        "0%"
       ]
      },
      {
       "output_type": "stream",
       "stream": "stdout",
       "text": [
        "\r",
        "dwell=  0.5"
       ]
      },
      {
       "output_type": "stream",
       "stream": "stdout",
       "text": [
        " updating position 23 of 59: (0.5, 0.3, t=14.1)\n",
        "0%"
       ]
      },
      {
       "output_type": "stream",
       "stream": "stdout",
       "text": [
        "\r",
        "dwell=  0.6"
       ]
      },
      {
       "output_type": "stream",
       "stream": "stdout",
       "text": [
        " updating position 24 of 59: (0.4, 0.5, t=14.7)\n",
        "0%"
       ]
      },
      {
       "output_type": "stream",
       "stream": "stdout",
       "text": [
        "\r",
        "dwell=  0.6"
       ]
      },
      {
       "output_type": "stream",
       "stream": "stdout",
       "text": [
        " updating position 25 of 59: (0.2, 0.6, t=15.3)\n",
        "0%"
       ]
      },
      {
       "output_type": "stream",
       "stream": "stdout",
       "text": [
        "\r",
        "dwell=  0.7"
       ]
      },
      {
       "output_type": "stream",
       "stream": "stdout",
       "text": [
        " updating position 26 of 59: (-0.1, 0.6, t=16.0)\n",
        "0%"
       ]
      },
      {
       "output_type": "stream",
       "stream": "stdout",
       "text": [
        "\r",
        "dwell=  0.7"
       ]
      },
      {
       "output_type": "stream",
       "stream": "stdout",
       "text": [
        " updating position 27 of 59: (-0.4, 0.6, t=16.7)\n",
        "0%"
       ]
      },
      {
       "output_type": "stream",
       "stream": "stdout",
       "text": [
        "\r",
        "dwell=  0.7"
       ]
      },
      {
       "output_type": "stream",
       "stream": "stdout",
       "text": [
        " updating position 28 of 59: (-0.6, 0.4, t=17.4)\n",
        "0%"
       ]
      },
      {
       "output_type": "stream",
       "stream": "stdout",
       "text": [
        "\r",
        "dwell=  0.8"
       ]
      },
      {
       "output_type": "stream",
       "stream": "stdout",
       "text": [
        " updating position 29 of 59: (-0.7, 0.2, t=18.2)\n",
        "0%"
       ]
      },
      {
       "output_type": "stream",
       "stream": "stdout",
       "text": [
        "\r",
        "dwell=  0.9"
       ]
      },
      {
       "output_type": "stream",
       "stream": "stdout",
       "text": [
        " updating position 30 of 59: (-0.7, -0.1, t=19.0)\n",
        "0%"
       ]
      },
      {
       "output_type": "stream",
       "stream": "stdout",
       "text": [
        "\r",
        "dwell=  0.9"
       ]
      },
      {
       "output_type": "stream",
       "stream": "stdout",
       "text": [
        " updating position 31 of 59: (-0.6, -0.3, t=19.9)\n",
        "0%"
       ]
      },
      {
       "output_type": "stream",
       "stream": "stdout",
       "text": [
        "\r",
        "dwell=  1.0"
       ]
      },
      {
       "output_type": "stream",
       "stream": "stdout",
       "text": [
        " updating position 32 of 59: (-0.5, -0.6, t=20.9)\n",
        "0%"
       ]
      },
      {
       "output_type": "stream",
       "stream": "stdout",
       "text": [
        "\r",
        "dwell=  1.0"
       ]
      },
      {
       "output_type": "stream",
       "stream": "stdout",
       "text": [
        " updating position 33 of 59: (-0.3, -0.7, t=21.9)\n",
        "0%"
       ]
      },
      {
       "output_type": "stream",
       "stream": "stdout",
       "text": [
        "\r",
        "97%"
       ]
      },
      {
       "output_type": "stream",
       "stream": "stdout",
       "text": [
        "\r",
        "dwell=  1.1"
       ]
      },
      {
       "output_type": "stream",
       "stream": "stdout",
       "text": [
        " updating position 34 of 59: (0.0, -0.8, t=23.0)\n",
        "0%"
       ]
      },
      {
       "output_type": "stream",
       "stream": "stdout",
       "text": [
        "\r",
        "92%"
       ]
      },
      {
       "output_type": "stream",
       "stream": "stdout",
       "text": [
        "\r",
        "dwell=  1.1 updating position 35 of 59: (0.3, -0.7, t=24.1)\n",
        "0%"
       ]
      },
      {
       "output_type": "stream",
       "stream": "stdout",
       "text": [
        "\r",
        "88%"
       ]
      },
      {
       "output_type": "stream",
       "stream": "stdout",
       "text": [
        "\r",
        "dwell=  1.2"
       ]
      },
      {
       "output_type": "stream",
       "stream": "stdout",
       "text": [
        " updating position 36 of 59: (0.5, -0.6, t=25.3)\n",
        "0%"
       ]
      },
      {
       "output_type": "stream",
       "stream": "stdout",
       "text": [
        "\r",
        "84%"
       ]
      },
      {
       "output_type": "stream",
       "stream": "stdout",
       "text": [
        "\r",
        "dwell=  1.2"
       ]
      },
      {
       "output_type": "stream",
       "stream": "stdout",
       "text": [
        " updating position 37 of 59: (0.7, -0.4, t=26.5)\n",
        "0%"
       ]
      },
      {
       "output_type": "stream",
       "stream": "stdout",
       "text": [
        "\r",
        "80%"
       ]
      },
      {
       "output_type": "stream",
       "stream": "stdout",
       "text": [
        "\r",
        "dwell=  1.3"
       ]
      },
      {
       "output_type": "stream",
       "stream": "stdout",
       "text": [
        " updating position 38 of 59: (0.8, -0.2, t=27.8)\n",
        "0%"
       ]
      },
      {
       "output_type": "stream",
       "stream": "stdout",
       "text": [
        "\r",
        "77%"
       ]
      },
      {
       "output_type": "stream",
       "stream": "stdout",
       "text": [
        "\r",
        "dwell=  1.4"
       ]
      },
      {
       "output_type": "stream",
       "stream": "stdout",
       "text": [
        " updating position 39 of 59: (0.8, 0.1, t=29.1)\n",
        "0%"
       ]
      },
      {
       "output_type": "stream",
       "stream": "stdout",
       "text": [
        "\r",
        "73%"
       ]
      },
      {
       "output_type": "stream",
       "stream": "stdout",
       "text": [
        "\r",
        "dwell=  1.4"
       ]
      },
      {
       "output_type": "stream",
       "stream": "stdout",
       "text": [
        " updating position 40 of 59: (0.7, 0.3, t=30.5)\n",
        "0%"
       ]
      },
      {
       "output_type": "stream",
       "stream": "stdout",
       "text": [
        "\r",
        "71%"
       ]
      },
      {
       "output_type": "stream",
       "stream": "stdout",
       "text": [
        "\r",
        "dwell=  1.5"
       ]
      },
      {
       "output_type": "stream",
       "stream": "stdout",
       "text": [
        " updating position 41 of 59: (0.6, 0.6, t=32.0)\n",
        "0%"
       ]
      },
      {
       "output_type": "stream",
       "stream": "stdout",
       "text": [
        "\r",
        "68%"
       ]
      },
      {
       "output_type": "stream",
       "stream": "stdout",
       "text": [
        "\r",
        "dwell=  1.5"
       ]
      },
      {
       "output_type": "stream",
       "stream": "stdout",
       "text": [
        " updating position 42 of 59: (0.4, 0.7, t=33.5)\n",
        "0%"
       ]
      },
      {
       "output_type": "stream",
       "stream": "stdout",
       "text": [
        "\r",
        "65%"
       ]
      },
      {
       "output_type": "stream",
       "stream": "stdout",
       "text": [
        "\r",
        "dwell=  1.6"
       ]
      },
      {
       "output_type": "stream",
       "stream": "stdout",
       "text": [
        " updating position 43 of 59: (0.2, 0.8, t=35.1)\n",
        "0%"
       ]
      },
      {
       "output_type": "stream",
       "stream": "stdout",
       "text": [
        "\r",
        "63%"
       ]
      },
      {
       "output_type": "stream",
       "stream": "stdout",
       "text": [
        "\r",
        "dwell=  1.6"
       ]
      },
      {
       "output_type": "stream",
       "stream": "stdout",
       "text": [
        " updating position 44 of 59: (-0.1, 0.8, t=36.7)\n",
        "0%"
       ]
      },
      {
       "output_type": "stream",
       "stream": "stdout",
       "text": [
        "\r",
        "61%"
       ]
      },
      {
       "output_type": "stream",
       "stream": "stdout",
       "text": [
        "\r",
        "dwell=  1.7"
       ]
      },
      {
       "output_type": "stream",
       "stream": "stdout",
       "text": [
        " updating position 45 of 59: (-0.4, 0.8, t=38.4)\n",
        "0%"
       ]
      },
      {
       "output_type": "stream",
       "stream": "stdout",
       "text": [
        "\r",
        "59%"
       ]
      },
      {
       "output_type": "stream",
       "stream": "stdout",
       "text": [
        "\r",
        "dwell=  1.7"
       ]
      },
      {
       "output_type": "stream",
       "stream": "stdout",
       "text": [
        " updating position 46 of 59: (-0.6, 0.6, t=40.1)\n",
        "0%"
       ]
      },
      {
       "output_type": "stream",
       "stream": "stdout",
       "text": [
        "\r",
        "57%"
       ]
      },
      {
       "output_type": "stream",
       "stream": "stdout",
       "text": [
        "\r",
        "dwell=  1.8"
       ]
      },
      {
       "output_type": "stream",
       "stream": "stdout",
       "text": [
        " updating position 47 of 59: (-0.8, 0.5, t=41.9)\n",
        "0%"
       ]
      },
      {
       "output_type": "stream",
       "stream": "stdout",
       "text": [
        "\r",
        "55%"
       ]
      },
      {
       "output_type": "stream",
       "stream": "stdout",
       "text": [
        "\r",
        "dwell=  1.8"
       ]
      },
      {
       "output_type": "stream",
       "stream": "stdout",
       "text": [
        " updating position 48 of 59: (-0.9, 0.2, t=43.7)\n",
        "0%"
       ]
      },
      {
       "output_type": "stream",
       "stream": "stdout",
       "text": [
        "\r",
        "54%"
       ]
      },
      {
       "output_type": "stream",
       "stream": "stdout",
       "text": [
        "\r",
        "dwell=  1.9"
       ]
      },
      {
       "output_type": "stream",
       "stream": "stdout",
       "text": [
        " updating position 49 of 59: (-0.9, -0.0, t=45.6)\n",
        "0%"
       ]
      },
      {
       "output_type": "stream",
       "stream": "stdout",
       "text": [
        "\r",
        "52%"
       ]
      },
      {
       "output_type": "stream",
       "stream": "stdout",
       "text": [
        "\r",
        "dwell=  1.9"
       ]
      },
      {
       "output_type": "stream",
       "stream": "stdout",
       "text": [
        " updating position 50 of 59: (-0.9, -0.3, t=47.5)\n",
        "0%"
       ]
      },
      {
       "output_type": "stream",
       "stream": "stdout",
       "text": [
        "\r",
        "51%"
       ]
      },
      {
       "output_type": "stream",
       "stream": "stdout",
       "text": [
        "\r",
        "dwell=  2.0"
       ]
      },
      {
       "output_type": "stream",
       "stream": "stdout",
       "text": [
        " updating position 51 of 59: (-0.7, -0.5, t=49.5)\n",
        "0%"
       ]
      },
      {
       "output_type": "stream",
       "stream": "stdout",
       "text": [
        "\r",
        "50%"
       ]
      },
      {
       "output_type": "stream",
       "stream": "stdout",
       "text": [
        "\r",
        "dwell=  2.0"
       ]
      },
      {
       "output_type": "stream",
       "stream": "stdout",
       "text": [
        " updating position 52 of 59: (-0.6, -0.7, t=51.5)\n",
        "0%"
       ]
      },
      {
       "output_type": "stream",
       "stream": "stdout",
       "text": [
        "\r",
        "49%"
       ]
      },
      {
       "output_type": "stream",
       "stream": "stdout",
       "text": [
        "\r",
        "98%"
       ]
      },
      {
       "output_type": "stream",
       "stream": "stdout",
       "text": [
        "\r",
        "dwell=  2.1 updating position 53 of 59: (-0.4, -0.9, t=53.6)\n",
        "0%"
       ]
      },
      {
       "output_type": "stream",
       "stream": "stdout",
       "text": [
        "\r",
        "48%"
       ]
      },
      {
       "output_type": "stream",
       "stream": "stdout",
       "text": [
        "\r",
        "96%"
       ]
      },
      {
       "output_type": "stream",
       "stream": "stdout",
       "text": [
        "\r",
        "dwell=  2.1 updating position 54 of 59: (-0.1, -0.9, t=55.7)\n",
        "0%"
       ]
      },
      {
       "output_type": "stream",
       "stream": "stdout",
       "text": [
        "\r",
        "47%"
       ]
      },
      {
       "output_type": "stream",
       "stream": "stdout",
       "text": [
        "\r",
        "94%"
       ]
      },
      {
       "output_type": "stream",
       "stream": "stdout",
       "text": [
        "\r",
        "dwell=  2.1"
       ]
      },
      {
       "output_type": "stream",
       "stream": "stdout",
       "text": [
        " updating position 55 of 59: (0.2, -0.9, t=57.9)\n",
        "0%"
       ]
      },
      {
       "output_type": "stream",
       "stream": "stdout",
       "text": [
        "\r",
        "46%"
       ]
      },
      {
       "output_type": "stream",
       "stream": "stdout",
       "text": [
        "\r",
        "93%"
       ]
      },
      {
       "output_type": "stream",
       "stream": "stdout",
       "text": [
        "\r",
        "dwell=  2.2"
       ]
      },
      {
       "output_type": "stream",
       "stream": "stdout",
       "text": [
        " updating position 56 of 59: (0.4, -0.9, t=60.1)\n",
        "0%"
       ]
      },
      {
       "output_type": "stream",
       "stream": "stdout",
       "text": [
        "\r",
        "45%"
       ]
      },
      {
       "output_type": "stream",
       "stream": "stdout",
       "text": [
        "\r",
        "91%"
       ]
      },
      {
       "output_type": "stream",
       "stream": "stdout",
       "text": [
        "\r",
        "dwell=  2.2"
       ]
      },
      {
       "output_type": "stream",
       "stream": "stdout",
       "text": [
        " updating position 57 of 59: (0.6, -0.7, t=62.3)\n",
        "0%"
       ]
      },
      {
       "output_type": "stream",
       "stream": "stdout",
       "text": [
        "\r",
        "45%"
       ]
      },
      {
       "output_type": "stream",
       "stream": "stdout",
       "text": [
        "\r",
        "90%"
       ]
      },
      {
       "output_type": "stream",
       "stream": "stdout",
       "text": [
        "\r",
        "dwell=  2.3"
       ]
      },
      {
       "output_type": "stream",
       "stream": "stdout",
       "text": [
        " updating position 58 of 59: (0.8, -0.5, t=64.6)\n",
        "0%"
       ]
      },
      {
       "output_type": "stream",
       "stream": "stdout",
       "text": [
        "\r",
        "44%"
       ]
      },
      {
       "output_type": "stream",
       "stream": "stdout",
       "text": [
        "\r",
        "88%"
       ]
      },
      {
       "output_type": "stream",
       "stream": "stdout",
       "text": [
        "\r",
        "dwell=  2.3"
       ]
      },
      {
       "output_type": "stream",
       "stream": "stdout",
       "text": [
        " updating position 59 of 59: (0.9, -0.3, t=66.9)\n",
        "0%"
       ]
      },
      {
       "output_type": "stream",
       "stream": "stdout",
       "text": [
        "\r",
        "43%"
       ]
      },
      {
       "output_type": "stream",
       "stream": "stdout",
       "text": [
        "\r",
        "87%"
       ]
      },
      {
       "output_type": "stream",
       "stream": "stdout",
       "text": [
        "\r"
       ]
      }
     ],
     "prompt_number": 19
    },
    {
     "cell_type": "code",
     "collapsed": false,
     "input": [
      "CEM1vsTime.shape"
     ],
     "language": "python",
     "metadata": {},
     "outputs": [
      {
       "metadata": {},
       "output_type": "pyout",
       "prompt_number": 24,
       "text": [
        "(59, 90, 90, 20)"
       ]
      }
     ],
     "prompt_number": 24
    },
    {
     "cell_type": "code",
     "collapsed": false,
     "input": [
      "fig=plt.figure(figsize=(16,7))\n",
      "ax1=fig.add_subplot(141)\n",
      "im1=ax1.imshow(np.transpose(Tmax0[:,:,focplaneZpix]), cmap=image.cm.hot, origin='lower', extent=[100*xrp[0], 100*xrp[-1], 100*yrp[0], 100*yrp[-1]])\n",
      "ax1.plot(x0,y0)\n",
      "\n",
      "ax2=fig.add_subplot(142)\n",
      "im2=ax2.imshow(np.transpose(Tmax0[:,floor(Ny/2),:]), cmap=image.cm.hot, origin='lower', extent=[100*xrp[0], 100*xrp[-1], 100*zrp[0], 100*zrp[-1]])\n",
      "\n",
      "ax3=fig.add_subplot(143)\n",
      "im3=ax3.imshow(np.transpose(CEM0vsTimevsPass[0][-1,:,:,focplaneZpix]), vmin=0,vmax=240, cmap=image.cm.hot, origin='lower', extent=[100*xrp[0], 100*xrp[-1], 100*yrp[0], 100*yrp[-1]])\n",
      "\n",
      "ax4=fig.add_subplot(144)\n",
      "im4=ax4.imshow(np.transpose(CEM0vsTimevsPass[0][-1,:,floor(Ny/2),:]), vmin=0,vmax=240, cmap=image.cm.hot, origin='lower', extent=[100*xrp[0], 100*xrp[-1], 100*zrp[0], 100*zrp[-1]])\n",
      "\n",
      "\n",
      "cb1=plt.colorbar(mappable=im1, ax=ax1, orientation='vertical')\n",
      "cb2=plt.colorbar(mappable=im2, ax=ax2, orientation='vertical')\n",
      "cb3=plt.colorbar(mappable=im3, ax=ax3, orientation='horizontal')\n",
      "cb4=plt.colorbar(mappable=im4, ax=ax4, orientation='horizontal')\n",
      "cb1.set_label('C')\n",
      "cb2.set_label('C')\n",
      "cb3.set_label('CEM')\n",
      "cb4.set_label('CEM')"
     ],
     "language": "python",
     "metadata": {},
     "outputs": [
      {
       "metadata": {},
       "output_type": "display_data",
       "png": "[encoded data removed]",
       "text": [
        "<matplotlib.figure.Figure at 0x1dcb1128>"
       ]
      }
     ],
     "prompt_number": 24
    },
    {
     "cell_type": "heading",
     "level": 1,
     "metadata": {},
     "source": [
      "Sonication 1"
     ]
    },
    {
     "cell_type": "code",
     "collapsed": false,
     "input": [
      "CEM1passFinal = np.zeros([npass1,Nx,Ny,Nz])\n",
      "Tmax1passFinal = np.zeros([npass1,Nx,Ny,Nz])\n",
      "T1passFinal = np.zeros([npass1,Nx,Ny,Nz])\n",
      "CEM1vsTimevsPass = np.zeros([npass1,nacq,Nx,Ny,Nz])\n",
      "sonicationEndTimesvsPass = np.zeros([npass1, nacq])"
     ],
     "language": "python",
     "metadata": {},
     "outputs": [],
     "prompt_number": 18
    },
    {
     "cell_type": "code",
     "collapsed": false,
     "input": [
      "del CEM1passFinal, Tmax1passFinal, T1passFinal, CEM1vsTimevsPass, sonicationEndTimesvsPass"
     ],
     "language": "python",
     "metadata": {},
     "outputs": [],
     "prompt_number": 196
    },
    {
     "cell_type": "code",
     "collapsed": false,
     "input": [
      "pi*rmax**2"
     ],
     "language": "python",
     "metadata": {},
     "outputs": [
      {
       "metadata": {},
       "output_type": "pyout",
       "prompt_number": 103,
       "text": [
        "3.141592653589793"
       ]
      }
     ],
     "prompt_number": 103
    },
    {
     "cell_type": "code",
     "collapsed": false,
     "input": [
      "\n",
      "T[0][:]=37\n",
      "CEM1[:]=0\n",
      "CEM1vsTime[0][:]=0\n",
      "Tmax1[:]=0\n",
      "\n",
      "endTime=0.0;\n",
      "for n in range(0,npass1):\n",
      "    print('pass # ', n+1)\n",
      "    \n",
      "    Tmax1, sonicationEndTimes =sonication_heating_physical_move(t1, coords1Rn[n], uamp1adj, CEM1, CEM1vsTime, Tmax=Tmax1, timeZero=endTime);\n",
      "    Tfinal1 = T[0].copy()\n",
      "    \n",
      "    CEM1passFinal[n] = CEM1;\n",
      "    Tmax1passFinal[n] = Tmax1\n",
      "    T1passFinal[n] = Tfinal1\n",
      "    CEM1vsTimevsPass[n] = CEM1vsTime;\n",
      "    sonicationEndTimesvsPass[n] = sonicationEndTimes\n",
      "    \n",
      "    endTime = sonicationEndTimes[-1];\n",
      "    "
     ],
     "language": "python",
     "metadata": {},
     "outputs": [
      {
       "output_type": "stream",
       "stream": "stdout",
       "text": [
        "pass #  1\n",
        "dwell= 30.0"
       ]
      },
      {
       "output_type": "stream",
       "stream": "stdout",
       "text": [
        " updating position 1 of 59: (0.0, 0.0, t= 0.0)\n",
        "0%"
       ]
      },
      {
       "output_type": "stream",
       "stream": "stdout",
       "text": [
        "\r",
        "3%"
       ]
      },
      {
       "output_type": "stream",
       "stream": "stdout",
       "text": [
        "\r",
        "6%"
       ]
      },
      {
       "output_type": "stream",
       "stream": "stdout",
       "text": [
        "\r",
        "10%"
       ]
      },
      {
       "output_type": "stream",
       "stream": "stdout",
       "text": [
        "\r",
        "13%"
       ]
      },
      {
       "output_type": "stream",
       "stream": "stdout",
       "text": [
        "\r",
        "16%"
       ]
      },
      {
       "output_type": "stream",
       "stream": "stdout",
       "text": [
        "\r",
        "20%"
       ]
      },
      {
       "output_type": "stream",
       "stream": "stdout",
       "text": [
        "\r",
        "23%"
       ]
      },
      {
       "output_type": "stream",
       "stream": "stdout",
       "text": [
        "\r",
        "26%"
       ]
      },
      {
       "output_type": "stream",
       "stream": "stdout",
       "text": [
        "\r",
        "30%"
       ]
      },
      {
       "output_type": "stream",
       "stream": "stdout",
       "text": [
        "\r",
        "33%"
       ]
      },
      {
       "output_type": "stream",
       "stream": "stdout",
       "text": [
        "\r",
        "36%"
       ]
      },
      {
       "output_type": "stream",
       "stream": "stdout",
       "text": [
        "\r",
        "40%"
       ]
      },
      {
       "output_type": "stream",
       "stream": "stdout",
       "text": [
        "\r",
        "43%"
       ]
      },
      {
       "output_type": "stream",
       "stream": "stdout",
       "text": [
        "\r",
        "46%"
       ]
      },
      {
       "output_type": "stream",
       "stream": "stdout",
       "text": [
        "\r",
        "50%"
       ]
      },
      {
       "output_type": "stream",
       "stream": "stdout",
       "text": [
        "\r",
        "53%"
       ]
      },
      {
       "output_type": "stream",
       "stream": "stdout",
       "text": [
        "\r",
        "56%"
       ]
      },
      {
       "output_type": "stream",
       "stream": "stdout",
       "text": [
        "\r",
        "60%"
       ]
      },
      {
       "output_type": "stream",
       "stream": "stdout",
       "text": [
        "\r",
        "63%"
       ]
      },
      {
       "output_type": "stream",
       "stream": "stdout",
       "text": [
        "\r",
        "66%"
       ]
      },
      {
       "output_type": "stream",
       "stream": "stdout",
       "text": [
        "\r",
        "70%"
       ]
      },
      {
       "output_type": "stream",
       "stream": "stdout",
       "text": [
        "\r",
        "73%"
       ]
      },
      {
       "output_type": "stream",
       "stream": "stdout",
       "text": [
        "\r",
        "76%"
       ]
      },
      {
       "output_type": "stream",
       "stream": "stdout",
       "text": [
        "\r",
        "80%"
       ]
      },
      {
       "output_type": "stream",
       "stream": "stdout",
       "text": [
        "\r",
        "83%"
       ]
      },
      {
       "output_type": "stream",
       "stream": "stdout",
       "text": [
        "\r",
        "86%"
       ]
      },
      {
       "output_type": "stream",
       "stream": "stdout",
       "text": [
        "\r",
        "90%"
       ]
      },
      {
       "output_type": "stream",
       "stream": "stdout",
       "text": [
        "\r",
        "93%"
       ]
      },
      {
       "output_type": "stream",
       "stream": "stdout",
       "text": [
        "\r",
        "96%"
       ]
      },
      {
       "output_type": "stream",
       "stream": "stdout",
       "text": [
        "\r",
        "dwell= 24.2"
       ]
      },
      {
       "output_type": "stream",
       "stream": "stdout",
       "text": [
        " updating position 2 of 59: (-0.1, -0.1, t=30.0)\n",
        "0%"
       ]
      },
      {
       "output_type": "stream",
       "stream": "stdout",
       "text": [
        "\r",
        "4%"
       ]
      },
      {
       "output_type": "stream",
       "stream": "stdout",
       "text": [
        "\r",
        "8%"
       ]
      },
      {
       "output_type": "stream",
       "stream": "stdout",
       "text": [
        "\r",
        "12%"
       ]
      },
      {
       "output_type": "stream",
       "stream": "stdout",
       "text": [
        "\r",
        "16%"
       ]
      },
      {
       "output_type": "stream",
       "stream": "stdout",
       "text": [
        "\r",
        "20%"
       ]
      },
      {
       "output_type": "stream",
       "stream": "stdout",
       "text": [
        "\r",
        "24%"
       ]
      },
      {
       "output_type": "stream",
       "stream": "stdout",
       "text": [
        "\r",
        "28%"
       ]
      },
      {
       "output_type": "stream",
       "stream": "stdout",
       "text": [
        "\r",
        "32%"
       ]
      },
      {
       "output_type": "stream",
       "stream": "stdout",
       "text": [
        "\r",
        "37%"
       ]
      },
      {
       "output_type": "stream",
       "stream": "stdout",
       "text": [
        "\r",
        "41%"
       ]
      },
      {
       "output_type": "stream",
       "stream": "stdout",
       "text": [
        "\r",
        "45%"
       ]
      },
      {
       "output_type": "stream",
       "stream": "stdout",
       "text": [
        "\r",
        "49%"
       ]
      },
      {
       "output_type": "stream",
       "stream": "stdout",
       "text": [
        "\r",
        "53%"
       ]
      },
      {
       "output_type": "stream",
       "stream": "stdout",
       "text": [
        "\r",
        "57%"
       ]
      },
      {
       "output_type": "stream",
       "stream": "stdout",
       "text": [
        "\r",
        "61%"
       ]
      },
      {
       "output_type": "stream",
       "stream": "stdout",
       "text": [
        "\r",
        "65%"
       ]
      },
      {
       "output_type": "stream",
       "stream": "stdout",
       "text": [
        "\r",
        "70%"
       ]
      },
      {
       "output_type": "stream",
       "stream": "stdout",
       "text": [
        "\r",
        "74%"
       ]
      },
      {
       "output_type": "stream",
       "stream": "stdout",
       "text": [
        "\r",
        "78%"
       ]
      },
      {
       "output_type": "stream",
       "stream": "stdout",
       "text": [
        "\r",
        "82%"
       ]
      },
      {
       "output_type": "stream",
       "stream": "stdout",
       "text": [
        "\r",
        "86%"
       ]
      },
      {
       "output_type": "stream",
       "stream": "stdout",
       "text": [
        "\r",
        "90%"
       ]
      },
      {
       "output_type": "stream",
       "stream": "stdout",
       "text": [
        "\r",
        "94%"
       ]
      },
      {
       "output_type": "stream",
       "stream": "stdout",
       "text": [
        "\r",
        "98%"
       ]
      },
      {
       "output_type": "stream",
       "stream": "stdout",
       "text": [
        "\r",
        "dwell= 10.1"
       ]
      },
      {
       "output_type": "stream",
       "stream": "stdout",
       "text": [
        " updating position 3 of 59: (0.2, -0.1, t=54.3)\n",
        "0%"
       ]
      },
      {
       "output_type": "stream",
       "stream": "stdout",
       "text": [
        "\r",
        "9%"
       ]
      },
      {
       "output_type": "stream",
       "stream": "stdout",
       "text": [
        "\r",
        "19%"
       ]
      },
      {
       "output_type": "stream",
       "stream": "stdout",
       "text": [
        "\r",
        "29%"
       ]
      },
      {
       "output_type": "stream",
       "stream": "stdout",
       "text": [
        "\r",
        "39%"
       ]
      },
      {
       "output_type": "stream",
       "stream": "stdout",
       "text": [
        "\r",
        "49%"
       ]
      },
      {
       "output_type": "stream",
       "stream": "stdout",
       "text": [
        "\r",
        "59%"
       ]
      },
      {
       "output_type": "stream",
       "stream": "stdout",
       "text": [
        "\r",
        "69%"
       ]
      },
      {
       "output_type": "stream",
       "stream": "stdout",
       "text": [
        "\r",
        "79%"
       ]
      },
      {
       "output_type": "stream",
       "stream": "stdout",
       "text": [
        "\r",
        "89%"
       ]
      },
      {
       "output_type": "stream",
       "stream": "stdout",
       "text": [
        "\r",
        "99%"
       ]
      },
      {
       "output_type": "stream",
       "stream": "stdout",
       "text": [
        "\r",
        "dwell=  9.0 updating position 4 of 59: (0.2, 0.2, t=64.4)\n",
        "0%"
       ]
      },
      {
       "output_type": "stream",
       "stream": "stdout",
       "text": [
        "\r",
        "11%"
       ]
      },
      {
       "output_type": "stream",
       "stream": "stdout",
       "text": [
        "\r",
        "22%"
       ]
      },
      {
       "output_type": "stream",
       "stream": "stdout",
       "text": [
        "\r",
        "33%"
       ]
      },
      {
       "output_type": "stream",
       "stream": "stdout",
       "text": [
        "\r",
        "44%"
       ]
      },
      {
       "output_type": "stream",
       "stream": "stdout",
       "text": [
        "\r",
        "55%"
       ]
      },
      {
       "output_type": "stream",
       "stream": "stdout",
       "text": [
        "\r",
        "66%"
       ]
      },
      {
       "output_type": "stream",
       "stream": "stdout",
       "text": [
        "\r",
        "77%"
       ]
      },
      {
       "output_type": "stream",
       "stream": "stdout",
       "text": [
        "\r",
        "88%"
       ]
      },
      {
       "output_type": "stream",
       "stream": "stdout",
       "text": [
        "\r",
        "99%"
       ]
      },
      {
       "output_type": "stream",
       "stream": "stdout",
       "text": [
        "\r",
        "dwell=  8.0 updating position 5 of 59: (-0.1, 0.2, t=73.5)\n",
        "0%"
       ]
      },
      {
       "output_type": "stream",
       "stream": "stdout",
       "text": [
        "\r",
        "12%"
       ]
      },
      {
       "output_type": "stream",
       "stream": "stdout",
       "text": [
        "\r",
        "25%"
       ]
      },
      {
       "output_type": "stream",
       "stream": "stdout",
       "text": [
        "\r",
        "37%"
       ]
      },
      {
       "output_type": "stream",
       "stream": "stdout",
       "text": [
        "\r",
        "50%"
       ]
      },
      {
       "output_type": "stream",
       "stream": "stdout",
       "text": [
        "\r",
        "62%"
       ]
      },
      {
       "output_type": "stream",
       "stream": "stdout",
       "text": [
        "\r",
        "75%"
       ]
      },
      {
       "output_type": "stream",
       "stream": "stdout",
       "text": [
        "\r",
        "87%"
       ]
      },
      {
       "output_type": "stream",
       "stream": "stdout",
       "text": [
        "\r"
       ]
      },
      {
       "ename": "KeyboardInterrupt",
       "evalue": "",
       "output_type": "pyerr",
       "traceback": [
        "\u001b[1;31m---------------------------------------------------------------------------\u001b[0m\n\u001b[1;31mKeyboardInterrupt\u001b[0m                         Traceback (most recent call last)",
        "\u001b[1;32m<ipython-input-27-fdd6c4098d46>\u001b[0m in \u001b[0;36m<module>\u001b[1;34m()\u001b[0m\n\u001b[0;32m      9\u001b[0m     \u001b[0mprint\u001b[0m\u001b[1;33m(\u001b[0m\u001b[1;34m'pass # '\u001b[0m\u001b[1;33m,\u001b[0m \u001b[0mn\u001b[0m\u001b[1;33m+\u001b[0m\u001b[1;36m1\u001b[0m\u001b[1;33m)\u001b[0m\u001b[1;33m\u001b[0m\u001b[0m\n\u001b[0;32m     10\u001b[0m \u001b[1;33m\u001b[0m\u001b[0m\n\u001b[1;32m---> 11\u001b[1;33m     \u001b[0mTmax1\u001b[0m\u001b[1;33m,\u001b[0m \u001b[0msonicationEndTimes\u001b[0m \u001b[1;33m=\u001b[0m\u001b[0msonication_heating_physical_move\u001b[0m\u001b[1;33m(\u001b[0m\u001b[0mt1\u001b[0m\u001b[1;33m,\u001b[0m \u001b[0mcoords1Rn\u001b[0m\u001b[1;33m[\u001b[0m\u001b[0mn\u001b[0m\u001b[1;33m]\u001b[0m\u001b[1;33m,\u001b[0m \u001b[0muamp1adj\u001b[0m\u001b[1;33m,\u001b[0m \u001b[0mCEM1\u001b[0m\u001b[1;33m,\u001b[0m \u001b[0mCEM1vsTime\u001b[0m\u001b[1;33m,\u001b[0m \u001b[0mTmax\u001b[0m\u001b[1;33m=\u001b[0m\u001b[0mTmax1\u001b[0m\u001b[1;33m,\u001b[0m \u001b[0mtimeZero\u001b[0m\u001b[1;33m=\u001b[0m\u001b[0mendTime\u001b[0m\u001b[1;33m)\u001b[0m\u001b[1;33m;\u001b[0m\u001b[1;33m\u001b[0m\u001b[0m\n\u001b[0m\u001b[0;32m     12\u001b[0m     \u001b[0mTfinal1\u001b[0m \u001b[1;33m=\u001b[0m \u001b[0mT\u001b[0m\u001b[1;33m[\u001b[0m\u001b[1;36m0\u001b[0m\u001b[1;33m]\u001b[0m\u001b[1;33m.\u001b[0m\u001b[0mcopy\u001b[0m\u001b[1;33m(\u001b[0m\u001b[1;33m)\u001b[0m\u001b[1;33m\u001b[0m\u001b[0m\n\u001b[0;32m     13\u001b[0m \u001b[1;33m\u001b[0m\u001b[0m\n",
        "\u001b[1;32m<ipython-input-4-83e560db96f4>\u001b[0m in \u001b[0;36msonication_heating_physical_move\u001b[1;34m(xdcTimes, xdcPoints, uamp, CEM, CEMvst, Tmax, frad, timeZero)\u001b[0m\n\u001b[0;32m    106\u001b[0m \u001b[1;33m\u001b[0m\u001b[0m\n\u001b[0;32m    107\u001b[0m \u001b[1;33m\u001b[0m\u001b[0m\n\u001b[1;32m--> 108\u001b[1;33m             \u001b[0mTmax\u001b[0m\u001b[1;33m,\u001b[0m \u001b[0mduration\u001b[0m \u001b[1;33m=\u001b[0m \u001b[0msonication_heating\u001b[0m\u001b[1;33m(\u001b[0m\u001b[0mT\u001b[0m\u001b[1;33m,\u001b[0m \u001b[0mTdot\u001b[0m\u001b[1;33m,\u001b[0m \u001b[0mCEM\u001b[0m\u001b[1;33m,\u001b[0m \u001b[0mdwell\u001b[0m\u001b[1;33m,\u001b[0m \u001b[0mTmax\u001b[0m\u001b[1;33m=\u001b[0m\u001b[0mTmax\u001b[0m \u001b[1;33m)\u001b[0m\u001b[1;33m\u001b[0m\u001b[0m\n\u001b[0m\u001b[0;32m    109\u001b[0m \u001b[1;33m\u001b[0m\u001b[0m\n\u001b[0;32m    110\u001b[0m         \u001b[1;32melse\u001b[0m\u001b[1;33m:\u001b[0m\u001b[1;33m\u001b[0m\u001b[0m\n",
        "\u001b[1;32m<ipython-input-4-83e560db96f4>\u001b[0m in \u001b[0;36msonication_heating\u001b[1;34m(T, Tdot, CEM, duration, T0, CEMinit, Tmax)\u001b[0m\n\u001b[0;32m     35\u001b[0m \u001b[1;33m\u001b[0m\u001b[0m\n\u001b[0;32m     36\u001b[0m \u001b[1;33m\u001b[0m\u001b[0m\n\u001b[1;32m---> 37\u001b[1;33m         \u001b[0mPBHEswig\u001b[0m\u001b[1;33m.\u001b[0m\u001b[0mpbheSolve\u001b[0m\u001b[1;33m(\u001b[0m\u001b[1;36m0\u001b[0m\u001b[1;33m,\u001b[0m\u001b[0mdt\u001b[0m\u001b[1;33m,\u001b[0m\u001b[0mdx\u001b[0m\u001b[1;33m,\u001b[0m\u001b[0mdy\u001b[0m\u001b[1;33m,\u001b[0m\u001b[0mdz\u001b[0m\u001b[1;33m,\u001b[0m \u001b[0mTmesh\u001b[0m\u001b[1;33m,\u001b[0m \u001b[0mTdotmesh\u001b[0m\u001b[1;33m,\u001b[0m \u001b[0mkmesh\u001b[0m\u001b[1;33m,\u001b[0m \u001b[0mrhoCpmesh\u001b[0m\u001b[1;33m,\u001b[0m \u001b[1;36m37.0\u001b[0m\u001b[1;33m,\u001b[0m \u001b[0mperfRate\u001b[0m\u001b[1;33m,\u001b[0m\u001b[1;36m0\u001b[0m\u001b[1;33m,\u001b[0m\u001b[0mbuffsize\u001b[0m\u001b[1;33m-\u001b[0m\u001b[1;36m1\u001b[0m \u001b[1;33m)\u001b[0m\u001b[1;33m\u001b[0m\u001b[0m\n\u001b[0m\u001b[0;32m     38\u001b[0m         \u001b[0mRbase\u001b[0m\u001b[1;33m[\u001b[0m\u001b[1;33m:\u001b[0m\u001b[1;33m]\u001b[0m\u001b[1;33m=\u001b[0m\u001b[1;36m4\u001b[0m\u001b[1;33m\u001b[0m\u001b[0m\n\u001b[0;32m     39\u001b[0m         \u001b[0mRbase\u001b[0m\u001b[1;33m[\u001b[0m\u001b[0mnp\u001b[0m\u001b[1;33m.\u001b[0m\u001b[0mwhere\u001b[0m\u001b[1;33m(\u001b[0m\u001b[0mT\u001b[0m\u001b[1;33m[\u001b[0m\u001b[1;36m0\u001b[0m\u001b[1;33m:\u001b[0m\u001b[1;33m,\u001b[0m\u001b[0mbuffsize\u001b[0m\u001b[1;33m]\u001b[0m \u001b[1;33m>\u001b[0m \u001b[1;36m43.0\u001b[0m\u001b[1;33m,\u001b[0m \u001b[1;32mTrue\u001b[0m\u001b[1;33m,\u001b[0m \u001b[1;32mFalse\u001b[0m\u001b[1;33m)\u001b[0m\u001b[1;33m]\u001b[0m \u001b[1;33m=\u001b[0m \u001b[1;36m2\u001b[0m\u001b[1;33m\u001b[0m\u001b[0m\n",
        "\u001b[1;31mKeyboardInterrupt\u001b[0m: "
       ]
      }
     ],
     "prompt_number": 27
    },
    {
     "cell_type": "code",
     "collapsed": false,
     "input": [
      "passnum=1\n",
      "fig=plt.figure(figsize=(16,7))\n",
      "ax1=fig.add_subplot(141)\n",
      "im1=ax1.imshow(np.transpose(T1passFinal[passnum][:,:,focplaneZpix]), vmin=37,vmax=48, cmap=image.cm.hot, origin='lower', extent=[100*xrp[0], 100*xrp[-1], 100*yrp[0], 100*yrp[-1]])\n",
      "ax1.plot(x1,y1)\n",
      "\n",
      "\n",
      "ax2=fig.add_subplot(142)\n",
      "im2=ax2.imshow(np.transpose(T1passFinal[passnum][:,floor(Ny/2),:]), vmin=37,vmax=48, cmap=image.cm.hot, origin='lower', extent=[100*xrp[0], 100*xrp[-1], 100*zrp[0], 100*zrp[-1]])\n",
      "\n",
      "ax3=fig.add_subplot(143)\n",
      "im3=ax3.imshow(np.transpose(CEM1vsTimevsPass[passnum][-1, :,:,focplaneZpix]), vmin=0,vmax=240, cmap=image.cm.hot, origin='lower', extent=[100*xrp[0], 100*xrp[-1], 100*yrp[0], 100*yrp[-1]])\n",
      "ax3.plot(x1,y1)\n",
      "ax4=fig.add_subplot(144)\n",
      "im4=ax4.imshow(np.transpose(CEM1vsTimevsPass[passnum][-1, :,floor(Ny/2),:]), vmin=0,vmax=240, cmap=image.cm.hot, origin='lower', extent=[100*xrp[0], 100*xrp[-1], 100*zrp[0], 100*zrp[-1]])\n",
      "\n",
      "\n",
      "cb1=plt.colorbar(mappable=im1, ax=ax1, orientation='vertical')\n",
      "cb2=plt.colorbar(mappable=im2, ax=ax2, orientation='vertical')\n",
      "cb3=plt.colorbar(mappable=im3, ax=ax3, orientation='horizontal')\n",
      "cb4=plt.colorbar(mappable=im4, ax=ax4, orientation='horizontal')\n",
      "cb1.set_label('C')\n",
      "cb2.set_label('C')\n",
      "cb3.set_label('CEM')\n",
      "cb4.set_label('CEM')\n"
     ],
     "language": "python",
     "metadata": {},
     "outputs": [
      {
       "ename": "NameError",
       "evalue": "name 'T1passFinal' is not defined",
       "output_type": "pyerr",
       "traceback": [
        "\u001b[1;31m---------------------------------------------------------------------------\u001b[0m\n\u001b[1;31mNameError\u001b[0m                                 Traceback (most recent call last)",
        "\u001b[1;32m<ipython-input-8-967673c86f2a>\u001b[0m in \u001b[0;36m<module>\u001b[1;34m()\u001b[0m\n\u001b[0;32m      2\u001b[0m \u001b[0mfig\u001b[0m\u001b[1;33m=\u001b[0m\u001b[0mplt\u001b[0m\u001b[1;33m.\u001b[0m\u001b[0mfigure\u001b[0m\u001b[1;33m(\u001b[0m\u001b[0mfigsize\u001b[0m\u001b[1;33m=\u001b[0m\u001b[1;33m(\u001b[0m\u001b[1;36m16\u001b[0m\u001b[1;33m,\u001b[0m\u001b[1;36m7\u001b[0m\u001b[1;33m)\u001b[0m\u001b[1;33m)\u001b[0m\u001b[1;33m\u001b[0m\u001b[0m\n\u001b[0;32m      3\u001b[0m \u001b[0max1\u001b[0m\u001b[1;33m=\u001b[0m\u001b[0mfig\u001b[0m\u001b[1;33m.\u001b[0m\u001b[0madd_subplot\u001b[0m\u001b[1;33m(\u001b[0m\u001b[1;36m141\u001b[0m\u001b[1;33m)\u001b[0m\u001b[1;33m\u001b[0m\u001b[0m\n\u001b[1;32m----> 4\u001b[1;33m \u001b[0mim1\u001b[0m\u001b[1;33m=\u001b[0m\u001b[0max1\u001b[0m\u001b[1;33m.\u001b[0m\u001b[0mimshow\u001b[0m\u001b[1;33m(\u001b[0m\u001b[0mnp\u001b[0m\u001b[1;33m.\u001b[0m\u001b[0mtranspose\u001b[0m\u001b[1;33m(\u001b[0m\u001b[0mT1passFinal\u001b[0m\u001b[1;33m[\u001b[0m\u001b[0mpassnum\u001b[0m\u001b[1;33m]\u001b[0m\u001b[1;33m[\u001b[0m\u001b[1;33m:\u001b[0m\u001b[1;33m,\u001b[0m\u001b[1;33m:\u001b[0m\u001b[1;33m,\u001b[0m\u001b[0mfocplaneZpix\u001b[0m\u001b[1;33m]\u001b[0m\u001b[1;33m)\u001b[0m\u001b[1;33m,\u001b[0m \u001b[0mvmin\u001b[0m\u001b[1;33m=\u001b[0m\u001b[1;36m37\u001b[0m\u001b[1;33m,\u001b[0m\u001b[0mvmax\u001b[0m\u001b[1;33m=\u001b[0m\u001b[1;36m48\u001b[0m\u001b[1;33m,\u001b[0m \u001b[0mcmap\u001b[0m\u001b[1;33m=\u001b[0m\u001b[0mimage\u001b[0m\u001b[1;33m.\u001b[0m\u001b[0mcm\u001b[0m\u001b[1;33m.\u001b[0m\u001b[0mhot\u001b[0m\u001b[1;33m,\u001b[0m \u001b[0morigin\u001b[0m\u001b[1;33m=\u001b[0m\u001b[1;34m'lower'\u001b[0m\u001b[1;33m,\u001b[0m \u001b[0mextent\u001b[0m\u001b[1;33m=\u001b[0m\u001b[1;33m[\u001b[0m\u001b[1;36m100\u001b[0m\u001b[1;33m*\u001b[0m\u001b[0mxrp\u001b[0m\u001b[1;33m[\u001b[0m\u001b[1;36m0\u001b[0m\u001b[1;33m]\u001b[0m\u001b[1;33m,\u001b[0m \u001b[1;36m100\u001b[0m\u001b[1;33m*\u001b[0m\u001b[0mxrp\u001b[0m\u001b[1;33m[\u001b[0m\u001b[1;33m-\u001b[0m\u001b[1;36m1\u001b[0m\u001b[1;33m]\u001b[0m\u001b[1;33m,\u001b[0m \u001b[1;36m100\u001b[0m\u001b[1;33m*\u001b[0m\u001b[0myrp\u001b[0m\u001b[1;33m[\u001b[0m\u001b[1;36m0\u001b[0m\u001b[1;33m]\u001b[0m\u001b[1;33m,\u001b[0m \u001b[1;36m100\u001b[0m\u001b[1;33m*\u001b[0m\u001b[0myrp\u001b[0m\u001b[1;33m[\u001b[0m\u001b[1;33m-\u001b[0m\u001b[1;36m1\u001b[0m\u001b[1;33m]\u001b[0m\u001b[1;33m]\u001b[0m\u001b[1;33m)\u001b[0m\u001b[1;33m\u001b[0m\u001b[0m\n\u001b[0m\u001b[0;32m      5\u001b[0m \u001b[0max1\u001b[0m\u001b[1;33m.\u001b[0m\u001b[0mplot\u001b[0m\u001b[1;33m(\u001b[0m\u001b[0mx1\u001b[0m\u001b[1;33m,\u001b[0m\u001b[0my1\u001b[0m\u001b[1;33m)\u001b[0m\u001b[1;33m\u001b[0m\u001b[0m\n\u001b[0;32m      6\u001b[0m \u001b[1;33m\u001b[0m\u001b[0m\n",
        "\u001b[1;31mNameError\u001b[0m: name 'T1passFinal' is not defined"
       ]
      },
      {
       "metadata": {},
       "output_type": "display_data",
       "png": "[encoded data removed]",
       "text": [
        "<matplotlib.figure.Figure at 0x72b10b8>"
       ]
      }
     ],
     "prompt_number": 8
    },
    {
     "cell_type": "code",
     "collapsed": false,
     "input": [
      "plt.imshow(np.transpose(CEM1[:,:,focplaneZpix]), cmap=image.cm.hot, origin='lower', extent=[100*xrp[0], 100*xrp[-1], 100*yrp[0], 100*yrp[-1]])\n",
      "plt.colorbar() "
     ],
     "language": "python",
     "metadata": {},
     "outputs": [
      {
       "metadata": {},
       "output_type": "pyout",
       "prompt_number": 52,
       "text": [
        "<matplotlib.colorbar.Colorbar at 0x1511d908>"
       ]
      },
      {
       "metadata": {},
       "output_type": "display_data",
       "png": "[encoded data removed]",
       "text": [
        "<matplotlib.figure.Figure at 0x7339940>"
       ]
      }
     ],
     "prompt_number": 52
    },
    {
     "cell_type": "code",
     "collapsed": false,
     "input": [
      "passidx=0; passend=npass1-1;\n",
      "t1result = np.cumsum( sonicationEndTimesvsPass[:] );\n",
      "cemVolCurve=np.zeros_like(t1result);\n",
      "\n",
      "for n in range(0, passend-passidx+1):\n",
      "    passData = CEM1vsTimevsPass[n+passidx];\n",
      "    data = passData[:,:,:,roiVolumeZPix];\n",
      "    cemVolCurve[n*nacq:(n+1)*nacq] = 1e6*voxVol*np.sum(np.where(data >= 240.0, 1, 0 ), (1,2,3) );\n",
      "    \n",
      "passidx=0; passend=npass0-1;\n",
      "t0result = np.cumsum( sonicationEndTimesvsPass0[:] );\n",
      "cem0VolCurve=np.zeros_like(t0result);\n",
      "\n",
      "for n in range(0, passend-passidx+1):\n",
      "    passData = CEM0vsTimevsPass[n+passidx];\n",
      "    data = passData[:,:,:,roiVolumeZPix];\n",
      "    cem0VolCurve[n*nacq:(n+1)*nacq] = 1e6*voxVol*np.sum(np.where(data >= 240.0, 1, 0 ), (1,2,3) );\n",
      "      \n",
      "\n",
      "fig=plt.figure(figsize=(9,7))\n",
      "\n",
      "plt.plot(t1result, cemVolCurve, 'b')\n",
      "plt.plot(t0result, cem0VolCurve, 'k--')\n",
      "\n",
      "plt.xlabel('seconds', fontsize=16)\n",
      "plt.ylabel('Ablation volume [mL]', fontsize=16)"
     ],
     "language": "python",
     "metadata": {},
     "outputs": [
      {
       "metadata": {},
       "output_type": "pyout",
       "prompt_number": 251,
       "text": [
        "<matplotlib.text.Text at 0x171b26d8>"
       ]
      },
      {
       "metadata": {},
       "output_type": "display_data",
       "png": "[encoded data removed]",
       "text": [
        "<matplotlib.figure.Figure at 0x16e02898>"
       ]
      }
     ],
     "prompt_number": 251
    },
    {
     "cell_type": "code",
     "collapsed": false,
     "input": [
      "avgrate1=cemVolCurve[-1] / t1result[-1]"
     ],
     "language": "python",
     "metadata": {},
     "outputs": [],
     "prompt_number": 256
    },
    {
     "cell_type": "code",
     "collapsed": false,
     "input": [
      "avgrate0=cem0VolCurve[-1] / t0result[-1]"
     ],
     "language": "python",
     "metadata": {},
     "outputs": [],
     "prompt_number": 257
    },
    {
     "cell_type": "code",
     "collapsed": false,
     "input": [
      "avgrate1/avgrate0"
     ],
     "language": "python",
     "metadata": {},
     "outputs": [
      {
       "metadata": {},
       "output_type": "pyout",
       "prompt_number": 259,
       "text": [
        "1.1193635846558503"
       ]
      }
     ],
     "prompt_number": 259
    },
    {
     "cell_type": "code",
     "collapsed": false,
     "input": [
      "passidx=0; passend=npass1-1;\n",
      "t1result = np.cumsum( sonicationEndTimesvsPass[:] );\n",
      "t1result2 = t1result[-1]+np.cumsum( sonicationEndTimesvsPass[passidx+1] );\n",
      "cemVolCurve=np.zeros_like(t1result);\n",
      "cemVolCurve2=np.zeros_like(t1result2);\n",
      "\n",
      "for n in range(0, passend-passidx+1):\n",
      "    passData = CEM1vsTimevsPass[n+passidx];\n",
      "    data = passData[:,:,:,roiVolumeZPix];\n",
      "    cemVolCurve[n*nacq:(n+1)*nacq] = 1e6*voxVol*np.sum(np.where(data >= 240.0, 1, 0 ), (1,2,3) );"
     ],
     "language": "python",
     "metadata": {},
     "outputs": [],
     "prompt_number": 249
    },
    {
     "cell_type": "code",
     "collapsed": false,
     "input": [
      "np.sum(np.where(data >= 240.0, 1, 0 ), (1,2,3) ).shape"
     ],
     "language": "python",
     "metadata": {},
     "outputs": [
      {
       "metadata": {},
       "output_type": "pyout",
       "prompt_number": 248,
       "text": [
        "(59,)"
       ]
      }
     ],
     "prompt_number": 248
    },
    {
     "cell_type": "code",
     "collapsed": false,
     "input": [
      "cemVolCurve"
     ],
     "language": "python",
     "metadata": {},
     "outputs": [
      {
       "metadata": {},
       "output_type": "pyout",
       "prompt_number": 250,
       "text": [
        "array([ 0.0110608 ,  0.06682569,  0.08433863,  0.09539944,  0.11152978,\n",
        "        0.12581665,  0.13226879,  0.13595572,  0.13826005,  0.13964266,\n",
        "        0.14332959,  0.14747739,  0.15070346,  0.15346866,  0.1613034 ,\n",
        "        0.16452947,  0.16867727,  0.17005987,  0.17190333,  0.17605114,\n",
        "        0.1778946 ,  0.17881634,  0.18019894,  0.18250327,  0.18342501,\n",
        "        0.18526847,  0.18941628,  0.19586841,  0.19955535,  0.20278141,\n",
        "        0.20416401,  0.20646835,  0.21061615,  0.21384222,  0.21614655,\n",
        "        0.21752915,  0.22213782,  0.22997256,  0.23780729,  0.2502507 ,\n",
        "        0.25808544,  0.27237231,  0.29910259,  0.36500654,  0.43505831,\n",
        "        0.5032666 ,  0.56594449,  0.62447458,  0.6839264 ,  0.75536077,\n",
        "        0.84200373,  0.92081197,  0.98717679,  1.05768942,  1.10976737,\n",
        "        1.15539319,  1.20147988,  1.25355783,  1.31900092,  1.4222351 ,\n",
        "        1.43974804,  1.44896538,  1.45956531,  1.47293045,  1.48583472,\n",
        "        1.49919986,  1.51026067,  1.5208606 ,  1.53007794,  1.54113875,\n",
        "        1.55450388,  1.56879076,  1.58215589,  1.60197317,  1.61672091,\n",
        "        1.62547738,  1.63838165,  1.65312939,  1.66879886,  1.68999874,\n",
        "        1.70428561,  1.71626815,  1.72917242,  1.74023322,  1.7517549 ,\n",
        "        1.7641983 ,  1.77710257,  1.78724164,  1.79691985,  1.80798065,\n",
        "        1.82503272,  1.83701526,  1.85222387,  1.86789334,  1.88448455,\n",
        "        1.90061489,  1.91720609,  1.94577984,  1.96375365,  1.98495352,\n",
        "        2.0089186 ,  2.02873587,  2.04855315,  2.06468349,  2.08634423,\n",
        "        2.10938757,  2.13565698,  2.16146552,  2.1868132 ,  2.20663048,\n",
        "        2.23566509,  2.26101276,  2.29189084,  2.32276892,  2.35272527,\n",
        "        2.39051635,  2.42508136,  2.46010724,  2.50296786,  2.53476767,\n",
        "        2.56564575,  2.59468036,  2.62094977,  2.64399312,  2.67026253,\n",
        "        2.69238414,  2.71681008,  2.74538382,  2.76842717,  2.79423571,\n",
        "        2.81220952,  2.82880072,  2.8541484 ,  2.87580914,  2.89793075,\n",
        "        2.91406109,  2.9334175 ,  2.9513913 ,  2.97074771,  2.99379106,\n",
        "        3.0140692 ,  3.03665167,  3.05232114,  3.06199935,  3.07306015,\n",
        "        3.08412096,  3.09656436,  3.10762517,  3.12006857,  3.13251198,\n",
        "        3.14403365,  3.15232925,  3.16892046,  3.17721606,  3.187816  ,\n",
        "        3.19933767,  3.21132021,  3.22745055,  3.24312002,  3.25464169,\n",
        "        3.26800683,  3.27768503,  3.29243277,  3.30072838,  3.31040658,\n",
        "        3.32054565,  3.32930212,  3.33713686,  3.34497159,  3.3532672 ,\n",
        "        3.36064107,  3.36755407,  3.37769314,  3.38829308,  3.39612781,\n",
        "        3.40488428,  3.41271902,  3.41963202,  3.42792763,  3.4380667 ,\n",
        "        3.4463623 ,  3.45373617,  3.46341437,  3.47124911,  3.48000558,\n",
        "        3.48968379,  3.49982286,  3.50719673,  3.5145706 ,  3.5214836 ,\n",
        "        3.52885747,  3.53438787,  3.5380748 ,  3.54498781,  3.54821388,\n",
        "        3.55466601,  3.55881381,  3.56434421,  3.57033548,  3.57402242,\n",
        "        3.57817022,  3.58370062,  3.58877016,  3.59383969,  3.59660489,\n",
        "        3.60029183,  3.60536136,  3.61273523,  3.6159613 ,  3.6201091 ,\n",
        "        3.62563951,  3.63024817,  3.63531771,  3.63762204,  3.64223071,\n",
        "        3.64591765,  3.65144805,  3.65697845,  3.66020452,  3.66435232,\n",
        "        3.66711752,  3.67126532,  3.67679573,  3.68324786,  3.68739566,\n",
        "        3.69154347,  3.69707387,  3.70306514,  3.70536947,  3.70767381,\n",
        "        3.71182161,  3.71504767,  3.71781288,  3.72242154,  3.72564761,\n",
        "        3.72979541])"
       ]
      }
     ],
     "prompt_number": 250
    },
    {
     "cell_type": "code",
     "collapsed": false,
     "input": [
      "passnum=0\n",
      "fig=plt.figure(figsize=(16,7))\n",
      "\n",
      "ax0=fig.add_subplot(121)\n",
      "im0=ax0.imshow(np.transpose(CEM0vsTimevsPass[passnum][-1, :,:,focplaneZpix]), vmin=0,vmax=240, cmap=image.cm.hot, origin='lower', extent=[100*xrp[0], 100*xrp[-1], 100*yrp[0], 100*yrp[-1]])\n",
      "\n",
      "ax1=fig.add_subplot(122)\n",
      "im1=ax1.imshow(np.transpose(CEM1vsTimevsPass[passnum][-1, :,:,focplaneZpix]), vmin=0,vmax=240, cmap=image.cm.hot, origin='lower', extent=[100*xrp[0], 100*xrp[-1], 100*yrp[0], 100*yrp[-1]])\n",
      "\n",
      "ax0.plot(x0,y0, '.--')\n",
      "ax1.plot(x1,y1, '.--')\n",
      "\n",
      "ax0.set_xlabel('x cm', fontsize=16)\n",
      "ax0.set_ylabel('y cm', fontsize=16)\n",
      "ax1.set_xlabel('x cm', fontsize=16)\n",
      "ax1.set_ylabel('y cm', fontsize=16)\n",
      "\n",
      "cb3=plt.colorbar(mappable=im0, ax=ax0, orientation='horizontal')\n",
      "cb4=plt.colorbar(mappable=im1, ax=ax1, orientation='horizontal')\n",
      "cb3.set_label('CEM', fontsize=24)\n",
      "cb4.set_label('CEM', fontsize=24)\n"
     ],
     "language": "python",
     "metadata": {},
     "outputs": [
      {
       "metadata": {},
       "output_type": "display_data",
       "png": "[encoded data removed]",
       "text": [
        "<matplotlib.figure.Figure at 0x171b22b0>"
       ]
      }
     ],
     "prompt_number": 183
    },
    {
     "cell_type": "code",
     "collapsed": false,
     "input": [
      "passnum=0\n",
      "fig=plt.figure(figsize=(16,7))\n",
      "\n",
      "ax0=fig.add_subplot(121)\n",
      "im0=ax0.imshow(np.transpose(CEM0vsTimevsPass[passnum][-1, :,floor(Ny/2),:]), vmin=0,vmax=240, cmap=image.cm.hot, origin='lower', extent=[100*xrp[0], 100*xrp[-1], 100*zrp[0], 100*zrp[-1]])\n",
      "\n",
      "ax1=fig.add_subplot(122)\n",
      "im1=ax1.imshow(np.transpose(CEM1vsTimevsPass[passnum][-1, :,floor(Ny/2),:]), vmin=0,vmax=240, cmap=image.cm.hot, origin='lower', extent=[100*xrp[0], 100*xrp[-1], 100*zrp[0], 100*zrp[-1]])\n",
      "\n",
      "#ax0.plot(x0,y0, '.--')\n",
      "#ax1.plot(x1,y1, '.--')\n",
      "\n",
      "ax0.set_xlabel('x cm', fontsize=16)\n",
      "ax0.set_ylabel('z cm', fontsize=16)\n",
      "ax1.set_xlabel('x cm', fontsize=16)\n",
      "ax1.set_ylabel('z cm', fontsize=16)\n",
      "\n",
      "#cb3=plt.colorbar(mappable=im0, ax=ax0, orientation='horizontal')\n",
      "#cb4=plt.colorbar(mappable=im1, ax=ax1, orientation='horizontal')\n",
      "#cb3.set_label('CEM', fontsize=24)\n",
      "#cb4.set_label('CEM', fontsize=24)\n"
     ],
     "language": "python",
     "metadata": {},
     "outputs": [
      {
       "metadata": {},
       "output_type": "pyout",
       "prompt_number": 191,
       "text": [
        "<matplotlib.text.Text at 0x1933fcf8>"
       ]
      },
      {
       "metadata": {},
       "output_type": "display_data",
       "png": "[encoded data removed]",
       "text": [
        "<matplotlib.figure.Figure at 0x171cf908>"
       ]
      }
     ],
     "prompt_number": 191
    },
    {
     "cell_type": "code",
     "collapsed": false,
     "input": [
      "cemim = CEM1vsTime[58,:,:,focplaneZpix] -  CEM1vsTime[0,:,:,focplaneZpix];"
     ],
     "language": "python",
     "metadata": {},
     "outputs": [],
     "prompt_number": 59
    },
    {
     "cell_type": "code",
     "collapsed": false,
     "input": [
      "plt.imshow(np.transpose(cemim), vmin=0,vmax=240, cmap=image.cm.hot, origin='lower', extent=[100*xrp[0], 100*xrp[-1], 100*yrp[0], 100*yrp[-1]])\n"
     ],
     "language": "python",
     "metadata": {},
     "outputs": [
      {
       "metadata": {},
       "output_type": "pyout",
       "prompt_number": 61,
       "text": [
        "<matplotlib.image.AxesImage at 0x152b9f60>"
       ]
      },
      {
       "metadata": {},
       "output_type": "display_data",
       "png": "[encoded data removed]",
       "text": [
        "<matplotlib.figure.Figure at 0x15268978>"
       ]
      }
     ],
     "prompt_number": 61
    },
    {
     "cell_type": "code",
     "collapsed": false,
     "input": [
      "plt.imshow(np.transpose(CEM1vsTime[-1,:,Ny/2,:]), vmin=0,vmax=240, cmap=image.cm.hot, origin='lower', extent=[100*xrp[0], 100*xrp[-1], 100*zrp[0], 100*zrp[-1]])\n"
     ],
     "language": "python",
     "metadata": {},
     "outputs": [
      {
       "metadata": {},
       "output_type": "pyout",
       "prompt_number": 63,
       "text": [
        "<matplotlib.image.AxesImage at 0x165d4c88>"
       ]
      },
      {
       "metadata": {},
       "output_type": "display_data",
       "png": "[encoded data removed]",
       "text": [
        "<matplotlib.figure.Figure at 0x16593908>"
       ]
      }
     ],
     "prompt_number": 63
    },
    {
     "cell_type": "code",
     "collapsed": false,
     "input": [
      "plt.imshow(cemim)\n",
      "plt.colorbar()"
     ],
     "language": "python",
     "metadata": {},
     "outputs": [
      {
       "metadata": {},
       "output_type": "pyout",
       "prompt_number": 88,
       "text": [
        "<matplotlib.colorbar.Colorbar at 0x138e9cf8>"
       ]
      },
      {
       "metadata": {},
       "output_type": "display_data",
       "png": "[encoded data removed]",
       "text": [
        "<matplotlib.figure.Figure at 0x8867d68>"
       ]
      }
     ],
     "prompt_number": 88
    },
    {
     "cell_type": "code",
     "collapsed": false,
     "input": [
      "CEM0vsTimevsPass[passnum][-1].shape"
     ],
     "language": "python",
     "metadata": {},
     "outputs": [
      {
       "metadata": {},
       "output_type": "pyout",
       "prompt_number": 193,
       "text": [
        "(90, 90, 20)"
       ]
      }
     ],
     "prompt_number": 193
    },
    {
     "cell_type": "code",
     "collapsed": false,
     "input": [
      "h5name = \"C:\\\\Users\\\\Vandiver\\\\Documents\\\\HiFU\\\\code\\\\AblationSims\\\\cem_spiral_compare.hdf5\"\n",
      "\n",
      "f = h5py.File(h5name, \"w\")\n",
      "dset = f.create_dataset(\"CEM0\", data=CEM0vsTimevsPass[passnum][-1])\n",
      "\n",
      "dset.attrs['xp']=xrp\n",
      "dset.attrs['zp']=zrp\n",
      "dset.attrs['yp']=yrp\n",
      "\n",
      "f.flush()\n",
      "\n",
      "dset.attrs['Ispta0']=Ispta0\n",
      "dset.attrs['Ispta']=np.max(I1)\n",
      "\n",
      "dset1 = f.create_dataset(\"CEM1\", data=CEM1vsTimevsPass[passnum][-1])\n",
      "dset1.attrs['xp']=xrp\n",
      "dset1.attrs['zp']=zrp\n",
      "dset1.attrs['yp']=yrp\n",
      "\n",
      "f.close()"
     ],
     "language": "python",
     "metadata": {},
     "outputs": [],
     "prompt_number": 194
    },
    {
     "cell_type": "code",
     "collapsed": false,
     "input": [
      "h5name = \"C:\\\\Users\\\\Vandiver\\\\Documents\\\\HiFU\\code\\\\AblationSims\\\\cem0_to_cem1.hdf5\"\n",
      "\n",
      "f = h5py.File(h5name, \"w\")\n",
      "dset = f.create_dataset(\"CEM0\", data=CEM0)\n",
      "\n",
      "dset.attrs['xp']=xrp\n",
      "dset.attrs['zp']=zrp\n",
      "dset.attrs['yp']=yrp\n",
      "\n",
      "f.flush()\n",
      "\n",
      "dset1 = f.create_dataset(\"CEM1\", data=CEM1)\n",
      "dset1.attrs['xp']=xrp\n",
      "dset1.attrs['zp']=zrp\n",
      "dset1.attrs['yp']=yrp\n",
      "\n",
      "f.close()"
     ],
     "language": "python",
     "metadata": {},
     "outputs": []
    }
   ],
   "metadata": {}
  }
 ]
}