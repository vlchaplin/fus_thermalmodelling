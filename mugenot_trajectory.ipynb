{
 "metadata": {
  "name": "",
  "signature": "sha256:9d5fd1c85f75fe32b344a2a03b8ca200db70cc82ba3521d4b6713fa010832544"
 },
 "nbformat": 3,
 "nbformat_minor": 0,
 "worksheets": [
  {
   "cells": [
    {
     "cell_type": "code",
     "collapsed": false,
     "input": [
      "import h5py\n",
      "import sys\n",
      "import re\n",
      "import numpy as np\n",
      "import matplotlib.pyplot as plt\n",
      "from mpl_toolkits.mplot3d import Axes3D\n",
      "from matplotlib import collections\n",
      "from matplotlib import image\n",
      " \n",
      "from math import *;\n",
      "\n",
      "sys.path.append('C:\\\\Users\\\\vchaplin\\\\Documents\\\\HiFU\\code\\\\myPy')  \n",
      "sys.path.append('C:\\\\Users\\\\vchaplin\\\\Documents\\\\HiFU\\\\code\\\\AblationSims')\n",
      "sys.path.append('C:\\\\Users\\\\Vandiver\\\\Documents\\\\HiFU\\\\code\\\\BioHeatCpp\\\\PBHEswig\\\\x64')\n",
      "import ablation_utils\n",
      "import geom\n",
      "import sonalleve\n",
      "import transducers\n",
      "import PBHEswig\n",
      "from countlines import countlines\n",
      "\n",
      "\n",
      "%matplotlib inline"
     ],
     "language": "python",
     "metadata": {},
     "outputs": [],
     "prompt_number": 1
    },
    {
     "cell_type": "code",
     "collapsed": false,
     "input": [
      "db = 0.2\n",
      "da = .2\n",
      "\n",
      "ecc = db/da\n",
      "omega = .01\n",
      "t = np.arange(0,100,1.0)\n",
      "ksi = np.sqrt((4*pi*omega/(ecc*da*da))*t)\n",
      "\n",
      "\n",
      "x = da*(ksi/(2*pi))*np.cos(ksi)\n",
      "z = db*(ksi/(2*pi))*np.sin(ksi)"
     ],
     "language": "python",
     "metadata": {},
     "outputs": [],
     "prompt_number": 69
    },
    {
     "cell_type": "code",
     "collapsed": false,
     "input": [
      "plt.plot(x,z)"
     ],
     "language": "python",
     "metadata": {},
     "outputs": [
      {
       "metadata": {},
       "output_type": "pyout",
       "prompt_number": 70,
       "text": [
        "[<matplotlib.lines.Line2D at 0x1a90d2b0>]"
       ]
      },
      {
       "metadata": {},
       "output_type": "display_data",
       "png": "[encoded data removed]",
       "text": [
        "<matplotlib.figure.Figure at 0x1a8935c0>"
       ]
      }
     ],
     "prompt_number": 70
    },
    {
     "cell_type": "code",
     "collapsed": false,
     "input": [
      "z"
     ],
     "language": "python",
     "metadata": {},
     "outputs": [
      {
       "metadata": {},
       "output_type": "pyout",
       "prompt_number": 6,
       "text": [
        "0.0"
       ]
      }
     ],
     "prompt_number": 6
    },
    {
     "cell_type": "code",
     "collapsed": false,
     "input": [
      "t\n"
     ],
     "language": "python",
     "metadata": {},
     "outputs": [
      {
       "metadata": {},
       "output_type": "pyout",
       "prompt_number": 16,
       "text": [
        "array([ 0.])"
       ]
      }
     ],
     "prompt_number": 16
    },
    {
     "cell_type": "code",
     "collapsed": false,
     "input": [
      "np.arange(0,60,1.0)"
     ],
     "language": "python",
     "metadata": {},
     "outputs": [
      {
       "metadata": {},
       "output_type": "pyout",
       "prompt_number": 21,
       "text": [
        "array([  0.,   1.,   2.,   3.,   4.,   5.,   6.,   7.,   8.,   9.,  10.,\n",
        "        11.,  12.,  13.,  14.,  15.,  16.,  17.,  18.,  19.,  20.,  21.,\n",
        "        22.,  23.,  24.,  25.,  26.,  27.,  28.,  29.,  30.,  31.,  32.,\n",
        "        33.,  34.,  35.,  36.,  37.,  38.,  39.,  40.,  41.,  42.,  43.,\n",
        "        44.,  45.,  46.,  47.,  48.,  49.,  50.,  51.,  52.,  53.,  54.,\n",
        "        55.,  56.,  57.,  58.,  59.])"
       ]
      }
     ],
     "prompt_number": 21
    },
    {
     "cell_type": "code",
     "collapsed": false,
     "input": [
      "def sonication_heating(t,x,z,Iavg, CEM, CEMvst, Tmax=None):\n",
      "    Tdot[:] = 2.0*(alpha_acc)*Iavg / (rho*c0)\n",
      "    T[:] = 37\n",
      "    CEM[:]=0\n",
      "    if Tmax is None:\n",
      "        Tmax = np.zeros_like(CEM)\n",
      "    else:\n",
      "        Tmax[:]=0\n",
      "    CEMvst[:]=0\n",
      "    time=0\n",
      "    ti=0\n",
      "    while ti<nacq :\n",
      "\n",
      "        print( '%d%%' % (time/totalTime *100.0), end='\\r')\n",
      "\n",
      "        PBHEswig.pbheSolve(0,dt,dx,dy,dz, Tmesh, Tdotmesh, kmesh, rhoCpmesh, 37.0, perfRate,0,nnt-1 )\n",
      "        Rbase[:]=4\n",
      "        Rbase[np.where(T[0:,nnt] > 43.0, True, False)] = 2\n",
      "        \n",
      "        update = np.where(T[nnt-1] > Tmax, True, False)\n",
      "        Tmax[update] = T[nnt-1][update]\n",
      "\n",
      "                #time integrate to get the thermal dose\n",
      "        CEM[:] += (dt/60.0)*np.sum( Rbase**(T[0:nnt]-43), 0  )\n",
      "        CEMvst[ti] = CEM\n",
      "\n",
      "        ti+=1\n",
      "        time+=step\n",
      "        T[0] = T[nnt-1]\n",
      "        \n",
      "    return Tmax"
     ],
     "language": "python",
     "metadata": {},
     "outputs": []
    },
    {
     "cell_type": "heading",
     "level": 1,
     "metadata": {},
     "source": [
      "Simulation"
     ]
    },
    {
     "cell_type": "code",
     "collapsed": false,
     "input": [
      "uxyz = sonalleve.get_sonalleve_xdc_vecs()\n",
      "\n",
      "f0 = 1.2e6\n",
      "c0 = 1540\n",
      "k0 = 2.0*pi*(f0/c0)"
     ],
     "language": "python",
     "metadata": {},
     "outputs": [],
     "prompt_number": 52
    },
    {
     "cell_type": "heading",
     "level": 3,
     "metadata": {},
     "source": [
      "Grid / memory allocation"
     ]
    },
    {
     "cell_type": "heading",
     "level": 4,
     "metadata": {},
     "source": [
      "Grid-size"
     ]
    },
    {
     "cell_type": "code",
     "collapsed": false,
     "input": [
      "Nx = 80\n",
      "Ny = 80\n",
      "Nz = 20\n",
      "Nt = 6\n",
      "\n",
      "xrp = 1e-2*np.linspace(-1,1,Nx)\n",
      "yrp = 1e-2*np.linspace(-1,1,Ny)\n",
      "zrp = 1e-2*np.linspace(11,17,Nz)\n",
      "\n",
      "dx = xrp[1]-xrp[0]\n",
      "dy = yrp[1]-yrp[0]\n",
      "dz = zrp[1]-zrp[0]\n",
      "\n",
      "dt = 0.1\n",
      "res = np.array([dt,dx,dy,dz])\n",
      "voxVol=dx*dy*dz\n",
      "\n",
      "zplane=0.14\n",
      "focplaneZpix=np.where(np.logical_and( (zrp[1:-1]-zplane>0) , (zrp[0:-2]-zplane<0) ))[0][0]\n",
      "\n",
      "roiVolumeZPix = np.where(np.logical_and( (zrp>=zplane-0.01) , (zrp<=zplane+0.01) ))[0]"
     ],
     "language": "python",
     "metadata": {},
     "outputs": [],
     "prompt_number": 46
    },
    {
     "cell_type": "heading",
     "level": 4,
     "metadata": {},
     "source": [
      "Allocation"
     ]
    },
    {
     "cell_type": "code",
     "collapsed": false,
     "input": [
      "# ----- allocate numpy data arrays --- #\n",
      "T = np.zeros([Nt,Nx,Ny,Nz])\n",
      "Tdot = np.zeros([Nx,Ny,Nz])\n",
      "kdiff = np.zeros([Nx,Ny,Nz])\n",
      "rhoCp = np.zeros([Nx,Ny,Nz])\n",
      "\n",
      "# ---- Create C++ mesh objects ---\n",
      "Tmesh = PBHEswig.mesh4d()\n",
      "Tdotmesh = PBHEswig.mesh34d();\n",
      "kmesh = PBHEswig.mesh3d();\n",
      "rhoCpmesh = PBHEswig.mesh3d();\n",
      "\n",
      "# ----- tie data arrays to mesh objects (to pass to C++) ---\n",
      "# the data in each mesh can now be accessed/manipulated from python via the arrays, 'T', 'Tdot', etc.\n",
      "PBHEswig.ShareMemoryMesh4(T, res, Tmesh)\n",
      "PBHEswig.ShareMemoryMesh34(Tdot, res, Tdotmesh)\n",
      "PBHEswig.ShareMemoryMesh3(kdiff, res[1:4], kmesh)\n",
      "PBHEswig.ShareMemoryMesh3(rhoCp, res[1:4], rhoCpmesh)"
     ],
     "language": "python",
     "metadata": {},
     "outputs": [],
     "prompt_number": 47
    },
    {
     "cell_type": "code",
     "collapsed": false,
     "input": [
      "CEM0 = np.zeros([Nx,Ny,Nz])\n",
      "CEM1 = np.zeros([Nx,Ny,Nz])\n",
      "Rbase = np.zeros([Nx,Ny,Nz])"
     ],
     "language": "python",
     "metadata": {},
     "outputs": [],
     "prompt_number": 48
    },
    {
     "cell_type": "code",
     "collapsed": false,
     "input": [
      "del Tmesh,Tdotmesh,kmesh,rhoCpmesh, T,Tdot,kdiff,rhoCp, CEM0, CEM1, Rbase"
     ],
     "language": "python",
     "metadata": {},
     "outputs": []
    },
    {
     "cell_type": "heading",
     "level": 4,
     "metadata": {},
     "source": [
      "Initialize space"
     ]
    },
    {
     "cell_type": "code",
     "collapsed": false,
     "input": [
      "#initial conditions\n",
      "rho=3700\n",
      "T[:] = 37.0\n",
      "Tdot[:] = 0;\n",
      "kdiff[:] = 0.5;\n",
      "rhoCp[:] = rho*1000;\n",
      "\n",
      "CEM0[:] =0\n",
      "CEM1[:] = 0\n",
      "\n",
      "perfRate = 0.01;\n",
      "\n",
      "alpha_acc = 0.5;\n",
      "\n",
      "totalTime = t[-1]\n",
      "nnt = Nt\n",
      "if totalTime < nnt*dt:\n",
      "    nnt = ceil(totalTime/dt)\n",
      "step = nnt*dt\n",
      "\n",
      "nacq = ceil(totalTime/step)\n",
      "\n",
      "try:\n",
      "    del CEM0vsTime, CEM1vsTime,Tmax0,Tmax1\n",
      "except NameError:\n",
      "   1\n",
      "\n",
      "CEM0vsTime=np.zeros([nacq,Nx,Ny,Nz])\n",
      "CEM1vsTime=np.zeros([nacq,Nx,Ny,Nz])\n",
      "\n",
      "Tmax0 = np.zeros([Nx,Ny,Nz])\n",
      "Tmax1 = np.zeros([Nx,Ny,Nz])"
     ],
     "language": "python",
     "metadata": {},
     "outputs": [],
     "prompt_number": 71
    },
    {
     "cell_type": "code",
     "collapsed": false,
     "input": [
      "step"
     ],
     "language": "python",
     "metadata": {},
     "outputs": [
      {
       "metadata": {},
       "output_type": "pyout",
       "prompt_number": 81,
       "text": [
        "0.6000000000000001"
       ]
      }
     ],
     "prompt_number": 81
    },
    {
     "cell_type": "heading",
     "level": 3,
     "metadata": {},
     "source": [
      "Acoustic fields"
     ]
    },
    {
     "cell_type": "code",
     "collapsed": false,
     "input": [
      "#single\n",
      "\n",
      "N = uxyz.shape[0]\n",
      "\n",
      "Ispta0 = 1.5e7;\n",
      "\n",
      "uamp0 = np.ones(N) / N\n",
      "\n",
      "P0 = sonalleve.calc_pressure_field(k0, geom.translate3vecs(uxyz, np.array([0, 0, 0 ]) ), uamp0, xrp, yrp, zrp)\n",
      "I0 = np.abs(P0)**2 / (2.0*rho*c0)\n",
      "\n",
      "powerRenorm = (Ispta0/np.max(I0))\n",
      "I0 *= powerRenorm\n",
      "\n",
      "#update uamp0\n",
      "uamp0 *= sqrt(powerRenorm)"
     ],
     "language": "python",
     "metadata": {},
     "outputs": [],
     "prompt_number": 56
    },
    {
     "cell_type": "code",
     "collapsed": false,
     "input": [
      "#triangle \n",
      "\n",
      "d=0.0025;\n",
      "h=d*sin(pi/3);\n",
      "\n",
      "triangle = geom.equilateral_tri(d)\n",
      "\n",
      "pxyz=triangle\n",
      "pxyz[:,2]=0.14\n",
      "p0 = 1e7*np.ones(len(pxyz));\n",
      "\n",
      "uamp1 = transducers.get_focused_element_vals(k0, uxyz, pxyz, p0 )\n",
      "#uamp1 = sqrt(powerRenorm)*uamp0\n",
      "uamp1 = sqrt(powerRenorm)*( uamp1  ) / sum(abs(uamp1))\n",
      "\n",
      "P1 = sonalleve.calc_pressure_field(k0, geom.translate3vecs(uxyz, np.array([0, 0, 0 ]) ), uamp1, xrp, yrp, zrp)\n",
      "I1reg = np.abs(P1)**2 / (2.0*rho*c0)"
     ],
     "language": "python",
     "metadata": {},
     "outputs": [],
     "prompt_number": 57
    },
    {
     "cell_type": "code",
     "collapsed": false,
     "input": [
      "# Execute with 'modifyPower=1' to make the multi-focus spots each correspond to a specfic intensity. \n",
      "# Otherwise the total input power will set to the same as in the single focus case, so multi-focal spots \n",
      "# will have lower intensity in each spot\n",
      "\n",
      "modifyPower=1\n",
      "\n",
      "if modifyPower:\n",
      "    Ispta1 = 1.2e7;\n",
      "    #Ispta1 = Ispta0\n",
      "    powerAdj1 = (Ispta1/np.max(I1reg))\n",
      "    uamp1adj = sqrt(powerAdj1)*( uamp1  ) \n",
      "else:\n",
      "    Ispta1 = np.max(I1reg)\n",
      "    powerAdj1=1;\n",
      "    \n",
      "\n",
      "I1 =powerAdj1*I1reg "
     ],
     "language": "python",
     "metadata": {},
     "outputs": []
    },
    {
     "cell_type": "code",
     "collapsed": false,
     "input": [],
     "language": "python",
     "metadata": {},
     "outputs": []
    }
   ],
   "metadata": {}
  }
 ]
}