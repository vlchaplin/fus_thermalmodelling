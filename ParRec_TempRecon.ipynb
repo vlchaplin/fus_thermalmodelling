{
 "cells": [
  {
   "cell_type": "code",
   "execution_count": 1,
   "metadata": {
    "collapsed": false
   },
   "outputs": [
    {
     "name": "stderr",
     "output_type": "stream",
     "text": [
      "C:\\Users\\Vandiver\\Anaconda3\\lib\\site-packages\\visvis\\processing\\calculateNormals.py:14: VisibleDeprecationWarning: using a non-integer number instead of an integer will result in an error in the future\n",
      "  faces = np.arange(N); faces.shape = len(v)/3,3\n"
     ]
    }
   ],
   "source": [
    "import sys\n",
    "import sqlite3 as sql\n",
    "import importlib\n",
    "\n",
    "from math import *;\n",
    "from os.path import basename;\n",
    "\n",
    "sys.path.append('C:\\\\Users\\\\vchaplin\\\\Documents\\\\HiFU\\\\code\\\\myPy')  \n",
    "sys.path.append('C:\\\\Users\\\\vchaplin\\\\Documents\\\\HiFU\\\\code\\\\AblationSims')\n",
    "sys.path.append('C:\\\\Users\\\\Vandiver\\\\Documents\\\\HiFU\\\\code\\\\BioHeatCpp\\\\PBHEswig\\\\x64')\n",
    "\n",
    "import numpy as np\n",
    "import geom\n",
    "import matplotlib.image as image\n",
    "import matplotlib.pyplot as plt\n",
    "import importlib\n",
    "import sonalleve \n",
    "import transducers\n",
    "\n",
    "import MRDataAnalysis\n",
    "#from matplotlib.mlab import griddata\n",
    "\n",
    "import matplotlib.transforms as mpl_trans\n",
    "\n",
    "import scipy.interpolate as snt\n",
    "import scipy.ndimage.filters as sflt\n",
    "from mpl_toolkits.mplot3d import Axes3D\n",
    "from matplotlib.ticker import LinearLocator, FormatStrFormatter\n",
    "\n",
    "import nibabel\n",
    "import visvis as vv\n",
    "#os.chdir('C:\\\\Users\\\\vchaplin\\\\Documents\\\\HiFU\\\\code\\\\AblationSims\\\\path_optimization\\\\')\n",
    "\n",
    "%matplotlib inline\n",
    "np.set_printoptions(precision=4, suppress=True, threshold=1300)\n",
    "\n",
    "plt.rc('font', family='sans-serif', size=20)"
   ]
  },
  {
   "cell_type": "code",
   "execution_count": null,
   "metadata": {
    "collapsed": false
   },
   "outputs": [],
   "source": [
    "importlib.reload(MRDataAnalysis)"
   ]
  },
  {
   "cell_type": "code",
   "execution_count": null,
   "metadata": {
    "collapsed": false
   },
   "outputs": [],
   "source": [
    "importlib.reload(transducers)"
   ]
  },
  {
   "cell_type": "code",
   "execution_count": 3,
   "metadata": {
    "collapsed": false
   },
   "outputs": [
    {
     "name": "stdout",
     "output_type": "stream",
     "text": [
      "RASsliceAxis =  1\n",
      "hifuAxisDimension =  1\n",
      "(160, 160, 15, 30)\n"
     ]
    }
   ],
   "source": [
    "file1=\"/Users/Vandiver/Data/sonalleve/HifuEggAg_20160211/scan10_TemperatureMappingCLEAR10_20160211.PAR\"\n",
    "#file2=\"/Users/Vandiver/Data/sonalleve/HifuEggAg_20160211/scan7_TemperatureMapping_20160217.PAR\"\n",
    "file1=\"/Users/Vandiver/Data/sonalleve/sonalleve_flow_041316/scan25_TempCor_20160413.PAR\" \n",
    "file1=\"/Users/Vandiver/Data/sonalleve/HifuVol_20160223B/scan4\"\n",
    "\n",
    "(tempdata1,complIm1,im1, dyntimes1)= MRDataAnalysis.read_TempScan(file1,MP_interleaved=True, phase_unwrap=1, pi_val=-0.2)\n",
    "#(tempdata2,complIm2,im2, dyntimes2)= MRDataAnalysis.read_TempScan(file2,MP_interleaved=True, phase_unwrap=1, pi_val=-0.2)\n",
    "\n",
    "aff1=im1.get_affine()\n",
    "invaff1=np.linalg.inv(aff1)\n",
    "\n",
    "RASsliceAxis=np.where( np.abs( np.abs( aff1.dot([0,0,1,1]  ) - aff1.dot([0,0,0,1]  ) )) > 0 )[0][0]\n",
    "\n",
    "hifuAxisDimension = np.where( np.abs( np.abs( invaff1.dot([0,0,0,1]  ) - invaff1.dot([0,1,0,1]  ) )) > 0 )[0][0]\n",
    "\n",
    "print(\"RASsliceAxis = \",RASsliceAxis)\n",
    "print(\"hifuAxisDimension = \",hifuAxisDimension)\n",
    "\n",
    "print(tempdata1.shape)\n",
    "(junk,junk,nslc1,ndyn1)=tempdata1.shape"
   ]
  },
  {
   "cell_type": "code",
   "execution_count": null,
   "metadata": {
    "collapsed": false
   },
   "outputs": [],
   "source": [
    "simToDataR = MRDataAnalysis.LPH_to_RAS().dot( MRDataAnalysis.Tpom_from_Orientation('Head First Supine') )\n",
    "\n",
    "uRAS,focus=sonalleve.get_sonalleve_xdc_vecs(R=simToDataR, ret_focus=True)\n",
    "unormalsRAS = sonalleve.get_sonalleve_xdc_normals(R=simToDataR)\n",
    "uRAS-=focus\n",
    "focus-=focus\n",
    "uRASmm=1000.0*uRAS"
   ]
  },
  {
   "cell_type": "code",
   "execution_count": 20,
   "metadata": {
    "collapsed": false
   },
   "outputs": [
    {
     "data": {
      "text/plain": [
       "<matplotlib.image.AxesImage at 0xeaecd30>"
      ]
     },
     "execution_count": 20,
     "metadata": {},
     "output_type": "execute_result"
    },
    {
     "data": {
      "image/png": "[encoded data removed]",
      "text/plain": [
       "<matplotlib.figure.Figure at 0xeab4908>"
      ]
     },
     "metadata": {},
     "output_type": "display_data"
    }
   ],
   "source": [
    "plt.figure(figsize=(10,10))\n",
    "plt.imshow( (tempdata1[:,:,2,30]), vmin=0,vmax=30, cmap=image.cm.hot,interpolation='None' )"
   ]
  },
  {
   "cell_type": "code",
   "execution_count": 7,
   "metadata": {
    "collapsed": false
   },
   "outputs": [
    {
     "data": {
      "text/plain": [
       "(1.776, 1.7759999999999998, 4.0, 0.024272)"
      ]
     },
     "execution_count": 7,
     "metadata": {},
     "output_type": "execute_result"
    }
   ],
   "source": [
    "im1.header.get_zooms()"
   ]
  },
  {
   "cell_type": "code",
   "execution_count": null,
   "metadata": {
    "collapsed": true
   },
   "outputs": [],
   "source": [
    "db = \"/Users/Vandiver/Data/sonalleve/sonalleve.db\"\n",
    "con = sql.connect(db)\n",
    "con.row_factory = sql.Row"
   ]
  },
  {
   "cell_type": "code",
   "execution_count": null,
   "metadata": {
    "collapsed": false
   },
   "outputs": [],
   "source": [
    "cur=con.execute(\"select * from data where file = ?\", [basename(file1)] )"
   ]
  },
  {
   "cell_type": "code",
   "execution_count": null,
   "metadata": {
    "collapsed": true
   },
   "outputs": [],
   "source": [
    "rw=cur.fetchone()"
   ]
  },
  {
   "cell_type": "code",
   "execution_count": null,
   "metadata": {
    "collapsed": false
   },
   "outputs": [],
   "source": [
    "v0a,v0b,v1a,v1b,v2a,v2b=rw['start0'],rw['end0'],rw['start1'],rw['end1'],rw['start2'],rw['end2']\n",
    "targetCenterVox_f=[(v0a+v0b)/2.0, (v1a+v1b)/2.0, (v2a+v2b)/2.0  ]\n",
    "targetCenterRASmm=aff1[0:3,0:3].dot(targetCenterVox_f) +aff1[0:3,3]\n",
    "\n",
    "u_RAS_offset = uRAS + targetCenterRASmm/1000.0"
   ]
  },
  {
   "cell_type": "code",
   "execution_count": null,
   "metadata": {
    "collapsed": true
   },
   "outputs": [],
   "source": [
    "#simpntsR = np.linspace(-20,20,80) \n",
    "simpntsR = targetCenterRASmm[0:1]\n",
    "simpntsA = np.linspace(-40,40,80) #HIFU axis negative direction\n",
    "#simpntsS = np.linspace(-20,20,80) \n",
    "simpntsS = targetCenterRASmm[2:3]"
   ]
  },
  {
   "cell_type": "code",
   "execution_count": null,
   "metadata": {
    "collapsed": false
   },
   "outputs": [],
   "source": [
    "NN = uRAS.shape[0]\n",
    "rho=1020.0\n",
    "c0=1540.0\n",
    "k0 = 2*pi*1.2e6/(c0)\n",
    "Prsim = transducers.calc_pressure_field_cuda(k0, u_RAS_offset, unormalsRAS, np.ones(NN)/NN,\n",
    "                                             simpntsR*1e-3,simpntsA*1e-3,simpntsS*1e-3, \n",
    "                                             subsampN=60, subsampDiam=0.0033, ROC=0.14 )"
   ]
  },
  {
   "cell_type": "code",
   "execution_count": null,
   "metadata": {
    "collapsed": true
   },
   "outputs": [],
   "source": [
    "\n",
    "Pr1d = transducers.calc_pressure_profile_cuda(k0, u_RAS_offset, unormalsRAS, np.ones(NN)/NN,\n",
    "                                             np.ones_like(simpntsA)*targetCenterRASmm[0]*1e-3,\n",
    "                                              simpntsA*1e-3,\n",
    "                                              np.ones_like(simpntsA)*targetCenterRASmm[2]*1e-3, \n",
    "                                             subsampN=60, subsampDiam=0.0033, ROC=0.14)"
   ]
  },
  {
   "cell_type": "code",
   "execution_count": null,
   "metadata": {
    "collapsed": true
   },
   "outputs": [],
   "source": [
    "resamp=np.linspace(-40,40,50)\n",
    "m00=imagemanip.calc_bin2bin_Filter(simpntsA, resamp,preserve_norm=True)\n",
    "Presamp=m00.dot(Pr1d[0:-1])"
   ]
  },
  {
   "cell_type": "code",
   "execution_count": null,
   "metadata": {
    "collapsed": false
   },
   "outputs": [],
   "source": [
    "resamp.shape"
   ]
  },
  {
   "cell_type": "code",
   "execution_count": null,
   "metadata": {
    "collapsed": false
   },
   "outputs": [],
   "source": [
    "plt.plot(simpntsA, np.abs(Pr1d),'-o' )\n",
    "plt.plot(resamp[0:-1]+0.5*(resamp[1]-resamp[0]), np.abs(Presamp),'-o' )"
   ]
  },
  {
   "cell_type": "code",
   "execution_count": null,
   "metadata": {
    "collapsed": false
   },
   "outputs": [],
   "source": [
    "fitVoxEdges0 = np.arange(v0a,v0b+2)\n",
    "fitVoxEdges1 = np.arange(v1a,v1b+2)\n",
    "fitVoxEdges2 = np.arange(v2a,v2b+2)\n",
    "\n",
    "fitVox0=fitVoxEdges0[0:-1]\n",
    "fitVox1=fitVoxEdges1[0:-1]\n",
    "fitVox2=fitVoxEdges2[0:-1]\n",
    "\n",
    "margin=[5,10,2]\n",
    "voxstep=[0.1,0.25,0.25]\n",
    "simVoxEdges0 = np.arange(v0a - margin[0], v0b+1.000+ margin[0], voxstep[0] )\n",
    "simVoxEdges1 = np.arange(v1a - margin[1], v1b+1.000+ margin[1], voxstep[1])\n",
    "simVoxEdges2 = np.arange(v2a - margin[2], v2b+1.000+ margin[2], voxstep[2])\n",
    "\n",
    "simVox0=simVoxEdges0[0:-1]\n",
    "simVox1=simVoxEdges1[0:-1]\n",
    "simVox2=simVoxEdges2[0:-1]\n",
    "\n",
    "simMesh0, simMesh1, simMesh2 = np.meshgrid(simVox0, simVox1, simVox2,indexing='ij')\n",
    "\n",
    "#image coordinates are rectilinear and the affine does not apply any deformation. thus applying the affine is the\n",
    "#same as a rotation and the \n",
    "simMeshR, simMeshA, simMeshS = geom.rotate_mesh_volume(aff1[0:3,0:3], simMesh0, simMesh1, simMesh2, translate=aff1[0:3,3])\n",
    "\n"
   ]
  },
  {
   "cell_type": "code",
   "execution_count": null,
   "metadata": {
    "collapsed": false
   },
   "outputs": [],
   "source": [
    "simMeshR.shape"
   ]
  },
  {
   "cell_type": "code",
   "execution_count": null,
   "metadata": {
    "collapsed": true
   },
   "outputs": [],
   "source": [
    "np.tensordot()"
   ]
  },
  {
   "cell_type": "code",
   "execution_count": null,
   "metadata": {
    "collapsed": true
   },
   "outputs": [],
   "source": [
    "Psim3d = transducers.calc_pressure_mesh3D_cuda(k0, u_RAS_offset, unormalsRAS, np.ones(NN)/NN,\n",
    "                                             simMeshR*1e-3,simMeshA*1e-3,simMeshS*1e-3, \n",
    "                                             subsampN=10, subsampDiam=0.0033, ROC=0.14 )"
   ]
  },
  {
   "cell_type": "code",
   "execution_count": null,
   "metadata": {
    "collapsed": false
   },
   "outputs": [],
   "source": [
    "plt.imshow(np.abs(Psim3d[:,:,15])**2, interpolation='none')"
   ]
  },
  {
   "cell_type": "code",
   "execution_count": null,
   "metadata": {
    "collapsed": false
   },
   "outputs": [],
   "source": [
    "aff1[0:3,0:3].dot(centerVox_f) +aff1[0:3,3]"
   ]
  },
  {
   "cell_type": "code",
   "execution_count": null,
   "metadata": {
    "collapsed": false
   },
   "outputs": [],
   "source": [
    "tempdata1[v0a:v0b+1, v1a:v1b+1, v2a:v2b+1, 5].shape"
   ]
  },
  {
   "cell_type": "code",
   "execution_count": null,
   "metadata": {
    "collapsed": false
   },
   "outputs": [],
   "source": [
    "tuple(map(lambda x: [x], range(4-1,-1,-1) ) )"
   ]
  },
  {
   "cell_type": "code",
   "execution_count": null,
   "metadata": {
    "collapsed": false
   },
   "outputs": [],
   "source": [
    "importlib.reload(imagemanip)"
   ]
  },
  {
   "cell_type": "code",
   "execution_count": null,
   "metadata": {
    "collapsed": false
   },
   "outputs": [],
   "source": [
    "import imagemanip"
   ]
  },
  {
   "cell_type": "code",
   "execution_count": null,
   "metadata": {
    "collapsed": true
   },
   "outputs": [],
   "source": [
    "fitVox0=np.arange(65.0,71.0,1.0)\n",
    "simVox0=np.arange(65.0,73.0,0.5)"
   ]
  },
  {
   "cell_type": "code",
   "execution_count": null,
   "metadata": {
    "collapsed": false
   },
   "outputs": [],
   "source": [
    "f00=imagemanip.calc_bin2bin_Filter(fitVoxEdges0, simVoxEdges0)"
   ]
  },
  {
   "cell_type": "code",
   "execution_count": null,
   "metadata": {
    "collapsed": false
   },
   "outputs": [],
   "source": [
    "if00=imagemanip.calc_bin2bin_Filter(simVoxEdges0, fitVoxEdges0)"
   ]
  },
  {
   "cell_type": "code",
   "execution_count": null,
   "metadata": {
    "collapsed": false
   },
   "outputs": [],
   "source": [
    "if00.shape"
   ]
  },
  {
   "cell_type": "code",
   "execution_count": null,
   "metadata": {
    "collapsed": false
   },
   "outputs": [],
   "source": [
    "fitVox0"
   ]
  },
  {
   "cell_type": "code",
   "execution_count": null,
   "metadata": {
    "collapsed": false
   },
   "outputs": [],
   "source": [
    "simVox0"
   ]
  },
  {
   "cell_type": "code",
   "execution_count": null,
   "metadata": {
    "collapsed": false
   },
   "outputs": [],
   "source": [
    "if00.dot(f00)"
   ]
  },
  {
   "cell_type": "code",
   "execution_count": null,
   "metadata": {
    "collapsed": false
   },
   "outputs": [],
   "source": [
    "if00.dot(tt) - tempdata1[v0a:v0b+1,v1a,v2a,5] "
   ]
  },
  {
   "cell_type": "code",
   "execution_count": null,
   "metadata": {
    "collapsed": false
   },
   "outputs": [],
   "source": [
    "tt=f00.dot( tempdata1[v0a:v0b+1,v1a,v2a,5] )"
   ]
  },
  {
   "cell_type": "code",
   "execution_count": null,
   "metadata": {
    "collapsed": false
   },
   "outputs": [],
   "source": [
    "np.sum(tempdata1[v0a:v0b+1,v1a,v2a,5]) - np.sum(tt)"
   ]
  },
  {
   "cell_type": "code",
   "execution_count": null,
   "metadata": {
    "collapsed": false
   },
   "outputs": [],
   "source": [
    "fitVox0.shape"
   ]
  },
  {
   "cell_type": "code",
   "execution_count": null,
   "metadata": {
    "collapsed": false
   },
   "outputs": [],
   "source": [
    "plt.plot( simVox0, tt,'.-' )\n",
    "plt.plot( fitVox0, if00.dot(tt),'.-' )"
   ]
  },
  {
   "cell_type": "code",
   "execution_count": null,
   "metadata": {
    "collapsed": false
   },
   "outputs": [],
   "source": [
    "plt.plot( fitVox0, tempdata1[v0a:v0b+1,v1a,v2a,5] )\n",
    "plt.plot( simVox0, tt )"
   ]
  },
  {
   "cell_type": "code",
   "execution_count": null,
   "metadata": {
    "collapsed": false
   },
   "outputs": [],
   "source": [
    "fitVox0"
   ]
  },
  {
   "cell_type": "code",
   "execution_count": null,
   "metadata": {
    "collapsed": true
   },
   "outputs": [],
   "source": [
    "def trapezoidal(x,xvalues, fvalues,xa=None, dx=None):\n",
    "    if dx is None:\n",
    "        dx = xvalues[1:]-xvalues[0:-1]\n",
    "    if xa is None or xa <= xvalues[0]:\n",
    "        xa=xvalues[0]\n",
    "        bina=0\n",
    "        \n",
    "        if x < xa:\n",
    "            return 0.0\n",
    "    elif x < xa:\n",
    "        return 0.0\n",
    "    else:\n",
    "        bina = np.where(np.logical_and(xa>=xvalues[0:-1], xa<xvalues[1:]) )[0][0]\n",
    "        \n",
    "    integral=0.0    \n",
    "    \n",
    "    if x >= xvalues[-1]:\n",
    "        binb = len(xvalues)-1\n",
    "    else:   \n",
    "        binb = np.where(np.logical_and(x>=xvalues[0:-1], x<xvalues[1:]) )[0][0]\n",
    "        \n",
    "        xs = (x - xvalues[binb])\n",
    "        xss= xs*(x + xvalues[binb])\n",
    "        \n",
    "        integral += xss*(fvalues[binb+1] - fvalues[binb]) / dx[binb]  + fvalues[binb]*xs\n",
    "    \n",
    "    \n",
    "    xs = (xvalues[bina+1] - xa)\n",
    "    xss= (xvalues[bina+1] + xa)*xs\n",
    "\n",
    "    integral += xss*(fvalues[bina+1] - fvalues[bina]) / dx[bina]  + fvalues[bina]*xs\n",
    "    \n",
    "    for b in range(bina+1,binb,1):\n",
    "        integral += (fvalues[b]+fvalues[b+1]) * dx[b]/2 .0\n",
    "    \n",
    "    \n",
    "    \n",
    "    return integral\n",
    "    "
   ]
  },
  {
   "cell_type": "code",
   "execution_count": 248,
   "metadata": {
    "collapsed": false
   },
   "outputs": [],
   "source": [
    "X=np.arange(50.0, 90.0, 1.)\n",
    "#X=np.arange(65, 76, 1.)\n",
    "xa=X\n",
    "xb=X.copy()\n",
    "xb[0:-1]=xa[1:]-xa[0:-1]\n",
    "xb[-1]=xb[-2]"
   ]
  },
  {
   "cell_type": "code",
   "execution_count": 249,
   "metadata": {
    "collapsed": false
   },
   "outputs": [
    {
     "data": {
      "text/plain": [
       "array([ 50.,  51.,  52.,  53.,  54.,  55.,  56.,  57.,  58.,  59.,  60.,\n",
       "        61.,  62.,  63.,  64.,  65.,  66.,  67.,  68.,  69.,  70.,  71.,\n",
       "        72.,  73.,  74.,  75.,  76.,  77.,  78.,  79.,  80.,  81.,  82.,\n",
       "        83.,  84.,  85.,  86.,  87.,  88.,  89.])"
      ]
     },
     "execution_count": 249,
     "metadata": {},
     "output_type": "execute_result"
    }
   ],
   "source": [
    "FX = 0.001*(X-65)**3 - 0.03*(X-65)**2 + 10\n",
    "X"
   ]
  },
  {
   "cell_type": "code",
   "execution_count": 250,
   "metadata": {
    "collapsed": true
   },
   "outputs": [],
   "source": [
    "step=0.3\n",
    "Y = np.arange(50.0, 90.0, step)+0.0\n",
    "dY = np.ones_like(Y)*step"
   ]
  },
  {
   "cell_type": "code",
   "execution_count": 251,
   "metadata": {
    "collapsed": false
   },
   "outputs": [
    {
     "data": {
      "text/plain": [
       "array([ 50. ,  50.3,  50.6,  50.9,  51.2,  51.5,  51.8,  52.1,  52.4,\n",
       "        52.7,  53. ,  53.3,  53.6,  53.9,  54.2,  54.5,  54.8,  55.1,\n",
       "        55.4,  55.7,  56. ,  56.3,  56.6,  56.9,  57.2,  57.5,  57.8,\n",
       "        58.1,  58.4,  58.7,  59. ,  59.3,  59.6,  59.9,  60.2,  60.5,\n",
       "        60.8,  61.1,  61.4,  61.7,  62. ,  62.3,  62.6,  62.9,  63.2,\n",
       "        63.5,  63.8,  64.1,  64.4,  64.7,  65. ,  65.3,  65.6,  65.9,\n",
       "        66.2,  66.5,  66.8,  67.1,  67.4,  67.7,  68. ,  68.3,  68.6,\n",
       "        68.9,  69.2,  69.5,  69.8,  70.1,  70.4,  70.7,  71. ,  71.3,\n",
       "        71.6,  71.9,  72.2,  72.5,  72.8,  73.1,  73.4,  73.7,  74. ,\n",
       "        74.3,  74.6,  74.9,  75.2,  75.5,  75.8,  76.1,  76.4,  76.7,\n",
       "        77. ,  77.3,  77.6,  77.9,  78.2,  78.5,  78.8,  79.1,  79.4,\n",
       "        79.7,  80. ,  80.3,  80.6,  80.9,  81.2,  81.5,  81.8,  82.1,\n",
       "        82.4,  82.7,  83. ,  83.3,  83.6,  83.9,  84.2,  84.5,  84.8,\n",
       "        85.1,  85.4,  85.7,  86. ,  86.3,  86.6,  86.9,  87.2,  87.5,\n",
       "        87.8,  88.1,  88.4,  88.7,  89. ,  89.3,  89.6,  89.9])"
      ]
     },
     "execution_count": 251,
     "metadata": {},
     "output_type": "execute_result"
    }
   ],
   "source": [
    "Y"
   ]
  },
  {
   "cell_type": "code",
   "execution_count": 262,
   "metadata": {
    "collapsed": false
   },
   "outputs": [
    {
     "name": "stdout",
     "output_type": "stream",
     "text": [
      " 6:  (0, 0)\n",
      " 3:  (1, 0)\n",
      " 3:  (2, 0)\n",
      " 5:  (3, 0)\n",
      " 6:  (3, 1)\n",
      " 3:  (4, 1)\n",
      " 3:  (5, 1)\n",
      " 3:  (6, 1)\n",
      " 5:  (7, 1)\n",
      " 6:  (7, 2)\n",
      " 3:  (8, 2)\n",
      " 3:  (9, 2)\n",
      " 5:  (10, 2)\n",
      " 6:  (10, 3)\n",
      " 3:  (11, 3)\n",
      " 3:  (12, 3)\n",
      " 5:  (13, 3)\n",
      " 6:  (13, 4)\n",
      " 3:  (14, 4)\n",
      " 3:  (15, 4)\n",
      " 3:  (16, 4)\n",
      " 5:  (17, 4)\n",
      " 6:  (17, 5)\n",
      " 3:  (18, 5)\n",
      " 3:  (19, 5)\n",
      " 5:  (20, 5)\n",
      " 6:  (20, 6)\n",
      " 3:  (21, 6)\n",
      " 3:  (22, 6)\n",
      " 5:  (23, 6)\n",
      " 6:  (23, 7)\n",
      " 3:  (24, 7)\n",
      " 3:  (25, 7)\n",
      " 3:  (26, 7)\n",
      " 5:  (27, 7)\n",
      " 6:  (27, 8)\n",
      " 3:  (28, 8)\n",
      " 3:  (29, 8)\n",
      " 5:  (30, 8)\n",
      " 6:  (30, 9)\n",
      " 3:  (31, 9)\n",
      " 3:  (32, 9)\n",
      " 5:  (33, 9)\n",
      " 6:  (33, 10)\n",
      " 3:  (34, 10)\n",
      " 3:  (35, 10)\n",
      " 3:  (36, 10)\n",
      " 5:  (37, 10)\n",
      " 6:  (37, 11)\n",
      " 3:  (38, 11)\n",
      " 3:  (39, 11)\n",
      " 5:  (40, 11)\n",
      " 6:  (40, 12)\n",
      " 3:  (41, 12)\n",
      " 3:  (42, 12)\n",
      " 5:  (43, 12)\n",
      " 6:  (43, 13)\n",
      " 3:  (44, 13)\n",
      " 3:  (45, 13)\n",
      " 3:  (46, 13)\n",
      " 5:  (47, 13)\n",
      " 6:  (47, 14)\n",
      " 3:  (48, 14)\n",
      " 3:  (49, 14)\n",
      " 5:  (50, 14)\n",
      " 6:  (50, 15)\n",
      " 3:  (51, 15)\n",
      " 3:  (52, 15)\n",
      " 5:  (53, 15)\n",
      " 6:  (53, 16)\n",
      " 3:  (54, 16)\n",
      " 3:  (55, 16)\n",
      " 3:  (56, 16)\n",
      " 5:  (57, 16)\n",
      " 6:  (57, 17)\n",
      " 3:  (58, 17)\n",
      " 3:  (59, 17)\n",
      " 5:  (60, 17)\n",
      " 6:  (60, 18)\n",
      " 3:  (61, 18)\n",
      " 3:  (62, 18)\n",
      " 5:  (63, 18)\n",
      " 6:  (63, 19)\n",
      " 3:  (64, 19)\n",
      " 3:  (65, 19)\n",
      " 3:  (66, 19)\n",
      " 5:  (67, 19)\n",
      " 6:  (67, 20)\n",
      " 3:  (68, 20)\n",
      " 3:  (69, 20)\n",
      " 5:  (70, 20)\n",
      " 6:  (70, 21)\n",
      " 3:  (71, 21)\n",
      " 3:  (72, 21)\n",
      " 5:  (73, 21)\n",
      " 6:  (73, 22)\n",
      " 3:  (74, 22)\n",
      " 3:  (75, 22)\n",
      " 3:  (76, 22)\n",
      " 5:  (77, 22)\n",
      " 6:  (77, 23)\n",
      " 3:  (78, 23)\n",
      " 3:  (79, 23)\n",
      " 5:  (80, 23)\n",
      " 6:  (80, 24)\n",
      " 3:  (81, 24)\n",
      " 3:  (82, 24)\n",
      " 5:  (83, 24)\n",
      " 6:  (83, 25)\n",
      " 3:  (84, 25)\n",
      " 3:  (85, 25)\n",
      " 3:  (86, 25)\n",
      " 5:  (87, 25)\n",
      " 6:  (87, 26)\n",
      " 3:  (88, 26)\n",
      " 3:  (89, 26)\n",
      " 5:  (90, 26)\n",
      " 6:  (90, 27)\n",
      " 3:  (91, 27)\n",
      " 3:  (92, 27)\n",
      " 5:  (93, 27)\n",
      " 6:  (93, 28)\n",
      " 3:  (94, 28)\n",
      " 3:  (95, 28)\n",
      " 3:  (96, 28)\n",
      " 5:  (97, 28)\n",
      " 6:  (97, 29)\n",
      " 3:  (98, 29)\n",
      " 3:  (99, 29)\n",
      " 5:  (100, 29)\n",
      " 6:  (100, 30)\n",
      " 3:  (101, 30)\n",
      " 3:  (102, 30)\n",
      " 5:  (103, 30)\n",
      " 6:  (103, 31)\n",
      " 3:  (104, 31)\n",
      " 3:  (105, 31)\n",
      " 3:  (106, 31)\n",
      " 5:  (107, 31)\n",
      " 6:  (107, 32)\n",
      " 3:  (108, 32)\n",
      " 3:  (109, 32)\n",
      " 5:  (110, 32)\n",
      " 6:  (110, 33)\n",
      " 3:  (111, 33)\n",
      " 3:  (112, 33)\n",
      " 5:  (113, 33)\n",
      " 6:  (113, 34)\n",
      " 3:  (114, 34)\n",
      " 3:  (115, 34)\n",
      " 3:  (116, 34)\n",
      " 5:  (117, 34)\n",
      " 6:  (117, 35)\n",
      " 3:  (118, 35)\n",
      " 3:  (119, 35)\n",
      " 5:  (120, 35)\n",
      " 6:  (120, 36)\n",
      " 3:  (121, 36)\n",
      " 3:  (122, 36)\n",
      " 5:  (123, 36)\n",
      " 6:  (123, 37)\n",
      " 3:  (124, 37)\n",
      " 3:  (125, 37)\n",
      " 3:  (126, 37)\n",
      " 5:  (127, 37)\n",
      " 6:  (127, 38)\n",
      " 3:  (128, 38)\n",
      " 3:  (129, 38)\n",
      " 5:  (130, 38)\n",
      " 6:  (130, 39)\n",
      " 3:  (131, 39)\n",
      " 3:  (132, 39)\n",
      " 5:  (133, 39)\n"
     ]
    }
   ],
   "source": [
    "A=get_averaging_op(X,Y,dY)"
   ]
  },
  {
   "cell_type": "code",
   "execution_count": 263,
   "metadata": {
    "collapsed": false
   },
   "outputs": [],
   "source": [
    "aF = A.dot(FX)"
   ]
  },
  {
   "cell_type": "code",
   "execution_count": 264,
   "metadata": {
    "collapsed": false
   },
   "outputs": [
    {
     "data": {
      "text/plain": [
       "(134, 40)"
      ]
     },
     "execution_count": 264,
     "metadata": {},
     "output_type": "execute_result"
    }
   ],
   "source": [
    "A.shape"
   ]
  },
  {
   "cell_type": "code",
   "execution_count": 265,
   "metadata": {
    "collapsed": false
   },
   "outputs": [
    {
     "data": {
      "text/plain": [
       "[<matplotlib.lines.Line2D at 0x115c5358>]"
      ]
     },
     "execution_count": 265,
     "metadata": {},
     "output_type": "execute_result"
    },
    {
     "data": {
      "image/png": "[encoded data removed]",
      "text/plain": [
       "<matplotlib.figure.Figure at 0x114c0978>"
      ]
     },
     "metadata": {},
     "output_type": "display_data"
    }
   ],
   "source": [
    "plt.figure(figsize=(10,10))\n",
    "plt.plot(X,FX,'o-')\n",
    "plt.plot(Y,aF,'o-')"
   ]
  },
  {
   "cell_type": "code",
   "execution_count": 261,
   "metadata": {
    "collapsed": false
   },
   "outputs": [],
   "source": [
    "def get_averaging_op( X, Y, dY, xbelow=0.0, xabove=0.0, mode='center' ):\n",
    "    \n",
    "    xa=X\n",
    "    xb=X.copy()\n",
    "    xb[0:-1]=xa[1:]\n",
    "    xb[-1]=xb[-2] + xa[-2] - xa[-3]\n",
    "    dX=xb-xa\n",
    "        \n",
    "    if mode == 'start':\n",
    "        ya = Y\n",
    "        yb = Y + dY\n",
    "    elif mode == 'center':\n",
    "        ya = Y - 0.5*dY\n",
    "        yb = Y + 0.5*dY\n",
    "    else:\n",
    "        raise ValueError('Unknown mode= given')\n",
    "    \n",
    "        \n",
    "    \n",
    "    N = len(X)\n",
    "    M = len(Y)\n",
    "    A = np.zeros([M,N])\n",
    "    \n",
    "    m=0\n",
    "    n=0\n",
    "\n",
    "    while(m<M and n<N):\n",
    "        \n",
    "        #X:   a    b\n",
    "        #     |    |\n",
    "        #  | |\n",
    "        #Y:a b \n",
    "        if xa[n] >= yb[m]:\n",
    "            print(\" 1: \",(m,n))\n",
    "            m+=1\n",
    "            continue\n",
    "        #X: a    b\n",
    "        #   |    |\n",
    "        #         | |\n",
    "        #Y:       a b \n",
    "        if ya[m] >= xb[n]:\n",
    "            print(\" 2: \",(m,n))\n",
    "            n+=1\n",
    "            continue \n",
    "        \n",
    "        #case(3)\n",
    "        #X: a      b\n",
    "        #   | ---- |\n",
    "        #     |  |\n",
    "        #Y:   a  b\n",
    "        if ya[m] > xa[n] and yb[m] < xb[n]:\n",
    "            print(\" 3: \",(m,n))\n",
    "            SY = (ya[m] + yb[m] - 2*xa[n])/(2.0*dX[n])\n",
    "            if n < (N-2):\n",
    "                A[m,n] += (1.0 - SY) /dY[m]\n",
    "                A[m,n+1] += SY /dY[m]\n",
    "            m += 1\n",
    "            continue\n",
    "    \n",
    "        #X:   a    b\n",
    "        #     |----|\n",
    "        #   |       |\n",
    "        #Y: a       b \n",
    "        if ya[m] <= xa[n] and yb[m] >= xb[n]:\n",
    "            print(\" 4: \",(m,n))\n",
    "            A[m,n] += 1.0/2.0\n",
    "            if n < (N-2):\n",
    "                A[m,n+1] += 1.0/2.0\n",
    "                    \n",
    "            n+=1            \n",
    "            continue\n",
    "            \n",
    "        #X: a     b\n",
    "        #   |  ---|\n",
    "        #      |    |\n",
    "        #Y:    a    b \n",
    "        if ya[m] <= xb[n] and yb[m] >= xb[n]:\n",
    "            print(\" 5: \",(m,n))\n",
    "                \n",
    "            xr = xb[n] - ya[m]\n",
    "            u = (xb[n] + ya[m] - 2*xa[n])/(2*dX[n])\n",
    "            if n < (N-2):\n",
    "                A[m,n]   += (1 - u)*xr/dY[m]\n",
    "                A[m,n+1]   += u*xr/dY[m] \n",
    "                \n",
    "            n+=1\n",
    "            continue\n",
    "\n",
    "        #X:   a     b\n",
    "        #      |--  |\n",
    "        #   |    |\n",
    "        #Y: a    b \n",
    "        if ya[m] <= xa[n] and yb[m] >= xa[n]:\n",
    "            print(\" 6: \",(m,n)) \n",
    "\n",
    "            xr = yb[m] - xa[n]\n",
    "            \n",
    "            if n < (N-2):\n",
    "                A[m,n]  += xr*(1.0 - xr/(2*dX[n])) /dY[m]\n",
    "                A[m,n+1]+= xr*xr/dY[m]\n",
    "\n",
    "            m+=1\n",
    "            continue\n",
    "            \n",
    "        \n",
    "        print(\"none\",(m,n))\n",
    "    \n",
    "    return A\n",
    "    "
   ]
  },
  {
   "cell_type": "code",
   "execution_count": 171,
   "metadata": {
    "collapsed": false
   },
   "outputs": [
    {
     "data": {
      "text/plain": [
       "(60.0, 61.0, 60.975000000000001, 61.225000000000001)"
      ]
     },
     "execution_count": 171,
     "metadata": {},
     "output_type": "execute_result"
    }
   ],
   "source": [
    "xa[0], xb[0], ya[4], yb[4]"
   ]
  },
  {
   "cell_type": "code",
   "execution_count": 187,
   "metadata": {
    "collapsed": false
   },
   "outputs": [
    {
     "data": {
      "text/plain": [
       "(61.0, 62.0, 60.975000000000001, 61.225000000000001)"
      ]
     },
     "execution_count": 187,
     "metadata": {},
     "output_type": "execute_result"
    }
   ],
   "source": [
    "m=4\n",
    "n=1\n",
    "xr = xb[n] - ya[m]\n",
    "u = (xb[n] + ya[m] - 2*xa[n])/(2*dX[n])\n",
    "xa[n], xb[n], ya[m], yb[m]"
   ]
  },
  {
   "cell_type": "code",
   "execution_count": 175,
   "metadata": {
    "collapsed": false
   },
   "outputs": [
    {
     "data": {
      "text/plain": [
       "0.0003125000000000533"
      ]
     },
     "execution_count": 175,
     "metadata": {},
     "output_type": "execute_result"
    }
   ],
   "source": [
    "(1 - u)*xr"
   ]
  },
  {
   "cell_type": "code",
   "execution_count": 169,
   "metadata": {
    "collapsed": false
   },
   "outputs": [],
   "source": [
    "xa=X\n",
    "xb=X.copy()\n",
    "xb[0:-1]=xa[1:]\n",
    "xb[-1]=xb[-2] + xa[-2] - xa[-3]\n",
    "dX=xb-xa\n",
    "\n",
    "ya = Y - 0.5*dY\n",
    "yb = Y + 0.5*dY\n",
    "\n"
   ]
  },
  {
   "cell_type": "code",
   "execution_count": 10,
   "metadata": {
    "collapsed": false
   },
   "outputs": [
    {
     "data": {
      "text/plain": [
       "65.149999999999991"
      ]
     },
     "execution_count": 10,
     "metadata": {},
     "output_type": "execute_result"
    }
   ],
   "source": [
    "ya[m]"
   ]
  },
  {
   "cell_type": "code",
   "execution_count": 11,
   "metadata": {
    "collapsed": false
   },
   "outputs": [
    {
     "data": {
      "text/plain": [
       "array([ 64. ,  66.3,  68.6,  70.9,  73.2,  75.5,  77.8])"
      ]
     },
     "execution_count": 11,
     "metadata": {},
     "output_type": "execute_result"
    }
   ],
   "source": [
    "Y"
   ]
  },
  {
   "cell_type": "code",
   "execution_count": 14,
   "metadata": {
    "collapsed": false
   },
   "outputs": [
    {
     "data": {
      "text/plain": [
       "(65.0, 66.0)"
      ]
     },
     "execution_count": 14,
     "metadata": {},
     "output_type": "execute_result"
    }
   ],
   "source": [
    "xa[n], xb[n]"
   ]
  },
  {
   "cell_type": "code",
   "execution_count": 69,
   "metadata": {
    "collapsed": false
   },
   "outputs": [
    {
     "data": {
      "text/plain": [
       "(54.849999999999987, 58.149999999999984)"
      ]
     },
     "execution_count": 69,
     "metadata": {},
     "output_type": "execute_result"
    }
   ],
   "source": [
    "ya[5], yb[5]"
   ]
  },
  {
   "cell_type": "code",
   "execution_count": null,
   "metadata": {
    "collapsed": true
   },
   "outputs": [],
   "source": []
  }
 ],
 "metadata": {
  "kernelspec": {
   "display_name": "Python [default]",
   "language": "python",
   "name": "python3"
  },
  "language_info": {
   "codemirror_mode": {
    "name": "ipython",
    "version": 3
   },
   "file_extension": ".py",
   "mimetype": "text/x-python",
   "name": "python",
   "nbconvert_exporter": "python",
   "pygments_lexer": "ipython3",
   "version": "3.5.2"
  }
 },
 "nbformat": 4,
 "nbformat_minor": 0
}
