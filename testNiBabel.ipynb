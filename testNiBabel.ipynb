{
 "cells": [
  {
   "cell_type": "code",
   "execution_count": 515,
   "metadata": {
    "collapsed": false
   },
   "outputs": [],
   "source": [
    "import sys\n",
    "\n",
    "from math import *;\n",
    "\n",
    "sys.path.append('C:\\\\Users\\\\vchaplin\\\\Documents\\\\HiFU\\\\code\\\\myPy')  \n",
    "sys.path.append('C:\\\\Users\\\\vchaplin\\\\Documents\\\\HiFU\\\\code\\\\AblationSims')\n",
    "sys.path.append('C:\\\\Users\\\\Vandiver\\\\Documents\\\\HiFU\\\\code\\\\BioHeatCpp\\\\PBHEswig\\\\x64')\n",
    "\n",
    "import numpy as np\n",
    "import geom\n",
    "import matplotlib.image as image\n",
    "import matplotlib.pyplot as plt\n",
    "import importlib\n",
    "#from matplotlib.mlab import griddata\n",
    "\n",
    "import scipy.interpolate as snt\n",
    "\n",
    "from mpl_toolkits.mplot3d import Axes3D\n",
    "from matplotlib.ticker import LinearLocator, FormatStrFormatter\n",
    "\n",
    "import nibabel\n",
    "import visvis as vv\n",
    "#os.chdir('C:\\\\Users\\\\vchaplin\\\\Documents\\\\HiFU\\\\code\\\\AblationSims\\\\path_optimization\\\\')\n",
    "\n",
    "%matplotlib inline\n",
    "np.set_printoptions(precision=4, suppress=True)\n"
   ]
  },
  {
   "cell_type": "code",
   "execution_count": 285,
   "metadata": {
    "collapsed": false
   },
   "outputs": [
    {
     "data": {
      "text/plain": [
       "<module 'geom' from 'C:\\\\Users\\\\vchaplin\\\\Documents\\\\HiFU\\\\code\\\\myPy\\\\geom.py'>"
      ]
     },
     "execution_count": 285,
     "metadata": {},
     "output_type": "execute_result"
    }
   ],
   "source": [
    "importlib.reload(geom)"
   ]
  },
  {
   "cell_type": "code",
   "execution_count": 351,
   "metadata": {
    "collapsed": false
   },
   "outputs": [],
   "source": [
    "t2wfile=parfil=\"C:\\\\Users\\\\Vandiver\\\\Data\\\\sonalleve\\\\HifuEggAg_20160211\\\\Caskey_20160211_WIP_T2w_TE40_CLEAR_21_1.PAR\"\n",
    "t2wObj=nibabel.load(t2wfile,scaling='fp')\n",
    "t2wData=t2wObj.get_data()\n",
    "\n",
    "t2wvox0=np.arange(0,t2wData.shape[0])\n",
    "t2wvox1=np.arange(0,t2wData.shape[1])\n",
    "t2wvox2=np.arange(0,t2wData.shape[2])\n",
    "\n",
    "t2waffine = t2wObj.get_affine()\n",
    "\n",
    "vtX, vtY = np.meshgrid(t2wvox0, t2wvox1,indexing='ij')\n"
   ]
  },
  {
   "cell_type": "code",
   "execution_count": 119,
   "metadata": {
    "collapsed": true
   },
   "outputs": [],
   "source": [
    "new_nii_filename = t2wfile[0:-4] + 'bestaff.nii'\n",
    "\n",
    "#imgObj.get_affine()\n",
    "\n",
    "scaleddata = t2wData * 30.0 / np.max(t2wData)\n",
    "new_img = nibabel.Nifti1Image(scaleddata,t2wObj.header.get_best_affine() )\n",
    "new_img.set_data_dtype(np.float32)\n",
    "nibabel.save(new_img,new_nii_filename)"
   ]
  },
  {
   "cell_type": "code",
   "execution_count": 275,
   "metadata": {
    "collapsed": false
   },
   "outputs": [
    {
     "data": {
      "text/plain": [
       "array([[ -0.676,   0.   ,   0.   ,  91.898],\n",
       "       [  0.   ,   0.   ,  -1.3  ,  13.752],\n",
       "       [  0.   ,  -0.676,   0.   ,  90.443],\n",
       "       [  0.   ,   0.   ,   0.   ,   1.   ]])"
      ]
     },
     "execution_count": 275,
     "metadata": {},
     "output_type": "execute_result"
    }
   ],
   "source": [
    "t2wObj.get_affine()"
   ]
  },
  {
   "cell_type": "code",
   "execution_count": 786,
   "metadata": {
    "collapsed": false
   },
   "outputs": [
    {
     "data": {
      "text/plain": [
       "(144, 144, 8, 40)"
      ]
     },
     "execution_count": 786,
     "metadata": {},
     "output_type": "execute_result"
    }
   ],
   "source": [
    "parfil=\"C:\\\\Users\\\\Vandiver\\\\Data\\\\sonalleve\\\\HifuEggAg_20160211\\\\Caskey_20160211_WIP_Tmap_SingleFocStatic_40W_CLEAR_18_1.PAR\"\n",
    "#parfil=\"C:\\\\Users\\\\Vandiver\\\\Data\\\\sonalleve\\\\HifuEggAg_20160211\\\\Caskey_20160211_WIP_Temp_MultiTrajA_60W_CLEAR_15_1.PAR\"\n",
    "#parfil=\"C:\\\\Users\\\\Vandiver\\\\Data\\\\sonalleve\\\\HifuEggAg_20160211\\\\Caskey_20160211_WIP_TemperatureMapping_CLEAR_10_1.PAR\"\n",
    "\n",
    "imgObj=nibabel.load(parfil,scaling='fp')\n",
    "imgData=imgObj.get_data()\n",
    "\n",
    "header=imgObj.get_header()\n",
    "numdyns = header.general_info['max_dynamics']\n",
    "\n",
    "#Only Mag & Phase (M,P) images saved\n",
    "complexImgSeries = imgData[:,:,:,0:numdyns]* np.exp(1j * imgData[:,:,:,numdyns:])\n",
    "\n",
    "TE_ms = 16\n",
    "B0_T = 3.0\n",
    "ang2temp = 1.0 / (42.576*0.01*B0_T*TE_ms*1e-3*pi)\n",
    "\n",
    "tempSeries = np.zeros(complexImgSeries.shape)\n",
    "for dn in range(0,numdyns):\n",
    "    tempSeries[:,:,:,dn] = np.angle( complexImgSeries[:,:,:,0] * np.conj(complexImgSeries[:,:,:,dn]) )\n",
    "    \n",
    "#orig=tempSeries[72,70,7,:].copy()\n",
    "#phase correct\n",
    "for dn in range(1,numdyns):\n",
    "    mask= (tempSeries[:,:,:,dn] - tempSeries[:,:,:,dn-1]) < (-1.*pi)\n",
    "    tempSeries[mask,dn] += 2*pi\n",
    "    \n",
    "    #mask= (tempSeries[:,:,:,dn] - tempSeries[:,:,:,dn-1]) < (-pi)\n",
    "    #tempSeries[mask,dn] += pi\n",
    "\n",
    "#for dn in range(1,numdyns):\n",
    "#    mask= (tempSeries[:,:,:,dn] - tempSeries[:,:,:,dn-1]) < (-1.8*pi)\n",
    "#    tempSeries[mask,dn] += 2*pi    \n",
    "\n",
    "tempSeries*=ang2temp\n",
    "    \n",
    "nnM,nnP,nnS,nd=tempSeries.shape\n",
    "tempSeries.shape"
   ]
  },
  {
   "cell_type": "code",
   "execution_count": 419,
   "metadata": {
    "collapsed": false
   },
   "outputs": [
    {
     "data": {
      "text/plain": [
       "3.1415926535897931"
      ]
     },
     "execution_count": 419,
     "metadata": {},
     "output_type": "execute_result"
    }
   ],
   "source": [
    "np.angle( np.exp(pi*1j) )"
   ]
  },
  {
   "cell_type": "code",
   "execution_count": 509,
   "metadata": {
    "collapsed": false
   },
   "outputs": [
    {
     "data": {
      "text/plain": [
       "array([ 0.    ,  0.0138,  0.0215,  0.0368,  0.1105,  0.3406,  0.5785,\n",
       "        0.7994,  1.0372,  1.4147,  1.5896,  1.8734,  2.1174,  2.3384,\n",
       "        2.5654,  2.6498,  2.9015,  2.9229, -3.1147, -2.9352, -2.9199,\n",
       "       -2.8539, -2.7388, -2.6207, -2.7373, -2.5056, -2.8554, -2.9229,\n",
       "       -2.8478, -2.857 ,  3.0181,  2.659 , -2.056 , -1.944 , -2.053 ,\n",
       "       -2.2033, -2.3629, -2.4212, -2.5977, -2.6161])"
      ]
     },
     "execution_count": 509,
     "metadata": {},
     "output_type": "execute_result"
    }
   ],
   "source": [
    "orig"
   ]
  },
  {
   "cell_type": "code",
   "execution_count": 791,
   "metadata": {
    "collapsed": false
   },
   "outputs": [
    {
     "data": {
      "text/plain": [
       "[<matplotlib.lines.Line2D at 0x280770b8>]"
      ]
     },
     "execution_count": 791,
     "metadata": {},
     "output_type": "execute_result"
    },
    {
     "data": {
      "image/png": "[encoded data removed]",
      "text/plain": [
       "<matplotlib.figure.Figure at 0x280772b0>"
      ]
     },
     "metadata": {},
     "output_type": "display_data"
    }
   ],
   "source": [
    "#plt.plot(orig)\n",
    "plt.plot(tempSeries[73,72,6,:] / ang2temp,'o')\n",
    "plt.plot(tempSeries[72,70,5,:] / ang2temp)"
   ]
  },
  {
   "cell_type": "code",
   "execution_count": 763,
   "metadata": {
    "collapsed": false
   },
   "outputs": [
    {
     "data": {
      "text/plain": [
       "-5.5835197963930758"
      ]
     },
     "execution_count": 763,
     "metadata": {},
     "output_type": "execute_result"
    }
   ],
   "source": [
    "(tempSeries[73,72,6,9] - tempSeries[73,72,6,8])/  ang2temp"
   ]
  },
  {
   "cell_type": "code",
   "execution_count": 765,
   "metadata": {
    "collapsed": false
   },
   "outputs": [
    {
     "data": {
      "text/plain": [
       "4.71238898038469"
      ]
     },
     "execution_count": 765,
     "metadata": {},
     "output_type": "execute_result"
    }
   ],
   "source": [
    "1.5*pi"
   ]
  },
  {
   "cell_type": "code",
   "execution_count": 789,
   "metadata": {
    "collapsed": false
   },
   "outputs": [
    {
     "data": {
      "text/plain": [
       "<matplotlib.image.AxesImage at 0x27ffd208>"
      ]
     },
     "execution_count": 789,
     "metadata": {},
     "output_type": "execute_result"
    },
    {
     "data": {
      "image/png": "[encoded data removed]",
      "text/plain": [
       "<matplotlib.figure.Figure at 0x27fa09e8>"
      ]
     },
     "metadata": {},
     "output_type": "display_data"
    }
   ],
   "source": [
    "plt.figure(figsize=(20,10))\n",
    "plt.imshow(tempSeries[60:80,:,6,30], vmin=0 ,vmax=60,interpolation='None' )"
   ]
  },
  {
   "cell_type": "code",
   "execution_count": 286,
   "metadata": {
    "collapsed": false
   },
   "outputs": [
    {
     "data": {
      "text/plain": [
       "array([[  -1.519 ,    0.    ,    0.    ,  102.0925],\n",
       "       [   0.    ,    0.    ,   -3.    ,   20.178 ],\n",
       "       [   0.    ,   -1.519 ,    0.    ,  101.8195],\n",
       "       [   0.    ,    0.    ,    0.    ,    1.    ]])"
      ]
     },
     "execution_count": 286,
     "metadata": {},
     "output_type": "execute_result"
    }
   ],
   "source": [
    "imgObj.header.get_affine()"
   ]
  },
  {
   "cell_type": "code",
   "execution_count": 106,
   "metadata": {
    "collapsed": false
   },
   "outputs": [
    {
     "data": {
      "text/plain": [
       "array([[  -1.519 ,    0.    ,    0.    ,  108.6085],\n",
       "       [   0.    ,    1.519 ,    0.    , -108.6085],\n",
       "       [   0.    ,    0.    ,    3.    ,  -10.5   ],\n",
       "       [   0.    ,    0.    ,    0.    ,    1.    ]])"
      ]
     },
     "execution_count": 106,
     "metadata": {},
     "output_type": "execute_result"
    }
   ],
   "source": [
    "imgObj.header.get_best_affine()"
   ]
  },
  {
   "cell_type": "code",
   "execution_count": 581,
   "metadata": {
    "collapsed": false
   },
   "outputs": [],
   "source": [
    "def rescaleIm(inArray,newmin=0.0,newmax=1.0,vmin=None,vmax=None,trunc=False):\n",
    "    \"\"\"\n",
    "    Rescale input array values to the range [newmin, newmax]\n",
    "    Keywords & defaults: newmin=0.0, newmin=1.0\n",
    "        vmin=  The value in input array that will be mapped to newmin. Default=min(inArray)\n",
    "        vmax=  The value in input array that will be mapped to newmax. Default=max(inArray)\n",
    "        trunc=  If true, truncate the output range. Values less than newmin will be set to newmin. Likewise for newmax.\n",
    "    \"\"\"\n",
    "    oldmin = np.min(inArray)\n",
    "    oldmax = np.max(inArray)\n",
    "    \n",
    "    if vmin is None:\n",
    "        vmin = oldmin\n",
    "    if vmax is None:\n",
    "        vmax = oldmax\n",
    "        \n",
    "    newim = (inArray - vmin)*(newmax - newmin) / (vmax - vmin) + newmin\n",
    "    \n",
    "    if trunc:\n",
    "        newim[newim < newmin] = newmin\n",
    "        newim[newim > newmax] = newmax\n",
    "        \n",
    "    return newim\n",
    "    "
   ]
  },
  {
   "cell_type": "code",
   "execution_count": null,
   "metadata": {
    "collapsed": false,
    "scrolled": true
   },
   "outputs": [],
   "source": [
    "fig = plt.figure(figsize=(8,8))\n",
    "ax = fig.gca(projection='3d')\n",
    "X = np.linspace(0., nnM, nnM)\n",
    "Y = np.linspace(0., nnP, nnP)\n",
    "Z = [0.0]\n",
    "\n",
    "zi=4\n",
    "\n",
    "Rmat=geom.getRotZYZarray(45,45,0)\n",
    "\n",
    "mX, mY = np.meshgrid(X, Y)\n",
    "\n",
    "rX,rY,rZ=geom.rotate_mesh_volume(Rotmat,mX,mY,Z)\n",
    "\n",
    "\n",
    "scaledIm = rescaleIm(tempSeries[:,:,zi,-1], llt=0.0,ult=30)\n",
    "\n",
    "coloring = image.cm.hot( scaledIm )\n",
    "surf = ax.plot_surface(rX, rY, rZ, rstride=1, cstride=1, facecolors=coloring, \n",
    "                       linewidth=0, antialiased=False)\n",
    "\n",
    "ax.elev=80\n",
    "ax.azi=0\n",
    "#ax.set_zlim(-1.01, 1.01)\n",
    "#ax.zaxis.set_major_locator(LinearLocator(10))\n",
    "#ax.zaxis.set_major_formatter(FormatStrFormatter('%.02f'))"
   ]
  },
  {
   "cell_type": "code",
   "execution_count": 110,
   "metadata": {
    "collapsed": false
   },
   "outputs": [],
   "source": [
    "new_nii_filename = parfil[0:-4] + 'bestaff_.nii'\n",
    "\n",
    "#imgObj.get_affine()\n",
    "new_img = nibabel.Nifti1Image(tempSeries[:,:,:,-1], imgObj.header.get_base_affine() )\n",
    "new_img.set_data_dtype(np.float32)\n",
    "nibabel.save(new_img,new_nii_filename)"
   ]
  },
  {
   "cell_type": "code",
   "execution_count": null,
   "metadata": {
    "collapsed": true
   },
   "outputs": [],
   "source": [
    "griddata()"
   ]
  },
  {
   "cell_type": "code",
   "execution_count": 352,
   "metadata": {
    "collapsed": false
   },
   "outputs": [
    {
     "data": {
      "text/plain": [
       "(288, 288, 20)"
      ]
     },
     "execution_count": 352,
     "metadata": {},
     "output_type": "execute_result"
    }
   ],
   "source": [
    "t2wData.shape"
   ]
  },
  {
   "cell_type": "code",
   "execution_count": 321,
   "metadata": {
    "collapsed": false
   },
   "outputs": [
    {
     "data": {
      "text/plain": [
       "(144, 144, 15, 60)"
      ]
     },
     "execution_count": 321,
     "metadata": {},
     "output_type": "execute_result"
    }
   ],
   "source": [
    "tempSeries.shape"
   ]
  },
  {
   "cell_type": "code",
   "execution_count": 656,
   "metadata": {
    "collapsed": false,
    "scrolled": true
   },
   "outputs": [
    {
     "name": "stderr",
     "output_type": "stream",
     "text": [
      "C:\\Users\\Vandiver\\Anaconda3\\lib\\site-packages\\visvis\\processing\\calculateNormals.py:71: RuntimeWarning: invalid value encountered in true_divide\n",
      "  normals[:,0] /= lengths\n",
      "C:\\Users\\Vandiver\\Anaconda3\\lib\\site-packages\\visvis\\processing\\calculateNormals.py:72: RuntimeWarning: invalid value encountered in true_divide\n",
      "  normals[:,1] /= lengths\n",
      "C:\\Users\\Vandiver\\Anaconda3\\lib\\site-packages\\visvis\\processing\\calculateNormals.py:73: RuntimeWarning: invalid value encountered in true_divide\n",
      "  normals[:,2] /= lengths\n"
     ]
    }
   ],
   "source": [
    "dyn=30\n",
    "\n",
    "\n",
    "vox0 = np.linspace(0., nnM, nnM)\n",
    "vox1 = np.linspace(0., nnP, nnP)\n",
    "vmX, vmY = np.meshgrid(vox0, vox1,indexing='ij')\n",
    "\n",
    "Taffine=imgObj.header.get_affine()\n",
    "\n",
    "a=vv.gca()\n",
    "a.light0.ambient=1.0\n",
    "a.light0.diffuse=1.0\n",
    "for zi in [4]:\n",
    "    vox2 = [zi]\n",
    "\n",
    "    rX,rY,rZ=geom.rotate_mesh_volume(Taffine[:3, :3], vmX, vmY, vox2, translate=Taffine[:3, 3])\n",
    "    \n",
    "    Tslice = tempSeries[:,:,zi,dyn]\n",
    "    \n",
    "    scaledIm = rescaleIm(Tslice, vmin=0,vmax=30,trunc=True)\n",
    "    #scaledIm = rescaleIm(imgData[:,:,zi,dyn])\n",
    "    \n",
    "    rgbaIm = image.cm.hot(scaledIm)\n",
    "    \n",
    "\n",
    "    m = vv.surf(rX,rY,rZ, rgbaIm )\n",
    "    #m.colormap=vv.CM_HOT\n",
    "    m.ambient=1.0\n",
    "    m.diffuse=0.0\n",
    "    #m.faceShading='flat'\n",
    "\n",
    "t2slice=9    \n",
    "tX,tY,tZ=geom.rotate_mesh_volume(t2waffine[:3, :3], vtX, vtY, t2slice, translate=t2waffine[:3, 3])\n",
    "\n",
    "tsrf = vv.surf(tX,tY,tZ, rescaleIm(t2wData[:,:,t2slice]) )\n",
    "tsrf.colormap=vv.CM_GRAY\n",
    "tsrf.ambient=1.0\n",
    "#tsrf.edgeShading=None\n",
    "#tsrf.faceShading='flat'\n",
    "\n",
    "\n",
    "app=vv.use()\n",
    "app.Run()"
   ]
  },
  {
   "cell_type": "code",
   "execution_count": 288,
   "metadata": {
    "collapsed": false
   },
   "outputs": [],
   "source": [
    "scaledIm = rescaleIm(tempSeries[:,:,zi,-1], llt=0.0,ult=30,trunc=True)\n",
    "m = vv.surf(rX,rY,rZ, scaledIm)\n",
    "m.colormap=vv.CM_HOT\n",
    "m.ambient=1.0\n",
    "\n",
    "vv.use()\n",
    "app.Run()"
   ]
  },
  {
   "cell_type": "code",
   "execution_count": 690,
   "metadata": {
    "collapsed": true
   },
   "outputs": [],
   "source": [
    "t2inds0 = np.arange(100,180)\n",
    "t2inds1 = np.arange(100,180)\n",
    "t2inds2 = np.arange(0,t2wData.shape[2])\n",
    "t2VolSegment = t2wData[np.ix_(t2inds0, t2inds1, t2inds2)]\n",
    "vt0, vt1,vt2 = np.meshgrid( t2inds0.astype(np.float), t2inds1.astype(np.float), t2inds2.astype(np.float),indexing='ij')"
   ]
  },
  {
   "cell_type": "code",
   "execution_count": 691,
   "metadata": {
    "collapsed": true
   },
   "outputs": [],
   "source": [
    "t2rasX,t2rasY,t2rasZ=geom.rotate_mesh_volume(t2waffine[:3, :3], vt0, vt1, vt2, translate=t2waffine[:3, 3])\n",
    "locationsIn = np.transpose( np.array([t2rasX.flatten(), t2rasY.flatten(), t2rasZ.flatten()]) )"
   ]
  },
  {
   "cell_type": "code",
   "execution_count": 687,
   "metadata": {
    "collapsed": true
   },
   "outputs": [],
   "source": [
    "#locationsIn = np.zeros([np.product(t2rasX.shape),3] )\n",
    "#locationsIn[:,0] = t2rasX.flatten()\n",
    "#locationsIn[:,1] = t2rasY.flatten()\n",
    "#locationsIn[:,2] = t2rasZ.flatten()"
   ]
  },
  {
   "cell_type": "code",
   "execution_count": 665,
   "metadata": {
    "collapsed": false
   },
   "outputs": [
    {
     "data": {
      "text/plain": [
       "(32000, 3)"
      ]
     },
     "execution_count": 665,
     "metadata": {},
     "output_type": "execute_result"
    }
   ],
   "source": [
    "locationsIn.shape"
   ]
  },
  {
   "cell_type": "code",
   "execution_count": 703,
   "metadata": {
    "collapsed": false
   },
   "outputs": [],
   "source": [
    "#temperature map segment\n",
    "vox0 = np.arange(50, 90)\n",
    "vox1 = np.arange(50, 90)\n",
    "#vox2 = [8]\n",
    "\n",
    "#vox0 = np.arange(0, nnM)\n",
    "#vox1 = np.arange(0, nnP)\n",
    "vox2 = np.arange(0, nnS)\n",
    "\n",
    "vm0, vm1, vm2 = np.meshgrid( vox0.astype(np.float), vox1.astype(np.float), vox2.astype(np.float),indexing='ij')\n",
    "\n",
    "Taffine=imgObj.header.get_affine()\n",
    "vrX,vrY,vrZ=geom.rotate_mesh_volume(Taffine[:3, :3], vm0, vm1, vm2, translate=Taffine[:3, 3])\n",
    "\n",
    "dyn=30\n",
    "Tsegment = np.squeeze( tempSeries[np.ix_(vox0,vox1,vox2,[dyn])] )\n"
   ]
  },
  {
   "cell_type": "code",
   "execution_count": 818,
   "metadata": {
    "collapsed": true
   },
   "outputs": [],
   "source": [
    "dyn=28\n",
    "Tsegment = np.squeeze( tempSeries[np.ix_(vox0,vox1,vox2,[dyn])] )"
   ]
  },
  {
   "cell_type": "code",
   "execution_count": null,
   "metadata": {
    "collapsed": true
   },
   "outputs": [],
   "source": [
    "temppoints = np.transpose( np.array([vrX.flatten(), vrY.flatten(), vrZ.flatten()]) )"
   ]
  },
  {
   "cell_type": "code",
   "execution_count": 700,
   "metadata": {
    "collapsed": false
   },
   "outputs": [
    {
     "data": {
      "text/plain": [
       "(40, 40, 8)"
      ]
     },
     "execution_count": 700,
     "metadata": {},
     "output_type": "execute_result"
    }
   ],
   "source": [
    "vrX.shape"
   ]
  },
  {
   "cell_type": "code",
   "execution_count": 701,
   "metadata": {
    "collapsed": false
   },
   "outputs": [],
   "source": [
    "interpT2onTemp = snt.griddata(locationsIn, t2VolSegment.flatten(), (vrX,vrY,vrZ), fill_value=np.min(t2VolSegment[:,:,9]), method='linear' )"
   ]
  },
  {
   "cell_type": "code",
   "execution_count": null,
   "metadata": {
    "collapsed": true
   },
   "outputs": [],
   "source": [
    "interpTempOnT2 = snt.griddata(temppoints, Tsegment.flatten(), (t2rasX,t2rasY,t2rasZ), fill_value=0), method='linear' )"
   ]
  },
  {
   "cell_type": "code",
   "execution_count": 664,
   "metadata": {
    "collapsed": false
   },
   "outputs": [
    {
     "data": {
      "text/plain": [
       "(20736, 3)"
      ]
     },
     "execution_count": 664,
     "metadata": {},
     "output_type": "execute_result"
    }
   ],
   "source": [
    "np.transpose( np.array([vrX.flatten(), vrY.flatten(), vrZ.flatten()]) ).shape"
   ]
  },
  {
   "cell_type": "code",
   "execution_count": 550,
   "metadata": {
    "collapsed": false
   },
   "outputs": [
    {
     "data": {
      "text/plain": [
       "15953278.984858744"
      ]
     },
     "execution_count": 550,
     "metadata": {},
     "output_type": "execute_result"
    }
   ],
   "source": [
    "np.max(interpT)"
   ]
  },
  {
   "cell_type": "code",
   "execution_count": 574,
   "metadata": {
    "collapsed": false
   },
   "outputs": [
    {
     "data": {
      "text/plain": [
       "memmap(0.0)"
      ]
     },
     "execution_count": 574,
     "metadata": {},
     "output_type": "execute_result"
    }
   ],
   "source": [
    "np.min(t2VolSegment)"
   ]
  },
  {
   "cell_type": "code",
   "execution_count": 551,
   "metadata": {
    "collapsed": false
   },
   "outputs": [
    {
     "data": {
      "text/plain": [
       "(144, 144)"
      ]
     },
     "execution_count": 551,
     "metadata": {},
     "output_type": "execute_result"
    }
   ],
   "source": [
    "interpT.shape"
   ]
  },
  {
   "cell_type": "code",
   "execution_count": 624,
   "metadata": {
    "collapsed": false
   },
   "outputs": [
    {
     "data": {
      "text/plain": [
       "<matplotlib.contour.QuadContourSet at 0x178aafd0>"
      ]
     },
     "execution_count": 624,
     "metadata": {},
     "output_type": "execute_result"
    },
    {
     "data": {
      "image/png": "[encoded data removed]",
      "text/plain": [
       "<matplotlib.figure.Figure at 0x178aaf28>"
      ]
     },
     "metadata": {},
     "output_type": "display_data"
    }
   ],
   "source": [
    "plt.imshow( np.squeeze( tempSeries[np.ix_(vox0,vox1,vox2,[6])] )  )\n",
    "plt.contour(np.squeeze( tempSeries[np.ix_(vox0,vox1,vox2,[6])] ))"
   ]
  },
  {
   "cell_type": "code",
   "execution_count": 576,
   "metadata": {
    "collapsed": false
   },
   "outputs": [
    {
     "data": {
      "text/plain": [
       "memmap(6355838.957797748)"
      ]
     },
     "execution_count": 576,
     "metadata": {},
     "output_type": "execute_result"
    }
   ],
   "source": [
    "np.min(t2VolSegment[:,:,9])"
   ]
  },
  {
   "cell_type": "code",
   "execution_count": 704,
   "metadata": {
    "collapsed": false
   },
   "outputs": [
    {
     "data": {
      "text/plain": [
       "(40, 40, 8)"
      ]
     },
     "execution_count": 704,
     "metadata": {},
     "output_type": "execute_result"
    }
   ],
   "source": [
    "Tsegment.shape"
   ]
  },
  {
   "cell_type": "code",
   "execution_count": 710,
   "metadata": {
    "collapsed": false
   },
   "outputs": [
    {
     "data": {
      "text/plain": [
       "array([  0.,  10.,  20.,  30.,  40.,  50.,  60.])"
      ]
     },
     "execution_count": 710,
     "metadata": {},
     "output_type": "execute_result"
    }
   ],
   "source": [
    "np.arange(0,60.001,10)"
   ]
  },
  {
   "cell_type": "code",
   "execution_count": 820,
   "metadata": {
    "collapsed": false
   },
   "outputs": [
    {
     "data": {
      "text/plain": [
       "<matplotlib.contour.QuadContourSet at 0x2eb0bb00>"
      ]
     },
     "execution_count": 820,
     "metadata": {},
     "output_type": "execute_result"
    },
    {
     "data": {
      "image/png": "[encoded data removed]",
      "text/plain": [
       "<matplotlib.figure.Figure at 0x2eb54ef0>"
      ]
     },
     "metadata": {},
     "output_type": "display_data"
    }
   ],
   "source": [
    "zi=6\n",
    "plt.figure(figsize=(8,8))\n",
    "plt.imshow( interpT2onTemp[:,:,zi], cmap=image.cm.gray, interpolation='none' )\n",
    "plt.contour(Tsegment[:,:,zi], np.arange(0,60.001,5), cmap=image.cm.hot)\n",
    "#plt.imshow(np.squeeze( tempSeries[np.ix_(vox0,vox1,vox2,[6])] ), vmin=0,vmax=30, cmap=image.cm.hot,interpolation='none')\n",
    "#plt.colorbar()"
   ]
  },
  {
   "cell_type": "code",
   "execution_count": 698,
   "metadata": {
    "collapsed": false
   },
   "outputs": [],
   "source": [
    "t2scmin=np.min(t2VolSegment[:,:,9])\n",
    "t2scmax=np.max(t2VolSegment)\n",
    "\n",
    "tsrf = vv.surf(t2rasX[:,:,9],t2rasY[:,:,9],t2rasZ[:,:,9], rescaleIm(t2VolSegment[:,:,9],vmin=t2scmin,vmax=t2scmax) )\n",
    "tsrf.colormap=vv.CM_GRAY\n",
    "\n",
    "\n",
    "tsrf = vv.surf(t2rasX[:,:,1],t2rasY[:,:,1],t2rasZ[:,:,1], rescaleIm(t2VolSegment[:,:,1],vmin=t2scmin,vmax=t2scmax) )\n",
    "tsrf.colormap=vv.CM_GRAY\n",
    "\n",
    "tsrf = vv.surf(vrX[:,:,6],vrY[:,:,6],vrZ[:,:,6], rescaleIm(interpT2onTemp[:,:,6],vmin=t2scmin,vmax=t2scmax) )\n",
    "tsrf.colormap=vv.CM_GRAY\n",
    "#tsrf.edgeColor\n",
    "\n",
    "app=vv.use()\n",
    "app.Run()"
   ]
  },
  {
   "cell_type": "code",
   "execution_count": 554,
   "metadata": {
    "collapsed": false
   },
   "outputs": [],
   "source": [
    "scaledIm = rescaleIm(tempSeries[:,:,zi,dyn],newmin=0,newmax=1, llt=0.0,ult=30,trunc=True)\n",
    "rgbaIm = image.cm.hot(scaledIm)\n",
    "m = vv.surf(rX,rY,rZ, rgbaIm)\n"
   ]
  },
  {
   "cell_type": "code",
   "execution_count": 385,
   "metadata": {
    "collapsed": false
   },
   "outputs": [
    {
     "data": {
      "text/plain": [
       "(144, 144, 4)"
      ]
     },
     "execution_count": 385,
     "metadata": {},
     "output_type": "execute_result"
    }
   ],
   "source": [
    "image.cm.hot(scaledIm).shape"
   ]
  },
  {
   "cell_type": "code",
   "execution_count": 58,
   "metadata": {
    "collapsed": false
   },
   "outputs": [],
   "source": [
    "newImObj=nibabel.load(new_nii_filename)"
   ]
  },
  {
   "cell_type": "code",
   "execution_count": 61,
   "metadata": {
    "collapsed": false
   },
   "outputs": [],
   "source": [
    "newImData=newImObj.get_data()"
   ]
  },
  {
   "cell_type": "code",
   "execution_count": 62,
   "metadata": {
    "collapsed": false
   },
   "outputs": [
    {
     "data": {
      "text/plain": [
       "<matplotlib.image.AxesImage at 0x1056e668>"
      ]
     },
     "execution_count": 62,
     "metadata": {},
     "output_type": "execute_result"
    },
    {
     "data": {
      "image/png": "[encoded data removed]",
      "text/plain": [
       "<matplotlib.figure.Figure at 0xff044a8>"
      ]
     },
     "metadata": {},
     "output_type": "display_data"
    }
   ],
   "source": [
    "plt.imshow(imgData[:,:,4,24])"
   ]
  },
  {
   "cell_type": "code",
   "execution_count": 1,
   "metadata": {
    "collapsed": true
   },
   "outputs": [],
   "source": [
    "import sqlite3 as sql"
   ]
  },
  {
   "cell_type": "code",
   "execution_count": 2,
   "metadata": {
    "collapsed": true
   },
   "outputs": [],
   "source": [
    "db = \"C:\\\\Users\\\\Vandiver\\\\Data\\\\simulations\\\\AblationSims.db\""
   ]
  },
  {
   "cell_type": "code",
   "execution_count": 3,
   "metadata": {
    "collapsed": true
   },
   "outputs": [],
   "source": [
    "con = sql.connect(db)"
   ]
  },
  {
   "cell_type": "code",
   "execution_count": 4,
   "metadata": {
    "collapsed": false
   },
   "outputs": [
    {
     "data": {
      "text/plain": [
       "<sqlite3.Connection at 0x6ed5c70>"
      ]
     },
     "execution_count": 4,
     "metadata": {},
     "output_type": "execute_result"
    }
   ],
   "source": [
    "con"
   ]
  },
  {
   "cell_type": "code",
   "execution_count": 7,
   "metadata": {
    "collapsed": false
   },
   "outputs": [],
   "source": [
    "cur = con.cursor()"
   ]
  },
  {
   "cell_type": "code",
   "execution_count": 8,
   "metadata": {
    "collapsed": false
   },
   "outputs": [
    {
     "data": {
      "text/plain": [
       "<sqlite3.Cursor at 0x6eea730>"
      ]
     },
     "execution_count": 8,
     "metadata": {},
     "output_type": "execute_result"
    }
   ],
   "source": [
    "cur"
   ]
  },
  {
   "cell_type": "code",
   "execution_count": null,
   "metadata": {
    "collapsed": true
   },
   "outputs": [],
   "source": [
    "cur.execute(\"insert into grid\")"
   ]
  },
  {
   "cell_type": "code",
   "execution_count": 9,
   "metadata": {
    "collapsed": true
   },
   "outputs": [],
   "source": [
    "meta = cur.execute(\"PRAGMA table_info('grid')\")"
   ]
  },
  {
   "cell_type": "code",
   "execution_count": 10,
   "metadata": {
    "collapsed": false
   },
   "outputs": [
    {
     "data": {
      "text/plain": [
       "<sqlite3.Cursor at 0x6eea730>"
      ]
     },
     "execution_count": 10,
     "metadata": {},
     "output_type": "execute_result"
    }
   ],
   "source": [
    "meta"
   ]
  },
  {
   "cell_type": "code",
   "execution_count": 11,
   "metadata": {
    "collapsed": false
   },
   "outputs": [
    {
     "name": "stdout",
     "output_type": "stream",
     "text": [
      "(0, 'gridid', 'INTEGER', 0, None, 1)\n",
      "(1, 'Nx', 'INTEGER', 0, None, 0)\n",
      "(2, 'Ny', 'INTEGER', 0, None, 0)\n",
      "(3, 'Nz', 'INTEGER', 0, None, 0)\n",
      "(4, 'xw', 'REAL', 0, None, 0)\n",
      "(5, 'yw', 'REAL', 0, None, 0)\n",
      "(6, 'zw', 'REAL', 0, None, 0)\n",
      "(7, 'xc', 'REAL', 0, '0.0', 0)\n",
      "(8, 'yc', 'REAL', 0, '0.0', 0)\n",
      "(9, 'z0', 'REAL', 0, '11.0', 0)\n"
     ]
    }
   ],
   "source": [
    "for r in meta:\n",
    "    print(r)"
   ]
  },
  {
   "cell_type": "code",
   "execution_count": null,
   "metadata": {
    "collapsed": true
   },
   "outputs": [],
   "source": []
  }
 ],
 "metadata": {
  "kernelspec": {
   "display_name": "Python 3",
   "language": "python",
   "name": "python3"
  },
  "language_info": {
   "codemirror_mode": {
    "name": "ipython",
    "version": 3
   },
   "file_extension": ".py",
   "mimetype": "text/x-python",
   "name": "python",
   "nbconvert_exporter": "python",
   "pygments_lexer": "ipython3",
   "version": "3.4.4"
  }
 },
 "nbformat": 4,
 "nbformat_minor": 0
}
